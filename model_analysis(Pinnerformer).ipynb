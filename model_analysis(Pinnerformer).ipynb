{
 "cells": [
  {
   "cell_type": "code",
   "execution_count": 0,
   "metadata": {
    "application/vnd.databricks.v1+cell": {
     "cellMetadata": {
      "byteLimit": 2048000,
      "rowLimit": 10000
     },
     "inputWidgets": {},
     "nuid": "416640e1-2352-455b-90fc-f591ec9b639d",
     "showTitle": false,
     "tableResultSettingsMap": {},
     "title": ""
    }
   },
   "outputs": [
    {
     "output_type": "stream",
     "name": "stdout",
     "output_type": "stream",
     "text": [
      "\u001B[43mNote: you may need to restart the kernel using dbutils.library.restartPython() to use updated packages.\u001B[0m\nRequirement already satisfied: lightning in /local_disk0/.ephemeral_nfs/cluster_libraries/python/lib/python3.10/site-packages (2.2.1)\nRequirement already satisfied: numpy<3.0,>=1.17.2 in /local_disk0/.ephemeral_nfs/cluster_libraries/python/lib/python3.10/site-packages (from lightning) (1.26.4)\nRequirement already satisfied: torch<4.0,>=1.13.0 in /local_disk0/.ephemeral_nfs/cluster_libraries/python/lib/python3.10/site-packages (from lightning) (2.6.0)\nRequirement already satisfied: packaging<25.0,>=20.0 in /databricks/python3/lib/python3.10/site-packages (from lightning) (23.2)\nRequirement already satisfied: PyYAML<8.0,>=5.4 in /databricks/python3/lib/python3.10/site-packages (from lightning) (6.0)\nRequirement already satisfied: lightning-utilities<2.0,>=0.8.0 in /local_disk0/.ephemeral_nfs/cluster_libraries/python/lib/python3.10/site-packages (from lightning) (0.14.0)\nRequirement already satisfied: fsspec[http]<2025.0,>=2022.5.0 in /local_disk0/.ephemeral_nfs/cluster_libraries/python/lib/python3.10/site-packages (from lightning) (2024.3.1)\nRequirement already satisfied: torchmetrics<3.0,>=0.7.0 in /local_disk0/.ephemeral_nfs/cluster_libraries/python/lib/python3.10/site-packages (from lightning) (1.6.2)\nRequirement already satisfied: tqdm<6.0,>=4.57.0 in /databricks/python3/lib/python3.10/site-packages (from lightning) (4.64.1)\nRequirement already satisfied: pytorch-lightning in /local_disk0/.ephemeral_nfs/cluster_libraries/python/lib/python3.10/site-packages (from lightning) (2.5.0.post0)\nRequirement already satisfied: typing-extensions<6.0,>=4.4.0 in /local_disk0/.ephemeral_nfs/cluster_libraries/python/lib/python3.10/site-packages (from lightning) (4.12.2)\nRequirement already satisfied: aiohttp!=4.0.0a0,!=4.0.0a1 in /databricks/python3/lib/python3.10/site-packages (from fsspec[http]<2025.0,>=2022.5.0->lightning) (3.9.1)\nRequirement already satisfied: setuptools in /databricks/python3/lib/python3.10/site-packages (from lightning-utilities<2.0,>=0.8.0->lightning) (65.6.3)\nRequirement already satisfied: nvidia-cusolver-cu12==11.6.1.9 in /local_disk0/.ephemeral_nfs/cluster_libraries/python/lib/python3.10/site-packages (from torch<4.0,>=1.13.0->lightning) (11.6.1.9)\nRequirement already satisfied: triton==3.2.0 in /local_disk0/.ephemeral_nfs/cluster_libraries/python/lib/python3.10/site-packages (from torch<4.0,>=1.13.0->lightning) (3.2.0)\nRequirement already satisfied: nvidia-nvjitlink-cu12==12.4.127 in /local_disk0/.ephemeral_nfs/cluster_libraries/python/lib/python3.10/site-packages (from torch<4.0,>=1.13.0->lightning) (12.4.127)\nRequirement already satisfied: filelock in /databricks/python3/lib/python3.10/site-packages (from torch<4.0,>=1.13.0->lightning) (3.9.0)\nRequirement already satisfied: nvidia-curand-cu12==10.3.5.147 in /local_disk0/.ephemeral_nfs/cluster_libraries/python/lib/python3.10/site-packages (from torch<4.0,>=1.13.0->lightning) (10.3.5.147)\nRequirement already satisfied: nvidia-cufft-cu12==11.2.1.3 in /local_disk0/.ephemeral_nfs/cluster_libraries/python/lib/python3.10/site-packages (from torch<4.0,>=1.13.0->lightning) (11.2.1.3)\nRequirement already satisfied: nvidia-cublas-cu12==12.4.5.8 in /local_disk0/.ephemeral_nfs/cluster_libraries/python/lib/python3.10/site-packages (from torch<4.0,>=1.13.0->lightning) (12.4.5.8)\nRequirement already satisfied: nvidia-cusparselt-cu12==0.6.2 in /local_disk0/.ephemeral_nfs/cluster_libraries/python/lib/python3.10/site-packages (from torch<4.0,>=1.13.0->lightning) (0.6.2)\nRequirement already satisfied: nvidia-cuda-nvrtc-cu12==12.4.127 in /local_disk0/.ephemeral_nfs/cluster_libraries/python/lib/python3.10/site-packages (from torch<4.0,>=1.13.0->lightning) (12.4.127)\nRequirement already satisfied: sympy==1.13.1 in /local_disk0/.ephemeral_nfs/cluster_libraries/python/lib/python3.10/site-packages (from torch<4.0,>=1.13.0->lightning) (1.13.1)\nRequirement already satisfied: nvidia-cuda-cupti-cu12==12.4.127 in /local_disk0/.ephemeral_nfs/cluster_libraries/python/lib/python3.10/site-packages (from torch<4.0,>=1.13.0->lightning) (12.4.127)\nRequirement already satisfied: networkx in /local_disk0/.ephemeral_nfs/cluster_libraries/python/lib/python3.10/site-packages (from torch<4.0,>=1.13.0->lightning) (3.4.2)\nRequirement already satisfied: jinja2 in /databricks/python3/lib/python3.10/site-packages (from torch<4.0,>=1.13.0->lightning) (3.1.2)\nRequirement already satisfied: nvidia-nvtx-cu12==12.4.127 in /local_disk0/.ephemeral_nfs/cluster_libraries/python/lib/python3.10/site-packages (from torch<4.0,>=1.13.0->lightning) (12.4.127)\nRequirement already satisfied: nvidia-cusparse-cu12==12.3.1.170 in /local_disk0/.ephemeral_nfs/cluster_libraries/python/lib/python3.10/site-packages (from torch<4.0,>=1.13.0->lightning) (12.3.1.170)\nRequirement already satisfied: nvidia-cudnn-cu12==9.1.0.70 in /local_disk0/.ephemeral_nfs/cluster_libraries/python/lib/python3.10/site-packages (from torch<4.0,>=1.13.0->lightning) (9.1.0.70)\nRequirement already satisfied: nvidia-nccl-cu12==2.21.5 in /local_disk0/.ephemeral_nfs/cluster_libraries/python/lib/python3.10/site-packages (from torch<4.0,>=1.13.0->lightning) (2.21.5)\nRequirement already satisfied: nvidia-cuda-runtime-cu12==12.4.127 in /local_disk0/.ephemeral_nfs/cluster_libraries/python/lib/python3.10/site-packages (from torch<4.0,>=1.13.0->lightning) (12.4.127)\nRequirement already satisfied: mpmath<1.4,>=1.1.0 in /databricks/python3/lib/python3.10/site-packages (from sympy==1.13.1->torch<4.0,>=1.13.0->lightning) (1.2.1)\nRequirement already satisfied: multidict<7.0,>=4.5 in /databricks/python3/lib/python3.10/site-packages (from aiohttp!=4.0.0a0,!=4.0.0a1->fsspec[http]<2025.0,>=2022.5.0->lightning) (6.0.4)\nRequirement already satisfied: aiosignal>=1.1.2 in /databricks/python3/lib/python3.10/site-packages (from aiohttp!=4.0.0a0,!=4.0.0a1->fsspec[http]<2025.0,>=2022.5.0->lightning) (1.3.1)\nRequirement already satisfied: async-timeout<5.0,>=4.0 in /databricks/python3/lib/python3.10/site-packages (from aiohttp!=4.0.0a0,!=4.0.0a1->fsspec[http]<2025.0,>=2022.5.0->lightning) (4.0.3)\nRequirement already satisfied: yarl<2.0,>=1.0 in /databricks/python3/lib/python3.10/site-packages (from aiohttp!=4.0.0a0,!=4.0.0a1->fsspec[http]<2025.0,>=2022.5.0->lightning) (1.9.4)\nRequirement already satisfied: attrs>=17.3.0 in /local_disk0/.ephemeral_nfs/cluster_libraries/python/lib/python3.10/site-packages (from aiohttp!=4.0.0a0,!=4.0.0a1->fsspec[http]<2025.0,>=2022.5.0->lightning) (25.1.0)\nRequirement already satisfied: frozenlist>=1.1.1 in /databricks/python3/lib/python3.10/site-packages (from aiohttp!=4.0.0a0,!=4.0.0a1->fsspec[http]<2025.0,>=2022.5.0->lightning) (1.4.1)\nRequirement already satisfied: MarkupSafe>=2.0 in /databricks/python3/lib/python3.10/site-packages (from jinja2->torch<4.0,>=1.13.0->lightning) (2.1.1)\nRequirement already satisfied: idna>=2.0 in /databricks/python3/lib/python3.10/site-packages (from yarl<2.0,>=1.0->aiohttp!=4.0.0a0,!=4.0.0a1->fsspec[http]<2025.0,>=2022.5.0->lightning) (3.4)\n\u001B[43mNote: you may need to restart the kernel using dbutils.library.restartPython() to use updated packages.\u001B[0m\n"
     ]
    }
   ],
   "source": [
    "%pip install lightning"
   ]
  },
  {
   "cell_type": "code",
   "execution_count": 0,
   "metadata": {
    "application/vnd.databricks.v1+cell": {
     "cellMetadata": {
      "byteLimit": 2048000,
      "rowLimit": 10000
     },
     "inputWidgets": {},
     "nuid": "197d0fa2-705e-4b0e-8d94-e1acc93bb399",
     "showTitle": false,
     "tableResultSettingsMap": {},
     "title": ""
    }
   },
   "outputs": [],
   "source": [
    "dbutils.library.restartPython()"
   ]
  },
  {
   "cell_type": "code",
   "execution_count": 0,
   "metadata": {
    "application/vnd.databricks.v1+cell": {
     "cellMetadata": {
      "byteLimit": 2048000,
      "rowLimit": 10000
     },
     "inputWidgets": {},
     "nuid": "bd5092c7-0529-475c-a0f7-b744733fb669",
     "showTitle": false,
     "tableResultSettingsMap": {},
     "title": ""
    }
   },
   "outputs": [],
   "source": [
    "%run\n",
    "./display_images"
   ]
  },
  {
   "cell_type": "markdown",
   "metadata": {
    "application/vnd.databricks.v1+cell": {
     "cellMetadata": {
      "byteLimit": 2048000,
      "rowLimit": 10000
     },
     "inputWidgets": {},
     "nuid": "d12b6bcf-7a3a-4b2e-a81d-1d0b387dca4e",
     "showTitle": false,
     "tableResultSettingsMap": {},
     "title": ""
    }
   },
   "source": [
    "#Imports"
   ]
  },
  {
   "cell_type": "code",
   "execution_count": 0,
   "metadata": {
    "application/vnd.databricks.v1+cell": {
     "cellMetadata": {
      "byteLimit": 2048000,
      "rowLimit": 10000
     },
     "inputWidgets": {},
     "nuid": "9501974a-7fe6-42e2-8348-8519f07ec03e",
     "showTitle": false,
     "tableResultSettingsMap": {},
     "title": ""
    }
   },
   "outputs": [
    {
     "output_type": "stream",
     "name": "stderr",
     "output_type": "stream",
     "text": [
      "Exception ignored on calling ctypes callback function: <function _ThreadpoolInfo._find_modules_with_dl_iterate_phdr.<locals>.match_module_callback at 0x7a11fc267e20>\nTraceback (most recent call last):\n  File \"/databricks/python/lib/python3.10/site-packages/threadpoolctl.py\", line 400, in match_module_callback\n    self._make_module_from_path(filepath)\n  File \"/databricks/python/lib/python3.10/site-packages/threadpoolctl.py\", line 515, in _make_module_from_path\n    module = module_class(filepath, prefix, user_api, internal_api)\n  File \"/databricks/python/lib/python3.10/site-packages/threadpoolctl.py\", line 606, in __init__\n    self.version = self.get_version()\n  File \"/databricks/python/lib/python3.10/site-packages/threadpoolctl.py\", line 646, in get_version\n    config = get_config().split()\nAttributeError: 'NoneType' object has no attribute 'split'\n2025-03-12 06:14:55.733413: I tensorflow/core/platform/cpu_feature_guard.cc:182] This TensorFlow binary is optimized to use available CPU instructions in performance-critical operations.\nTo enable the following instructions: AVX2 FMA, in other operations, rebuild TensorFlow with the appropriate compiler flags.\n"
     ]
    }
   ],
   "source": [
    "import pandas as pd\n",
    "import numpy as np\n",
    "import torch\n",
    "import torch.nn as nn\n",
    "import pickle\n",
    "import datetime\n",
    "import pytz\n",
    "from numpy.random import choice\n",
    "from google.cloud import storage\n",
    "import io\n",
    "import lightning.pytorch as pl\n",
    "import torch.nn.functional as F\n",
    "\n",
    "\n",
    "storage_client = storage.Client()\n",
    "bucket = storage_client.get_bucket('gcs-dsci-fryou-fy-dev-prd')"
   ]
  },
  {
   "cell_type": "markdown",
   "metadata": {
    "application/vnd.databricks.v1+cell": {
     "cellMetadata": {
      "byteLimit": 2048000,
      "rowLimit": 10000
     },
     "inputWidgets": {},
     "nuid": "49d2dcac-c9cb-499d-bbfe-2e19a7b1d393",
     "showTitle": false,
     "tableResultSettingsMap": {},
     "title": ""
    }
   },
   "source": [
    "#Functions"
   ]
  },
  {
   "cell_type": "code",
   "execution_count": 0,
   "metadata": {
    "application/vnd.databricks.v1+cell": {
     "cellMetadata": {
      "byteLimit": 2048000,
      "rowLimit": 10000
     },
     "inputWidgets": {},
     "nuid": "82526aef-5bad-4383-9017-4f8c0d3c43ac",
     "showTitle": false,
     "tableResultSettingsMap": {},
     "title": ""
    }
   },
   "outputs": [],
   "source": [
    "def get_index(index_path, entity, special_tokens, shift_index=True):\n",
    "    bucket.blob(blob_name=f\"{index_path}{entity}_index.pkl\").download_to_filename(\n",
    "        f\"{entity}_index.pkl\"\n",
    "    )\n",
    "    with open(f\"{entity}_index.pkl\", \"rb\") as file:\n",
    "        entity_index = pickle.load(file)\n",
    "    if shift_index:\n",
    "        special_tokens_len = len(special_tokens)\n",
    "        entity_index = special_tokens | {k:v+special_tokens_len for k,v in entity_index.items()}\n",
    "    return entity_index, len(entity_index)"
   ]
  },
  {
   "cell_type": "code",
   "execution_count": 0,
   "metadata": {
    "application/vnd.databricks.v1+cell": {
     "cellMetadata": {
      "byteLimit": 2048000,
      "rowLimit": 10000
     },
     "inputWidgets": {},
     "nuid": "4876ec27-93d9-4e86-bc78-5a43ec2a06b9",
     "showTitle": false,
     "tableResultSettingsMap": {},
     "title": ""
    }
   },
   "outputs": [],
   "source": [
    "def get_batch_data(interaction_seq):\n",
    "\n",
    "    end_time = interaction_seq[-1]['event_time']\n",
    "    start_time = end_time - timedelta(days=future_window)\n",
    "\n",
    "    input_seq = [event for event in interaction_seq if event['event_time'] < start_time ]\n",
    "    input_seq = input_seq[-1 * int(behaviour_context_length):]\n",
    "\n",
    "    positive_seq = [event for event in interaction_seq if event['event_time'] >= start_time ]\n",
    "    print(len(positive_seq), len(input_seq), len(interaction_seq))\n",
    "\n",
    "    catalog_id_seq = np.array([catalog_id_index.get(event['catalog_id'], catalog_id_index['<MASK>']) for event in input_seq])\n",
    "    scat_id_seq = np.array([sscat_id_index.get(event['sscat_id'], sscat_id_index['<MASK>']) for event in input_seq])\n",
    "    event_type_seq = np.array([event_type_index[event['event_type']] for event in input_seq])\n",
    "    event_time_seq = np.array([event['event_time'] for event in input_seq])\n",
    "\n",
    "    seq_len = len(catalog_id_seq)\n",
    "\n",
    "    positive_catalog_id_seq = np.array([catalog_id_index.get(event['catalog_id'], catalog_id_index['<MASK>']) for event in positive_seq])\n",
    "    positive_sscat_id_seq = np.array([sscat_id_index.get(event['sscat_id'], sscat_id_index['<MASK>']) for event in positive_seq])\n",
    "\n",
    "    if seq_len < behaviour_context_length:\n",
    "        pad_num = behaviour_context_length - seq_len\n",
    "        catalog_id_seq = np.pad(catalog_id_seq, (pad_num, 0))\n",
    "        scat_id_seq = np.pad(scat_id_seq, (pad_num, 0))\n",
    "        event_type_seq = np.pad(event_type_seq, (pad_num, 0))\n",
    "        event_time_seq = np.pad(event_time_seq, (pad_num, 0))\n",
    "\n",
    "    X = {\n",
    "        \"behaviour_seq\": torch.tensor([catalog_id_seq]).long(),\n",
    "        \"sscat_id_seq\": torch.tensor([scat_id_seq]).long(),\n",
    "        \"event_type_seq\": torch.tensor([event_type_seq]).long(),\n",
    "        \"event_time_seq\": event_time_seq,\n",
    "\n",
    "        \"positive_catalog_seq\": torch.tensor([positive_catalog_id_seq]).long(),\n",
    "        \"positive_sscat_id_seq\": torch.tensor([positive_sscat_id_seq]).long(),\n",
    "    }\n",
    "\n",
    "    return X\n",
    "\n"
   ]
  },
  {
   "cell_type": "code",
   "execution_count": 0,
   "metadata": {
    "application/vnd.databricks.v1+cell": {
     "cellMetadata": {
      "byteLimit": 2048000,
      "rowLimit": 10000
     },
     "inputWidgets": {},
     "nuid": "8778b8b9-e472-49fc-bbf6-7f39e9400e67",
     "showTitle": false,
     "tableResultSettingsMap": {},
     "title": ""
    }
   },
   "outputs": [],
   "source": [
    "import torch.nn.functional as F\n",
    "\n",
    "\n",
    "def get_recos(interaction_list, k=5):\n",
    "    X = get_batch_data(interaction_list)\n",
    "    X['selection_indices']=torch.tensor([-1]).long()\n",
    "    user_e, sscat_logits = user_tower(X, catalog_embedding)\n",
    "    sscats = [index_to_sscat[ele] for ele in sscat_logits.topk(k)[1][0][0].tolist()]\n",
    "    return X, sscats, sscat_logits\n",
    "\n",
    "# schema = T.StructType([\n",
    "#     T.StructField(\"st\", T.ArrayType(T.IntegerType())),\n",
    "#     T.StructField(\"mt\", T.ArrayType(T.IntegerType())),\n",
    "#     T.StructField(\"lt\", T.ArrayType(T.IntegerType()))\n",
    "# ])\n",
    "\n",
    "# get_recos_udf = F.udf(get_recos, schema)\n"
   ]
  },
  {
   "cell_type": "markdown",
   "metadata": {
    "application/vnd.databricks.v1+cell": {
     "cellMetadata": {
      "byteLimit": 2048000,
      "rowLimit": 10000
     },
     "inputWidgets": {},
     "nuid": "ab17c57b-7b20-4811-a15b-8538f0f61a5e",
     "showTitle": false,
     "tableResultSettingsMap": {},
     "title": ""
    }
   },
   "source": [
    "#Model"
   ]
  },
  {
   "cell_type": "code",
   "execution_count": 0,
   "metadata": {
    "application/vnd.databricks.v1+cell": {
     "cellMetadata": {
      "byteLimit": 2048000,
      "rowLimit": 10000
     },
     "inputWidgets": {},
     "nuid": "39242f97-3c03-47a5-a3e4-838dee128e34",
     "showTitle": false,
     "tableResultSettingsMap": {},
     "title": ""
    }
   },
   "outputs": [],
   "source": [
    "class CatalogEmbedding(nn.Module):\n",
    "    def __init__(\n",
    "        self, \n",
    "        catalog_id_vocab_size,\n",
    "        embedding_dim,\n",
    "        use_pretrained=False,\n",
    "        pretrained_weights=None,\n",
    "    ):\n",
    "        super().__init__()\n",
    "\n",
    "        self.catalog_id_vocab_size = catalog_id_vocab_size\n",
    "        self.embedding_dimmension = embedding_dim\n",
    "\n",
    "        self.catalog_embedding = nn.Embedding(num_embeddings=catalog_id_vocab_size, embedding_dim=embedding_dim, padding_idx=0)\n",
    "        if use_pretrained:\n",
    "            self.catalog_embedding.weight = nn.Parameter(pretrained_weights, requires_grad=False)\n",
    "\n",
    "    def forward(self, X):\n",
    "        x = self.catalog_embedding(X)\n",
    "        return x"
   ]
  },
  {
   "cell_type": "code",
   "execution_count": 0,
   "metadata": {
    "application/vnd.databricks.v1+cell": {
     "cellMetadata": {
      "byteLimit": 2048000,
      "rowLimit": 10000
     },
     "inputWidgets": {},
     "nuid": "8ca2c71f-6142-4856-8f53-c42d5b904381",
     "showTitle": false,
     "tableResultSettingsMap": {},
     "title": ""
    }
   },
   "outputs": [],
   "source": [
    "class UserTower(nn.Module):\n",
    "    def __init__(self,\n",
    "                 num_layers,\n",
    "                 nhead,\n",
    "                 behaviour_context_length,\n",
    "                 embedding_dim,\n",
    "                 event_type_vocab_size,\n",
    "                 sscat_vocab_size,\n",
    "                 batch_size\n",
    "                ):\n",
    "        super(UserTower, self).__init__()\n",
    "\n",
    "        self.nhead = nhead\n",
    "        dropout_perc = 0.3 \n",
    "        self.behaviour_context_length = behaviour_context_length\n",
    "        self.embedding_dim = embedding_dim\n",
    "        self.sscat_vocab_size = sscat_vocab_size\n",
    "\n",
    "        # Event type embedding\n",
    "        self.event_type_embedding = nn.Embedding(event_type_vocab_size, embedding_dim)\n",
    "        num_features = 2\n",
    "        time_features = 0\n",
    "        self.input_dim = num_features * embedding_dim + time_features\n",
    "\n",
    "        # Transformer layers\n",
    "        self.dropout = nn.Dropout(dropout_perc)\n",
    "        self.norm = nn.LayerNorm(embedding_dim)\n",
    "        encoder_layer = nn.TransformerEncoderLayer(embedding_dim, nhead=nhead, batch_first=True, dropout=dropout_perc, norm_first=True)\n",
    "        self.tf_encoder = nn.TransformerEncoder(encoder_layer, num_layers, norm=self.norm)\n",
    "\n",
    "        # MLP head\n",
    "        self.mlp_extract = nn.Linear(self.input_dim, embedding_dim)\n",
    "\n",
    "        self.mlp_out = nn.Sequential(\n",
    "            nn.LayerNorm(embedding_dim),\n",
    "            nn.Linear(embedding_dim, 4 * embedding_dim),\n",
    "            nn.GELU(),\n",
    "            nn.Linear(4 * embedding_dim, embedding_dim),\n",
    "            nn.LayerNorm(embedding_dim)\n",
    "        )\n",
    "\n",
    "        self.sscat_mlp = nn.Linear(embedding_dim, self.sscat_vocab_size)\n",
    "\n",
    "        self.future_mask = torch.triu(torch.ones(self.behaviour_context_length, self.behaviour_context_length, dtype=torch.bool), diagonal=1)\n",
    "        self.register_buffer('future_mask_const', self.future_mask)\n",
    "        self.register_buffer('seq_diag_const', ~torch.diag(torch.ones(self.behaviour_context_length, dtype=torch.bool)))\n",
    "        self.register_buffer('batch_indices', torch.arange(batch_size))\n",
    "\n",
    "    def merge_attn_masks(self, X):\n",
    "        batch_size = X[\"behaviour_seq\"].shape[0]\n",
    "        seq_len = X[\"behaviour_seq\"].shape[1]\n",
    "\n",
    "        padding = (X[\"behaviour_seq\"] == 0)\n",
    "        masking = (X[\"behaviour_seq\"] == 1)\n",
    "        padding_mask = padding.logical_or(masking)\n",
    "\n",
    "        padding_mask_broadcast = padding_mask.bool().unsqueeze(1)\n",
    "        future_masks = torch.tile(self.future_mask_const[:seq_len, :seq_len], (batch_size, 1, 1))\n",
    "\n",
    "        merged_masks = torch.logical_or(padding_mask_broadcast, future_masks)\n",
    "        \n",
    "        diag_masks = torch.tile(self.seq_diag_const[:seq_len, :seq_len], (batch_size * self.nhead, 1, 1))\n",
    "        multi_head_mask = torch.tile(merged_masks.unsqueeze(1), (1, self.nhead, 1, 1)).reshape((-1, seq_len, seq_len))\n",
    "        \n",
    "        return torch.logical_and(diag_masks, multi_head_mask)\n",
    "\n",
    "    def positional_encoding(self, timestamps, embedding_dim=16):\n",
    "        pe = torch.stack((torch.sin(timestamps.unsqueeze(-1) * self.div_term), torch.cos(timestamps.unsqueeze(-1) * self.div_term)), dim=-1).flatten(start_dim=-2)\n",
    "        return pe\n",
    "\n",
    "    def forward(self, X, catalog_embedding):\n",
    "        # print(\"Input X:\", X)\n",
    "        # print(\"Catalog Embedding:\", catalog_embedding)\n",
    "\n",
    "        x = torch.cat((\n",
    "            catalog_embedding(X['behaviour_seq']), \n",
    "            self.event_type_embedding(X['event_type_seq'])\n",
    "        ), dim=-1)\n",
    "        # print(\"Concatenated Embedding:\", x)\n",
    "\n",
    "        x = self.mlp_extract(x)\n",
    "        # print(\"MLP Extract Output:\", x)\n",
    "\n",
    "        attn_mask = self.merge_attn_masks(X)\n",
    "        # print(\"Attention Mask:\", attn_mask)\n",
    "\n",
    "        x = self.tf_encoder(x, mask=attn_mask, is_causal=True)\n",
    "        # print(\"Transformer Encoder Output:\", x)\n",
    "\n",
    "        batch_indices = self.batch_indices[:X['selection_indices'].shape[0]].view(-1, 1)\n",
    "        x = x[batch_indices, X['selection_indices'], :]\n",
    "        # print(\"Selected Embeddings:\", x)\n",
    "\n",
    "        x = self.mlp_out(x)\n",
    "        # print(\"MLP Out Output:\", x)\n",
    "\n",
    "        x = F.normalize(x, p=2, dim=-1)\n",
    "        # print(\"Normalized Embedding:\", x)\n",
    "\n",
    "        sscat_logits = self.sscat_mlp(x)\n",
    "        # print(\"SSCat Logits:\", sscat_logits)\n",
    "\n",
    "        return x, sscat_logits\n",
    "    "
   ]
  },
  {
   "cell_type": "code",
   "execution_count": 0,
   "metadata": {
    "application/vnd.databricks.v1+cell": {
     "cellMetadata": {
      "byteLimit": 2048000,
      "rowLimit": 10000
     },
     "inputWidgets": {},
     "nuid": "adda3dce-6ded-4bbd-b08f-10c88bb27680",
     "showTitle": false,
     "tableResultSettingsMap": {},
     "title": ""
    }
   },
   "outputs": [],
   "source": [
    "class CatalogTower(nn.Module):\n",
    "    def __init__(self, embedding_dim):\n",
    "        super(CatalogTower, self).__init__()\n",
    "\n",
    "        self.mlp = nn.Sequential(\n",
    "            nn.LayerNorm(embedding_dim),\n",
    "            nn.Linear(embedding_dim, 4 * embedding_dim),\n",
    "            nn.GELU(),\n",
    "            nn.Linear(4 * embedding_dim, embedding_dim),\n",
    "            nn.LayerNorm(embedding_dim)\n",
    "        )\n",
    "    \n",
    "    def forward(self, x, catalog_embedding):\n",
    "        x = catalog_embedding(x)\n",
    "        x = self.mlp(x)\n",
    "        x = F.normalize(x, p=2, dim=-1)\n",
    "        return x"
   ]
  },
  {
   "cell_type": "markdown",
   "metadata": {
    "application/vnd.databricks.v1+cell": {
     "cellMetadata": {
      "byteLimit": 2048000,
      "rowLimit": 10000
     },
     "inputWidgets": {},
     "nuid": "0cc47cad-e1fe-4534-8a5d-5d749609a856",
     "showTitle": false,
     "tableResultSettingsMap": {},
     "title": ""
    }
   },
   "source": [
    "#Config"
   ]
  },
  {
   "cell_type": "code",
   "execution_count": 0,
   "metadata": {
    "application/vnd.databricks.v1+cell": {
     "cellMetadata": {
      "byteLimit": 2048000,
      "rowLimit": 10000
     },
     "inputWidgets": {},
     "nuid": "15f187d9-67b9-4ded-b690-cc8bfec190d5",
     "showTitle": false,
     "tableResultSettingsMap": {},
     "title": ""
    }
   },
   "outputs": [],
   "source": [
    "config = {\n",
    "    # data params \n",
    "    \"checkpoint_version\": \"v15.1\",\n",
    "    \"index_path\": \"long_term_user_emb/indexes/v15/\",\n",
    "    \"filtered_journeys_path\": \"long_term_user_emb/user_seq_final/v15/\",\n",
    "    \"checkpoint_path\": \"gs://gcs-dsci-fryou-fy-dev-prd/long_term_user_emb/checkpoint_dir/v15.1/\",\n",
    "\n",
    "    # dataset params\n",
    "    \"behaviour_context_length\": 1000,\n",
    "    \"all_dense_perc\": 0.15,\n",
    "    \"future_window\": 14,\n",
    "    \"max_positives\": 64,\n",
    "    \"negatives\": 10,\n",
    "    \"batch_size\": 512,\n",
    "    \"num_workers\": 8,\n",
    "\n",
    "    # model params\n",
    "    \"embedding_dim\": 16,\n",
    "    \"num_layers\": 2,\n",
    "    \"nhead\": 2,\n",
    "\n",
    "    # training params \n",
    "    \"max_epochs\": 2,\n",
    "    \"limit_val_batches\": 500,\n",
    "    \"limit_train_batches\": 20000,\n",
    "    \"val_check_interval\": 500,\n",
    "    \"overfit_batches\": 0,\n",
    "    \"log_every_n_steps\": 200,\n",
    "    \"accelerator\": \"gpu\",\n",
    "    \"num_gpu\": 1,\n",
    "    \"num_nodes\": 1,\n",
    "    \"num_sanity_val_steps\": 2\n",
    "}"
   ]
  },
  {
   "cell_type": "code",
   "execution_count": 0,
   "metadata": {
    "application/vnd.databricks.v1+cell": {
     "cellMetadata": {
      "byteLimit": 2048000,
      "rowLimit": 10000
     },
     "inputWidgets": {},
     "nuid": "878bfb4c-410a-4f8a-9060-098dfdc9d23c",
     "showTitle": false,
     "tableResultSettingsMap": {},
     "title": ""
    }
   },
   "outputs": [],
   "source": [
    "future_window = config['future_window']\n",
    "behaviour_context_length = config['behaviour_context_length']"
   ]
  },
  {
   "cell_type": "markdown",
   "metadata": {
    "application/vnd.databricks.v1+cell": {
     "cellMetadata": {
      "byteLimit": 2048000,
      "rowLimit": 10000
     },
     "inputWidgets": {},
     "nuid": "3db6d0cb-1aff-49ca-90a3-3b0a83cbf0a9",
     "showTitle": false,
     "tableResultSettingsMap": {},
     "title": ""
    }
   },
   "source": [
    "#Path"
   ]
  },
  {
   "cell_type": "code",
   "execution_count": 0,
   "metadata": {
    "application/vnd.databricks.v1+cell": {
     "cellMetadata": {
      "byteLimit": 2048000,
      "rowLimit": 10000
     },
     "inputWidgets": {},
     "nuid": "b6fd1f59-e27a-452f-97f0-5841f4a8b624",
     "showTitle": false,
     "tableResultSettingsMap": {},
     "title": ""
    }
   },
   "outputs": [],
   "source": [
    "start_date = '2024-01-01'\n",
    "end_date = '2024-12-32'\n"
   ]
  },
  {
   "cell_type": "markdown",
   "metadata": {
    "application/vnd.databricks.v1+cell": {
     "cellMetadata": {
      "byteLimit": 2048000,
      "rowLimit": 10000
     },
     "inputWidgets": {},
     "nuid": "5e015950-8884-4fd0-b13d-2ef50f4e57da",
     "showTitle": false,
     "tableResultSettingsMap": {},
     "title": ""
    }
   },
   "source": [
    "#Indexes"
   ]
  },
  {
   "cell_type": "code",
   "execution_count": 0,
   "metadata": {
    "application/vnd.databricks.v1+cell": {
     "cellMetadata": {
      "byteLimit": 2048000,
      "rowLimit": 10000
     },
     "inputWidgets": {},
     "nuid": "1f458dab-d851-4f8e-991c-6adda30b5b2b",
     "showTitle": false,
     "tableResultSettingsMap": {},
     "title": ""
    }
   },
   "outputs": [
    {
     "output_type": "stream",
     "name": "stderr",
     "output_type": "stream",
     "text": [
      "INFO: [rank: 0] Seed set to 42\nINFO:lightning.fabric.utilities.seed:[rank: 0] Seed set to 42\n"
     ]
    },
    {
     "output_type": "stream",
     "name": "stdout",
     "output_type": "stream",
     "text": [
      "catalog vocab size:4.99934 M\n"
     ]
    }
   ],
   "source": [
    "pl.seed_everything(42, workers=True)\n",
    "SPECIAl_TOKENS = {\n",
    "    \"<PAD>\":0,\n",
    "    \"<MASK>\":1\n",
    "}\n",
    "\n",
    "event_type_index, event_type_vocab_size = get_index(config[\"index_path\"], \"event_type\", SPECIAl_TOKENS)\n",
    "catalog_id_index, catalog_id_vocab_size = get_index(config[\"index_path\"], \"catalog_id\", SPECIAl_TOKENS)\n",
    "sscat_id_index, sscat_id_vocab_size = get_index(config[\"index_path\"], \"sscat_id\", SPECIAl_TOKENS)\n",
    "\n",
    "print(f\"catalog vocab size:{catalog_id_vocab_size/1000000} M\")\n"
   ]
  },
  {
   "cell_type": "code",
   "execution_count": 0,
   "metadata": {
    "application/vnd.databricks.v1+cell": {
     "cellMetadata": {
      "byteLimit": 2048000,
      "rowLimit": 10000
     },
     "inputWidgets": {},
     "nuid": "243a445d-5e46-46a1-9100-bd890d2ecc2a",
     "showTitle": false,
     "tableResultSettingsMap": {},
     "title": ""
    }
   },
   "outputs": [],
   "source": [
    "# catalog_id_index_temp, _ = get_index(index_path, \"catalog_id\", SPECIAl_TOKENS, False)\n",
    "# index_to_catalog_merlin = dict(zip(catalog_id_index_temp.values(), catalog_id_index_temp.keys()))"
   ]
  },
  {
   "cell_type": "code",
   "execution_count": 0,
   "metadata": {
    "application/vnd.databricks.v1+cell": {
     "cellMetadata": {
      "byteLimit": 2048000,
      "rowLimit": 10000
     },
     "inputWidgets": {},
     "nuid": "958947b7-67b6-4c13-a947-a75c92a18495",
     "showTitle": false,
     "tableResultSettingsMap": {},
     "title": ""
    }
   },
   "outputs": [],
   "source": [
    "index_to_catalog = dict(zip(catalog_id_index.values(), catalog_id_index.keys()))"
   ]
  },
  {
   "cell_type": "code",
   "execution_count": 0,
   "metadata": {
    "application/vnd.databricks.v1+cell": {
     "cellMetadata": {
      "byteLimit": 2048000,
      "rowLimit": 10000
     },
     "inputWidgets": {},
     "nuid": "7e81fff8-43f8-4e85-ba20-61952215b50d",
     "showTitle": false,
     "tableResultSettingsMap": {},
     "title": ""
    }
   },
   "outputs": [],
   "source": [
    "index_to_sscat = dict(zip(sscat_id_index.values(), sscat_id_index.keys()))"
   ]
  },
  {
   "cell_type": "markdown",
   "metadata": {
    "application/vnd.databricks.v1+cell": {
     "cellMetadata": {
      "byteLimit": 2048000,
      "rowLimit": 10000
     },
     "inputWidgets": {},
     "nuid": "fbe0e104-0733-4773-a995-bad576818588",
     "showTitle": false,
     "tableResultSettingsMap": {},
     "title": ""
    }
   },
   "source": [
    "# Model Loading"
   ]
  },
  {
   "cell_type": "code",
   "execution_count": 0,
   "metadata": {
    "application/vnd.databricks.v1+cell": {
     "cellMetadata": {
      "byteLimit": 2048000,
      "rowLimit": 10000
     },
     "inputWidgets": {},
     "nuid": "9a3b53bd-1a49-43dc-837b-6d880e4328ff",
     "showTitle": false,
     "tableResultSettingsMap": {},
     "title": ""
    }
   },
   "outputs": [],
   "source": [
    "en_model_blob = bucket.get_blob(f'long_term_user_emb/checkpoint_dir/v15.1/epoch=2-step=60000-val_loss_5=0.00.ckpt')\n",
    "en_model = en_model_blob.download_as_string()\n",
    "\n",
    "\n",
    "# because model downloaded into string, need to convert it back\n",
    "buffer = io.BytesIO(en_model)\n",
    "state_dict = torch.load(buffer, map_location=torch.device('cpu'))"
   ]
  },
  {
   "cell_type": "code",
   "execution_count": 0,
   "metadata": {
    "application/vnd.databricks.v1+cell": {
     "cellMetadata": {
      "byteLimit": 2048000,
      "rowLimit": 10000
     },
     "inputWidgets": {},
     "nuid": "e6db031b-3d5b-486d-b81c-60691a9ebebf",
     "showTitle": false,
     "tableResultSettingsMap": {},
     "title": ""
    }
   },
   "outputs": [
    {
     "output_type": "stream",
     "name": "stdout",
     "output_type": "stream",
     "text": [
      "pos_labels torch.Size([32768])\nuser_tower.future_mask_const torch.Size([1000, 1000])\nuser_tower.seq_diag_const torch.Size([1000, 1000])\nuser_tower.batch_indices torch.Size([512])\nuser_tower.event_type_embedding.weight torch.Size([5, 16])\nuser_tower.norm.weight torch.Size([16])\nuser_tower.norm.bias torch.Size([16])\nuser_tower.tf_encoder.layers.0.self_attn.in_proj_weight torch.Size([48, 16])\nuser_tower.tf_encoder.layers.0.self_attn.in_proj_bias torch.Size([48])\nuser_tower.tf_encoder.layers.0.self_attn.out_proj.weight torch.Size([16, 16])\nuser_tower.tf_encoder.layers.0.self_attn.out_proj.bias torch.Size([16])\nuser_tower.tf_encoder.layers.0.linear1.weight torch.Size([2048, 16])\nuser_tower.tf_encoder.layers.0.linear1.bias torch.Size([2048])\nuser_tower.tf_encoder.layers.0.linear2.weight torch.Size([16, 2048])\nuser_tower.tf_encoder.layers.0.linear2.bias torch.Size([16])\nuser_tower.tf_encoder.layers.0.norm1.weight torch.Size([16])\nuser_tower.tf_encoder.layers.0.norm1.bias torch.Size([16])\nuser_tower.tf_encoder.layers.0.norm2.weight torch.Size([16])\nuser_tower.tf_encoder.layers.0.norm2.bias torch.Size([16])\nuser_tower.tf_encoder.layers.1.self_attn.in_proj_weight torch.Size([48, 16])\nuser_tower.tf_encoder.layers.1.self_attn.in_proj_bias torch.Size([48])\nuser_tower.tf_encoder.layers.1.self_attn.out_proj.weight torch.Size([16, 16])\nuser_tower.tf_encoder.layers.1.self_attn.out_proj.bias torch.Size([16])\nuser_tower.tf_encoder.layers.1.linear1.weight torch.Size([2048, 16])\nuser_tower.tf_encoder.layers.1.linear1.bias torch.Size([2048])\nuser_tower.tf_encoder.layers.1.linear2.weight torch.Size([16, 2048])\nuser_tower.tf_encoder.layers.1.linear2.bias torch.Size([16])\nuser_tower.tf_encoder.layers.1.norm1.weight torch.Size([16])\nuser_tower.tf_encoder.layers.1.norm1.bias torch.Size([16])\nuser_tower.tf_encoder.layers.1.norm2.weight torch.Size([16])\nuser_tower.tf_encoder.layers.1.norm2.bias torch.Size([16])\nuser_tower.tf_encoder.norm.weight torch.Size([16])\nuser_tower.tf_encoder.norm.bias torch.Size([16])\nuser_tower.mlp_extract.weight torch.Size([16, 32])\nuser_tower.mlp_extract.bias torch.Size([16])\nuser_tower.mlp_out.0.weight torch.Size([16])\nuser_tower.mlp_out.0.bias torch.Size([16])\nuser_tower.mlp_out.1.weight torch.Size([64, 16])\nuser_tower.mlp_out.1.bias torch.Size([64])\nuser_tower.mlp_out.3.weight torch.Size([16, 64])\nuser_tower.mlp_out.3.bias torch.Size([16])\nuser_tower.mlp_out.4.weight torch.Size([16])\nuser_tower.mlp_out.4.bias torch.Size([16])\nuser_tower.sscat_mlp.weight torch.Size([3606, 16])\nuser_tower.sscat_mlp.bias torch.Size([3606])\ncatalog_tower.mlp.0.weight torch.Size([16])\ncatalog_tower.mlp.0.bias torch.Size([16])\ncatalog_tower.mlp.1.weight torch.Size([64, 16])\ncatalog_tower.mlp.1.bias torch.Size([64])\ncatalog_tower.mlp.3.weight torch.Size([16, 64])\ncatalog_tower.mlp.3.bias torch.Size([16])\ncatalog_tower.mlp.4.weight torch.Size([16])\ncatalog_tower.mlp.4.bias torch.Size([16])\ncatalog_embedding.catalog_embedding.weight torch.Size([4999340, 16])\n"
     ]
    }
   ],
   "source": [
    "for key in list(state_dict['state_dict']):\n",
    "    print(key, state_dict['state_dict'][key].shape)"
   ]
  },
  {
   "cell_type": "code",
   "execution_count": 0,
   "metadata": {
    "application/vnd.databricks.v1+cell": {
     "cellMetadata": {
      "byteLimit": 2048000,
      "rowLimit": 10000
     },
     "inputWidgets": {},
     "nuid": "053fcfd0-bc02-4df2-9f07-bcfb13a870aa",
     "showTitle": false,
     "tableResultSettingsMap": {},
     "title": ""
    }
   },
   "outputs": [],
   "source": [
    "model_weights = state_dict[\"state_dict\"]"
   ]
  },
  {
   "cell_type": "code",
   "execution_count": 0,
   "metadata": {
    "application/vnd.databricks.v1+cell": {
     "cellMetadata": {
      "byteLimit": 2048000,
      "rowLimit": 10000
     },
     "inputWidgets": {},
     "nuid": "a05c8e49-dcd4-4a68-a73c-a9e918f0802c",
     "showTitle": false,
     "tableResultSettingsMap": {},
     "title": ""
    }
   },
   "outputs": [],
   "source": [
    "final_weights = {}\n",
    "\n",
    "# update keys by dropping `auto_encoder.`\n",
    "for key in list(model_weights):\n",
    "    if key not in (\"cutoffs\", \"popular_labels\", \"pos_labels\") and \"catalog_tower\" not in key and \"catalog_embedding\" not in key:\n",
    "        final_weights[key.replace(\"user_tower.\", \"\", 1)] = model_weights[key]"
   ]
  },
  {
   "cell_type": "code",
   "execution_count": 0,
   "metadata": {
    "application/vnd.databricks.v1+cell": {
     "cellMetadata": {
      "byteLimit": 2048000,
      "rowLimit": 10000
     },
     "inputWidgets": {},
     "nuid": "54af6da8-88aa-42eb-be64-48483420bdc5",
     "showTitle": false,
     "tableResultSettingsMap": {},
     "title": ""
    }
   },
   "outputs": [
    {
     "output_type": "stream",
     "name": "stderr",
     "output_type": "stream",
     "text": [
      "/local_disk0/.ephemeral_nfs/cluster_libraries/python/lib/python3.10/site-packages/torch/nn/modules/transformer.py:385: UserWarning: enable_nested_tensor is True, but self.use_nested_tensor is False because encoder_layer.norm_first was True\n  warnings.warn(\n"
     ]
    }
   ],
   "source": [
    "user_tower = UserTower(\n",
    "    config[\"num_layers\"],\n",
    "    config[\"nhead\"],\n",
    "    config[\"behaviour_context_length\"],\n",
    "    config[\"embedding_dim\"],\n",
    "    event_type_vocab_size,\n",
    "    sscat_id_vocab_size,\n",
    "    config['batch_size']\n",
    ")"
   ]
  },
  {
   "cell_type": "code",
   "execution_count": 0,
   "metadata": {
    "application/vnd.databricks.v1+cell": {
     "cellMetadata": {
      "byteLimit": 2048000,
      "rowLimit": 10000
     },
     "inputWidgets": {},
     "nuid": "b6379147-c3b3-41bd-b314-a7c0a4e3cc72",
     "showTitle": false,
     "tableResultSettingsMap": {},
     "title": ""
    }
   },
   "outputs": [],
   "source": [
    "user_tower.load_state_dict(final_weights)\n",
    "user_tower = user_tower.eval()"
   ]
  },
  {
   "cell_type": "code",
   "execution_count": 0,
   "metadata": {
    "application/vnd.databricks.v1+cell": {
     "cellMetadata": {
      "byteLimit": 2048000,
      "rowLimit": 10000
     },
     "inputWidgets": {},
     "nuid": "362ae530-f8d1-4285-8d3e-0b6c624ab652",
     "showTitle": false,
     "tableResultSettingsMap": {},
     "title": ""
    }
   },
   "outputs": [],
   "source": [
    "final_weights_catalog = {}\n",
    "\n",
    "# update keys by dropping `auto_encoder.`\n",
    "for key in list(model_weights):\n",
    "    if \"catalog_tower\" in key:\n",
    "        final_weights_catalog[key.replace(\"catalog_tower.\", \"\", 1)] = model_weights[key]"
   ]
  },
  {
   "cell_type": "code",
   "execution_count": 0,
   "metadata": {
    "application/vnd.databricks.v1+cell": {
     "cellMetadata": {
      "byteLimit": 2048000,
      "rowLimit": 10000
     },
     "inputWidgets": {},
     "nuid": "a8fe7bb0-457b-4b6e-849f-bc686e06fc40",
     "showTitle": false,
     "tableResultSettingsMap": {},
     "title": ""
    }
   },
   "outputs": [],
   "source": [
    "catalog_tower = CatalogTower(config[\"embedding_dim\"])\n",
    "# catalog_model = catalog_embedding(catalog_id_vocab_size,\n",
    "#                 embedding_dimm=config[\"embedding_dim\"]\n",
    "#                  ).eval()\n",
    "catalog_tower.load_state_dict(final_weights_catalog)\n",
    "catalog_tower = catalog_tower.eval()"
   ]
  },
  {
   "cell_type": "code",
   "execution_count": 0,
   "metadata": {
    "application/vnd.databricks.v1+cell": {
     "cellMetadata": {
      "byteLimit": 2048000,
      "rowLimit": 10000
     },
     "inputWidgets": {},
     "nuid": "112bbc5f-37c5-493d-875c-29ca559eceee",
     "showTitle": false,
     "tableResultSettingsMap": {},
     "title": ""
    }
   },
   "outputs": [],
   "source": [
    "catalog_embedding = CatalogEmbedding(\n",
    "    catalog_id_vocab_size=len(catalog_id_index),\n",
    "    embedding_dim=16,\n",
    "    use_pretrained=True,\n",
    "    pretrained_weights=model_weights['catalog_embedding.catalog_embedding.weight']\n",
    ")\n",
    "catalog_embedding = catalog_embedding.eval()"
   ]
  },
  {
   "cell_type": "markdown",
   "metadata": {
    "application/vnd.databricks.v1+cell": {
     "cellMetadata": {
      "byteLimit": 2048000,
      "rowLimit": 10000
     },
     "inputWidgets": {},
     "nuid": "946ba896-cba7-42d2-9266-5c89bf12630c",
     "showTitle": false,
     "tableResultSettingsMap": {},
     "title": ""
    }
   },
   "source": [
    "# NNS Indexing"
   ]
  },
  {
   "cell_type": "code",
   "execution_count": 0,
   "metadata": {
    "application/vnd.databricks.v1+cell": {
     "cellMetadata": {
      "byteLimit": 2048000,
      "rowLimit": 10000
     },
     "inputWidgets": {},
     "nuid": "a7c42684-e7b4-4df9-b666-700e31404663",
     "showTitle": false,
     "tableResultSettingsMap": {},
     "title": ""
    }
   },
   "outputs": [],
   "source": [
    "output = catalog_tower(torch.tensor([[[0,1,2,3]]]), catalog_embedding)\n",
    "# output = torch.nn.functional.normalize(output, p=2, dim=-1)"
   ]
  },
  {
   "cell_type": "code",
   "execution_count": 0,
   "metadata": {
    "application/vnd.databricks.v1+cell": {
     "cellMetadata": {
      "byteLimit": 2048000,
      "rowLimit": 10000
     },
     "inputWidgets": {},
     "nuid": "3fcbd1b0-3cf0-4a5c-992a-1966fbc4cd53",
     "showTitle": false,
     "tableResultSettingsMap": {},
     "title": ""
    }
   },
   "outputs": [
    {
     "output_type": "stream",
     "name": "stdout",
     "output_type": "stream",
     "text": [
      "done\n"
     ]
    }
   ],
   "source": [
    "import faiss\n",
    "\n",
    "mlp_output = catalog_tower(torch.arange(catalog_id_vocab_size).reshape(1,1,catalog_id_vocab_size), catalog_embedding)[0][0]\n",
    "mlp_output_arrays = mlp_output.detach().numpy()\n",
    "index_v2 = faiss.IndexFlatIP(16)\n",
    "faiss.normalize_L2(mlp_output_arrays)\n",
    "index_v2.add(mlp_output_arrays)\n",
    "print(\"done\")"
   ]
  },
  {
   "cell_type": "code",
   "execution_count": 0,
   "metadata": {
    "application/vnd.databricks.v1+cell": {
     "cellMetadata": {
      "byteLimit": 2048000,
      "rowLimit": 10000
     },
     "inputWidgets": {},
     "nuid": "ea3f7c12-4319-46e1-bae5-cd8f33611f8c",
     "showTitle": false,
     "tableResultSettingsMap": {},
     "title": ""
    }
   },
   "outputs": [],
   "source": [
    "raw_embedding = catalog_embedding(torch.arange(catalog_id_vocab_size).reshape(1,1,catalog_id_vocab_size))[0][0]\n",
    "raw_embedding_arrays = raw_embedding.detach().numpy()\n",
    "index_raw = faiss.IndexFlatIP(16)\n",
    "faiss.normalize_L2(raw_embedding_arrays)\n",
    "index_raw.add(raw_embedding_arrays)"
   ]
  },
  {
   "cell_type": "code",
   "execution_count": 0,
   "metadata": {
    "application/vnd.databricks.v1+cell": {
     "cellMetadata": {
      "byteLimit": 2048000,
      "rowLimit": 10000
     },
     "inputWidgets": {},
     "nuid": "772ee17f-3a81-4a8c-bc35-74d787bf21ab",
     "showTitle": false,
     "tableResultSettingsMap": {},
     "title": ""
    }
   },
   "outputs": [],
   "source": [
    "def get_nn(catalog_idx, index, mlp_output):\n",
    "    return [int(index_to_catalog[x]) for x in index.search(np.array([mlp_output[catalog_idx]]), k=100)[1][0] if x not in [0,1]] "
   ]
  },
  {
   "cell_type": "code",
   "execution_count": 0,
   "metadata": {
    "application/vnd.databricks.v1+cell": {
     "cellMetadata": {
      "byteLimit": 2048000,
      "rowLimit": 10000
     },
     "inputWidgets": {},
     "nuid": "0270fc01-a88f-48cf-adf8-916c580a5826",
     "showTitle": false,
     "tableResultSettingsMap": {},
     "title": ""
    }
   },
   "outputs": [
    {
     "output_type": "display_data",
     "data": {
      "text/html": [
       "\n",
       "    <div style=\"display:flex; flex-wrap: wrap;\">\n",
       "    \n",
       "            <figure style=\"width:10%; text-align:center; margin: 10px;\">\n",
       "                <img src=\"https://images.meesho.com/images/products/199452590/eot6i_256.jpg\" alt=\"Image\" style=\"width:100%;height:auto;\">\n",
       "                <figcaption>Women Jewellery</figcaption>\n",
       "                <figcaption>Bangles & Brace... </figcaption>\n",
       "                <figcaption>47 </figcaption>\n",
       "            </figure>\n",
       "        \n",
       "            <figure style=\"width:10%; text-align:center; margin: 10px;\">\n",
       "                <img src=\"https://images.meesho.com/images/products/334219334/odygw_256.jpg\" alt=\"Image\" style=\"width:100%;height:auto;\">\n",
       "                <figcaption>Women Ethnic We...</figcaption>\n",
       "                <figcaption>Blouses </figcaption>\n",
       "                <figcaption>13 </figcaption>\n",
       "            </figure>\n",
       "        \n",
       "            <figure style=\"width:10%; text-align:center; margin: 10px;\">\n",
       "                <img src=\"https://images.meesho.com/images/products/389808033/ugurx_256.jpg\" alt=\"Image\" style=\"width:100%;height:auto;\">\n",
       "                <figcaption>Women Ethnic We...</figcaption>\n",
       "                <figcaption>Kurta Sets </figcaption>\n",
       "                <figcaption>37 </figcaption>\n",
       "            </figure>\n",
       "        \n",
       "            <figure style=\"width:10%; text-align:center; margin: 10px;\">\n",
       "                <img src=\"https://images.meesho.com/images/products/371704153/iyvt0_256.jpg\" alt=\"Image\" style=\"width:100%;height:auto;\">\n",
       "                <figcaption>Women Bags</figcaption>\n",
       "                <figcaption>Cross Body Bags... </figcaption>\n",
       "                <figcaption>11 </figcaption>\n",
       "            </figure>\n",
       "        \n",
       "            <figure style=\"width:10%; text-align:center; margin: 10px;\">\n",
       "                <img src=\"https://images.meesho.com/images/products/157720797/2gtjc_256.jpg\" alt=\"Image\" style=\"width:100%;height:auto;\">\n",
       "                <figcaption>Gifts</figcaption>\n",
       "                <figcaption>Personalized Gi... </figcaption>\n",
       "                <figcaption>47 </figcaption>\n",
       "            </figure>\n",
       "        \n",
       "            <figure style=\"width:10%; text-align:center; margin: 10px;\">\n",
       "                <img src=\"https://images.meesho.com/images/products/376351972/6lbo8_256.jpg\" alt=\"Image\" style=\"width:100%;height:auto;\">\n",
       "                <figcaption>Women Ethnic We...</figcaption>\n",
       "                <figcaption>Sarees </figcaption>\n",
       "                <figcaption>2 </figcaption>\n",
       "            </figure>\n",
       "        \n",
       "            <figure style=\"width:10%; text-align:center; margin: 10px;\">\n",
       "                <img src=\"https://images.meesho.com/images/products/313375124/umpnl_256.jpg\" alt=\"Image\" style=\"width:100%;height:auto;\">\n",
       "                <figcaption>Women Western W...</figcaption>\n",
       "                <figcaption>Tshirts </figcaption>\n",
       "                <figcaption>1 </figcaption>\n",
       "            </figure>\n",
       "        \n",
       "            <figure style=\"width:10%; text-align:center; margin: 10px;\">\n",
       "                <img src=\"https://images.meesho.com/images/products/421917710/pingi_256.jpg\" alt=\"Image\" style=\"width:100%;height:auto;\">\n",
       "                <figcaption>Women Ethnic We...</figcaption>\n",
       "                <figcaption>Sarees </figcaption>\n",
       "                <figcaption>18 </figcaption>\n",
       "            </figure>\n",
       "        \n",
       "            <figure style=\"width:10%; text-align:center; margin: 10px;\">\n",
       "                <img src=\"https://images.meesho.com/images/products/305287293/kl4b0_256.jpg\" alt=\"Image\" style=\"width:100%;height:auto;\">\n",
       "                <figcaption>Kids - Girls We...</figcaption>\n",
       "                <figcaption>Tops & Tunics </figcaption>\n",
       "                <figcaption>5 </figcaption>\n",
       "            </figure>\n",
       "        \n",
       "            <figure style=\"width:10%; text-align:center; margin: 10px;\">\n",
       "                <img src=\"https://images.meesho.com/images/products/416671549/diqy0_256.jpg\" alt=\"Image\" style=\"width:100%;height:auto;\">\n",
       "                <figcaption>Men Footwear</figcaption>\n",
       "                <figcaption>Shoe Accessorie... </figcaption>\n",
       "                <figcaption>12 </figcaption>\n",
       "            </figure>\n",
       "        \n",
       "            <figure style=\"width:10%; text-align:center; margin: 10px;\">\n",
       "                <img src=\"https://images.meesho.com/images/products/457545743/aix5a_256.jpg\" alt=\"Image\" style=\"width:100%;height:auto;\">\n",
       "                <figcaption>Men Western Top...</figcaption>\n",
       "                <figcaption>Tshirts </figcaption>\n",
       "                <figcaption>4 </figcaption>\n",
       "            </figure>\n",
       "        \n",
       "            <figure style=\"width:10%; text-align:center; margin: 10px;\">\n",
       "                <img src=\"https://images.meesho.com/images/products/402478147/1n0po_256.jpg\" alt=\"Image\" style=\"width:100%;height:auto;\">\n",
       "                <figcaption>Women Western W...</figcaption>\n",
       "                <figcaption>Dresses </figcaption>\n",
       "                <figcaption>4 </figcaption>\n",
       "            </figure>\n",
       "        \n",
       "            <figure style=\"width:10%; text-align:center; margin: 10px;\">\n",
       "                <img src=\"https://images.meesho.com/images/products/470234743/issgv_256.jpg\" alt=\"Image\" style=\"width:100%;height:auto;\">\n",
       "                <figcaption>Women Western W...</figcaption>\n",
       "                <figcaption>Tops & Tunics </figcaption>\n",
       "                <figcaption>8 </figcaption>\n",
       "            </figure>\n",
       "        \n",
       "            <figure style=\"width:10%; text-align:center; margin: 10px;\">\n",
       "                <img src=\"https://images.meesho.com/images/products/385921846/iifv6_256.jpg\" alt=\"Image\" style=\"width:100%;height:auto;\">\n",
       "                <figcaption>Women Ethnic We...</figcaption>\n",
       "                <figcaption>Sarees </figcaption>\n",
       "                <figcaption>6 </figcaption>\n",
       "            </figure>\n",
       "        \n",
       "            <figure style=\"width:10%; text-align:center; margin: 10px;\">\n",
       "                <img src=\"https://images.meesho.com/images/products/346073438/ztzhz_256.jpg\" alt=\"Image\" style=\"width:100%;height:auto;\">\n",
       "                <figcaption>Women Ethnic We...</figcaption>\n",
       "                <figcaption>Sarees </figcaption>\n",
       "                <figcaption>7 </figcaption>\n",
       "            </figure>\n",
       "        \n",
       "            <figure style=\"width:10%; text-align:center; margin: 10px;\">\n",
       "                <img src=\"https://images.meesho.com/images/products/462265586/60see_256.jpg\" alt=\"Image\" style=\"width:100%;height:auto;\">\n",
       "                <figcaption>Women Inner & S...</figcaption>\n",
       "                <figcaption>Briefs </figcaption>\n",
       "                <figcaption>2 </figcaption>\n",
       "            </figure>\n",
       "        \n",
       "            <figure style=\"width:10%; text-align:center; margin: 10px;\">\n",
       "                <img src=\"https://images.meesho.com/images/products/376733964/kyrw9_256.jpg\" alt=\"Image\" style=\"width:100%;height:auto;\">\n",
       "                <figcaption>Women Inner & S...</figcaption>\n",
       "                <figcaption>Nightsuits </figcaption>\n",
       "                <figcaption>3 </figcaption>\n",
       "            </figure>\n",
       "        \n",
       "            <figure style=\"width:10%; text-align:center; margin: 10px;\">\n",
       "                <img src=\"https://images.meesho.com/images/products/436500698/ycprd_256.jpg\" alt=\"Image\" style=\"width:100%;height:auto;\">\n",
       "                <figcaption>Women Jewellery</figcaption>\n",
       "                <figcaption>Jewellery Set </figcaption>\n",
       "                <figcaption>48 </figcaption>\n",
       "            </figure>\n",
       "        \n",
       "            <figure style=\"width:10%; text-align:center; margin: 10px;\">\n",
       "                <img src=\"https://images.meesho.com/images/products/439317134/uaehh_256.jpg\" alt=\"Image\" style=\"width:100%;height:auto;\">\n",
       "                <figcaption>Women Ethnic We...</figcaption>\n",
       "                <figcaption>Kurta Sets </figcaption>\n",
       "                <figcaption>5 </figcaption>\n",
       "            </figure>\n",
       "        \n",
       "            <figure style=\"width:10%; text-align:center; margin: 10px;\">\n",
       "                <img src=\"https://images.meesho.com/images/products/428104125/z40gu_256.jpg\" alt=\"Image\" style=\"width:100%;height:auto;\">\n",
       "                <figcaption>Women Ethnic We...</figcaption>\n",
       "                <figcaption>Kurta Sets </figcaption>\n",
       "                <figcaption>41 </figcaption>\n",
       "            </figure>\n",
       "        \n",
       "            <figure style=\"width:10%; text-align:center; margin: 10px;\">\n",
       "                <img src=\"https://images.meesho.com/images/products/382373275/z27qa_256.jpg\" alt=\"Image\" style=\"width:100%;height:auto;\">\n",
       "                <figcaption>Slipcovers(Sofa...</figcaption>\n",
       "                <figcaption>Chair Cover </figcaption>\n",
       "                <figcaption>10 </figcaption>\n",
       "            </figure>\n",
       "        \n",
       "            <figure style=\"width:10%; text-align:center; margin: 10px;\">\n",
       "                <img src=\"https://images.meesho.com/images/products/262773558/pve6c_256.jpg\" alt=\"Image\" style=\"width:100%;height:auto;\">\n",
       "                <figcaption>Women Ethnic We...</figcaption>\n",
       "                <figcaption>Sarees </figcaption>\n",
       "                <figcaption>1 </figcaption>\n",
       "            </figure>\n",
       "        \n",
       "            <figure style=\"width:10%; text-align:center; margin: 10px;\">\n",
       "                <img src=\"https://images.meesho.com/images/products/278047993/bfsnp_256.jpg\" alt=\"Image\" style=\"width:100%;height:auto;\">\n",
       "                <figcaption>Women Ethnic We...</figcaption>\n",
       "                <figcaption>Sarees </figcaption>\n",
       "                <figcaption>34 </figcaption>\n",
       "            </figure>\n",
       "        \n",
       "            <figure style=\"width:10%; text-align:center; margin: 10px;\">\n",
       "                <img src=\"https://images.meesho.com/images/products/432837972/klhle_256.jpg\" alt=\"Image\" style=\"width:100%;height:auto;\">\n",
       "                <figcaption>Women Ethnic We...</figcaption>\n",
       "                <figcaption>Sarees </figcaption>\n",
       "                <figcaption>15 </figcaption>\n",
       "            </figure>\n",
       "        \n",
       "            <figure style=\"width:10%; text-align:center; margin: 10px;\">\n",
       "                <img src=\"https://images.meesho.com/images/products/322558766/ktd3a_256.jpg\" alt=\"Image\" style=\"width:100%;height:auto;\">\n",
       "                <figcaption>Women Ethnic We...</figcaption>\n",
       "                <figcaption>Sarees </figcaption>\n",
       "                <figcaption>2 </figcaption>\n",
       "            </figure>\n",
       "        \n",
       "            <figure style=\"width:10%; text-align:center; margin: 10px;\">\n",
       "                <img src=\"https://images.meesho.com/images/products/399593338/a7zyx_256.jpg\" alt=\"Image\" style=\"width:100%;height:auto;\">\n",
       "                <figcaption>Men Western Top...</figcaption>\n",
       "                <figcaption>Shirts </figcaption>\n",
       "                <figcaption>33 </figcaption>\n",
       "            </figure>\n",
       "        \n",
       "            <figure style=\"width:10%; text-align:center; margin: 10px;\">\n",
       "                <img src=\"https://images.meesho.com/images/products/266694683/auqfs_256.jpg\" alt=\"Image\" style=\"width:100%;height:auto;\">\n",
       "                <figcaption>Women Jewellery</figcaption>\n",
       "                <figcaption>Jewellery Set </figcaption>\n",
       "                <figcaption>49 </figcaption>\n",
       "            </figure>\n",
       "        \n",
       "            <figure style=\"width:10%; text-align:center; margin: 10px;\">\n",
       "                <img src=\"https://images.meesho.com/images/products/450307288/gnyrq_256.jpg\" alt=\"Image\" style=\"width:100%;height:auto;\">\n",
       "                <figcaption>Clocks</figcaption>\n",
       "                <figcaption>Clocks </figcaption>\n",
       "                <figcaption>8 </figcaption>\n",
       "            </figure>\n",
       "        \n",
       "            <figure style=\"width:10%; text-align:center; margin: 10px;\">\n",
       "                <img src=\"https://images.meesho.com/images/products/352969087/dgt16_256.jpg\" alt=\"Image\" style=\"width:100%;height:auto;\">\n",
       "                <figcaption>Slipcovers(Sofa...</figcaption>\n",
       "                <figcaption>Chair Cover </figcaption>\n",
       "                <figcaption>34 </figcaption>\n",
       "            </figure>\n",
       "        \n",
       "            <figure style=\"width:10%; text-align:center; margin: 10px;\">\n",
       "                <img src=\"https://images.meesho.com/images/products/451093590/0iia1_256.jpg\" alt=\"Image\" style=\"width:100%;height:auto;\">\n",
       "                <figcaption>Women Western W...</figcaption>\n",
       "                <figcaption>Sweaters </figcaption>\n",
       "                <figcaption>40 </figcaption>\n",
       "            </figure>\n",
       "        \n",
       "            <figure style=\"width:10%; text-align:center; margin: 10px;\">\n",
       "                <img src=\"https://images.meesho.com/images/products/415416163/xef27_256.jpg\" alt=\"Image\" style=\"width:100%;height:auto;\">\n",
       "                <figcaption>Feeding & Water...</figcaption>\n",
       "                <figcaption>Feeding Bowls f... </figcaption>\n",
       "                <figcaption>6 </figcaption>\n",
       "            </figure>\n",
       "        \n",
       "            <figure style=\"width:10%; text-align:center; margin: 10px;\">\n",
       "                <img src=\"https://images.meesho.com/images/products/232468735/wav1r_256.jpg\" alt=\"Image\" style=\"width:100%;height:auto;\">\n",
       "                <figcaption>Women Ethnic We...</figcaption>\n",
       "                <figcaption>Sarees </figcaption>\n",
       "                <figcaption>7 </figcaption>\n",
       "            </figure>\n",
       "        \n",
       "            <figure style=\"width:10%; text-align:center; margin: 10px;\">\n",
       "                <img src=\"https://images.meesho.com/images/products/389364042/bajki_256.jpg\" alt=\"Image\" style=\"width:100%;height:auto;\">\n",
       "                <figcaption>Women Western W...</figcaption>\n",
       "                <figcaption>Jeans </figcaption>\n",
       "                <figcaption>29 </figcaption>\n",
       "            </figure>\n",
       "        \n",
       "            <figure style=\"width:10%; text-align:center; margin: 10px;\">\n",
       "                <img src=\"https://images.meesho.com/images/products/346386614/prjzp_256.jpg\" alt=\"Image\" style=\"width:100%;height:auto;\">\n",
       "                <figcaption>Women Ethnic We...</figcaption>\n",
       "                <figcaption>Sarees </figcaption>\n",
       "                <figcaption>1 </figcaption>\n",
       "            </figure>\n",
       "        \n",
       "            <figure style=\"width:10%; text-align:center; margin: 10px;\">\n",
       "                <img src=\"https://images.meesho.com/images/products/398386371/l6sy9_256.jpg\" alt=\"Image\" style=\"width:100%;height:auto;\">\n",
       "                <figcaption>Women Jewellery</figcaption>\n",
       "                <figcaption>Necklaces & Cha... </figcaption>\n",
       "                <figcaption>8 </figcaption>\n",
       "            </figure>\n",
       "        \n",
       "            <figure style=\"width:10%; text-align:center; margin: 10px;\">\n",
       "                <img src=\"https://images.meesho.com/images/products/402982899/tvyjr_256.jpg\" alt=\"Image\" style=\"width:100%;height:auto;\">\n",
       "                <figcaption>Women Jewellery</figcaption>\n",
       "                <figcaption>Bangles & Brace... </figcaption>\n",
       "                <figcaption>1 </figcaption>\n",
       "            </figure>\n",
       "        \n",
       "            <figure style=\"width:10%; text-align:center; margin: 10px;\">\n",
       "                <img src=\"https://images.meesho.com/images/products/141908243/ukpvs_256.jpg\" alt=\"Image\" style=\"width:100%;height:auto;\">\n",
       "                <figcaption>Women Western W...</figcaption>\n",
       "                <figcaption>Dresses </figcaption>\n",
       "                <figcaption>11 </figcaption>\n",
       "            </figure>\n",
       "        \n",
       "            <figure style=\"width:10%; text-align:center; margin: 10px;\">\n",
       "                <img src=\"https://images.meesho.com/images/products/254144242/mgd4u_256.jpg\" alt=\"Image\" style=\"width:100%;height:auto;\">\n",
       "                <figcaption>Kids - Boys Wes...</figcaption>\n",
       "                <figcaption>Oneseis & Rompe... </figcaption>\n",
       "                <figcaption>41 </figcaption>\n",
       "            </figure>\n",
       "        \n",
       "            <figure style=\"width:10%; text-align:center; margin: 10px;\">\n",
       "                <img src=\"https://images.meesho.com/images/products/191463649/1hvmr_256.jpg\" alt=\"Image\" style=\"width:100%;height:auto;\">\n",
       "                <figcaption>Women Accessori...</figcaption>\n",
       "                <figcaption>Hair extensions... </figcaption>\n",
       "                <figcaption>24 </figcaption>\n",
       "            </figure>\n",
       "        \n",
       "            <figure style=\"width:10%; text-align:center; margin: 10px;\">\n",
       "                <img src=\"https://images.meesho.com/images/products/441752549/kmjfe_256.jpg\" alt=\"Image\" style=\"width:100%;height:auto;\">\n",
       "                <figcaption>Women Jewellery</figcaption>\n",
       "                <figcaption>Jewellery Set </figcaption>\n",
       "                <figcaption>8 </figcaption>\n",
       "            </figure>\n",
       "        \n",
       "            <figure style=\"width:10%; text-align:center; margin: 10px;\">\n",
       "                <img src=\"https://images.meesho.com/images/products/63500202/uzyw3_256.jpg\" alt=\"Image\" style=\"width:100%;height:auto;\">\n",
       "                <figcaption>Nails Makeup</figcaption>\n",
       "                <figcaption>Nail Extensions </figcaption>\n",
       "                <figcaption>1 </figcaption>\n",
       "            </figure>\n",
       "        \n",
       "            <figure style=\"width:10%; text-align:center; margin: 10px;\">\n",
       "                <img src=\"https://images.meesho.com/images/products/214415298/dradi_256.jpg\" alt=\"Image\" style=\"width:100%;height:auto;\">\n",
       "                <figcaption>Pretend Play</figcaption>\n",
       "                <figcaption>Dress ups & cos... </figcaption>\n",
       "                <figcaption>13 </figcaption>\n",
       "            </figure>\n",
       "        \n",
       "            <figure style=\"width:10%; text-align:center; margin: 10px;\">\n",
       "                <img src=\"https://images.meesho.com/images/products/390475489/oxiof_256.jpg\" alt=\"Image\" style=\"width:100%;height:auto;\">\n",
       "                <figcaption>Women Jewellery</figcaption>\n",
       "                <figcaption>Necklaces & Cha... </figcaption>\n",
       "                <figcaption>33 </figcaption>\n",
       "            </figure>\n",
       "        \n",
       "            <figure style=\"width:10%; text-align:center; margin: 10px;\">\n",
       "                <img src=\"https://images.meesho.com/images/products/464342111/ty6il_256.jpg\" alt=\"Image\" style=\"width:100%;height:auto;\">\n",
       "                <figcaption>Women Ethnic We...</figcaption>\n",
       "                <figcaption>Dupatta Sets </figcaption>\n",
       "                <figcaption>7 </figcaption>\n",
       "            </figure>\n",
       "        \n",
       "            <figure style=\"width:10%; text-align:center; margin: 10px;\">\n",
       "                <img src=\"https://images.meesho.com/images/products/431003828/9ymrl_256.jpg\" alt=\"Image\" style=\"width:100%;height:auto;\">\n",
       "                <figcaption>Kids Accessorie...</figcaption>\n",
       "                <figcaption>Bathrobes </figcaption>\n",
       "                <figcaption>12 </figcaption>\n",
       "            </figure>\n",
       "        \n",
       "            <figure style=\"width:10%; text-align:center; margin: 10px;\">\n",
       "                <img src=\"https://images.meesho.com/images/products/359437248/nppnq_256.jpg\" alt=\"Image\" style=\"width:100%;height:auto;\">\n",
       "                <figcaption>Women Ethnic We...</figcaption>\n",
       "                <figcaption>Kurtis & Kurtas </figcaption>\n",
       "                <figcaption>5 </figcaption>\n",
       "            </figure>\n",
       "        \n",
       "            <figure style=\"width:10%; text-align:center; margin: 10px;\">\n",
       "                <img src=\"https://images.meesho.com/images/products/388329774/qicre_256.jpg\" alt=\"Image\" style=\"width:100%;height:auto;\">\n",
       "                <figcaption>Women Ethnic We...</figcaption>\n",
       "                <figcaption>Ethnic Bottomwe... </figcaption>\n",
       "                <figcaption>13 </figcaption>\n",
       "            </figure>\n",
       "        \n",
       "            <figure style=\"width:10%; text-align:center; margin: 10px;\">\n",
       "                <img src=\"https://images.meesho.com/images/products/425589924/hcm0a_256.jpg\" alt=\"Image\" style=\"width:100%;height:auto;\">\n",
       "                <figcaption>Kids - Girls In...</figcaption>\n",
       "                <figcaption>Kurta Sets </figcaption>\n",
       "                <figcaption>9 </figcaption>\n",
       "            </figure>\n",
       "        \n",
       "            <figure style=\"width:10%; text-align:center; margin: 10px;\">\n",
       "                <img src=\"https://images.meesho.com/images/products/447858024/34bql_256.jpg\" alt=\"Image\" style=\"width:100%;height:auto;\">\n",
       "                <figcaption>Women Accessori...</figcaption>\n",
       "                <figcaption>Hair Bands </figcaption>\n",
       "                <figcaption>37 </figcaption>\n",
       "            </figure>\n",
       "        \n",
       "            <figure style=\"width:10%; text-align:center; margin: 10px;\">\n",
       "                <img src=\"https://images.meesho.com/images/products/364319760/6ibpp_256.jpg\" alt=\"Image\" style=\"width:100%;height:auto;\">\n",
       "                <figcaption>Fishing</figcaption>\n",
       "                <figcaption>Fishing Lures &... </figcaption>\n",
       "                <figcaption>3 </figcaption>\n",
       "            </figure>\n",
       "        \n",
       "            <figure style=\"width:10%; text-align:center; margin: 10px;\">\n",
       "                <img src=\"https://images.meesho.com/images/products/370393306/ialxu_256.jpg\" alt=\"Image\" style=\"width:100%;height:auto;\">\n",
       "                <figcaption>Women Inner & S...</figcaption>\n",
       "                <figcaption>Shapewear </figcaption>\n",
       "                <figcaption>36 </figcaption>\n",
       "            </figure>\n",
       "        \n",
       "            <figure style=\"width:10%; text-align:center; margin: 10px;\">\n",
       "                <img src=\"https://images.meesho.com/images/products/366591829/fvw3j_256.jpg\" alt=\"Image\" style=\"width:100%;height:auto;\">\n",
       "                <figcaption>Tea</figcaption>\n",
       "                <figcaption>Black Tea </figcaption>\n",
       "                <figcaption>6 </figcaption>\n",
       "            </figure>\n",
       "        \n",
       "            <figure style=\"width:10%; text-align:center; margin: 10px;\">\n",
       "                <img src=\"https://images.meesho.com/images/products/318306381/fhmtn_256.jpg\" alt=\"Image\" style=\"width:100%;height:auto;\">\n",
       "                <figcaption>Soft Toys</figcaption>\n",
       "                <figcaption>Stuffed animals </figcaption>\n",
       "                <figcaption>48 </figcaption>\n",
       "            </figure>\n",
       "        \n",
       "            <figure style=\"width:10%; text-align:center; margin: 10px;\">\n",
       "                <img src=\"https://images.meesho.com/images/products/373650969/faukb_256.jpg\" alt=\"Image\" style=\"width:100%;height:auto;\">\n",
       "                <figcaption>Action & Toy Fi...</figcaption>\n",
       "                <figcaption>Toy Figures </figcaption>\n",
       "                <figcaption>2 </figcaption>\n",
       "            </figure>\n",
       "        \n",
       "            <figure style=\"width:10%; text-align:center; margin: 10px;\">\n",
       "                <img src=\"https://images.meesho.com/images/products/441448247/jkeam_256.jpg\" alt=\"Image\" style=\"width:100%;height:auto;\">\n",
       "                <figcaption>Puja Accessorie...</figcaption>\n",
       "                <figcaption>Puja Articles </figcaption>\n",
       "                <figcaption>29 </figcaption>\n",
       "            </figure>\n",
       "        \n",
       "            <figure style=\"width:10%; text-align:center; margin: 10px;\">\n",
       "                <img src=\"https://images.meesho.com/images/products/409896746/rzalr_256.jpg\" alt=\"Image\" style=\"width:100%;height:auto;\">\n",
       "                <figcaption>Clothing & Ward...</figcaption>\n",
       "                <figcaption>Clothes Hangers </figcaption>\n",
       "                <figcaption>21 </figcaption>\n",
       "            </figure>\n",
       "        \n",
       "            <figure style=\"width:10%; text-align:center; margin: 10px;\">\n",
       "                <img src=\"https://images.meesho.com/images/products/205101343/kwaxb_256.jpg\" alt=\"Image\" style=\"width:100%;height:auto;\">\n",
       "                <figcaption>Art & Craft Sup...</figcaption>\n",
       "                <figcaption>Yarns </figcaption>\n",
       "                <figcaption>24 </figcaption>\n",
       "            </figure>\n",
       "        \n",
       "            <figure style=\"width:10%; text-align:center; margin: 10px;\">\n",
       "                <img src=\"https://images.meesho.com/images/products/384399011/62odt_256.jpg\" alt=\"Image\" style=\"width:100%;height:auto;\">\n",
       "                <figcaption>Women Ethnic We...</figcaption>\n",
       "                <figcaption>Blouses </figcaption>\n",
       "                <figcaption>30 </figcaption>\n",
       "            </figure>\n",
       "        \n",
       "            <figure style=\"width:10%; text-align:center; margin: 10px;\">\n",
       "                <img src=\"https://images.meesho.com/images/products/417634826/gonwy_256.jpg\" alt=\"Image\" style=\"width:100%;height:auto;\">\n",
       "                <figcaption>Kitchen & Dinin...</figcaption>\n",
       "                <figcaption>Kitchen Storage </figcaption>\n",
       "                <figcaption>36 </figcaption>\n",
       "            </figure>\n",
       "        \n",
       "            <figure style=\"width:10%; text-align:center; margin: 10px;\">\n",
       "                <img src=\"https://images.meesho.com/images/products/443713920/7qn0o_256.jpg\" alt=\"Image\" style=\"width:100%;height:auto;\">\n",
       "                <figcaption>Women Ethnic We...</figcaption>\n",
       "                <figcaption>Sarees </figcaption>\n",
       "                <figcaption>27 </figcaption>\n",
       "            </figure>\n",
       "        \n",
       "            <figure style=\"width:10%; text-align:center; margin: 10px;\">\n",
       "                <img src=\"https://images.meesho.com/images/products/57731719/zmuv9_256.jpg\" alt=\"Image\" style=\"width:100%;height:auto;\">\n",
       "                <figcaption>Women Inner & S...</figcaption>\n",
       "                <figcaption>Thermal Tops </figcaption>\n",
       "                <figcaption>7 </figcaption>\n",
       "            </figure>\n",
       "        \n",
       "            <figure style=\"width:10%; text-align:center; margin: 10px;\">\n",
       "                <img src=\"https://images.meesho.com/images/products/237094017/rjy53_256.jpg\" alt=\"Image\" style=\"width:100%;height:auto;\">\n",
       "                <figcaption>Women Ethnic We...</figcaption>\n",
       "                <figcaption>Suits & Dress M... </figcaption>\n",
       "                <figcaption>16 </figcaption>\n",
       "            </figure>\n",
       "        \n",
       "            <figure style=\"width:10%; text-align:center; margin: 10px;\">\n",
       "                <img src=\"https://images.meesho.com/images/products/244215520/ggpbk_256.jpg\" alt=\"Image\" style=\"width:100%;height:auto;\">\n",
       "                <figcaption>Women Ethnic We...</figcaption>\n",
       "                <figcaption>Sarees </figcaption>\n",
       "                <figcaption>9 </figcaption>\n",
       "            </figure>\n",
       "        \n",
       "            <figure style=\"width:10%; text-align:center; margin: 10px;\">\n",
       "                <img src=\"https://images.meesho.com/images/products/440629152/iu8ue_256.jpg\" alt=\"Image\" style=\"width:100%;height:auto;\">\n",
       "                <figcaption>Maternity Care</figcaption>\n",
       "                <figcaption>Breast Creams </figcaption>\n",
       "                <figcaption>34 </figcaption>\n",
       "            </figure>\n",
       "        \n",
       "            <figure style=\"width:10%; text-align:center; margin: 10px;\">\n",
       "                <img src=\"https://images.meesho.com/images/products/326991366/knpqm_256.jpg\" alt=\"Image\" style=\"width:100%;height:auto;\">\n",
       "                <figcaption>Women Western W...</figcaption>\n",
       "                <figcaption>Palazzos </figcaption>\n",
       "                <figcaption>1 </figcaption>\n",
       "            </figure>\n",
       "        \n",
       "            <figure style=\"width:10%; text-align:center; margin: 10px;\">\n",
       "                <img src=\"https://images.meesho.com/images/products/309221449/mpwse_256.jpg\" alt=\"Image\" style=\"width:100%;height:auto;\">\n",
       "                <figcaption>Women Western W...</figcaption>\n",
       "                <figcaption>Jeans </figcaption>\n",
       "                <figcaption>21 </figcaption>\n",
       "            </figure>\n",
       "        \n",
       "            <figure style=\"width:10%; text-align:center; margin: 10px;\">\n",
       "                <img src=\"https://images.meesho.com/images/products/328830575/ddosl_256.jpg\" alt=\"Image\" style=\"width:100%;height:auto;\">\n",
       "                <figcaption>Soft Toys</figcaption>\n",
       "                <figcaption>Teddy Bears </figcaption>\n",
       "                <figcaption>25 </figcaption>\n",
       "            </figure>\n",
       "        \n",
       "            <figure style=\"width:10%; text-align:center; margin: 10px;\">\n",
       "                <img src=\"https://images.meesho.com/images/products/451389167/2pmsy_256.jpg\" alt=\"Image\" style=\"width:100%;height:auto;\">\n",
       "                <figcaption>Kids - Girls We...</figcaption>\n",
       "                <figcaption>Frocks & Dresse... </figcaption>\n",
       "                <figcaption>6 </figcaption>\n",
       "            </figure>\n",
       "        \n",
       "            <figure style=\"width:10%; text-align:center; margin: 10px;\">\n",
       "                <img src=\"https://images.meesho.com/images/products/379939783/xfwmk_256.jpg\" alt=\"Image\" style=\"width:100%;height:auto;\">\n",
       "                <figcaption>Men Footwear</figcaption>\n",
       "                <figcaption>Crocs </figcaption>\n",
       "                <figcaption>5 </figcaption>\n",
       "            </figure>\n",
       "        \n",
       "            <figure style=\"width:10%; text-align:center; margin: 10px;\">\n",
       "                <img src=\"https://images.meesho.com/images/products/382173888/phahd_256.jpg\" alt=\"Image\" style=\"width:100%;height:auto;\">\n",
       "                <figcaption>Women Footwear</figcaption>\n",
       "                <figcaption>Flipflops & Sli... </figcaption>\n",
       "                <figcaption>33 </figcaption>\n",
       "            </figure>\n",
       "        \n",
       "            <figure style=\"width:10%; text-align:center; margin: 10px;\">\n",
       "                <img src=\"https://images.meesho.com/images/products/393390266/4ittm_256.jpg\" alt=\"Image\" style=\"width:100%;height:auto;\">\n",
       "                <figcaption>Women Jewellery</figcaption>\n",
       "                <figcaption>Jewellery Set </figcaption>\n",
       "                <figcaption>16 </figcaption>\n",
       "            </figure>\n",
       "        \n",
       "            <figure style=\"width:10%; text-align:center; margin: 10px;\">\n",
       "                <img src=\"https://images.meesho.com/images/products/120481940/ierxf_256.jpg\" alt=\"Image\" style=\"width:100%;height:auto;\">\n",
       "                <figcaption>Women Jewellery</figcaption>\n",
       "                <figcaption>Rings </figcaption>\n",
       "                <figcaption>41 </figcaption>\n",
       "            </figure>\n",
       "        \n",
       "            <figure style=\"width:10%; text-align:center; margin: 10px;\">\n",
       "                <img src=\"https://images.meesho.com/images/products/383835736/wytvi_256.jpg\" alt=\"Image\" style=\"width:100%;height:auto;\">\n",
       "                <figcaption>Kids - Girls We...</figcaption>\n",
       "                <figcaption>Tops & Tunics </figcaption>\n",
       "                <figcaption>36 </figcaption>\n",
       "            </figure>\n",
       "        \n",
       "            <figure style=\"width:10%; text-align:center; margin: 10px;\">\n",
       "                <img src=\"https://images.meesho.com/images/products/421713096/ii3l2_256.jpg\" alt=\"Image\" style=\"width:100%;height:auto;\">\n",
       "                <figcaption>Men Accessories</figcaption>\n",
       "                <figcaption>Watchbands </figcaption>\n",
       "                <figcaption>6 </figcaption>\n",
       "            </figure>\n",
       "        \n",
       "            <figure style=\"width:10%; text-align:center; margin: 10px;\">\n",
       "                <img src=\"https://images.meesho.com/images/products/440815907/zz3l5_256.jpg\" alt=\"Image\" style=\"width:100%;height:auto;\">\n",
       "                <figcaption>Women Western W...</figcaption>\n",
       "                <figcaption>Gowns </figcaption>\n",
       "                <figcaption>29 </figcaption>\n",
       "            </figure>\n",
       "        \n",
       "            <figure style=\"width:10%; text-align:center; margin: 10px;\">\n",
       "                <img src=\"https://images.meesho.com/images/products/422779728/nqbkc_256.jpg\" alt=\"Image\" style=\"width:100%;height:auto;\">\n",
       "                <figcaption>Women Ethnic We...</figcaption>\n",
       "                <figcaption>Blouses </figcaption>\n",
       "                <figcaption>3 </figcaption>\n",
       "            </figure>\n",
       "        \n",
       "            <figure style=\"width:10%; text-align:center; margin: 10px;\">\n",
       "                <img src=\"https://images.meesho.com/images/products/455108598/5rdwj_256.jpg\" alt=\"Image\" style=\"width:100%;height:auto;\">\n",
       "                <figcaption>Women Ethnic We...</figcaption>\n",
       "                <figcaption>Dupatta Sets </figcaption>\n",
       "                <figcaption>2 </figcaption>\n",
       "            </figure>\n",
       "        \n",
       "            <figure style=\"width:10%; text-align:center; margin: 10px;\">\n",
       "                <img src=\"https://images.meesho.com/images/products/164522944/5nllj_256.jpg\" alt=\"Image\" style=\"width:100%;height:auto;\">\n",
       "                <figcaption>Key Holders & W...</figcaption>\n",
       "                <figcaption>Key Holders </figcaption>\n",
       "                <figcaption>6 </figcaption>\n",
       "            </figure>\n",
       "        \n",
       "            <figure style=\"width:10%; text-align:center; margin: 10px;\">\n",
       "                <img src=\"https://images.meesho.com/images/products/318497150/rktgi_256.jpg\" alt=\"Image\" style=\"width:100%;height:auto;\">\n",
       "                <figcaption>Women Western W...</figcaption>\n",
       "                <figcaption>Dresses </figcaption>\n",
       "                <figcaption>4 </figcaption>\n",
       "            </figure>\n",
       "        \n",
       "            <figure style=\"width:10%; text-align:center; margin: 10px;\">\n",
       "                <img src=\"https://images.meesho.com/images/products/188028943/fizdl_256.jpg\" alt=\"Image\" style=\"width:100%;height:auto;\">\n",
       "                <figcaption>Clothing & Ward...</figcaption>\n",
       "                <figcaption>Clothes Covers </figcaption>\n",
       "                <figcaption>19 </figcaption>\n",
       "            </figure>\n",
       "        \n",
       "            <figure style=\"width:10%; text-align:center; margin: 10px;\">\n",
       "                <img src=\"https://images.meesho.com/images/products/316214744/xauhu_256.jpg\" alt=\"Image\" style=\"width:100%;height:auto;\">\n",
       "                <figcaption>Women Western W...</figcaption>\n",
       "                <figcaption>Sweaters </figcaption>\n",
       "                <figcaption>27 </figcaption>\n",
       "            </figure>\n",
       "        \n",
       "            <figure style=\"width:10%; text-align:center; margin: 10px;\">\n",
       "                <img src=\"https://images.meesho.com/images/products/353555245/idory_256.jpg\" alt=\"Image\" style=\"width:100%;height:auto;\">\n",
       "                <figcaption>Women Western W...</figcaption>\n",
       "                <figcaption>Palazzos </figcaption>\n",
       "                <figcaption>20 </figcaption>\n",
       "            </figure>\n",
       "        \n",
       "            <figure style=\"width:10%; text-align:center; margin: 10px;\">\n",
       "                <img src=\"https://images.meesho.com/images/products/448303972/acq3k_256.jpg\" alt=\"Image\" style=\"width:100%;height:auto;\">\n",
       "                <figcaption>Women Ethnic We...</figcaption>\n",
       "                <figcaption>Kurtis & Kurtas </figcaption>\n",
       "                <figcaption>29 </figcaption>\n",
       "            </figure>\n",
       "        \n",
       "            <figure style=\"width:10%; text-align:center; margin: 10px;\">\n",
       "                <img src=\"https://images.meesho.com/images/products/91640160/vwbeh_256.jpg\" alt=\"Image\" style=\"width:100%;height:auto;\">\n",
       "                <figcaption>Baby & Toddler ...</figcaption>\n",
       "                <figcaption>Toddler Toys </figcaption>\n",
       "                <figcaption>25 </figcaption>\n",
       "            </figure>\n",
       "        \n",
       "            <figure style=\"width:10%; text-align:center; margin: 10px;\">\n",
       "                <img src=\"https://images.meesho.com/images/products/429603842/7qfln_256.jpg\" alt=\"Image\" style=\"width:100%;height:auto;\">\n",
       "                <figcaption>Women Western W...</figcaption>\n",
       "                <figcaption>Dresses </figcaption>\n",
       "                <figcaption>14 </figcaption>\n",
       "            </figure>\n",
       "        \n",
       "            <figure style=\"width:10%; text-align:center; margin: 10px;\">\n",
       "                <img src=\"https://images.meesho.com/images/products/392765704/sej1c_256.jpg\" alt=\"Image\" style=\"width:100%;height:auto;\">\n",
       "                <figcaption>Unisex Fragranc...</figcaption>\n",
       "                <figcaption>Attar </figcaption>\n",
       "                <figcaption>13 </figcaption>\n",
       "            </figure>\n",
       "        \n",
       "            <figure style=\"width:10%; text-align:center; margin: 10px;\">\n",
       "                <img src=\"https://images.meesho.com/images/products/430245772/g0xwm_256.jpg\" alt=\"Image\" style=\"width:100%;height:auto;\">\n",
       "                <figcaption>Men Western Top...</figcaption>\n",
       "                <figcaption>Shirts </figcaption>\n",
       "                <figcaption>46 </figcaption>\n",
       "            </figure>\n",
       "        \n",
       "            <figure style=\"width:10%; text-align:center; margin: 10px;\">\n",
       "                <img src=\"https://images.meesho.com/images/products/277775640/d4rfn_256.jpg\" alt=\"Image\" style=\"width:100%;height:auto;\">\n",
       "                <figcaption>Women Accessori...</figcaption>\n",
       "                <figcaption>Analog Watches </figcaption>\n",
       "                <figcaption>5 </figcaption>\n",
       "            </figure>\n",
       "        \n",
       "            <figure style=\"width:10%; text-align:center; margin: 10px;\">\n",
       "                <img src=\"https://images.meesho.com/images/products/321899432/sxvto_256.jpg\" alt=\"Image\" style=\"width:100%;height:auto;\">\n",
       "                <figcaption>Cases & Covers</figcaption>\n",
       "                <figcaption>Mobile Cases & ... </figcaption>\n",
       "                <figcaption>3 </figcaption>\n",
       "            </figure>\n",
       "        \n",
       "            <figure style=\"width:10%; text-align:center; margin: 10px;\">\n",
       "                <img src=\"https://images.meesho.com/images/products/333398972/rpcu1_256.jpg\" alt=\"Image\" style=\"width:100%;height:auto;\">\n",
       "                <figcaption>Women Footwear</figcaption>\n",
       "                <figcaption>Heels </figcaption>\n",
       "                <figcaption>37 </figcaption>\n",
       "            </figure>\n",
       "        \n",
       "            <figure style=\"width:10%; text-align:center; margin: 10px;\">\n",
       "                <img src=\"https://images.meesho.com/images/products/421192702/dypoy_256.jpg\" alt=\"Image\" style=\"width:100%;height:auto;\">\n",
       "                <figcaption>Puja Accessorie...</figcaption>\n",
       "                <figcaption>Idols & Figurin... </figcaption>\n",
       "                <figcaption>25 </figcaption>\n",
       "            </figure>\n",
       "        \n",
       "            <figure style=\"width:10%; text-align:center; margin: 10px;\">\n",
       "                <img src=\"https://images.meesho.com/images/products/46766437/rl2xz_256.jpg\" alt=\"Image\" style=\"width:100%;height:auto;\">\n",
       "                <figcaption>Women Ethnic We...</figcaption>\n",
       "                <figcaption>Sarees </figcaption>\n",
       "                <figcaption>3 </figcaption>\n",
       "            </figure>\n",
       "        \n",
       "            <figure style=\"width:10%; text-align:center; margin: 10px;\">\n",
       "                <img src=\"https://images.meesho.com/images/products/437072348/lybxx_256.jpg\" alt=\"Image\" style=\"width:100%;height:auto;\">\n",
       "                <figcaption>Women Accessori...</figcaption>\n",
       "                <figcaption>Analog Watches </figcaption>\n",
       "                <figcaption>2 </figcaption>\n",
       "            </figure>\n",
       "        \n",
       "            <figure style=\"width:10%; text-align:center; margin: 10px;\">\n",
       "                <img src=\"https://images.meesho.com/images/products/441148023/jn7a0_256.jpg\" alt=\"Image\" style=\"width:100%;height:auto;\">\n",
       "                <figcaption>Cushions & Cush...</figcaption>\n",
       "                <figcaption>Cushion Covers </figcaption>\n",
       "                <figcaption>8 </figcaption>\n",
       "            </figure>\n",
       "        \n",
       "            <figure style=\"width:10%; text-align:center; margin: 10px;\">\n",
       "                <img src=\"https://images.meesho.com/images/products/170008778/7kn2b_256.jpg\" alt=\"Image\" style=\"width:100%;height:auto;\">\n",
       "                <figcaption>Women Ethnic We...</figcaption>\n",
       "                <figcaption>Kurtis & Kurtas </figcaption>\n",
       "                <figcaption>19 </figcaption>\n",
       "            </figure>\n",
       "        \n",
       "            <figure style=\"width:10%; text-align:center; margin: 10px;\">\n",
       "                <img src=\"https://images.meesho.com/images/products/207249545/xwphk_256.jpg\" alt=\"Image\" style=\"width:100%;height:auto;\">\n",
       "                <figcaption>Women Accessori...</figcaption>\n",
       "                <figcaption>Hair Buns </figcaption>\n",
       "                <figcaption>28 </figcaption>\n",
       "            </figure>\n",
       "        \n",
       "            <figure style=\"width:10%; text-align:center; margin: 10px;\">\n",
       "                <img src=\"https://images.meesho.com/images/products/449497436/91quj_256.jpg\" alt=\"Image\" style=\"width:100%;height:auto;\">\n",
       "                <figcaption>Kids - Girls We...</figcaption>\n",
       "                <figcaption>Frocks & Dresse... </figcaption>\n",
       "                <figcaption>2 </figcaption>\n",
       "            </figure>\n",
       "        \n",
       "            <figure style=\"width:10%; text-align:center; margin: 10px;\">\n",
       "                <img src=\"https://images.meesho.com/images/products/112195792/leoeo_256.jpg\" alt=\"Image\" style=\"width:100%;height:auto;\">\n",
       "                <figcaption>Pens, Pencils &...</figcaption>\n",
       "                <figcaption>Drawing Pencils </figcaption>\n",
       "                <figcaption>6 </figcaption>\n",
       "            </figure>\n",
       "        \n",
       "            <figure style=\"width:10%; text-align:center; margin: 10px;\">\n",
       "                <img src=\"https://images.meesho.com/images/products/443163060/inzqk_256.jpg\" alt=\"Image\" style=\"width:100%;height:auto;\">\n",
       "                <figcaption>Kids - Boys Wes...</figcaption>\n",
       "                <figcaption>Trackpants & Jo... </figcaption>\n",
       "                <figcaption>2 </figcaption>\n",
       "            </figure>\n",
       "        \n",
       "            <figure style=\"width:10%; text-align:center; margin: 10px;\">\n",
       "                <img src=\"https://images.meesho.com/images/products/305962552/itrim_256.jpg\" alt=\"Image\" style=\"width:100%;height:auto;\">\n",
       "                <figcaption>Women Footwear</figcaption>\n",
       "                <figcaption>Bellies & Balle... </figcaption>\n",
       "                <figcaption>27 </figcaption>\n",
       "            </figure>\n",
       "        </div>"
      ]
     },
     "metadata": {},
     "output_type": "display_data"
    }
   ],
   "source": [
    "display_images(get_nn(catalog_id_index[60541988], index_v2, mlp_output_arrays))"
   ]
  },
  {
   "cell_type": "code",
   "execution_count": 0,
   "metadata": {
    "application/vnd.databricks.v1+cell": {
     "cellMetadata": {
      "byteLimit": 2048000,
      "rowLimit": 10000
     },
     "inputWidgets": {},
     "nuid": "b0e77647-2715-40b4-afd9-d42007eed808",
     "showTitle": false,
     "tableResultSettingsMap": {},
     "title": ""
    }
   },
   "outputs": [
    {
     "output_type": "display_data",
     "data": {
      "text/html": [
       "\n",
       "    <div style=\"display:flex; flex-wrap: wrap;\">\n",
       "    \n",
       "            <figure style=\"width:10%; text-align:center; margin: 10px;\">\n",
       "                <img src=\"https://images.meesho.com/images/products/399091267/9lp9x_256.jpg\" alt=\"Image\" style=\"width:100%;height:auto;\">\n",
       "                <figcaption>Home Cleaning &...</figcaption>\n",
       "                <figcaption>Cleaning Suppli... </figcaption>\n",
       "                <figcaption>12 </figcaption>\n",
       "            </figure>\n",
       "        \n",
       "            <figure style=\"width:10%; text-align:center; margin: 10px;\">\n",
       "                <img src=\"https://images.meesho.com/images/products/403076352/bjcc5_256.jpg\" alt=\"Image\" style=\"width:100%;height:auto;\">\n",
       "                <figcaption>Women Jewellery</figcaption>\n",
       "                <figcaption>Jewellery Set </figcaption>\n",
       "                <figcaption>21 </figcaption>\n",
       "            </figure>\n",
       "        \n",
       "            <figure style=\"width:10%; text-align:center; margin: 10px;\">\n",
       "                <img src=\"https://images.meesho.com/images/products/199452590/eot6i_256.jpg\" alt=\"Image\" style=\"width:100%;height:auto;\">\n",
       "                <figcaption>Women Jewellery</figcaption>\n",
       "                <figcaption>Bangles & Brace... </figcaption>\n",
       "                <figcaption>47 </figcaption>\n",
       "            </figure>\n",
       "        \n",
       "            <figure style=\"width:10%; text-align:center; margin: 10px;\">\n",
       "                <img src=\"https://images.meesho.com/images/products/367207981/fdqjs_256.jpg\" alt=\"Image\" style=\"width:100%;height:auto;\">\n",
       "                <figcaption>Women Ethnic We...</figcaption>\n",
       "                <figcaption>Kurtis & Kurtas </figcaption>\n",
       "                <figcaption>20 </figcaption>\n",
       "            </figure>\n",
       "        \n",
       "            <figure style=\"width:10%; text-align:center; margin: 10px;\">\n",
       "                <img src=\"https://images.meesho.com/images/products/399739221/obcyk_256.jpg\" alt=\"Image\" style=\"width:100%;height:auto;\">\n",
       "                <figcaption>Women Ethnic We...</figcaption>\n",
       "                <figcaption>Dupatta Sets </figcaption>\n",
       "                <figcaption>41 </figcaption>\n",
       "            </figure>\n",
       "        \n",
       "            <figure style=\"width:10%; text-align:center; margin: 10px;\">\n",
       "                <img src=\"https://images.meesho.com/images/products/205768294/mpevp_256.jpg\" alt=\"Image\" style=\"width:100%;height:auto;\">\n",
       "                <figcaption>Women Footwear</figcaption>\n",
       "                <figcaption>Casual Shoes </figcaption>\n",
       "                <figcaption>8 </figcaption>\n",
       "            </figure>\n",
       "        \n",
       "            <figure style=\"width:10%; text-align:center; margin: 10px;\">\n",
       "                <img src=\"https://images.meesho.com/images/products/247314718/h0mkk_256.jpg\" alt=\"Image\" style=\"width:100%;height:auto;\">\n",
       "                <figcaption>Women Jewellery</figcaption>\n",
       "                <figcaption>Bangles & Brace... </figcaption>\n",
       "                <figcaption>4 </figcaption>\n",
       "            </figure>\n",
       "        \n",
       "            <figure style=\"width:10%; text-align:center; margin: 10px;\">\n",
       "                <img src=\"https://images.meesho.com/images/products/381605739/ycfbv_256.jpg\" alt=\"Image\" style=\"width:100%;height:auto;\">\n",
       "                <figcaption>Women Accessori...</figcaption>\n",
       "                <figcaption>Hair Accessorie... </figcaption>\n",
       "                <figcaption>19 </figcaption>\n",
       "            </figure>\n",
       "        \n",
       "            <figure style=\"width:10%; text-align:center; margin: 10px;\">\n",
       "                <img src=\"https://images.meesho.com/images/products/459170343/p2hud_256.jpg\" alt=\"Image\" style=\"width:100%;height:auto;\">\n",
       "                <figcaption>Women Jewellery</figcaption>\n",
       "                <figcaption>Bangles & Brace... </figcaption>\n",
       "                <figcaption>8 </figcaption>\n",
       "            </figure>\n",
       "        \n",
       "            <figure style=\"width:10%; text-align:center; margin: 10px;\">\n",
       "                <img src=\"https://images.meesho.com/images/products/375754650/x4unm_256.jpg\" alt=\"Image\" style=\"width:100%;height:auto;\">\n",
       "                <figcaption>Snacks & Namkee...</figcaption>\n",
       "                <figcaption>Puffed Snacks </figcaption>\n",
       "                <figcaption>12 </figcaption>\n",
       "            </figure>\n",
       "        \n",
       "            <figure style=\"width:10%; text-align:center; margin: 10px;\">\n",
       "                <img src=\"https://images.meesho.com/images/products/271567536/m5vig_256.jpg\" alt=\"Image\" style=\"width:100%;height:auto;\">\n",
       "                <figcaption>Women Jewellery</figcaption>\n",
       "                <figcaption>Jewellery Set </figcaption>\n",
       "                <figcaption>2 </figcaption>\n",
       "            </figure>\n",
       "        \n",
       "            <figure style=\"width:10%; text-align:center; margin: 10px;\">\n",
       "                <img src=\"https://images.meesho.com/images/products/343279331/49ygs_256.jpg\" alt=\"Image\" style=\"width:100%;height:auto;\">\n",
       "                <figcaption>Kids - Girls We...</figcaption>\n",
       "                <figcaption>Frocks & Dresse... </figcaption>\n",
       "                <figcaption>1 </figcaption>\n",
       "            </figure>\n",
       "        \n",
       "            <figure style=\"width:10%; text-align:center; margin: 10px;\">\n",
       "                <img src=\"https://images.meesho.com/images/products/112588363/wbxw4_256.jpg\" alt=\"Image\" style=\"width:100%;height:auto;\">\n",
       "                <figcaption>Women Ethnic We...</figcaption>\n",
       "                <figcaption>Sarees </figcaption>\n",
       "                <figcaption>3 </figcaption>\n",
       "            </figure>\n",
       "        \n",
       "            <figure style=\"width:10%; text-align:center; margin: 10px;\">\n",
       "                <img src=\"https://images.meesho.com/images/products/391621701/iowfx_256.jpg\" alt=\"Image\" style=\"width:100%;height:auto;\">\n",
       "                <figcaption>Women Jewellery</figcaption>\n",
       "                <figcaption>Jewellery Set </figcaption>\n",
       "                <figcaption>50 </figcaption>\n",
       "            </figure>\n",
       "        \n",
       "            <figure style=\"width:10%; text-align:center; margin: 10px;\">\n",
       "                <img src=\"https://images.meesho.com/images/products/346073438/ztzhz_256.jpg\" alt=\"Image\" style=\"width:100%;height:auto;\">\n",
       "                <figcaption>Women Ethnic We...</figcaption>\n",
       "                <figcaption>Sarees </figcaption>\n",
       "                <figcaption>7 </figcaption>\n",
       "            </figure>\n",
       "        \n",
       "            <figure style=\"width:10%; text-align:center; margin: 10px;\">\n",
       "                <img src=\"https://images.meesho.com/images/products/436338413/x85bl_256.jpg\" alt=\"Image\" style=\"width:100%;height:auto;\">\n",
       "                <figcaption>Mobile & Access...</figcaption>\n",
       "                <figcaption>Mobile Chargers </figcaption>\n",
       "                <figcaption>26 </figcaption>\n",
       "            </figure>\n",
       "        \n",
       "            <figure style=\"width:10%; text-align:center; margin: 10px;\">\n",
       "                <img src=\"https://images.meesho.com/images/products/410044789/kdufg_256.jpg\" alt=\"Image\" style=\"width:100%;height:auto;\">\n",
       "                <figcaption>Artificial Flor...</figcaption>\n",
       "                <figcaption>Artificial Plan... </figcaption>\n",
       "                <figcaption>20 </figcaption>\n",
       "            </figure>\n",
       "        \n",
       "            <figure style=\"width:10%; text-align:center; margin: 10px;\">\n",
       "                <img src=\"https://images.meesho.com/images/products/426393414/qwobn_256.jpg\" alt=\"Image\" style=\"width:100%;height:auto;\">\n",
       "                <figcaption>Unisex Fragranc...</figcaption>\n",
       "                <figcaption>Unisex Perfumes </figcaption>\n",
       "                <figcaption>47 </figcaption>\n",
       "            </figure>\n",
       "        \n",
       "            <figure style=\"width:10%; text-align:center; margin: 10px;\">\n",
       "                <img src=\"https://images.meesho.com/images/products/41531744/amlmb_256.jpg\" alt=\"Image\" style=\"width:100%;height:auto;\">\n",
       "                <figcaption>Women Western W...</figcaption>\n",
       "                <figcaption>Dresses </figcaption>\n",
       "                <figcaption>4 </figcaption>\n",
       "            </figure>\n",
       "        \n",
       "            <figure style=\"width:10%; text-align:center; margin: 10px;\">\n",
       "                <img src=\"https://images.meesho.com/images/products/324027284/ezebc_256.jpg\" alt=\"Image\" style=\"width:100%;height:auto;\">\n",
       "                <figcaption>Clothing & Ward...</figcaption>\n",
       "                <figcaption>Clothes Covers </figcaption>\n",
       "                <figcaption>18 </figcaption>\n",
       "            </figure>\n",
       "        \n",
       "            <figure style=\"width:10%; text-align:center; margin: 10px;\">\n",
       "                <img src=\"https://images.meesho.com/images/products/370709148/ltolu_256.jpg\" alt=\"Image\" style=\"width:100%;height:auto;\">\n",
       "                <figcaption>Women Jewellery</figcaption>\n",
       "                <figcaption>Anklets & Toe R... </figcaption>\n",
       "                <figcaption>14 </figcaption>\n",
       "            </figure>\n",
       "        \n",
       "            <figure style=\"width:10%; text-align:center; margin: 10px;\">\n",
       "                <img src=\"https://images.meesho.com/images/products/452186596/lv3bs_256.jpg\" alt=\"Image\" style=\"width:100%;height:auto;\">\n",
       "                <figcaption>Craft Kits</figcaption>\n",
       "                <figcaption>Sewing & Embroi... </figcaption>\n",
       "                <figcaption>15 </figcaption>\n",
       "            </figure>\n",
       "        \n",
       "            <figure style=\"width:10%; text-align:center; margin: 10px;\">\n",
       "                <img src=\"https://images.meesho.com/images/products/369786119/fuw17_256.jpg\" alt=\"Image\" style=\"width:100%;height:auto;\">\n",
       "                <figcaption>Women Ethnic We...</figcaption>\n",
       "                <figcaption>Dupatta Sets </figcaption>\n",
       "                <figcaption>43 </figcaption>\n",
       "            </figure>\n",
       "        \n",
       "            <figure style=\"width:10%; text-align:center; margin: 10px;\">\n",
       "                <img src=\"https://images.meesho.com/images/products/395282242/9hkbx_256.jpg\" alt=\"Image\" style=\"width:100%;height:auto;\">\n",
       "                <figcaption>Face Care</figcaption>\n",
       "                <figcaption>Face Packs </figcaption>\n",
       "                <figcaption>28 </figcaption>\n",
       "            </figure>\n",
       "        \n",
       "            <figure style=\"width:10%; text-align:center; margin: 10px;\">\n",
       "                <img src=\"https://images.meesho.com/images/products/361043085/dseey_256.jpg\" alt=\"Image\" style=\"width:100%;height:auto;\">\n",
       "                <figcaption>Women Jewellery</figcaption>\n",
       "                <figcaption>Mangalsutras </figcaption>\n",
       "                <figcaption>50 </figcaption>\n",
       "            </figure>\n",
       "        \n",
       "            <figure style=\"width:10%; text-align:center; margin: 10px;\">\n",
       "                <img src=\"https://images.meesho.com/images/products/349514297/prhkc_256.jpg\" alt=\"Image\" style=\"width:100%;height:auto;\">\n",
       "                <figcaption>Men Ethnic Wear</figcaption>\n",
       "                <figcaption>Kurtas </figcaption>\n",
       "                <figcaption>50 </figcaption>\n",
       "            </figure>\n",
       "        \n",
       "            <figure style=\"width:10%; text-align:center; margin: 10px;\">\n",
       "                <img src=\"https://images.meesho.com/images/products/415599393/w5j9i_256.jpg\" alt=\"Image\" style=\"width:100%;height:auto;\">\n",
       "                <figcaption>Men Ethnic Wear</figcaption>\n",
       "                <figcaption>Kurtas </figcaption>\n",
       "                <figcaption>46 </figcaption>\n",
       "            </figure>\n",
       "        \n",
       "            <figure style=\"width:10%; text-align:center; margin: 10px;\">\n",
       "                <img src=\"https://images.meesho.com/images/products/432837972/klhle_256.jpg\" alt=\"Image\" style=\"width:100%;height:auto;\">\n",
       "                <figcaption>Women Ethnic We...</figcaption>\n",
       "                <figcaption>Sarees </figcaption>\n",
       "                <figcaption>15 </figcaption>\n",
       "            </figure>\n",
       "        \n",
       "            <figure style=\"width:10%; text-align:center; margin: 10px;\">\n",
       "                <img src=\"https://images.meesho.com/images/products/351425119/zne9h_256.jpg\" alt=\"Image\" style=\"width:100%;height:auto;\">\n",
       "                <figcaption>Bath & Shower</figcaption>\n",
       "                <figcaption>Bath Combos and... </figcaption>\n",
       "                <figcaption>16 </figcaption>\n",
       "            </figure>\n",
       "        \n",
       "            <figure style=\"width:10%; text-align:center; margin: 10px;\">\n",
       "                <img src=\"https://images.meesho.com/images/products/459483020/jsmn3_256.jpg\" alt=\"Image\" style=\"width:100%;height:auto;\">\n",
       "                <figcaption>Face Care</figcaption>\n",
       "                <figcaption>Face Wash </figcaption>\n",
       "                <figcaption>50 </figcaption>\n",
       "            </figure>\n",
       "        \n",
       "            <figure style=\"width:10%; text-align:center; margin: 10px;\">\n",
       "                <img src=\"https://images.meesho.com/images/products/48645301/swfvg_256.jpg\" alt=\"Image\" style=\"width:100%;height:auto;\">\n",
       "                <figcaption>Men Western Bot...</figcaption>\n",
       "                <figcaption>Jeans </figcaption>\n",
       "                <figcaption>4 </figcaption>\n",
       "            </figure>\n",
       "        \n",
       "            <figure style=\"width:10%; text-align:center; margin: 10px;\">\n",
       "                <img src=\"https://images.meesho.com/images/products/296718997/xt93k_256.jpg\" alt=\"Image\" style=\"width:100%;height:auto;\">\n",
       "                <figcaption>Decorative Acce...</figcaption>\n",
       "                <figcaption>Wall Decor & Ha... </figcaption>\n",
       "                <figcaption>36 </figcaption>\n",
       "            </figure>\n",
       "        \n",
       "            <figure style=\"width:10%; text-align:center; margin: 10px;\">\n",
       "                <img src=\"https://images.meesho.com/images/products/414276513/9tmu6_256.jpg\" alt=\"Image\" style=\"width:100%;height:auto;\">\n",
       "                <figcaption>Women Ethnic We...</figcaption>\n",
       "                <figcaption>Dupatta Sets </figcaption>\n",
       "                <figcaption>7 </figcaption>\n",
       "            </figure>\n",
       "        \n",
       "            <figure style=\"width:10%; text-align:center; margin: 10px;\">\n",
       "                <img src=\"https://images.meesho.com/images/products/406983627/dbdzh_256.jpg\" alt=\"Image\" style=\"width:100%;height:auto;\">\n",
       "                <figcaption>Women Western W...</figcaption>\n",
       "                <figcaption>Capes, Shrugs &... </figcaption>\n",
       "                <figcaption>5 </figcaption>\n",
       "            </figure>\n",
       "        \n",
       "            <figure style=\"width:10%; text-align:center; margin: 10px;\">\n",
       "                <img src=\"https://images.meesho.com/images/products/375758794/ybwhf_256.jpg\" alt=\"Image\" style=\"width:100%;height:auto;\">\n",
       "                <figcaption>Women Footwear</figcaption>\n",
       "                <figcaption>Flipflops & Sli... </figcaption>\n",
       "                <figcaption>40 </figcaption>\n",
       "            </figure>\n",
       "        \n",
       "            <figure style=\"width:10%; text-align:center; margin: 10px;\">\n",
       "                <img src=\"https://images.meesho.com/images/products/335885636/8t3q3_256.jpg\" alt=\"Image\" style=\"width:100%;height:auto;\">\n",
       "                <figcaption>Photo Frames</figcaption>\n",
       "                <figcaption>Photo Frames </figcaption>\n",
       "                <figcaption>3 </figcaption>\n",
       "            </figure>\n",
       "        \n",
       "            <figure style=\"width:10%; text-align:center; margin: 10px;\">\n",
       "                <img src=\"https://images.meesho.com/images/products/450903858/ukctk_256.jpg\" alt=\"Image\" style=\"width:100%;height:auto;\">\n",
       "                <figcaption>Women Ethnic We...</figcaption>\n",
       "                <figcaption>Dupattas </figcaption>\n",
       "                <figcaption>14 </figcaption>\n",
       "            </figure>\n",
       "        \n",
       "            <figure style=\"width:10%; text-align:center; margin: 10px;\">\n",
       "                <img src=\"https://images.meesho.com/images/products/434237036/gpgeq_256.jpg\" alt=\"Image\" style=\"width:100%;height:auto;\">\n",
       "                <figcaption>Women Western W...</figcaption>\n",
       "                <figcaption>Jumpsuits </figcaption>\n",
       "                <figcaption>19 </figcaption>\n",
       "            </figure>\n",
       "        \n",
       "            <figure style=\"width:10%; text-align:center; margin: 10px;\">\n",
       "                <img src=\"https://images.meesho.com/images/products/313172436/yrozx_256.jpg\" alt=\"Image\" style=\"width:100%;height:auto;\">\n",
       "                <figcaption>Table Lamps</figcaption>\n",
       "                <figcaption>Table Lamps </figcaption>\n",
       "                <figcaption>48 </figcaption>\n",
       "            </figure>\n",
       "        \n",
       "            <figure style=\"width:10%; text-align:center; margin: 10px;\">\n",
       "                <img src=\"https://images.meesho.com/images/products/349612436/zvixa_256.jpg\" alt=\"Image\" style=\"width:100%;height:auto;\">\n",
       "                <figcaption>School Supplies</figcaption>\n",
       "                <figcaption>Lunch Boxes & W... </figcaption>\n",
       "                <figcaption>7 </figcaption>\n",
       "            </figure>\n",
       "        \n",
       "            <figure style=\"width:10%; text-align:center; margin: 10px;\">\n",
       "                <img src=\"https://images.meesho.com/images/products/451732043/g5lqe_256.jpg\" alt=\"Image\" style=\"width:100%;height:auto;\">\n",
       "                <figcaption>Women Ethnic We...</figcaption>\n",
       "                <figcaption>Dupatta Sets </figcaption>\n",
       "                <figcaption>2 </figcaption>\n",
       "            </figure>\n",
       "        \n",
       "            <figure style=\"width:10%; text-align:center; margin: 10px;\">\n",
       "                <img src=\"https://images.meesho.com/images/products/181541394/2ttzl_256.jpg\" alt=\"Image\" style=\"width:100%;height:auto;\">\n",
       "                <figcaption>Women Western W...</figcaption>\n",
       "                <figcaption>Dresses </figcaption>\n",
       "                <figcaption>15 </figcaption>\n",
       "            </figure>\n",
       "        \n",
       "            <figure style=\"width:10%; text-align:center; margin: 10px;\">\n",
       "                <img src=\"https://images.meesho.com/images/products/42102054/q6xkp_256.jpg\" alt=\"Image\" style=\"width:100%;height:auto;\">\n",
       "                <figcaption>Women Western W...</figcaption>\n",
       "                <figcaption>Sweatshirts </figcaption>\n",
       "                <figcaption>18 </figcaption>\n",
       "            </figure>\n",
       "        \n",
       "            <figure style=\"width:10%; text-align:center; margin: 10px;\">\n",
       "                <img src=\"https://images.meesho.com/images/products/446807323/anzy3_256.jpg\" alt=\"Image\" style=\"width:100%;height:auto;\">\n",
       "                <figcaption>Carpets & Rugs</figcaption>\n",
       "                <figcaption>Doormats </figcaption>\n",
       "                <figcaption>12 </figcaption>\n",
       "            </figure>\n",
       "        \n",
       "            <figure style=\"width:10%; text-align:center; margin: 10px;\">\n",
       "                <img src=\"https://images.meesho.com/images/products/285584005/rogrt_256.jpg\" alt=\"Image\" style=\"width:100%;height:auto;\">\n",
       "                <figcaption>Men Accessories</figcaption>\n",
       "                <figcaption>Headbands </figcaption>\n",
       "                <figcaption>7 </figcaption>\n",
       "            </figure>\n",
       "        \n",
       "            <figure style=\"width:10%; text-align:center; margin: 10px;\">\n",
       "                <img src=\"https://images.meesho.com/images/products/439772993/2dbuz_256.jpg\" alt=\"Image\" style=\"width:100%;height:auto;\">\n",
       "                <figcaption>Women Western W...</figcaption>\n",
       "                <figcaption>Jackets </figcaption>\n",
       "                <figcaption>22 </figcaption>\n",
       "            </figure>\n",
       "        \n",
       "            <figure style=\"width:10%; text-align:center; margin: 10px;\">\n",
       "                <img src=\"https://images.meesho.com/images/products/344940521/ptzzv_256.jpg\" alt=\"Image\" style=\"width:100%;height:auto;\">\n",
       "                <figcaption>Women Ethnic We...</figcaption>\n",
       "                <figcaption>Kurtis & Kurtas </figcaption>\n",
       "                <figcaption>2 </figcaption>\n",
       "            </figure>\n",
       "        \n",
       "            <figure style=\"width:10%; text-align:center; margin: 10px;\">\n",
       "                <img src=\"https://images.meesho.com/images/products/415985967/exspu_256.jpg\" alt=\"Image\" style=\"width:100%;height:auto;\">\n",
       "                <figcaption>Women Western W...</figcaption>\n",
       "                <figcaption>Jeans </figcaption>\n",
       "                <figcaption>13 </figcaption>\n",
       "            </figure>\n",
       "        \n",
       "            <figure style=\"width:10%; text-align:center; margin: 10px;\">\n",
       "                <img src=\"https://images.meesho.com/images/products/373900003/xtpu2_256.jpg\" alt=\"Image\" style=\"width:100%;height:auto;\">\n",
       "                <figcaption>Women Ethnic We...</figcaption>\n",
       "                <figcaption>Kurtis & Kurtas </figcaption>\n",
       "                <figcaption>25 </figcaption>\n",
       "            </figure>\n",
       "        \n",
       "            <figure style=\"width:10%; text-align:center; margin: 10px;\">\n",
       "                <img src=\"https://images.meesho.com/images/products/460970708/kcnxa_256.jpg\" alt=\"Image\" style=\"width:100%;height:auto;\">\n",
       "                <figcaption>Headphones & Ea...</figcaption>\n",
       "                <figcaption>Wired Headphone... </figcaption>\n",
       "                <figcaption>5 </figcaption>\n",
       "            </figure>\n",
       "        \n",
       "            <figure style=\"width:10%; text-align:center; margin: 10px;\">\n",
       "                <img src=\"https://images.meesho.com/images/products/68358374/akkgl_256.jpg\" alt=\"Image\" style=\"width:100%;height:auto;\">\n",
       "                <figcaption>Men Accessories</figcaption>\n",
       "                <figcaption>Analog Watches </figcaption>\n",
       "                <figcaption>2 </figcaption>\n",
       "            </figure>\n",
       "        \n",
       "            <figure style=\"width:10%; text-align:center; margin: 10px;\">\n",
       "                <img src=\"https://images.meesho.com/images/products/435091438/u9ovf_256.jpg\" alt=\"Image\" style=\"width:100%;height:auto;\">\n",
       "                <figcaption>Kitchen & Dinin...</figcaption>\n",
       "                <figcaption>Kitchen Storage </figcaption>\n",
       "                <figcaption>8 </figcaption>\n",
       "            </figure>\n",
       "        \n",
       "            <figure style=\"width:10%; text-align:center; margin: 10px;\">\n",
       "                <img src=\"https://images.meesho.com/images/products/254584576/ef318_256.jpg\" alt=\"Image\" style=\"width:100%;height:auto;\">\n",
       "                <figcaption>Kids - Girls We...</figcaption>\n",
       "                <figcaption>Clothing Sets </figcaption>\n",
       "                <figcaption>48 </figcaption>\n",
       "            </figure>\n",
       "        \n",
       "            <figure style=\"width:10%; text-align:center; margin: 10px;\">\n",
       "                <img src=\"https://images.meesho.com/images/products/373642233/nlk7w_256.jpg\" alt=\"Image\" style=\"width:100%;height:auto;\">\n",
       "                <figcaption>Women Jewellery</figcaption>\n",
       "                <figcaption>Rings </figcaption>\n",
       "                <figcaption>8 </figcaption>\n",
       "            </figure>\n",
       "        \n",
       "            <figure style=\"width:10%; text-align:center; margin: 10px;\">\n",
       "                <img src=\"https://images.meesho.com/images/products/388741394/p6vcj_256.jpg\" alt=\"Image\" style=\"width:100%;height:auto;\">\n",
       "                <figcaption>Women Jewellery</figcaption>\n",
       "                <figcaption>Earrings & Stud... </figcaption>\n",
       "                <figcaption>3 </figcaption>\n",
       "            </figure>\n",
       "        \n",
       "            <figure style=\"width:10%; text-align:center; margin: 10px;\">\n",
       "                <img src=\"https://images.meesho.com/images/products/430070622/pnu2n_256.jpg\" alt=\"Image\" style=\"width:100%;height:auto;\">\n",
       "                <figcaption>Accupressure</figcaption>\n",
       "                <figcaption>Accupressure su... </figcaption>\n",
       "                <figcaption>5 </figcaption>\n",
       "            </figure>\n",
       "        \n",
       "            <figure style=\"width:10%; text-align:center; margin: 10px;\">\n",
       "                <img src=\"https://images.meesho.com/images/products/117470989/w3ygx_256.jpg\" alt=\"Image\" style=\"width:100%;height:auto;\">\n",
       "                <figcaption>Men Footwear</figcaption>\n",
       "                <figcaption>Mojaris and Jut... </figcaption>\n",
       "                <figcaption>8 </figcaption>\n",
       "            </figure>\n",
       "        \n",
       "            <figure style=\"width:10%; text-align:center; margin: 10px;\">\n",
       "                <img src=\"https://images.meesho.com/images/products/318306381/fhmtn_256.jpg\" alt=\"Image\" style=\"width:100%;height:auto;\">\n",
       "                <figcaption>Soft Toys</figcaption>\n",
       "                <figcaption>Stuffed animals </figcaption>\n",
       "                <figcaption>48 </figcaption>\n",
       "            </figure>\n",
       "        \n",
       "            <figure style=\"width:10%; text-align:center; margin: 10px;\">\n",
       "                <img src=\"https://images.meesho.com/images/products/388997558/v5o38_256.jpg\" alt=\"Image\" style=\"width:100%;height:auto;\">\n",
       "                <figcaption>Women Ethnic We...</figcaption>\n",
       "                <figcaption>Ready To Wear S... </figcaption>\n",
       "                <figcaption>7 </figcaption>\n",
       "            </figure>\n",
       "        \n",
       "            <figure style=\"width:10%; text-align:center; margin: 10px;\">\n",
       "                <img src=\"https://images.meesho.com/images/products/445046026/sd8gj_256.jpg\" alt=\"Image\" style=\"width:100%;height:auto;\">\n",
       "                <figcaption>Women Bags</figcaption>\n",
       "                <figcaption>Backpacks </figcaption>\n",
       "                <figcaption>6 </figcaption>\n",
       "            </figure>\n",
       "        \n",
       "            <figure style=\"width:10%; text-align:center; margin: 10px;\">\n",
       "                <img src=\"https://images.meesho.com/images/products/419304427/beqrk_256.jpg\" alt=\"Image\" style=\"width:100%;height:auto;\">\n",
       "                <figcaption>Men Accessories</figcaption>\n",
       "                <figcaption>Ties </figcaption>\n",
       "                <figcaption>26 </figcaption>\n",
       "            </figure>\n",
       "        \n",
       "            <figure style=\"width:10%; text-align:center; margin: 10px;\">\n",
       "                <img src=\"https://images.meesho.com/images/products/440629152/iu8ue_256.jpg\" alt=\"Image\" style=\"width:100%;height:auto;\">\n",
       "                <figcaption>Maternity Care</figcaption>\n",
       "                <figcaption>Breast Creams </figcaption>\n",
       "                <figcaption>34 </figcaption>\n",
       "            </figure>\n",
       "        \n",
       "            <figure style=\"width:10%; text-align:center; margin: 10px;\">\n",
       "                <img src=\"https://images.meesho.com/images/products/385061926/fnjlv_256.jpg\" alt=\"Image\" style=\"width:100%;height:auto;\">\n",
       "                <figcaption>Women Ethnic We...</figcaption>\n",
       "                <figcaption>Sarees </figcaption>\n",
       "                <figcaption>7 </figcaption>\n",
       "            </figure>\n",
       "        \n",
       "            <figure style=\"width:10%; text-align:center; margin: 10px;\">\n",
       "                <img src=\"https://images.meesho.com/images/products/161550375/a4j8y_256.jpg\" alt=\"Image\" style=\"width:100%;height:auto;\">\n",
       "                <figcaption>Women Jewellery</figcaption>\n",
       "                <figcaption>Pendants & Lock... </figcaption>\n",
       "                <figcaption>4 </figcaption>\n",
       "            </figure>\n",
       "        \n",
       "            <figure style=\"width:10%; text-align:center; margin: 10px;\">\n",
       "                <img src=\"https://images.meesho.com/images/products/399418424/z7ns1_256.jpg\" alt=\"Image\" style=\"width:100%;height:auto;\">\n",
       "                <figcaption>Face Makeup</figcaption>\n",
       "                <figcaption>Blush </figcaption>\n",
       "                <figcaption>39 </figcaption>\n",
       "            </figure>\n",
       "        \n",
       "            <figure style=\"width:10%; text-align:center; margin: 10px;\">\n",
       "                <img src=\"https://images.meesho.com/images/products/442203152/qxy1t_256.jpg\" alt=\"Image\" style=\"width:100%;height:auto;\">\n",
       "                <figcaption>Cases & Covers</figcaption>\n",
       "                <figcaption>Mobile Cases & ... </figcaption>\n",
       "                <figcaption>9 </figcaption>\n",
       "            </figure>\n",
       "        \n",
       "            <figure style=\"width:10%; text-align:center; margin: 10px;\">\n",
       "                <img src=\"https://images.meesho.com/images/products/448728594/yh6wk_256.jpg\" alt=\"Image\" style=\"width:100%;height:auto;\">\n",
       "                <figcaption>Cleaning Tools</figcaption>\n",
       "                <figcaption>Brushes </figcaption>\n",
       "                <figcaption>48 </figcaption>\n",
       "            </figure>\n",
       "        \n",
       "            <figure style=\"width:10%; text-align:center; margin: 10px;\">\n",
       "                <img src=\"https://images.meesho.com/images/products/466946630/t14wg_256.jpg\" alt=\"Image\" style=\"width:100%;height:auto;\">\n",
       "                <figcaption>Women Ethnic We...</figcaption>\n",
       "                <figcaption>Dupatta Sets </figcaption>\n",
       "                <figcaption>17 </figcaption>\n",
       "            </figure>\n",
       "        \n",
       "            <figure style=\"width:10%; text-align:center; margin: 10px;\">\n",
       "                <img src=\"https://images.meesho.com/images/products/371505012/tugiw_256.jpg\" alt=\"Image\" style=\"width:100%;height:auto;\">\n",
       "                <figcaption>Audio & Video A...</figcaption>\n",
       "                <figcaption>Car Bluetooth K... </figcaption>\n",
       "                <figcaption>3 </figcaption>\n",
       "            </figure>\n",
       "        \n",
       "            <figure style=\"width:10%; text-align:center; margin: 10px;\">\n",
       "                <img src=\"https://images.meesho.com/images/products/393390266/4ittm_256.jpg\" alt=\"Image\" style=\"width:100%;height:auto;\">\n",
       "                <figcaption>Women Jewellery</figcaption>\n",
       "                <figcaption>Jewellery Set </figcaption>\n",
       "                <figcaption>16 </figcaption>\n",
       "            </figure>\n",
       "        \n",
       "            <figure style=\"width:10%; text-align:center; margin: 10px;\">\n",
       "                <img src=\"https://images.meesho.com/images/products/140223299/7xfso_256.jpg\" alt=\"Image\" style=\"width:100%;height:auto;\">\n",
       "                <figcaption>Kid's Toys</figcaption>\n",
       "                <figcaption>Others </figcaption>\n",
       "                <figcaption>3 </figcaption>\n",
       "            </figure>\n",
       "        \n",
       "            <figure style=\"width:10%; text-align:center; margin: 10px;\">\n",
       "                <img src=\"https://images.meesho.com/images/products/440815907/zz3l5_256.jpg\" alt=\"Image\" style=\"width:100%;height:auto;\">\n",
       "                <figcaption>Women Western W...</figcaption>\n",
       "                <figcaption>Gowns </figcaption>\n",
       "                <figcaption>29 </figcaption>\n",
       "            </figure>\n",
       "        \n",
       "            <figure style=\"width:10%; text-align:center; margin: 10px;\">\n",
       "                <img src=\"https://images.meesho.com/images/products/463696709/59tqo_256.jpg\" alt=\"Image\" style=\"width:100%;height:auto;\">\n",
       "                <figcaption>Women Inner & S...</figcaption>\n",
       "                <figcaption>Nightdress </figcaption>\n",
       "                <figcaption>10 </figcaption>\n",
       "            </figure>\n",
       "        \n",
       "            <figure style=\"width:10%; text-align:center; margin: 10px;\">\n",
       "                <img src=\"https://images.meesho.com/images/products/352153313/j5jyt_256.jpg\" alt=\"Image\" style=\"width:100%;height:auto;\">\n",
       "                <figcaption>Gifts</figcaption>\n",
       "                <figcaption>Gifting Mugs </figcaption>\n",
       "                <figcaption>1 </figcaption>\n",
       "            </figure>\n",
       "        \n",
       "            <figure style=\"width:10%; text-align:center; margin: 10px;\">\n",
       "                <img src=\"https://images.meesho.com/images/products/426750762/5rkza_256.jpg\" alt=\"Image\" style=\"width:100%;height:auto;\">\n",
       "                <figcaption>Hair Styling & ...</figcaption>\n",
       "                <figcaption>Hair Straighten... </figcaption>\n",
       "                <figcaption>10 </figcaption>\n",
       "            </figure>\n",
       "        \n",
       "            <figure style=\"width:10%; text-align:center; margin: 10px;\">\n",
       "                <img src=\"https://images.meesho.com/images/products/32392351/c633b_256.jpg\" alt=\"Image\" style=\"width:100%;height:auto;\">\n",
       "                <figcaption>Women Jewellery</figcaption>\n",
       "                <figcaption>Jewellery Set </figcaption>\n",
       "                <figcaption>5 </figcaption>\n",
       "            </figure>\n",
       "        \n",
       "            <figure style=\"width:10%; text-align:center; margin: 10px;\">\n",
       "                <img src=\"https://images.meesho.com/images/products/423803938/phxz0_256.jpg\" alt=\"Image\" style=\"width:100%;height:auto;\">\n",
       "                <figcaption>Men Western Top...</figcaption>\n",
       "                <figcaption>Shirts </figcaption>\n",
       "                <figcaption>1 </figcaption>\n",
       "            </figure>\n",
       "        \n",
       "            <figure style=\"width:10%; text-align:center; margin: 10px;\">\n",
       "                <img src=\"https://images.meesho.com/images/products/432874322/txcnm_256.jpg\" alt=\"Image\" style=\"width:100%;height:auto;\">\n",
       "                <figcaption>Women Ethnic We...</figcaption>\n",
       "                <figcaption>Sarees </figcaption>\n",
       "                <figcaption>22 </figcaption>\n",
       "            </figure>\n",
       "        \n",
       "            <figure style=\"width:10%; text-align:center; margin: 10px;\">\n",
       "                <img src=\"https://images.meesho.com/images/products/442550088/pobyw_256.jpg\" alt=\"Image\" style=\"width:100%;height:auto;\">\n",
       "                <figcaption>Men Western Top...</figcaption>\n",
       "                <figcaption>Shirts </figcaption>\n",
       "                <figcaption>33 </figcaption>\n",
       "            </figure>\n",
       "        \n",
       "            <figure style=\"width:10%; text-align:center; margin: 10px;\">\n",
       "                <img src=\"https://images.meesho.com/images/products/419403734/aekfm_256.jpg\" alt=\"Image\" style=\"width:100%;height:auto;\">\n",
       "                <figcaption>Clothing & Ward...</figcaption>\n",
       "                <figcaption>Clothes Covers </figcaption>\n",
       "                <figcaption>41 </figcaption>\n",
       "            </figure>\n",
       "        \n",
       "            <figure style=\"width:10%; text-align:center; margin: 10px;\">\n",
       "                <img src=\"https://images.meesho.com/images/products/304579076/zsmn2_256.jpg\" alt=\"Image\" style=\"width:100%;height:auto;\">\n",
       "                <figcaption>Women Ethnic We...</figcaption>\n",
       "                <figcaption>Kurta Sets </figcaption>\n",
       "                <figcaption>1 </figcaption>\n",
       "            </figure>\n",
       "        \n",
       "            <figure style=\"width:10%; text-align:center; margin: 10px;\">\n",
       "                <img src=\"https://images.meesho.com/images/products/451787094/tetl1_256.jpg\" alt=\"Image\" style=\"width:100%;height:auto;\">\n",
       "                <figcaption>Kids - Girls We...</figcaption>\n",
       "                <figcaption>Sweatshirts & H... </figcaption>\n",
       "                <figcaption>26 </figcaption>\n",
       "            </figure>\n",
       "        \n",
       "            <figure style=\"width:10%; text-align:center; margin: 10px;\">\n",
       "                <img src=\"https://images.meesho.com/images/products/435820330/cpcac_256.jpg\" alt=\"Image\" style=\"width:100%;height:auto;\">\n",
       "                <figcaption>Women Jewellery</figcaption>\n",
       "                <figcaption>Jewellery Set </figcaption>\n",
       "                <figcaption>11 </figcaption>\n",
       "            </figure>\n",
       "        \n",
       "            <figure style=\"width:10%; text-align:center; margin: 10px;\">\n",
       "                <img src=\"https://images.meesho.com/images/products/381300491/xogoy_256.jpg\" alt=\"Image\" style=\"width:100%;height:auto;\">\n",
       "                <figcaption>Pretend Play</figcaption>\n",
       "                <figcaption>Dress ups & cos... </figcaption>\n",
       "                <figcaption>40 </figcaption>\n",
       "            </figure>\n",
       "        \n",
       "            <figure style=\"width:10%; text-align:center; margin: 10px;\">\n",
       "                <img src=\"https://images.meesho.com/images/products/268001280/0s4b5_256.jpg\" alt=\"Image\" style=\"width:100%;height:auto;\">\n",
       "                <figcaption>Women Ethnic We...</figcaption>\n",
       "                <figcaption>Sarees </figcaption>\n",
       "                <figcaption>11 </figcaption>\n",
       "            </figure>\n",
       "        \n",
       "            <figure style=\"width:10%; text-align:center; margin: 10px;\">\n",
       "                <img src=\"https://images.meesho.com/images/products/429007347/t5hvv_256.jpg\" alt=\"Image\" style=\"width:100%;height:auto;\">\n",
       "                <figcaption>Men Footwear</figcaption>\n",
       "                <figcaption>Sports Shoes </figcaption>\n",
       "                <figcaption>43 </figcaption>\n",
       "            </figure>\n",
       "        \n",
       "            <figure style=\"width:10%; text-align:center; margin: 10px;\">\n",
       "                <img src=\"https://images.meesho.com/images/products/451800467/pgtgw_256.jpg\" alt=\"Image\" style=\"width:100%;height:auto;\">\n",
       "                <figcaption>Women Ethnic We...</figcaption>\n",
       "                <figcaption>Kurtis & Kurtas </figcaption>\n",
       "                <figcaption>9 </figcaption>\n",
       "            </figure>\n",
       "        \n",
       "            <figure style=\"width:10%; text-align:center; margin: 10px;\">\n",
       "                <img src=\"https://images.meesho.com/images/products/436213942/ojzzy_256.jpg\" alt=\"Image\" style=\"width:100%;height:auto;\">\n",
       "                <figcaption>Women Ethnic We...</figcaption>\n",
       "                <figcaption>Sarees </figcaption>\n",
       "                <figcaption>9 </figcaption>\n",
       "            </figure>\n",
       "        \n",
       "            <figure style=\"width:10%; text-align:center; margin: 10px;\">\n",
       "                <img src=\"https://images.meesho.com/images/products/412103870/vtb6j_256.jpg\" alt=\"Image\" style=\"width:100%;height:auto;\">\n",
       "                <figcaption>Men Footwear</figcaption>\n",
       "                <figcaption>Sandals </figcaption>\n",
       "                <figcaption>19 </figcaption>\n",
       "            </figure>\n",
       "        \n",
       "            <figure style=\"width:10%; text-align:center; margin: 10px;\">\n",
       "                <img src=\"https://images.meesho.com/images/products/456361412/bu56z_256.jpg\" alt=\"Image\" style=\"width:100%;height:auto;\">\n",
       "                <figcaption>Bedding & Linen</figcaption>\n",
       "                <figcaption>Bedsheets </figcaption>\n",
       "                <figcaption>26 </figcaption>\n",
       "            </figure>\n",
       "        \n",
       "            <figure style=\"width:10%; text-align:center; margin: 10px;\">\n",
       "                <img src=\"https://images.meesho.com/images/products/402408973/g94hf_256.jpg\" alt=\"Image\" style=\"width:100%;height:auto;\">\n",
       "                <figcaption>Women Ethnic We...</figcaption>\n",
       "                <figcaption>Suits & Dress M... </figcaption>\n",
       "                <figcaption>14 </figcaption>\n",
       "            </figure>\n",
       "        \n",
       "            <figure style=\"width:10%; text-align:center; margin: 10px;\">\n",
       "                <img src=\"https://images.meesho.com/images/products/380146056/uk2ic_256.jpg\" alt=\"Image\" style=\"width:100%;height:auto;\">\n",
       "                <figcaption>Men Western Top...</figcaption>\n",
       "                <figcaption>Jackets </figcaption>\n",
       "                <figcaption>2 </figcaption>\n",
       "            </figure>\n",
       "        \n",
       "            <figure style=\"width:10%; text-align:center; margin: 10px;\">\n",
       "                <img src=\"https://images.meesho.com/images/products/437140930/ijaen_256.jpg\" alt=\"Image\" style=\"width:100%;height:auto;\">\n",
       "                <figcaption>Women Western W...</figcaption>\n",
       "                <figcaption>Tops & Tunics </figcaption>\n",
       "                <figcaption>46 </figcaption>\n",
       "            </figure>\n",
       "        \n",
       "            <figure style=\"width:10%; text-align:center; margin: 10px;\">\n",
       "                <img src=\"https://images.meesho.com/images/products/393695702/uacz3_256.jpg\" alt=\"Image\" style=\"width:100%;height:auto;\">\n",
       "                <figcaption>Women Ethnic We...</figcaption>\n",
       "                <figcaption>Kurtis & Kurtas </figcaption>\n",
       "                <figcaption>6 </figcaption>\n",
       "            </figure>\n",
       "        \n",
       "            <figure style=\"width:10%; text-align:center; margin: 10px;\">\n",
       "                <img src=\"https://images.meesho.com/images/products/468344056/sv7rv_256.jpg\" alt=\"Image\" style=\"width:100%;height:auto;\">\n",
       "                <figcaption>Kids - Boys Wes...</figcaption>\n",
       "                <figcaption>Clothing Sets </figcaption>\n",
       "                <figcaption>21 </figcaption>\n",
       "            </figure>\n",
       "        \n",
       "            <figure style=\"width:10%; text-align:center; margin: 10px;\">\n",
       "                <img src=\"https://images.meesho.com/images/products/437072348/lybxx_256.jpg\" alt=\"Image\" style=\"width:100%;height:auto;\">\n",
       "                <figcaption>Women Accessori...</figcaption>\n",
       "                <figcaption>Analog Watches </figcaption>\n",
       "                <figcaption>2 </figcaption>\n",
       "            </figure>\n",
       "        \n",
       "            <figure style=\"width:10%; text-align:center; margin: 10px;\">\n",
       "                <img src=\"https://images.meesho.com/images/products/383933571/pchya_256.jpg\" alt=\"Image\" style=\"width:100%;height:auto;\">\n",
       "                <figcaption>Decorative Stic...</figcaption>\n",
       "                <figcaption>Wall Stickers &... </figcaption>\n",
       "                <figcaption>20 </figcaption>\n",
       "            </figure>\n",
       "        \n",
       "            <figure style=\"width:10%; text-align:center; margin: 10px;\">\n",
       "                <img src=\"https://images.meesho.com/images/products/421253756/tazjm_256.jpg\" alt=\"Image\" style=\"width:100%;height:auto;\">\n",
       "                <figcaption>Women Ethnic We...</figcaption>\n",
       "                <figcaption>Sarees </figcaption>\n",
       "                <figcaption>2 </figcaption>\n",
       "            </figure>\n",
       "        \n",
       "            <figure style=\"width:10%; text-align:center; margin: 10px;\">\n",
       "                <img src=\"https://images.meesho.com/images/products/383286831/v2shf_256.jpg\" alt=\"Image\" style=\"width:100%;height:auto;\">\n",
       "                <figcaption>Women Ethnic We...</figcaption>\n",
       "                <figcaption>Sarees </figcaption>\n",
       "                <figcaption>25 </figcaption>\n",
       "            </figure>\n",
       "        \n",
       "            <figure style=\"width:10%; text-align:center; margin: 10px;\">\n",
       "                <img src=\"https://images.meesho.com/images/products/411313698/zusfx_256.jpg\" alt=\"Image\" style=\"width:100%;height:auto;\">\n",
       "                <figcaption>Women Ethnic We...</figcaption>\n",
       "                <figcaption>Suits & Dress M... </figcaption>\n",
       "                <figcaption>21 </figcaption>\n",
       "            </figure>\n",
       "        </div>"
      ]
     },
     "metadata": {},
     "output_type": "display_data"
    }
   ],
   "source": [
    "display_images(get_nn(catalog_id_index[60541988], index_raw, raw_embedding_arrays))"
   ]
  },
  {
   "cell_type": "markdown",
   "metadata": {
    "application/vnd.databricks.v1+cell": {
     "cellMetadata": {
      "byteLimit": 2048000,
      "rowLimit": 10000
     },
     "inputWidgets": {},
     "nuid": "6bbb4cce-1ab9-4cce-8f0a-3c6a272f0d15",
     "showTitle": false,
     "tableResultSettingsMap": {},
     "title": ""
    }
   },
   "source": [
    "# User Qualitative Analysis"
   ]
  },
  {
   "cell_type": "code",
   "execution_count": 0,
   "metadata": {
    "application/vnd.databricks.v1+cell": {
     "cellMetadata": {
      "byteLimit": 2048000,
      "rowLimit": 10000
     },
     "inputWidgets": {},
     "nuid": "88bfa209-6e15-4a1b-af15-3a3dad2a82f7",
     "showTitle": false,
     "tableResultSettingsMap": {},
     "title": ""
    }
   },
   "outputs": [],
   "source": [
    "from pyspark.sql import functions as F"
   ]
  },
  {
   "cell_type": "code",
   "execution_count": 0,
   "metadata": {
    "application/vnd.databricks.v1+cell": {
     "cellMetadata": {
      "byteLimit": 2048000,
      "rowLimit": 10000
     },
     "inputWidgets": {},
     "nuid": "68dc4c6a-94ad-4128-a58c-a4a2a009cd5b",
     "showTitle": false,
     "tableResultSettingsMap": {},
     "title": ""
    }
   },
   "outputs": [],
   "source": [
    "taxonomy = spark.sql(\"\"\"select distinct sscat_id, sscat \n",
    "                    from gold.product_info \n",
    "                    where catalog_id is not null\"\"\")\n",
    "\n",
    "pdf_taxonomy = taxonomy.toPandas()\n"
   ]
  },
  {
   "cell_type": "code",
   "execution_count": 0,
   "metadata": {
    "application/vnd.databricks.v1+cell": {
     "cellMetadata": {
      "byteLimit": 2048000,
      "rowLimit": 10000
     },
     "inputWidgets": {},
     "nuid": "26a6bf5c-973f-4b6f-bf50-9c3a7f2204ed",
     "showTitle": false,
     "tableResultSettingsMap": {},
     "title": ""
    }
   },
   "outputs": [],
   "source": [
    "df = spark.read.parquet(f\"gs://gcs-dsci-fryou-fy-dev-prd/{config['filtered_journeys_path']}\").limit(100).collect()"
   ]
  },
  {
   "cell_type": "code",
   "execution_count": 0,
   "metadata": {
    "application/vnd.databricks.v1+cell": {
     "cellMetadata": {
      "byteLimit": 2048000,
      "rowLimit": 10000
     },
     "inputWidgets": {},
     "nuid": "3258af68-4d37-48a6-a765-961bb49264a6",
     "showTitle": false,
     "tableResultSettingsMap": {},
     "title": ""
    }
   },
   "outputs": [
    {
     "output_type": "stream",
     "name": "stdout",
     "output_type": "stream",
     "text": [
      "9 208 217\n"
     ]
    }
   ],
   "source": [
    "import torch.nn.functional as F\n",
    "\n",
    "i = 10\n",
    "interaction_list = [ele.asDict() for ele in df[i]['interaction_list']]\n",
    "# len(interaction_list)\n",
    "result = get_recos(interaction_list, 10)"
   ]
  },
  {
   "cell_type": "code",
   "execution_count": 0,
   "metadata": {
    "application/vnd.databricks.v1+cell": {
     "cellMetadata": {
      "byteLimit": 2048000,
      "rowLimit": 10000
     },
     "inputWidgets": {},
     "nuid": "8c0367a2-a09a-4ffb-89a8-ef31034f4dc3",
     "showTitle": false,
     "tableResultSettingsMap": {},
     "title": ""
    }
   },
   "outputs": [
    {
     "output_type": "stream",
     "name": "stdout",
     "output_type": "stream",
     "text": [
      "8 143 151\n"
     ]
    },
    {
     "output_type": "display_data",
     "data": {
      "text/plain": [
       "'Top <function percentile at 0x7a14998793f0>%:'"
      ]
     },
     "metadata": {},
     "output_type": "display_data"
    },
    {
     "output_type": "display_data",
     "data": {
      "text/plain": [
       "0.0"
      ]
     },
     "metadata": {},
     "output_type": "display_data"
    },
    {
     "output_type": "display_data",
     "data": {
      "text/plain": [
       "0.2"
      ]
     },
     "metadata": {},
     "output_type": "display_data"
    },
    {
     "output_type": "display_data",
     "data": {
      "text/plain": [
       "0.0"
      ]
     },
     "metadata": {},
     "output_type": "display_data"
    },
    {
     "output_type": "stream",
     "name": "stdout",
     "output_type": "stream",
     "text": [
      "5 213 218\n"
     ]
    },
    {
     "output_type": "display_data",
     "data": {
      "text/plain": [
       "'Top <function percentile at 0x7a14998793f0>%:'"
      ]
     },
     "metadata": {},
     "output_type": "display_data"
    },
    {
     "output_type": "display_data",
     "data": {
      "text/plain": [
       "0.0"
      ]
     },
     "metadata": {},
     "output_type": "display_data"
    },
    {
     "output_type": "display_data",
     "data": {
      "text/plain": [
       "0.2"
      ]
     },
     "metadata": {},
     "output_type": "display_data"
    },
    {
     "output_type": "display_data",
     "data": {
      "text/plain": [
       "0.0"
      ]
     },
     "metadata": {},
     "output_type": "display_data"
    },
    {
     "output_type": "stream",
     "name": "stdout",
     "output_type": "stream",
     "text": [
      "30 144 174\n"
     ]
    },
    {
     "output_type": "display_data",
     "data": {
      "text/plain": [
       "'Top <function percentile at 0x7a14998793f0>%:'"
      ]
     },
     "metadata": {},
     "output_type": "display_data"
    },
    {
     "output_type": "display_data",
     "data": {
      "text/plain": [
       "0.0"
      ]
     },
     "metadata": {},
     "output_type": "display_data"
    },
    {
     "output_type": "display_data",
     "data": {
      "text/plain": [
       "0.4"
      ]
     },
     "metadata": {},
     "output_type": "display_data"
    },
    {
     "output_type": "display_data",
     "data": {
      "text/plain": [
       "0.0"
      ]
     },
     "metadata": {},
     "output_type": "display_data"
    },
    {
     "output_type": "stream",
     "name": "stdout",
     "output_type": "stream",
     "text": [
      "27 192 219\n"
     ]
    },
    {
     "output_type": "display_data",
     "data": {
      "text/plain": [
       "'Top <function percentile at 0x7a14998793f0>%:'"
      ]
     },
     "metadata": {},
     "output_type": "display_data"
    },
    {
     "output_type": "display_data",
     "data": {
      "text/plain": [
       "0.0"
      ]
     },
     "metadata": {},
     "output_type": "display_data"
    },
    {
     "output_type": "display_data",
     "data": {
      "text/plain": [
       "0.6"
      ]
     },
     "metadata": {},
     "output_type": "display_data"
    },
    {
     "output_type": "display_data",
     "data": {
      "text/plain": [
       "0.0"
      ]
     },
     "metadata": {},
     "output_type": "display_data"
    },
    {
     "output_type": "stream",
     "name": "stdout",
     "output_type": "stream",
     "text": [
      "7 356 363\n"
     ]
    },
    {
     "output_type": "display_data",
     "data": {
      "text/plain": [
       "'Top <function percentile at 0x7a14998793f0>%:'"
      ]
     },
     "metadata": {},
     "output_type": "display_data"
    },
    {
     "output_type": "display_data",
     "data": {
      "text/plain": [
       "0.0"
      ]
     },
     "metadata": {},
     "output_type": "display_data"
    },
    {
     "output_type": "display_data",
     "data": {
      "text/plain": [
       "0.2"
      ]
     },
     "metadata": {},
     "output_type": "display_data"
    },
    {
     "output_type": "display_data",
     "data": {
      "text/plain": [
       "0.0"
      ]
     },
     "metadata": {},
     "output_type": "display_data"
    },
    {
     "output_type": "stream",
     "name": "stdout",
     "output_type": "stream",
     "text": [
      "125 262 387\n"
     ]
    },
    {
     "output_type": "display_data",
     "data": {
      "text/plain": [
       "'Top <function percentile at 0x7a14998793f0>%:'"
      ]
     },
     "metadata": {},
     "output_type": "display_data"
    },
    {
     "output_type": "display_data",
     "data": {
      "text/plain": [
       "0.0"
      ]
     },
     "metadata": {},
     "output_type": "display_data"
    },
    {
     "output_type": "display_data",
     "data": {
      "text/plain": [
       "0.2"
      ]
     },
     "metadata": {},
     "output_type": "display_data"
    },
    {
     "output_type": "display_data",
     "data": {
      "text/plain": [
       "0.0"
      ]
     },
     "metadata": {},
     "output_type": "display_data"
    },
    {
     "output_type": "stream",
     "name": "stdout",
     "output_type": "stream",
     "text": [
      "3 448 451\n"
     ]
    },
    {
     "output_type": "display_data",
     "data": {
      "text/plain": [
       "'Top <function percentile at 0x7a14998793f0>%:'"
      ]
     },
     "metadata": {},
     "output_type": "display_data"
    },
    {
     "output_type": "display_data",
     "data": {
      "text/plain": [
       "0.0"
      ]
     },
     "metadata": {},
     "output_type": "display_data"
    },
    {
     "output_type": "display_data",
     "data": {
      "text/plain": [
       "0.2"
      ]
     },
     "metadata": {},
     "output_type": "display_data"
    },
    {
     "output_type": "display_data",
     "data": {
      "text/plain": [
       "0.0"
      ]
     },
     "metadata": {},
     "output_type": "display_data"
    },
    {
     "output_type": "stream",
     "name": "stdout",
     "output_type": "stream",
     "text": [
      "40 272 312\n"
     ]
    },
    {
     "output_type": "display_data",
     "data": {
      "text/plain": [
       "'Top <function percentile at 0x7a14998793f0>%:'"
      ]
     },
     "metadata": {},
     "output_type": "display_data"
    },
    {
     "output_type": "display_data",
     "data": {
      "text/plain": [
       "0.0"
      ]
     },
     "metadata": {},
     "output_type": "display_data"
    },
    {
     "output_type": "display_data",
     "data": {
      "text/plain": [
       "0.6"
      ]
     },
     "metadata": {},
     "output_type": "display_data"
    },
    {
     "output_type": "display_data",
     "data": {
      "text/plain": [
       "0.0"
      ]
     },
     "metadata": {},
     "output_type": "display_data"
    },
    {
     "output_type": "stream",
     "name": "stdout",
     "output_type": "stream",
     "text": [
      "32 414 446\n"
     ]
    },
    {
     "output_type": "display_data",
     "data": {
      "text/plain": [
       "'Top <function percentile at 0x7a14998793f0>%:'"
      ]
     },
     "metadata": {},
     "output_type": "display_data"
    },
    {
     "output_type": "display_data",
     "data": {
      "text/plain": [
       "0.0"
      ]
     },
     "metadata": {},
     "output_type": "display_data"
    },
    {
     "output_type": "display_data",
     "data": {
      "text/plain": [
       "0.6"
      ]
     },
     "metadata": {},
     "output_type": "display_data"
    },
    {
     "output_type": "display_data",
     "data": {
      "text/plain": [
       "0.0"
      ]
     },
     "metadata": {},
     "output_type": "display_data"
    },
    {
     "output_type": "stream",
     "name": "stdout",
     "output_type": "stream",
     "text": [
      "26 432 458\n"
     ]
    },
    {
     "output_type": "display_data",
     "data": {
      "text/plain": [
       "'Top <function percentile at 0x7a14998793f0>%:'"
      ]
     },
     "metadata": {},
     "output_type": "display_data"
    },
    {
     "output_type": "display_data",
     "data": {
      "text/plain": [
       "0.0"
      ]
     },
     "metadata": {},
     "output_type": "display_data"
    },
    {
     "output_type": "display_data",
     "data": {
      "text/plain": [
       "0.6"
      ]
     },
     "metadata": {},
     "output_type": "display_data"
    },
    {
     "output_type": "display_data",
     "data": {
      "text/plain": [
       "0.0"
      ]
     },
     "metadata": {},
     "output_type": "display_data"
    }
   ],
   "source": [
    "def calculate_intersection_ratio(input_set, predicted_set):\n",
    "    intersection = input_set.intersection(predicted_set)\n",
    "    overlap = len(intersection) / len(predicted_set) if predicted_set else 0\n",
    "    return overlap\n",
    "\n",
    "\n",
    "for i in range(10):\n",
    "    interaction_list = [ele.asDict() for ele in df[i]['interaction_list']]\n",
    "    X, sscat, sscat_logits = get_recos(interaction_list, 5)\n",
    "\n",
    "    input_sscat = set(X['sscat_id_seq'])\n",
    "    predicted_sscat = set(sscat)\n",
    "    actual_sscat = set(index_to_sscat[ele] for ele in X['positive_sscat_id_seq'].tolist()[0])\n",
    "\n",
    "        \n",
    "    display(f\"Top {percentile}%:\")\n",
    "    display(calculate_intersection_ratio(input_sscat, predicted_sscat))\n",
    "    display(calculate_intersection_ratio(actual_sscat, predicted_sscat))\n",
    "    display(calculate_intersection_ratio(input_sscat, actual_sscat))"
   ]
  },
  {
   "cell_type": "code",
   "execution_count": 0,
   "metadata": {
    "application/vnd.databricks.v1+cell": {
     "cellMetadata": {
      "byteLimit": 2048000,
      "rowLimit": 10000
     },
     "inputWidgets": {},
     "nuid": "95c2f3c9-96aa-4d02-b3f7-f483f1b0ff5f",
     "showTitle": false,
     "tableResultSettingsMap": {},
     "title": ""
    }
   },
   "outputs": [],
   "source": [
    "# def calculate_intersection_ratio_ap(actual_set, predicted_set):\n",
    "#     intersection = actual_set.intersection(predicted_set)\n",
    "#     overlap = len(intersection) / len(predicted_set) if predicted_set else 0\n",
    "#     return overlap"
   ]
  },
  {
   "cell_type": "code",
   "execution_count": 0,
   "metadata": {
    "application/vnd.databricks.v1+cell": {
     "cellMetadata": {
      "byteLimit": 2048000,
      "rowLimit": 10000
     },
     "inputWidgets": {},
     "nuid": "5ee5ca03-1a42-4874-82f5-9cea29bfb455",
     "showTitle": false,
     "tableResultSettingsMap": {},
     "title": ""
    }
   },
   "outputs": [],
   "source": [
    "def calculate_overlap(predicted_sscat, actual_sscat):\n",
    "    intersection = predicted_sscat.intersection(actual_sscat)\n",
    "    overlap_ratio = len(intersection) / len(actual_sscat) if actual_sscat else 0\n",
    "    display(pdf_taxonomy[pdf_taxonomy.sscat_id.isin(intersection)][['sscat_id', \"sscat\"]].style.set_caption(\"Intersection of Predicted and Actual SSCAT\"))\n",
    "    display(\"----------\")\n",
    "    display(pdf_taxonomy[pdf_taxonomy.sscat_id.isin(predicted_sscat)][['sscat_id', \"sscat\"]].style.set_caption(\"Predicted SSCAT\"))\n",
    "    display(\"----------\")\n",
    "    display(pdf_taxonomy[pdf_taxonomy.sscat_id.isin(actual_sscat)][['sscat_id', \"sscat\"]].style.set_caption(\"Actual SSCAT\"))\n",
    "\n",
    "    return overlap_ratio"
   ]
  },
  {
   "cell_type": "code",
   "execution_count": 0,
   "metadata": {
    "application/vnd.databricks.v1+cell": {
     "cellMetadata": {
      "byteLimit": 2048000,
      "rowLimit": 10000
     },
     "inputWidgets": {},
     "nuid": "0d603321-6df8-4517-aa27-fe00abe51f2e",
     "showTitle": false,
     "tableResultSettingsMap": {},
     "title": ""
    }
   },
   "outputs": [
    {
     "output_type": "execute_result",
     "data": {
      "text/plain": [
       "torch.Size([1, 1, 3606])"
      ]
     },
     "execution_count": 182,
     "metadata": {},
     "output_type": "execute_result"
    }
   ],
   "source": [
    "sscat_logits.shape"
   ]
  },
  {
   "cell_type": "code",
   "execution_count": 0,
   "metadata": {
    "application/vnd.databricks.v1+cell": {
     "cellMetadata": {
      "byteLimit": 2048000,
      "rowLimit": 10000
     },
     "inputWidgets": {},
     "nuid": "2af99053-b18a-4642-9ea7-415458ce7fb7",
     "showTitle": false,
     "tableResultSettingsMap": {},
     "title": ""
    }
   },
   "outputs": [
    {
     "output_type": "stream",
     "name": "stdout",
     "output_type": "stream",
     "text": [
      "torch.return_types.topk(\nvalues=tensor([[0.6159, 0.5855, 0.5489, 0.5467, 0.5093]], grad_fn=<TopkBackward0>),\nindices=tensor([[3088,  949,  736, 1683,  221]]))\n"
     ]
    }
   ],
   "source": [
    "print(sscat_logits[0].topk(5))"
   ]
  },
  {
   "cell_type": "code",
   "execution_count": 0,
   "metadata": {
    "application/vnd.databricks.v1+cell": {
     "cellMetadata": {
      "byteLimit": 2048000,
      "rowLimit": 10000
     },
     "inputWidgets": {},
     "nuid": "d5c13019-656e-485b-9516-c4e4acfb4021",
     "showTitle": false,
     "tableResultSettingsMap": {},
     "title": ""
    }
   },
   "outputs": [
    {
     "output_type": "stream",
     "name": "stdout",
     "output_type": "stream",
     "text": [
      "8 143 151\ntorch.return_types.topk(\nvalues=tensor([[0.5845, 0.5692, 0.5321, 0.5137, 0.4996]], grad_fn=<TopkBackward0>),\nindices=tensor([[3088,  949,  736, 1683, 1468]]))\n5 213 218\ntorch.return_types.topk(\nvalues=tensor([[0.6016, 0.5792, 0.5430, 0.5337, 0.5050]], grad_fn=<TopkBackward0>),\nindices=tensor([[3088,  949,  736, 1683, 1468]]))\n30 144 174\ntorch.return_types.topk(\nvalues=tensor([[0.5994, 0.5772, 0.5398, 0.5286, 0.5033]], grad_fn=<TopkBackward0>),\nindices=tensor([[3088,  949,  736, 1683, 1468]]))\n27 192 219\ntorch.return_types.topk(\nvalues=tensor([[0.6151, 0.5848, 0.5486, 0.5447, 0.5093]], grad_fn=<TopkBackward0>),\nindices=tensor([[3088,  949,  736, 1683,  221]]))\n7 356 363\ntorch.return_types.topk(\nvalues=tensor([[0.6323, 0.5921, 0.5642, 0.5567, 0.5156]], grad_fn=<TopkBackward0>),\nindices=tensor([[3088,  949, 1683,  736,  221]]))\n125 262 387\ntorch.return_types.topk(\nvalues=tensor([[0.6261, 0.5901, 0.5557, 0.5533, 0.5135]], grad_fn=<TopkBackward0>),\nindices=tensor([[3088,  949, 1683,  736,  221]]))\n3 448 451\ntorch.return_types.topk(\nvalues=tensor([[0.6262, 0.5896, 0.5579, 0.5537, 0.5126]], grad_fn=<TopkBackward0>),\nindices=tensor([[3088,  949, 1683,  736,  221]]))\n40 272 312\ntorch.return_types.topk(\nvalues=tensor([[0.6263, 0.5894, 0.5570, 0.5534, 0.5130]], grad_fn=<TopkBackward0>),\nindices=tensor([[3088,  949, 1683,  736,  221]]))\n32 414 446\ntorch.return_types.topk(\nvalues=tensor([[0.6315, 0.5920, 0.5618, 0.5562, 0.5154]], grad_fn=<TopkBackward0>),\nindices=tensor([[3088,  949, 1683,  736,  221]]))\n26 432 458\ntorch.return_types.topk(\nvalues=tensor([[0.6115, 0.5822, 0.5484, 0.5447, 0.5068]], grad_fn=<TopkBackward0>),\nindices=tensor([[3088,  949,  736, 1683, 1468]]))\n9 208 217\ntorch.return_types.topk(\nvalues=tensor([[0.6208, 0.5878, 0.5516, 0.5509, 0.5114]], grad_fn=<TopkBackward0>),\nindices=tensor([[3088,  949, 1683,  736,  221]]))\n4 140 144\ntorch.return_types.topk(\nvalues=tensor([[0.6029, 0.5798, 0.5422, 0.5333, 0.5054]], grad_fn=<TopkBackward0>),\nindices=tensor([[3088,  949,  736, 1683, 1468]]))\n20 52 72\ntorch.return_types.topk(\nvalues=tensor([[0.5526, 0.5498, 0.5155, 0.4950, 0.4917]], grad_fn=<TopkBackward0>),\nindices=tensor([[3088,  949,  736, 1799, 1468]]))\n55 237 292\ntorch.return_types.topk(\nvalues=tensor([[0.6279, 0.5896, 0.5585, 0.5543, 0.5138]], grad_fn=<TopkBackward0>),\nindices=tensor([[3088,  949, 1683,  736,  221]]))\n15 185 200\ntorch.return_types.topk(\nvalues=tensor([[0.5906, 0.5708, 0.5376, 0.5224, 0.5008]], grad_fn=<TopkBackward0>),\nindices=tensor([[3088,  949,  736, 1683, 1468]]))\n15 333 348\ntorch.return_types.topk(\nvalues=tensor([[0.6309, 0.5909, 0.5628, 0.5559, 0.5148]], grad_fn=<TopkBackward0>),\nindices=tensor([[3088,  949, 1683,  736,  221]]))\n5 92 97\ntorch.return_types.topk(\nvalues=tensor([[0.5514, 0.5491, 0.5130, 0.4937, 0.4910]], grad_fn=<TopkBackward0>),\nindices=tensor([[3088,  949,  736, 1799, 1468]]))\n2 59 61\ntorch.return_types.topk(\nvalues=tensor([[0.5575, 0.5523, 0.5158, 0.4947, 0.4914]], grad_fn=<TopkBackward0>),\nindices=tensor([[3088,  949,  736, 1799, 1468]]))\n1 174 175\ntorch.return_types.topk(\nvalues=tensor([[0.6005, 0.5775, 0.5411, 0.5299, 0.5036]], grad_fn=<TopkBackward0>),\nindices=tensor([[3088,  949,  736, 1683, 1468]]))\n"
     ]
    },
    {
     "output_type": "display_data",
     "data": {
      "text/html": [
       "<style type=\"text/css\">\n",
       "</style>\n",
       "<table id=\"T_b8dd9\">\n",
       "  <caption>Predicted SSCAT</caption>\n",
       "  <thead>\n",
       "    <tr>\n",
       "      <th class=\"blank level0\" >&nbsp;</th>\n",
       "      <th id=\"T_b8dd9_level0_col0\" class=\"col_heading level0 col0\" >sscat_id</th>\n",
       "      <th id=\"T_b8dd9_level0_col1\" class=\"col_heading level0 col1\" >sscat</th>\n",
       "    </tr>\n",
       "  </thead>\n",
       "  <tbody>\n",
       "    <tr>\n",
       "      <th id=\"T_b8dd9_level0_row0\" class=\"row_heading level0 row0\" >506</th>\n",
       "      <td id=\"T_b8dd9_row0_col0\" class=\"data row0 col0\" >1020</td>\n",
       "      <td id=\"T_b8dd9_row0_col1\" class=\"data row0 col1\" >Tops & Tunics</td>\n",
       "    </tr>\n",
       "    <tr>\n",
       "      <th id=\"T_b8dd9_level0_row1\" class=\"row_heading level0 row1\" >736</th>\n",
       "      <td id=\"T_b8dd9_row1_col0\" class=\"data row1 col0\" >1001</td>\n",
       "      <td id=\"T_b8dd9_row1_col1\" class=\"data row1 col1\" >Kurtis & Kurtas</td>\n",
       "    </tr>\n",
       "    <tr>\n",
       "      <th id=\"T_b8dd9_level0_row2\" class=\"row_heading level0 row2\" >2365</th>\n",
       "      <td id=\"T_b8dd9_row2_col0\" class=\"data row2 col0\" >1003</td>\n",
       "      <td id=\"T_b8dd9_row2_col1\" class=\"data row2 col1\" >Kurta Sets</td>\n",
       "    </tr>\n",
       "    <tr>\n",
       "      <th id=\"T_b8dd9_level0_row3\" class=\"row_heading level0 row3\" >3116</th>\n",
       "      <td id=\"T_b8dd9_row3_col0\" class=\"data row3 col0\" >1004</td>\n",
       "      <td id=\"T_b8dd9_row3_col1\" class=\"data row3 col1\" >Sarees</td>\n",
       "    </tr>\n",
       "    <tr>\n",
       "      <th id=\"T_b8dd9_level0_row4\" class=\"row_heading level0 row4\" >3166</th>\n",
       "      <td id=\"T_b8dd9_row4_col0\" class=\"data row4 col0\" >1853</td>\n",
       "      <td id=\"T_b8dd9_row4_col1\" class=\"data row4 col1\" >Dupatta Sets</td>\n",
       "    </tr>\n",
       "  </tbody>\n",
       "</table>\n"
      ],
      "text/plain": [
       "<pandas.io.formats.style.Styler at 0x7a10fdf99e40>"
      ]
     },
     "metadata": {},
     "output_type": "display_data"
    },
    {
     "output_type": "display_data",
     "data": {
      "text/plain": [
       "'----------'"
      ]
     },
     "metadata": {},
     "output_type": "display_data"
    },
    {
     "output_type": "display_data",
     "data": {
      "text/html": [
       "<style type=\"text/css\">\n",
       "</style>\n",
       "<table id=\"T_2d0e8\">\n",
       "  <caption>input SSCAT</caption>\n",
       "  <thead>\n",
       "    <tr>\n",
       "      <th class=\"blank level0\" >&nbsp;</th>\n",
       "      <th id=\"T_2d0e8_level0_col0\" class=\"col_heading level0 col0\" >sscat_id</th>\n",
       "      <th id=\"T_2d0e8_level0_col1\" class=\"col_heading level0 col1\" >sscat</th>\n",
       "    </tr>\n",
       "  </thead>\n",
       "  <tbody>\n",
       "    <tr>\n",
       "      <th id=\"T_2d0e8_level0_row0\" class=\"row_heading level0 row0\" >69</th>\n",
       "      <td id=\"T_2d0e8_row0_col0\" class=\"data row0 col0\" >5543</td>\n",
       "      <td id=\"T_2d0e8_row0_col1\" class=\"data row0 col1\" >Hair Care Combo</td>\n",
       "    </tr>\n",
       "    <tr>\n",
       "      <th id=\"T_2d0e8_level0_row1\" class=\"row_heading level0 row1\" >74</th>\n",
       "      <td id=\"T_2d0e8_row1_col0\" class=\"data row1 col0\" >4022</td>\n",
       "      <td id=\"T_2d0e8_row1_col1\" class=\"data row1 col1\" >Embroidery Threads</td>\n",
       "    </tr>\n",
       "    <tr>\n",
       "      <th id=\"T_2d0e8_level0_row2\" class=\"row_heading level0 row2\" >458</th>\n",
       "      <td id=\"T_2d0e8_row2_col0\" class=\"data row2 col0\" >1175</td>\n",
       "      <td id=\"T_2d0e8_row2_col1\" class=\"data row2 col1\" >Shorts & Capris</td>\n",
       "    </tr>\n",
       "    <tr>\n",
       "      <th id=\"T_2d0e8_level0_row3\" class=\"row_heading level0 row3\" >478</th>\n",
       "      <td id=\"T_2d0e8_row3_col0\" class=\"data row3 col0\" >1239</td>\n",
       "      <td id=\"T_2d0e8_row3_col1\" class=\"data row3 col1\" >Flip Flops</td>\n",
       "    </tr>\n",
       "    <tr>\n",
       "      <th id=\"T_2d0e8_level0_row4\" class=\"row_heading level0 row4\" >613</th>\n",
       "      <td id=\"T_2d0e8_row4_col0\" class=\"data row4 col0\" >1035</td>\n",
       "      <td id=\"T_2d0e8_row4_col1\" class=\"data row4 col1\" >Leggings & Tights </td>\n",
       "    </tr>\n",
       "    <tr>\n",
       "      <th id=\"T_2d0e8_level0_row5\" class=\"row_heading level0 row5\" >640</th>\n",
       "      <td id=\"T_2d0e8_row5_col0\" class=\"data row5 col0\" >5534</td>\n",
       "      <td id=\"T_2d0e8_row5_col1\" class=\"data row5 col1\" >Shampoo</td>\n",
       "    </tr>\n",
       "    <tr>\n",
       "      <th id=\"T_2d0e8_level0_row6\" class=\"row_heading level0 row6\" >684</th>\n",
       "      <td id=\"T_2d0e8_row6_col0\" class=\"data row6 col0\" >1238</td>\n",
       "      <td id=\"T_2d0e8_row6_col1\" class=\"data row6 col1\" >Sandals</td>\n",
       "    </tr>\n",
       "    <tr>\n",
       "      <th id=\"T_2d0e8_level0_row7\" class=\"row_heading level0 row7\" >712</th>\n",
       "      <td id=\"T_2d0e8_row7_col0\" class=\"data row7 col0\" >1025</td>\n",
       "      <td id=\"T_2d0e8_row7_col1\" class=\"data row7 col1\" >Dresses</td>\n",
       "    </tr>\n",
       "    <tr>\n",
       "      <th id=\"T_2d0e8_level0_row8\" class=\"row_heading level0 row8\" >856</th>\n",
       "      <td id=\"T_2d0e8_row8_col0\" class=\"data row8 col0\" >1206</td>\n",
       "      <td id=\"T_2d0e8_row8_col1\" class=\"data row8 col1\" >Shirts</td>\n",
       "    </tr>\n",
       "    <tr>\n",
       "      <th id=\"T_2d0e8_level0_row9\" class=\"row_heading level0 row9\" >915</th>\n",
       "      <td id=\"T_2d0e8_row9_col0\" class=\"data row9 col0\" >1167</td>\n",
       "      <td id=\"T_2d0e8_row9_col1\" class=\"data row9 col1\" >Sandals</td>\n",
       "    </tr>\n",
       "    <tr>\n",
       "      <th id=\"T_2d0e8_level0_row10\" class=\"row_heading level0 row10\" >943</th>\n",
       "      <td id=\"T_2d0e8_row10_col0\" class=\"data row10 col0\" >1042</td>\n",
       "      <td id=\"T_2d0e8_row10_col1\" class=\"data row10 col1\" >Briefs</td>\n",
       "    </tr>\n",
       "    <tr>\n",
       "      <th id=\"T_2d0e8_level0_row11\" class=\"row_heading level0 row11\" >1014</th>\n",
       "      <td id=\"T_2d0e8_row11_col0\" class=\"data row11 col0\" >2315</td>\n",
       "      <td id=\"T_2d0e8_row11_col1\" class=\"data row11 col1\" >Live Plants</td>\n",
       "    </tr>\n",
       "    <tr>\n",
       "      <th id=\"T_2d0e8_level0_row12\" class=\"row_heading level0 row12\" >1073</th>\n",
       "      <td id=\"T_2d0e8_row12_col0\" class=\"data row12 col0\" >5539</td>\n",
       "      <td id=\"T_2d0e8_row12_col1\" class=\"data row12 col1\" >Massage Oils</td>\n",
       "    </tr>\n",
       "    <tr>\n",
       "      <th id=\"T_2d0e8_level0_row13\" class=\"row_heading level0 row13\" >1235</th>\n",
       "      <td id=\"T_2d0e8_row13_col0\" class=\"data row13 col0\" >1191</td>\n",
       "      <td id=\"T_2d0e8_row13_col1\" class=\"data row13 col1\" >Flip Flops</td>\n",
       "    </tr>\n",
       "    <tr>\n",
       "      <th id=\"T_2d0e8_level0_row14\" class=\"row_heading level0 row14\" >1299</th>\n",
       "      <td id=\"T_2d0e8_row14_col0\" class=\"data row14 col0\" >2446</td>\n",
       "      <td id=\"T_2d0e8_row14_col1\" class=\"data row14 col1\" >Seeds</td>\n",
       "    </tr>\n",
       "    <tr>\n",
       "      <th id=\"T_2d0e8_level0_row15\" class=\"row_heading level0 row15\" >1321</th>\n",
       "      <td id=\"T_2d0e8_row15_col0\" class=\"data row15 col0\" >1006</td>\n",
       "      <td id=\"T_2d0e8_row15_col1\" class=\"data row15 col1\" >Dupattas</td>\n",
       "    </tr>\n",
       "    <tr>\n",
       "      <th id=\"T_2d0e8_level0_row16\" class=\"row_heading level0 row16\" >1788</th>\n",
       "      <td id=\"T_2d0e8_row16_col0\" class=\"data row16 col0\" >1071</td>\n",
       "      <td id=\"T_2d0e8_row16_col1\" class=\"data row16 col1\" >Flats</td>\n",
       "    </tr>\n",
       "    <tr>\n",
       "      <th id=\"T_2d0e8_level0_row17\" class=\"row_heading level0 row17\" >1860</th>\n",
       "      <td id=\"T_2d0e8_row17_col0\" class=\"data row17 col0\" >2363</td>\n",
       "      <td id=\"T_2d0e8_row17_col1\" class=\"data row17 col1\" >Incense Sticks</td>\n",
       "    </tr>\n",
       "    <tr>\n",
       "      <th id=\"T_2d0e8_level0_row18\" class=\"row_heading level0 row18\" >1932</th>\n",
       "      <td id=\"T_2d0e8_row18_col0\" class=\"data row18 col0\" >2250</td>\n",
       "      <td id=\"T_2d0e8_row18_col1\" class=\"data row18 col1\" >Cleaning Supplies</td>\n",
       "    </tr>\n",
       "    <tr>\n",
       "      <th id=\"T_2d0e8_level0_row19\" class=\"row_heading level0 row19\" >2070</th>\n",
       "      <td id=\"T_2d0e8_row19_col0\" class=\"data row19 col0\" >1190</td>\n",
       "      <td id=\"T_2d0e8_row19_col1\" class=\"data row19 col1\" >Sandals</td>\n",
       "    </tr>\n",
       "    <tr>\n",
       "      <th id=\"T_2d0e8_level0_row20\" class=\"row_heading level0 row20\" >2192</th>\n",
       "      <td id=\"T_2d0e8_row20_col0\" class=\"data row20 col0\" >1070</td>\n",
       "      <td id=\"T_2d0e8_row20_col1\" class=\"data row20 col1\" >Flipflops & Slippers</td>\n",
       "    </tr>\n",
       "    <tr>\n",
       "      <th id=\"T_2d0e8_level0_row21\" class=\"row_heading level0 row21\" >2312</th>\n",
       "      <td id=\"T_2d0e8_row21_col0\" class=\"data row21 col0\" >1409</td>\n",
       "      <td id=\"T_2d0e8_row21_col1\" class=\"data row21 col1\" >Sports Bra</td>\n",
       "    </tr>\n",
       "    <tr>\n",
       "      <th id=\"T_2d0e8_level0_row22\" class=\"row_heading level0 row22\" >2338</th>\n",
       "      <td id=\"T_2d0e8_row22_col0\" class=\"data row22 col0\" >1031</td>\n",
       "      <td id=\"T_2d0e8_row22_col1\" class=\"data row22 col1\" >Maternity Topwear </td>\n",
       "    </tr>\n",
       "    <tr>\n",
       "      <th id=\"T_2d0e8_level0_row23\" class=\"row_heading level0 row23\" >2425</th>\n",
       "      <td id=\"T_2d0e8_row23_col0\" class=\"data row23 col0\" >2581</td>\n",
       "      <td id=\"T_2d0e8_row23_col1\" class=\"data row23 col1\" >Active Shorts</td>\n",
       "    </tr>\n",
       "    <tr>\n",
       "      <th id=\"T_2d0e8_level0_row24\" class=\"row_heading level0 row24\" >2487</th>\n",
       "      <td id=\"T_2d0e8_row24_col0\" class=\"data row24 col0\" >1041</td>\n",
       "      <td id=\"T_2d0e8_row24_col1\" class=\"data row24 col1\" >Bra</td>\n",
       "    </tr>\n",
       "    <tr>\n",
       "      <th id=\"T_2d0e8_level0_row25\" class=\"row_heading level0 row25\" >2512</th>\n",
       "      <td id=\"T_2d0e8_row25_col0\" class=\"data row25 col0\" >1182</td>\n",
       "      <td id=\"T_2d0e8_row25_col1\" class=\"data row25 col1\" >Clothing Sets</td>\n",
       "    </tr>\n",
       "    <tr>\n",
       "      <th id=\"T_2d0e8_level0_row26\" class=\"row_heading level0 row26\" >2568</th>\n",
       "      <td id=\"T_2d0e8_row26_col0\" class=\"data row26 col0\" >5895</td>\n",
       "      <td id=\"T_2d0e8_row26_col1\" class=\"data row26 col1\" >Soap Dispensers</td>\n",
       "    </tr>\n",
       "    <tr>\n",
       "      <th id=\"T_2d0e8_level0_row27\" class=\"row_heading level0 row27\" >2908</th>\n",
       "      <td id=\"T_2d0e8_row27_col0\" class=\"data row27 col0\" >2674</td>\n",
       "      <td id=\"T_2d0e8_row27_col1\" class=\"data row27 col1\" >Stuffed Toys</td>\n",
       "    </tr>\n",
       "    <tr>\n",
       "      <th id=\"T_2d0e8_level0_row28\" class=\"row_heading level0 row28\" >2939</th>\n",
       "      <td id=\"T_2d0e8_row28_col0\" class=\"data row28 col0\" >1187</td>\n",
       "      <td id=\"T_2d0e8_row28_col1\" class=\"data row28 col1\" >Innerwear</td>\n",
       "    </tr>\n",
       "    <tr>\n",
       "      <th id=\"T_2d0e8_level0_row29\" class=\"row_heading level0 row29\" >3098</th>\n",
       "      <td id=\"T_2d0e8_row29_col0\" class=\"data row29 col0\" >2330</td>\n",
       "      <td id=\"T_2d0e8_row29_col1\" class=\"data row29 col1\" >Feeding Kurtis & Kurta Sets</td>\n",
       "    </tr>\n",
       "    <tr>\n",
       "      <th id=\"T_2d0e8_level0_row30\" class=\"row_heading level0 row30\" >3139</th>\n",
       "      <td id=\"T_2d0e8_row30_col0\" class=\"data row30 col0\" >1173</td>\n",
       "      <td id=\"T_2d0e8_row30_col1\" class=\"data row30 col1\" >Tshirts & Polos</td>\n",
       "    </tr>\n",
       "    <tr>\n",
       "      <th id=\"T_2d0e8_level0_row31\" class=\"row_heading level0 row31\" >3164</th>\n",
       "      <td id=\"T_2d0e8_row31_col0\" class=\"data row31 col0\" >5596</td>\n",
       "      <td id=\"T_2d0e8_row31_col1\" class=\"data row31 col1\" >Hair Oil</td>\n",
       "    </tr>\n",
       "    <tr>\n",
       "      <th id=\"T_2d0e8_level0_row32\" class=\"row_heading level0 row32\" >3348</th>\n",
       "      <td id=\"T_2d0e8_row32_col0\" class=\"data row32 col0\" >5622</td>\n",
       "      <td id=\"T_2d0e8_row32_col1\" class=\"data row32 col1\" >Hair Serum</td>\n",
       "    </tr>\n",
       "    <tr>\n",
       "      <th id=\"T_2d0e8_level0_row33\" class=\"row_heading level0 row33\" >3504</th>\n",
       "      <td id=\"T_2d0e8_row33_col0\" class=\"data row33 col0\" >1235</td>\n",
       "      <td id=\"T_2d0e8_row33_col1\" class=\"data row33 col1\" >Casual Shoes</td>\n",
       "    </tr>\n",
       "    <tr>\n",
       "      <th id=\"T_2d0e8_level0_row34\" class=\"row_heading level0 row34\" >3553</th>\n",
       "      <td id=\"T_2d0e8_row34_col0\" class=\"data row34 col0\" >1097</td>\n",
       "      <td id=\"T_2d0e8_row34_col1\" class=\"data row34 col1\" >Mangalsutras</td>\n",
       "    </tr>\n",
       "    <tr>\n",
       "      <th id=\"T_2d0e8_level0_row35\" class=\"row_heading level0 row35\" >3556</th>\n",
       "      <td id=\"T_2d0e8_row35_col0\" class=\"data row35 col0\" >1147</td>\n",
       "      <td id=\"T_2d0e8_row35_col1\" class=\"data row35 col1\" >Clothing Sets</td>\n",
       "    </tr>\n",
       "    <tr>\n",
       "      <th id=\"T_2d0e8_level0_row36\" class=\"row_heading level0 row36\" >3578</th>\n",
       "      <td id=\"T_2d0e8_row36_col0\" class=\"data row36 col0\" >1764</td>\n",
       "      <td id=\"T_2d0e8_row36_col1\" class=\"data row36 col1\" >Vegetables</td>\n",
       "    </tr>\n",
       "    <tr>\n",
       "      <th id=\"T_2d0e8_level0_row37\" class=\"row_heading level0 row37\" >3909</th>\n",
       "      <td id=\"T_2d0e8_row37_col0\" class=\"data row37 col0\" >1141</td>\n",
       "      <td id=\"T_2d0e8_row37_col1\" class=\"data row37 col1\" >Frocks & Dresses</td>\n",
       "    </tr>\n",
       "    <tr>\n",
       "      <th id=\"T_2d0e8_level0_row38\" class=\"row_heading level0 row38\" >3936</th>\n",
       "      <td id=\"T_2d0e8_row38_col0\" class=\"data row38 col0\" >1092</td>\n",
       "      <td id=\"T_2d0e8_row38_col1\" class=\"data row38 col1\" >Necklaces & Chains</td>\n",
       "    </tr>\n",
       "  </tbody>\n",
       "</table>\n"
      ],
      "text/plain": [
       "<pandas.io.formats.style.Styler at 0x7a10fdf9bbb0>"
      ]
     },
     "metadata": {},
     "output_type": "display_data"
    },
    {
     "output_type": "display_data",
     "data": {
      "text/html": [
       "<style type=\"text/css\">\n",
       "</style>\n",
       "<table id=\"T_a8674\">\n",
       "  <caption>Actual SSCAT</caption>\n",
       "  <thead>\n",
       "    <tr>\n",
       "      <th class=\"blank level0\" >&nbsp;</th>\n",
       "      <th id=\"T_a8674_level0_col0\" class=\"col_heading level0 col0\" >sscat_id</th>\n",
       "      <th id=\"T_a8674_level0_col1\" class=\"col_heading level0 col1\" >sscat</th>\n",
       "    </tr>\n",
       "  </thead>\n",
       "  <tbody>\n",
       "    <tr>\n",
       "      <th id=\"T_a8674_level0_row0\" class=\"row_heading level0 row0\" >2192</th>\n",
       "      <td id=\"T_a8674_row0_col0\" class=\"data row0 col0\" >1070</td>\n",
       "      <td id=\"T_a8674_row0_col1\" class=\"data row0 col1\" >Flipflops & Slippers</td>\n",
       "    </tr>\n",
       "  </tbody>\n",
       "</table>\n"
      ],
      "text/plain": [
       "<pandas.io.formats.style.Styler at 0x7a10fdf9ae30>"
      ]
     },
     "metadata": {},
     "output_type": "display_data"
    },
    {
     "output_type": "stream",
     "name": "stdout",
     "output_type": "stream",
     "text": [
      "15 719 734\ntorch.return_types.topk(\nvalues=tensor([[0.6493, 0.5997, 0.5831, 0.5647, 0.5171]], grad_fn=<TopkBackward0>),\nindices=tensor([[3088,  949, 1683,  736,  221]]))\n18 89 107\ntorch.return_types.topk(\nvalues=tensor([[0.5830, 0.5672, 0.5312, 0.5112, 0.4977]], grad_fn=<TopkBackward0>),\nindices=tensor([[3088,  949,  736, 1683, 1468]]))\n66 90 156\ntorch.return_types.topk(\nvalues=tensor([[0.5897, 0.5714, 0.5352, 0.5192, 0.5008]], grad_fn=<TopkBackward0>),\nindices=tensor([[3088,  949,  736, 1683, 1468]]))\n8 147 155\ntorch.return_types.topk(\nvalues=tensor([[0.5889, 0.5711, 0.5364, 0.5197, 0.5004]], grad_fn=<TopkBackward0>),\nindices=tensor([[3088,  949,  736, 1683, 1468]]))\n55 435 490\ntorch.return_types.topk(\nvalues=tensor([[0.6205, 0.5863, 0.5525, 0.5514, 0.5106]], grad_fn=<TopkBackward0>),\nindices=tensor([[3088,  949, 1683,  736,  221]]))\n67 368 435\ntorch.return_types.topk(\nvalues=tensor([[0.6259, 0.5885, 0.5580, 0.5539, 0.5126]], grad_fn=<TopkBackward0>),\nindices=tensor([[3088,  949, 1683,  736,  221]]))\n6 88 94\ntorch.return_types.topk(\nvalues=tensor([[0.5747, 0.5623, 0.5262, 0.5021, 0.4972]], grad_fn=<TopkBackward0>),\nindices=tensor([[3088,  949,  736, 1683, 1799]]))\n"
     ]
    },
    {
     "output_type": "display_data",
     "data": {
      "text/html": [
       "<style type=\"text/css\">\n",
       "</style>\n",
       "<table id=\"T_aed7a\">\n",
       "  <caption>Predicted SSCAT</caption>\n",
       "  <thead>\n",
       "    <tr>\n",
       "      <th class=\"blank level0\" >&nbsp;</th>\n",
       "      <th id=\"T_aed7a_level0_col0\" class=\"col_heading level0 col0\" >sscat_id</th>\n",
       "      <th id=\"T_aed7a_level0_col1\" class=\"col_heading level0 col1\" >sscat</th>\n",
       "    </tr>\n",
       "  </thead>\n",
       "  <tbody>\n",
       "    <tr>\n",
       "      <th id=\"T_aed7a_level0_row0\" class=\"row_heading level0 row0\" >506</th>\n",
       "      <td id=\"T_aed7a_row0_col0\" class=\"data row0 col0\" >1020</td>\n",
       "      <td id=\"T_aed7a_row0_col1\" class=\"data row0 col1\" >Tops & Tunics</td>\n",
       "    </tr>\n",
       "    <tr>\n",
       "      <th id=\"T_aed7a_level0_row1\" class=\"row_heading level0 row1\" >736</th>\n",
       "      <td id=\"T_aed7a_row1_col0\" class=\"data row1 col0\" >1001</td>\n",
       "      <td id=\"T_aed7a_row1_col1\" class=\"data row1 col1\" >Kurtis & Kurtas</td>\n",
       "    </tr>\n",
       "    <tr>\n",
       "      <th id=\"T_aed7a_level0_row2\" class=\"row_heading level0 row2\" >2365</th>\n",
       "      <td id=\"T_aed7a_row2_col0\" class=\"data row2 col0\" >1003</td>\n",
       "      <td id=\"T_aed7a_row2_col1\" class=\"data row2 col1\" >Kurta Sets</td>\n",
       "    </tr>\n",
       "    <tr>\n",
       "      <th id=\"T_aed7a_level0_row3\" class=\"row_heading level0 row3\" >3116</th>\n",
       "      <td id=\"T_aed7a_row3_col0\" class=\"data row3 col0\" >1004</td>\n",
       "      <td id=\"T_aed7a_row3_col1\" class=\"data row3 col1\" >Sarees</td>\n",
       "    </tr>\n",
       "    <tr>\n",
       "      <th id=\"T_aed7a_level0_row4\" class=\"row_heading level0 row4\" >3166</th>\n",
       "      <td id=\"T_aed7a_row4_col0\" class=\"data row4 col0\" >1853</td>\n",
       "      <td id=\"T_aed7a_row4_col1\" class=\"data row4 col1\" >Dupatta Sets</td>\n",
       "    </tr>\n",
       "  </tbody>\n",
       "</table>\n"
      ],
      "text/plain": [
       "<pandas.io.formats.style.Styler at 0x7a10fdffb730>"
      ]
     },
     "metadata": {},
     "output_type": "display_data"
    },
    {
     "output_type": "display_data",
     "data": {
      "text/plain": [
       "'----------'"
      ]
     },
     "metadata": {},
     "output_type": "display_data"
    },
    {
     "output_type": "display_data",
     "data": {
      "text/html": [
       "<style type=\"text/css\">\n",
       "</style>\n",
       "<table id=\"T_2a696\">\n",
       "  <caption>input SSCAT</caption>\n",
       "  <thead>\n",
       "    <tr>\n",
       "      <th class=\"blank level0\" >&nbsp;</th>\n",
       "      <th id=\"T_2a696_level0_col0\" class=\"col_heading level0 col0\" >sscat_id</th>\n",
       "      <th id=\"T_2a696_level0_col1\" class=\"col_heading level0 col1\" >sscat</th>\n",
       "    </tr>\n",
       "  </thead>\n",
       "  <tbody>\n",
       "    <tr>\n",
       "      <th id=\"T_2a696_level0_row0\" class=\"row_heading level0 row0\" >5</th>\n",
       "      <td id=\"T_2a696_row0_col0\" class=\"data row0 col0\" >5844</td>\n",
       "      <td id=\"T_2a696_row0_col1\" class=\"data row0 col1\" >Digital Watches</td>\n",
       "    </tr>\n",
       "    <tr>\n",
       "      <th id=\"T_2a696_level0_row1\" class=\"row_heading level0 row1\" >54</th>\n",
       "      <td id=\"T_2a696_row1_col0\" class=\"data row1 col0\" >5478</td>\n",
       "      <td id=\"T_2a696_row1_col1\" class=\"data row1 col1\" >Body Wax & Strips</td>\n",
       "    </tr>\n",
       "    <tr>\n",
       "      <th id=\"T_2a696_level0_row2\" class=\"row_heading level0 row2\" >97</th>\n",
       "      <td id=\"T_2a696_row2_col0\" class=\"data row2 col0\" >5843</td>\n",
       "      <td id=\"T_2a696_row2_col1\" class=\"data row2 col1\" >Watchbands</td>\n",
       "    </tr>\n",
       "    <tr>\n",
       "      <th id=\"T_2a696_level0_row3\" class=\"row_heading level0 row3\" >628</th>\n",
       "      <td id=\"T_2a696_row3_col0\" class=\"data row3 col0\" >2324</td>\n",
       "      <td id=\"T_2a696_row3_col1\" class=\"data row3 col1\" >Sneakers</td>\n",
       "    </tr>\n",
       "    <tr>\n",
       "      <th id=\"T_2a696_level0_row4\" class=\"row_heading level0 row4\" >717</th>\n",
       "      <td id=\"T_2a696_row4_col0\" class=\"data row4 col0\" >1648</td>\n",
       "      <td id=\"T_2a696_row4_col1\" class=\"data row4 col1\" >Knives & Knife Set</td>\n",
       "    </tr>\n",
       "    <tr>\n",
       "      <th id=\"T_2a696_level0_row5\" class=\"row_heading level0 row5\" >1135</th>\n",
       "      <td id=\"T_2a696_row5_col0\" class=\"data row5 col0\" >1019</td>\n",
       "      <td id=\"T_2a696_row5_col1\" class=\"data row5 col1\" >Ethnic Bottomwear - Petticoats</td>\n",
       "    </tr>\n",
       "    <tr>\n",
       "      <th id=\"T_2a696_level0_row6\" class=\"row_heading level0 row6\" >1136</th>\n",
       "      <td id=\"T_2a696_row6_col0\" class=\"data row6 col0\" >5924</td>\n",
       "      <td id=\"T_2a696_row6_col1\" class=\"data row6 col1\" >Brushes</td>\n",
       "    </tr>\n",
       "    <tr>\n",
       "      <th id=\"T_2a696_level0_row7\" class=\"row_heading level0 row7\" >1342</th>\n",
       "      <td id=\"T_2a696_row7_col0\" class=\"data row7 col0\" >5638</td>\n",
       "      <td id=\"T_2a696_row7_col1\" class=\"data row7 col1\" >Day And Night Cream</td>\n",
       "    </tr>\n",
       "    <tr>\n",
       "      <th id=\"T_2a696_level0_row8\" class=\"row_heading level0 row8\" >1421</th>\n",
       "      <td id=\"T_2a696_row8_col0\" class=\"data row8 col0\" >1656</td>\n",
       "      <td id=\"T_2a696_row8_col1\" class=\"data row8 col1\" >Choppers & Peelers</td>\n",
       "    </tr>\n",
       "    <tr>\n",
       "      <th id=\"T_2a696_level0_row9\" class=\"row_heading level0 row9\" >1429</th>\n",
       "      <td id=\"T_2a696_row9_col0\" class=\"data row9 col0\" >5565</td>\n",
       "      <td id=\"T_2a696_row9_col1\" class=\"data row9 col1\" >Face & Upper Lip Epillators</td>\n",
       "    </tr>\n",
       "    <tr>\n",
       "      <th id=\"T_2a696_level0_row10\" class=\"row_heading level0 row10\" >1497</th>\n",
       "      <td id=\"T_2a696_row10_col0\" class=\"data row10 col0\" >1476</td>\n",
       "      <td id=\"T_2a696_row10_col1\" class=\"data row10 col1\" >Massagers</td>\n",
       "    </tr>\n",
       "    <tr>\n",
       "      <th id=\"T_2a696_level0_row11\" class=\"row_heading level0 row11\" >1657</th>\n",
       "      <td id=\"T_2a696_row11_col0\" class=\"data row11 col0\" >1188</td>\n",
       "      <td id=\"T_2a696_row11_col1\" class=\"data row11 col1\" >Casual Shoes</td>\n",
       "    </tr>\n",
       "    <tr>\n",
       "      <th id=\"T_2a696_level0_row12\" class=\"row_heading level0 row12\" >1688</th>\n",
       "      <td id=\"T_2a696_row12_col0\" class=\"data row12 col0\" >1050</td>\n",
       "      <td id=\"T_2a696_row12_col1\" class=\"data row12 col1\" >Shapewear</td>\n",
       "    </tr>\n",
       "    <tr>\n",
       "      <th id=\"T_2a696_level0_row13\" class=\"row_heading level0 row13\" >1932</th>\n",
       "      <td id=\"T_2a696_row13_col0\" class=\"data row13 col0\" >2250</td>\n",
       "      <td id=\"T_2a696_row13_col1\" class=\"data row13 col1\" >Cleaning Supplies</td>\n",
       "    </tr>\n",
       "    <tr>\n",
       "      <th id=\"T_2a696_level0_row14\" class=\"row_heading level0 row14\" >2193</th>\n",
       "      <td id=\"T_2a696_row14_col0\" class=\"data row14 col0\" >5512</td>\n",
       "      <td id=\"T_2a696_row14_col1\" class=\"data row14 col1\" >Nail Polish</td>\n",
       "    </tr>\n",
       "    <tr>\n",
       "      <th id=\"T_2a696_level0_row15\" class=\"row_heading level0 row15\" >2212</th>\n",
       "      <td id=\"T_2a696_row15_col0\" class=\"data row15 col0\" >2294</td>\n",
       "      <td id=\"T_2a696_row15_col1\" class=\"data row15 col1\" >Bathroom Hardware</td>\n",
       "    </tr>\n",
       "    <tr>\n",
       "      <th id=\"T_2a696_level0_row16\" class=\"row_heading level0 row16\" >2213</th>\n",
       "      <td id=\"T_2a696_row16_col0\" class=\"data row16 col0\" >1758</td>\n",
       "      <td id=\"T_2a696_row16_col1\" class=\"data row16 col1\" >Masks</td>\n",
       "    </tr>\n",
       "    <tr>\n",
       "      <th id=\"T_2a696_level0_row17\" class=\"row_heading level0 row17\" >2291</th>\n",
       "      <td id=\"T_2a696_row17_col0\" class=\"data row17 col0\" >5613</td>\n",
       "      <td id=\"T_2a696_row17_col1\" class=\"data row17 col1\" >Body Lotions & Creams</td>\n",
       "    </tr>\n",
       "    <tr>\n",
       "      <th id=\"T_2a696_level0_row18\" class=\"row_heading level0 row18\" >2337</th>\n",
       "      <td id=\"T_2a696_row18_col0\" class=\"data row18 col0\" >2234</td>\n",
       "      <td id=\"T_2a696_row18_col1\" class=\"data row18 col1\" >Pest Control</td>\n",
       "    </tr>\n",
       "    <tr>\n",
       "      <th id=\"T_2a696_level0_row19\" class=\"row_heading level0 row19\" >2514</th>\n",
       "      <td id=\"T_2a696_row19_col0\" class=\"data row19 col0\" >2491</td>\n",
       "      <td id=\"T_2a696_row19_col1\" class=\"data row19 col1\" >Appliance Cover</td>\n",
       "    </tr>\n",
       "    <tr>\n",
       "      <th id=\"T_2a696_level0_row20\" class=\"row_heading level0 row20\" >2631</th>\n",
       "      <td id=\"T_2a696_row20_col0\" class=\"data row20 col0\" >3585</td>\n",
       "      <td id=\"T_2a696_row20_col1\" class=\"data row20 col1\" >Tamarind</td>\n",
       "    </tr>\n",
       "    <tr>\n",
       "      <th id=\"T_2a696_level0_row21\" class=\"row_heading level0 row21\" >2778</th>\n",
       "      <td id=\"T_2a696_row21_col0\" class=\"data row21 col0\" >5845</td>\n",
       "      <td id=\"T_2a696_row21_col1\" class=\"data row21 col1\" >Digital Watches</td>\n",
       "    </tr>\n",
       "    <tr>\n",
       "      <th id=\"T_2a696_level0_row22\" class=\"row_heading level0 row22\" >3033</th>\n",
       "      <td id=\"T_2a696_row22_col0\" class=\"data row22 col0\" >2642</td>\n",
       "      <td id=\"T_2a696_row22_col1\" class=\"data row22 col1\" >Lunch Boxes & Water Bottles</td>\n",
       "    </tr>\n",
       "    <tr>\n",
       "      <th id=\"T_2a696_level0_row23\" class=\"row_heading level0 row23\" >3242</th>\n",
       "      <td id=\"T_2a696_row23_col0\" class=\"data row23 col0\" >5921</td>\n",
       "      <td id=\"T_2a696_row23_col1\" class=\"data row23 col1\" >Sweepers</td>\n",
       "    </tr>\n",
       "    <tr>\n",
       "      <th id=\"T_2a696_level0_row24\" class=\"row_heading level0 row24\" >3324</th>\n",
       "      <td id=\"T_2a696_row24_col0\" class=\"data row24 col0\" >3597</td>\n",
       "      <td id=\"T_2a696_row24_col1\" class=\"data row24 col1\" >Saffron</td>\n",
       "    </tr>\n",
       "    <tr>\n",
       "      <th id=\"T_2a696_level0_row25\" class=\"row_heading level0 row25\" >3367</th>\n",
       "      <td id=\"T_2a696_row25_col0\" class=\"data row25 col0\" >1192</td>\n",
       "      <td id=\"T_2a696_row25_col1\" class=\"data row25 col1\" >Bags & Backpacks</td>\n",
       "    </tr>\n",
       "    <tr>\n",
       "      <th id=\"T_2a696_level0_row26\" class=\"row_heading level0 row26\" >3538</th>\n",
       "      <td id=\"T_2a696_row26_col0\" class=\"data row26 col0\" >2355</td>\n",
       "      <td id=\"T_2a696_row26_col1\" class=\"data row26 col1\" >Bed Skirts</td>\n",
       "    </tr>\n",
       "    <tr>\n",
       "      <th id=\"T_2a696_level0_row27\" class=\"row_heading level0 row27\" >3555</th>\n",
       "      <td id=\"T_2a696_row27_col0\" class=\"data row27 col0\" >5919</td>\n",
       "      <td id=\"T_2a696_row27_col1\" class=\"data row27 col1\" >Kicthen Cleaner</td>\n",
       "    </tr>\n",
       "    <tr>\n",
       "      <th id=\"T_2a696_level0_row28\" class=\"row_heading level0 row28\" >3634</th>\n",
       "      <td id=\"T_2a696_row28_col0\" class=\"data row28 col0\" >2286</td>\n",
       "      <td id=\"T_2a696_row28_col1\" class=\"data row28 col1\" >Kitchen Fixtures</td>\n",
       "    </tr>\n",
       "    <tr>\n",
       "      <th id=\"T_2a696_level0_row29\" class=\"row_heading level0 row29\" >3659</th>\n",
       "      <td id=\"T_2a696_row29_col0\" class=\"data row29 col0\" >1197</td>\n",
       "      <td id=\"T_2a696_row29_col1\" class=\"data row29 col1\" >Watches</td>\n",
       "    </tr>\n",
       "    <tr>\n",
       "      <th id=\"T_2a696_level0_row30\" class=\"row_heading level0 row30\" >3799</th>\n",
       "      <td id=\"T_2a696_row30_col0\" class=\"data row30 col0\" >1213</td>\n",
       "      <td id=\"T_2a696_row30_col1\" class=\"data row30 col1\" >Shorts</td>\n",
       "    </tr>\n",
       "    <tr>\n",
       "      <th id=\"T_2a696_level0_row31\" class=\"row_heading level0 row31\" >3844</th>\n",
       "      <td id=\"T_2a696_row31_col0\" class=\"data row31 col0\" >2530</td>\n",
       "      <td id=\"T_2a696_row31_col1\" class=\"data row31 col1\" >Bedsheets</td>\n",
       "    </tr>\n",
       "    <tr>\n",
       "      <th id=\"T_2a696_level0_row32\" class=\"row_heading level0 row32\" >3942</th>\n",
       "      <td id=\"T_2a696_row32_col0\" class=\"data row32 col0\" >2424</td>\n",
       "      <td id=\"T_2a696_row32_col1\" class=\"data row32 col1\" >Place Mats</td>\n",
       "    </tr>\n",
       "  </tbody>\n",
       "</table>\n"
      ],
      "text/plain": [
       "<pandas.io.formats.style.Styler at 0x7a10fdffb550>"
      ]
     },
     "metadata": {},
     "output_type": "display_data"
    },
    {
     "output_type": "display_data",
     "data": {
      "text/html": [
       "<style type=\"text/css\">\n",
       "</style>\n",
       "<table id=\"T_5c62a\">\n",
       "  <caption>Actual SSCAT</caption>\n",
       "  <thead>\n",
       "    <tr>\n",
       "      <th class=\"blank level0\" >&nbsp;</th>\n",
       "      <th id=\"T_5c62a_level0_col0\" class=\"col_heading level0 col0\" >sscat_id</th>\n",
       "      <th id=\"T_5c62a_level0_col1\" class=\"col_heading level0 col1\" >sscat</th>\n",
       "    </tr>\n",
       "  </thead>\n",
       "  <tbody>\n",
       "    <tr>\n",
       "      <th id=\"T_5c62a_level0_row0\" class=\"row_heading level0 row0\" >1236</th>\n",
       "      <td id=\"T_5c62a_row0_col0\" class=\"data row0 col0\" >1186</td>\n",
       "      <td id=\"T_5c62a_row0_col1\" class=\"data row0 col1\" >Trackpants & Joggers</td>\n",
       "    </tr>\n",
       "  </tbody>\n",
       "</table>\n"
      ],
      "text/plain": [
       "<pandas.io.formats.style.Styler at 0x7a10fdf9bf40>"
      ]
     },
     "metadata": {},
     "output_type": "display_data"
    },
    {
     "output_type": "stream",
     "name": "stdout",
     "output_type": "stream",
     "text": [
      "4 170 174\ntorch.return_types.topk(\nvalues=tensor([[0.6055, 0.5803, 0.5434, 0.5347, 0.5053]], grad_fn=<TopkBackward0>),\nindices=tensor([[3088,  949,  736, 1683,  221]]))\n35 224 259\ntorch.return_types.topk(\nvalues=tensor([[0.6202, 0.5873, 0.5505, 0.5503, 0.5110]], grad_fn=<TopkBackward0>),\nindices=tensor([[3088,  949, 1683,  736,  221]]))\n3 223 226\ntorch.return_types.topk(\nvalues=tensor([[0.6003, 0.5784, 0.5427, 0.5312, 0.5034]], grad_fn=<TopkBackward0>),\nindices=tensor([[3088,  949,  736, 1683, 1468]]))\n14 347 361\ntorch.return_types.topk(\nvalues=tensor([[0.6352, 0.5930, 0.5671, 0.5575, 0.5161]], grad_fn=<TopkBackward0>),\nindices=tensor([[3088,  949, 1683,  736,  221]]))\n41 133 174\ntorch.return_types.topk(\nvalues=tensor([[0.5970, 0.5760, 0.5388, 0.5274, 0.5035]], grad_fn=<TopkBackward0>),\nindices=tensor([[3088,  949,  736, 1683, 1468]]))\n14 178 192\ntorch.return_types.topk(\nvalues=tensor([[0.6076, 0.5814, 0.5441, 0.5360, 0.5058]], grad_fn=<TopkBackward0>),\nindices=tensor([[3088,  949,  736, 1683,  221]]))\n8 140 148\ntorch.return_types.topk(\nvalues=tensor([[0.5841, 0.5680, 0.5339, 0.5154, 0.5000]], grad_fn=<TopkBackward0>),\nindices=tensor([[3088,  949,  736, 1683, 1799]]))\n17 169 186\ntorch.return_types.topk(\nvalues=tensor([[0.6120, 0.5839, 0.5464, 0.5418, 0.5083]], grad_fn=<TopkBackward0>),\nindices=tensor([[3088,  949,  736, 1683,  221]]))\n4 30 34\ntorch.return_types.topk(\nvalues=tensor([[0.5453, 0.5444, 0.5081, 0.4913, 0.4886]], grad_fn=<TopkBackward0>),\nindices=tensor([[3088,  949,  736, 1799, 1468]]))\n"
     ]
    },
    {
     "output_type": "display_data",
     "data": {
      "text/html": [
       "<style type=\"text/css\">\n",
       "</style>\n",
       "<table id=\"T_024f7\">\n",
       "  <caption>Predicted SSCAT</caption>\n",
       "  <thead>\n",
       "    <tr>\n",
       "      <th class=\"blank level0\" >&nbsp;</th>\n",
       "      <th id=\"T_024f7_level0_col0\" class=\"col_heading level0 col0\" >sscat_id</th>\n",
       "      <th id=\"T_024f7_level0_col1\" class=\"col_heading level0 col1\" >sscat</th>\n",
       "    </tr>\n",
       "  </thead>\n",
       "  <tbody>\n",
       "    <tr>\n",
       "      <th id=\"T_024f7_level0_row0\" class=\"row_heading level0 row0\" >506</th>\n",
       "      <td id=\"T_024f7_row0_col0\" class=\"data row0 col0\" >1020</td>\n",
       "      <td id=\"T_024f7_row0_col1\" class=\"data row0 col1\" >Tops & Tunics</td>\n",
       "    </tr>\n",
       "    <tr>\n",
       "      <th id=\"T_024f7_level0_row1\" class=\"row_heading level0 row1\" >736</th>\n",
       "      <td id=\"T_024f7_row1_col0\" class=\"data row1 col0\" >1001</td>\n",
       "      <td id=\"T_024f7_row1_col1\" class=\"data row1 col1\" >Kurtis & Kurtas</td>\n",
       "    </tr>\n",
       "    <tr>\n",
       "      <th id=\"T_024f7_level0_row2\" class=\"row_heading level0 row2\" >2365</th>\n",
       "      <td id=\"T_024f7_row2_col0\" class=\"data row2 col0\" >1003</td>\n",
       "      <td id=\"T_024f7_row2_col1\" class=\"data row2 col1\" >Kurta Sets</td>\n",
       "    </tr>\n",
       "    <tr>\n",
       "      <th id=\"T_024f7_level0_row3\" class=\"row_heading level0 row3\" >3116</th>\n",
       "      <td id=\"T_024f7_row3_col0\" class=\"data row3 col0\" >1004</td>\n",
       "      <td id=\"T_024f7_row3_col1\" class=\"data row3 col1\" >Sarees</td>\n",
       "    </tr>\n",
       "    <tr>\n",
       "      <th id=\"T_024f7_level0_row4\" class=\"row_heading level0 row4\" >3166</th>\n",
       "      <td id=\"T_024f7_row4_col0\" class=\"data row4 col0\" >1853</td>\n",
       "      <td id=\"T_024f7_row4_col1\" class=\"data row4 col1\" >Dupatta Sets</td>\n",
       "    </tr>\n",
       "  </tbody>\n",
       "</table>\n"
      ],
      "text/plain": [
       "<pandas.io.formats.style.Styler at 0x7a10fe4b08b0>"
      ]
     },
     "metadata": {},
     "output_type": "display_data"
    },
    {
     "output_type": "display_data",
     "data": {
      "text/plain": [
       "'----------'"
      ]
     },
     "metadata": {},
     "output_type": "display_data"
    },
    {
     "output_type": "display_data",
     "data": {
      "text/html": [
       "<style type=\"text/css\">\n",
       "</style>\n",
       "<table id=\"T_0748c\">\n",
       "  <caption>input SSCAT</caption>\n",
       "  <thead>\n",
       "    <tr>\n",
       "      <th class=\"blank level0\" >&nbsp;</th>\n",
       "      <th id=\"T_0748c_level0_col0\" class=\"col_heading level0 col0\" >sscat_id</th>\n",
       "      <th id=\"T_0748c_level0_col1\" class=\"col_heading level0 col1\" >sscat</th>\n",
       "    </tr>\n",
       "  </thead>\n",
       "  <tbody>\n",
       "    <tr>\n",
       "      <th id=\"T_0748c_level0_row0\" class=\"row_heading level0 row0\" >912</th>\n",
       "      <td id=\"T_0748c_row0_col0\" class=\"data row0 col0\" >2729</td>\n",
       "      <td id=\"T_0748c_row0_col1\" class=\"data row0 col1\" >Other Appliance Covers</td>\n",
       "    </tr>\n",
       "    <tr>\n",
       "      <th id=\"T_0748c_level0_row1\" class=\"row_heading level0 row1\" >1423</th>\n",
       "      <td id=\"T_0748c_row1_col0\" class=\"data row1 col0\" >2904</td>\n",
       "      <td id=\"T_0748c_row1_col1\" class=\"data row1 col1\" >Hooks & Hangers</td>\n",
       "    </tr>\n",
       "    <tr>\n",
       "      <th id=\"T_0748c_level0_row2\" class=\"row_heading level0 row2\" >1551</th>\n",
       "      <td id=\"T_0748c_row2_col0\" class=\"data row2 col0\" >5091</td>\n",
       "      <td id=\"T_0748c_row2_col1\" class=\"data row2 col1\" >Waist Bags</td>\n",
       "    </tr>\n",
       "    <tr>\n",
       "      <th id=\"T_0748c_level0_row3\" class=\"row_heading level0 row3\" >2164</th>\n",
       "      <td id=\"T_0748c_row3_col0\" class=\"data row3 col0\" >2536</td>\n",
       "      <td id=\"T_0748c_row3_col1\" class=\"data row3 col1\" >Clocks</td>\n",
       "    </tr>\n",
       "    <tr>\n",
       "      <th id=\"T_0748c_level0_row4\" class=\"row_heading level0 row4\" >2319</th>\n",
       "      <td id=\"T_0748c_row4_col0\" class=\"data row4 col0\" >4008</td>\n",
       "      <td id=\"T_0748c_row4_col1\" class=\"data row4 col1\" >Duct Tape</td>\n",
       "    </tr>\n",
       "    <tr>\n",
       "      <th id=\"T_0748c_level0_row5\" class=\"row_heading level0 row5\" >2366</th>\n",
       "      <td id=\"T_0748c_row5_col0\" class=\"data row5 col0\" >2296</td>\n",
       "      <td id=\"T_0748c_row5_col1\" class=\"data row5 col1\" >Kitchen Tools</td>\n",
       "    </tr>\n",
       "    <tr>\n",
       "      <th id=\"T_0748c_level0_row6\" class=\"row_heading level0 row6\" >3240</th>\n",
       "      <td id=\"T_0748c_row6_col0\" class=\"data row6 col0\" >2346</td>\n",
       "      <td id=\"T_0748c_row6_col1\" class=\"data row6 col1\" >Artificial Plant, Flower and Shrubs</td>\n",
       "    </tr>\n",
       "    <tr>\n",
       "      <th id=\"T_0748c_level0_row7\" class=\"row_heading level0 row7\" >3297</th>\n",
       "      <td id=\"T_0748c_row7_col0\" class=\"data row7 col0\" >2128</td>\n",
       "      <td id=\"T_0748c_row7_col1\" class=\"data row7 col1\" >Caps</td>\n",
       "    </tr>\n",
       "    <tr>\n",
       "      <th id=\"T_0748c_level0_row8\" class=\"row_heading level0 row8\" >3354</th>\n",
       "      <td id=\"T_0748c_row8_col0\" class=\"data row8 col0\" >2300</td>\n",
       "      <td id=\"T_0748c_row8_col1\" class=\"data row8 col1\" >Glassware & Drinkware</td>\n",
       "    </tr>\n",
       "    <tr>\n",
       "      <th id=\"T_0748c_level0_row9\" class=\"row_heading level0 row9\" >3779</th>\n",
       "      <td id=\"T_0748c_row9_col0\" class=\"data row9 col0\" >1603</td>\n",
       "      <td id=\"T_0748c_row9_col1\" class=\"data row9 col1\" >Glassware & Drinkware</td>\n",
       "    </tr>\n",
       "    <tr>\n",
       "      <th id=\"T_0748c_level0_row10\" class=\"row_heading level0 row10\" >3816</th>\n",
       "      <td id=\"T_0748c_row10_col0\" class=\"data row10 col0\" >5086</td>\n",
       "      <td id=\"T_0748c_row10_col1\" class=\"data row10 col1\" >Duffel Bags</td>\n",
       "    </tr>\n",
       "  </tbody>\n",
       "</table>\n"
      ],
      "text/plain": [
       "<pandas.io.formats.style.Styler at 0x7a10fe4b0b50>"
      ]
     },
     "metadata": {},
     "output_type": "display_data"
    },
    {
     "output_type": "display_data",
     "data": {
      "text/html": [
       "<style type=\"text/css\">\n",
       "</style>\n",
       "<table id=\"T_70721\">\n",
       "  <caption>Actual SSCAT</caption>\n",
       "  <thead>\n",
       "    <tr>\n",
       "      <th class=\"blank level0\" >&nbsp;</th>\n",
       "      <th id=\"T_70721_level0_col0\" class=\"col_heading level0 col0\" >sscat_id</th>\n",
       "      <th id=\"T_70721_level0_col1\" class=\"col_heading level0 col1\" >sscat</th>\n",
       "    </tr>\n",
       "  </thead>\n",
       "  <tbody>\n",
       "    <tr>\n",
       "      <th id=\"T_70721_level0_row0\" class=\"row_heading level0 row0\" >3598</th>\n",
       "      <td id=\"T_70721_row0_col0\" class=\"data row0 col0\" >4391</td>\n",
       "      <td id=\"T_70721_row0_col1\" class=\"data row0 col1\" >Blankets</td>\n",
       "    </tr>\n",
       "  </tbody>\n",
       "</table>\n"
      ],
      "text/plain": [
       "<pandas.io.formats.style.Styler at 0x7a10fe4b0b20>"
      ]
     },
     "metadata": {},
     "output_type": "display_data"
    },
    {
     "output_type": "stream",
     "name": "stdout",
     "output_type": "stream",
     "text": [
      "8 313 321\ntorch.return_types.topk(\nvalues=tensor([[0.6347, 0.5940, 0.5645, 0.5576, 0.5168]], grad_fn=<TopkBackward0>),\nindices=tensor([[3088,  949, 1683,  736,  221]]))\n4 46 50\ntorch.return_types.topk(\nvalues=tensor([[0.5473, 0.5456, 0.5123, 0.4933, 0.4900]], grad_fn=<TopkBackward0>),\nindices=tensor([[3088,  949,  736, 1799, 1468]]))\n22 277 299\ntorch.return_types.topk(\nvalues=tensor([[0.6307, 0.5913, 0.5610, 0.5562, 0.5147]], grad_fn=<TopkBackward0>),\nindices=tensor([[3088,  949, 1683,  736,  221]]))\n23 107 130\ntorch.return_types.topk(\nvalues=tensor([[0.5922, 0.5722, 0.5365, 0.5216, 0.5011]], grad_fn=<TopkBackward0>),\nindices=tensor([[3088,  949,  736, 1683, 1468]]))\n2 264 266\ntorch.return_types.topk(\nvalues=tensor([[0.6243, 0.5892, 0.5545, 0.5524, 0.5129]], grad_fn=<TopkBackward0>),\nindices=tensor([[3088,  949, 1683,  736,  221]]))\n1 153 154\ntorch.return_types.topk(\nvalues=tensor([[0.5899, 0.5715, 0.5371, 0.5214, 0.5012]], grad_fn=<TopkBackward0>),\nindices=tensor([[3088,  949,  736, 1683, 1468]]))\n1 190 191\ntorch.return_types.topk(\nvalues=tensor([[0.5939, 0.5740, 0.5391, 0.5262, 0.5031]], grad_fn=<TopkBackward0>),\nindices=tensor([[3088,  949,  736, 1683, 1468]]))\n7 752 759\ntorch.return_types.topk(\nvalues=tensor([[0.6542, 0.5996, 0.5851, 0.5660, 0.5210]], grad_fn=<TopkBackward0>),\nindices=tensor([[3088,  949, 1683,  736,  221]]))\n15 422 437\ntorch.return_types.topk(\nvalues=tensor([[0.6398, 0.5947, 0.5717, 0.5593, 0.5170]], grad_fn=<TopkBackward0>),\nindices=tensor([[3088,  949, 1683,  736,  221]]))\n16 73 89\ntorch.return_types.topk(\nvalues=tensor([[0.5658, 0.5571, 0.5233, 0.4969, 0.4962]], grad_fn=<TopkBackward0>),\nindices=tensor([[3088,  949,  736, 1799, 1683]]))\n19 98 117\ntorch.return_types.topk(\nvalues=tensor([[0.5816, 0.5669, 0.5307, 0.5112, 0.4987]], grad_fn=<TopkBackward0>),\nindices=tensor([[3088,  949,  736, 1683, 1468]]))\n18 107 125\ntorch.return_types.topk(\nvalues=tensor([[0.5883, 0.5717, 0.5334, 0.5161, 0.4996]], grad_fn=<TopkBackward0>),\nindices=tensor([[3088,  949,  736, 1683, 1468]]))\n13 149 162\ntorch.return_types.topk(\nvalues=tensor([[0.6086, 0.5820, 0.5449, 0.5389, 0.5071]], grad_fn=<TopkBackward0>),\nindices=tensor([[3088,  949,  736, 1683,  221]]))\n2 430 432\ntorch.return_types.topk(\nvalues=tensor([[0.6372, 0.5938, 0.5681, 0.5586, 0.5170]], grad_fn=<TopkBackward0>),\nindices=tensor([[3088,  949, 1683,  736,  221]]))\n5 347 352\ntorch.return_types.topk(\nvalues=tensor([[0.6329, 0.5923, 0.5637, 0.5570, 0.5162]], grad_fn=<TopkBackward0>),\nindices=tensor([[3088,  949, 1683,  736,  221]]))\n20 99 119\ntorch.return_types.topk(\nvalues=tensor([[0.5826, 0.5676, 0.5310, 0.5107, 0.4980]], grad_fn=<TopkBackward0>),\nindices=tensor([[3088,  949,  736, 1683, 1799]]))\n12 538 550\ntorch.return_types.topk(\nvalues=tensor([[0.6429, 0.5949, 0.5746, 0.5612, 0.5174]], grad_fn=<TopkBackward0>),\nindices=tensor([[3088,  949, 1683,  736,  221]]))\n10 145 155\ntorch.return_types.topk(\nvalues=tensor([[0.6010, 0.5782, 0.5412, 0.5305, 0.5037]], grad_fn=<TopkBackward0>),\nindices=tensor([[3088,  949,  736, 1683, 1468]]))\n38 105 143\ntorch.return_types.topk(\nvalues=tensor([[0.5797, 0.5659, 0.5298, 0.5089, 0.4985]], grad_fn=<TopkBackward0>),\nindices=tensor([[3088,  949,  736, 1683, 1799]]))\n7 122 129\ntorch.return_types.topk(\nvalues=tensor([[0.5882, 0.5713, 0.5342, 0.5169, 0.4998]], grad_fn=<TopkBackward0>),\nindices=tensor([[3088,  949,  736, 1683, 1468]]))\n25 153 178\ntorch.return_types.topk(\nvalues=tensor([[0.5911, 0.5716, 0.5372, 0.5221, 0.5008]], grad_fn=<TopkBackward0>),\nindices=tensor([[3088,  949,  736, 1683, 1468]]))\n2 102 104\ntorch.return_types.topk(\nvalues=tensor([[0.5729, 0.5611, 0.5277, 0.5044, 0.4988]], grad_fn=<TopkBackward0>),\nindices=tensor([[3088,  949,  736, 1683, 1799]]))\n23 125 148\ntorch.return_types.topk(\nvalues=tensor([[0.5616, 0.5557, 0.5186, 0.4956, 0.4934]], grad_fn=<TopkBackward0>),\nindices=tensor([[3088,  949,  736, 1799, 1468]]))\n1 103 104\ntorch.return_types.topk(\nvalues=tensor([[0.5852, 0.5690, 0.5332, 0.5156, 0.5003]], grad_fn=<TopkBackward0>),\nindices=tensor([[3088,  949,  736, 1683, 1468]]))\n"
     ]
    },
    {
     "output_type": "display_data",
     "data": {
      "text/html": [
       "<style type=\"text/css\">\n",
       "</style>\n",
       "<table id=\"T_9d733\">\n",
       "  <caption>Predicted SSCAT</caption>\n",
       "  <thead>\n",
       "    <tr>\n",
       "      <th class=\"blank level0\" >&nbsp;</th>\n",
       "      <th id=\"T_9d733_level0_col0\" class=\"col_heading level0 col0\" >sscat_id</th>\n",
       "      <th id=\"T_9d733_level0_col1\" class=\"col_heading level0 col1\" >sscat</th>\n",
       "    </tr>\n",
       "  </thead>\n",
       "  <tbody>\n",
       "    <tr>\n",
       "      <th id=\"T_9d733_level0_row0\" class=\"row_heading level0 row0\" >506</th>\n",
       "      <td id=\"T_9d733_row0_col0\" class=\"data row0 col0\" >1020</td>\n",
       "      <td id=\"T_9d733_row0_col1\" class=\"data row0 col1\" >Tops & Tunics</td>\n",
       "    </tr>\n",
       "    <tr>\n",
       "      <th id=\"T_9d733_level0_row1\" class=\"row_heading level0 row1\" >736</th>\n",
       "      <td id=\"T_9d733_row1_col0\" class=\"data row1 col0\" >1001</td>\n",
       "      <td id=\"T_9d733_row1_col1\" class=\"data row1 col1\" >Kurtis & Kurtas</td>\n",
       "    </tr>\n",
       "    <tr>\n",
       "      <th id=\"T_9d733_level0_row2\" class=\"row_heading level0 row2\" >2365</th>\n",
       "      <td id=\"T_9d733_row2_col0\" class=\"data row2 col0\" >1003</td>\n",
       "      <td id=\"T_9d733_row2_col1\" class=\"data row2 col1\" >Kurta Sets</td>\n",
       "    </tr>\n",
       "    <tr>\n",
       "      <th id=\"T_9d733_level0_row3\" class=\"row_heading level0 row3\" >3116</th>\n",
       "      <td id=\"T_9d733_row3_col0\" class=\"data row3 col0\" >1004</td>\n",
       "      <td id=\"T_9d733_row3_col1\" class=\"data row3 col1\" >Sarees</td>\n",
       "    </tr>\n",
       "    <tr>\n",
       "      <th id=\"T_9d733_level0_row4\" class=\"row_heading level0 row4\" >3166</th>\n",
       "      <td id=\"T_9d733_row4_col0\" class=\"data row4 col0\" >1853</td>\n",
       "      <td id=\"T_9d733_row4_col1\" class=\"data row4 col1\" >Dupatta Sets</td>\n",
       "    </tr>\n",
       "  </tbody>\n",
       "</table>\n"
      ],
      "text/plain": [
       "<pandas.io.formats.style.Styler at 0x7a10fe4b1960>"
      ]
     },
     "metadata": {},
     "output_type": "display_data"
    },
    {
     "output_type": "display_data",
     "data": {
      "text/plain": [
       "'----------'"
      ]
     },
     "metadata": {},
     "output_type": "display_data"
    },
    {
     "output_type": "display_data",
     "data": {
      "text/html": [
       "<style type=\"text/css\">\n",
       "</style>\n",
       "<table id=\"T_1ae4c\">\n",
       "  <caption>input SSCAT</caption>\n",
       "  <thead>\n",
       "    <tr>\n",
       "      <th class=\"blank level0\" >&nbsp;</th>\n",
       "      <th id=\"T_1ae4c_level0_col0\" class=\"col_heading level0 col0\" >sscat_id</th>\n",
       "      <th id=\"T_1ae4c_level0_col1\" class=\"col_heading level0 col1\" >sscat</th>\n",
       "    </tr>\n",
       "  </thead>\n",
       "  <tbody>\n",
       "    <tr>\n",
       "      <th id=\"T_1ae4c_level0_row0\" class=\"row_heading level0 row0\" >9</th>\n",
       "      <td id=\"T_1ae4c_row0_col0\" class=\"data row0 col0\" >2566</td>\n",
       "      <td id=\"T_1ae4c_row0_col1\" class=\"data row0 col1\" >Girls Unstitched Fabrics</td>\n",
       "    </tr>\n",
       "    <tr>\n",
       "      <th id=\"T_1ae4c_level0_row1\" class=\"row_heading level0 row1\" >74</th>\n",
       "      <td id=\"T_1ae4c_row1_col0\" class=\"data row1 col0\" >4022</td>\n",
       "      <td id=\"T_1ae4c_row1_col1\" class=\"data row1 col1\" >Embroidery Threads</td>\n",
       "    </tr>\n",
       "    <tr>\n",
       "      <th id=\"T_1ae4c_level0_row2\" class=\"row_heading level0 row2\" >151</th>\n",
       "      <td id=\"T_1ae4c_row2_col0\" class=\"data row2 col0\" >5774</td>\n",
       "      <td id=\"T_1ae4c_row2_col1\" class=\"data row2 col1\" >Water Filters & Purifiers</td>\n",
       "    </tr>\n",
       "    <tr>\n",
       "      <th id=\"T_1ae4c_level0_row3\" class=\"row_heading level0 row3\" >243</th>\n",
       "      <td id=\"T_1ae4c_row3_col0\" class=\"data row3 col0\" >2223</td>\n",
       "      <td id=\"T_1ae4c_row3_col1\" class=\"data row3 col1\" >Art & Craft Supplies</td>\n",
       "    </tr>\n",
       "    <tr>\n",
       "      <th id=\"T_1ae4c_level0_row4\" class=\"row_heading level0 row4\" >737</th>\n",
       "      <td id=\"T_1ae4c_row4_col0\" class=\"data row4 col0\" >1034</td>\n",
       "      <td id=\"T_1ae4c_row4_col1\" class=\"data row4 col1\" >Trousers & Pants</td>\n",
       "    </tr>\n",
       "    <tr>\n",
       "      <th id=\"T_1ae4c_level0_row5\" class=\"row_heading level0 row5\" >1107</th>\n",
       "      <td id=\"T_1ae4c_row5_col0\" class=\"data row5 col0\" >1391</td>\n",
       "      <td id=\"T_1ae4c_row5_col1\" class=\"data row5 col1\" >Blouse Piece</td>\n",
       "    </tr>\n",
       "    <tr>\n",
       "      <th id=\"T_1ae4c_level0_row6\" class=\"row_heading level0 row6\" >1120</th>\n",
       "      <td id=\"T_1ae4c_row6_col0\" class=\"data row6 col0\" >5890</td>\n",
       "      <td id=\"T_1ae4c_row6_col1\" class=\"data row6 col1\" >Wedges</td>\n",
       "    </tr>\n",
       "    <tr>\n",
       "      <th id=\"T_1ae4c_level0_row7\" class=\"row_heading level0 row7\" >1134</th>\n",
       "      <td id=\"T_1ae4c_row7_col0\" class=\"data row7 col0\" >1039</td>\n",
       "      <td id=\"T_1ae4c_row7_col1\" class=\"data row7 col1\" >Palazzos</td>\n",
       "    </tr>\n",
       "    <tr>\n",
       "      <th id=\"T_1ae4c_level0_row8\" class=\"row_heading level0 row8\" >1159</th>\n",
       "      <td id=\"T_1ae4c_row8_col0\" class=\"data row8 col0\" >3103</td>\n",
       "      <td id=\"T_1ae4c_row8_col1\" class=\"data row8 col1\" >Fabric</td>\n",
       "    </tr>\n",
       "    <tr>\n",
       "      <th id=\"T_1ae4c_level0_row9\" class=\"row_heading level0 row9\" >1282</th>\n",
       "      <td id=\"T_1ae4c_row9_col0\" class=\"data row9 col0\" >4415</td>\n",
       "      <td id=\"T_1ae4c_row9_col1\" class=\"data row9 col1\" >Sewing & Embroidery</td>\n",
       "    </tr>\n",
       "    <tr>\n",
       "      <th id=\"T_1ae4c_level0_row10\" class=\"row_heading level0 row10\" >1296</th>\n",
       "      <td id=\"T_1ae4c_row10_col0\" class=\"data row10 col0\" >1068</td>\n",
       "      <td id=\"T_1ae4c_row10_col1\" class=\"data row10 col1\" >Bellies & Ballerinas</td>\n",
       "    </tr>\n",
       "    <tr>\n",
       "      <th id=\"T_1ae4c_level0_row11\" class=\"row_heading level0 row11\" >1321</th>\n",
       "      <td id=\"T_1ae4c_row11_col0\" class=\"data row11 col0\" >1006</td>\n",
       "      <td id=\"T_1ae4c_row11_col1\" class=\"data row11 col1\" >Dupattas</td>\n",
       "    </tr>\n",
       "    <tr>\n",
       "      <th id=\"T_1ae4c_level0_row12\" class=\"row_heading level0 row12\" >1422</th>\n",
       "      <td id=\"T_1ae4c_row12_col0\" class=\"data row12 col0\" >2661</td>\n",
       "      <td id=\"T_1ae4c_row12_col1\" class=\"data row12 col1\" >Hijab Pin</td>\n",
       "    </tr>\n",
       "    <tr>\n",
       "      <th id=\"T_1ae4c_level0_row13\" class=\"row_heading level0 row13\" >1456</th>\n",
       "      <td id=\"T_1ae4c_row13_col0\" class=\"data row13 col0\" >4044</td>\n",
       "      <td id=\"T_1ae4c_row13_col1\" class=\"data row13 col1\" >Sewing Ribbons</td>\n",
       "    </tr>\n",
       "    <tr>\n",
       "      <th id=\"T_1ae4c_level0_row14\" class=\"row_heading level0 row14\" >1688</th>\n",
       "      <td id=\"T_1ae4c_row14_col0\" class=\"data row14 col0\" >1050</td>\n",
       "      <td id=\"T_1ae4c_row14_col1\" class=\"data row14 col1\" >Shapewear</td>\n",
       "    </tr>\n",
       "    <tr>\n",
       "      <th id=\"T_1ae4c_level0_row15\" class=\"row_heading level0 row15\" >1718</th>\n",
       "      <td id=\"T_1ae4c_row15_col0\" class=\"data row15 col0\" >3025</td>\n",
       "      <td id=\"T_1ae4c_row15_col1\" class=\"data row15 col1\" >Drawing Pencils</td>\n",
       "    </tr>\n",
       "    <tr>\n",
       "      <th id=\"T_1ae4c_level0_row16\" class=\"row_heading level0 row16\" >2192</th>\n",
       "      <td id=\"T_1ae4c_row16_col0\" class=\"data row16 col0\" >1070</td>\n",
       "      <td id=\"T_1ae4c_row16_col1\" class=\"data row16 col1\" >Flipflops & Slippers</td>\n",
       "    </tr>\n",
       "    <tr>\n",
       "      <th id=\"T_1ae4c_level0_row17\" class=\"row_heading level0 row17\" >2295</th>\n",
       "      <td id=\"T_1ae4c_row17_col0\" class=\"data row17 col0\" >2948</td>\n",
       "      <td id=\"T_1ae4c_row17_col1\" class=\"data row17 col1\" >Cable Ties, Tags & Threads</td>\n",
       "    </tr>\n",
       "    <tr>\n",
       "      <th id=\"T_1ae4c_level0_row18\" class=\"row_heading level0 row18\" >2369</th>\n",
       "      <td id=\"T_1ae4c_row18_col0\" class=\"data row18 col0\" >5489</td>\n",
       "      <td id=\"T_1ae4c_row18_col1\" class=\"data row18 col1\" >Hair Straighteners</td>\n",
       "    </tr>\n",
       "    <tr>\n",
       "      <th id=\"T_1ae4c_level0_row19\" class=\"row_heading level0 row19\" >2516</th>\n",
       "      <td id=\"T_1ae4c_row19_col0\" class=\"data row19 col0\" >4047</td>\n",
       "      <td id=\"T_1ae4c_row19_col1\" class=\"data row19 col1\" >Sewing Seam Rippers</td>\n",
       "    </tr>\n",
       "    <tr>\n",
       "      <th id=\"T_1ae4c_level0_row20\" class=\"row_heading level0 row20\" >2633</th>\n",
       "      <td id=\"T_1ae4c_row20_col0\" class=\"data row20 col0\" >3097</td>\n",
       "      <td id=\"T_1ae4c_row20_col1\" class=\"data row20 col1\" >Tapestries</td>\n",
       "    </tr>\n",
       "    <tr>\n",
       "      <th id=\"T_1ae4c_level0_row21\" class=\"row_heading level0 row21\" >3022</th>\n",
       "      <td id=\"T_1ae4c_row21_col0\" class=\"data row21 col0\" >2061</td>\n",
       "      <td id=\"T_1ae4c_row21_col1\" class=\"data row21 col1\" >Other Small Appliances</td>\n",
       "    </tr>\n",
       "    <tr>\n",
       "      <th id=\"T_1ae4c_level0_row22\" class=\"row_heading level0 row22\" >3361</th>\n",
       "      <td id=\"T_1ae4c_row22_col0\" class=\"data row22 col0\" >2935</td>\n",
       "      <td id=\"T_1ae4c_row22_col1\" class=\"data row22 col1\" >Craft/Paper Scissors</td>\n",
       "    </tr>\n",
       "    <tr>\n",
       "      <th id=\"T_1ae4c_level0_row23\" class=\"row_heading level0 row23\" >3936</th>\n",
       "      <td id=\"T_1ae4c_row23_col0\" class=\"data row23 col0\" >1092</td>\n",
       "      <td id=\"T_1ae4c_row23_col1\" class=\"data row23 col1\" >Necklaces & Chains</td>\n",
       "    </tr>\n",
       "    <tr>\n",
       "      <th id=\"T_1ae4c_level0_row24\" class=\"row_heading level0 row24\" >3940</th>\n",
       "      <td id=\"T_1ae4c_row24_col0\" class=\"data row24 col0\" >1326</td>\n",
       "      <td id=\"T_1ae4c_row24_col1\" class=\"data row24 col1\" >Kurti Fabric</td>\n",
       "    </tr>\n",
       "  </tbody>\n",
       "</table>\n"
      ],
      "text/plain": [
       "<pandas.io.formats.style.Styler at 0x7a10fe4b0760>"
      ]
     },
     "metadata": {},
     "output_type": "display_data"
    },
    {
     "output_type": "display_data",
     "data": {
      "text/html": [
       "<style type=\"text/css\">\n",
       "</style>\n",
       "<table id=\"T_09e82\">\n",
       "  <caption>Actual SSCAT</caption>\n",
       "  <thead>\n",
       "    <tr>\n",
       "      <th class=\"blank level0\" >&nbsp;</th>\n",
       "      <th id=\"T_09e82_level0_col0\" class=\"col_heading level0 col0\" >sscat_id</th>\n",
       "      <th id=\"T_09e82_level0_col1\" class=\"col_heading level0 col1\" >sscat</th>\n",
       "    </tr>\n",
       "  </thead>\n",
       "  <tbody>\n",
       "    <tr>\n",
       "      <th id=\"T_09e82_level0_row0\" class=\"row_heading level0 row0\" >3940</th>\n",
       "      <td id=\"T_09e82_row0_col0\" class=\"data row0 col0\" >1326</td>\n",
       "      <td id=\"T_09e82_row0_col1\" class=\"data row0 col1\" >Kurti Fabric</td>\n",
       "    </tr>\n",
       "  </tbody>\n",
       "</table>\n"
      ],
      "text/plain": [
       "<pandas.io.formats.style.Styler at 0x7a10fe4b0dc0>"
      ]
     },
     "metadata": {},
     "output_type": "display_data"
    },
    {
     "output_type": "stream",
     "name": "stdout",
     "output_type": "stream",
     "text": [
      "1 153 154\ntorch.return_types.topk(\nvalues=tensor([[0.5947, 0.5745, 0.5395, 0.5260, 0.5030]], grad_fn=<TopkBackward0>),\nindices=tensor([[3088,  949,  736, 1683, 1468]]))\n8 596 604\ntorch.return_types.topk(\nvalues=tensor([[0.6471, 0.5982, 0.5764, 0.5630, 0.5205]], grad_fn=<TopkBackward0>),\nindices=tensor([[3088,  949, 1683,  736,  221]]))\n2 70 72\ntorch.return_types.topk(\nvalues=tensor([[0.5671, 0.5592, 0.5241, 0.4987, 0.4978]], grad_fn=<TopkBackward0>),\nindices=tensor([[3088,  949,  736, 1799, 1683]]))\n8 190 198\ntorch.return_types.topk(\nvalues=tensor([[0.5847, 0.5668, 0.5345, 0.5168, 0.4996]], grad_fn=<TopkBackward0>),\nindices=tensor([[3088,  949,  736, 1683, 1468]]))\n1 51 52\ntorch.return_types.topk(\nvalues=tensor([[0.5414, 0.5412, 0.5058, 0.4902, 0.4871]], grad_fn=<TopkBackward0>),\nindices=tensor([[ 949, 3088,  736, 1799, 1468]]))\n"
     ]
    },
    {
     "output_type": "display_data",
     "data": {
      "text/html": [
       "<style type=\"text/css\">\n",
       "</style>\n",
       "<table id=\"T_c2969\">\n",
       "  <caption>Predicted SSCAT</caption>\n",
       "  <thead>\n",
       "    <tr>\n",
       "      <th class=\"blank level0\" >&nbsp;</th>\n",
       "      <th id=\"T_c2969_level0_col0\" class=\"col_heading level0 col0\" >sscat_id</th>\n",
       "      <th id=\"T_c2969_level0_col1\" class=\"col_heading level0 col1\" >sscat</th>\n",
       "    </tr>\n",
       "  </thead>\n",
       "  <tbody>\n",
       "    <tr>\n",
       "      <th id=\"T_c2969_level0_row0\" class=\"row_heading level0 row0\" >506</th>\n",
       "      <td id=\"T_c2969_row0_col0\" class=\"data row0 col0\" >1020</td>\n",
       "      <td id=\"T_c2969_row0_col1\" class=\"data row0 col1\" >Tops & Tunics</td>\n",
       "    </tr>\n",
       "    <tr>\n",
       "      <th id=\"T_c2969_level0_row1\" class=\"row_heading level0 row1\" >736</th>\n",
       "      <td id=\"T_c2969_row1_col0\" class=\"data row1 col0\" >1001</td>\n",
       "      <td id=\"T_c2969_row1_col1\" class=\"data row1 col1\" >Kurtis & Kurtas</td>\n",
       "    </tr>\n",
       "    <tr>\n",
       "      <th id=\"T_c2969_level0_row2\" class=\"row_heading level0 row2\" >2365</th>\n",
       "      <td id=\"T_c2969_row2_col0\" class=\"data row2 col0\" >1003</td>\n",
       "      <td id=\"T_c2969_row2_col1\" class=\"data row2 col1\" >Kurta Sets</td>\n",
       "    </tr>\n",
       "    <tr>\n",
       "      <th id=\"T_c2969_level0_row3\" class=\"row_heading level0 row3\" >3116</th>\n",
       "      <td id=\"T_c2969_row3_col0\" class=\"data row3 col0\" >1004</td>\n",
       "      <td id=\"T_c2969_row3_col1\" class=\"data row3 col1\" >Sarees</td>\n",
       "    </tr>\n",
       "    <tr>\n",
       "      <th id=\"T_c2969_level0_row4\" class=\"row_heading level0 row4\" >3166</th>\n",
       "      <td id=\"T_c2969_row4_col0\" class=\"data row4 col0\" >1853</td>\n",
       "      <td id=\"T_c2969_row4_col1\" class=\"data row4 col1\" >Dupatta Sets</td>\n",
       "    </tr>\n",
       "  </tbody>\n",
       "</table>\n"
      ],
      "text/plain": [
       "<pandas.io.formats.style.Styler at 0x7a10fe4b1b70>"
      ]
     },
     "metadata": {},
     "output_type": "display_data"
    },
    {
     "output_type": "display_data",
     "data": {
      "text/plain": [
       "'----------'"
      ]
     },
     "metadata": {},
     "output_type": "display_data"
    },
    {
     "output_type": "display_data",
     "data": {
      "text/html": [
       "<style type=\"text/css\">\n",
       "</style>\n",
       "<table id=\"T_cae83\">\n",
       "  <caption>input SSCAT</caption>\n",
       "  <thead>\n",
       "    <tr>\n",
       "      <th class=\"blank level0\" >&nbsp;</th>\n",
       "      <th id=\"T_cae83_level0_col0\" class=\"col_heading level0 col0\" >sscat_id</th>\n",
       "      <th id=\"T_cae83_level0_col1\" class=\"col_heading level0 col1\" >sscat</th>\n",
       "    </tr>\n",
       "  </thead>\n",
       "  <tbody>\n",
       "    <tr>\n",
       "      <th id=\"T_cae83_level0_row0\" class=\"row_heading level0 row0\" >114</th>\n",
       "      <td id=\"T_cae83_row0_col0\" class=\"data row0 col0\" >1732</td>\n",
       "      <td id=\"T_cae83_row0_col1\" class=\"data row0 col1\" >Baby Mosquito Nets</td>\n",
       "    </tr>\n",
       "    <tr>\n",
       "      <th id=\"T_cae83_level0_row1\" class=\"row_heading level0 row1\" >261</th>\n",
       "      <td id=\"T_cae83_row1_col0\" class=\"data row1 col0\" >2524</td>\n",
       "      <td id=\"T_cae83_row1_col1\" class=\"data row1 col1\" >Wall Decor & Hangings</td>\n",
       "    </tr>\n",
       "    <tr>\n",
       "      <th id=\"T_cae83_level0_row2\" class=\"row_heading level0 row2\" >321</th>\n",
       "      <td id=\"T_cae83_row2_col0\" class=\"data row2 col0\" >1007</td>\n",
       "      <td id=\"T_cae83_row2_col1\" class=\"data row2 col1\" >Blouses</td>\n",
       "    </tr>\n",
       "    <tr>\n",
       "      <th id=\"T_cae83_level0_row3\" class=\"row_heading level0 row3\" >322</th>\n",
       "      <td id=\"T_cae83_row3_col0\" class=\"data row3 col0\" >1260</td>\n",
       "      <td id=\"T_cae83_row3_col1\" class=\"data row3 col1\" >Lunch Boxes</td>\n",
       "    </tr>\n",
       "    <tr>\n",
       "      <th id=\"T_cae83_level0_row4\" class=\"row_heading level0 row4\" >492</th>\n",
       "      <td id=\"T_cae83_row4_col0\" class=\"data row4 col0\" >1318</td>\n",
       "      <td id=\"T_cae83_row4_col1\" class=\"data row4 col1\" >Toran & Wall Hangings</td>\n",
       "    </tr>\n",
       "    <tr>\n",
       "      <th id=\"T_cae83_level0_row5\" class=\"row_heading level0 row5\" >532</th>\n",
       "      <td id=\"T_cae83_row5_col0\" class=\"data row5 col0\" >1897</td>\n",
       "      <td id=\"T_cae83_row5_col1\" class=\"data row5 col1\" >Mosquito repellant/net</td>\n",
       "    </tr>\n",
       "    <tr>\n",
       "      <th id=\"T_cae83_level0_row6\" class=\"row_heading level0 row6\" >855</th>\n",
       "      <td id=\"T_cae83_row6_col0\" class=\"data row6 col0\" >2367</td>\n",
       "      <td id=\"T_cae83_row6_col1\" class=\"data row6 col1\" >Table Cloths</td>\n",
       "    </tr>\n",
       "    <tr>\n",
       "      <th id=\"T_cae83_level0_row7\" class=\"row_heading level0 row7\" >857</th>\n",
       "      <td id=\"T_cae83_row7_col0\" class=\"data row7 col0\" >1613</td>\n",
       "      <td id=\"T_cae83_row7_col1\" class=\"data row7 col1\" >Wallpapers</td>\n",
       "    </tr>\n",
       "    <tr>\n",
       "      <th id=\"T_cae83_level0_row8\" class=\"row_heading level0 row8\" >1014</th>\n",
       "      <td id=\"T_cae83_row8_col0\" class=\"data row8 col0\" >2315</td>\n",
       "      <td id=\"T_cae83_row8_col1\" class=\"data row8 col1\" >Live Plants</td>\n",
       "    </tr>\n",
       "    <tr>\n",
       "      <th id=\"T_cae83_level0_row9\" class=\"row_heading level0 row9\" >1102</th>\n",
       "      <td id=\"T_cae83_row9_col0\" class=\"data row9 col0\" >2506</td>\n",
       "      <td id=\"T_cae83_row9_col1\" class=\"data row9 col1\" >Puja Articles</td>\n",
       "    </tr>\n",
       "    <tr>\n",
       "      <th id=\"T_cae83_level0_row10\" class=\"row_heading level0 row10\" >1421</th>\n",
       "      <td id=\"T_cae83_row10_col0\" class=\"data row10 col0\" >1656</td>\n",
       "      <td id=\"T_cae83_row10_col1\" class=\"data row10 col1\" >Choppers & Peelers</td>\n",
       "    </tr>\n",
       "    <tr>\n",
       "      <th id=\"T_cae83_level0_row11\" class=\"row_heading level0 row11\" >1423</th>\n",
       "      <td id=\"T_cae83_row11_col0\" class=\"data row11 col0\" >2904</td>\n",
       "      <td id=\"T_cae83_row11_col1\" class=\"data row11 col1\" >Hooks & Hangers</td>\n",
       "    </tr>\n",
       "    <tr>\n",
       "      <th id=\"T_cae83_level0_row12\" class=\"row_heading level0 row12\" >1792</th>\n",
       "      <td id=\"T_cae83_row12_col0\" class=\"data row12 col0\" >2429</td>\n",
       "      <td id=\"T_cae83_row12_col1\" class=\"data row12 col1\" >Diyas & Lanterns</td>\n",
       "    </tr>\n",
       "    <tr>\n",
       "      <th id=\"T_cae83_level0_row13\" class=\"row_heading level0 row13\" >2062</th>\n",
       "      <td id=\"T_cae83_row13_col0\" class=\"data row13 col0\" >2485</td>\n",
       "      <td id=\"T_cae83_row13_col1\" class=\"data row13 col1\" >Showpieces & Collectibles</td>\n",
       "    </tr>\n",
       "    <tr>\n",
       "      <th id=\"T_cae83_level0_row14\" class=\"row_heading level0 row14\" >2337</th>\n",
       "      <td id=\"T_cae83_row14_col0\" class=\"data row14 col0\" >2234</td>\n",
       "      <td id=\"T_cae83_row14_col1\" class=\"data row14 col1\" >Pest Control</td>\n",
       "    </tr>\n",
       "    <tr>\n",
       "      <th id=\"T_cae83_level0_row15\" class=\"row_heading level0 row15\" >2371</th>\n",
       "      <td id=\"T_cae83_row15_col0\" class=\"data row15 col0\" >1645</td>\n",
       "      <td id=\"T_cae83_row15_col1\" class=\"data row15 col1\" >Graters</td>\n",
       "    </tr>\n",
       "    <tr>\n",
       "      <th id=\"T_cae83_level0_row16\" class=\"row_heading level0 row16\" >2565</th>\n",
       "      <td id=\"T_cae83_row16_col0\" class=\"data row16 col0\" >2409</td>\n",
       "      <td id=\"T_cae83_row16_col1\" class=\"data row16 col1\" >Wall Hooks</td>\n",
       "    </tr>\n",
       "    <tr>\n",
       "      <th id=\"T_cae83_level0_row17\" class=\"row_heading level0 row17\" >2591</th>\n",
       "      <td id=\"T_cae83_row17_col0\" class=\"data row17 col0\" >2519</td>\n",
       "      <td id=\"T_cae83_row17_col1\" class=\"data row17 col1\" >Wallpaper</td>\n",
       "    </tr>\n",
       "    <tr>\n",
       "      <th id=\"T_cae83_level0_row18\" class=\"row_heading level0 row18\" >2911</th>\n",
       "      <td id=\"T_cae83_row18_col0\" class=\"data row18 col0\" >5889</td>\n",
       "      <td id=\"T_cae83_row18_col1\" class=\"data row18 col1\" >Indoor Live Plants</td>\n",
       "    </tr>\n",
       "    <tr>\n",
       "      <th id=\"T_cae83_level0_row19\" class=\"row_heading level0 row19\" >3118</th>\n",
       "      <td id=\"T_cae83_row19_col0\" class=\"data row19 col0\" >2365</td>\n",
       "      <td id=\"T_cae83_row19_col1\" class=\"data row19 col1\" >Diwali Decorations</td>\n",
       "    </tr>\n",
       "    <tr>\n",
       "      <th id=\"T_cae83_level0_row20\" class=\"row_heading level0 row20\" >3240</th>\n",
       "      <td id=\"T_cae83_row20_col0\" class=\"data row20 col0\" >2346</td>\n",
       "      <td id=\"T_cae83_row20_col1\" class=\"data row20 col1\" >Artificial Plant, Flower and Shrubs</td>\n",
       "    </tr>\n",
       "  </tbody>\n",
       "</table>\n"
      ],
      "text/plain": [
       "<pandas.io.formats.style.Styler at 0x7a10fe4b1300>"
      ]
     },
     "metadata": {},
     "output_type": "display_data"
    },
    {
     "output_type": "display_data",
     "data": {
      "text/html": [
       "<style type=\"text/css\">\n",
       "</style>\n",
       "<table id=\"T_40470\">\n",
       "  <caption>Actual SSCAT</caption>\n",
       "  <thead>\n",
       "    <tr>\n",
       "      <th class=\"blank level0\" >&nbsp;</th>\n",
       "      <th id=\"T_40470_level0_col0\" class=\"col_heading level0 col0\" >sscat_id</th>\n",
       "      <th id=\"T_40470_level0_col1\" class=\"col_heading level0 col1\" >sscat</th>\n",
       "    </tr>\n",
       "  </thead>\n",
       "  <tbody>\n",
       "    <tr>\n",
       "      <th id=\"T_40470_level0_row0\" class=\"row_heading level0 row0\" >1863</th>\n",
       "      <td id=\"T_40470_row0_col0\" class=\"data row0 col0\" >2321</td>\n",
       "      <td id=\"T_40470_row0_col1\" class=\"data row0 col1\" >Gardening Tools & Equipment</td>\n",
       "    </tr>\n",
       "  </tbody>\n",
       "</table>\n"
      ],
      "text/plain": [
       "<pandas.io.formats.style.Styler at 0x7a10fe4b1780>"
      ]
     },
     "metadata": {},
     "output_type": "display_data"
    },
    {
     "output_type": "stream",
     "name": "stdout",
     "output_type": "stream",
     "text": [
      "41 157 198\ntorch.return_types.topk(\nvalues=tensor([[0.5593, 0.5500, 0.5193, 0.4945, 0.4941]], grad_fn=<TopkBackward0>),\nindices=tensor([[3088,  949,  736, 1468, 1799]]))\n"
     ]
    },
    {
     "output_type": "display_data",
     "data": {
      "text/html": [
       "<style type=\"text/css\">\n",
       "</style>\n",
       "<table id=\"T_ac66d\">\n",
       "  <caption>Predicted SSCAT</caption>\n",
       "  <thead>\n",
       "    <tr>\n",
       "      <th class=\"blank level0\" >&nbsp;</th>\n",
       "      <th id=\"T_ac66d_level0_col0\" class=\"col_heading level0 col0\" >sscat_id</th>\n",
       "      <th id=\"T_ac66d_level0_col1\" class=\"col_heading level0 col1\" >sscat</th>\n",
       "    </tr>\n",
       "  </thead>\n",
       "  <tbody>\n",
       "    <tr>\n",
       "      <th id=\"T_ac66d_level0_row0\" class=\"row_heading level0 row0\" >506</th>\n",
       "      <td id=\"T_ac66d_row0_col0\" class=\"data row0 col0\" >1020</td>\n",
       "      <td id=\"T_ac66d_row0_col1\" class=\"data row0 col1\" >Tops & Tunics</td>\n",
       "    </tr>\n",
       "    <tr>\n",
       "      <th id=\"T_ac66d_level0_row1\" class=\"row_heading level0 row1\" >736</th>\n",
       "      <td id=\"T_ac66d_row1_col0\" class=\"data row1 col0\" >1001</td>\n",
       "      <td id=\"T_ac66d_row1_col1\" class=\"data row1 col1\" >Kurtis & Kurtas</td>\n",
       "    </tr>\n",
       "    <tr>\n",
       "      <th id=\"T_ac66d_level0_row2\" class=\"row_heading level0 row2\" >2365</th>\n",
       "      <td id=\"T_ac66d_row2_col0\" class=\"data row2 col0\" >1003</td>\n",
       "      <td id=\"T_ac66d_row2_col1\" class=\"data row2 col1\" >Kurta Sets</td>\n",
       "    </tr>\n",
       "    <tr>\n",
       "      <th id=\"T_ac66d_level0_row3\" class=\"row_heading level0 row3\" >3116</th>\n",
       "      <td id=\"T_ac66d_row3_col0\" class=\"data row3 col0\" >1004</td>\n",
       "      <td id=\"T_ac66d_row3_col1\" class=\"data row3 col1\" >Sarees</td>\n",
       "    </tr>\n",
       "    <tr>\n",
       "      <th id=\"T_ac66d_level0_row4\" class=\"row_heading level0 row4\" >3166</th>\n",
       "      <td id=\"T_ac66d_row4_col0\" class=\"data row4 col0\" >1853</td>\n",
       "      <td id=\"T_ac66d_row4_col1\" class=\"data row4 col1\" >Dupatta Sets</td>\n",
       "    </tr>\n",
       "  </tbody>\n",
       "</table>\n"
      ],
      "text/plain": [
       "<pandas.io.formats.style.Styler at 0x7a10fe4b1720>"
      ]
     },
     "metadata": {},
     "output_type": "display_data"
    },
    {
     "output_type": "display_data",
     "data": {
      "text/plain": [
       "'----------'"
      ]
     },
     "metadata": {},
     "output_type": "display_data"
    },
    {
     "output_type": "display_data",
     "data": {
      "text/html": [
       "<style type=\"text/css\">\n",
       "</style>\n",
       "<table id=\"T_34aca\">\n",
       "  <caption>input SSCAT</caption>\n",
       "  <thead>\n",
       "    <tr>\n",
       "      <th class=\"blank level0\" >&nbsp;</th>\n",
       "      <th id=\"T_34aca_level0_col0\" class=\"col_heading level0 col0\" >sscat_id</th>\n",
       "      <th id=\"T_34aca_level0_col1\" class=\"col_heading level0 col1\" >sscat</th>\n",
       "    </tr>\n",
       "  </thead>\n",
       "  <tbody>\n",
       "    <tr>\n",
       "      <th id=\"T_34aca_level0_row0\" class=\"row_heading level0 row0\" >238</th>\n",
       "      <td id=\"T_34aca_row0_col0\" class=\"data row0 col0\" >1185</td>\n",
       "      <td id=\"T_34aca_row0_col1\" class=\"data row0 col1\" >Thermals</td>\n",
       "    </tr>\n",
       "    <tr>\n",
       "      <th id=\"T_34aca_level0_row1\" class=\"row_heading level0 row1\" >261</th>\n",
       "      <td id=\"T_34aca_row1_col0\" class=\"data row1 col0\" >2524</td>\n",
       "      <td id=\"T_34aca_row1_col1\" class=\"data row1 col1\" >Wall Decor & Hangings</td>\n",
       "    </tr>\n",
       "    <tr>\n",
       "      <th id=\"T_34aca_level0_row2\" class=\"row_heading level0 row2\" >294</th>\n",
       "      <td id=\"T_34aca_row2_col0\" class=\"data row2 col0\" >2649</td>\n",
       "      <td id=\"T_34aca_row2_col1\" class=\"data row2 col1\" >Toddler Toys</td>\n",
       "    </tr>\n",
       "    <tr>\n",
       "      <th id=\"T_34aca_level0_row3\" class=\"row_heading level0 row3\" >482</th>\n",
       "      <td id=\"T_34aca_row3_col0\" class=\"data row3 col0\" >2317</td>\n",
       "      <td id=\"T_34aca_row3_col1\" class=\"data row3 col1\" >Baking Tools</td>\n",
       "    </tr>\n",
       "    <tr>\n",
       "      <th id=\"T_34aca_level0_row4\" class=\"row_heading level0 row4\" >641</th>\n",
       "      <td id=\"T_34aca_row4_col0\" class=\"data row4 col0\" >1142</td>\n",
       "      <td id=\"T_34aca_row4_col1\" class=\"data row4 col1\" >Tops & Tunics</td>\n",
       "    </tr>\n",
       "    <tr>\n",
       "      <th id=\"T_34aca_level0_row5\" class=\"row_heading level0 row5\" >800</th>\n",
       "      <td id=\"T_34aca_row5_col0\" class=\"data row5 col0\" >1137</td>\n",
       "      <td id=\"T_34aca_row5_col1\" class=\"data row5 col1\" >Lehenga Cholis</td>\n",
       "    </tr>\n",
       "    <tr>\n",
       "      <th id=\"T_34aca_level0_row6\" class=\"row_heading level0 row6\" >803</th>\n",
       "      <td id=\"T_34aca_row6_col0\" class=\"data row6 col0\" >2384</td>\n",
       "      <td id=\"T_34aca_row6_col1\" class=\"data row6 col1\" >Aprons</td>\n",
       "    </tr>\n",
       "    <tr>\n",
       "      <th id=\"T_34aca_level0_row7\" class=\"row_heading level0 row7\" >828</th>\n",
       "      <td id=\"T_34aca_row7_col0\" class=\"data row7 col0\" >1086</td>\n",
       "      <td id=\"T_34aca_row7_col1\" class=\"data row7 col1\" >Socks</td>\n",
       "    </tr>\n",
       "    <tr>\n",
       "      <th id=\"T_34aca_level0_row8\" class=\"row_heading level0 row8\" >881</th>\n",
       "      <td id=\"T_34aca_row8_col0\" class=\"data row8 col0\" >5071</td>\n",
       "      <td id=\"T_34aca_row8_col1\" class=\"data row8 col1\" >Reusable Bags</td>\n",
       "    </tr>\n",
       "    <tr>\n",
       "      <th id=\"T_34aca_level0_row9\" class=\"row_heading level0 row9\" >882</th>\n",
       "      <td id=\"T_34aca_row9_col0\" class=\"data row9 col0\" >5593</td>\n",
       "      <td id=\"T_34aca_row9_col1\" class=\"data row9 col1\" >Makeup Vanity Box And Organizers</td>\n",
       "    </tr>\n",
       "    <tr>\n",
       "      <th id=\"T_34aca_level0_row10\" class=\"row_heading level0 row10\" >1060</th>\n",
       "      <td id=\"T_34aca_row10_col0\" class=\"data row10 col0\" >1193</td>\n",
       "      <td id=\"T_34aca_row10_col1\" class=\"data row10 col1\" >Belts</td>\n",
       "    </tr>\n",
       "    <tr>\n",
       "      <th id=\"T_34aca_level0_row11\" class=\"row_heading level0 row11\" >1072</th>\n",
       "      <td id=\"T_34aca_row11_col0\" class=\"data row11 col0\" >2656</td>\n",
       "      <td id=\"T_34aca_row11_col1\" class=\"data row11 col1\" >Hair Bands</td>\n",
       "    </tr>\n",
       "    <tr>\n",
       "      <th id=\"T_34aca_level0_row12\" class=\"row_heading level0 row12\" >1155</th>\n",
       "      <td id=\"T_34aca_row12_col0\" class=\"data row12 col0\" >1022</td>\n",
       "      <td id=\"T_34aca_row12_col1\" class=\"data row12 col1\" >Shirts</td>\n",
       "    </tr>\n",
       "    <tr>\n",
       "      <th id=\"T_34aca_level0_row13\" class=\"row_heading level0 row13\" >1212</th>\n",
       "      <td id=\"T_34aca_row13_col0\" class=\"data row13 col0\" >1140</td>\n",
       "      <td id=\"T_34aca_row13_col1\" class=\"data row13 col1\" >Kurta Sets</td>\n",
       "    </tr>\n",
       "    <tr>\n",
       "      <th id=\"T_34aca_level0_row14\" class=\"row_heading level0 row14\" >1236</th>\n",
       "      <td id=\"T_34aca_row14_col0\" class=\"data row14 col0\" >1186</td>\n",
       "      <td id=\"T_34aca_row14_col1\" class=\"data row14 col1\" >Trackpants & Joggers</td>\n",
       "    </tr>\n",
       "    <tr>\n",
       "      <th id=\"T_34aca_level0_row15\" class=\"row_heading level0 row15\" >1249</th>\n",
       "      <td id=\"T_34aca_row15_col0\" class=\"data row15 col0\" >5486</td>\n",
       "      <td id=\"T_34aca_row15_col1\" class=\"data row15 col1\" >Makeup Kits</td>\n",
       "    </tr>\n",
       "    <tr>\n",
       "      <th id=\"T_34aca_level0_row16\" class=\"row_heading level0 row16\" >1302</th>\n",
       "      <td id=\"T_34aca_row16_col0\" class=\"data row16 col0\" >1628</td>\n",
       "      <td id=\"T_34aca_row16_col1\" class=\"data row16 col1\" >Apparel Storage</td>\n",
       "    </tr>\n",
       "    <tr>\n",
       "      <th id=\"T_34aca_level0_row17\" class=\"row_heading level0 row17\" >1423</th>\n",
       "      <td id=\"T_34aca_row17_col0\" class=\"data row17 col0\" >2904</td>\n",
       "      <td id=\"T_34aca_row17_col1\" class=\"data row17 col1\" >Hooks & Hangers</td>\n",
       "    </tr>\n",
       "    <tr>\n",
       "      <th id=\"T_34aca_level0_row18\" class=\"row_heading level0 row18\" >1425</th>\n",
       "      <td id=\"T_34aca_row18_col0\" class=\"data row18 col0\" >1159</td>\n",
       "      <td id=\"T_34aca_row18_col1\" class=\"data row18 col1\" >Oneseis & Rompers</td>\n",
       "    </tr>\n",
       "    <tr>\n",
       "      <th id=\"T_34aca_level0_row19\" class=\"row_heading level0 row19\" >1546</th>\n",
       "      <td id=\"T_34aca_row19_col0\" class=\"data row19 col0\" >2412</td>\n",
       "      <td id=\"T_34aca_row19_col1\" class=\"data row19 col1\" >Clothes Covers</td>\n",
       "    </tr>\n",
       "    <tr>\n",
       "      <th id=\"T_34aca_level0_row20\" class=\"row_heading level0 row20\" >1625</th>\n",
       "      <td id=\"T_34aca_row20_col0\" class=\"data row20 col0\" >1026</td>\n",
       "      <td id=\"T_34aca_row20_col1\" class=\"data row20 col1\" >Sweaters</td>\n",
       "    </tr>\n",
       "    <tr>\n",
       "      <th id=\"T_34aca_level0_row21\" class=\"row_heading level0 row21\" >1629</th>\n",
       "      <td id=\"T_34aca_row21_col0\" class=\"data row21 col0\" >1069</td>\n",
       "      <td id=\"T_34aca_row21_col1\" class=\"data row21 col1\" >Juttis & Mojaris</td>\n",
       "    </tr>\n",
       "    <tr>\n",
       "      <th id=\"T_34aca_level0_row22\" class=\"row_heading level0 row22\" >1636</th>\n",
       "      <td id=\"T_34aca_row22_col0\" class=\"data row22 col0\" >1199</td>\n",
       "      <td id=\"T_34aca_row22_col1\" class=\"data row22 col1\" >Sunglasses</td>\n",
       "    </tr>\n",
       "    <tr>\n",
       "      <th id=\"T_34aca_level0_row23\" class=\"row_heading level0 row23\" >1652</th>\n",
       "      <td id=\"T_34aca_row23_col0\" class=\"data row23 col0\" >2546</td>\n",
       "      <td id=\"T_34aca_row23_col1\" class=\"data row23 col1\" >Paintings & Posters</td>\n",
       "    </tr>\n",
       "    <tr>\n",
       "      <th id=\"T_34aca_level0_row24\" class=\"row_heading level0 row24\" >1657</th>\n",
       "      <td id=\"T_34aca_row24_col0\" class=\"data row24 col0\" >1188</td>\n",
       "      <td id=\"T_34aca_row24_col1\" class=\"data row24 col1\" >Casual Shoes</td>\n",
       "    </tr>\n",
       "    <tr>\n",
       "      <th id=\"T_34aca_level0_row25\" class=\"row_heading level0 row25\" >1717</th>\n",
       "      <td id=\"T_34aca_row25_col0\" class=\"data row25 col0\" >5088</td>\n",
       "      <td id=\"T_34aca_row25_col1\" class=\"data row25 col1\" >Wallets</td>\n",
       "    </tr>\n",
       "    <tr>\n",
       "      <th id=\"T_34aca_level0_row26\" class=\"row_heading level0 row26\" >1723</th>\n",
       "      <td id=\"T_34aca_row26_col0\" class=\"data row26 col0\" >1293</td>\n",
       "      <td id=\"T_34aca_row26_col1\" class=\"data row26 col1\" >Educational Toys</td>\n",
       "    </tr>\n",
       "    <tr>\n",
       "      <th id=\"T_34aca_level0_row27\" class=\"row_heading level0 row27\" >1792</th>\n",
       "      <td id=\"T_34aca_row27_col0\" class=\"data row27 col0\" >2429</td>\n",
       "      <td id=\"T_34aca_row27_col1\" class=\"data row27 col1\" >Diyas & Lanterns</td>\n",
       "    </tr>\n",
       "    <tr>\n",
       "      <th id=\"T_34aca_level0_row28\" class=\"row_heading level0 row28\" >1937</th>\n",
       "      <td id=\"T_34aca_row28_col0\" class=\"data row28 col0\" >1194</td>\n",
       "      <td id=\"T_34aca_row28_col1\" class=\"data row28 col1\" >Socks</td>\n",
       "    </tr>\n",
       "    <tr>\n",
       "      <th id=\"T_34aca_level0_row29\" class=\"row_heading level0 row29\" >2062</th>\n",
       "      <td id=\"T_34aca_row29_col0\" class=\"data row29 col0\" >2485</td>\n",
       "      <td id=\"T_34aca_row29_col1\" class=\"data row29 col1\" >Showpieces & Collectibles</td>\n",
       "    </tr>\n",
       "    <tr>\n",
       "      <th id=\"T_34aca_level0_row30\" class=\"row_heading level0 row30\" >2092</th>\n",
       "      <td id=\"T_34aca_row30_col0\" class=\"data row30 col0\" >2511</td>\n",
       "      <td id=\"T_34aca_row30_col1\" class=\"data row30 col1\" >Boxes, Baskets & Bins</td>\n",
       "    </tr>\n",
       "    <tr>\n",
       "      <th id=\"T_34aca_level0_row31\" class=\"row_heading level0 row31\" >2159</th>\n",
       "      <td id=\"T_34aca_row31_col0\" class=\"data row31 col0\" >5605</td>\n",
       "      <td id=\"T_34aca_row31_col1\" class=\"data row31 col1\" >Lipsticks</td>\n",
       "    </tr>\n",
       "    <tr>\n",
       "      <th id=\"T_34aca_level0_row32\" class=\"row_heading level0 row32\" >2160</th>\n",
       "      <td id=\"T_34aca_row32_col0\" class=\"data row32 col0\" >2337</td>\n",
       "      <td id=\"T_34aca_row32_col1\" class=\"data row32 col1\" >Laundry Baskets</td>\n",
       "    </tr>\n",
       "    <tr>\n",
       "      <th id=\"T_34aca_level0_row33\" class=\"row_heading level0 row33\" >2193</th>\n",
       "      <td id=\"T_34aca_row33_col0\" class=\"data row33 col0\" >5512</td>\n",
       "      <td id=\"T_34aca_row33_col1\" class=\"data row33 col1\" >Nail Polish</td>\n",
       "    </tr>\n",
       "    <tr>\n",
       "      <th id=\"T_34aca_level0_row34\" class=\"row_heading level0 row34\" >2366</th>\n",
       "      <td id=\"T_34aca_row34_col0\" class=\"data row34 col0\" >2296</td>\n",
       "      <td id=\"T_34aca_row34_col1\" class=\"data row34 col1\" >Kitchen Tools</td>\n",
       "    </tr>\n",
       "    <tr>\n",
       "      <th id=\"T_34aca_level0_row35\" class=\"row_heading level0 row35\" >2371</th>\n",
       "      <td id=\"T_34aca_row35_col0\" class=\"data row35 col0\" >1645</td>\n",
       "      <td id=\"T_34aca_row35_col1\" class=\"data row35 col1\" >Graters</td>\n",
       "    </tr>\n",
       "    <tr>\n",
       "      <th id=\"T_34aca_level0_row36\" class=\"row_heading level0 row36\" >2422</th>\n",
       "      <td id=\"T_34aca_row36_col0\" class=\"data row36 col0\" >1028</td>\n",
       "      <td id=\"T_34aca_row36_col1\" class=\"data row36 col1\" >Sweatshirts</td>\n",
       "    </tr>\n",
       "    <tr>\n",
       "      <th id=\"T_34aca_level0_row37\" class=\"row_heading level0 row37\" >2543</th>\n",
       "      <td id=\"T_34aca_row37_col0\" class=\"data row37 col0\" >1195</td>\n",
       "      <td id=\"T_34aca_row37_col1\" class=\"data row37 col1\" >Caps</td>\n",
       "    </tr>\n",
       "    <tr>\n",
       "      <th id=\"T_34aca_level0_row38\" class=\"row_heading level0 row38\" >2565</th>\n",
       "      <td id=\"T_34aca_row38_col0\" class=\"data row38 col0\" >2409</td>\n",
       "      <td id=\"T_34aca_row38_col1\" class=\"data row38 col1\" >Wall Hooks</td>\n",
       "    </tr>\n",
       "    <tr>\n",
       "      <th id=\"T_34aca_level0_row39\" class=\"row_heading level0 row39\" >2588</th>\n",
       "      <td id=\"T_34aca_row39_col0\" class=\"data row39 col0\" >2680</td>\n",
       "      <td id=\"T_34aca_row39_col1\" class=\"data row39 col1\" >Hair Clips & Hair Pins</td>\n",
       "    </tr>\n",
       "    <tr>\n",
       "      <th id=\"T_34aca_level0_row40\" class=\"row_heading level0 row40\" >2624</th>\n",
       "      <td id=\"T_34aca_row40_col0\" class=\"data row40 col0\" >2287</td>\n",
       "      <td id=\"T_34aca_row40_col1\" class=\"data row40 col1\" >Door & Cabinet Hardware</td>\n",
       "    </tr>\n",
       "    <tr>\n",
       "      <th id=\"T_34aca_level0_row41\" class=\"row_heading level0 row41\" >3235</th>\n",
       "      <td id=\"T_34aca_row41_col0\" class=\"data row41 col0\" >4565</td>\n",
       "      <td id=\"T_34aca_row41_col1\" class=\"data row41 col1\" >Interactive Learning Books</td>\n",
       "    </tr>\n",
       "    <tr>\n",
       "      <th id=\"T_34aca_level0_row42\" class=\"row_heading level0 row42\" >3240</th>\n",
       "      <td id=\"T_34aca_row42_col0\" class=\"data row42 col0\" >2346</td>\n",
       "      <td id=\"T_34aca_row42_col1\" class=\"data row42 col1\" >Artificial Plant, Flower and Shrubs</td>\n",
       "    </tr>\n",
       "    <tr>\n",
       "      <th id=\"T_34aca_level0_row43\" class=\"row_heading level0 row43\" >3419</th>\n",
       "      <td id=\"T_34aca_row43_col0\" class=\"data row43 col0\" >1161</td>\n",
       "      <td id=\"T_34aca_row43_col1\" class=\"data row43 col1\" >Sweatshirts & Hoodies</td>\n",
       "    </tr>\n",
       "    <tr>\n",
       "      <th id=\"T_34aca_level0_row44\" class=\"row_heading level0 row44\" >3442</th>\n",
       "      <td id=\"T_34aca_row44_col0\" class=\"data row44 col0\" >2518</td>\n",
       "      <td id=\"T_34aca_row44_col1\" class=\"data row44 col1\" >Wall Stickers & Murals</td>\n",
       "    </tr>\n",
       "    <tr>\n",
       "      <th id=\"T_34aca_level0_row45\" class=\"row_heading level0 row45\" >3443</th>\n",
       "      <td id=\"T_34aca_row45_col0\" class=\"data row45 col0\" >5072</td>\n",
       "      <td id=\"T_34aca_row45_col1\" class=\"data row45 col1\" >Pouches</td>\n",
       "    </tr>\n",
       "    <tr>\n",
       "      <th id=\"T_34aca_level0_row46\" class=\"row_heading level0 row46\" >3556</th>\n",
       "      <td id=\"T_34aca_row46_col0\" class=\"data row46 col0\" >1147</td>\n",
       "      <td id=\"T_34aca_row46_col1\" class=\"data row46 col1\" >Clothing Sets</td>\n",
       "    </tr>\n",
       "    <tr>\n",
       "      <th id=\"T_34aca_level0_row47\" class=\"row_heading level0 row47\" >3629</th>\n",
       "      <td id=\"T_34aca_row47_col0\" class=\"data row47 col0\" >5662</td>\n",
       "      <td id=\"T_34aca_row47_col1\" class=\"data row47 col1\" >Makeup Pouches/Bags</td>\n",
       "    </tr>\n",
       "    <tr>\n",
       "      <th id=\"T_34aca_level0_row48\" class=\"row_heading level0 row48\" >3636</th>\n",
       "      <td id=\"T_34aca_row48_col0\" class=\"data row48 col0\" >1924</td>\n",
       "      <td id=\"T_34aca_row48_col1\" class=\"data row48 col1\" >Orthopedic Knee Support</td>\n",
       "    </tr>\n",
       "    <tr>\n",
       "      <th id=\"T_34aca_level0_row49\" class=\"row_heading level0 row49\" >3661</th>\n",
       "      <td id=\"T_34aca_row49_col0\" class=\"data row49 col0\" >1784</td>\n",
       "      <td id=\"T_34aca_row49_col1\" class=\"data row49 col1\" >Aluminium Foil and wraps</td>\n",
       "    </tr>\n",
       "    <tr>\n",
       "      <th id=\"T_34aca_level0_row50\" class=\"row_heading level0 row50\" >3666</th>\n",
       "      <td id=\"T_34aca_row50_col0\" class=\"data row50 col0\" >1625</td>\n",
       "      <td id=\"T_34aca_row50_col1\" class=\"data row50 col1\" >Box Storage</td>\n",
       "    </tr>\n",
       "    <tr>\n",
       "      <th id=\"T_34aca_level0_row51\" class=\"row_heading level0 row51\" >3895</th>\n",
       "      <td id=\"T_34aca_row51_col0\" class=\"data row51 col0\" >5582</td>\n",
       "      <td id=\"T_34aca_row51_col1\" class=\"data row51 col1\" >Sindoor</td>\n",
       "    </tr>\n",
       "  </tbody>\n",
       "</table>\n"
      ],
      "text/plain": [
       "<pandas.io.formats.style.Styler at 0x7a10fe4b0fa0>"
      ]
     },
     "metadata": {},
     "output_type": "display_data"
    },
    {
     "output_type": "display_data",
     "data": {
      "text/html": [
       "<style type=\"text/css\">\n",
       "</style>\n",
       "<table id=\"T_1a89a\">\n",
       "  <caption>Actual SSCAT</caption>\n",
       "  <thead>\n",
       "    <tr>\n",
       "      <th class=\"blank level0\" >&nbsp;</th>\n",
       "      <th id=\"T_1a89a_level0_col0\" class=\"col_heading level0 col0\" >sscat_id</th>\n",
       "      <th id=\"T_1a89a_level0_col1\" class=\"col_heading level0 col1\" >sscat</th>\n",
       "    </tr>\n",
       "  </thead>\n",
       "  <tbody>\n",
       "    <tr>\n",
       "      <th id=\"T_1a89a_level0_row0\" class=\"row_heading level0 row0\" >91</th>\n",
       "      <td id=\"T_1a89a_row0_col0\" class=\"data row0 col0\" >5540</td>\n",
       "      <td id=\"T_1a89a_row0_col1\" class=\"data row0 col1\" >Stretch Marks And Scars Creams & Oils</td>\n",
       "    </tr>\n",
       "    <tr>\n",
       "      <th id=\"T_1a89a_level0_row1\" class=\"row_heading level0 row1\" >260</th>\n",
       "      <td id=\"T_1a89a_row1_col0\" class=\"data row1 col0\" >5082</td>\n",
       "      <td id=\"T_1a89a_row1_col1\" class=\"data row1 col1\" >Handbags</td>\n",
       "    </tr>\n",
       "    <tr>\n",
       "      <th id=\"T_1a89a_level0_row2\" class=\"row_heading level0 row2\" >485</th>\n",
       "      <td id=\"T_1a89a_row2_col0\" class=\"data row2 col0\" >4422</td>\n",
       "      <td id=\"T_1a89a_row2_col1\" class=\"data row2 col1\" >Block Toys</td>\n",
       "    </tr>\n",
       "    <tr>\n",
       "      <th id=\"T_1a89a_level0_row3\" class=\"row_heading level0 row3\" >507</th>\n",
       "      <td id=\"T_1a89a_row3_col0\" class=\"data row3 col0\" >1023</td>\n",
       "      <td id=\"T_1a89a_row3_col1\" class=\"data row3 col1\" >Jackets</td>\n",
       "    </tr>\n",
       "    <tr>\n",
       "      <th id=\"T_1a89a_level0_row4\" class=\"row_heading level0 row4\" >682</th>\n",
       "      <td id=\"T_1a89a_row4_col0\" class=\"data row4 col0\" >1240</td>\n",
       "      <td id=\"T_1a89a_row4_col1\" class=\"data row4 col1\" >Socks</td>\n",
       "    </tr>\n",
       "    <tr>\n",
       "      <th id=\"T_1a89a_level0_row5\" class=\"row_heading level0 row5\" >802</th>\n",
       "      <td id=\"T_1a89a_row5_col0\" class=\"data row5 col0\" >1088</td>\n",
       "      <td id=\"T_1a89a_row5_col1\" class=\"data row5 col1\" >Hair Accessories</td>\n",
       "    </tr>\n",
       "    <tr>\n",
       "      <th id=\"T_1a89a_level0_row6\" class=\"row_heading level0 row6\" >828</th>\n",
       "      <td id=\"T_1a89a_row6_col0\" class=\"data row6 col0\" >1086</td>\n",
       "      <td id=\"T_1a89a_row6_col1\" class=\"data row6 col1\" >Socks</td>\n",
       "    </tr>\n",
       "    <tr>\n",
       "      <th id=\"T_1a89a_level0_row7\" class=\"row_heading level0 row7\" >918</th>\n",
       "      <td id=\"T_1a89a_row7_col0\" class=\"data row7 col0\" >1599</td>\n",
       "      <td id=\"T_1a89a_row7_col1\" class=\"data row7 col1\" >Appam Maker</td>\n",
       "    </tr>\n",
       "    <tr>\n",
       "      <th id=\"T_1a89a_level0_row8\" class=\"row_heading level0 row8\" >1625</th>\n",
       "      <td id=\"T_1a89a_row8_col0\" class=\"data row8 col0\" >1026</td>\n",
       "      <td id=\"T_1a89a_row8_col1\" class=\"data row8 col1\" >Sweaters</td>\n",
       "    </tr>\n",
       "    <tr>\n",
       "      <th id=\"T_1a89a_level0_row9\" class=\"row_heading level0 row9\" >1934</th>\n",
       "      <td id=\"T_1a89a_row9_col0\" class=\"data row9 col0\" >1864</td>\n",
       "      <td id=\"T_1a89a_row9_col1\" class=\"data row9 col1\" >Tissue Papers</td>\n",
       "    </tr>\n",
       "    <tr>\n",
       "      <th id=\"T_1a89a_level0_row10\" class=\"row_heading level0 row10\" >2161</th>\n",
       "      <td id=\"T_1a89a_row10_col0\" class=\"data row10 col0\" >5090</td>\n",
       "      <td id=\"T_1a89a_row10_col1\" class=\"data row10 col1\" >Cross Body Bags & Sling Bags</td>\n",
       "    </tr>\n",
       "    <tr>\n",
       "      <th id=\"T_1a89a_level0_row11\" class=\"row_heading level0 row11\" >2593</th>\n",
       "      <td id=\"T_1a89a_row11_col0\" class=\"data row11 col0\" >2344</td>\n",
       "      <td id=\"T_1a89a_row11_col1\" class=\"data row11 col1\" >Kitchen Napkins</td>\n",
       "    </tr>\n",
       "    <tr>\n",
       "      <th id=\"T_1a89a_level0_row12\" class=\"row_heading level0 row12\" >2697</th>\n",
       "      <td id=\"T_1a89a_row12_col0\" class=\"data row12 col0\" >2682</td>\n",
       "      <td id=\"T_1a89a_row12_col1\" class=\"data row12 col1\" >Wooden Puzzle</td>\n",
       "    </tr>\n",
       "    <tr>\n",
       "      <th id=\"T_1a89a_level0_row13\" class=\"row_heading level0 row13\" >2998</th>\n",
       "      <td id=\"T_1a89a_row13_col0\" class=\"data row13 col0\" >1434</td>\n",
       "      <td id=\"T_1a89a_row13_col1\" class=\"data row13 col1\" >Other Kitchen Tools</td>\n",
       "    </tr>\n",
       "    <tr>\n",
       "      <th id=\"T_1a89a_level0_row14\" class=\"row_heading level0 row14\" >3296</th>\n",
       "      <td id=\"T_1a89a_row14_col0\" class=\"data row14 col0\" >2645</td>\n",
       "      <td id=\"T_1a89a_row14_col1\" class=\"data row14 col1\" >Early Development & Activity Toys</td>\n",
       "    </tr>\n",
       "    <tr>\n",
       "      <th id=\"T_1a89a_level0_row15\" class=\"row_heading level0 row15\" >3299</th>\n",
       "      <td id=\"T_1a89a_row15_col0\" class=\"data row15 col0\" >1157</td>\n",
       "      <td id=\"T_1a89a_row15_col1\" class=\"data row15 col1\" >Leggings & Tights</td>\n",
       "    </tr>\n",
       "    <tr>\n",
       "      <th id=\"T_1a89a_level0_row16\" class=\"row_heading level0 row16\" >3540</th>\n",
       "      <td id=\"T_1a89a_row16_col0\" class=\"data row16 col0\" >4484</td>\n",
       "      <td id=\"T_1a89a_row16_col1\" class=\"data row16 col1\" >Puzzle Mats</td>\n",
       "    </tr>\n",
       "  </tbody>\n",
       "</table>\n"
      ],
      "text/plain": [
       "<pandas.io.formats.style.Styler at 0x7a10fe4b3730>"
      ]
     },
     "metadata": {},
     "output_type": "display_data"
    },
    {
     "output_type": "stream",
     "name": "stdout",
     "output_type": "stream",
     "text": [
      "141 471 612\ntorch.return_types.topk(\nvalues=tensor([[0.6150, 0.5819, 0.5497, 0.5479, 0.5076]], grad_fn=<TopkBackward0>),\nindices=tensor([[3088,  949,  736, 1683,  221]]))\n97 371 468\ntorch.return_types.topk(\nvalues=tensor([[0.6362, 0.5933, 0.5660, 0.5573, 0.5162]], grad_fn=<TopkBackward0>),\nindices=tensor([[3088,  949, 1683,  736,  221]]))\n15 58 73\ntorch.return_types.topk(\nvalues=tensor([[0.5466, 0.5456, 0.5096, 0.4918, 0.4894]], grad_fn=<TopkBackward0>),\nindices=tensor([[3088,  949,  736, 1799, 1468]]))\n26 298 324\ntorch.return_types.topk(\nvalues=tensor([[0.6323, 0.5928, 0.5633, 0.5566, 0.5160]], grad_fn=<TopkBackward0>),\nindices=tensor([[3088,  949, 1683,  736,  221]]))\n2 62 64\ntorch.return_types.topk(\nvalues=tensor([[0.5637, 0.5561, 0.5220, 0.4973, 0.4949]], grad_fn=<TopkBackward0>),\nindices=tensor([[3088,  949,  736, 1799, 1683]]))\n"
     ]
    },
    {
     "output_type": "display_data",
     "data": {
      "text/html": [
       "<style type=\"text/css\">\n",
       "</style>\n",
       "<table id=\"T_0ea6d\">\n",
       "  <caption>Predicted SSCAT</caption>\n",
       "  <thead>\n",
       "    <tr>\n",
       "      <th class=\"blank level0\" >&nbsp;</th>\n",
       "      <th id=\"T_0ea6d_level0_col0\" class=\"col_heading level0 col0\" >sscat_id</th>\n",
       "      <th id=\"T_0ea6d_level0_col1\" class=\"col_heading level0 col1\" >sscat</th>\n",
       "    </tr>\n",
       "  </thead>\n",
       "  <tbody>\n",
       "    <tr>\n",
       "      <th id=\"T_0ea6d_level0_row0\" class=\"row_heading level0 row0\" >506</th>\n",
       "      <td id=\"T_0ea6d_row0_col0\" class=\"data row0 col0\" >1020</td>\n",
       "      <td id=\"T_0ea6d_row0_col1\" class=\"data row0 col1\" >Tops & Tunics</td>\n",
       "    </tr>\n",
       "    <tr>\n",
       "      <th id=\"T_0ea6d_level0_row1\" class=\"row_heading level0 row1\" >736</th>\n",
       "      <td id=\"T_0ea6d_row1_col0\" class=\"data row1 col0\" >1001</td>\n",
       "      <td id=\"T_0ea6d_row1_col1\" class=\"data row1 col1\" >Kurtis & Kurtas</td>\n",
       "    </tr>\n",
       "    <tr>\n",
       "      <th id=\"T_0ea6d_level0_row2\" class=\"row_heading level0 row2\" >2365</th>\n",
       "      <td id=\"T_0ea6d_row2_col0\" class=\"data row2 col0\" >1003</td>\n",
       "      <td id=\"T_0ea6d_row2_col1\" class=\"data row2 col1\" >Kurta Sets</td>\n",
       "    </tr>\n",
       "    <tr>\n",
       "      <th id=\"T_0ea6d_level0_row3\" class=\"row_heading level0 row3\" >3116</th>\n",
       "      <td id=\"T_0ea6d_row3_col0\" class=\"data row3 col0\" >1004</td>\n",
       "      <td id=\"T_0ea6d_row3_col1\" class=\"data row3 col1\" >Sarees</td>\n",
       "    </tr>\n",
       "    <tr>\n",
       "      <th id=\"T_0ea6d_level0_row4\" class=\"row_heading level0 row4\" >3166</th>\n",
       "      <td id=\"T_0ea6d_row4_col0\" class=\"data row4 col0\" >1853</td>\n",
       "      <td id=\"T_0ea6d_row4_col1\" class=\"data row4 col1\" >Dupatta Sets</td>\n",
       "    </tr>\n",
       "  </tbody>\n",
       "</table>\n"
      ],
      "text/plain": [
       "<pandas.io.formats.style.Styler at 0x7a10fe4b20e0>"
      ]
     },
     "metadata": {},
     "output_type": "display_data"
    },
    {
     "output_type": "display_data",
     "data": {
      "text/plain": [
       "'----------'"
      ]
     },
     "metadata": {},
     "output_type": "display_data"
    },
    {
     "output_type": "display_data",
     "data": {
      "text/html": [
       "<style type=\"text/css\">\n",
       "</style>\n",
       "<table id=\"T_36038\">\n",
       "  <caption>input SSCAT</caption>\n",
       "  <thead>\n",
       "    <tr>\n",
       "      <th class=\"blank level0\" >&nbsp;</th>\n",
       "      <th id=\"T_36038_level0_col0\" class=\"col_heading level0 col0\" >sscat_id</th>\n",
       "      <th id=\"T_36038_level0_col1\" class=\"col_heading level0 col1\" >sscat</th>\n",
       "    </tr>\n",
       "  </thead>\n",
       "  <tbody>\n",
       "    <tr>\n",
       "      <th id=\"T_36038_level0_row0\" class=\"row_heading level0 row0\" >47</th>\n",
       "      <td id=\"T_36038_row0_col0\" class=\"data row0 col0\" >1221</td>\n",
       "      <td id=\"T_36038_row0_col1\" class=\"data row0 col1\" >Wallets</td>\n",
       "    </tr>\n",
       "    <tr>\n",
       "      <th id=\"T_36038_level0_row1\" class=\"row_heading level0 row1\" >67</th>\n",
       "      <td id=\"T_36038_row1_col0\" class=\"data row1 col0\" >1205</td>\n",
       "      <td id=\"T_36038_row1_col1\" class=\"data row1 col1\" >Tshirts</td>\n",
       "    </tr>\n",
       "    <tr>\n",
       "      <th id=\"T_36038_level0_row2\" class=\"row_heading level0 row2\" >259</th>\n",
       "      <td id=\"T_36038_row2_col0\" class=\"data row2 col0\" >5010</td>\n",
       "      <td id=\"T_36038_row2_col1\" class=\"data row2 col1\" >Mobile Cases & Covers</td>\n",
       "    </tr>\n",
       "    <tr>\n",
       "      <th id=\"T_36038_level0_row3\" class=\"row_heading level0 row3\" >300</th>\n",
       "      <td id=\"T_36038_row3_col0\" class=\"data row3 col0\" >1189</td>\n",
       "      <td id=\"T_36038_row3_col1\" class=\"data row3 col1\" >Sports Shoes</td>\n",
       "    </tr>\n",
       "    <tr>\n",
       "      <th id=\"T_36038_level0_row4\" class=\"row_heading level0 row4\" >522</th>\n",
       "      <td id=\"T_36038_row4_col0\" class=\"data row4 col0\" >1174</td>\n",
       "      <td id=\"T_36038_row4_col1\" class=\"data row4 col1\" >Shirts</td>\n",
       "    </tr>\n",
       "    <tr>\n",
       "      <th id=\"T_36038_level0_row5\" class=\"row_heading level0 row5\" >943</th>\n",
       "      <td id=\"T_36038_row5_col0\" class=\"data row5 col0\" >1042</td>\n",
       "      <td id=\"T_36038_row5_col1\" class=\"data row5 col1\" >Briefs</td>\n",
       "    </tr>\n",
       "    <tr>\n",
       "      <th id=\"T_36038_level0_row6\" class=\"row_heading level0 row6\" >1319</th>\n",
       "      <td id=\"T_36038_row6_col0\" class=\"data row6 col0\" >5096</td>\n",
       "      <td id=\"T_36038_row6_col1\" class=\"data row6 col1\" >Bluetooth Headphones & Earphones</td>\n",
       "    </tr>\n",
       "    <tr>\n",
       "      <th id=\"T_36038_level0_row7\" class=\"row_heading level0 row7\" >1344</th>\n",
       "      <td id=\"T_36038_row7_col0\" class=\"data row7 col0\" >1874</td>\n",
       "      <td id=\"T_36038_row7_col1\" class=\"data row7 col1\" >Hot Water Bottle/Heat Pad</td>\n",
       "    </tr>\n",
       "    <tr>\n",
       "      <th id=\"T_36038_level0_row8\" class=\"row_heading level0 row8\" >1470</th>\n",
       "      <td id=\"T_36038_row8_col0\" class=\"data row8 col0\" >1369</td>\n",
       "      <td id=\"T_36038_row8_col1\" class=\"data row8 col1\" >Irons</td>\n",
       "    </tr>\n",
       "    <tr>\n",
       "      <th id=\"T_36038_level0_row9\" class=\"row_heading level0 row9\" >1624</th>\n",
       "      <td id=\"T_36038_row9_col0\" class=\"data row9 col0\" >2333</td>\n",
       "      <td id=\"T_36038_row9_col1\" class=\"data row9 col1\" >Crib Mattress Protection</td>\n",
       "    </tr>\n",
       "    <tr>\n",
       "      <th id=\"T_36038_level0_row10\" class=\"row_heading level0 row10\" >1887</th>\n",
       "      <td id=\"T_36038_row10_col0\" class=\"data row10 col0\" >1379</td>\n",
       "      <td id=\"T_36038_row10_col1\" class=\"data row10 col1\" >Cables</td>\n",
       "    </tr>\n",
       "    <tr>\n",
       "      <th id=\"T_36038_level0_row11\" class=\"row_heading level0 row11\" >1961</th>\n",
       "      <td id=\"T_36038_row11_col0\" class=\"data row11 col0\" >2834</td>\n",
       "      <td id=\"T_36038_row11_col1\" class=\"data row11 col1\" >Motorcycle Mobile Holders</td>\n",
       "    </tr>\n",
       "    <tr>\n",
       "      <th id=\"T_36038_level0_row12\" class=\"row_heading level0 row12\" >2130</th>\n",
       "      <td id=\"T_36038_row12_col0\" class=\"data row12 col0\" >1211</td>\n",
       "      <td id=\"T_36038_row12_col1\" class=\"data row12 col1\" >Jeans</td>\n",
       "    </tr>\n",
       "    <tr>\n",
       "      <th id=\"T_36038_level0_row13\" class=\"row_heading level0 row13\" >2131</th>\n",
       "      <td id=\"T_36038_row13_col0\" class=\"data row13 col0\" >2378</td>\n",
       "      <td id=\"T_36038_row13_col1\" class=\"data row13 col1\" >Night Lights</td>\n",
       "    </tr>\n",
       "    <tr>\n",
       "      <th id=\"T_36038_level0_row14\" class=\"row_heading level0 row14\" >2161</th>\n",
       "      <td id=\"T_36038_row14_col0\" class=\"data row14 col0\" >5090</td>\n",
       "      <td id=\"T_36038_row14_col1\" class=\"data row14 col1\" >Cross Body Bags & Sling Bags</td>\n",
       "    </tr>\n",
       "    <tr>\n",
       "      <th id=\"T_36038_level0_row15\" class=\"row_heading level0 row15\" >2192</th>\n",
       "      <td id=\"T_36038_row15_col0\" class=\"data row15 col0\" >1070</td>\n",
       "      <td id=\"T_36038_row15_col1\" class=\"data row15 col1\" >Flipflops & Slippers</td>\n",
       "    </tr>\n",
       "    <tr>\n",
       "      <th id=\"T_36038_level0_row16\" class=\"row_heading level0 row16\" >2214</th>\n",
       "      <td id=\"T_36038_row16_col0\" class=\"data row16 col0\" >3842</td>\n",
       "      <td id=\"T_36038_row16_col1\" class=\"data row16 col1\" >Wireless Microphones</td>\n",
       "    </tr>\n",
       "    <tr>\n",
       "      <th id=\"T_36038_level0_row17\" class=\"row_heading level0 row17\" >2562</th>\n",
       "      <td id=\"T_36038_row17_col0\" class=\"data row17 col0\" >5040</td>\n",
       "      <td id=\"T_36038_row17_col1\" class=\"data row17 col1\" >Mobile Holder</td>\n",
       "    </tr>\n",
       "    <tr>\n",
       "      <th id=\"T_36038_level0_row18\" class=\"row_heading level0 row18\" >3023</th>\n",
       "      <td id=\"T_36038_row18_col0\" class=\"data row18 col0\" >2206</td>\n",
       "      <td id=\"T_36038_row18_col1\" class=\"data row18 col1\" >Photo & Video Accessories</td>\n",
       "    </tr>\n",
       "    <tr>\n",
       "      <th id=\"T_36038_level0_row19\" class=\"row_heading level0 row19\" >3164</th>\n",
       "      <td id=\"T_36038_row19_col0\" class=\"data row19 col0\" >5596</td>\n",
       "      <td id=\"T_36038_row19_col1\" class=\"data row19 col1\" >Hair Oil</td>\n",
       "    </tr>\n",
       "    <tr>\n",
       "      <th id=\"T_36038_level0_row20\" class=\"row_heading level0 row20\" >3357</th>\n",
       "      <td id=\"T_36038_row20_col0\" class=\"data row20 col0\" >3846</td>\n",
       "      <td id=\"T_36038_row20_col1\" class=\"data row20 col1\" >Dynamic Microphones</td>\n",
       "    </tr>\n",
       "    <tr>\n",
       "      <th id=\"T_36038_level0_row21\" class=\"row_heading level0 row21\" >3367</th>\n",
       "      <td id=\"T_36038_row21_col0\" class=\"data row21 col0\" >1192</td>\n",
       "      <td id=\"T_36038_row21_col1\" class=\"data row21 col1\" >Bags & Backpacks</td>\n",
       "    </tr>\n",
       "    <tr>\n",
       "      <th id=\"T_36038_level0_row22\" class=\"row_heading level0 row22\" >3918</th>\n",
       "      <td id=\"T_36038_row22_col0\" class=\"data row22 col0\" >5025</td>\n",
       "      <td id=\"T_36038_row22_col1\" class=\"data row22 col1\" >Selfie Sticks</td>\n",
       "    </tr>\n",
       "  </tbody>\n",
       "</table>\n"
      ],
      "text/plain": [
       "<pandas.io.formats.style.Styler at 0x7a10fe4b2dd0>"
      ]
     },
     "metadata": {},
     "output_type": "display_data"
    },
    {
     "output_type": "display_data",
     "data": {
      "text/html": [
       "<style type=\"text/css\">\n",
       "</style>\n",
       "<table id=\"T_f24d0\">\n",
       "  <caption>Actual SSCAT</caption>\n",
       "  <thead>\n",
       "    <tr>\n",
       "      <th class=\"blank level0\" >&nbsp;</th>\n",
       "      <th id=\"T_f24d0_level0_col0\" class=\"col_heading level0 col0\" >sscat_id</th>\n",
       "      <th id=\"T_f24d0_level0_col1\" class=\"col_heading level0 col1\" >sscat</th>\n",
       "    </tr>\n",
       "  </thead>\n",
       "  <tbody>\n",
       "    <tr>\n",
       "      <th id=\"T_f24d0_level0_row0\" class=\"row_heading level0 row0\" >611</th>\n",
       "      <td id=\"T_f24d0_row0_col0\" class=\"data row0 col0\" >1237</td>\n",
       "      <td id=\"T_f24d0_row0_col1\" class=\"data row0 col1\" >Sports Shoes</td>\n",
       "    </tr>\n",
       "    <tr>\n",
       "      <th id=\"T_f24d0_level0_row1\" class=\"row_heading level0 row1\" >3504</th>\n",
       "      <td id=\"T_f24d0_row1_col0\" class=\"data row1 col0\" >1235</td>\n",
       "      <td id=\"T_f24d0_row1_col1\" class=\"data row1 col1\" >Casual Shoes</td>\n",
       "    </tr>\n",
       "  </tbody>\n",
       "</table>\n"
      ],
      "text/plain": [
       "<pandas.io.formats.style.Styler at 0x7a10fe4b1720>"
      ]
     },
     "metadata": {},
     "output_type": "display_data"
    },
    {
     "output_type": "stream",
     "name": "stdout",
     "output_type": "stream",
     "text": [
      "16 137 153\ntorch.return_types.topk(\nvalues=tensor([[0.6023, 0.5785, 0.5422, 0.5329, 0.5047]], grad_fn=<TopkBackward0>),\nindices=tensor([[3088,  949,  736, 1683, 1468]]))\n29 88 117\ntorch.return_types.topk(\nvalues=tensor([[0.5820, 0.5671, 0.5311, 0.5115, 0.4989]], grad_fn=<TopkBackward0>),\nindices=tensor([[3088,  949,  736, 1683, 1468]]))\n3 105 108\ntorch.return_types.topk(\nvalues=tensor([[0.5924, 0.5729, 0.5365, 0.5217, 0.5013]], grad_fn=<TopkBackward0>),\nindices=tensor([[3088,  949,  736, 1683, 1468]]))\n3 72 75\ntorch.return_types.topk(\nvalues=tensor([[0.5614, 0.5557, 0.5211, 0.4975, 0.4939]], grad_fn=<TopkBackward0>),\nindices=tensor([[3088,  949,  736, 1799, 1468]]))\n2 94 96\ntorch.return_types.topk(\nvalues=tensor([[0.5827, 0.5681, 0.5310, 0.5108, 0.4987]], grad_fn=<TopkBackward0>),\nindices=tensor([[3088,  949,  736, 1683, 1799]]))\n15 73 88\ntorch.return_types.topk(\nvalues=tensor([[0.5723, 0.5621, 0.5254, 0.5012, 0.4975]], grad_fn=<TopkBackward0>),\nindices=tensor([[3088,  949,  736, 1683, 1799]]))\n1 424 425\ntorch.return_types.topk(\nvalues=tensor([[0.6407, 0.5947, 0.5721, 0.5598, 0.5179]], grad_fn=<TopkBackward0>),\nindices=tensor([[3088,  949, 1683,  736,  221]]))\n18 350 368\ntorch.return_types.topk(\nvalues=tensor([[0.6319, 0.5910, 0.5637, 0.5563, 0.5151]], grad_fn=<TopkBackward0>),\nindices=tensor([[3088,  949, 1683,  736,  221]]))\n25 369 394\ntorch.return_types.topk(\nvalues=tensor([[0.6308, 0.5912, 0.5622, 0.5557, 0.5143]], grad_fn=<TopkBackward0>),\nindices=tensor([[3088,  949, 1683,  736,  221]]))\n14 574 588\ntorch.return_types.topk(\nvalues=tensor([[0.6448, 0.5959, 0.5771, 0.5620, 0.5184]], grad_fn=<TopkBackward0>),\nindices=tensor([[3088,  949, 1683,  736,  221]]))\n22 449 471\ntorch.return_types.topk(\nvalues=tensor([[0.6219, 0.5877, 0.5550, 0.5526, 0.5091]], grad_fn=<TopkBackward0>),\nindices=tensor([[3088,  949, 1683,  736,  221]]))\n41 176 217\ntorch.return_types.topk(\nvalues=tensor([[0.6020, 0.5776, 0.5421, 0.5333, 0.5047]], grad_fn=<TopkBackward0>),\nindices=tensor([[3088,  949,  736, 1683, 1468]]))\n2 172 174\ntorch.return_types.topk(\nvalues=tensor([[0.6035, 0.5793, 0.5424, 0.5334, 0.5041]], grad_fn=<TopkBackward0>),\nindices=tensor([[3088,  949,  736, 1683, 1468]]))\n139 844 983\ntorch.return_types.topk(\nvalues=tensor([[0.6547, 0.6009, 0.5888, 0.5664, 0.5165]], grad_fn=<TopkBackward0>),\nindices=tensor([[3088,  949, 1683,  736,  221]]))\n1 260 261\ntorch.return_types.topk(\nvalues=tensor([[0.6236, 0.5892, 0.5550, 0.5521, 0.5123]], grad_fn=<TopkBackward0>),\nindices=tensor([[3088,  949, 1683,  736,  221]]))\n17 244 261\ntorch.return_types.topk(\nvalues=tensor([[0.6257, 0.5890, 0.5578, 0.5539, 0.5136]], grad_fn=<TopkBackward0>),\nindices=tensor([[3088,  949, 1683,  736,  221]]))\n11 358 369\ntorch.return_types.topk(\nvalues=tensor([[0.6196, 0.5867, 0.5546, 0.5521, 0.5093]], grad_fn=<TopkBackward0>),\nindices=tensor([[3088,  949, 1683,  736, 1468]]))\n23 371 394\ntorch.return_types.topk(\nvalues=tensor([[0.6351, 0.5926, 0.5669, 0.5575, 0.5155]], grad_fn=<TopkBackward0>),\nindices=tensor([[3088,  949, 1683,  736,  221]]))\n6 129 135\ntorch.return_types.topk(\nvalues=tensor([[0.5620, 0.5509, 0.5213, 0.4966, 0.4951]], grad_fn=<TopkBackward0>),\nindices=tensor([[3088,  949,  736, 1683, 1468]]))\n82 203 285\ntorch.return_types.topk(\nvalues=tensor([[0.6134, 0.5843, 0.5469, 0.5431, 0.5081]], grad_fn=<TopkBackward0>),\nindices=tensor([[3088,  949,  736, 1683,  221]]))\n77 47 124\ntorch.return_types.topk(\nvalues=tensor([[0.5459, 0.5453, 0.5110, 0.4940, 0.4904]], grad_fn=<TopkBackward0>),\nindices=tensor([[ 949, 3088,  736, 1799, 1468]]))\n2 223 225\ntorch.return_types.topk(\nvalues=tensor([[0.6115, 0.5825, 0.5465, 0.5415, 0.5070]], grad_fn=<TopkBackward0>),\nindices=tensor([[3088,  949,  736, 1683,  221]]))\n13 47 60\ntorch.return_types.topk(\nvalues=tensor([[0.5388, 0.5362, 0.5023, 0.4886, 0.4860]], grad_fn=<TopkBackward0>),\nindices=tensor([[ 949, 3088,  736, 1799, 1468]]))\n"
     ]
    },
    {
     "output_type": "display_data",
     "data": {
      "text/html": [
       "<style type=\"text/css\">\n",
       "</style>\n",
       "<table id=\"T_f68b3\">\n",
       "  <caption>Predicted SSCAT</caption>\n",
       "  <thead>\n",
       "    <tr>\n",
       "      <th class=\"blank level0\" >&nbsp;</th>\n",
       "      <th id=\"T_f68b3_level0_col0\" class=\"col_heading level0 col0\" >sscat_id</th>\n",
       "      <th id=\"T_f68b3_level0_col1\" class=\"col_heading level0 col1\" >sscat</th>\n",
       "    </tr>\n",
       "  </thead>\n",
       "  <tbody>\n",
       "    <tr>\n",
       "      <th id=\"T_f68b3_level0_row0\" class=\"row_heading level0 row0\" >506</th>\n",
       "      <td id=\"T_f68b3_row0_col0\" class=\"data row0 col0\" >1020</td>\n",
       "      <td id=\"T_f68b3_row0_col1\" class=\"data row0 col1\" >Tops & Tunics</td>\n",
       "    </tr>\n",
       "    <tr>\n",
       "      <th id=\"T_f68b3_level0_row1\" class=\"row_heading level0 row1\" >736</th>\n",
       "      <td id=\"T_f68b3_row1_col0\" class=\"data row1 col0\" >1001</td>\n",
       "      <td id=\"T_f68b3_row1_col1\" class=\"data row1 col1\" >Kurtis & Kurtas</td>\n",
       "    </tr>\n",
       "    <tr>\n",
       "      <th id=\"T_f68b3_level0_row2\" class=\"row_heading level0 row2\" >2365</th>\n",
       "      <td id=\"T_f68b3_row2_col0\" class=\"data row2 col0\" >1003</td>\n",
       "      <td id=\"T_f68b3_row2_col1\" class=\"data row2 col1\" >Kurta Sets</td>\n",
       "    </tr>\n",
       "    <tr>\n",
       "      <th id=\"T_f68b3_level0_row3\" class=\"row_heading level0 row3\" >3116</th>\n",
       "      <td id=\"T_f68b3_row3_col0\" class=\"data row3 col0\" >1004</td>\n",
       "      <td id=\"T_f68b3_row3_col1\" class=\"data row3 col1\" >Sarees</td>\n",
       "    </tr>\n",
       "    <tr>\n",
       "      <th id=\"T_f68b3_level0_row4\" class=\"row_heading level0 row4\" >3166</th>\n",
       "      <td id=\"T_f68b3_row4_col0\" class=\"data row4 col0\" >1853</td>\n",
       "      <td id=\"T_f68b3_row4_col1\" class=\"data row4 col1\" >Dupatta Sets</td>\n",
       "    </tr>\n",
       "  </tbody>\n",
       "</table>\n"
      ],
      "text/plain": [
       "<pandas.io.formats.style.Styler at 0x7a10fdf79870>"
      ]
     },
     "metadata": {},
     "output_type": "display_data"
    },
    {
     "output_type": "display_data",
     "data": {
      "text/plain": [
       "'----------'"
      ]
     },
     "metadata": {},
     "output_type": "display_data"
    },
    {
     "output_type": "display_data",
     "data": {
      "text/html": [
       "<style type=\"text/css\">\n",
       "</style>\n",
       "<table id=\"T_97e09\">\n",
       "  <caption>input SSCAT</caption>\n",
       "  <thead>\n",
       "    <tr>\n",
       "      <th class=\"blank level0\" >&nbsp;</th>\n",
       "      <th id=\"T_97e09_level0_col0\" class=\"col_heading level0 col0\" >sscat_id</th>\n",
       "      <th id=\"T_97e09_level0_col1\" class=\"col_heading level0 col1\" >sscat</th>\n",
       "    </tr>\n",
       "  </thead>\n",
       "  <tbody>\n",
       "    <tr>\n",
       "      <th id=\"T_97e09_level0_row0\" class=\"row_heading level0 row0\" >346</th>\n",
       "      <td id=\"T_97e09_row0_col0\" class=\"data row0 col0\" >2709</td>\n",
       "      <td id=\"T_97e09_row0_col1\" class=\"data row0 col1\" >Dashboard Figurines & Idols</td>\n",
       "    </tr>\n",
       "    <tr>\n",
       "      <th id=\"T_97e09_level0_row1\" class=\"row_heading level0 row1\" >478</th>\n",
       "      <td id=\"T_97e09_row1_col0\" class=\"data row1 col0\" >1239</td>\n",
       "      <td id=\"T_97e09_row1_col1\" class=\"data row1 col1\" >Flip Flops</td>\n",
       "    </tr>\n",
       "    <tr>\n",
       "      <th id=\"T_97e09_level0_row2\" class=\"row_heading level0 row2\" >481</th>\n",
       "      <td id=\"T_97e09_row2_col0\" class=\"data row2 col0\" >1226</td>\n",
       "      <td id=\"T_97e09_row2_col1\" class=\"data row2 col1\" >Sunglasses</td>\n",
       "    </tr>\n",
       "    <tr>\n",
       "      <th id=\"T_97e09_level0_row3\" class=\"row_heading level0 row3\" >676</th>\n",
       "      <td id=\"T_97e09_row3_col0\" class=\"data row3 col0\" >3715</td>\n",
       "      <td id=\"T_97e09_row3_col1\" class=\"data row3 col1\" >Walnuts</td>\n",
       "    </tr>\n",
       "    <tr>\n",
       "      <th id=\"T_97e09_level0_row4\" class=\"row_heading level0 row4\" >1249</th>\n",
       "      <td id=\"T_97e09_row4_col0\" class=\"data row4 col0\" >5486</td>\n",
       "      <td id=\"T_97e09_row4_col1\" class=\"data row4 col1\" >Makeup Kits</td>\n",
       "    </tr>\n",
       "    <tr>\n",
       "      <th id=\"T_97e09_level0_row5\" class=\"row_heading level0 row5\" >1252</th>\n",
       "      <td id=\"T_97e09_row5_col0\" class=\"data row5 col0\" >1402</td>\n",
       "      <td id=\"T_97e09_row5_col1\" class=\"data row5 col1\" >Tracksuits</td>\n",
       "    </tr>\n",
       "    <tr>\n",
       "      <th id=\"T_97e09_level0_row6\" class=\"row_heading level0 row6\" >1451</th>\n",
       "      <td id=\"T_97e09_row6_col0\" class=\"data row6 col0\" >3624</td>\n",
       "      <td id=\"T_97e09_row6_col1\" class=\"data row6 col1\" >Pumpkin Seeds</td>\n",
       "    </tr>\n",
       "    <tr>\n",
       "      <th id=\"T_97e09_level0_row7\" class=\"row_heading level0 row7\" >1776</th>\n",
       "      <td id=\"T_97e09_row7_col0\" class=\"data row7 col0\" >1915</td>\n",
       "      <td id=\"T_97e09_row7_col1\" class=\"data row7 col1\" >Omega Supplements</td>\n",
       "    </tr>\n",
       "    <tr>\n",
       "      <th id=\"T_97e09_level0_row8\" class=\"row_heading level0 row8\" >1960</th>\n",
       "      <td id=\"T_97e09_row8_col0\" class=\"data row8 col0\" >5626</td>\n",
       "      <td id=\"T_97e09_row8_col1\" class=\"data row8 col1\" >Face Oil & Serums</td>\n",
       "    </tr>\n",
       "    <tr>\n",
       "      <th id=\"T_97e09_level0_row9\" class=\"row_heading level0 row9\" >2010</th>\n",
       "      <td id=\"T_97e09_row9_col0\" class=\"data row9 col0\" >1943</td>\n",
       "      <td id=\"T_97e09_row9_col1\" class=\"data row9 col1\" >Nightsuits</td>\n",
       "    </tr>\n",
       "    <tr>\n",
       "      <th id=\"T_97e09_level0_row10\" class=\"row_heading level0 row10\" >2159</th>\n",
       "      <td id=\"T_97e09_row10_col0\" class=\"data row10 col0\" >5605</td>\n",
       "      <td id=\"T_97e09_row10_col1\" class=\"data row10 col1\" >Lipsticks</td>\n",
       "    </tr>\n",
       "    <tr>\n",
       "      <th id=\"T_97e09_level0_row11\" class=\"row_heading level0 row11\" >2224</th>\n",
       "      <td id=\"T_97e09_row11_col0\" class=\"data row11 col0\" >2583</td>\n",
       "      <td id=\"T_97e09_row11_col1\" class=\"data row11 col1\" >Party Items</td>\n",
       "    </tr>\n",
       "    <tr>\n",
       "      <th id=\"T_97e09_level0_row12\" class=\"row_heading level0 row12\" >2292</th>\n",
       "      <td id=\"T_97e09_row12_col0\" class=\"data row12 col0\" >1084</td>\n",
       "      <td id=\"T_97e09_row12_col1\" class=\"data row12 col1\" >Sunglasses</td>\n",
       "    </tr>\n",
       "    <tr>\n",
       "      <th id=\"T_97e09_level0_row13\" class=\"row_heading level0 row13\" >2293</th>\n",
       "      <td id=\"T_97e09_row13_col0\" class=\"data row13 col0\" >5526</td>\n",
       "      <td id=\"T_97e09_row13_col1\" class=\"data row13 col1\" >Concealer</td>\n",
       "    </tr>\n",
       "    <tr>\n",
       "      <th id=\"T_97e09_level0_row14\" class=\"row_heading level0 row14\" >2342</th>\n",
       "      <td id=\"T_97e09_row14_col0\" class=\"data row14 col0\" >4184</td>\n",
       "      <td id=\"T_97e09_row14_col1\" class=\"data row14 col1\" >Cycling Water Bottles & Shakers</td>\n",
       "    </tr>\n",
       "    <tr>\n",
       "      <th id=\"T_97e09_level0_row15\" class=\"row_heading level0 row15\" >2371</th>\n",
       "      <td id=\"T_97e09_row15_col0\" class=\"data row15 col0\" >1645</td>\n",
       "      <td id=\"T_97e09_row15_col1\" class=\"data row15 col1\" >Graters</td>\n",
       "    </tr>\n",
       "    <tr>\n",
       "      <th id=\"T_97e09_level0_row16\" class=\"row_heading level0 row16\" >2789</th>\n",
       "      <td id=\"T_97e09_row16_col0\" class=\"data row16 col0\" >5669</td>\n",
       "      <td id=\"T_97e09_row16_col1\" class=\"data row16 col1\" >Makeup Palettes</td>\n",
       "    </tr>\n",
       "    <tr>\n",
       "      <th id=\"T_97e09_level0_row17\" class=\"row_heading level0 row17\" >2801</th>\n",
       "      <td id=\"T_97e09_row17_col0\" class=\"data row17 col0\" >1216</td>\n",
       "      <td id=\"T_97e09_row17_col1\" class=\"data row17 col1\" >Trunks</td>\n",
       "    </tr>\n",
       "    <tr>\n",
       "      <th id=\"T_97e09_level0_row18\" class=\"row_heading level0 row18\" >2938</th>\n",
       "      <td id=\"T_97e09_row18_col0\" class=\"data row18 col0\" >2126</td>\n",
       "      <td id=\"T_97e09_row18_col1\" class=\"data row18 col1\" >Chains</td>\n",
       "    </tr>\n",
       "    <tr>\n",
       "      <th id=\"T_97e09_level0_row19\" class=\"row_heading level0 row19\" >3234</th>\n",
       "      <td id=\"T_97e09_row19_col0\" class=\"data row19 col0\" >2525</td>\n",
       "      <td id=\"T_97e09_row19_col1\" class=\"data row19 col1\" >Party Supplies</td>\n",
       "    </tr>\n",
       "    <tr>\n",
       "      <th id=\"T_97e09_level0_row20\" class=\"row_heading level0 row20\" >3300</th>\n",
       "      <td id=\"T_97e09_row20_col0\" class=\"data row20 col0\" >2153</td>\n",
       "      <td id=\"T_97e09_row20_col1\" class=\"data row20 col1\" >Bracelets</td>\n",
       "    </tr>\n",
       "    <tr>\n",
       "      <th id=\"T_97e09_level0_row21\" class=\"row_heading level0 row21\" >3556</th>\n",
       "      <td id=\"T_97e09_row21_col0\" class=\"data row21 col0\" >1147</td>\n",
       "      <td id=\"T_97e09_row21_col1\" class=\"data row21 col1\" >Clothing Sets</td>\n",
       "    </tr>\n",
       "    <tr>\n",
       "      <th id=\"T_97e09_level0_row22\" class=\"row_heading level0 row22\" >3595</th>\n",
       "      <td id=\"T_97e09_row22_col0\" class=\"data row22 col0\" >1419</td>\n",
       "      <td id=\"T_97e09_row22_col1\" class=\"data row22 col1\" >Top & Bottom Sets</td>\n",
       "    </tr>\n",
       "    <tr>\n",
       "      <th id=\"T_97e09_level0_row23\" class=\"row_heading level0 row23\" >3757</th>\n",
       "      <td id=\"T_97e09_row23_col0\" class=\"data row23 col0\" >1208</td>\n",
       "      <td id=\"T_97e09_row23_col1\" class=\"data row23 col1\" >Sweaters</td>\n",
       "    </tr>\n",
       "    <tr>\n",
       "      <th id=\"T_97e09_level0_row24\" class=\"row_heading level0 row24\" >3817</th>\n",
       "      <td id=\"T_97e09_row24_col0\" class=\"data row24 col0\" >1207</td>\n",
       "      <td id=\"T_97e09_row24_col1\" class=\"data row24 col1\" >Sweatshirts</td>\n",
       "    </tr>\n",
       "    <tr>\n",
       "      <th id=\"T_97e09_level0_row25\" class=\"row_heading level0 row25\" >3908</th>\n",
       "      <td id=\"T_97e09_row25_col0\" class=\"data row25 col0\" >1217</td>\n",
       "      <td id=\"T_97e09_row25_col1\" class=\"data row25 col1\" >Innerwear Vests</td>\n",
       "    </tr>\n",
       "  </tbody>\n",
       "</table>\n"
      ],
      "text/plain": [
       "<pandas.io.formats.style.Styler at 0x7a10fdf79b10>"
      ]
     },
     "metadata": {},
     "output_type": "display_data"
    },
    {
     "output_type": "display_data",
     "data": {
      "text/html": [
       "<style type=\"text/css\">\n",
       "</style>\n",
       "<table id=\"T_fe9e7\">\n",
       "  <caption>Actual SSCAT</caption>\n",
       "  <thead>\n",
       "    <tr>\n",
       "      <th class=\"blank level0\" >&nbsp;</th>\n",
       "      <th id=\"T_fe9e7_level0_col0\" class=\"col_heading level0 col0\" >sscat_id</th>\n",
       "      <th id=\"T_fe9e7_level0_col1\" class=\"col_heading level0 col1\" >sscat</th>\n",
       "    </tr>\n",
       "  </thead>\n",
       "  <tbody>\n",
       "    <tr>\n",
       "      <th id=\"T_fe9e7_level0_row0\" class=\"row_heading level0 row0\" >506</th>\n",
       "      <td id=\"T_fe9e7_row0_col0\" class=\"data row0 col0\" >1020</td>\n",
       "      <td id=\"T_fe9e7_row0_col1\" class=\"data row0 col1\" >Tops & Tunics</td>\n",
       "    </tr>\n",
       "    <tr>\n",
       "      <th id=\"T_fe9e7_level0_row1\" class=\"row_heading level0 row1\" >737</th>\n",
       "      <td id=\"T_fe9e7_row1_col0\" class=\"data row1 col0\" >1034</td>\n",
       "      <td id=\"T_fe9e7_row1_col1\" class=\"data row1 col1\" >Trousers & Pants</td>\n",
       "    </tr>\n",
       "    <tr>\n",
       "      <th id=\"T_fe9e7_level0_row2\" class=\"row_heading level0 row2\" >856</th>\n",
       "      <td id=\"T_fe9e7_row2_col0\" class=\"data row2 col0\" >1206</td>\n",
       "      <td id=\"T_fe9e7_row2_col1\" class=\"data row2 col1\" >Shirts</td>\n",
       "    </tr>\n",
       "    <tr>\n",
       "      <th id=\"T_fe9e7_level0_row3\" class=\"row_heading level0 row3\" >1500</th>\n",
       "      <td id=\"T_fe9e7_row3_col0\" class=\"data row3 col0\" >1081</td>\n",
       "      <td id=\"T_fe9e7_row3_col1\" class=\"data row3 col1\" >Belts</td>\n",
       "    </tr>\n",
       "    <tr>\n",
       "      <th id=\"T_fe9e7_level0_row4\" class=\"row_heading level0 row4\" >1869</th>\n",
       "      <td id=\"T_fe9e7_row4_col0\" class=\"data row4 col0\" >1056</td>\n",
       "      <td id=\"T_fe9e7_row4_col1\" class=\"data row4 col1\" >Thermal Tops</td>\n",
       "    </tr>\n",
       "    <tr>\n",
       "      <th id=\"T_fe9e7_level0_row5\" class=\"row_heading level0 row5\" >1987</th>\n",
       "      <td id=\"T_fe9e7_row5_col0\" class=\"data row5 col0\" >2152</td>\n",
       "      <td id=\"T_fe9e7_row5_col1\" class=\"data row5 col1\" >Analog Watches</td>\n",
       "    </tr>\n",
       "    <tr>\n",
       "      <th id=\"T_fe9e7_level0_row6\" class=\"row_heading level0 row6\" >3817</th>\n",
       "      <td id=\"T_fe9e7_row6_col0\" class=\"data row6 col0\" >1207</td>\n",
       "      <td id=\"T_fe9e7_row6_col1\" class=\"data row6 col1\" >Sweatshirts</td>\n",
       "    </tr>\n",
       "  </tbody>\n",
       "</table>\n"
      ],
      "text/plain": [
       "<pandas.io.formats.style.Styler at 0x7a10fdf79930>"
      ]
     },
     "metadata": {},
     "output_type": "display_data"
    },
    {
     "output_type": "stream",
     "name": "stdout",
     "output_type": "stream",
     "text": [
      "1 135 136\ntorch.return_types.topk(\nvalues=tensor([[0.5715, 0.5614, 0.5266, 0.5020, 0.4988]], grad_fn=<TopkBackward0>),\nindices=tensor([[3088,  949,  736, 1683, 1799]]))\n12 100 112\ntorch.return_types.topk(\nvalues=tensor([[0.5794, 0.5653, 0.5287, 0.5074, 0.4972]], grad_fn=<TopkBackward0>),\nindices=tensor([[3088,  949,  736, 1683, 1799]]))\n49 116 165\ntorch.return_types.topk(\nvalues=tensor([[0.5909, 0.5733, 0.5359, 0.5206, 0.5019]], grad_fn=<TopkBackward0>),\nindices=tensor([[3088,  949,  736, 1683, 1468]]))\n26 300 326\ntorch.return_types.topk(\nvalues=tensor([[0.6158, 0.5860, 0.5503, 0.5489, 0.5077]], grad_fn=<TopkBackward0>),\nindices=tensor([[3088,  949,  736, 1683,  221]]))\n14 113 127\ntorch.return_types.topk(\nvalues=tensor([[0.5784, 0.5644, 0.5312, 0.5107, 0.4998]], grad_fn=<TopkBackward0>),\nindices=tensor([[3088,  949,  736, 1683, 1799]]))\n10 174 184\ntorch.return_types.topk(\nvalues=tensor([[0.5906, 0.5723, 0.5359, 0.5204, 0.5015]], grad_fn=<TopkBackward0>),\nindices=tensor([[3088,  949,  736, 1683, 1468]]))\n30 224 254\ntorch.return_types.topk(\nvalues=tensor([[0.6159, 0.5855, 0.5489, 0.5467, 0.5093]], grad_fn=<TopkBackward0>),\nindices=tensor([[3088,  949,  736, 1683,  221]]))\n"
     ]
    }
   ],
   "source": [
    "from pyspark.sql.functions import udf\n",
    "from pyspark.sql.types import ArrayType, IntegerType\n",
    "\n",
    "def filter_actual_sscat(sscat_ids):\n",
    "    excluded_ids = {1004, 1001, 1853, 1003, 1093, 1020}\n",
    "    intersection = set(sscat_ids).intersection(excluded_ids)\n",
    "    return len(intersection)\n",
    "\n",
    "for i in range(100):\n",
    "    interaction_list = [ele.asDict() for ele in df[i]['interaction_list']]\n",
    "    X, sscat, sscat_logits = get_recos(interaction_list, 5)\n",
    "    print(sscat_logits[0].topk(5))\n",
    "    # print(X)\n",
    "    input_sscat = set(index_to_sscat[ele] for ele in X['sscat_id_seq'].tolist()[0])\n",
    "    actual_sscat = set(index_to_sscat[ele] for ele in X['positive_sscat_id_seq'].tolist()[0])\n",
    "\n",
    "    # predicted_sscat = set(sscat)\n",
    "    overlap = filter_actual_sscat(list(input_sscat))\n",
    "    if overlap == 0:\n",
    "        display(pdf_taxonomy[pdf_taxonomy.sscat_id.isin(predicted_sscat)][['sscat_id', \"sscat\"]].style.set_caption(\"Predicted SSCAT\"))\n",
    "        display(\"----------\")\n",
    "        display(pdf_taxonomy[pdf_taxonomy.sscat_id.isin(input_sscat)][['sscat_id', \"sscat\"]].style.set_caption(\"input SSCAT\"))\n",
    "        display(pdf_taxonomy[pdf_taxonomy.sscat_id.isin(actual_sscat)][['sscat_id', \"sscat\"]].style.set_caption(\"Actual SSCAT\"))\n"
   ]
  },
  {
   "cell_type": "code",
   "execution_count": 0,
   "metadata": {
    "application/vnd.databricks.v1+cell": {
     "cellMetadata": {
      "byteLimit": 2048000,
      "rowLimit": 10000
     },
     "inputWidgets": {},
     "nuid": "cc8d2e1f-d1f8-4ce2-9041-749cf2b6e7dd",
     "showTitle": false,
     "tableResultSettingsMap": {},
     "title": ""
    }
   },
   "outputs": [
    {
     "output_type": "stream",
     "name": "stdout",
     "output_type": "stream",
     "text": [
      "8 143 151\n"
     ]
    },
    {
     "output_type": "display_data",
     "data": {
      "text/html": [
       "<style type=\"text/css\">\n",
       "</style>\n",
       "<table id=\"T_94182\">\n",
       "  <caption>Intersection of Predicted and Actual SSCAT</caption>\n",
       "  <thead>\n",
       "    <tr>\n",
       "      <th class=\"blank level0\" >&nbsp;</th>\n",
       "      <th id=\"T_94182_level0_col0\" class=\"col_heading level0 col0\" >sscat_id</th>\n",
       "      <th id=\"T_94182_level0_col1\" class=\"col_heading level0 col1\" >sscat</th>\n",
       "    </tr>\n",
       "  </thead>\n",
       "  <tbody>\n",
       "    <tr>\n",
       "      <th id=\"T_94182_level0_row0\" class=\"row_heading level0 row0\" >506</th>\n",
       "      <td id=\"T_94182_row0_col0\" class=\"data row0 col0\" >1020</td>\n",
       "      <td id=\"T_94182_row0_col1\" class=\"data row0 col1\" >Tops & Tunics</td>\n",
       "    </tr>\n",
       "  </tbody>\n",
       "</table>\n"
      ],
      "text/plain": [
       "<pandas.io.formats.style.Styler at 0x7a11147d9390>"
      ]
     },
     "metadata": {},
     "output_type": "display_data"
    },
    {
     "output_type": "display_data",
     "data": {
      "text/plain": [
       "'----------'"
      ]
     },
     "metadata": {},
     "output_type": "display_data"
    },
    {
     "output_type": "display_data",
     "data": {
      "text/html": [
       "<style type=\"text/css\">\n",
       "</style>\n",
       "<table id=\"T_40c65\">\n",
       "  <caption>Predicted SSCAT</caption>\n",
       "  <thead>\n",
       "    <tr>\n",
       "      <th class=\"blank level0\" >&nbsp;</th>\n",
       "      <th id=\"T_40c65_level0_col0\" class=\"col_heading level0 col0\" >sscat_id</th>\n",
       "      <th id=\"T_40c65_level0_col1\" class=\"col_heading level0 col1\" >sscat</th>\n",
       "    </tr>\n",
       "  </thead>\n",
       "  <tbody>\n",
       "    <tr>\n",
       "      <th id=\"T_40c65_level0_row0\" class=\"row_heading level0 row0\" >506</th>\n",
       "      <td id=\"T_40c65_row0_col0\" class=\"data row0 col0\" >1020</td>\n",
       "      <td id=\"T_40c65_row0_col1\" class=\"data row0 col1\" >Tops & Tunics</td>\n",
       "    </tr>\n",
       "    <tr>\n",
       "      <th id=\"T_40c65_level0_row1\" class=\"row_heading level0 row1\" >736</th>\n",
       "      <td id=\"T_40c65_row1_col0\" class=\"data row1 col0\" >1001</td>\n",
       "      <td id=\"T_40c65_row1_col1\" class=\"data row1 col1\" >Kurtis & Kurtas</td>\n",
       "    </tr>\n",
       "    <tr>\n",
       "      <th id=\"T_40c65_level0_row2\" class=\"row_heading level0 row2\" >2365</th>\n",
       "      <td id=\"T_40c65_row2_col0\" class=\"data row2 col0\" >1003</td>\n",
       "      <td id=\"T_40c65_row2_col1\" class=\"data row2 col1\" >Kurta Sets</td>\n",
       "    </tr>\n",
       "    <tr>\n",
       "      <th id=\"T_40c65_level0_row3\" class=\"row_heading level0 row3\" >3116</th>\n",
       "      <td id=\"T_40c65_row3_col0\" class=\"data row3 col0\" >1004</td>\n",
       "      <td id=\"T_40c65_row3_col1\" class=\"data row3 col1\" >Sarees</td>\n",
       "    </tr>\n",
       "    <tr>\n",
       "      <th id=\"T_40c65_level0_row4\" class=\"row_heading level0 row4\" >3166</th>\n",
       "      <td id=\"T_40c65_row4_col0\" class=\"data row4 col0\" >1853</td>\n",
       "      <td id=\"T_40c65_row4_col1\" class=\"data row4 col1\" >Dupatta Sets</td>\n",
       "    </tr>\n",
       "  </tbody>\n",
       "</table>\n"
      ],
      "text/plain": [
       "<pandas.io.formats.style.Styler at 0x7a11147d8520>"
      ]
     },
     "metadata": {},
     "output_type": "display_data"
    },
    {
     "output_type": "display_data",
     "data": {
      "text/plain": [
       "'----------'"
      ]
     },
     "metadata": {},
     "output_type": "display_data"
    },
    {
     "output_type": "display_data",
     "data": {
      "text/html": [
       "<style type=\"text/css\">\n",
       "</style>\n",
       "<table id=\"T_9038b\">\n",
       "  <caption>Actual SSCAT</caption>\n",
       "  <thead>\n",
       "    <tr>\n",
       "      <th class=\"blank level0\" >&nbsp;</th>\n",
       "      <th id=\"T_9038b_level0_col0\" class=\"col_heading level0 col0\" >sscat_id</th>\n",
       "      <th id=\"T_9038b_level0_col1\" class=\"col_heading level0 col1\" >sscat</th>\n",
       "    </tr>\n",
       "  </thead>\n",
       "  <tbody>\n",
       "    <tr>\n",
       "      <th id=\"T_9038b_level0_row0\" class=\"row_heading level0 row0\" >506</th>\n",
       "      <td id=\"T_9038b_row0_col0\" class=\"data row0 col0\" >1020</td>\n",
       "      <td id=\"T_9038b_row0_col1\" class=\"data row0 col1\" >Tops & Tunics</td>\n",
       "    </tr>\n",
       "    <tr>\n",
       "      <th id=\"T_9038b_level0_row1\" class=\"row_heading level0 row1\" >712</th>\n",
       "      <td id=\"T_9038b_row1_col0\" class=\"data row1 col0\" >1025</td>\n",
       "      <td id=\"T_9038b_row1_col1\" class=\"data row1 col1\" >Dresses</td>\n",
       "    </tr>\n",
       "    <tr>\n",
       "      <th id=\"T_9038b_level0_row2\" class=\"row_heading level0 row2\" >943</th>\n",
       "      <td id=\"T_9038b_row2_col0\" class=\"data row2 col0\" >1042</td>\n",
       "      <td id=\"T_9038b_row2_col1\" class=\"data row2 col1\" >Briefs</td>\n",
       "    </tr>\n",
       "    <tr>\n",
       "      <th id=\"T_9038b_level0_row3\" class=\"row_heading level0 row3\" >1155</th>\n",
       "      <td id=\"T_9038b_row3_col0\" class=\"data row3 col0\" >1022</td>\n",
       "      <td id=\"T_9038b_row3_col1\" class=\"data row3 col1\" >Shirts</td>\n",
       "    </tr>\n",
       "  </tbody>\n",
       "</table>\n"
      ],
      "text/plain": [
       "<pandas.io.formats.style.Styler at 0x7a11147dbe80>"
      ]
     },
     "metadata": {},
     "output_type": "display_data"
    },
    {
     "output_type": "stream",
     "name": "stdout",
     "output_type": "stream",
     "text": [
      "Overlap ratio for iteration 0: 0.25\n5 213 218\n"
     ]
    },
    {
     "output_type": "display_data",
     "data": {
      "text/html": [
       "<style type=\"text/css\">\n",
       "</style>\n",
       "<table id=\"T_1bd82\">\n",
       "  <caption>Intersection of Predicted and Actual SSCAT</caption>\n",
       "  <thead>\n",
       "    <tr>\n",
       "      <th class=\"blank level0\" >&nbsp;</th>\n",
       "      <th id=\"T_1bd82_level0_col0\" class=\"col_heading level0 col0\" >sscat_id</th>\n",
       "      <th id=\"T_1bd82_level0_col1\" class=\"col_heading level0 col1\" >sscat</th>\n",
       "    </tr>\n",
       "  </thead>\n",
       "  <tbody>\n",
       "    <tr>\n",
       "      <th id=\"T_1bd82_level0_row0\" class=\"row_heading level0 row0\" >736</th>\n",
       "      <td id=\"T_1bd82_row0_col0\" class=\"data row0 col0\" >1001</td>\n",
       "      <td id=\"T_1bd82_row0_col1\" class=\"data row0 col1\" >Kurtis & Kurtas</td>\n",
       "    </tr>\n",
       "  </tbody>\n",
       "</table>\n"
      ],
      "text/plain": [
       "<pandas.io.formats.style.Styler at 0x7a11147d8550>"
      ]
     },
     "metadata": {},
     "output_type": "display_data"
    },
    {
     "output_type": "display_data",
     "data": {
      "text/plain": [
       "'----------'"
      ]
     },
     "metadata": {},
     "output_type": "display_data"
    },
    {
     "output_type": "display_data",
     "data": {
      "text/html": [
       "<style type=\"text/css\">\n",
       "</style>\n",
       "<table id=\"T_1e605\">\n",
       "  <caption>Predicted SSCAT</caption>\n",
       "  <thead>\n",
       "    <tr>\n",
       "      <th class=\"blank level0\" >&nbsp;</th>\n",
       "      <th id=\"T_1e605_level0_col0\" class=\"col_heading level0 col0\" >sscat_id</th>\n",
       "      <th id=\"T_1e605_level0_col1\" class=\"col_heading level0 col1\" >sscat</th>\n",
       "    </tr>\n",
       "  </thead>\n",
       "  <tbody>\n",
       "    <tr>\n",
       "      <th id=\"T_1e605_level0_row0\" class=\"row_heading level0 row0\" >506</th>\n",
       "      <td id=\"T_1e605_row0_col0\" class=\"data row0 col0\" >1020</td>\n",
       "      <td id=\"T_1e605_row0_col1\" class=\"data row0 col1\" >Tops & Tunics</td>\n",
       "    </tr>\n",
       "    <tr>\n",
       "      <th id=\"T_1e605_level0_row1\" class=\"row_heading level0 row1\" >736</th>\n",
       "      <td id=\"T_1e605_row1_col0\" class=\"data row1 col0\" >1001</td>\n",
       "      <td id=\"T_1e605_row1_col1\" class=\"data row1 col1\" >Kurtis & Kurtas</td>\n",
       "    </tr>\n",
       "    <tr>\n",
       "      <th id=\"T_1e605_level0_row2\" class=\"row_heading level0 row2\" >2365</th>\n",
       "      <td id=\"T_1e605_row2_col0\" class=\"data row2 col0\" >1003</td>\n",
       "      <td id=\"T_1e605_row2_col1\" class=\"data row2 col1\" >Kurta Sets</td>\n",
       "    </tr>\n",
       "    <tr>\n",
       "      <th id=\"T_1e605_level0_row3\" class=\"row_heading level0 row3\" >3116</th>\n",
       "      <td id=\"T_1e605_row3_col0\" class=\"data row3 col0\" >1004</td>\n",
       "      <td id=\"T_1e605_row3_col1\" class=\"data row3 col1\" >Sarees</td>\n",
       "    </tr>\n",
       "    <tr>\n",
       "      <th id=\"T_1e605_level0_row4\" class=\"row_heading level0 row4\" >3166</th>\n",
       "      <td id=\"T_1e605_row4_col0\" class=\"data row4 col0\" >1853</td>\n",
       "      <td id=\"T_1e605_row4_col1\" class=\"data row4 col1\" >Dupatta Sets</td>\n",
       "    </tr>\n",
       "  </tbody>\n",
       "</table>\n"
      ],
      "text/plain": [
       "<pandas.io.formats.style.Styler at 0x7a11147dbe80>"
      ]
     },
     "metadata": {},
     "output_type": "display_data"
    },
    {
     "output_type": "display_data",
     "data": {
      "text/plain": [
       "'----------'"
      ]
     },
     "metadata": {},
     "output_type": "display_data"
    },
    {
     "output_type": "display_data",
     "data": {
      "text/html": [
       "<style type=\"text/css\">\n",
       "</style>\n",
       "<table id=\"T_95b1d\">\n",
       "  <caption>Actual SSCAT</caption>\n",
       "  <thead>\n",
       "    <tr>\n",
       "      <th class=\"blank level0\" >&nbsp;</th>\n",
       "      <th id=\"T_95b1d_level0_col0\" class=\"col_heading level0 col0\" >sscat_id</th>\n",
       "      <th id=\"T_95b1d_level0_col1\" class=\"col_heading level0 col1\" >sscat</th>\n",
       "    </tr>\n",
       "  </thead>\n",
       "  <tbody>\n",
       "    <tr>\n",
       "      <th id=\"T_95b1d_level0_row0\" class=\"row_heading level0 row0\" >736</th>\n",
       "      <td id=\"T_95b1d_row0_col0\" class=\"data row0 col0\" >1001</td>\n",
       "      <td id=\"T_95b1d_row0_col1\" class=\"data row0 col1\" >Kurtis & Kurtas</td>\n",
       "    </tr>\n",
       "    <tr>\n",
       "      <th id=\"T_95b1d_level0_row1\" class=\"row_heading level0 row1\" >2192</th>\n",
       "      <td id=\"T_95b1d_row1_col0\" class=\"data row1 col0\" >1070</td>\n",
       "      <td id=\"T_95b1d_row1_col1\" class=\"data row1 col1\" >Flipflops & Slippers</td>\n",
       "    </tr>\n",
       "  </tbody>\n",
       "</table>\n"
      ],
      "text/plain": [
       "<pandas.io.formats.style.Styler at 0x7a11147d8e50>"
      ]
     },
     "metadata": {},
     "output_type": "display_data"
    },
    {
     "output_type": "stream",
     "name": "stdout",
     "output_type": "stream",
     "text": [
      "Overlap ratio for iteration 1: 0.5\n30 144 174\n"
     ]
    },
    {
     "output_type": "display_data",
     "data": {
      "text/html": [
       "<style type=\"text/css\">\n",
       "</style>\n",
       "<table id=\"T_42205\">\n",
       "  <caption>Intersection of Predicted and Actual SSCAT</caption>\n",
       "  <thead>\n",
       "    <tr>\n",
       "      <th class=\"blank level0\" >&nbsp;</th>\n",
       "      <th id=\"T_42205_level0_col0\" class=\"col_heading level0 col0\" >sscat_id</th>\n",
       "      <th id=\"T_42205_level0_col1\" class=\"col_heading level0 col1\" >sscat</th>\n",
       "    </tr>\n",
       "  </thead>\n",
       "  <tbody>\n",
       "    <tr>\n",
       "      <th id=\"T_42205_level0_row0\" class=\"row_heading level0 row0\" >736</th>\n",
       "      <td id=\"T_42205_row0_col0\" class=\"data row0 col0\" >1001</td>\n",
       "      <td id=\"T_42205_row0_col1\" class=\"data row0 col1\" >Kurtis & Kurtas</td>\n",
       "    </tr>\n",
       "    <tr>\n",
       "      <th id=\"T_42205_level0_row1\" class=\"row_heading level0 row1\" >3116</th>\n",
       "      <td id=\"T_42205_row1_col0\" class=\"data row1 col0\" >1004</td>\n",
       "      <td id=\"T_42205_row1_col1\" class=\"data row1 col1\" >Sarees</td>\n",
       "    </tr>\n",
       "  </tbody>\n",
       "</table>\n"
      ],
      "text/plain": [
       "<pandas.io.formats.style.Styler at 0x7a11147d8820>"
      ]
     },
     "metadata": {},
     "output_type": "display_data"
    },
    {
     "output_type": "display_data",
     "data": {
      "text/plain": [
       "'----------'"
      ]
     },
     "metadata": {},
     "output_type": "display_data"
    },
    {
     "output_type": "display_data",
     "data": {
      "text/html": [
       "<style type=\"text/css\">\n",
       "</style>\n",
       "<table id=\"T_f7c96\">\n",
       "  <caption>Predicted SSCAT</caption>\n",
       "  <thead>\n",
       "    <tr>\n",
       "      <th class=\"blank level0\" >&nbsp;</th>\n",
       "      <th id=\"T_f7c96_level0_col0\" class=\"col_heading level0 col0\" >sscat_id</th>\n",
       "      <th id=\"T_f7c96_level0_col1\" class=\"col_heading level0 col1\" >sscat</th>\n",
       "    </tr>\n",
       "  </thead>\n",
       "  <tbody>\n",
       "    <tr>\n",
       "      <th id=\"T_f7c96_level0_row0\" class=\"row_heading level0 row0\" >506</th>\n",
       "      <td id=\"T_f7c96_row0_col0\" class=\"data row0 col0\" >1020</td>\n",
       "      <td id=\"T_f7c96_row0_col1\" class=\"data row0 col1\" >Tops & Tunics</td>\n",
       "    </tr>\n",
       "    <tr>\n",
       "      <th id=\"T_f7c96_level0_row1\" class=\"row_heading level0 row1\" >736</th>\n",
       "      <td id=\"T_f7c96_row1_col0\" class=\"data row1 col0\" >1001</td>\n",
       "      <td id=\"T_f7c96_row1_col1\" class=\"data row1 col1\" >Kurtis & Kurtas</td>\n",
       "    </tr>\n",
       "    <tr>\n",
       "      <th id=\"T_f7c96_level0_row2\" class=\"row_heading level0 row2\" >2365</th>\n",
       "      <td id=\"T_f7c96_row2_col0\" class=\"data row2 col0\" >1003</td>\n",
       "      <td id=\"T_f7c96_row2_col1\" class=\"data row2 col1\" >Kurta Sets</td>\n",
       "    </tr>\n",
       "    <tr>\n",
       "      <th id=\"T_f7c96_level0_row3\" class=\"row_heading level0 row3\" >3116</th>\n",
       "      <td id=\"T_f7c96_row3_col0\" class=\"data row3 col0\" >1004</td>\n",
       "      <td id=\"T_f7c96_row3_col1\" class=\"data row3 col1\" >Sarees</td>\n",
       "    </tr>\n",
       "    <tr>\n",
       "      <th id=\"T_f7c96_level0_row4\" class=\"row_heading level0 row4\" >3166</th>\n",
       "      <td id=\"T_f7c96_row4_col0\" class=\"data row4 col0\" >1853</td>\n",
       "      <td id=\"T_f7c96_row4_col1\" class=\"data row4 col1\" >Dupatta Sets</td>\n",
       "    </tr>\n",
       "  </tbody>\n",
       "</table>\n"
      ],
      "text/plain": [
       "<pandas.io.formats.style.Styler at 0x7a11147db8e0>"
      ]
     },
     "metadata": {},
     "output_type": "display_data"
    },
    {
     "output_type": "display_data",
     "data": {
      "text/plain": [
       "'----------'"
      ]
     },
     "metadata": {},
     "output_type": "display_data"
    },
    {
     "output_type": "display_data",
     "data": {
      "text/html": [
       "<style type=\"text/css\">\n",
       "</style>\n",
       "<table id=\"T_afe14\">\n",
       "  <caption>Actual SSCAT</caption>\n",
       "  <thead>\n",
       "    <tr>\n",
       "      <th class=\"blank level0\" >&nbsp;</th>\n",
       "      <th id=\"T_afe14_level0_col0\" class=\"col_heading level0 col0\" >sscat_id</th>\n",
       "      <th id=\"T_afe14_level0_col1\" class=\"col_heading level0 col1\" >sscat</th>\n",
       "    </tr>\n",
       "  </thead>\n",
       "  <tbody>\n",
       "    <tr>\n",
       "      <th id=\"T_afe14_level0_row0\" class=\"row_heading level0 row0\" >527</th>\n",
       "      <td id=\"T_afe14_row0_col0\" class=\"data row0 col0\" >5636</td>\n",
       "      <td id=\"T_afe14_row0_col1\" class=\"data row0 col1\" >Makeup Blenders And Puffs</td>\n",
       "    </tr>\n",
       "    <tr>\n",
       "      <th id=\"T_afe14_level0_row1\" class=\"row_heading level0 row1\" >612</th>\n",
       "      <td id=\"T_afe14_row1_col0\" class=\"data row1 col0\" >1044</td>\n",
       "      <td id=\"T_afe14_row1_col1\" class=\"data row1 col1\" >Nightdress</td>\n",
       "    </tr>\n",
       "    <tr>\n",
       "      <th id=\"T_afe14_level0_row2\" class=\"row_heading level0 row2\" >736</th>\n",
       "      <td id=\"T_afe14_row2_col0\" class=\"data row2 col0\" >1001</td>\n",
       "      <td id=\"T_afe14_row2_col1\" class=\"data row2 col1\" >Kurtis & Kurtas</td>\n",
       "    </tr>\n",
       "    <tr>\n",
       "      <th id=\"T_afe14_level0_row3\" class=\"row_heading level0 row3\" >1136</th>\n",
       "      <td id=\"T_afe14_row3_col0\" class=\"data row3 col0\" >5924</td>\n",
       "      <td id=\"T_afe14_row3_col1\" class=\"data row3 col1\" >Brushes</td>\n",
       "    </tr>\n",
       "    <tr>\n",
       "      <th id=\"T_afe14_level0_row4\" class=\"row_heading level0 row4\" >2220</th>\n",
       "      <td id=\"T_afe14_row4_col0\" class=\"data row4 col0\" >1623</td>\n",
       "      <td id=\"T_afe14_row4_col1\" class=\"data row4 col1\" >Fridge Covers</td>\n",
       "    </tr>\n",
       "    <tr>\n",
       "      <th id=\"T_afe14_level0_row5\" class=\"row_heading level0 row5\" >2268</th>\n",
       "      <td id=\"T_afe14_row5_col0\" class=\"data row5 col0\" >1428</td>\n",
       "      <td id=\"T_afe14_row5_col1\" class=\"data row5 col1\" >Jars & Containers</td>\n",
       "    </tr>\n",
       "    <tr>\n",
       "      <th id=\"T_afe14_level0_row6\" class=\"row_heading level0 row6\" >3103</th>\n",
       "      <td id=\"T_afe14_row6_col0\" class=\"data row6 col0\" >5911</td>\n",
       "      <td id=\"T_afe14_row6_col1\" class=\"data row6 col1\" >Bathroom Brushes</td>\n",
       "    </tr>\n",
       "    <tr>\n",
       "      <th id=\"T_afe14_level0_row7\" class=\"row_heading level0 row7\" >3116</th>\n",
       "      <td id=\"T_afe14_row7_col0\" class=\"data row7 col0\" >1004</td>\n",
       "      <td id=\"T_afe14_row7_col1\" class=\"data row7 col1\" >Sarees</td>\n",
       "    </tr>\n",
       "    <tr>\n",
       "      <th id=\"T_afe14_level0_row8\" class=\"row_heading level0 row8\" >3936</th>\n",
       "      <td id=\"T_afe14_row8_col0\" class=\"data row8 col0\" >1092</td>\n",
       "      <td id=\"T_afe14_row8_col1\" class=\"data row8 col1\" >Necklaces & Chains</td>\n",
       "    </tr>\n",
       "  </tbody>\n",
       "</table>\n"
      ],
      "text/plain": [
       "<pandas.io.formats.style.Styler at 0x7a11147dbe80>"
      ]
     },
     "metadata": {},
     "output_type": "display_data"
    },
    {
     "output_type": "stream",
     "name": "stdout",
     "output_type": "stream",
     "text": [
      "Overlap ratio for iteration 2: 0.2222222222222222\n27 192 219\n"
     ]
    },
    {
     "output_type": "display_data",
     "data": {
      "text/html": [
       "<style type=\"text/css\">\n",
       "</style>\n",
       "<table id=\"T_1767e\">\n",
       "  <caption>Intersection of Predicted and Actual SSCAT</caption>\n",
       "  <thead>\n",
       "    <tr>\n",
       "      <th class=\"blank level0\" >&nbsp;</th>\n",
       "      <th id=\"T_1767e_level0_col0\" class=\"col_heading level0 col0\" >sscat_id</th>\n",
       "      <th id=\"T_1767e_level0_col1\" class=\"col_heading level0 col1\" >sscat</th>\n",
       "    </tr>\n",
       "  </thead>\n",
       "  <tbody>\n",
       "    <tr>\n",
       "      <th id=\"T_1767e_level0_row0\" class=\"row_heading level0 row0\" >736</th>\n",
       "      <td id=\"T_1767e_row0_col0\" class=\"data row0 col0\" >1001</td>\n",
       "      <td id=\"T_1767e_row0_col1\" class=\"data row0 col1\" >Kurtis & Kurtas</td>\n",
       "    </tr>\n",
       "    <tr>\n",
       "      <th id=\"T_1767e_level0_row1\" class=\"row_heading level0 row1\" >2365</th>\n",
       "      <td id=\"T_1767e_row1_col0\" class=\"data row1 col0\" >1003</td>\n",
       "      <td id=\"T_1767e_row1_col1\" class=\"data row1 col1\" >Kurta Sets</td>\n",
       "    </tr>\n",
       "    <tr>\n",
       "      <th id=\"T_1767e_level0_row2\" class=\"row_heading level0 row2\" >3166</th>\n",
       "      <td id=\"T_1767e_row2_col0\" class=\"data row2 col0\" >1853</td>\n",
       "      <td id=\"T_1767e_row2_col1\" class=\"data row2 col1\" >Dupatta Sets</td>\n",
       "    </tr>\n",
       "  </tbody>\n",
       "</table>\n"
      ],
      "text/plain": [
       "<pandas.io.formats.style.Styler at 0x7a11147daef0>"
      ]
     },
     "metadata": {},
     "output_type": "display_data"
    },
    {
     "output_type": "display_data",
     "data": {
      "text/plain": [
       "'----------'"
      ]
     },
     "metadata": {},
     "output_type": "display_data"
    },
    {
     "output_type": "display_data",
     "data": {
      "text/html": [
       "<style type=\"text/css\">\n",
       "</style>\n",
       "<table id=\"T_1a18b\">\n",
       "  <caption>Predicted SSCAT</caption>\n",
       "  <thead>\n",
       "    <tr>\n",
       "      <th class=\"blank level0\" >&nbsp;</th>\n",
       "      <th id=\"T_1a18b_level0_col0\" class=\"col_heading level0 col0\" >sscat_id</th>\n",
       "      <th id=\"T_1a18b_level0_col1\" class=\"col_heading level0 col1\" >sscat</th>\n",
       "    </tr>\n",
       "  </thead>\n",
       "  <tbody>\n",
       "    <tr>\n",
       "      <th id=\"T_1a18b_level0_row0\" class=\"row_heading level0 row0\" >736</th>\n",
       "      <td id=\"T_1a18b_row0_col0\" class=\"data row0 col0\" >1001</td>\n",
       "      <td id=\"T_1a18b_row0_col1\" class=\"data row0 col1\" >Kurtis & Kurtas</td>\n",
       "    </tr>\n",
       "    <tr>\n",
       "      <th id=\"T_1a18b_level0_row1\" class=\"row_heading level0 row1\" >2365</th>\n",
       "      <td id=\"T_1a18b_row1_col0\" class=\"data row1 col0\" >1003</td>\n",
       "      <td id=\"T_1a18b_row1_col1\" class=\"data row1 col1\" >Kurta Sets</td>\n",
       "    </tr>\n",
       "    <tr>\n",
       "      <th id=\"T_1a18b_level0_row2\" class=\"row_heading level0 row2\" >3116</th>\n",
       "      <td id=\"T_1a18b_row2_col0\" class=\"data row2 col0\" >1004</td>\n",
       "      <td id=\"T_1a18b_row2_col1\" class=\"data row2 col1\" >Sarees</td>\n",
       "    </tr>\n",
       "    <tr>\n",
       "      <th id=\"T_1a18b_level0_row3\" class=\"row_heading level0 row3\" >3166</th>\n",
       "      <td id=\"T_1a18b_row3_col0\" class=\"data row3 col0\" >1853</td>\n",
       "      <td id=\"T_1a18b_row3_col1\" class=\"data row3 col1\" >Dupatta Sets</td>\n",
       "    </tr>\n",
       "    <tr>\n",
       "      <th id=\"T_1a18b_level0_row4\" class=\"row_heading level0 row4\" >3594</th>\n",
       "      <td id=\"T_1a18b_row4_col0\" class=\"data row4 col0\" >1093</td>\n",
       "      <td id=\"T_1a18b_row4_col1\" class=\"data row4 col1\" >Jewellery Set</td>\n",
       "    </tr>\n",
       "  </tbody>\n",
       "</table>\n"
      ],
      "text/plain": [
       "<pandas.io.formats.style.Styler at 0x7a110788d690>"
      ]
     },
     "metadata": {},
     "output_type": "display_data"
    },
    {
     "output_type": "display_data",
     "data": {
      "text/plain": [
       "'----------'"
      ]
     },
     "metadata": {},
     "output_type": "display_data"
    },
    {
     "output_type": "display_data",
     "data": {
      "text/html": [
       "<style type=\"text/css\">\n",
       "</style>\n",
       "<table id=\"T_29362\">\n",
       "  <caption>Actual SSCAT</caption>\n",
       "  <thead>\n",
       "    <tr>\n",
       "      <th class=\"blank level0\" >&nbsp;</th>\n",
       "      <th id=\"T_29362_level0_col0\" class=\"col_heading level0 col0\" >sscat_id</th>\n",
       "      <th id=\"T_29362_level0_col1\" class=\"col_heading level0 col1\" >sscat</th>\n",
       "    </tr>\n",
       "  </thead>\n",
       "  <tbody>\n",
       "    <tr>\n",
       "      <th id=\"T_29362_level0_row0\" class=\"row_heading level0 row0\" >736</th>\n",
       "      <td id=\"T_29362_row0_col0\" class=\"data row0 col0\" >1001</td>\n",
       "      <td id=\"T_29362_row0_col1\" class=\"data row0 col1\" >Kurtis & Kurtas</td>\n",
       "    </tr>\n",
       "    <tr>\n",
       "      <th id=\"T_29362_level0_row1\" class=\"row_heading level0 row1\" >856</th>\n",
       "      <td id=\"T_29362_row1_col0\" class=\"data row1 col0\" >1206</td>\n",
       "      <td id=\"T_29362_row1_col1\" class=\"data row1 col1\" >Shirts</td>\n",
       "    </tr>\n",
       "    <tr>\n",
       "      <th id=\"T_29362_level0_row2\" class=\"row_heading level0 row2\" >1644</th>\n",
       "      <td id=\"T_29362_row2_col0\" class=\"data row2 col0\" >3007</td>\n",
       "      <td id=\"T_29362_row2_col1\" class=\"data row2 col1\" >Scales</td>\n",
       "    </tr>\n",
       "    <tr>\n",
       "      <th id=\"T_29362_level0_row3\" class=\"row_heading level0 row3\" >2365</th>\n",
       "      <td id=\"T_29362_row3_col0\" class=\"data row3 col0\" >1003</td>\n",
       "      <td id=\"T_29362_row3_col1\" class=\"data row3 col1\" >Kurta Sets</td>\n",
       "    </tr>\n",
       "    <tr>\n",
       "      <th id=\"T_29362_level0_row4\" class=\"row_heading level0 row4\" >2516</th>\n",
       "      <td id=\"T_29362_row4_col0\" class=\"data row4 col0\" >4047</td>\n",
       "      <td id=\"T_29362_row4_col1\" class=\"data row4 col1\" >Sewing Seam Rippers</td>\n",
       "    </tr>\n",
       "    <tr>\n",
       "      <th id=\"T_29362_level0_row5\" class=\"row_heading level0 row5\" >2620</th>\n",
       "      <td id=\"T_29362_row5_col0\" class=\"data row5 col0\" >2225</td>\n",
       "      <td id=\"T_29362_row5_col1\" class=\"data row5 col1\" >Power & Hand Tools</td>\n",
       "    </tr>\n",
       "    <tr>\n",
       "      <th id=\"T_29362_level0_row6\" class=\"row_heading level0 row6\" >3166</th>\n",
       "      <td id=\"T_29362_row6_col0\" class=\"data row6 col0\" >1853</td>\n",
       "      <td id=\"T_29362_row6_col1\" class=\"data row6 col1\" >Dupatta Sets</td>\n",
       "    </tr>\n",
       "    <tr>\n",
       "      <th id=\"T_29362_level0_row7\" class=\"row_heading level0 row7\" >3367</th>\n",
       "      <td id=\"T_29362_row7_col0\" class=\"data row7 col0\" >1192</td>\n",
       "      <td id=\"T_29362_row7_col1\" class=\"data row7 col1\" >Bags & Backpacks</td>\n",
       "    </tr>\n",
       "  </tbody>\n",
       "</table>\n"
      ],
      "text/plain": [
       "<pandas.io.formats.style.Styler at 0x7a110788e410>"
      ]
     },
     "metadata": {},
     "output_type": "display_data"
    },
    {
     "output_type": "stream",
     "name": "stdout",
     "output_type": "stream",
     "text": [
      "Overlap ratio for iteration 3: 0.375\n7 356 363\n"
     ]
    },
    {
     "output_type": "display_data",
     "data": {
      "text/html": [
       "<style type=\"text/css\">\n",
       "</style>\n",
       "<table id=\"T_5b74f\">\n",
       "  <caption>Intersection of Predicted and Actual SSCAT</caption>\n",
       "  <thead>\n",
       "    <tr>\n",
       "      <th class=\"blank level0\" >&nbsp;</th>\n",
       "      <th id=\"T_5b74f_level0_col0\" class=\"col_heading level0 col0\" >sscat_id</th>\n",
       "      <th id=\"T_5b74f_level0_col1\" class=\"col_heading level0 col1\" >sscat</th>\n",
       "    </tr>\n",
       "  </thead>\n",
       "  <tbody>\n",
       "    <tr>\n",
       "      <th id=\"T_5b74f_level0_row0\" class=\"row_heading level0 row0\" >736</th>\n",
       "      <td id=\"T_5b74f_row0_col0\" class=\"data row0 col0\" >1001</td>\n",
       "      <td id=\"T_5b74f_row0_col1\" class=\"data row0 col1\" >Kurtis & Kurtas</td>\n",
       "    </tr>\n",
       "  </tbody>\n",
       "</table>\n"
      ],
      "text/plain": [
       "<pandas.io.formats.style.Styler at 0x7a11147d91b0>"
      ]
     },
     "metadata": {},
     "output_type": "display_data"
    },
    {
     "output_type": "display_data",
     "data": {
      "text/plain": [
       "'----------'"
      ]
     },
     "metadata": {},
     "output_type": "display_data"
    },
    {
     "output_type": "display_data",
     "data": {
      "text/html": [
       "<style type=\"text/css\">\n",
       "</style>\n",
       "<table id=\"T_f8f8d\">\n",
       "  <caption>Predicted SSCAT</caption>\n",
       "  <thead>\n",
       "    <tr>\n",
       "      <th class=\"blank level0\" >&nbsp;</th>\n",
       "      <th id=\"T_f8f8d_level0_col0\" class=\"col_heading level0 col0\" >sscat_id</th>\n",
       "      <th id=\"T_f8f8d_level0_col1\" class=\"col_heading level0 col1\" >sscat</th>\n",
       "    </tr>\n",
       "  </thead>\n",
       "  <tbody>\n",
       "    <tr>\n",
       "      <th id=\"T_f8f8d_level0_row0\" class=\"row_heading level0 row0\" >736</th>\n",
       "      <td id=\"T_f8f8d_row0_col0\" class=\"data row0 col0\" >1001</td>\n",
       "      <td id=\"T_f8f8d_row0_col1\" class=\"data row0 col1\" >Kurtis & Kurtas</td>\n",
       "    </tr>\n",
       "    <tr>\n",
       "      <th id=\"T_f8f8d_level0_row1\" class=\"row_heading level0 row1\" >2365</th>\n",
       "      <td id=\"T_f8f8d_row1_col0\" class=\"data row1 col0\" >1003</td>\n",
       "      <td id=\"T_f8f8d_row1_col1\" class=\"data row1 col1\" >Kurta Sets</td>\n",
       "    </tr>\n",
       "    <tr>\n",
       "      <th id=\"T_f8f8d_level0_row2\" class=\"row_heading level0 row2\" >3116</th>\n",
       "      <td id=\"T_f8f8d_row2_col0\" class=\"data row2 col0\" >1004</td>\n",
       "      <td id=\"T_f8f8d_row2_col1\" class=\"data row2 col1\" >Sarees</td>\n",
       "    </tr>\n",
       "    <tr>\n",
       "      <th id=\"T_f8f8d_level0_row3\" class=\"row_heading level0 row3\" >3166</th>\n",
       "      <td id=\"T_f8f8d_row3_col0\" class=\"data row3 col0\" >1853</td>\n",
       "      <td id=\"T_f8f8d_row3_col1\" class=\"data row3 col1\" >Dupatta Sets</td>\n",
       "    </tr>\n",
       "    <tr>\n",
       "      <th id=\"T_f8f8d_level0_row4\" class=\"row_heading level0 row4\" >3594</th>\n",
       "      <td id=\"T_f8f8d_row4_col0\" class=\"data row4 col0\" >1093</td>\n",
       "      <td id=\"T_f8f8d_row4_col1\" class=\"data row4 col1\" >Jewellery Set</td>\n",
       "    </tr>\n",
       "  </tbody>\n",
       "</table>\n"
      ],
      "text/plain": [
       "<pandas.io.formats.style.Styler at 0x7a110788ec50>"
      ]
     },
     "metadata": {},
     "output_type": "display_data"
    },
    {
     "output_type": "display_data",
     "data": {
      "text/plain": [
       "'----------'"
      ]
     },
     "metadata": {},
     "output_type": "display_data"
    },
    {
     "output_type": "display_data",
     "data": {
      "text/html": [
       "<style type=\"text/css\">\n",
       "</style>\n",
       "<table id=\"T_cc8e3\">\n",
       "  <caption>Actual SSCAT</caption>\n",
       "  <thead>\n",
       "    <tr>\n",
       "      <th class=\"blank level0\" >&nbsp;</th>\n",
       "      <th id=\"T_cc8e3_level0_col0\" class=\"col_heading level0 col0\" >sscat_id</th>\n",
       "      <th id=\"T_cc8e3_level0_col1\" class=\"col_heading level0 col1\" >sscat</th>\n",
       "    </tr>\n",
       "  </thead>\n",
       "  <tbody>\n",
       "    <tr>\n",
       "      <th id=\"T_cc8e3_level0_row0\" class=\"row_heading level0 row0\" >506</th>\n",
       "      <td id=\"T_cc8e3_row0_col0\" class=\"data row0 col0\" >1020</td>\n",
       "      <td id=\"T_cc8e3_row0_col1\" class=\"data row0 col1\" >Tops & Tunics</td>\n",
       "    </tr>\n",
       "    <tr>\n",
       "      <th id=\"T_cc8e3_level0_row1\" class=\"row_heading level0 row1\" >736</th>\n",
       "      <td id=\"T_cc8e3_row1_col0\" class=\"data row1 col0\" >1001</td>\n",
       "      <td id=\"T_cc8e3_row1_col1\" class=\"data row1 col1\" >Kurtis & Kurtas</td>\n",
       "    </tr>\n",
       "  </tbody>\n",
       "</table>\n"
      ],
      "text/plain": [
       "<pandas.io.formats.style.Styler at 0x7a110788f760>"
      ]
     },
     "metadata": {},
     "output_type": "display_data"
    },
    {
     "output_type": "stream",
     "name": "stdout",
     "output_type": "stream",
     "text": [
      "Overlap ratio for iteration 4: 0.5\n125 262 387\n"
     ]
    },
    {
     "output_type": "display_data",
     "data": {
      "text/html": [
       "<style type=\"text/css\">\n",
       "</style>\n",
       "<table id=\"T_594c1\">\n",
       "  <caption>Intersection of Predicted and Actual SSCAT</caption>\n",
       "  <thead>\n",
       "    <tr>\n",
       "      <th class=\"blank level0\" >&nbsp;</th>\n",
       "      <th id=\"T_594c1_level0_col0\" class=\"col_heading level0 col0\" >sscat_id</th>\n",
       "      <th id=\"T_594c1_level0_col1\" class=\"col_heading level0 col1\" >sscat</th>\n",
       "    </tr>\n",
       "  </thead>\n",
       "  <tbody>\n",
       "    <tr>\n",
       "      <th id=\"T_594c1_level0_row0\" class=\"row_heading level0 row0\" >3594</th>\n",
       "      <td id=\"T_594c1_row0_col0\" class=\"data row0 col0\" >1093</td>\n",
       "      <td id=\"T_594c1_row0_col1\" class=\"data row0 col1\" >Jewellery Set</td>\n",
       "    </tr>\n",
       "  </tbody>\n",
       "</table>\n"
      ],
      "text/plain": [
       "<pandas.io.formats.style.Styler at 0x7a11147d81f0>"
      ]
     },
     "metadata": {},
     "output_type": "display_data"
    },
    {
     "output_type": "display_data",
     "data": {
      "text/plain": [
       "'----------'"
      ]
     },
     "metadata": {},
     "output_type": "display_data"
    },
    {
     "output_type": "display_data",
     "data": {
      "text/html": [
       "<style type=\"text/css\">\n",
       "</style>\n",
       "<table id=\"T_07256\">\n",
       "  <caption>Predicted SSCAT</caption>\n",
       "  <thead>\n",
       "    <tr>\n",
       "      <th class=\"blank level0\" >&nbsp;</th>\n",
       "      <th id=\"T_07256_level0_col0\" class=\"col_heading level0 col0\" >sscat_id</th>\n",
       "      <th id=\"T_07256_level0_col1\" class=\"col_heading level0 col1\" >sscat</th>\n",
       "    </tr>\n",
       "  </thead>\n",
       "  <tbody>\n",
       "    <tr>\n",
       "      <th id=\"T_07256_level0_row0\" class=\"row_heading level0 row0\" >736</th>\n",
       "      <td id=\"T_07256_row0_col0\" class=\"data row0 col0\" >1001</td>\n",
       "      <td id=\"T_07256_row0_col1\" class=\"data row0 col1\" >Kurtis & Kurtas</td>\n",
       "    </tr>\n",
       "    <tr>\n",
       "      <th id=\"T_07256_level0_row1\" class=\"row_heading level0 row1\" >2365</th>\n",
       "      <td id=\"T_07256_row1_col0\" class=\"data row1 col0\" >1003</td>\n",
       "      <td id=\"T_07256_row1_col1\" class=\"data row1 col1\" >Kurta Sets</td>\n",
       "    </tr>\n",
       "    <tr>\n",
       "      <th id=\"T_07256_level0_row2\" class=\"row_heading level0 row2\" >3116</th>\n",
       "      <td id=\"T_07256_row2_col0\" class=\"data row2 col0\" >1004</td>\n",
       "      <td id=\"T_07256_row2_col1\" class=\"data row2 col1\" >Sarees</td>\n",
       "    </tr>\n",
       "    <tr>\n",
       "      <th id=\"T_07256_level0_row3\" class=\"row_heading level0 row3\" >3166</th>\n",
       "      <td id=\"T_07256_row3_col0\" class=\"data row3 col0\" >1853</td>\n",
       "      <td id=\"T_07256_row3_col1\" class=\"data row3 col1\" >Dupatta Sets</td>\n",
       "    </tr>\n",
       "    <tr>\n",
       "      <th id=\"T_07256_level0_row4\" class=\"row_heading level0 row4\" >3594</th>\n",
       "      <td id=\"T_07256_row4_col0\" class=\"data row4 col0\" >1093</td>\n",
       "      <td id=\"T_07256_row4_col1\" class=\"data row4 col1\" >Jewellery Set</td>\n",
       "    </tr>\n",
       "  </tbody>\n",
       "</table>\n"
      ],
      "text/plain": [
       "<pandas.io.formats.style.Styler at 0x7a11147db8e0>"
      ]
     },
     "metadata": {},
     "output_type": "display_data"
    },
    {
     "output_type": "display_data",
     "data": {
      "text/plain": [
       "'----------'"
      ]
     },
     "metadata": {},
     "output_type": "display_data"
    },
    {
     "output_type": "display_data",
     "data": {
      "text/html": [
       "<style type=\"text/css\">\n",
       "</style>\n",
       "<table id=\"T_677fd\">\n",
       "  <caption>Actual SSCAT</caption>\n",
       "  <thead>\n",
       "    <tr>\n",
       "      <th class=\"blank level0\" >&nbsp;</th>\n",
       "      <th id=\"T_677fd_level0_col0\" class=\"col_heading level0 col0\" >sscat_id</th>\n",
       "      <th id=\"T_677fd_level0_col1\" class=\"col_heading level0 col1\" >sscat</th>\n",
       "    </tr>\n",
       "  </thead>\n",
       "  <tbody>\n",
       "    <tr>\n",
       "      <th id=\"T_677fd_level0_row0\" class=\"row_heading level0 row0\" >29</th>\n",
       "      <td id=\"T_677fd_row0_col0\" class=\"data row0 col0\" >5922</td>\n",
       "      <td id=\"T_677fd_row0_col1\" class=\"data row0 col1\" >Garbage Disposal</td>\n",
       "    </tr>\n",
       "    <tr>\n",
       "      <th id=\"T_677fd_level0_row1\" class=\"row_heading level0 row1\" >48</th>\n",
       "      <td id=\"T_677fd_row1_col0\" class=\"data row1 col0\" >2505</td>\n",
       "      <td id=\"T_677fd_row1_col1\" class=\"data row1 col1\" >Sheets</td>\n",
       "    </tr>\n",
       "    <tr>\n",
       "      <th id=\"T_677fd_level0_row2\" class=\"row_heading level0 row2\" >458</th>\n",
       "      <td id=\"T_677fd_row2_col0\" class=\"data row2 col0\" >1175</td>\n",
       "      <td id=\"T_677fd_row2_col1\" class=\"data row2 col1\" >Shorts & Capris</td>\n",
       "    </tr>\n",
       "    <tr>\n",
       "      <th id=\"T_677fd_level0_row3\" class=\"row_heading level0 row3\" >479</th>\n",
       "      <td id=\"T_677fd_row3_col0\" class=\"data row3 col0\" >1644</td>\n",
       "      <td id=\"T_677fd_row3_col1\" class=\"data row3 col1\" >Water Bottles</td>\n",
       "    </tr>\n",
       "    <tr>\n",
       "      <th id=\"T_677fd_level0_row4\" class=\"row_heading level0 row4\" >673</th>\n",
       "      <td id=\"T_677fd_row4_col0\" class=\"data row4 col0\" >2169</td>\n",
       "      <td id=\"T_677fd_row4_col1\" class=\"data row4 col1\" >Pyjamas</td>\n",
       "    </tr>\n",
       "    <tr>\n",
       "      <th id=\"T_677fd_level0_row5\" class=\"row_heading level0 row5\" >802</th>\n",
       "      <td id=\"T_677fd_row5_col0\" class=\"data row5 col0\" >1088</td>\n",
       "      <td id=\"T_677fd_row5_col1\" class=\"data row5 col1\" >Hair Accessories</td>\n",
       "    </tr>\n",
       "    <tr>\n",
       "      <th id=\"T_677fd_level0_row6\" class=\"row_heading level0 row6\" >943</th>\n",
       "      <td id=\"T_677fd_row6_col0\" class=\"data row6 col0\" >1042</td>\n",
       "      <td id=\"T_677fd_row6_col1\" class=\"data row6 col1\" >Briefs</td>\n",
       "    </tr>\n",
       "    <tr>\n",
       "      <th id=\"T_677fd_level0_row7\" class=\"row_heading level0 row7\" >1023</th>\n",
       "      <td id=\"T_677fd_row7_col0\" class=\"data row7 col0\" >1158</td>\n",
       "      <td id=\"T_677fd_row7_col1\" class=\"data row7 col1\" >Nightsuits</td>\n",
       "    </tr>\n",
       "    <tr>\n",
       "      <th id=\"T_677fd_level0_row8\" class=\"row_heading level0 row8\" >1072</th>\n",
       "      <td id=\"T_677fd_row8_col0\" class=\"data row8 col0\" >2656</td>\n",
       "      <td id=\"T_677fd_row8_col1\" class=\"data row8 col1\" >Hair Bands</td>\n",
       "    </tr>\n",
       "    <tr>\n",
       "      <th id=\"T_677fd_level0_row9\" class=\"row_heading level0 row9\" >1209</th>\n",
       "      <td id=\"T_677fd_row9_col0\" class=\"data row9 col0\" >5564</td>\n",
       "      <td id=\"T_677fd_row9_col1\" class=\"data row9 col1\" >Baby Wipes</td>\n",
       "    </tr>\n",
       "    <tr>\n",
       "      <th id=\"T_677fd_level0_row10\" class=\"row_heading level0 row10\" >1240</th>\n",
       "      <td id=\"T_677fd_row10_col0\" class=\"data row10 col0\" >1179</td>\n",
       "      <td id=\"T_677fd_row10_col1\" class=\"data row10 col1\" >Pants</td>\n",
       "    </tr>\n",
       "    <tr>\n",
       "      <th id=\"T_677fd_level0_row11\" class=\"row_heading level0 row11\" >1624</th>\n",
       "      <td id=\"T_677fd_row11_col0\" class=\"data row11 col0\" >2333</td>\n",
       "      <td id=\"T_677fd_row11_col1\" class=\"data row11 col1\" >Crib Mattress Protection</td>\n",
       "    </tr>\n",
       "    <tr>\n",
       "      <th id=\"T_677fd_level0_row12\" class=\"row_heading level0 row12\" >1694</th>\n",
       "      <td id=\"T_677fd_row12_col0\" class=\"data row12 col0\" >2413</td>\n",
       "      <td id=\"T_677fd_row12_col1\" class=\"data row12 col1\" >Pillow Covers</td>\n",
       "    </tr>\n",
       "    <tr>\n",
       "      <th id=\"T_677fd_level0_row13\" class=\"row_heading level0 row13\" >1716</th>\n",
       "      <td id=\"T_677fd_row13_col0\" class=\"data row13 col0\" >1105</td>\n",
       "      <td id=\"T_677fd_row13_col1\" class=\"data row13 col1\" >Pillows</td>\n",
       "    </tr>\n",
       "    <tr>\n",
       "      <th id=\"T_677fd_level0_row14\" class=\"row_heading level0 row14\" >1770</th>\n",
       "      <td id=\"T_677fd_row14_col0\" class=\"data row14 col0\" >1826</td>\n",
       "      <td id=\"T_677fd_row14_col1\" class=\"data row14 col1\" >Feeding Nightwear</td>\n",
       "    </tr>\n",
       "    <tr>\n",
       "      <th id=\"T_677fd_level0_row15\" class=\"row_heading level0 row15\" >1932</th>\n",
       "      <td id=\"T_677fd_row15_col0\" class=\"data row15 col0\" >2250</td>\n",
       "      <td id=\"T_677fd_row15_col1\" class=\"data row15 col1\" >Cleaning Supplies</td>\n",
       "    </tr>\n",
       "    <tr>\n",
       "      <th id=\"T_677fd_level0_row16\" class=\"row_heading level0 row16\" >1959</th>\n",
       "      <td id=\"T_677fd_row16_col0\" class=\"data row16 col0\" >5644</td>\n",
       "      <td id=\"T_677fd_row16_col1\" class=\"data row16 col1\" >Face Packs</td>\n",
       "    </tr>\n",
       "    <tr>\n",
       "      <th id=\"T_677fd_level0_row17\" class=\"row_heading level0 row17\" >2420</th>\n",
       "      <td id=\"T_677fd_row17_col0\" class=\"data row17 col0\" >2484</td>\n",
       "      <td id=\"T_677fd_row17_col1\" class=\"data row17 col1\" >Pillows & Pillow Covers</td>\n",
       "    </tr>\n",
       "    <tr>\n",
       "      <th id=\"T_677fd_level0_row18\" class=\"row_heading level0 row18\" >2512</th>\n",
       "      <td id=\"T_677fd_row18_col0\" class=\"data row18 col0\" >1182</td>\n",
       "      <td id=\"T_677fd_row18_col1\" class=\"data row18 col1\" >Clothing Sets</td>\n",
       "    </tr>\n",
       "    <tr>\n",
       "      <th id=\"T_677fd_level0_row19\" class=\"row_heading level0 row19\" >2588</th>\n",
       "      <td id=\"T_677fd_row19_col0\" class=\"data row19 col0\" >2680</td>\n",
       "      <td id=\"T_677fd_row19_col1\" class=\"data row19 col1\" >Hair Clips & Hair Pins</td>\n",
       "    </tr>\n",
       "    <tr>\n",
       "      <th id=\"T_677fd_level0_row20\" class=\"row_heading level0 row20\" >2593</th>\n",
       "      <td id=\"T_677fd_row20_col0\" class=\"data row20 col0\" >2344</td>\n",
       "      <td id=\"T_677fd_row20_col1\" class=\"data row20 col1\" >Kitchen Napkins</td>\n",
       "    </tr>\n",
       "    <tr>\n",
       "      <th id=\"T_677fd_level0_row21\" class=\"row_heading level0 row21\" >2732</th>\n",
       "      <td id=\"T_677fd_row21_col0\" class=\"data row21 col0\" >2531</td>\n",
       "      <td id=\"T_677fd_row21_col1\" class=\"data row21 col1\" >Curtains</td>\n",
       "    </tr>\n",
       "    <tr>\n",
       "      <th id=\"T_677fd_level0_row22\" class=\"row_heading level0 row22\" >2939</th>\n",
       "      <td id=\"T_677fd_row22_col0\" class=\"data row22 col0\" >1187</td>\n",
       "      <td id=\"T_677fd_row22_col1\" class=\"data row22 col1\" >Innerwear</td>\n",
       "    </tr>\n",
       "    <tr>\n",
       "      <th id=\"T_677fd_level0_row23\" class=\"row_heading level0 row23\" >3098</th>\n",
       "      <td id=\"T_677fd_row23_col0\" class=\"data row23 col0\" >2330</td>\n",
       "      <td id=\"T_677fd_row23_col1\" class=\"data row23 col1\" >Feeding Kurtis & Kurta Sets</td>\n",
       "    </tr>\n",
       "    <tr>\n",
       "      <th id=\"T_677fd_level0_row24\" class=\"row_heading level0 row24\" >3139</th>\n",
       "      <td id=\"T_677fd_row24_col0\" class=\"data row24 col0\" >1173</td>\n",
       "      <td id=\"T_677fd_row24_col1\" class=\"data row24 col1\" >Tshirts & Polos</td>\n",
       "    </tr>\n",
       "    <tr>\n",
       "      <th id=\"T_677fd_level0_row25\" class=\"row_heading level0 row25\" >3556</th>\n",
       "      <td id=\"T_677fd_row25_col0\" class=\"data row25 col0\" >1147</td>\n",
       "      <td id=\"T_677fd_row25_col1\" class=\"data row25 col1\" >Clothing Sets</td>\n",
       "    </tr>\n",
       "    <tr>\n",
       "      <th id=\"T_677fd_level0_row26\" class=\"row_heading level0 row26\" >3594</th>\n",
       "      <td id=\"T_677fd_row26_col0\" class=\"data row26 col0\" >1093</td>\n",
       "      <td id=\"T_677fd_row26_col1\" class=\"data row26 col1\" >Jewellery Set</td>\n",
       "    </tr>\n",
       "    <tr>\n",
       "      <th id=\"T_677fd_level0_row27\" class=\"row_heading level0 row27\" >3624</th>\n",
       "      <td id=\"T_677fd_row27_col0\" class=\"data row27 col0\" >5637</td>\n",
       "      <td id=\"T_677fd_row27_col1\" class=\"data row27 col1\" >Bathing Soaps</td>\n",
       "    </tr>\n",
       "    <tr>\n",
       "      <th id=\"T_677fd_level0_row28\" class=\"row_heading level0 row28\" >3909</th>\n",
       "      <td id=\"T_677fd_row28_col0\" class=\"data row28 col0\" >1141</td>\n",
       "      <td id=\"T_677fd_row28_col1\" class=\"data row28 col1\" >Frocks & Dresses</td>\n",
       "    </tr>\n",
       "    <tr>\n",
       "      <th id=\"T_677fd_level0_row29\" class=\"row_heading level0 row29\" >3936</th>\n",
       "      <td id=\"T_677fd_row29_col0\" class=\"data row29 col0\" >1092</td>\n",
       "      <td id=\"T_677fd_row29_col1\" class=\"data row29 col1\" >Necklaces & Chains</td>\n",
       "    </tr>\n",
       "  </tbody>\n",
       "</table>\n"
      ],
      "text/plain": [
       "<pandas.io.formats.style.Styler at 0x7a11147d81f0>"
      ]
     },
     "metadata": {},
     "output_type": "display_data"
    },
    {
     "output_type": "stream",
     "name": "stdout",
     "output_type": "stream",
     "text": [
      "Overlap ratio for iteration 5: 0.03333333333333333\n3 448 451\n"
     ]
    },
    {
     "output_type": "display_data",
     "data": {
      "text/html": [
       "<style type=\"text/css\">\n",
       "</style>\n",
       "<table id=\"T_ae4ba\">\n",
       "  <caption>Intersection of Predicted and Actual SSCAT</caption>\n",
       "  <thead>\n",
       "    <tr>\n",
       "      <th class=\"blank level0\" >&nbsp;</th>\n",
       "      <th id=\"T_ae4ba_level0_col0\" class=\"col_heading level0 col0\" >sscat_id</th>\n",
       "      <th id=\"T_ae4ba_level0_col1\" class=\"col_heading level0 col1\" >sscat</th>\n",
       "    </tr>\n",
       "  </thead>\n",
       "  <tbody>\n",
       "    <tr>\n",
       "      <th id=\"T_ae4ba_level0_row0\" class=\"row_heading level0 row0\" >736</th>\n",
       "      <td id=\"T_ae4ba_row0_col0\" class=\"data row0 col0\" >1001</td>\n",
       "      <td id=\"T_ae4ba_row0_col1\" class=\"data row0 col1\" >Kurtis & Kurtas</td>\n",
       "    </tr>\n",
       "  </tbody>\n",
       "</table>\n"
      ],
      "text/plain": [
       "<pandas.io.formats.style.Styler at 0x7a11147d9000>"
      ]
     },
     "metadata": {},
     "output_type": "display_data"
    },
    {
     "output_type": "display_data",
     "data": {
      "text/plain": [
       "'----------'"
      ]
     },
     "metadata": {},
     "output_type": "display_data"
    },
    {
     "output_type": "display_data",
     "data": {
      "text/html": [
       "<style type=\"text/css\">\n",
       "</style>\n",
       "<table id=\"T_b0f42\">\n",
       "  <caption>Predicted SSCAT</caption>\n",
       "  <thead>\n",
       "    <tr>\n",
       "      <th class=\"blank level0\" >&nbsp;</th>\n",
       "      <th id=\"T_b0f42_level0_col0\" class=\"col_heading level0 col0\" >sscat_id</th>\n",
       "      <th id=\"T_b0f42_level0_col1\" class=\"col_heading level0 col1\" >sscat</th>\n",
       "    </tr>\n",
       "  </thead>\n",
       "  <tbody>\n",
       "    <tr>\n",
       "      <th id=\"T_b0f42_level0_row0\" class=\"row_heading level0 row0\" >736</th>\n",
       "      <td id=\"T_b0f42_row0_col0\" class=\"data row0 col0\" >1001</td>\n",
       "      <td id=\"T_b0f42_row0_col1\" class=\"data row0 col1\" >Kurtis & Kurtas</td>\n",
       "    </tr>\n",
       "    <tr>\n",
       "      <th id=\"T_b0f42_level0_row1\" class=\"row_heading level0 row1\" >2365</th>\n",
       "      <td id=\"T_b0f42_row1_col0\" class=\"data row1 col0\" >1003</td>\n",
       "      <td id=\"T_b0f42_row1_col1\" class=\"data row1 col1\" >Kurta Sets</td>\n",
       "    </tr>\n",
       "    <tr>\n",
       "      <th id=\"T_b0f42_level0_row2\" class=\"row_heading level0 row2\" >3116</th>\n",
       "      <td id=\"T_b0f42_row2_col0\" class=\"data row2 col0\" >1004</td>\n",
       "      <td id=\"T_b0f42_row2_col1\" class=\"data row2 col1\" >Sarees</td>\n",
       "    </tr>\n",
       "    <tr>\n",
       "      <th id=\"T_b0f42_level0_row3\" class=\"row_heading level0 row3\" >3166</th>\n",
       "      <td id=\"T_b0f42_row3_col0\" class=\"data row3 col0\" >1853</td>\n",
       "      <td id=\"T_b0f42_row3_col1\" class=\"data row3 col1\" >Dupatta Sets</td>\n",
       "    </tr>\n",
       "    <tr>\n",
       "      <th id=\"T_b0f42_level0_row4\" class=\"row_heading level0 row4\" >3594</th>\n",
       "      <td id=\"T_b0f42_row4_col0\" class=\"data row4 col0\" >1093</td>\n",
       "      <td id=\"T_b0f42_row4_col1\" class=\"data row4 col1\" >Jewellery Set</td>\n",
       "    </tr>\n",
       "  </tbody>\n",
       "</table>\n"
      ],
      "text/plain": [
       "<pandas.io.formats.style.Styler at 0x7a11147daef0>"
      ]
     },
     "metadata": {},
     "output_type": "display_data"
    },
    {
     "output_type": "display_data",
     "data": {
      "text/plain": [
       "'----------'"
      ]
     },
     "metadata": {},
     "output_type": "display_data"
    },
    {
     "output_type": "display_data",
     "data": {
      "text/html": [
       "<style type=\"text/css\">\n",
       "</style>\n",
       "<table id=\"T_02d57\">\n",
       "  <caption>Actual SSCAT</caption>\n",
       "  <thead>\n",
       "    <tr>\n",
       "      <th class=\"blank level0\" >&nbsp;</th>\n",
       "      <th id=\"T_02d57_level0_col0\" class=\"col_heading level0 col0\" >sscat_id</th>\n",
       "      <th id=\"T_02d57_level0_col1\" class=\"col_heading level0 col1\" >sscat</th>\n",
       "    </tr>\n",
       "  </thead>\n",
       "  <tbody>\n",
       "    <tr>\n",
       "      <th id=\"T_02d57_level0_row0\" class=\"row_heading level0 row0\" >736</th>\n",
       "      <td id=\"T_02d57_row0_col0\" class=\"data row0 col0\" >1001</td>\n",
       "      <td id=\"T_02d57_row0_col1\" class=\"data row0 col1\" >Kurtis & Kurtas</td>\n",
       "    </tr>\n",
       "    <tr>\n",
       "      <th id=\"T_02d57_level0_row1\" class=\"row_heading level0 row1\" >737</th>\n",
       "      <td id=\"T_02d57_row1_col0\" class=\"data row1 col0\" >1034</td>\n",
       "      <td id=\"T_02d57_row1_col1\" class=\"data row1 col1\" >Trousers & Pants</td>\n",
       "    </tr>\n",
       "  </tbody>\n",
       "</table>\n"
      ],
      "text/plain": [
       "<pandas.io.formats.style.Styler at 0x7a110c23aa70>"
      ]
     },
     "metadata": {},
     "output_type": "display_data"
    },
    {
     "output_type": "stream",
     "name": "stdout",
     "output_type": "stream",
     "text": [
      "Overlap ratio for iteration 6: 0.5\n40 272 312\n"
     ]
    },
    {
     "output_type": "display_data",
     "data": {
      "text/html": [
       "<style type=\"text/css\">\n",
       "</style>\n",
       "<table id=\"T_5baa2\">\n",
       "  <caption>Intersection of Predicted and Actual SSCAT</caption>\n",
       "  <thead>\n",
       "    <tr>\n",
       "      <th class=\"blank level0\" >&nbsp;</th>\n",
       "      <th id=\"T_5baa2_level0_col0\" class=\"col_heading level0 col0\" >sscat_id</th>\n",
       "      <th id=\"T_5baa2_level0_col1\" class=\"col_heading level0 col1\" >sscat</th>\n",
       "    </tr>\n",
       "  </thead>\n",
       "  <tbody>\n",
       "    <tr>\n",
       "      <th id=\"T_5baa2_level0_row0\" class=\"row_heading level0 row0\" >736</th>\n",
       "      <td id=\"T_5baa2_row0_col0\" class=\"data row0 col0\" >1001</td>\n",
       "      <td id=\"T_5baa2_row0_col1\" class=\"data row0 col1\" >Kurtis & Kurtas</td>\n",
       "    </tr>\n",
       "    <tr>\n",
       "      <th id=\"T_5baa2_level0_row1\" class=\"row_heading level0 row1\" >2365</th>\n",
       "      <td id=\"T_5baa2_row1_col0\" class=\"data row1 col0\" >1003</td>\n",
       "      <td id=\"T_5baa2_row1_col1\" class=\"data row1 col1\" >Kurta Sets</td>\n",
       "    </tr>\n",
       "    <tr>\n",
       "      <th id=\"T_5baa2_level0_row2\" class=\"row_heading level0 row2\" >3166</th>\n",
       "      <td id=\"T_5baa2_row2_col0\" class=\"data row2 col0\" >1853</td>\n",
       "      <td id=\"T_5baa2_row2_col1\" class=\"data row2 col1\" >Dupatta Sets</td>\n",
       "    </tr>\n",
       "  </tbody>\n",
       "</table>\n"
      ],
      "text/plain": [
       "<pandas.io.formats.style.Styler at 0x7a11147db2b0>"
      ]
     },
     "metadata": {},
     "output_type": "display_data"
    },
    {
     "output_type": "display_data",
     "data": {
      "text/plain": [
       "'----------'"
      ]
     },
     "metadata": {},
     "output_type": "display_data"
    },
    {
     "output_type": "display_data",
     "data": {
      "text/html": [
       "<style type=\"text/css\">\n",
       "</style>\n",
       "<table id=\"T_26b6f\">\n",
       "  <caption>Predicted SSCAT</caption>\n",
       "  <thead>\n",
       "    <tr>\n",
       "      <th class=\"blank level0\" >&nbsp;</th>\n",
       "      <th id=\"T_26b6f_level0_col0\" class=\"col_heading level0 col0\" >sscat_id</th>\n",
       "      <th id=\"T_26b6f_level0_col1\" class=\"col_heading level0 col1\" >sscat</th>\n",
       "    </tr>\n",
       "  </thead>\n",
       "  <tbody>\n",
       "    <tr>\n",
       "      <th id=\"T_26b6f_level0_row0\" class=\"row_heading level0 row0\" >736</th>\n",
       "      <td id=\"T_26b6f_row0_col0\" class=\"data row0 col0\" >1001</td>\n",
       "      <td id=\"T_26b6f_row0_col1\" class=\"data row0 col1\" >Kurtis & Kurtas</td>\n",
       "    </tr>\n",
       "    <tr>\n",
       "      <th id=\"T_26b6f_level0_row1\" class=\"row_heading level0 row1\" >2365</th>\n",
       "      <td id=\"T_26b6f_row1_col0\" class=\"data row1 col0\" >1003</td>\n",
       "      <td id=\"T_26b6f_row1_col1\" class=\"data row1 col1\" >Kurta Sets</td>\n",
       "    </tr>\n",
       "    <tr>\n",
       "      <th id=\"T_26b6f_level0_row2\" class=\"row_heading level0 row2\" >3116</th>\n",
       "      <td id=\"T_26b6f_row2_col0\" class=\"data row2 col0\" >1004</td>\n",
       "      <td id=\"T_26b6f_row2_col1\" class=\"data row2 col1\" >Sarees</td>\n",
       "    </tr>\n",
       "    <tr>\n",
       "      <th id=\"T_26b6f_level0_row3\" class=\"row_heading level0 row3\" >3166</th>\n",
       "      <td id=\"T_26b6f_row3_col0\" class=\"data row3 col0\" >1853</td>\n",
       "      <td id=\"T_26b6f_row3_col1\" class=\"data row3 col1\" >Dupatta Sets</td>\n",
       "    </tr>\n",
       "    <tr>\n",
       "      <th id=\"T_26b6f_level0_row4\" class=\"row_heading level0 row4\" >3594</th>\n",
       "      <td id=\"T_26b6f_row4_col0\" class=\"data row4 col0\" >1093</td>\n",
       "      <td id=\"T_26b6f_row4_col1\" class=\"data row4 col1\" >Jewellery Set</td>\n",
       "    </tr>\n",
       "  </tbody>\n",
       "</table>\n"
      ],
      "text/plain": [
       "<pandas.io.formats.style.Styler at 0x7a11147d8520>"
      ]
     },
     "metadata": {},
     "output_type": "display_data"
    },
    {
     "output_type": "display_data",
     "data": {
      "text/plain": [
       "'----------'"
      ]
     },
     "metadata": {},
     "output_type": "display_data"
    },
    {
     "output_type": "display_data",
     "data": {
      "text/html": [
       "<style type=\"text/css\">\n",
       "</style>\n",
       "<table id=\"T_78463\">\n",
       "  <caption>Actual SSCAT</caption>\n",
       "  <thead>\n",
       "    <tr>\n",
       "      <th class=\"blank level0\" >&nbsp;</th>\n",
       "      <th id=\"T_78463_level0_col0\" class=\"col_heading level0 col0\" >sscat_id</th>\n",
       "      <th id=\"T_78463_level0_col1\" class=\"col_heading level0 col1\" >sscat</th>\n",
       "    </tr>\n",
       "  </thead>\n",
       "  <tbody>\n",
       "    <tr>\n",
       "      <th id=\"T_78463_level0_row0\" class=\"row_heading level0 row0\" >736</th>\n",
       "      <td id=\"T_78463_row0_col0\" class=\"data row0 col0\" >1001</td>\n",
       "      <td id=\"T_78463_row0_col1\" class=\"data row0 col1\" >Kurtis & Kurtas</td>\n",
       "    </tr>\n",
       "    <tr>\n",
       "      <th id=\"T_78463_level0_row1\" class=\"row_heading level0 row1\" >2365</th>\n",
       "      <td id=\"T_78463_row1_col0\" class=\"data row1 col0\" >1003</td>\n",
       "      <td id=\"T_78463_row1_col1\" class=\"data row1 col1\" >Kurta Sets</td>\n",
       "    </tr>\n",
       "    <tr>\n",
       "      <th id=\"T_78463_level0_row2\" class=\"row_heading level0 row2\" >2487</th>\n",
       "      <td id=\"T_78463_row2_col0\" class=\"data row2 col0\" >1041</td>\n",
       "      <td id=\"T_78463_row2_col1\" class=\"data row2 col1\" >Bra</td>\n",
       "    </tr>\n",
       "    <tr>\n",
       "      <th id=\"T_78463_level0_row3\" class=\"row_heading level0 row3\" >3166</th>\n",
       "      <td id=\"T_78463_row3_col0\" class=\"data row3 col0\" >1853</td>\n",
       "      <td id=\"T_78463_row3_col1\" class=\"data row3 col1\" >Dupatta Sets</td>\n",
       "    </tr>\n",
       "    <tr>\n",
       "      <th id=\"T_78463_level0_row4\" class=\"row_heading level0 row4\" >3553</th>\n",
       "      <td id=\"T_78463_row4_col0\" class=\"data row4 col0\" >1097</td>\n",
       "      <td id=\"T_78463_row4_col1\" class=\"data row4 col1\" >Mangalsutras</td>\n",
       "    </tr>\n",
       "  </tbody>\n",
       "</table>\n"
      ],
      "text/plain": [
       "<pandas.io.formats.style.Styler at 0x7a11147db8e0>"
      ]
     },
     "metadata": {},
     "output_type": "display_data"
    },
    {
     "output_type": "stream",
     "name": "stdout",
     "output_type": "stream",
     "text": [
      "Overlap ratio for iteration 7: 0.6\n32 414 446\n"
     ]
    },
    {
     "output_type": "display_data",
     "data": {
      "text/html": [
       "<style type=\"text/css\">\n",
       "</style>\n",
       "<table id=\"T_c2a2e\">\n",
       "  <caption>Intersection of Predicted and Actual SSCAT</caption>\n",
       "  <thead>\n",
       "    <tr>\n",
       "      <th class=\"blank level0\" >&nbsp;</th>\n",
       "      <th id=\"T_c2a2e_level0_col0\" class=\"col_heading level0 col0\" >sscat_id</th>\n",
       "      <th id=\"T_c2a2e_level0_col1\" class=\"col_heading level0 col1\" >sscat</th>\n",
       "    </tr>\n",
       "  </thead>\n",
       "  <tbody>\n",
       "    <tr>\n",
       "      <th id=\"T_c2a2e_level0_row0\" class=\"row_heading level0 row0\" >736</th>\n",
       "      <td id=\"T_c2a2e_row0_col0\" class=\"data row0 col0\" >1001</td>\n",
       "      <td id=\"T_c2a2e_row0_col1\" class=\"data row0 col1\" >Kurtis & Kurtas</td>\n",
       "    </tr>\n",
       "    <tr>\n",
       "      <th id=\"T_c2a2e_level0_row1\" class=\"row_heading level0 row1\" >2365</th>\n",
       "      <td id=\"T_c2a2e_row1_col0\" class=\"data row1 col0\" >1003</td>\n",
       "      <td id=\"T_c2a2e_row1_col1\" class=\"data row1 col1\" >Kurta Sets</td>\n",
       "    </tr>\n",
       "    <tr>\n",
       "      <th id=\"T_c2a2e_level0_row2\" class=\"row_heading level0 row2\" >3166</th>\n",
       "      <td id=\"T_c2a2e_row2_col0\" class=\"data row2 col0\" >1853</td>\n",
       "      <td id=\"T_c2a2e_row2_col1\" class=\"data row2 col1\" >Dupatta Sets</td>\n",
       "    </tr>\n",
       "  </tbody>\n",
       "</table>\n"
      ],
      "text/plain": [
       "<pandas.io.formats.style.Styler at 0x7a11147d9240>"
      ]
     },
     "metadata": {},
     "output_type": "display_data"
    },
    {
     "output_type": "display_data",
     "data": {
      "text/plain": [
       "'----------'"
      ]
     },
     "metadata": {},
     "output_type": "display_data"
    },
    {
     "output_type": "display_data",
     "data": {
      "text/html": [
       "<style type=\"text/css\">\n",
       "</style>\n",
       "<table id=\"T_dd5d9\">\n",
       "  <caption>Predicted SSCAT</caption>\n",
       "  <thead>\n",
       "    <tr>\n",
       "      <th class=\"blank level0\" >&nbsp;</th>\n",
       "      <th id=\"T_dd5d9_level0_col0\" class=\"col_heading level0 col0\" >sscat_id</th>\n",
       "      <th id=\"T_dd5d9_level0_col1\" class=\"col_heading level0 col1\" >sscat</th>\n",
       "    </tr>\n",
       "  </thead>\n",
       "  <tbody>\n",
       "    <tr>\n",
       "      <th id=\"T_dd5d9_level0_row0\" class=\"row_heading level0 row0\" >736</th>\n",
       "      <td id=\"T_dd5d9_row0_col0\" class=\"data row0 col0\" >1001</td>\n",
       "      <td id=\"T_dd5d9_row0_col1\" class=\"data row0 col1\" >Kurtis & Kurtas</td>\n",
       "    </tr>\n",
       "    <tr>\n",
       "      <th id=\"T_dd5d9_level0_row1\" class=\"row_heading level0 row1\" >2365</th>\n",
       "      <td id=\"T_dd5d9_row1_col0\" class=\"data row1 col0\" >1003</td>\n",
       "      <td id=\"T_dd5d9_row1_col1\" class=\"data row1 col1\" >Kurta Sets</td>\n",
       "    </tr>\n",
       "    <tr>\n",
       "      <th id=\"T_dd5d9_level0_row2\" class=\"row_heading level0 row2\" >3116</th>\n",
       "      <td id=\"T_dd5d9_row2_col0\" class=\"data row2 col0\" >1004</td>\n",
       "      <td id=\"T_dd5d9_row2_col1\" class=\"data row2 col1\" >Sarees</td>\n",
       "    </tr>\n",
       "    <tr>\n",
       "      <th id=\"T_dd5d9_level0_row3\" class=\"row_heading level0 row3\" >3166</th>\n",
       "      <td id=\"T_dd5d9_row3_col0\" class=\"data row3 col0\" >1853</td>\n",
       "      <td id=\"T_dd5d9_row3_col1\" class=\"data row3 col1\" >Dupatta Sets</td>\n",
       "    </tr>\n",
       "    <tr>\n",
       "      <th id=\"T_dd5d9_level0_row4\" class=\"row_heading level0 row4\" >3594</th>\n",
       "      <td id=\"T_dd5d9_row4_col0\" class=\"data row4 col0\" >1093</td>\n",
       "      <td id=\"T_dd5d9_row4_col1\" class=\"data row4 col1\" >Jewellery Set</td>\n",
       "    </tr>\n",
       "  </tbody>\n",
       "</table>\n"
      ],
      "text/plain": [
       "<pandas.io.formats.style.Styler at 0x7a11147d91b0>"
      ]
     },
     "metadata": {},
     "output_type": "display_data"
    },
    {
     "output_type": "display_data",
     "data": {
      "text/plain": [
       "'----------'"
      ]
     },
     "metadata": {},
     "output_type": "display_data"
    },
    {
     "output_type": "display_data",
     "data": {
      "text/html": [
       "<style type=\"text/css\">\n",
       "</style>\n",
       "<table id=\"T_a12ad\">\n",
       "  <caption>Actual SSCAT</caption>\n",
       "  <thead>\n",
       "    <tr>\n",
       "      <th class=\"blank level0\" >&nbsp;</th>\n",
       "      <th id=\"T_a12ad_level0_col0\" class=\"col_heading level0 col0\" >sscat_id</th>\n",
       "      <th id=\"T_a12ad_level0_col1\" class=\"col_heading level0 col1\" >sscat</th>\n",
       "    </tr>\n",
       "  </thead>\n",
       "  <tbody>\n",
       "    <tr>\n",
       "      <th id=\"T_a12ad_level0_row0\" class=\"row_heading level0 row0\" >321</th>\n",
       "      <td id=\"T_a12ad_row0_col0\" class=\"data row0 col0\" >1007</td>\n",
       "      <td id=\"T_a12ad_row0_col1\" class=\"data row0 col1\" >Blouses</td>\n",
       "    </tr>\n",
       "    <tr>\n",
       "      <th id=\"T_a12ad_level0_row1\" class=\"row_heading level0 row1\" >736</th>\n",
       "      <td id=\"T_a12ad_row1_col0\" class=\"data row1 col0\" >1001</td>\n",
       "      <td id=\"T_a12ad_row1_col1\" class=\"data row1 col1\" >Kurtis & Kurtas</td>\n",
       "    </tr>\n",
       "    <tr>\n",
       "      <th id=\"T_a12ad_level0_row2\" class=\"row_heading level0 row2\" >2365</th>\n",
       "      <td id=\"T_a12ad_row2_col0\" class=\"data row2 col0\" >1003</td>\n",
       "      <td id=\"T_a12ad_row2_col1\" class=\"data row2 col1\" >Kurta Sets</td>\n",
       "    </tr>\n",
       "    <tr>\n",
       "      <th id=\"T_a12ad_level0_row3\" class=\"row_heading level0 row3\" >3100</th>\n",
       "      <td id=\"T_a12ad_row3_col0\" class=\"data row3 col0\" >1055</td>\n",
       "      <td id=\"T_a12ad_row3_col1\" class=\"data row3 col1\" >Stockings</td>\n",
       "    </tr>\n",
       "    <tr>\n",
       "      <th id=\"T_a12ad_level0_row4\" class=\"row_heading level0 row4\" >3166</th>\n",
       "      <td id=\"T_a12ad_row4_col0\" class=\"data row4 col0\" >1853</td>\n",
       "      <td id=\"T_a12ad_row4_col1\" class=\"data row4 col1\" >Dupatta Sets</td>\n",
       "    </tr>\n",
       "    <tr>\n",
       "      <th id=\"T_a12ad_level0_row5\" class=\"row_heading level0 row5\" >3203</th>\n",
       "      <td id=\"T_a12ad_row5_col0\" class=\"data row5 col0\" >1010</td>\n",
       "      <td id=\"T_a12ad_row5_col1\" class=\"data row5 col1\" >Ethnic Gowns</td>\n",
       "    </tr>\n",
       "    <tr>\n",
       "      <th id=\"T_a12ad_level0_row6\" class=\"row_heading level0 row6\" >3909</th>\n",
       "      <td id=\"T_a12ad_row6_col0\" class=\"data row6 col0\" >1141</td>\n",
       "      <td id=\"T_a12ad_row6_col1\" class=\"data row6 col1\" >Frocks & Dresses</td>\n",
       "    </tr>\n",
       "    <tr>\n",
       "      <th id=\"T_a12ad_level0_row7\" class=\"row_heading level0 row7\" >3966</th>\n",
       "      <td id=\"T_a12ad_row7_col0\" class=\"data row7 col0\" >2539</td>\n",
       "      <td id=\"T_a12ad_row7_col1\" class=\"data row7 col1\" >Doormats</td>\n",
       "    </tr>\n",
       "  </tbody>\n",
       "</table>\n"
      ],
      "text/plain": [
       "<pandas.io.formats.style.Styler at 0x7a11147f04c0>"
      ]
     },
     "metadata": {},
     "output_type": "display_data"
    },
    {
     "output_type": "stream",
     "name": "stdout",
     "output_type": "stream",
     "text": [
      "Overlap ratio for iteration 8: 0.375\n26 432 458\n"
     ]
    },
    {
     "output_type": "display_data",
     "data": {
      "text/html": [
       "<style type=\"text/css\">\n",
       "</style>\n",
       "<table id=\"T_5cc69\">\n",
       "  <caption>Intersection of Predicted and Actual SSCAT</caption>\n",
       "  <thead>\n",
       "    <tr>\n",
       "      <th class=\"blank level0\" >&nbsp;</th>\n",
       "      <th id=\"T_5cc69_level0_col0\" class=\"col_heading level0 col0\" >sscat_id</th>\n",
       "      <th id=\"T_5cc69_level0_col1\" class=\"col_heading level0 col1\" >sscat</th>\n",
       "    </tr>\n",
       "  </thead>\n",
       "  <tbody>\n",
       "    <tr>\n",
       "      <th id=\"T_5cc69_level0_row0\" class=\"row_heading level0 row0\" >506</th>\n",
       "      <td id=\"T_5cc69_row0_col0\" class=\"data row0 col0\" >1020</td>\n",
       "      <td id=\"T_5cc69_row0_col1\" class=\"data row0 col1\" >Tops & Tunics</td>\n",
       "    </tr>\n",
       "    <tr>\n",
       "      <th id=\"T_5cc69_level0_row1\" class=\"row_heading level0 row1\" >2365</th>\n",
       "      <td id=\"T_5cc69_row1_col0\" class=\"data row1 col0\" >1003</td>\n",
       "      <td id=\"T_5cc69_row1_col1\" class=\"data row1 col1\" >Kurta Sets</td>\n",
       "    </tr>\n",
       "    <tr>\n",
       "      <th id=\"T_5cc69_level0_row2\" class=\"row_heading level0 row2\" >3116</th>\n",
       "      <td id=\"T_5cc69_row2_col0\" class=\"data row2 col0\" >1004</td>\n",
       "      <td id=\"T_5cc69_row2_col1\" class=\"data row2 col1\" >Sarees</td>\n",
       "    </tr>\n",
       "  </tbody>\n",
       "</table>\n"
      ],
      "text/plain": [
       "<pandas.io.formats.style.Styler at 0x7a11147f3b80>"
      ]
     },
     "metadata": {},
     "output_type": "display_data"
    },
    {
     "output_type": "display_data",
     "data": {
      "text/plain": [
       "'----------'"
      ]
     },
     "metadata": {},
     "output_type": "display_data"
    },
    {
     "output_type": "display_data",
     "data": {
      "text/html": [
       "<style type=\"text/css\">\n",
       "</style>\n",
       "<table id=\"T_6f9fc\">\n",
       "  <caption>Predicted SSCAT</caption>\n",
       "  <thead>\n",
       "    <tr>\n",
       "      <th class=\"blank level0\" >&nbsp;</th>\n",
       "      <th id=\"T_6f9fc_level0_col0\" class=\"col_heading level0 col0\" >sscat_id</th>\n",
       "      <th id=\"T_6f9fc_level0_col1\" class=\"col_heading level0 col1\" >sscat</th>\n",
       "    </tr>\n",
       "  </thead>\n",
       "  <tbody>\n",
       "    <tr>\n",
       "      <th id=\"T_6f9fc_level0_row0\" class=\"row_heading level0 row0\" >506</th>\n",
       "      <td id=\"T_6f9fc_row0_col0\" class=\"data row0 col0\" >1020</td>\n",
       "      <td id=\"T_6f9fc_row0_col1\" class=\"data row0 col1\" >Tops & Tunics</td>\n",
       "    </tr>\n",
       "    <tr>\n",
       "      <th id=\"T_6f9fc_level0_row1\" class=\"row_heading level0 row1\" >736</th>\n",
       "      <td id=\"T_6f9fc_row1_col0\" class=\"data row1 col0\" >1001</td>\n",
       "      <td id=\"T_6f9fc_row1_col1\" class=\"data row1 col1\" >Kurtis & Kurtas</td>\n",
       "    </tr>\n",
       "    <tr>\n",
       "      <th id=\"T_6f9fc_level0_row2\" class=\"row_heading level0 row2\" >2365</th>\n",
       "      <td id=\"T_6f9fc_row2_col0\" class=\"data row2 col0\" >1003</td>\n",
       "      <td id=\"T_6f9fc_row2_col1\" class=\"data row2 col1\" >Kurta Sets</td>\n",
       "    </tr>\n",
       "    <tr>\n",
       "      <th id=\"T_6f9fc_level0_row3\" class=\"row_heading level0 row3\" >3116</th>\n",
       "      <td id=\"T_6f9fc_row3_col0\" class=\"data row3 col0\" >1004</td>\n",
       "      <td id=\"T_6f9fc_row3_col1\" class=\"data row3 col1\" >Sarees</td>\n",
       "    </tr>\n",
       "    <tr>\n",
       "      <th id=\"T_6f9fc_level0_row4\" class=\"row_heading level0 row4\" >3166</th>\n",
       "      <td id=\"T_6f9fc_row4_col0\" class=\"data row4 col0\" >1853</td>\n",
       "      <td id=\"T_6f9fc_row4_col1\" class=\"data row4 col1\" >Dupatta Sets</td>\n",
       "    </tr>\n",
       "  </tbody>\n",
       "</table>\n"
      ],
      "text/plain": [
       "<pandas.io.formats.style.Styler at 0x7a11147f0160>"
      ]
     },
     "metadata": {},
     "output_type": "display_data"
    },
    {
     "output_type": "display_data",
     "data": {
      "text/plain": [
       "'----------'"
      ]
     },
     "metadata": {},
     "output_type": "display_data"
    },
    {
     "output_type": "display_data",
     "data": {
      "text/html": [
       "<style type=\"text/css\">\n",
       "</style>\n",
       "<table id=\"T_1ecc8\">\n",
       "  <caption>Actual SSCAT</caption>\n",
       "  <thead>\n",
       "    <tr>\n",
       "      <th class=\"blank level0\" >&nbsp;</th>\n",
       "      <th id=\"T_1ecc8_level0_col0\" class=\"col_heading level0 col0\" >sscat_id</th>\n",
       "      <th id=\"T_1ecc8_level0_col1\" class=\"col_heading level0 col1\" >sscat</th>\n",
       "    </tr>\n",
       "  </thead>\n",
       "  <tbody>\n",
       "    <tr>\n",
       "      <th id=\"T_1ecc8_level0_row0\" class=\"row_heading level0 row0\" >21</th>\n",
       "      <td id=\"T_1ecc8_row0_col0\" class=\"data row0 col0\" >1032</td>\n",
       "      <td id=\"T_1ecc8_row0_col1\" class=\"data row0 col1\" >Jeans</td>\n",
       "    </tr>\n",
       "    <tr>\n",
       "      <th id=\"T_1ecc8_level0_row1\" class=\"row_heading level0 row1\" >506</th>\n",
       "      <td id=\"T_1ecc8_row1_col0\" class=\"data row1 col0\" >1020</td>\n",
       "      <td id=\"T_1ecc8_row1_col1\" class=\"data row1 col1\" >Tops & Tunics</td>\n",
       "    </tr>\n",
       "    <tr>\n",
       "      <th id=\"T_1ecc8_level0_row2\" class=\"row_heading level0 row2\" >2365</th>\n",
       "      <td id=\"T_1ecc8_row2_col0\" class=\"data row2 col0\" >1003</td>\n",
       "      <td id=\"T_1ecc8_row2_col1\" class=\"data row2 col1\" >Kurta Sets</td>\n",
       "    </tr>\n",
       "    <tr>\n",
       "      <th id=\"T_1ecc8_level0_row3\" class=\"row_heading level0 row3\" >3116</th>\n",
       "      <td id=\"T_1ecc8_row3_col0\" class=\"data row3 col0\" >1004</td>\n",
       "      <td id=\"T_1ecc8_row3_col1\" class=\"data row3 col1\" >Sarees</td>\n",
       "    </tr>\n",
       "  </tbody>\n",
       "</table>\n"
      ],
      "text/plain": [
       "<pandas.io.formats.style.Styler at 0x7a11147daad0>"
      ]
     },
     "metadata": {},
     "output_type": "display_data"
    },
    {
     "output_type": "stream",
     "name": "stdout",
     "output_type": "stream",
     "text": [
      "Overlap ratio for iteration 9: 0.75\n"
     ]
    }
   ],
   "source": [
    "for i in range(10):\n",
    "    interaction_list = [ele.asDict() for ele in df[i]['interaction_list']]\n",
    "    X, sscat, sscat_logits = get_recos(interaction_list, 5)\n",
    "    # print(sscat_logits)\n",
    "    actual_sscat = set(index_to_sscat[ele] for ele in X['positive_sscat_id_seq'].tolist()[0])\n",
    "    predicted_sscat = set(sscat)\n",
    "    overlap = calculate_overlap(predicted_sscat, actual_sscat)\n",
    "    print(f\"Overlap ratio for iteration {i}: {overlap}\")"
   ]
  },
  {
   "cell_type": "markdown",
   "metadata": {
    "application/vnd.databricks.v1+cell": {
     "cellMetadata": {
      "byteLimit": 2048000,
      "rowLimit": 10000
     },
     "inputWidgets": {},
     "nuid": "ed40a3b8-9826-4ae0-9fbb-ae6aad9848a0",
     "showTitle": false,
     "tableResultSettingsMap": {},
     "title": ""
    }
   },
   "source": [
    "# Overlaps between input and future window"
   ]
  },
  {
   "cell_type": "code",
   "execution_count": 0,
   "metadata": {
    "application/vnd.databricks.v1+cell": {
     "cellMetadata": {
      "byteLimit": 2048000,
      "rowLimit": 10000
     },
     "inputWidgets": {},
     "nuid": "1a3be268-de5c-4b38-a73c-f0573f9e06a2",
     "showTitle": false,
     "tableResultSettingsMap": {},
     "title": ""
    }
   },
   "outputs": [],
   "source": [
    "output_path = 'gs://gcs-dsci-fryou-fy-dev-prd/long_term_user_emb/'\n",
    "version = \"v15\"\n",
    "data = spark.read.parquet(f\"{output_path}/user_seq_final/{version}/\")\n",
    "interaction_list = data.select(\"interaction_list\")"
   ]
  },
  {
   "cell_type": "code",
   "execution_count": 0,
   "metadata": {
    "application/vnd.databricks.v1+cell": {
     "cellMetadata": {
      "byteLimit": 2048000,
      "rowLimit": 10000
     },
     "inputWidgets": {},
     "nuid": "007865aa-b9e5-4ddb-82de-ac255af0c676",
     "showTitle": false,
     "tableResultSettingsMap": {},
     "title": ""
    }
   },
   "outputs": [
    {
     "output_type": "execute_result",
     "data": {
      "text/plain": [
       "[0.5]"
      ]
     },
     "execution_count": 140,
     "metadata": {},
     "output_type": "execute_result"
    }
   ],
   "source": [
    "from pyspark.sql.functions import col, udf, explode, count, lit, max as spark_max\n",
    "from pyspark.sql.types import FloatType\n",
    "from datetime import timedelta, datetime\n",
    "\n",
    "def get_overlap_sscat_udf(row):\n",
    "    end_time = row[-1]['event_time']\n",
    "    start_time = end_time - timedelta(days=14)\n",
    "    input_seq = [event['sscat_id'] for event in row if event['event_time'] < start_time]\n",
    "    positive_seq = [event['sscat_id'] for event in row if event['event_time'] >= start_time]\n",
    "    input_sscat_set = set(input_seq)\n",
    "    positive_sscat_set = set(positive_seq)\n",
    "    overlap_sscat = input_sscat_set.intersection(positive_sscat_set)\n",
    "    overlap_ratio = len(overlap_sscat) / len(positive_sscat_set) if positive_seq else 0\n",
    "    return overlap_ratio\n",
    "\n",
    "get_overlap_sscat = udf(get_overlap_sscat_udf, FloatType())\n",
    "\n",
    "sdf_with_overlap = data.withColumn(\"overlap_ratio\", get_overlap_sscat(col(\"interaction_list\")))\n",
    "\n",
    "percentiles = sdf_with_overlap.approxQuantile(\"overlap_ratio\", [0.5], 0.0)\n",
    "percentiles"
   ]
  },
  {
   "cell_type": "code",
   "execution_count": 0,
   "metadata": {
    "application/vnd.databricks.v1+cell": {
     "cellMetadata": {
      "byteLimit": 2048000,
      "rowLimit": 10000
     },
     "inputWidgets": {},
     "nuid": "b694dae8-4025-4c47-93ec-1eaadb0aa978",
     "showTitle": false,
     "tableResultSettingsMap": {},
     "title": ""
    }
   },
   "outputs": [
    {
     "output_type": "execute_result",
     "data": {
      "text/plain": [
       "[5.0]"
      ]
     },
     "execution_count": 141,
     "metadata": {},
     "output_type": "execute_result"
    }
   ],
   "source": [
    "def get_sscat_count_udf(row):\n",
    "    end_time = row[-1]['event_time']\n",
    "    start_time = end_time - timedelta(days=14)\n",
    "    # input_seq = [event['sscat_id'] for event in row if event['event_time'] >= start_time]\n",
    "    positive_seq = [event['sscat_id'] for event in row if event['event_time'] >= start_time]\n",
    "    # input_sscat_set = set(input_seq)\n",
    "    positive_sscat_set = set(positive_seq)\n",
    "    return len(positive_sscat_set)\n",
    "\n",
    "get_overlap_sscat = udf(get_sscat_count_udf, IntegerType())\n",
    "\n",
    "sdf_with_overlap = data.withColumn(\"overlap_ratio\", get_overlap_sscat(col(\"interaction_list\")))\n",
    "\n",
    "# sdf_with_overlap.display()\n",
    "\n",
    "percentiles = sdf_with_overlap.approxQuantile(\"overlap_ratio\", [0.5], 0.0)\n",
    "percentiles"
   ]
  },
  {
   "cell_type": "code",
   "execution_count": 0,
   "metadata": {
    "application/vnd.databricks.v1+cell": {
     "cellMetadata": {
      "byteLimit": 2048000,
      "rowLimit": 10000
     },
     "inputWidgets": {},
     "nuid": "756fe0cf-8fae-4fa0-bf25-a23e1da0b8b5",
     "showTitle": false,
     "tableResultSettingsMap": {},
     "title": ""
    }
   },
   "outputs": [
    {
     "output_type": "display_data",
     "data": {
      "text/html": [
       "<style scoped>\n",
       "  .table-result-container {\n",
       "    max-height: 300px;\n",
       "    overflow: auto;\n",
       "  }\n",
       "  table, th, td {\n",
       "    border: 1px solid black;\n",
       "    border-collapse: collapse;\n",
       "  }\n",
       "  th, td {\n",
       "    padding: 5px;\n",
       "  }\n",
       "  th {\n",
       "    text-align: left;\n",
       "  }\n",
       "</style><div class='table-result-container'><table class='table-result'><thead style='background-color: white'><tr><th>sscat_id</th><th>count(1)</th></tr></thead><tbody><tr><td>1886</td><td>28235</td></tr><tr><td>5919</td><td>60846</td></tr><tr><td>4455</td><td>3800</td></tr><tr><td>1047</td><td>253576</td></tr><tr><td>5906</td><td>187482</td></tr><tr><td>1181</td><td>489520</td></tr><tr><td>1622</td><td>5301</td></tr><tr><td>3431</td><td>5470</td></tr><tr><td>3635</td><td>717</td></tr><tr><td>3576</td><td>1407</td></tr><tr><td>3398</td><td>807</td></tr><tr><td>2941</td><td>24624</td></tr><tr><td>5829</td><td>15339</td></tr><tr><td>2804</td><td>3741</td></tr><tr><td>2693</td><td>312816</td></tr><tr><td>1603</td><td>9787</td></tr><tr><td>1402</td><td>147985</td></tr><tr><td>5439</td><td>4440</td></tr><tr><td>2343</td><td>1390</td></tr><tr><td>4949</td><td>1322</td></tr><tr><td>4035</td><td>5154</td></tr><tr><td>4377</td><td>99</td></tr><tr><td>3879</td><td>1663</td></tr><tr><td>2700</td><td>5185</td></tr><tr><td>3838</td><td>602</td></tr><tr><td>5845</td><td>302188</td></tr><tr><td>1556</td><td>1279</td></tr><tr><td>4440</td><td>1038</td></tr><tr><td>2223</td><td>31241</td></tr><tr><td>3490</td><td>43461</td></tr><tr><td>5468</td><td>2210</td></tr><tr><td>2060</td><td>5729</td></tr><tr><td>3742</td><td>6487</td></tr><tr><td>1618</td><td>3386</td></tr><tr><td>3149</td><td>875</td></tr><tr><td>3420</td><td>101</td></tr><tr><td>4406</td><td>12198</td></tr><tr><td>2995</td><td>9777</td></tr><tr><td>1055</td><td>457773</td></tr><tr><td>2747</td><td>18031</td></tr><tr><td>5634</td><td>12749</td></tr><tr><td>4373</td><td>82</td></tr><tr><td>4119</td><td>1028</td></tr><tr><td>2976</td><td>120768</td></tr><tr><td>2525</td><td>398168</td></tr><tr><td>4429</td><td>2299</td></tr><tr><td>5501</td><td>47966</td></tr><tr><td>1318</td><td>99047</td></tr><tr><td>1381</td><td>65296</td></tr><tr><td>4165</td><td>870</td></tr><tr><td>1840</td><td>1870</td></tr><tr><td>2724</td><td>1139</td></tr><tr><td>2500</td><td>92499</td></tr><tr><td>1509</td><td>16010</td></tr><tr><td>5029</td><td>8311</td></tr><tr><td>4388</td><td>3308</td></tr><tr><td>1161</td><td>762374</td></tr><tr><td>3210</td><td>1984</td></tr><tr><td>5094</td><td>12082</td></tr><tr><td>2604</td><td>30129</td></tr><tr><td>5446</td><td>101</td></tr><tr><td>5091</td><td>25293</td></tr><tr><td>2406</td><td>560301</td></tr><tr><td>2367</td><td>316453</td></tr><tr><td>1924</td><td>73427</td></tr><tr><td>5821</td><td>9643</td></tr><tr><td>4535</td><td>58294</td></tr><tr><td>5568</td><td>34255</td></tr><tr><td>5499</td><td>472219</td></tr><tr><td>2471</td><td>23351</td></tr><tr><td>1486</td><td>77703</td></tr><tr><td>3297</td><td>5922</td></tr><tr><td>4338</td><td>2781</td></tr><tr><td>4925</td><td>247</td></tr><tr><td>1524</td><td>7159</td></tr><tr><td>2517</td><td>186875</td></tr><tr><td>2355</td><td>109850</td></tr><tr><td>5532</td><td>69706</td></tr><tr><td>3968</td><td>16394</td></tr><tr><td>2735</td><td>3677</td></tr><tr><td>2089</td><td>1348</td></tr><tr><td>4450</td><td>333</td></tr><tr><td>4281</td><td>364</td></tr><tr><td>4789</td><td>302</td></tr><tr><td>3613</td><td>167</td></tr><tr><td>4395</td><td>613</td></tr><tr><td>3522</td><td>517</td></tr><tr><td>3002</td><td>70</td></tr><tr><td>4540</td><td>57</td></tr><tr><td>3881</td><td>67</td></tr><tr><td>3248</td><td>17</td></tr><tr><td>5755</td><td>186</td></tr><tr><td>4273</td><td>151</td></tr><tr><td>4180</td><td>146</td></tr><tr><td>2781</td><td>69</td></tr><tr><td>2752</td><td>123</td></tr><tr><td>5106</td><td>260</td></tr><tr><td>4086</td><td>59</td></tr><tr><td>4378</td><td>7</td></tr><tr><td>3146</td><td>83</td></tr><tr><td>3946</td><td>43</td></tr><tr><td>3569</td><td>97</td></tr><tr><td>4334</td><td>46</td></tr><tr><td>3816</td><td>3</td></tr><tr><td>3135</td><td>111</td></tr><tr><td>2902</td><td>108</td></tr><tr><td>1547</td><td>58</td></tr><tr><td>4347</td><td>11</td></tr><tr><td>2969</td><td>15</td></tr><tr><td>4853</td><td>11</td></tr><tr><td>1537</td><td>1</td></tr><tr><td>3263</td><td>3</td></tr><tr><td>4403</td><td>1</td></tr><tr><td>2169</td><td>122979</td></tr><tr><td>5507</td><td>9620</td></tr><tr><td>3034</td><td>8840</td></tr><tr><td>2231</td><td>25872</td></tr><tr><td>2550</td><td>123578</td></tr><tr><td>3434</td><td>1343</td></tr><tr><td>2460</td><td>4358</td></tr><tr><td>5764</td><td>905</td></tr><tr><td>2357</td><td>34684</td></tr><tr><td>2166</td><td>2924</td></tr><tr><td>2193</td><td>849</td></tr><tr><td>2742</td><td>2386</td></tr><tr><td>5009</td><td>3346</td></tr><tr><td>3404</td><td>444</td></tr><tr><td>4938</td><td>10993</td></tr><tr><td>2908</td><td>2152</td></tr><tr><td>2382</td><td>20734</td></tr><tr><td>2656</td><td>734572</td></tr><tr><td>5675</td><td>523</td></tr><tr><td>1871</td><td>24095</td></tr><tr><td>3125</td><td>1306</td></tr><tr><td>5917</td><td>7480</td></tr><tr><td>2292</td><td>61149</td></tr><tr><td>5966</td><td>569</td></tr><tr><td>1124</td><td>910</td></tr><tr><td>2773</td><td>1814</td></tr><tr><td>2723</td><td>362</td></tr><tr><td>1173</td><td>1062372</td></tr><tr><td>2129</td><td>24681</td></tr><tr><td>5607</td><td>69942</td></tr><tr><td>4995</td><td>4979</td></tr><tr><td>1656</td><td>525344</td></tr><tr><td>2183</td><td>70804</td></tr><tr><td>5569</td><td>31248</td></tr><tr><td>5684</td><td>228</td></tr><tr><td>3485</td><td>20434</td></tr><tr><td>2288</td><td>7446</td></tr><tr><td>5480</td><td>37364</td></tr><tr><td>1032</td><td>3230289</td></tr><tr><td>3270</td><td>1530</td></tr><tr><td>1216</td><td>177906</td></tr><tr><td>4111</td><td>49444</td></tr><tr><td>2988</td><td>1743</td></tr><tr><td>5689</td><td>72824</td></tr><tr><td>2737</td><td>142889</td></tr><tr><td>3622</td><td>4624</td></tr><tr><td>3758</td><td>174</td></tr><tr><td>1580</td><td>65943</td></tr><tr><td>1823</td><td>30751</td></tr><tr><td>1218</td><td>31387</td></tr><tr><td>4463</td><td>1424</td></tr><tr><td>5074</td><td>1157</td></tr><tr><td>2664</td><td>29556</td></tr><tr><td>1012</td><td>5437</td></tr><tr><td>2718</td><td>9187</td></tr><tr><td>1392</td><td>229</td></tr><tr><td>4490</td><td>3899</td></tr><tr><td>1170</td><td>729668</td></tr><tr><td>1084</td><td>297058</td></tr><tr><td>4279</td><td>8854</td></tr><tr><td>3348</td><td>4116</td></tr><tr><td>1091</td><td>5960123</td></tr><tr><td>1937</td><td>26338</td></tr><tr><td>1447</td><td>2550</td></tr><tr><td>5036</td><td>224</td></tr><tr><td>1137</td><td>1200884</td></tr><tr><td>2691</td><td>74505</td></tr><tr><td>2799</td><td>4636</td></tr><tr><td>3342</td><td>4234</td></tr><tr><td>1488</td><td>1490</td></tr><tr><td>2456</td><td>7392</td></tr><tr><td>2330</td><td>642846</td></tr><tr><td>2665</td><td>1504</td></tr><tr><td>4239</td><td>113</td></tr><tr><td>1190</td><td>78883</td></tr><tr><td>5586</td><td>63232</td></tr><tr><td>1315</td><td>32636</td></tr><tr><td>5776</td><td>20870</td></tr><tr><td>4470</td><td>6752</td></tr><tr><td>4505</td><td>2384</td></tr><tr><td>4316</td><td>101</td></tr><tr><td>1889</td><td>394</td></tr><tr><td>3681</td><td>215</td></tr><tr><td>3335</td><td>319</td></tr><tr><td>4002</td><td>566</td></tr><tr><td>3517</td><td>1273</td></tr><tr><td>2933</td><td>654</td></tr><tr><td>4286</td><td>88</td></tr><tr><td>2086</td><td>93</td></tr><tr><td>5753</td><td>88</td></tr><tr><td>4658</td><td>540</td></tr><tr><td>1862</td><td>81</td></tr><tr><td>2850</td><td>225</td></tr><tr><td>4042</td><td>39</td></tr><tr><td>4011</td><td>109</td></tr><tr><td>5160</td><td>32</td></tr><tr><td>2957</td><td>296</td></tr><tr><td>4914</td><td>27</td></tr><tr><td>4963</td><td>410</td></tr><tr><td>4445</td><td>56</td></tr><tr><td>3843</td><td>38</td></tr><tr><td>3830</td><td>80</td></tr><tr><td>3394</td><td>30</td></tr><tr><td>4943</td><td>2</td></tr><tr><td>3781</td><td>8</td></tr><tr><td>4012</td><td>25</td></tr><tr><td>5955</td><td>55</td></tr><tr><td>5725</td><td>14</td></tr><tr><td>3820</td><td>17</td></tr><tr><td>3313</td><td>55</td></tr><tr><td>4190</td><td>29</td></tr><tr><td>5818</td><td>7</td></tr><tr><td>4974</td><td>4</td></tr><tr><td>5706</td><td>4</td></tr><tr><td>2080</td><td>39424</td></tr><tr><td>1867</td><td>6419</td></tr><tr><td>1625</td><td>67095</td></tr><tr><td>1139</td><td>52493</td></tr><tr><td>3218</td><td>219</td></tr><tr><td>1853</td><td>15316292</td></tr><tr><td>3038</td><td>68400</td></tr><tr><td>4027</td><td>5718</td></tr><tr><td>5530</td><td>4651</td></tr><tr><td>5653</td><td>15137</td></tr><tr><td>1143</td><td>419805</td></tr><tr><td>1142</td><td>624381</td></tr><tr><td>3193</td><td>960</td></tr><tr><td>3798</td><td>143</td></tr><tr><td>4083</td><td>1961</td></tr><tr><td>4454</td><td>1240</td></tr><tr><td>3092</td><td>2546</td></tr><tr><td>3314</td><td>1052</td></tr><tr><td>2811</td><td>2902</td></tr><tr><td>1209</td><td>1092852</td></tr><tr><td>5929</td><td>48313</td></tr><tr><td>2654</td><td>8244</td></tr><tr><td>5144</td><td>83681</td></tr><tr><td>2548</td><td>98780</td></tr><tr><td>5012</td><td>18041</td></tr><tr><td>3631</td><td>1134</td></tr><tr><td>1214</td><td>688930</td></tr><tr><td>1105</td><td>44588</td></tr><tr><td>2761</td><td>9361</td></tr><tr><td>4139</td><td>487</td></tr><tr><td>3232</td><td>3800</td></tr><tr><td>5663</td><td>31665</td></tr><tr><td>3754</td><td>105</td></tr><tr><td>3414</td><td>1553</td></tr><tr><td>2289</td><td>24162</td></tr><tr><td>3863</td><td>6643</td></tr><tr><td>2542</td><td>49200</td></tr><tr><td>1025</td><td>8139298</td></tr><tr><td>5559</td><td>59958</td></tr><tr><td>4277</td><td>355</td></tr><tr><td>1747</td><td>583</td></tr><tr><td>2077</td><td>47412</td></tr><tr><td>3281</td><td>2225</td></tr><tr><td>4486</td><td>10957</td></tr><tr><td>3445</td><td>1520</td></tr><tr><td>4025</td><td>18715</td></tr><tr><td>4497</td><td>1390</td></tr><tr><td>4163</td><td>2290</td></tr><tr><td>2064</td><td>376590</td></tr><tr><td>2730</td><td>30808</td></tr><tr><td>5670</td><td>8610</td></tr><tr><td>1909</td><td>7991</td></tr><tr><td>2757</td><td>13196</td></tr><tr><td>3623</td><td>9568</td></tr><tr><td>2388</td><td>32282</td></tr><tr><td>5848</td><td>2906</td></tr><tr><td>5561</td><td>13083</td></tr><tr><td>1616</td><td>31721</td></tr><tr><td>4390</td><td>20870</td></tr><tr><td>4845</td><td>111</td></tr><tr><td>1219</td><td>54880</td></tr><tr><td>1056</td><td>217024</td></tr><tr><td>5037</td><td>7977</td></tr><tr><td>3685</td><td>2592</td></tr><tr><td>2328</td><td>7995</td></tr><tr><td>4684</td><td>2150</td></tr><tr><td>2436</td><td>29068</td></tr><tr><td>4156</td><td>484</td></tr><tr><td>1917</td><td>21848</td></tr><tr><td>5552</td><td>79979</td></tr><tr><td>3121</td><td>1663</td></tr><tr><td>1449</td><td>873741</td></tr><tr><td>5483</td><td>117266</td></tr><tr><td>1904</td><td>41790</td></tr><tr><td>1600</td><td>15952</td></tr><tr><td>3213</td><td>1719</td></tr><tr><td>5819</td><td>1997</td></tr><tr><td>2318</td><td>460665</td></tr><tr><td>1822</td><td>13227</td></tr><tr><td>5780</td><td>335</td></tr><tr><td>1608</td><td>260</td></tr><tr><td>2477</td><td>583</td></tr><tr><td>4439</td><td>636</td></tr><tr><td>3090</td><td>340</td></tr><tr><td>5000</td><td>9</td></tr><tr><td>3762</td><td>263</td></tr><tr><td>4888</td><td>51</td></tr><tr><td>2602</td><td>104</td></tr><tr><td>5737</td><td>495</td></tr><tr><td>3448</td><td>443</td></tr><tr><td>4109</td><td>46</td></tr><tr><td>3836</td><td>151</td></tr><tr><td>3614</td><td>294</td></tr><tr><td>4305</td><td>66</td></tr><tr><td>5787</td><td>217</td></tr><tr><td>5155</td><td>77</td></tr><tr><td>3587</td><td>122</td></tr><tr><td>3853</td><td>9</td></tr><tr><td>5792</td><td>17</td></tr><tr><td>4509</td><td>40</td></tr><tr><td>4858</td><td>17</td></tr><tr><td>4917</td><td>156</td></tr><tr><td>1854</td><td>17</td></tr><tr><td>4942</td><td>78</td></tr><tr><td>3926</td><td>3</td></tr><tr><td>4855</td><td>15</td></tr><tr><td>3990</td><td>16</td></tr><tr><td>4920</td><td>1</td></tr><tr><td>5838</td><td>25</td></tr><tr><td>3960</td><td>57</td></tr><tr><td>4982</td><td>18</td></tr><tr><td>5734</td><td>3</td></tr><tr><td>3141</td><td>6</td></tr><tr><td>1964</td><td>18</td></tr><tr><td>3950</td><td>4</td></tr><tr><td>5132</td><td>6</td></tr><tr><td>4866</td><td>3</td></tr><tr><td>5869</td><td>1</td></tr><tr><td>2952</td><td>1525</td></tr><tr><td>1474</td><td>1305</td></tr><tr><td>3476</td><td>877</td></tr><tr><td>4531</td><td>6476</td></tr><tr><td>1710</td><td>579</td></tr><tr><td>3264</td><td>176</td></tr><tr><td>1640</td><td>779426</td></tr><tr><td>2308</td><td>140411</td></tr><tr><td>5849</td><td>53244</td></tr><tr><td>5034</td><td>43674</td></tr><tr><td>2301</td><td>314</td></tr><tr><td>1679</td><td>3270</td></tr><tr><td>1883</td><td>3393</td></tr><tr><td>2699</td><td>2109</td></tr><tr><td>5079</td><td>156565</td></tr><tr><td>2262</td><td>70148</td></tr><tr><td>4081</td><td>31514</td></tr><tr><td>5581</td><td>9396</td></tr><tr><td>2494</td><td>1796</td></tr><tr><td>2928</td><td>9521</td></tr><tr><td>2758</td><td>4217</td></tr><tr><td>3595</td><td>1477</td></tr><tr><td>3570</td><td>7106</td></tr><tr><td>2744</td><td>6817</td></tr><tr><td>3060</td><td>1063</td></tr><tr><td>3207</td><td>1561</td></tr><tr><td>3670</td><td>1667</td></tr><tr><td>1038</td><td>302785</td></tr><tr><td>4533</td><td>2563</td></tr><tr><td>5545</td><td>323678</td></tr><tr><td>5896</td><td>10568</td></tr><tr><td>4031</td><td>9333</td></tr><tr><td>2368</td><td>26362</td></tr><tr><td>2852</td><td>1855</td></tr><tr><td>3371</td><td>6463</td></tr><tr><td>3019</td><td>28248</td></tr><tr><td>3004</td><td>18312</td></tr><tr><td>2844</td><td>2922</td></tr><tr><td>2966</td><td>43506</td></tr><tr><td>2676</td><td>106505</td></tr><tr><td>5527</td><td>35240</td></tr><tr><td>5831</td><td>14296</td></tr><tr><td>3307</td><td>2422</td></tr><tr><td>1672</td><td>7313</td></tr><tr><td>2552</td><td>3354</td></tr><tr><td>2533</td><td>64185</td></tr><tr><td>1719</td><td>22352</td></tr><tr><td>5465</td><td>9273</td></tr><tr><td>5656</td><td>20971</td></tr><tr><td>5624</td><td>2030</td></tr><tr><td>4103</td><td>42046</td></tr><tr><td>2321</td><td>176774</td></tr><tr><td>3611</td><td>5606</td></tr><tr><td>2580</td><td>4891</td></tr><tr><td>2070</td><td>8373</td></tr><tr><td>2497</td><td>1256</td></tr><tr><td>3265</td><td>1624</td></tr><tr><td>2733</td><td>9475</td></tr><tr><td>3590</td><td>39299</td></tr><tr><td>4355</td><td>1420</td></tr><tr><td>3179</td><td>26849</td></tr><tr><td>2408</td><td>21804</td></tr><tr><td>5649</td><td>11649</td></tr><tr><td>2922</td><td>2242</td></tr><tr><td>5672</td><td>2676</td></tr><tr><td>5605</td><td>1486644</td></tr><tr><td>4386</td><td>9426</td></tr><tr><td>2992</td><td>284</td></tr><tr><td>5970</td><td>659</td></tr><tr><td>1644</td><td>789594</td></tr><tr><td>1002</td><td>4476656</td></tr><tr><td>1589</td><td>36590</td></tr><tr><td>5585</td><td>18826</td></tr><tr><td>4340</td><td>670</td></tr><tr><td>2568</td><td>12982</td></tr><tr><td>3396</td><td>863</td></tr><tr><td>1557</td><td>24</td></tr><tr><td>1724</td><td>599</td></tr><tr><td>4218</td><td>305</td></tr><tr><td>5965</td><td>749</td></tr><tr><td>1722</td><td>516</td></tr><tr><td>4413</td><td>2394</td></tr><tr><td>3658</td><td>1099</td></tr><tr><td>2805</td><td>783</td></tr><tr><td>3615</td><td>361</td></tr><tr><td>4207</td><td>136</td></tr><tr><td>4359</td><td>870</td></tr><tr><td>3056</td><td>475</td></tr><tr><td>1592</td><td>467</td></tr><tr><td>2445</td><td>408</td></tr><tr><td>3470</td><td>429</td></tr><tr><td>5131</td><td>69</td></tr><tr><td>3582</td><td>86</td></tr><tr><td>4729</td><td>158</td></tr><tr><td>2273</td><td>58</td></tr><tr><td>4830</td><td>49</td></tr><tr><td>3242</td><td>74</td></tr><tr><td>3996</td><td>5</td></tr><tr><td>3167</td><td>23</td></tr><tr><td>4145</td><td>108</td></tr><tr><td>5813</td><td>32</td></tr><tr><td>3388</td><td>9</td></tr><tr><td>3105</td><td>83</td></tr><tr><td>3461</td><td>31</td></tr><tr><td>3746</td><td>44</td></tr><tr><td>3243</td><td>41</td></tr><tr><td>2563</td><td>2</td></tr><tr><td>4709</td><td>16</td></tr><tr><td>5840</td><td>36</td></tr><tr><td>3931</td><td>17</td></tr><tr><td>2978</td><td>14</td></tr><tr><td>4006</td><td>4</td></tr><tr><td>4299</td><td>2</td></tr><tr><td>3959</td><td>7</td></tr><tr><td>4841</td><td>4</td></tr><tr><td>3647</td><td>5</td></tr><tr><td>3245</td><td>16662</td></tr><tr><td>3930</td><td>2830</td></tr><tr><td>2303</td><td>696</td></tr><tr><td>5174</td><td>2425</td></tr><tr><td>1155</td><td>2040</td></tr><tr><td>2853</td><td>396</td></tr><tr><td>1134</td><td>70</td></tr><tr><td>2241</td><td>213</td></tr><tr><td>1045</td><td>2195327</td></tr><tr><td>2726</td><td>9557</td></tr><tr><td>3551</td><td>379</td></tr><tr><td>3023</td><td>96554</td></tr><tr><td>1615</td><td>5947</td></tr><tr><td>3605</td><td>189</td></tr><tr><td>3535</td><td>1032</td></tr><tr><td>1295</td><td>5359</td></tr><tr><td>3168</td><td>6400</td></tr><tr><td>2984</td><td>4435</td></tr><tr><td>1942</td><td>3134</td></tr><tr><td>2432</td><td>11778</td></tr><tr><td>1098</td><td>882068</td></tr><tr><td>5040</td><td>122329</td></tr><tr><td>2657</td><td>60759</td></tr><tr><td>5630</td><td>9488</td></tr><tr><td>1419</td><td>84172</td></tr><tr><td>3969</td><td>2233</td></tr><tr><td>1506</td><td>6256</td></tr><tr><td>5810</td><td>209</td></tr><tr><td>4196</td><td>315</td></tr><tr><td>4164</td><td>1038</td></tr><tr><td>5842</td><td>121273</td></tr><tr><td>1581</td><td>48566</td></tr><tr><td>5572</td><td>29762</td></tr><tr><td>2546</td><td>413714</td></tr><tr><td>1931</td><td>9264</td></tr><tr><td>4489</td><td>7826</td></tr><tr><td>3083</td><td>592</td></tr><tr><td>5647</td><td>6925</td></tr><tr><td>2082</td><td>400</td></tr><tr><td>5511</td><td>150411</td></tr><tr><td>2087</td><td>5790</td></tr><tr><td>4061</td><td>82316</td></tr><tr><td>3771</td><td>102</td></tr><tr><td>2520</td><td>24364</td></tr><tr><td>5035</td><td>5485</td></tr><tr><td>4656</td><td>605</td></tr><tr><td>3612</td><td>1545</td></tr><tr><td>4037</td><td>8665</td></tr><tr><td>1828</td><td>5693</td></tr><tr><td>3419</td><td>738</td></tr><tr><td>3580</td><td>830</td></tr><tr><td>3157</td><td>269</td></tr><tr><td>1619</td><td>13240</td></tr><tr><td>3594</td><td>1466</td></tr><tr><td>3878</td><td>2588</td></tr><tr><td>4124</td><td>259</td></tr><tr><td>1858</td><td>625</td></tr><tr><td>2073</td><td>27874</td></tr><tr><td>2264</td><td>175871</td></tr><tr><td>1109</td><td>563</td></tr><tr><td>3392</td><td>72</td></tr><tr><td>1638</td><td>1809</td></tr><tr><td>5943</td><td>742</td></tr><tr><td>2179</td><td>641</td></tr><tr><td>2531</td><td>1068805</td></tr><tr><td>3609</td><td>1106</td></tr><tr><td>1029</td><td>357810</td></tr><tr><td>4016</td><td>32399</td></tr><tr><td>1195</td><td>303058</td></tr><tr><td>1631</td><td>343</td></tr><tr><td>3155</td><td>12483</td></tr><tr><td>2174</td><td>448354</td></tr><tr><td>2345</td><td>207155</td></tr><tr><td>3005</td><td>72866</td></tr><tr><td>3706</td><td>15353</td></tr><tr><td>1595</td><td>227578</td></tr><tr><td>5948</td><td>5163</td></tr><tr><td>3013</td><td>6846</td></tr><tr><td>1670</td><td>2939</td></tr><tr><td>5310</td><td>270</td></tr><tr><td>1579</td><td>96196</td></tr><tr><td>1910</td><td>7618</td></tr><tr><td>1583</td><td>9796</td></tr><tr><td>5800</td><td>2089</td></tr><tr><td>2820</td><td>417</td></tr><tr><td>5804</td><td>1145</td></tr><tr><td>4192</td><td>88</td></tr><tr><td>1630</td><td>175</td></tr><tr><td>3524</td><td>3</td></tr><tr><td>5987</td><td>270</td></tr><tr><td>1786</td><td>140</td></tr><tr><td>4368</td><td>206</td></tr><tr><td>4428</td><td>428</td></tr><tr><td>3851</td><td>425</td></tr><tr><td>4434</td><td>699</td></tr><tr><td>5498</td><td>286</td></tr><tr><td>1518</td><td>15</td></tr><tr><td>4714</td><td>396</td></tr><tr><td>3917</td><td>31</td></tr><tr><td>1755</td><td>7</td></tr><tr><td>4947</td><td>3</td></tr><tr><td>5887</td><td>215</td></tr><tr><td>4248</td><td>220</td></tr><tr><td>4147</td><td>166</td></tr><tr><td>4667</td><td>49</td></tr><tr><td>4892</td><td>197</td></tr><tr><td>4360</td><td>75</td></tr><tr><td>3488</td><td>70</td></tr><tr><td>3741</td><td>33</td></tr><tr><td>3422</td><td>192</td></tr><tr><td>4456</td><td>73</td></tr><tr><td>5989</td><td>42</td></tr><tr><td>2322</td><td>12</td></tr><tr><td>3924</td><td>61</td></tr><tr><td>4229</td><td>53</td></tr><tr><td>4932</td><td>15</td></tr><tr><td>4443</td><td>78</td></tr><tr><td>3947</td><td>22</td></tr><tr><td>3789</td><td>4</td></tr><tr><td>5098</td><td>5</td></tr><tr><td>1526</td><td>41</td></tr><tr><td>4175</td><td>9</td></tr><tr><td>4761</td><td>11</td></tr><tr><td>5127</td><td>1</td></tr><tr><td>3886</td><td>1</td></tr><tr><td>5704</td><td>4</td></tr><tr><td>5789</td><td>2</td></tr><tr><td>4763</td><td>2</td></tr><tr><td>4153</td><td>6</td></tr><tr><td>3338</td><td>1</td></tr><tr><td>2558</td><td>18386</td></tr><tr><td>5928</td><td>13013</td></tr><tr><td>3846</td><td>1356</td></tr><tr><td>5886</td><td>151656</td></tr><tr><td>2516</td><td>69105</td></tr><tr><td>1266</td><td>100386</td></tr><tr><td>2750</td><td>6376</td></tr><tr><td>5998</td><td>409314</td></tr><tr><td>2642</td><td>127391</td></tr><tr><td>5638</td><td>135201</td></tr><tr><td>5576</td><td>45849</td></tr><tr><td>5512</td><td>252960</td></tr><tr><td>1090</td><td>54869</td></tr><tr><td>1344</td><td>570</td></tr><tr><td>4387</td><td>10738</td></tr><tr><td>1176</td><td>2368</td></tr><tr><td>4053</td><td>14476</td></tr><tr><td>2706</td><td>831</td></tr><tr><td>4447</td><td>3115</td></tr><tr><td>4203</td><td>3123</td></tr><tr><td>1292</td><td>46025</td></tr><tr><td>2229</td><td>3658</td></tr><tr><td>4692</td><td>6745</td></tr><tr><td>1160</td><td>11800</td></tr><tr><td>5893</td><td>31919</td></tr><tr><td>1291</td><td>18671</td></tr><tr><td>1612</td><td>7417</td></tr><tr><td>1671</td><td>2971</td></tr><tr><td>5770</td><td>763</td></tr><tr><td>1464</td><td>1325</td></tr><tr><td>1613</td><td>89804</td></tr><tr><td>3458</td><td>70</td></tr><tr><td>3885</td><td>817</td></tr><tr><td>2091</td><td>3566</td></tr><tr><td>5147</td><td>369</td></tr><tr><td>2068</td><td>334452</td></tr><tr><td>2740</td><td>91644</td></tr><tr><td>1652</td><td>15592</td></tr><tr><td>5537</td><td>481</td></tr><tr><td>3544</td><td>1909</td></tr><tr><td>5134</td><td>2734</td></tr><tr><td>3533</td><td>2562</td></tr><tr><td>4300</td><td>7332</td></tr><tr><td>1022</td><td>1316818</td></tr><tr><td>1720</td><td>25387</td></tr><tr><td>4181</td><td>2036</td></tr><tr><td>3509</td><td>717</td></tr><tr><td>2581</td><td>31014</td></tr><tr><td>4071</td><td>6010</td></tr><tr><td>3523</td><td>1367</td></tr><tr><td>4282</td><td>16098</td></tr><tr><td>4049</td><td>10634</td></tr><tr><td>1529</td><td>4669</td></tr><tr><td>4258</td><td>2232</td></tr><tr><td>2669</td><td>597591</td></tr><tr><td>2729</td><td>258306</td></tr><tr><td>2601</td><td>25097</td></tr><tr><td>3378</td><td>308</td></tr><tr><td>3099</td><td>10109</td></tr><tr><td>5892</td><td>1765</td></tr><tr><td>3558</td><td>258</td></tr><tr><td>1864</td><td>62996</td></tr><tr><td>5959</td><td>83</td></tr><tr><td>1167</td><td>182167</td></tr><tr><td>5801</td><td>249497</td></tr><tr><td>5850</td><td>5323</td></tr><tr><td>4503</td><td>2254</td></tr><tr><td>2762</td><td>723</td></tr><tr><td>5595</td><td>2138</td></tr><tr><td>1857</td><td>500910</td></tr><tr><td>5618</td><td>1341</td></tr><tr><td>3063</td><td>5828</td></tr><tr><td>3749</td><td>5779</td></tr><tr><td>3547</td><td>2771</td></tr><tr><td>2694</td><td>2176</td></tr><tr><td>2168</td><td>37725</td></tr><tr><td>1902</td><td>8050</td></tr><tr><td>5014</td><td>3813</td></tr><tr><td>1702</td><td>2446</td></tr><tr><td>3397</td><td>294</td></tr><tr><td>5931</td><td>398</td></tr><tr><td>4364</td><td>207</td></tr><tr><td>2914</td><td>1425</td></tr><tr><td>2878</td><td>593</td></tr><tr><td>3182</td><td>115</td></tr><tr><td>2422</td><td>649</td></tr><tr><td>3865</td><td>412</td></tr><tr><td>3428</td><td>716</td></tr><tr><td>2397</td><td>711</td></tr><tr><td>1224</td><td>626</td></tr><tr><td>2695</td><td>284</td></tr><tr><td>1432</td><td>100</td></tr><tr><td>4726</td><td>16</td></tr><tr><td>4178</td><td>440</td></tr><tr><td>3239</td><td>1099</td></tr><tr><td>2453</td><td>831</td></tr><tr><td>4526</td><td>184</td></tr><tr><td>2440</td><td>604</td></tr><tr><td>2945</td><td>364</td></tr><tr><td>4940</td><td>68</td></tr><tr><td>2239</td><td>11</td></tr><tr><td>3888</td><td>60</td></tr><tr><td>4727</td><td>68</td></tr><tr><td>3379</td><td>26</td></tr><tr><td>4954</td><td>14</td></tr><tr><td>5853</td><td>12</td></tr><tr><td>3212</td><td>42</td></tr><tr><td>4080</td><td>66</td></tr><tr><td>4968</td><td>18</td></tr><tr><td>4210</td><td>17</td></tr><tr><td>2557</td><td>4</td></tr><tr><td>3733</td><td>1</td></tr><tr><td>2245</td><td>9</td></tr><tr><td>3956</td><td>7</td></tr><tr><td>2607</td><td>1</td></tr><tr><td>2894</td><td>112352</td></tr><tr><td>2206</td><td>18682</td></tr><tr><td>2868</td><td>1205</td></tr><tr><td>3511</td><td>1047</td></tr><tr><td>4107</td><td>26</td></tr><tr><td>5681</td><td>3864</td></tr><tr><td>5669</td><td>31099</td></tr><tr><td>3110</td><td>2495</td></tr><tr><td>4431</td><td>14978</td></tr><tr><td>5116</td><td>3668</td></tr><tr><td>3583</td><td>3325</td></tr><tr><td>1006</td><td>1689443</td></tr><tr><td>3967</td><td>25064</td></tr><tr><td>1396</td><td>41</td></tr><tr><td>3009</td><td>30334</td></tr><tr><td>1408</td><td>201504</td></tr><tr><td>4528</td><td>7857</td></tr><tr><td>3158</td><td>431</td></tr><tr><td>1171</td><td>28517</td></tr><tr><td>4227</td><td>882</td></tr><tr><td>4442</td><td>15092</td></tr><tr><td>3660</td><td>452</td></tr><tr><td>2399</td><td>1070</td></tr><tr><td>4438</td><td>723</td></tr><tr><td>2886</td><td>6169</td></tr><tr><td>2495</td><td>3836</td></tr><tr><td>3331</td><td>6866</td></tr><tr><td>2157</td><td>1870</td></tr><tr><td>5883</td><td>49559</td></tr><tr><td>2511</td><td>612758</td></tr><tr><td>2333</td><td>261947</td></tr><tr><td>2377</td><td>192674</td></tr><tr><td>3310</td><td>18893</td></tr><tr><td>2133</td><td>5400</td></tr><tr><td>3714</td><td>2956</td></tr><tr><td>3651</td><td>4460</td></tr><tr><td>1433</td><td>354</td></tr><tr><td>5824</td><td>1872</td></tr><tr><td>2384</td><td>114592</td></tr><tr><td>1178</td><td>819100</td></tr><tr><td>2386</td><td>54968</td></tr><tr><td>2698</td><td>255</td></tr><tr><td>1035</td><td>878961</td></tr><tr><td>1189</td><td>191514</td></tr><tr><td>5601</td><td>8998</td></tr><tr><td>5075</td><td>7899</td></tr><tr><td>2537</td><td>5060</td></tr><tr><td>1421</td><td>28536</td></tr><tr><td>1314</td><td>592</td></tr><tr><td>2481</td><td>7591</td></tr><tr><td>4405</td><td>8986</td></tr><tr><td>5658</td><td>165848</td></tr><tr><td>3333</td><td>10363</td></tr><tr><td>1757</td><td>2205</td></tr><tr><td>3187</td><td>339</td></tr><tr><td>4399</td><td>694</td></tr><tr><td>2788</td><td>15280</td></tr><tr><td>1323</td><td>25450</td></tr><tr><td>3111</td><td>157960</td></tr><tr><td>1054</td><td>279357</td></tr><tr><td>2424</td><td>220112</td></tr><tr><td>3109</td><td>10585</td></tr><tr><td>4182</td><td>1078</td></tr><tr><td>3081</td><td>724</td></tr><tr><td>4547</td><td>121</td></tr><tr><td>1100</td><td>527459</td></tr><tr><td>2423</td><td>16095</td></tr><tr><td>3442</td><td>11042</td></tr><tr><td>3020</td><td>663</td></tr><tr><td>3387</td><td>990</td></tr><tr><td>5785</td><td>2621</td></tr><tr><td>3024</td><td>3939</td></tr><tr><td>4420</td><td>1003</td></tr><tr><td>5553</td><td>145421</td></tr><tr><td>5643</td><td>996</td></tr><tr><td>4936</td><td>367</td></tr><tr><td>3910</td><td>185</td></tr><tr><td>2442</td><td>1215</td></tr><tr><td>1473</td><td>473</td></tr><tr><td>1844</td><td>35</td></tr><tr><td>1743</td><td>930</td></tr><tr><td>3966</td><td>146</td></tr><tr><td>3418</td><td>1054</td></tr><tr><td>4159</td><td>99</td></tr><tr><td>3908</td><td>290</td></tr><tr><td>4646</td><td>920</td></tr><tr><td>4419</td><td>337</td></tr><tr><td>5031</td><td>377</td></tr><tr><td>1571</td><td>250</td></tr><tr><td>4222</td><td>333</td></tr><tr><td>3530</td><td>324</td></tr><tr><td>4911</td><td>51</td></tr><tr><td>4055</td><td>273</td></tr><tr><td>4185</td><td>39</td></tr><tr><td>4173</td><td>153</td></tr><tr><td>2779</td><td>194</td></tr><tr><td>4223</td><td>43</td></tr><tr><td>3832</td><td>55</td></tr><tr><td>5137</td><td>578</td></tr><tr><td>3994</td><td>14</td></tr><tr><td>2987</td><td>101</td></tr><tr><td>3382</td><td>50</td></tr><tr><td>4851</td><td>36</td></tr><tr><td>1126</td><td>24</td></tr><tr><td>3970</td><td>34</td></tr><tr><td>4246</td><td>25</td></tr><tr><td>4928</td><td>22</td></tr><tr><td>5697</td><td>60</td></tr><tr><td>2461</td><td>36</td></tr><tr><td>3911</td><td>39</td></tr><tr><td>2208</td><td>8</td></tr><tr><td>4204</td><td>11</td></tr><tr><td>5442</td><td>11</td></tr><tr><td>4122</td><td>1</td></tr><tr><td>2865</td><td>2951</td></tr><tr><td>5464</td><td>4072</td></tr><tr><td>3560</td><td>777</td></tr><tr><td>2974</td><td>14626</td></tr><tr><td>4019</td><td>114</td></tr><tr><td>2135</td><td>100249</td></tr><tr><td>5927</td><td>7282</td></tr><tr><td>4045</td><td>705</td></tr><tr><td>5513</td><td>34817</td></tr><tr><td>2944</td><td>10573</td></tr><tr><td>2875</td><td>405</td></tr><tr><td>3139</td><td>195</td></tr><tr><td>2467</td><td>6437</td></tr><tr><td>3064</td><td>101324</td></tr><tr><td>4082</td><td>6018</td></tr><tr><td>4716</td><td>6932</td></tr><tr><td>5070</td><td>638631</td></tr><tr><td>2125</td><td>13471</td></tr><tr><td>3671</td><td>444</td></tr><tr><td>4048</td><td>2184</td></tr><tr><td>5445</td><td>1259</td></tr><tr><td>2392</td><td>802</td></tr><tr><td>3113</td><td>64564</td></tr><tr><td>2433</td><td>37657</td></tr><tr><td>3561</td><td>3656</td></tr><tr><td>2946</td><td>2202</td></tr><tr><td>5660</td><td>346673</td></tr><tr><td>3085</td><td>2205</td></tr><tr><td>3408</td><td>2388</td></tr><tr><td>2483</td><td>187206</td></tr><tr><td>2458</td><td>19789</td></tr><tr><td>5631</td><td>4726</td></tr><tr><td>4565</td><td>302423</td></tr><tr><td>4397</td><td>16712</td></tr><tr><td>3504</td><td>427</td></tr><tr><td>3753</td><td>96</td></tr><tr><td>2570</td><td>4150</td></tr><tr><td>1092</td><td>3108743</td></tr><tr><td>3176</td><td>5371</td></tr><tr><td>1750</td><td>3147</td></tr><tr><td>2588</td><td>13645</td></tr><tr><td>4200</td><td>949</td></tr><tr><td>5612</td><td>168607</td></tr><tr><td>1169</td><td>87512</td></tr><tr><td>2486</td><td>26121</td></tr><tr><td>1879</td><td>2410</td></tr><tr><td>4538</td><td>7917</td></tr><tr><td>3140</td><td>11544</td></tr><tr><td>4374</td><td>3354</td></tr><tr><td>4647</td><td>1804</td></tr><tr><td>4268</td><td>943</td></tr><tr><td>1487</td><td>40049</td></tr><tr><td>1466</td><td>91441</td></tr><tr><td>4465</td><td>27690</td></tr><tr><td>2464</td><td>1101</td></tr><tr><td>4469</td><td>38791</td></tr><tr><td>5784</td><td>1722</td></tr><tr><td>4074</td><td>8885</td></tr><tr><td>2523</td><td>84114</td></tr><tr><td>5912</td><td>24883</td></tr><tr><td>1481</td><td>7254</td></tr><tr><td>2411</td><td>722</td></tr><tr><td>5089</td><td>2924</td></tr><tr><td>1926</td><td>11845</td></tr><tr><td>4499</td><td>262</td></tr><tr><td>2468</td><td>29351</td></tr><tr><td>2549</td><td>49187</td></tr><tr><td>2393</td><td>2217</td></tr><tr><td>1927</td><td>1834</td></tr><tr><td>2753</td><td>88529</td></tr><tr><td>2828</td><td>18903</td></tr><tr><td>3842</td><td>12539</td></tr><tr><td>2771</td><td>2418</td></tr><tr><td>3045</td><td>586</td></tr><tr><td>3443</td><td>788</td></tr><tr><td>1239</td><td>597032</td></tr><tr><td>1026</td><td>3375435</td></tr><tr><td>2418</td><td>5020</td></tr><tr><td>2407</td><td>634</td></tr><tr><td>3913</td><td>571</td></tr><tr><td>3201</td><td>2605</td></tr><tr><td>2268</td><td>2752</td></tr><tr><td>4231</td><td>159</td></tr><tr><td>1585</td><td>6398</td></tr><tr><td>4233</td><td>2074</td></tr><tr><td>4361</td><td>93</td></tr><tr><td>3107</td><td>2100</td></tr><tr><td>3395</td><td>136</td></tr><tr><td>5978</td><td>405</td></tr><tr><td>3473</td><td>876</td></tr><tr><td>4699</td><td>22</td></tr><tr><td>5461</td><td>368</td></tr><tr><td>2094</td><td>989</td></tr><tr><td>4471</td><td>220</td></tr><tr><td>5110</td><td>253</td></tr><tr><td>3713</td><td>171</td></tr><tr><td>4994</td><td>180</td></tr><tr><td>2745</td><td>76</td></tr><tr><td>3697</td><td>673</td></tr><tr><td>1036</td><td>494</td></tr><tr><td>5695</td><td>446</td></tr><tr><td>3463</td><td>223</td></tr><tr><td>1776</td><td>76</td></tr><tr><td>3197</td><td>137</td></tr><tr><td>2415</td><td>107</td></tr><tr><td>3114</td><td>111</td></tr><tr><td>3876</td><td>130</td></tr><tr><td>3017</td><td>162</td></tr><tr><td>2297</td><td>64</td></tr><tr><td>1448</td><td>105</td></tr><tr><td>3164</td><td>41</td></tr><tr><td>2574</td><td>20</td></tr><tr><td>4272</td><td>9</td></tr><tr><td>3298</td><td>226</td></tr><tr><td>5814</td><td>36</td></tr><tr><td>3491</td><td>42</td></tr><tr><td>1286</td><td>50</td></tr><tr><td>5566</td><td>18</td></tr><tr><td>1798</td><td>9</td></tr><tr><td>3518</td><td>16</td></tr><tr><td>1788</td><td>9</td></tr><tr><td>5926</td><td>54</td></tr><tr><td>5455</td><td>103</td></tr><tr><td>4237</td><td>16</td></tr><tr><td>3372</td><td>28</td></tr><tr><td>4138</td><td>15</td></tr><tr><td>4972</td><td>13</td></tr><tr><td>4661</td><td>10</td></tr><tr><td>3632</td><td>11</td></tr><tr><td>4984</td><td>3</td></tr><tr><td>3975</td><td>2</td></tr><tr><td>2159</td><td>540196</td></tr><tr><td>3984</td><td>41087</td></tr><tr><td>3545</td><td>4850</td></tr><tr><td>1941</td><td>539</td></tr><tr><td>1830</td><td>34639</td></tr><tr><td>3007</td><td>16041</td></tr><tr><td>5503</td><td>1200</td></tr><tr><td>3579</td><td>26307</td></tr><tr><td>2128</td><td>283089</td></tr><tr><td>5807</td><td>13501</td></tr><tr><td>3841</td><td>353</td></tr><tr><td>5924</td><td>323577</td></tr><tr><td>4433</td><td>1403</td></tr><tr><td>4104</td><td>3578</td></tr><tr><td>1717</td><td>1111</td></tr><tr><td>5574</td><td>124774</td></tr><tr><td>3033</td><td>72400</td></tr><tr><td>2666</td><td>91485</td></tr><tr><td>5485</td><td>19042</td></tr><tr><td>4962</td><td>398</td></tr><tr><td>3320</td><td>1110</td></tr><tr><td>1040</td><td>885978</td></tr><tr><td>2140</td><td>164024</td></tr><tr><td>1596</td><td>203375</td></tr><tr><td>2668</td><td>73583</td></tr><tr><td>4144</td><td>18702</td></tr><tr><td>1150</td><td>16486</td></tr><tr><td>3871</td><td>193</td></tr><tr><td>3433</td><td>17223</td></tr><tr><td>3047</td><td>8812</td></tr><tr><td>4171</td><td>1416</td></tr><tr><td>3683</td><td>1497</td></tr><tr><td>5914</td><td>20612</td></tr><tr><td>4525</td><td>9623</td></tr><tr><td>1428</td><td>1889035</td></tr><tr><td>5531</td><td>154928</td></tr><tr><td>5560</td><td>27735</td></tr><tr><td>3278</td><td>2894</td></tr><tr><td>2561</td><td>4964</td></tr><tr><td>1393</td><td>156</td></tr><tr><td>1158</td><td>254177</td></tr><tr><td>1434</td><td>341238</td></tr><tr><td>2870</td><td>14328</td></tr><tr><td>3441</td><td>2328</td></tr><tr><td>4498</td><td>255</td></tr><tr><td>4114</td><td>923</td></tr><tr><td>1655</td><td>110165</td></tr><tr><td>5591</td><td>4357</td></tr><tr><td>5526</td><td>192394</td></tr><tr><td>2514</td><td>126010</td></tr><tr><td>1887</td><td>3250</td></tr><tr><td>1825</td><td>11307</td></tr><tr><td>5505</td><td>433</td></tr><tr><td>2286</td><td>70527</td></tr><tr><td>4427</td><td>6939</td></tr><tr><td>2687</td><td>20414</td></tr><tr><td>3366</td><td>899</td></tr><tr><td>3877</td><td>129</td></tr><tr><td>5479</td><td>21969</td></tr><tr><td>2161</td><td>4707</td></tr><tr><td>3462</td><td>1432</td></tr><tr><td>1731</td><td>296677</td></tr><tr><td>2639</td><td>185218</td></tr><tr><td>5982</td><td>494</td></tr><tr><td>4140</td><td>8710</td></tr><tr><td>5506</td><td>26273</td></tr><tr><td>5457</td><td>2295</td></tr><tr><td>5488</td><td>956</td></tr><tr><td>1489</td><td>4535</td></tr><tr><td>3192</td><td>159</td></tr><tr><td>3907</td><td>143</td></tr><tr><td>4529</td><td>71</td></tr><tr><td>2518</td><td>816592</td></tr><tr><td>5567</td><td>60760</td></tr><tr><td>1415</td><td>45597</td></tr><tr><td>4280</td><td>4634</td></tr><tr><td>1753</td><td>129</td></tr><tr><td>2165</td><td>110820</td></tr><tr><td>3031</td><td>106646</td></tr><tr><td>3028</td><td>27354</td></tr><tr><td>2577</td><td>2184</td></tr><tr><td>4038</td><td>3391</td></tr><tr><td>2766</td><td>1514</td></tr><tr><td>4468</td><td>476</td></tr><tr><td>1001</td><td>19864421</td></tr><tr><td>4040</td><td>20427</td></tr><tr><td>5799</td><td>311</td></tr><tr><td>5443</td><td>242</td></tr><tr><td>2780</td><td>34</td></tr><tr><td>3380</td><td>343</td></tr><tr><td>1417</td><td>515</td></tr><tr><td>4059</td><td>92</td></tr><tr><td>5587</td><td>447</td></tr><tr><td>4512</td><td>272</td></tr><tr><td>4523</td><td>323</td></tr><tr><td>3345</td><td>242</td></tr><tr><td>5440</td><td>646</td></tr><tr><td>3872</td><td>53</td></tr><tr><td>3700</td><td>788</td></tr><tr><td>3778</td><td>87</td></tr><tr><td>4728</td><td>49</td></tr><tr><td>3162</td><td>32</td></tr><tr><td>5940</td><td>78</td></tr><tr><td>4679</td><td>195</td></tr><tr><td>4073</td><td>190</td></tr><tr><td>4342</td><td>35</td></tr><tr><td>5939</td><td>153</td></tr><tr><td>2858</td><td>63</td></tr><tr><td>5101</td><td>33</td></tr><tr><td>3793</td><td>28</td></tr><tr><td>4659</td><td>9</td></tr><tr><td>5938</td><td>15</td></tr><tr><td>3935</td><td>21</td></tr><tr><td>1413</td><td>73</td></tr><tr><td>3906</td><td>8</td></tr><tr><td>5156</td><td>7</td></tr><tr><td>1341</td><td>12</td></tr><tr><td>4051</td><td>2</td></tr><tr><td>1253</td><td>5</td></tr><tr><td>3765</td><td>14</td></tr><tr><td>5802</td><td>6</td></tr><tr><td>3774</td><td>7</td></tr><tr><td>5369</td><td>3</td></tr><tr><td>2383</td><td>8</td></tr><tr><td>4677</td><td>4</td></tr><tr><td>1237</td><td>698023</td></tr><tr><td>5692</td><td>1554</td></tr><tr><td>2808</td><td>2693</td></tr><tr><td>5843</td><td>7526</td></tr><tr><td>4619</td><td>39613</td></tr><tr><td>2427</td><td>32984</td></tr><tr><td>2787</td><td>8663</td></tr><tr><td>4295</td><td>1185</td></tr><tr><td>2162</td><td>15680</td></tr><tr><td>1782</td><td>998</td></tr><tr><td>4680</td><td>988</td></tr><tr><td>2592</td><td>2986</td></tr><tr><td>3992</td><td>3412</td></tr><tr><td>5925</td><td>194</td></tr><tr><td>3866</td><td>180</td></tr><tr><td>3089</td><td>12174</td></tr><tr><td>2484</td><td>212654</td></tr><tr><td>1182</td><td>5601840</td></tr><tr><td>4024</td><td>69022</td></tr><tr><td>3451</td><td>4610</td></tr><tr><td>5981</td><td>727</td></tr><tr><td>2843</td><td>236</td></tr><tr><td>1833</td><td>873</td></tr><tr><td>1642</td><td>389463</td></tr><tr><td>2376</td><td>48938</td></tr><tr><td>2962</td><td>12931</td></tr><tr><td>1588</td><td>7427</td></tr><tr><td>3311</td><td>496</td></tr><tr><td>2403</td><td>88439</td></tr><tr><td>5640</td><td>18576</td></tr><tr><td>4056</td><td>6396</td></tr><tr><td>2555</td><td>78347</td></tr><tr><td>1199</td><td>41269</td></tr><tr><td>1405</td><td>2404</td></tr><tr><td>1200</td><td>695044</td></tr><tr><td>4514</td><td>571</td></tr><tr><td>2356</td><td>1569</td></tr><tr><td>5972</td><td>176</td></tr><tr><td>1221</td><td>369605</td></tr><tr><td>5619</td><td>140982</td></tr><tr><td>5073</td><td>39070</td></tr><tr><td>5913</td><td>37346</td></tr><tr><td>5546</td><td>17649</td></tr><tr><td>3936</td><td>1953</td></tr><tr><td>5198</td><td>2258</td></tr><tr><td>4283</td><td>1348</td></tr><tr><td>3277</td><td>425</td></tr><tr><td>1294</td><td>36978</td></tr><tr><td>2462</td><td>4539</td></tr><tr><td>1391</td><td>1167701</td></tr><tr><td>2248</td><td>17204</td></tr><tr><td>5623</td><td>65405</td></tr><tr><td>5652</td><td>18855</td></tr><tr><td>5851</td><td>1016</td></tr><tr><td>4050</td><td>1080</td></tr><tr><td>2340</td><td>71693</td></tr><tr><td>3027</td><td>13319</td></tr><tr><td>4214</td><td>1679</td></tr><tr><td>2439</td><td>811</td></tr><tr><td>4430</td><td>2278</td></tr><tr><td>2512</td><td>2133</td></tr><tr><td>1699</td><td>47966</td></tr><tr><td>1480</td><td>5618</td></tr><tr><td>4152</td><td>663</td></tr><tr><td>5508</td><td>4047</td></tr><tr><td>5872</td><td>821</td></tr><tr><td>4034</td><td>661</td></tr><tr><td>1039</td><td>1078336</td></tr><tr><td>1135</td><td>153057</td></tr><tr><td>1088</td><td>581298</td></tr><tr><td>2314</td><td>16872</td></tr><tr><td>2770</td><td>5208</td></tr><tr><td>5604</td><td>43152</td></tr><tr><td>3743</td><td>5426</td></tr><tr><td>4033</td><td>278</td></tr><tr><td>3208</td><td>293</td></tr><tr><td>2390</td><td>422</td></tr><tr><td>1013</td><td>337131</td></tr><tr><td>2482</td><td>23133</td></tr><tr><td>3790</td><td>164</td></tr><tr><td>1810</td><td>5558</td></tr><tr><td>1162</td><td>130199</td></tr><tr><td>4957</td><td>19056</td></tr><tr><td>2123</td><td>81498</td></tr><tr><td>5973</td><td>226</td></tr><tr><td>4183</td><td>229</td></tr><tr><td>4636</td><td>732</td></tr><tr><td>2711</td><td>1278</td></tr><tr><td>2476</td><td>797</td></tr><tr><td>3346</td><td>91</td></tr><tr><td>1553</td><td>190</td></tr><tr><td>5918</td><td>1259</td></tr><tr><td>2981</td><td>128</td></tr><tr><td>3385</td><td>138</td></tr><tr><td>2095</td><td>437</td></tr><tr><td>3734</td><td>150</td></tr><tr><td>1806</td><td>26</td></tr><tr><td>3738</td><td>389</td></tr><tr><td>4116</td><td>135</td></tr><tr><td>4170</td><td>162</td></tr><tr><td>3515</td><td>49</td></tr><tr><td>3188</td><td>178</td></tr><tr><td>4693</td><td>249</td></tr><tr><td>1534</td><td>17</td></tr><tr><td>2240</td><td>60</td></tr><tr><td>3873</td><td>4</td></tr><tr><td>3186</td><td>32</td></tr><tr><td>2280</td><td>10</td></tr><tr><td>1859</td><td>97</td></tr><tr><td>3728</td><td>62</td></tr><tr><td>3803</td><td>2</td></tr><tr><td>4813</td><td>7</td></tr><tr><td>5027</td><td>11</td></tr><tr><td>1508</td><td>5</td></tr><tr><td>1338</td><td>2</td></tr><tr><td>5852</td><td>11</td></tr><tr><td>4249</td><td>3</td></tr><tr><td>5477</td><td>1495</td></tr><tr><td>5779</td><td>1903</td></tr><tr><td>5510</td><td>2693</td></tr><tr><td>4401</td><td>7418</td></tr><tr><td>5149</td><td>3101</td></tr><tr><td>3459</td><td>1209</td></tr><tr><td>1482</td><td>3319</td></tr><tr><td>4415</td><td>380493</td></tr><tr><td>2373</td><td>6129</td></tr><tr><td>3446</td><td>9142</td></tr><tr><td>3563</td><td>467</td></tr><tr><td>5788</td><td>1536</td></tr><tr><td>3367</td><td>965</td></tr><tr><td>5606</td><td>315430</td></tr><tr><td>1087</td><td>9099</td></tr><tr><td>4527</td><td>34204</td></tr><tr><td>2217</td><td>19534</td></tr><tr><td>4515</td><td>6382</td></tr><tr><td>4014</td><td>163916</td></tr><tr><td>3370</td><td>2751</td></tr><tr><td>1758</td><td>55001</td></tr><tr><td>2362</td><td>13165</td></tr><tr><td>2072</td><td>4845</td></tr><tr><td>4345</td><td>1026</td></tr><tr><td>4060</td><td>804</td></tr><tr><td>4023</td><td>334</td></tr><tr><td>2202</td><td>371</td></tr><tr><td>5565</td><td>79103</td></tr><tr><td>1843</td><td>4191</td></tr><tr><td>3010</td><td>3627</td></tr><tr><td>1507</td><td>1335</td></tr><tr><td>2965</td><td>962</td></tr><tr><td>3824</td><td>3404</td></tr><tr><td>4047</td><td>30278</td></tr><tr><td>2215</td><td>54599</td></tr><tr><td>5141</td><td>5081</td></tr><tr><td>1646</td><td>149761</td></tr><tr><td>2302</td><td>56648</td></tr><tr><td>4076</td><td>12146</td></tr><tr><td>4389</td><td>3112</td></tr><tr><td>2425</td><td>48</td></tr><tr><td>1829</td><td>5309</td></tr><tr><td>2846</td><td>56290</td></tr><tr><td>2348</td><td>1343</td></tr><tr><td>3756</td><td>697</td></tr><tr><td>2717</td><td>1240</td></tr><tr><td>2800</td><td>26591</td></tr><tr><td>4108</td><td>8179</td></tr><tr><td>3272</td><td>8711</td></tr><tr><td>1876</td><td>95</td></tr><tr><td>4941</td><td>10682</td></tr><tr><td>5597</td><td>27978</td></tr><tr><td>2508</td><td>58400</td></tr><tr><td>5921</td><td>150388</td></tr><tr><td>3672</td><td>10874</td></tr><tr><td>5120</td><td>2131</td></tr><tr><td>5095</td><td>81293</td></tr><tr><td>1700</td><td>7467</td></tr><tr><td>4704</td><td>646</td></tr><tr><td>2158</td><td>171158</td></tr><tr><td>5555</td><td>54504</td></tr><tr><td>5693</td><td>9364</td></tr><tr><td>1104</td><td>37829</td></tr><tr><td>2413</td><td>200987</td></tr><tr><td>4085</td><td>18002</td></tr><tr><td>2372</td><td>883</td></tr><tr><td>3430</td><td>5112</td></tr><tr><td>4912</td><td>290</td></tr><tr><td>1869</td><td>420071</td></tr><tr><td>2777</td><td>21240</td></tr><tr><td>4948</td><td>1617</td></tr><tr><td>3334</td><td>1876</td></tr><tr><td>2430</td><td>2095</td></tr><tr><td>3029</td><td>29369</td></tr><tr><td>1198</td><td>77726</td></tr><tr><td>1647</td><td>51023</td></tr><tr><td>2540</td><td>36514</td></tr><tr><td>2719</td><td>2808</td></tr><tr><td>4384</td><td>790</td></tr><tr><td>5645</td><td>555</td></tr><tr><td>2093</td><td>349</td></tr><tr><td>3198</td><td>62</td></tr><tr><td>2479</td><td>492</td></tr><tr><td>4649</td><td>71</td></tr><tr><td>5138</td><td>510</td></tr><tr><td>4915</td><td>467</td></tr><tr><td>1705</td><td>122</td></tr><tr><td>4432</td><td>463</td></tr><tr><td>3689</td><td>472</td></tr><tr><td>3196</td><td>242</td></tr><tr><td>5988</td><td>168</td></tr><tr><td>3636</td><td>290</td></tr><tr><td>2760</td><td>203</td></tr><tr><td>3543</td><td>363</td></tr><tr><td>4275</td><td>120</td></tr><tr><td>5729</td><td>26</td></tr><tr><td>3209</td><td>173</td></tr><tr><td>3227</td><td>21</td></tr><tr><td>3247</td><td>198</td></tr><tr><td>3353</td><td>33</td></tr><tr><td>3138</td><td>159</td></tr><tr><td>4950</td><td>15</td></tr><tr><td>3941</td><td>26</td></tr><tr><td>1785</td><td>14</td></tr><tr><td>1438</td><td>19</td></tr><tr><td>3249</td><td>20</td></tr><tr><td>3043</td><td>8</td></tr><tr><td>3550</td><td>3</td></tr><tr><td>5865</td><td>20</td></tr><tr><td>5181</td><td>3</td></tr><tr><td>4881</td><td>4</td></tr><tr><td>4018</td><td>4</td></tr><tr><td>3184</td><td>1</td></tr><tr><td>3982</td><td>14162</td></tr><tr><td>5614</td><td>57357</td></tr><tr><td>3235</td><td>23450</td></tr><tr><td>1882</td><td>7515</td></tr><tr><td>5533</td><td>2254</td></tr><tr><td>2127</td><td>14594</td></tr><tr><td>5615</td><td>11003</td></tr><tr><td>2375</td><td>1512</td></tr><tr><td>4690</td><td>391</td></tr><tr><td>2674</td><td>482144</td></tr><tr><td>5516</td><td>16761</td></tr><tr><td>5441</td><td>9819</td></tr><tr><td>2749</td><td>15141</td></tr><tr><td>1144</td><td>42731</td></tr><tr><td>1593</td><td>1907</td></tr><tr><td>5563</td><td>11295</td></tr><tr><td>4096</td><td>953</td></tr><tr><td>4101</td><td>15883</td></tr><tr><td>2164</td><td>24368</td></tr><tr><td>1900</td><td>26518</td></tr><tr><td>2715</td><td>1430</td></tr><tr><td>2680</td><td>1383362</td></tr><tr><td>4495</td><td>83997</td></tr><tr><td>4479</td><td>2410</td></tr><tr><td>5900</td><td>10035</td></tr><tr><td>1842</td><td>1839</td></tr><tr><td>3607</td><td>1276</td></tr><tr><td>2317</td><td>223558</td></tr><tr><td>3750</td><td>1420</td></tr><tr><td>1256</td><td>222618</td></tr><tr><td>5538</td><td>27105</td></tr><tr><td>4402</td><td>16548</td></tr><tr><td>3825</td><td>3899</td></tr><tr><td>3190</td><td>3894</td></tr><tr><td>4043</td><td>18798</td></tr><tr><td>2337</td><td>190758</td></tr><tr><td>2324</td><td>47242</td></tr><tr><td>2493</td><td>319724</td></tr><tr><td>2578</td><td>67126</td></tr><tr><td>2837</td><td>1522</td></tr><tr><td>3347</td><td>9964</td></tr><tr><td>4488</td><td>11732</td></tr><tr><td>3494</td><td>6679</td></tr><tr><td>5189</td><td>50</td></tr><tr><td>2344</td><td>321102</td></tr><tr><td>3679</td><td>4726</td></tr><tr><td>2410</td><td>22631</td></tr><tr><td>3833</td><td>8094</td></tr><tr><td>3856</td><td>19</td></tr><tr><td>5968</td><td>419</td></tr><tr><td>5600</td><td>319735</td></tr><tr><td>5122</td><td>3862</td></tr><tr><td>5491</td><td>10491</td></tr><tr><td>3499</td><td>293</td></tr><tr><td>4602</td><td>1467</td></tr><tr><td>1206</td><td>3271083</td></tr><tr><td>5025</td><td>64369</td></tr><tr><td>3492</td><td>23340</td></tr><tr><td>4242</td><td>2427</td></tr><tr><td>4641</td><td>3015</td></tr><tr><td>2807</td><td>3878</td></tr><tr><td>2539</td><td>555479</td></tr><tr><td>2829</td><td>35712</td></tr><tr><td>3974</td><td>122887</td></tr><tr><td>3571</td><td>166</td></tr><tr><td>3112</td><td>1360</td></tr><tr><td>2487</td><td>555342</td></tr><tr><td>5514</td><td>9476</td></tr><tr><td>2616</td><td>2120</td></tr><tr><td>3659</td><td>346</td></tr><tr><td>2591</td><td>18055</td></tr><tr><td>1476</td><td>180949</td></tr><tr><td>1657</td><td>54090</td></tr><tr><td>2435</td><td>3331</td></tr><tr><td>5859</td><td>790</td></tr><tr><td>3383</td><td>2419</td></tr><tr><td>1820</td><td>12025</td></tr><tr><td>5633</td><td>475</td></tr><tr><td>2579</td><td>2158</td></tr><tr><td>3173</td><td>253</td></tr><tr><td>5666</td><td>14320</td></tr><tr><td>4485</td><td>113412</td></tr><tr><td>1094</td><td>6537071</td></tr><tr><td>1897</td><td>52366</td></tr><tr><td>5629</td><td>48470</td></tr><tr><td>4106</td><td>680</td></tr><tr><td>3374</td><td>755</td></tr><tr><td>5179</td><td>740</td></tr><tr><td>3022</td><td>155</td></tr><tr><td>3845</td><td>90</td></tr><tr><td>3701</td><td>215</td></tr><tr><td>4521</td><td>481</td></tr><tr><td>1614</td><td>683</td></tr><tr><td>4367</td><td>693</td></tr><tr><td>2242</td><td>231</td></tr><tr><td>4179</td><td>118</td></tr><tr><td>3554</td><td>299</td></tr><tr><td>4213</td><td>72</td></tr><tr><td>4987</td><td>200</td></tr><tr><td>3222</td><td>16</td></tr><tr><td>3954</td><td>15</td></tr><tr><td>3889</td><td>102</td></tr><tr><td>5125</td><td>127</td></tr><tr><td>3475</td><td>131</td></tr><tr><td>3455</td><td>192</td></tr><tr><td>4284</td><td>8</td></tr><tr><td>2233</td><td>70</td></tr><tr><td>3074</td><td>50</td></tr><tr><td>3144</td><td>22</td></tr><tr><td>3699</td><td>17</td></tr><tr><td>5673</td><td>24</td></tr><tr><td>2281</td><td>7</td></tr><tr><td>5129</td><td>23</td></tr><tr><td>2647</td><td>7</td></tr><tr><td>5133</td><td>10</td></tr><tr><td>3869</td><td>3</td></tr><tr><td>1766</td><td>3</td></tr><tr><td>3666</td><td>28675</td></tr><tr><td>2473</td><td>2681</td></tr><tr><td>2606</td><td>2309</td></tr><tr><td>4507</td><td>34649</td></tr><tr><td>2389</td><td>48991</td></tr><tr><td>4099</td><td>400270</td></tr><tr><td>3336</td><td>5512</td></tr><tr><td>3652</td><td>66570</td></tr><tr><td>2352</td><td>2278</td></tr><tr><td>1929</td><td>2763</td></tr><tr><td>3512</td><td>460</td></tr><tr><td>2553</td><td>2011</td></tr><tr><td>5583</td><td>87079</td></tr><tr><td>4067</td><td>12531</td></tr><tr><td>3945</td><td>348</td></tr><tr><td>1028</td><td>3808901</td></tr><tr><td>4318</td><td>1417</td></tr><tr><td>2872</td><td>1808</td></tr><tr><td>1228</td><td>159106</td></tr><tr><td>3435</td><td>259</td></tr><tr><td>3351</td><td>1897</td></tr><tr><td>5661</td><td>8708</td></tr><tr><td>2421</td><td>3715</td></tr><tr><td>2538</td><td>45370</td></tr><tr><td>2964</td><td>1357</td></tr><tr><td>1832</td><td>94656</td></tr><tr><td>1880</td><td>2147</td></tr><tr><td>2903</td><td>12495</td></tr><tr><td>5698</td><td>3030</td></tr><tr><td>2334</td><td>879</td></tr><tr><td>5674</td><td>881</td></tr><tr><td>2287</td><td>91477</td></tr><tr><td>1827</td><td>19843</td></tr><tr><td>1525</td><td>43153</td></tr><tr><td>2979</td><td>415</td></tr><tr><td>5180</td><td>758</td></tr><tr><td>4952</td><td>295</td></tr><tr><td>1067</td><td>1534721</td></tr><tr><td>2100</td><td>355509</td></tr><tr><td>1410</td><td>172888</td></tr><tr><td>2085</td><td>42356</td></tr><tr><td>3012</td><td>5767</td></tr><tr><td>3823</td><td>307</td></tr><tr><td>1096</td><td>902527</td></tr><tr><td>4022</td><td>587574</td></tr><tr><td>3238</td><td>313</td></tr><tr><td>3619</td><td>9416</td></tr><tr><td>3496</td><td>9018</td></tr><tr><td>2184</td><td>415</td></tr><tr><td>5964</td><td>768</td></tr><tr><td>1177</td><td>888566</td></tr><tr><td>2499</td><td>49509</td></tr><tr><td>5933</td><td>52851</td></tr><tr><td>3358</td><td>4135</td></tr><tr><td>3330</td><td>2429</td></tr><tr><td>3199</td><td>2590</td></tr><tr><td>2417</td><td>2397</td></tr><tr><td>1541</td><td>22291</td></tr><tr><td>2507</td><td>3122</td></tr><tr><td>3821</td><td>1315</td></tr><tr><td>5487</td><td>225</td></tr><tr><td>2296</td><td>599510</td></tr><tr><td>2450</td><td>836281</td></tr><tr><td>1894</td><td>34844</td></tr><tr><td>1721</td><td>5346</td></tr><tr><td>5812</td><td>1065</td></tr><tr><td>2225</td><td>181489</td></tr><tr><td>5897</td><td>52578</td></tr><tr><td>2917</td><td>1191</td></tr><tr><td>2401</td><td>49403</td></tr><tr><td>1604</td><td>17388</td></tr><tr><td>4513</td><td>3392</td></tr><tr><td>4510</td><td>7851</td></tr><tr><td>3610</td><td>10998</td></tr><tr><td>4707</td><td>542</td></tr><tr><td>1197</td><td>12428</td></tr><tr><td>2313</td><td>5251</td></tr><tr><td>4478</td><td>4792</td></tr><tr><td>4137</td><td>487</td></tr><tr><td>2441</td><td>235</td></tr><tr><td>3617</td><td>118</td></tr><tr><td>2593</td><td>1032</td></tr><tr><td>1358</td><td>18</td></tr><tr><td>4195</td><td>400</td></tr><tr><td>3904</td><td>936</td></tr><tr><td>5107</td><td>321</td></tr><tr><td>1501</td><td>11</td></tr><tr><td>4530</td><td>39</td></tr><tr><td>2696</td><td>479</td></tr><tr><td>4745</td><td>66</td></tr><tr><td>3202</td><td>464</td></tr><tr><td>4289</td><td>223</td></tr><tr><td>4271</td><td>124</td></tr><tr><td>3384</td><td>146</td></tr><tr><td>4358</td><td>472</td></tr><tr><td>1233</td><td>269</td></tr><tr><td>3465</td><td>122</td></tr><tr><td>3817</td><td>179</td></tr><tr><td>1870</td><td>87</td></tr><tr><td>5880</td><td>4</td></tr><tr><td>1336</td><td>15</td></tr><tr><td>1708</td><td>33</td></tr><tr><td>5703</td><td>7</td></tr><tr><td>3676</td><td>113</td></tr><tr><td>4079</td><td>193</td></tr><tr><td>3662</td><td>39</td></tr><tr><td>4799</td><td>88</td></tr><tr><td>1058</td><td>31</td></tr><tr><td>3848</td><td>28</td></tr><tr><td>2614</td><td>45</td></tr><tr><td>4326</td><td>10</td></tr><tr><td>5467</td><td>14</td></tr><tr><td>3948</td><td>2</td></tr><tr><td>3951</td><td>17</td></tr><tr><td>2455</td><td>106</td></tr><tr><td>5170</td><td>12</td></tr><tr><td>3847</td><td>34</td></tr><tr><td>1430</td><td>4</td></tr><tr><td>2913</td><td>12011</td></tr><tr><td>3710</td><td>18668</td></tr><tr><td>5805</td><td>12190</td></tr><tr><td>2387</td><td>7160</td></tr><tr><td>4519</td><td>213</td></tr><tr><td>2438</td><td>1033</td></tr><tr><td>5642</td><td>266339</td></tr><tr><td>3709</td><td>94066</td></tr><tr><td>2419</td><td>139267</td></tr><tr><td>3156</td><td>6623</td></tr><tr><td>4518</td><td>2139</td></tr><tr><td>2496</td><td>7513</td></tr><tr><td>5588</td><td>2025</td></tr><tr><td>1024</td><td>940575</td></tr><tr><td>1784</td><td>239303</td></tr><tr><td>1471</td><td>117980</td></tr><tr><td>5971</td><td>439</td></tr><tr><td>3526</td><td>4348</td></tr><tr><td>4688</td><td>1325</td></tr><tr><td>4746</td><td>919</td></tr><tr><td>4462</td><td>72628</td></tr><tr><td>2146</td><td>38598</td></tr><tr><td>1610</td><td>23071</td></tr><tr><td>4150</td><td>908</td></tr><tr><td>5102</td><td>145</td></tr><tr><td>5646</td><td>118662</td></tr><tr><td>1194</td><td>101059</td></tr><tr><td>2996</td><td>1538</td></tr><tr><td>3108</td><td>2469</td></tr><tr><td>1919</td><td>5972</td></tr><tr><td>4313</td><td>196</td></tr><tr><td>2728</td><td>661</td></tr><tr><td>1715</td><td>1119</td></tr><tr><td>1196</td><td>95557</td></tr><tr><td>5509</td><td>18089</td></tr><tr><td>4412</td><td>41599</td></tr><tr><td>3692</td><td>720</td></tr><tr><td>3548</td><td>6851</td></tr><tr><td>2454</td><td>3746</td></tr><tr><td>4921</td><td>8000</td></tr><tr><td>5806</td><td>1592</td></tr><tr><td>4075</td><td>4571</td></tr><tr><td>3602</td><td>26</td></tr><tr><td>3354</td><td>20915</td></tr><tr><td>1940</td><td>95415</td></tr><tr><td>4158</td><td>19080</td></tr><tr><td>3606</td><td>2928</td></tr><tr><td>2832</td><td>910</td></tr><tr><td>4441</td><td>1140</td></tr><tr><td>5088</td><td>241454</td></tr><tr><td>3740</td><td>103</td></tr><tr><td>2970</td><td>1790</td></tr><tr><td>1193</td><td>245779</td></tr><tr><td>3495</td><td>9726</td></tr><tr><td>2662</td><td>324164</td></tr><tr><td>1653</td><td>63357</td></tr><tr><td>3539</td><td>13642</td></tr><tr><td>3919</td><td>872</td></tr><tr><td>5087</td><td>11338</td></tr><tr><td>2661</td><td>25740</td></tr><tr><td>2961</td><td>8542</td></tr><tr><td>2360</td><td>21123</td></tr><tr><td>3616</td><td>1318</td></tr><tr><td>2681</td><td>82466</td></tr><tr><td>2778</td><td>40071</td></tr><tr><td>2845</td><td>13323</td></tr><tr><td>2295</td><td>8525</td></tr><tr><td>1494</td><td>2921</td></tr><tr><td>5494</td><td>75397</td></tr><tr><td>3973</td><td>2881</td></tr><tr><td>4187</td><td>996</td></tr><tr><td>2244</td><td>1092</td></tr><tr><td>4452</td><td>6145</td></tr><tr><td>4671</td><td>4727</td></tr><tr><td>2200</td><td>4557</td></tr><tr><td>3657</td><td>14373</td></tr><tr><td>5547</td><td>21591</td></tr><tr><td>1847</td><td>381</td></tr><tr><td>4021</td><td>143186</td></tr><tr><td>4573</td><td>9233</td></tr><tr><td>5762</td><td>17062</td></tr><tr><td>1440</td><td>33415</td></tr><tr><td>5536</td><td>41147</td></tr><tr><td>1621</td><td>5648</td></tr><tr><td>2643</td><td>21516</td></tr><tr><td>2739</td><td>7734</td></tr><tr><td>5825</td><td>94991</td></tr><tr><td>5934</td><td>60322</td></tr><tr><td>1868</td><td>2697</td></tr><tr><td>2716</td><td>7021</td></tr><tr><td>5826</td><td>884</td></tr><tr><td>3497</td><td>28942</td></tr><tr><td>1626</td><td>5823</td></tr><tr><td>2099</td><td>1066</td></tr><tr><td>5484</td><td>371</td></tr><tr><td>5178</td><td>199</td></tr><tr><td>3489</td><td>565</td></tr><tr><td>3983</td><td>74</td></tr><tr><td>5381</td><td>74</td></tr><tr><td>2116</td><td>381</td></tr><tr><td>4742</td><td>56</td></tr><tr><td>3514</td><td>197</td></tr><tr><td>2470</td><td>177</td></tr><tr><td>3363</td><td>465</td></tr><tr><td>1639</td><td>17</td></tr><tr><td>4129</td><td>120</td></tr><tr><td>4843</td><td>273</td></tr><tr><td>5018</td><td>104</td></tr><tr><td>2621</td><td>222</td></tr><tr><td>3160</td><td>105</td></tr><tr><td>3988</td><td>80</td></tr><tr><td>4132</td><td>33</td></tr><tr><td>4009</td><td>65</td></tr><tr><td>3792</td><td>196</td></tr><tr><td>1787</td><td>8</td></tr><tr><td>3532</td><td>8</td></tr><tr><td>4341</td><td>18</td></tr><tr><td>5197</td><td>4</td></tr><tr><td>3770</td><td>3</td></tr><tr><td>2251</td><td>1</td></tr><tr><td>4840</td><td>3</td></tr><tr><td>4092</td><td>1</td></tr><tr><td>5570</td><td>14508</td></tr><tr><td>3088</td><td>3659</td></tr><tr><td>1265</td><td>4894</td></tr><tr><td>5811</td><td>30779</td></tr><tr><td>3439</td><td>915</td></tr><tr><td>4174</td><td>857</td></tr><tr><td>4310</td><td>1174</td></tr><tr><td>1649</td><td>212668</td></tr><tr><td>1018</td><td>175989</td></tr><tr><td>2379</td><td>104483</td></tr><tr><td>2253</td><td>255386</td></tr><tr><td>3343</td><td>5257</td></tr><tr><td>3194</td><td>1111</td></tr><tr><td>4064</td><td>4817</td></tr><tr><td>4448</td><td>12113</td></tr><tr><td>2178</td><td>50427</td></tr><tr><td>1431</td><td>2234</td></tr><tr><td>5150</td><td>4507</td></tr><tr><td>3818</td><td>2565</td></tr><tr><td>1896</td><td>617</td></tr><tr><td>4380</td><td>104</td></tr><tr><td>4779</td><td>73</td></tr><tr><td>3115</td><td>217735</td></tr><tr><td>5662</td><td>337831</td></tr><tr><td>2325</td><td>132973</td></tr><tr><td>2985</td><td>14119</td></tr><tr><td>2230</td><td>9791</td></tr><tr><td>4097</td><td>182</td></tr><tr><td>1140</td><td>991329</td></tr><tr><td>2304</td><td>812</td></tr><tr><td>2363</td><td>205924</td></tr><tr><td>3653</td><td>3607</td></tr><tr><td>2510</td><td>21328</td></tr><tr><td>3106</td><td>89765</td></tr><tr><td>4308</td><td>1380</td></tr><tr><td>2250</td><td>471486</td></tr><tr><td>5019</td><td>183202</td></tr><tr><td>1086</td><td>1162664</td></tr><tr><td>1180</td><td>270906</td></tr><tr><td>5911</td><td>78888</td></tr><tr><td>2122</td><td>1713</td></tr><tr><td>5844</td><td>98092</td></tr><tr><td>5481</td><td>188694</td></tr><tr><td>4534</td><td>1763</td></tr><tr><td>5694</td><td>3440</td></tr><tr><td>4041</td><td>3582</td></tr><tr><td>4508</td><td>35563</td></tr><tr><td>1916</td><td>2541</td></tr><tr><td>3691</td><td>2189</td></tr><tr><td>2172</td><td>239220</td></tr><tr><td>1215</td><td>122567</td></tr><tr><td>2567</td><td>17547</td></tr><tr><td>3026</td><td>5192</td></tr><tr><td>4918</td><td>2396</td></tr><tr><td>5617</td><td>17028</td></tr><tr><td>1131</td><td>1325</td></tr><tr><td>5763</td><td>3305</td></tr><tr><td>2554</td><td>97321</td></tr><tr><td>3436</td><td>386</td></tr><tr><td>4327</td><td>1164</td></tr><tr><td>2782</td><td>1181</td></tr><tr><td>1005</td><td>3083525</td></tr><tr><td>5657</td><td>88716</td></tr><tr><td>2098</td><td>22737</td></tr><tr><td>1236</td><td>142507</td></tr><tr><td>5528</td><td>59950</td></tr><tr><td>2171</td><td>2623</td></tr><tr><td>3406</td><td>4475</td></tr><tr><td>3276</td><td>2383</td></tr><tr><td>2153</td><td>91909</td></tr><tr><td>2485</td><td>852421</td></tr><tr><td>4831</td><td>5051</td></tr><tr><td>3874</td><td>9257</td></tr><tr><td>3169</td><td>17</td></tr><tr><td>2076</td><td>93100</td></tr><tr><td>5609</td><td>58144</td></tr><tr><td>2816</td><td>14167</td></tr><tr><td>3244</td><td>4754</td></tr><tr><td>1522</td><td>530289</td></tr><tr><td>1723</td><td>61177</td></tr><tr><td>2391</td><td>77697</td></tr><tr><td>2776</td><td>57578</td></tr><tr><td>5164</td><td>9952</td></tr><tr><td>3955</td><td>1227</td></tr><tr><td>4066</td><td>2506</td></tr><tr><td>1065</td><td>475847</td></tr><tr><td>5580</td><td>156881</td></tr><tr><td>4449</td><td>8119</td></tr><tr><td>2353</td><td>34540</td></tr><tr><td>4087</td><td>182</td></tr><tr><td>4321</td><td>4</td></tr><tr><td>5177</td><td>66</td></tr><tr><td>1424</td><td>24</td></tr><tr><td>5221</td><td>59</td></tr><tr><td>4409</td><td>394</td></tr><tr><td>4311</td><td>13</td></tr><tr><td>1895</td><td>329</td></tr><tr><td>3556</td><td>35</td></tr><tr><td>3359</td><td>1163</td></tr><tr><td>2573</td><td>1141</td></tr><tr><td>5146</td><td>203</td></tr><tr><td>2688</td><td>132</td></tr><tr><td>3402</td><td>117</td></tr><tr><td>3268</td><td>25</td></tr><tr><td>5497</td><td>54</td></tr><tr><td>5103</td><td>77</td></tr><tr><td>4062</td><td>290</td></tr><tr><td>2236</td><td>36</td></tr><tr><td>3744</td><td>156</td></tr><tr><td>3759</td><td>6</td></tr><tr><td>3962</td><td>39</td></tr><tr><td>4366</td><td>45</td></tr><tr><td>3290</td><td>103</td></tr><tr><td>1346</td><td>11</td></tr><tr><td>4891</td><td>73</td></tr><tr><td>4991</td><td>57</td></tr><tr><td>4253</td><td>27</td></tr><tr><td>5783</td><td>16</td></tr><tr><td>1305</td><td>31</td></tr><tr><td>5748</td><td>14</td></tr><tr><td>4297</td><td>1</td></tr><tr><td>3807</td><td>12</td></tr><tr><td>3914</td><td>2</td></tr><tr><td>4706</td><td>9</td></tr><tr><td>5791</td><td>2</td></tr><tr><td>2066</td><td>636558</td></tr><tr><td>2638</td><td>83459</td></tr><tr><td>5923</td><td>47184</td></tr><tr><td>3541</td><td>2823</td></tr><tr><td>3938</td><td>2071</td></tr><tr><td>2931</td><td>6380</td></tr><tr><td>2801</td><td>7600</td></tr><tr><td>1293</td><td>277422</td></tr><tr><td>2919</td><td>75</td></tr><tr><td>3621</td><td>996</td></tr><tr><td>4784</td><td>940</td></tr><tr><td>2860</td><td>6463</td></tr><tr><td>4681</td><td>2144</td></tr><tr><td>5761</td><td>3480</td></tr><tr><td>1052</td><td>773</td></tr><tr><td>2282</td><td>213784</td></tr><tr><td>1918</td><td>31792</td></tr><tr><td>1163</td><td>110347</td></tr><tr><td>3241</td><td>287</td></tr><tr><td>2751</td><td>1739</td></tr><tr><td>4232</td><td>3543</td></tr><tr><td>3399</td><td>737</td></tr><tr><td>2951</td><td>239</td></tr><tr><td>5495</td><td>22036</td></tr><tr><td>1901</td><td>73294</td></tr><tr><td>3035</td><td>7490</td></tr><tr><td>4517</td><td>1974</td></tr><tr><td>3211</td><td>4095</td></tr><tr><td>5958</td><td>1075</td></tr><tr><td>2652</td><td>90588</td></tr><tr><td>5194</td><td>166</td></tr><tr><td>2490</td><td>595728</td></tr><tr><td>1192</td><td>878851</td></tr><tr><td>2564</td><td>150263</td></tr><tr><td>3593</td><td>93</td></tr><tr><td>2258</td><td>2291</td></tr><tr><td>2412</td><td>797369</td></tr><tr><td>2529</td><td>177333</td></tr><tr><td>3944</td><td>3706</td></tr><tr><td>4496</td><td>2457</td></tr><tr><td>2734</td><td>916</td></tr><tr><td>2175</td><td>14657</td></tr><tr><td>1764</td><td>3364</td></tr><tr><td>5438</td><td>1577</td></tr><tr><td>3625</td><td>2909</td></tr><tr><td>3091</td><td>2823</td></tr><tr><td>4520</td><td>1650</td></tr><tr><td>1933</td><td>4997</td></tr><tr><td>3829</td><td>611</td></tr><tr><td>5463</td><td>96070</td></tr><tr><td>3217</td><td>1935</td></tr><tr><td>2224</td><td>323</td></tr><tr><td>5773</td><td>2540</td></tr><tr><td>4980</td><td>1803</td></tr><tr><td>1472</td><td>2985</td></tr><tr><td>4424</td><td>2452</td></tr><tr><td>3819</td><td>169</td></tr><tr><td>5974</td><td>456</td></tr><tr><td>1407</td><td>107840</td></tr><tr><td>2789</td><td>15699</td></tr><tr><td>2069</td><td>88436</td></tr><tr><td>5895</td><td>204361</td></tr><tr><td>3352</td><td>582</td></tr><tr><td>4290</td><td>1564</td></tr><tr><td>2210</td><td>153</td></tr><tr><td>3483</td><td>7266</td></tr><tr><td>1928</td><td>8478</td></tr><tr><td>3357</td><td>3747</td></tr><tr><td>5644</td><td>232815</td></tr><tr><td>1735</td><td>115063</td></tr><tr><td>3624</td><td>26185</td></tr><tr><td>5544</td><td>36189</td></tr><tr><td>5885</td><td>33712</td></tr><tr><td>1668</td><td>2037</td></tr><tr><td>3643</td><td>3275</td></tr><tr><td>5523</td><td>8275</td></tr><tr><td>2394</td><td>142884</td></tr><tr><td>5881</td><td>53298</td></tr><tr><td>2342</td><td>5323</td></tr><tr><td>2307</td><td>200</td></tr><tr><td>5817</td><td>1611</td></tr><tr><td>1296</td><td>23354</td></tr><tr><td>5654</td><td>2739</td></tr><tr><td>5685</td><td>17126</td></tr><tr><td>1809</td><td>1020</td></tr><tr><td>1382</td><td>6139</td></tr><tr><td>5727</td><td>812</td></tr><tr><td>4759</td><td>1436</td></tr><tr><td>3862</td><td>270</td></tr><tr><td>3152</td><td>554</td></tr><tr><td>5444</td><td>131</td></tr><tr><td>3882</td><td>261</td></tr><tr><td>4292</td><td>14</td></tr><tr><td>1573</td><td>1</td></tr><tr><td>1462</td><td>5</td></tr><tr><td>4093</td><td>22</td></tr><tr><td>3596</td><td>22</td></tr><tr><td>4350</td><td>59</td></tr><tr><td>5857</td><td>30</td></tr><tr><td>3633</td><td>7</td></tr><tr><td>5118</td><td>8</td></tr><tr><td>2842</td><td>14</td></tr><tr><td>4005</td><td>2</td></tr><tr><td>4208</td><td>1</td></tr><tr><td>4955</td><td>1</td></tr><tr><td>5626</td><td>290380</td></tr><tr><td>2326</td><td>43584</td></tr><tr><td>1492</td><td>3206</td></tr><tr><td>3855</td><td>4749</td></tr><tr><td>2906</td><td>42058</td></tr><tr><td>2252</td><td>447469</td></tr><tr><td>5856</td><td>106</td></tr><tr><td>4437</td><td>304</td></tr><tr><td>2530</td><td>2987875</td></tr><tr><td>3302</td><td>26057</td></tr><tr><td>3118</td><td>27020</td></tr><tr><td>4945</td><td>2235</td></tr><tr><td>2437</td><td>701</td></tr><tr><td>1651</td><td>95480</td></tr><tr><td>5092</td><td>22327</td></tr><tr><td>4293</td><td>2090</td></tr><tr><td>2673</td><td>4558</td></tr><tr><td>2605</td><td>2403</td></tr><tr><td>2381</td><td>132</td></tr><tr><td>2139</td><td>51534</td></tr><tr><td>1921</td><td>47252</td></tr><tr><td>3215</td><td>28170</td></tr><tr><td>3588</td><td>537</td></tr><tr><td>1217</td><td>147783</td></tr><tr><td>1385</td><td>1048</td></tr><tr><td>3555</td><td>1563</td></tr><tr><td>2182</td><td>55912</td></tr><tr><td>2910</td><td>3555</td></tr><tr><td>4466</td><td>1680</td></tr><tr><td>1132</td><td>234</td></tr><tr><td>2195</td><td>742</td></tr><tr><td>2824</td><td>12823</td></tr><tr><td>3219</td><td>3146</td></tr><tr><td>2504</td><td>34402</td></tr><tr><td>3578</td><td>12891</td></tr><tr><td>4241</td><td>13954</td></tr><tr><td>1634</td><td>6624</td></tr><tr><td>4453</td><td>1699</td></tr><tr><td>4003</td><td>1481</td></tr><tr><td>1914</td><td>554</td></tr><tr><td>2797</td><td>2428</td></tr><tr><td>1891</td><td>5128</td></tr><tr><td>2848</td><td>311</td></tr><tr><td>4838</td><td>607</td></tr><tr><td>2151</td><td>225831</td></tr><tr><td>2582</td><td>18401</td></tr><tr><td>2587</td><td>9759</td></tr><tr><td>3809</td><td>1462</td></tr><tr><td>2682</td><td>52641</td></tr><tr><td>4404</td><td>10088</td></tr><tr><td>3716</td><td>3103</td></tr><tr><td>3154</td><td>30964</td></tr><tr><td>1188</td><td>443347</td></tr><tr><td>5190</td><td>171</td></tr><tr><td>3537</td><td>12044</td></tr><tr><td>2710</td><td>9380</td></tr><tr><td>5888</td><td>2678</td></tr><tr><td>3294</td><td>5422</td></tr><tr><td>3000</td><td>35534</td></tr><tr><td>4143</td><td>342</td></tr><tr><td>1893</td><td>72153</td></tr><tr><td>5830</td><td>155</td></tr><tr><td>1769</td><td>1518</td></tr><tr><td>1205</td><td>2259442</td></tr><tr><td>2426</td><td>162554</td></tr><tr><td>5677</td><td>28811</td></tr><tr><td>1641</td><td>49647</td></tr><tr><td>3799</td><td>5605</td></tr><tr><td>5540</td><td>38812</td></tr><tr><td>3175</td><td>3607</td></tr><tr><td>3565</td><td>228</td></tr><tr><td>1860</td><td>1073</td></tr><tr><td>1925</td><td>17793</td></tr><tr><td>3721</td><td>110</td></tr><tr><td>3097</td><td>5421</td></tr><tr><td>5691</td><td>1174</td></tr><tr><td>1147</td><td>5196955</td></tr><tr><td>2509</td><td>34169</td></tr><tr><td>1932</td><td>5176</td></tr><tr><td>3471</td><td>620</td></tr><tr><td>3350</td><td>1975</td></tr><tr><td>5493</td><td>189</td></tr><tr><td>4561</td><td>30753</td></tr><tr><td>4612</td><td>4230</td></tr><tr><td>2731</td><td>4611</td></tr><tr><td>2380</td><td>16456</td></tr><tr><td>4052</td><td>862</td></tr><tr><td>1213</td><td>154272</td></tr><tr><td>5696</td><td>64221</td></tr><tr><td>4998</td><td>6</td></tr><tr><td>4474</td><td>215</td></tr><tr><td>4864</td><td>272</td></tr><tr><td>4964</td><td>484</td></tr><tr><td>5028</td><td>182</td></tr><tr><td>2720</td><td>397</td></tr><tr><td>1609</td><td>342</td></tr><tr><td>3001</td><td>579</td></tr><tr><td>4705</td><td>39</td></tr><tr><td>2414</td><td>369</td></tr><tr><td>4146</td><td>185</td></tr><tr><td>2227</td><td>267</td></tr><tr><td>1587</td><td>373</td></tr><tr><td>2784</td><td>107</td></tr><tr><td>3124</td><td>408</td></tr><tr><td>5823</td><td>125</td></tr><tr><td>1675</td><td>5</td></tr><tr><td>3921</td><td>21</td></tr><tr><td>3929</td><td>40</td></tr><tr><td>3341</td><td>128</td></tr><tr><td>1852</td><td>47</td></tr><tr><td>5167</td><td>24</td></tr><tr><td>1307</td><td>23</td></tr><tr><td>2556</td><td>23935</td></tr><tr><td>2900</td><td>5597</td></tr><tr><td>4481</td><td>6833</td></tr><tr><td>3486</td><td>2142</td></tr><tr><td>2566</td><td>101482</td></tr><tr><td>3629</td><td>50576</td></tr><tr><td>3655</td><td>6104</td></tr><tr><td>1151</td><td>2373</td></tr><tr><td>3073</td><td>42036</td></tr><tr><td>1654</td><td>34085</td></tr><tr><td>4906</td><td>146</td></tr><tr><td>2851</td><td>773</td></tr><tr><td>3166</td><td>525</td></tr><tr><td>2521</td><td>221441</td></tr><tr><td>1034</td><td>3151081</td></tr><tr><td>2199</td><td>1163</td></tr><tr><td>5077</td><td>51446</td></tr><tr><td>2101</td><td>53821</td></tr><tr><td>2943</td><td>6042</td></tr><tr><td>5611</td><td>8274</td></tr><tr><td>1674</td><td>1154</td></tr><tr><td>5909</td><td>123</td></tr><tr><td>1127</td><td>1399</td></tr><tr><td>2882</td><td>691</td></tr><tr><td>5936</td><td>1212</td></tr><tr><td>3626</td><td>29977</td></tr><tr><td>3368</td><td>7700</td></tr><tr><td>4130</td><td>1583</td></tr><tr><td>3300</td><td>10693</td></tr><tr><td>4157</td><td>576</td></tr><tr><td>3696</td><td>1671</td></tr><tr><td>5593</td><td>298909</td></tr><tr><td>2405</td><td>18425</td></tr><tr><td>5550</td><td>34906</td></tr><tr><td>3540</td><td>1067</td></tr><tr><td>4335</td><td>246</td></tr><tr><td>5558</td><td>1001482</td></tr><tr><td>1099</td><td>499792</td></tr><tr><td>2176</td><td>38756</td></tr><tr><td>4487</td><td>4669</td></tr><tr><td>5625</td><td>1932</td></tr><tr><td>1260</td><td>439546</td></tr><tr><td>5690</td><td>53546</td></tr><tr><td>3131</td><td>992</td></tr><tr><td>5015</td><td>3493</td></tr><tr><td>1093</td><td>9992372</td></tr><tr><td>5529</td><td>186938</td></tr><tr><td>3025</td><td>19269</td></tr><tr><td>3772</td><td>11807</td></tr><tr><td>4418</td><td>13757</td></tr><tr><td>3991</td><td>45</td></tr><tr><td>1636</td><td>2569</td></tr><tr><td>2515</td><td>91509</td></tr><tr><td>3159</td><td>736</td></tr><tr><td>2950</td><td>28846</td></tr><tr><td>1620</td><td>46448</td></tr><tr><td>3432</td><td>1127</td></tr><tr><td>5543</td><td>79756</td></tr><tr><td>2772</td><td>3234</td></tr><tr><td>1004</td><td>29760875</td></tr><tr><td>5504</td><td>32522</td></tr><tr><td>1911</td><td>10792</td></tr><tr><td>1635</td><td>74888</td></tr><tr><td>1915</td><td>7725</td></tr><tr><td>5556</td><td>275155</td></tr><tr><td>2083</td><td>3161</td></tr><tr><td>4072</td><td>5712</td></tr><tr><td>5679</td><td>50756</td></tr><tr><td>1050</td><td>556224</td></tr><tr><td>5519</td><td>104489</td></tr><tr><td>5716</td><td>108960</td></tr><tr><td>4622</td><td>1476</td></tr><tr><td>5163</td><td>520</td></tr><tr><td>1154</td><td>407962</td></tr><tr><td>5650</td><td>108035</td></tr><tr><td>1017</td><td>29030</td></tr><tr><td>5922</td><td>118146</td></tr><tr><td>3048</td><td>33617</td></tr><tr><td>2349</td><td>9078</td></tr><tr><td>5832</td><td>7007</td></tr><tr><td>3933</td><td>12625</td></tr><tr><td>3472</td><td>2416</td></tr><tr><td>4939</td><td>426</td></tr><tr><td>3802</td><td>143</td></tr><tr><td>2990</td><td>130</td></tr><tr><td>4172</td><td>4</td></tr><tr><td>2918</td><td>914</td></tr><tr><td>1606</td><td>813</td></tr><tr><td>2864</td><td>214</td></tr><tr><td>4414</td><td>840</td></tr><tr><td>5793</td><td>676</td></tr><tr><td>1331</td><td>301</td></tr><tr><td>4460</td><td>80</td></tr><tr><td>2449</td><td>99</td></tr><tr><td>2866</td><td>621</td></tr><tr><td>5803</td><td>70</td></tr><tr><td>4652</td><td>26</td></tr><tr><td>2067</td><td>33</td></tr><tr><td>2219</td><td>215</td></tr><tr><td>4201</td><td>33</td></tr><tr><td>2480</td><td>94</td></tr><tr><td>5111</td><td>63</td></tr><tr><td>4771</td><td>168</td></tr><tr><td>5006</td><td>10</td></tr><tr><td>3493</td><td>110</td></tr><tr><td>4274</td><td>11</td></tr><tr><td>5680</td><td>101</td></tr><tr><td>1365</td><td>51</td></tr><tr><td>4835</td><td>48</td></tr><tr><td>4304</td><td>17</td></tr><tr><td>4287</td><td>25</td></tr><tr><td>3940</td><td>12</td></tr><tr><td>2212</td><td>14</td></tr><tr><td>4362</td><td>6</td></tr><tr><td>1485</td><td>3</td></tr><tr><td>3667</td><td>13</td></tr><tr><td>4861</td><td>1</td></tr><tr><td>3051</td><td>1</td></tr><tr><td>1877</td><td>6353</td></tr><tr><td>1399</td><td>46480</td></tr><tr><td>2785</td><td>4181</td></tr><tr><td>1888</td><td>7297</td></tr><tr><td>3585</td><td>1282</td></tr><tr><td>4475</td><td>18875</td></tr><tr><td>3510</td><td>99</td></tr><tr><td>5882</td><td>22703</td></tr><tr><td>3104</td><td>15859</td></tr><tr><td>1836</td><td>1177</td></tr><tr><td>2478</td><td>3242</td></tr><tr><td>3953</td><td>5057</td></tr><tr><td>2830</td><td>18031</td></tr><tr><td>2465</td><td>2006</td></tr><tr><td>1838</td><td>923</td></tr><tr><td>1051</td><td>2192</td></tr><tr><td>1184</td><td>151345</td></tr><tr><td>3393</td><td>6002</td></tr><tr><td>4077</td><td>2059</td></tr><tr><td>3224</td><td>323</td></tr><tr><td>2795</td><td>1601</td></tr><tr><td>2220</td><td>30360</td></tr><tr><td>2472</td><td>7734</td></tr><tr><td>5632</td><td>28714</td></tr><tr><td>4459</td><td>9058</td></tr><tr><td>4492</td><td>8939</td></tr><tr><td>1491</td><td>2259</td></tr><tr><td>2201</td><td>1457</td></tr><tr><td>3637</td><td>1980</td></tr><tr><td>1060</td><td>136</td></tr><tr><td>1043</td><td>431559</td></tr><tr><td>1637</td><td>4830</td></tr><tr><td>2137</td><td>4729</td></tr><tr><td>5947</td><td>5113</td></tr><tr><td>4221</td><td>1213</td></tr><tr><td>3467</td><td>1063</td></tr><tr><td>1138</td><td>174755</td></tr><tr><td>4102</td><td>123618</td></tr><tr><td>5599</td><td>10479</td></tr><tr><td>2597</td><td>18119</td></tr><tr><td>1628</td><td>53586</td></tr><tr><td>2576</td><td>19624</td></tr><tr><td>2336</td><td>38353</td></tr><tr><td>3096</td><td>1144</td></tr><tr><td>2915</td><td>276</td></tr><tr><td>4344</td><td>52</td></tr><tr><td>4008</td><td>27438</td></tr><tr><td>3694</td><td>8096</td></tr><tr><td>2885</td><td>3004</td></tr><tr><td>5986</td><td>473</td></tr><tr><td>1400</td><td>322411</td></tr><tr><td>1934</td><td>27103</td></tr><tr><td>2916</td><td>1943</td></tr><tr><td>5458</td><td>127</td></tr><tr><td>2748</td><td>22084</td></tr><tr><td>2400</td><td>4356</td></tr><tr><td>2117</td><td>2666</td></tr><tr><td>4417</td><td>1064</td></tr><tr><td>2810</td><td>1627</td></tr><tr><td>1125</td><td>405</td></tr><tr><td>1159</td><td>141212</td></tr><tr><td>5490</td><td>13717</td></tr><tr><td>4128</td><td>213</td></tr><tr><td>3639</td><td>18210</td></tr><tr><td>5975</td><td>444</td></tr><tr><td>2986</td><td>3748</td></tr><tr><td>2998</td><td>15787</td></tr><tr><td>3006</td><td>11951</td></tr><tr><td>2075</td><td>433</td></tr><tr><td>2429</td><td>592507</td></tr><tr><td>1203</td><td>19507</td></tr><tr><td>4933</td><td>250</td></tr><tr><td>5636</td><td>131329</td></tr><tr><td>1369</td><td>54806</td></tr><tr><td>3130</td><td>9820</td></tr><tr><td>5991</td><td>207172</td></tr><tr><td>2513</td><td>146558</td></tr><tr><td>1645</td><td>150988</td></tr><tr><td>2626</td><td>1790</td></tr><tr><td>5459</td><td>1472</td></tr><tr><td>2130</td><td>201412</td></tr><tr><td>2953</td><td>37125</td></tr><tr><td>2847</td><td>4907</td></tr><tr><td>3460</td><td>398</td></tr><tr><td>1890</td><td>1681</td></tr><tr><td>1569</td><td>698</td></tr><tr><td>3600</td><td>977</td></tr><tr><td>3527</td><td>443</td></tr><tr><td>4234</td><td>913</td></tr><tr><td>2831</td><td>824</td></tr><tr><td>3800</td><td>635</td></tr><tr><td>4444</td><td>950</td></tr><tr><td>3018</td><td>115</td></tr><tr><td>2826</td><td>1559</td></tr><tr><td>2585</td><td>374</td></tr><tr><td>5967</td><td>566</td></tr><tr><td>5169</td><td>195</td></tr><tr><td>5011</td><td>46</td></tr><tr><td>2759</td><td>1319</td></tr><tr><td>3356</td><td>455</td></tr><tr><td>4000</td><td>340</td></tr><tr><td>2884</td><td>209</td></tr><tr><td>3237</td><td>79</td></tr><tr><td>5173</td><td>67</td></tr><tr><td>3506</td><td>1</td></tr><tr><td>2204</td><td>7</td></tr><tr><td>4983</td><td>51</td></tr><tr><td>3440</td><td>70</td></tr><tr><td>4134</td><td>48</td></tr><tr><td>5747</td><td>6</td></tr><tr><td>4627</td><td>140</td></tr><tr><td>3985</td><td>57</td></tr><tr><td>2257</td><td>5</td></tr><tr><td>3644</td><td>44</td></tr><tr><td>4493</td><td>87</td></tr><tr><td>1259</td><td>26</td></tr><tr><td>1308</td><td>9</td></tr><tr><td>4142</td><td>7</td></tr><tr><td>4382</td><td>25</td></tr><tr><td>3736</td><td>9</td></tr><tr><td>4206</td><td>3</td></tr><tr><td>4712</td><td>2</td></tr><tr><td>1368</td><td>1</td></tr><tr><td>5613</td><td>652963</td></tr><tr><td>2528</td><td>98827</td></tr><tr><td>3098</td><td>3672</td></tr><tr><td>3102</td><td>412913</td></tr><tr><td>1097</td><td>1929118</td></tr><tr><td>2327</td><td>79916</td></tr><tr><td>2105</td><td>50063</td></tr><tr><td>5915</td><td>54004</td></tr><tr><td>2551</td><td>69470</td></tr><tr><td>3101</td><td>20343</td></tr><tr><td>4257</td><td>253</td></tr><tr><td>3340</td><td>967</td></tr><tr><td>3664</td><td>2490</td></tr><tr><td>2420</td><td>7934</td></tr><tr><td>2769</td><td>1946</td></tr><tr><td>5476</td><td>99306</td></tr><tr><td>3704</td><td>6051</td></tr><tr><td>2354</td><td>17833</td></tr><tr><td>1309</td><td>176</td></tr><tr><td>5960</td><td>1057</td></tr><tr><td>3592</td><td>1244</td></tr><tr><td>4516</td><td>694</td></tr><tr><td>1235</td><td>864899</td></tr><tr><td>1922</td><td>58045</td></tr><tr><td>2685</td><td>996</td></tr><tr><td>1238</td><td>220779</td></tr><tr><td>1268</td><td>84084</td></tr><tr><td>2863</td><td>5397</td></tr><tr><td>4161</td><td>88</td></tr><tr><td>4155</td><td>734</td></tr><tr><td>4088</td><td>5954</td></tr><tr><td>4554</td><td>5406</td></tr><tr><td>1148</td><td>192573</td></tr><tr><td>1164</td><td>244856</td></tr><tr><td>3100</td><td>3090</td></tr><tr><td>2802</td><td>230</td></tr><tr><td>4131</td><td>8460</td></tr><tr><td>2263</td><td>8592</td></tr><tr><td>3391</td><td>12122</td></tr><tr><td>2705</td><td>10238</td></tr><tr><td>2812</td><td>1842</td></tr><tr><td>2677</td><td>28406</td></tr><tr><td>1095</td><td>384166</td></tr><tr><td>1106</td><td>25650</td></tr><tr><td>5076</td><td>90231</td></tr><tr><td>3389</td><td>10457</td></tr><tr><td>3143</td><td>7315</td></tr><tr><td>3686</td><td>856</td></tr><tr><td>2999</td><td>1930</td></tr><tr><td>3989</td><td>400</td></tr><tr><td>3079</td><td>42656</td></tr><tr><td>2243</td><td>4272</td></tr><tr><td>3705</td><td>48</td></tr><tr><td>1211</td><td>672440</td></tr><tr><td>1884</td><td>9991</td></tr><tr><td>2503</td><td>8426</td></tr><tr><td>2960</td><td>8375</td></tr><tr><td>1792</td><td>1374</td></tr><tr><td>3813</td><td>543</td></tr><tr><td>4276</td><td>2946</td></tr><tr><td>5542</td><td>1446</td></tr><tr><td>1062</td><td>1402191</td></tr><tr><td>2398</td><td>135562</td></tr><tr><td>3411</td><td>1296</td></tr><tr><td>4408</td><td>2240</td></tr><tr><td>1042</td><td>1409264</td></tr><tr><td>5676</td><td>21975</td></tr><tr><td>3015</td><td>8839</td></tr><tr><td>4648</td><td>33</td></tr><tr><td>2893</td><td>379721</td></tr><tr><td>5158</td><td>498</td></tr><tr><td>1082</td><td>1341</td></tr><tr><td>5524</td><td>60318</td></tr><tr><td>2645</td><td>144819</td></tr><tr><td>2989</td><td>21401</td></tr><tr><td>2783</td><td>12709</td></tr><tr><td>1892</td><td>23361</td></tr><tr><td>2641</td><td>159120</td></tr><tr><td>4267</td><td>296</td></tr><tr><td>2982</td><td>3571</td></tr><tr><td>4127</td><td>1065</td></tr><tr><td>2934</td><td>5795</td></tr><tr><td>3668</td><td>1241</td></tr><tr><td>5884</td><td>1951</td></tr><tr><td>4013</td><td>126</td></tr><tr><td>5682</td><td>211</td></tr><tr><td>4094</td><td>912</td></tr><tr><td>3905</td><td>617</td></tr><tr><td>2909</td><td>334</td></tr><tr><td>4532</td><td>229</td></tr><tr><td>3258</td><td>49</td></tr><tr><td>1669</td><td>753</td></tr><tr><td>5822</td><td>221</td></tr><tr><td>3943</td><td>276</td></tr><tr><td>2265</td><td>281</td></tr><tr><td>4244</td><td>259</td></tr><tr><td>1536</td><td>57</td></tr><tr><td>3986</td><td>271</td></tr><tr><td>1752</td><td>300</td></tr><tr><td>3328</td><td>309</td></tr><tr><td>3221</td><td>132</td></tr><tr><td>5953</td><td>239</td></tr><tr><td>5659</td><td>752</td></tr><tr><td>3429</td><td>45</td></tr><tr><td>5713</td><td>57</td></tr><tr><td>3776</td><td>32</td></tr><tr><td>4117</td><td>68</td></tr><tr><td>5004</td><td>49</td></tr><tr><td>3923</td><td>99</td></tr><tr><td>1287</td><td>29</td></tr><tr><td>3698</td><td>126</td></tr><tr><td>4506</td><td>113</td></tr><tr><td>1425</td><td>3</td></tr><tr><td>3822</td><td>6</td></tr><tr><td>2873</td><td>50</td></tr><tr><td>4120</td><td>74</td></tr><tr><td>5721</td><td>3</td></tr><tr><td>3867</td><td>52</td></tr><tr><td>5370</td><td>28</td></tr><tr><td>1682</td><td>27</td></tr><tr><td>2905</td><td>2</td></tr><tr><td>5827</td><td>2</td></tr><tr><td>5175</td><td>111</td></tr><tr><td>1701</td><td>236</td></tr><tr><td>1805</td><td>44</td></tr><tr><td>1240</td><td>247089</td></tr><tr><td>5920</td><td>169077</td></tr><tr><td>1152</td><td>148186</td></tr><tr><td>1414</td><td>27497</td></tr><tr><td>2714</td><td>157</td></tr><tr><td>1591</td><td>28608</td></tr><tr><td>4410</td><td>2355</td></tr><tr><td>1322</td><td>29036</td></tr><tr><td>2790</td><td>6842</td></tr><tr><td>5664</td><td>185</td></tr><tr><td>1289</td><td>3365665</td></tr><tr><td>2519</td><td>1062951</td></tr><tr><td>2912</td><td>38245</td></tr><tr><td>2541</td><td>89328</td></tr><tr><td>5635</td><td>1178</td></tr><tr><td>2315</td><td>313945</td></tr><tr><td>1009</td><td>30742</td></tr><tr><td>2796</td><td>1273</td></tr><tr><td>3584</td><td>63981</td></tr><tr><td>4477</td><td>2305</td></tr><tr><td>1878</td><td>30627</td></tr><tr><td>3253</td><td>107</td></tr><tr><td>2813</td><td>145</td></tr><tr><td>1083</td><td>19093</td></tr><tr><td>2980</td><td>17198</td></tr><tr><td>3646</td><td>9430</td></tr><tr><td>4091</td><td>130</td></tr><tr><td>5520</td><td>141493</td></tr><tr><td>1661</td><td>12334</td></tr><tr><td>3122</td><td>5628</td></tr><tr><td>5486</td><td>339794</td></tr><tr><td>4473</td><td>17885</td></tr><tr><td>2522</td><td>75762</td></tr><tr><td>3319</td><td>6997</td></tr><tr><td>4288</td><td>3886</td></tr><tr><td>4189</td><td>286</td></tr><tr><td>5492</td><td>27054</td></tr><tr><td>5596</td><td>424973</td></tr><tr><td>1436</td><td>1068</td></tr><tr><td>5557</td><td>217643</td></tr><tr><td>2794</td><td>6555</td></tr><tr><td>1316</td><td>12201</td></tr><tr><td>1881</td><td>1862</td></tr><tr><td>4457</td><td>901</td></tr><tr><td>1070</td><td>2921709</td></tr><tr><td>5637</td><td>343736</td></tr><tr><td>2079</td><td>37484</td></tr><tr><td>1146</td><td>147081</td></tr><tr><td>2646</td><td>50991</td></tr><tr><td>2924</td><td>1544</td></tr><tr><td>2451</td><td>867</td></tr><tr><td>3444</td><td>1235</td></tr><tr><td>3720</td><td>488</td></tr><tr><td>3553</td><td>1530</td></tr><tr><td>2144</td><td>11299</td></tr><tr><td>2991</td><td>4040</td></tr><tr><td>5816</td><td>22992</td></tr><tr><td>2901</td><td>1182</td></tr><tr><td>3008</td><td>174017</td></tr><tr><td>3195</td><td>8115</td></tr><tr><td>3861</td><td>493</td></tr><tr><td>2475</td><td>5703</td></tr><tr><td>5628</td><td>301227</td></tr><tr><td>1898</td><td>30818</td></tr><tr><td>1470</td><td>141029</td></tr><tr><td>3200</td><td>522</td></tr><tr><td>4484</td><td>5950</td></tr><tr><td>4269</td><td>8997</td></tr><tr><td>4472</td><td>741</td></tr><tr><td>3573</td><td>550</td></tr><tr><td>5113</td><td>134</td></tr><tr><td>2926</td><td>637</td></tr><tr><td>3223</td><td>873</td></tr><tr><td>3859</td><td>1091</td></tr><tr><td>2136</td><td>61183</td></tr><tr><td>2339</td><td>339</td></tr><tr><td>2892</td><td>463</td></tr><tr><td>5891</td><td>418</td></tr><tr><td>3794</td><td>576</td></tr><tr><td>2899</td><td>486</td></tr><tr><td>1511</td><td>216</td></tr><tr><td>2793</td><td>253</td></tr><tr><td>1791</td><td>29</td></tr><tr><td>3390</td><td>183</td></tr><tr><td>5714</td><td>128</td></tr><tr><td>3893</td><td>530</td></tr><tr><td>3082</td><td>415</td></tr><tr><td>5188</td><td>31</td></tr><tr><td>4944</td><td>265</td></tr><tr><td>3375</td><td>378</td></tr><tr><td>3147</td><td>250</td></tr><tr><td>4302</td><td>61</td></tr><tr><td>1678</td><td>96</td></tr><tr><td>4731</td><td>48</td></tr><tr><td>3887</td><td>102</td></tr><tr><td>4202</td><td>60</td></tr><tr><td>3735</td><td>741</td></tr><tr><td>3531</td><td>44</td></tr><tr><td>4278</td><td>107</td></tr><tr><td>1885</td><td>121</td></tr><tr><td>3961</td><td>64</td></tr><tr><td>3980</td><td>132</td></tr><tr><td>4262</td><td>38</td></tr><tr><td>3552</td><td>14</td></tr><tr><td>2569</td><td>89</td></tr><tr><td>4804</td><td>133</td></tr><tr><td>4777</td><td>85</td></tr><tr><td>4483</td><td>52</td></tr><tr><td>1574</td><td>3</td></tr><tr><td>2963</td><td>71</td></tr><tr><td>5139</td><td>65</td></tr><tr><td>3918</td><td>27</td></tr><tr><td>3894</td><td>76</td></tr><tr><td>3981</td><td>10</td></tr><tr><td>4217</td><td>32</td></tr><tr><td>2608</td><td>17</td></tr><tr><td>1528</td><td>11</td></tr><tr><td>4001</td><td>1</td></tr><tr><td>1643</td><td>4</td></tr><tr><td>5874</td><td>1</td></tr><tr><td>3454</td><td>10</td></tr><tr><td>3751</td><td>10</td></tr><tr><td>4642</td><td>4</td></tr><tr><td>4317</td><td>4</td></tr><tr><td>5161</td><td>7</td></tr><tr><td>3864</td><td>3</td></tr><tr><td>4154</td><td>1</td></tr><tr><td>4907</td><td>2</td></tr><tr><td>2173</td><td>2017748</td></tr><tr><td>3958</td><td>4871</td></tr><tr><td>3650</td><td>3090</td></tr><tr><td>2712</td><td>395</td></tr><tr><td>1071</td><td>1692294</td></tr><tr><td>5577</td><td>4254</td></tr><tr><td>1325</td><td>55671</td></tr><tr><td>2617</td><td>1696</td></tr><tr><td>2925</td><td>8239</td></tr><tr><td>4032</td><td>3149</td></tr><tr><td>5571</td><td>1331</td></tr><tr><td>2501</td><td>99472</td></tr><tr><td>2660</td><td>112548</td></tr><tr><td>1186</td><td>440992</td></tr><tr><td>2544</td><td>2594</td></tr><tr><td>3890</td><td>1293</td></tr><tr><td>3456</td><td>5868</td></tr><tr><td>2534</td><td>206679</td></tr><tr><td>2061</td><td>10589</td></tr><tr><td>5765</td><td>3871</td></tr><tr><td>4296</td><td>1706</td></tr><tr><td>2896</td><td>213</td></tr><tr><td>2170</td><td>190096</td></tr><tr><td>2502</td><td>38620</td></tr><tr><td>2827</td><td>23160</td></tr><tr><td>2300</td><td>243016</td></tr><tr><td>2993</td><td>3052</td></tr><tr><td>2955</td><td>2274</td></tr><tr><td>4426</td><td>74</td></tr><tr><td>4044</td><td>61872</td></tr><tr><td>5665</td><td>17666</td></tr><tr><td>3630</td><td>10975</td></tr><tr><td>3775</td><td>2257</td></tr><tr><td>1201</td><td>227827</td></tr><tr><td>1145</td><td>40841</td></tr><tr><td>3030</td><td>13191</td></tr><tr><td>1212</td><td>593005</td></tr><tr><td>3084</td><td>50526</td></tr><tr><td>2443</td><td>21644</td></tr><tr><td>1906</td><td>3132</td></tr><tr><td>3572</td><td>1734</td></tr><tr><td>1183</td><td>395874</td></tr><tr><td>1401</td><td>1612</td></tr><tr><td>3597</td><td>17164</td></tr><tr><td>1936</td><td>613</td></tr><tr><td>1174</td><td>458306</td></tr><tr><td>2359</td><td>37321</td></tr><tr><td>5502</td><td>464</td></tr><tr><td>3469</td><td>3070</td></tr><tr><td>5489</td><td>281839</td></tr><tr><td>1179</td><td>202950</td></tr><tr><td>5469</td><td>36504</td></tr><tr><td>4435</td><td>4055</td></tr><tr><td>3559</td><td>721</td></tr><tr><td>4747</td><td>8020</td></tr><tr><td>1267</td><td>81816</td></tr><tr><td>2203</td><td>7650</td></tr><tr><td>2260</td><td>166</td></tr><tr><td>3972</td><td>1134</td></tr><tr><td>3291</td><td>218568</td></tr><tr><td>2290</td><td>23573</td></tr><tr><td>3480</td><td>1626</td></tr><tr><td>4191</td><td>343</td></tr><tr><td>2189</td><td>1637</td></tr><tr><td>5949</td><td>724</td></tr><tr><td>2547</td><td>419669</td></tr><tr><td>1220</td><td>132378</td></tr><tr><td>3416</td><td>519</td></tr><tr><td>5963</td><td>2466</td></tr><tr><td>1202</td><td>104757</td></tr><tr><td>1624</td><td>32030</td></tr><tr><td>2713</td><td>1277</td></tr><tr><td>4461</td><td>1939</td></tr><tr><td>1780</td><td>1084</td></tr><tr><td>4586</td><td>5879</td></tr><tr><td>3508</td><td>2910</td></tr><tr><td>4309</td><td>363</td></tr><tr><td>5584</td><td>1728</td></tr><tr><td>4683</td><td>84</td></tr><tr><td>3191</td><td>331</td></tr><tr><td>3752</td><td>434</td></tr><tr><td>3546</td><td>384</td></tr><tr><td>2763</td><td>839</td></tr><tr><td>5279</td><td>255</td></tr><tr><td>3549</td><td>953</td></tr><tr><td>2228</td><td>627</td></tr><tr><td>5578</td><td>353</td></tr><tr><td>2815</td><td>264</td></tr><tr><td>2754</td><td>80</td></tr><tr><td>4687</td><td>447</td></tr><tr><td>2310</td><td>88</td></tr><tr><td>4123</td><td>207</td></tr><tr><td>3898</td><td>18</td></tr><tr><td>1725</td><td>55</td></tr><tr><td>5905</td><td>152</td></tr><tr><td>3849</td><td>77</td></tr><tr><td>4919</td><td>21</td></tr><tr><td>4303</td><td>18</td></tr><tr><td>4260</td><td>151</td></tr><tr><td>5022</td><td>4</td></tr><tr><td>3308</td><td>21</td></tr><tr><td>1739</td><td>100</td></tr><tr><td>3267</td><td>17</td></tr><tr><td>1282</td><td>14</td></tr><tr><td>4357</td><td>49</td></tr><tr><td>4668</td><td>21</td></tr><tr><td>1659</td><td>1</td></tr><tr><td>3870</td><td>13</td></tr><tr><td>1560</td><td>14</td></tr><tr><td>3120</td><td>6</td></tr><tr><td>3295</td><td>6</td></tr><tr><td>3979</td><td>8</td></tr><tr><td>3230</td><td>962</td></tr><tr><td>2366</td><td>138197</td></tr><tr><td>2102</td><td>22863</td></tr><tr><td>1011</td><td>509395</td></tr><tr><td>2898</td><td>12762</td></tr><tr><td>5117</td><td>226</td></tr><tr><td>2181</td><td>621</td></tr><tr><td>3181</td><td>481</td></tr><tr><td>1010</td><td>2365465</td></tr><tr><td>1229</td><td>87170</td></tr><tr><td>3477</td><td>324</td></tr><tr><td>5010</td><td>1347151</td></tr><tr><td>1023</td><td>3423010</td></tr><tr><td>1623</td><td>125923</td></tr><tr><td>4115</td><td>676</td></tr><tr><td>3170</td><td>529</td></tr><tr><td>3386</td><td>334</td></tr><tr><td>3014</td><td>9199</td></tr><tr><td>2663</td><td>6693</td></tr><tr><td>3598</td><td>4546</td></tr><tr><td>3216</td><td>1083</td></tr><tr><td>2595</td><td>40233</td></tr><tr><td>2063</td><td>72041</td></tr><tr><td>2871</td><td>585</td></tr><tr><td>4307</td><td>5255</td></tr><tr><td>3355</td><td>89</td></tr><tr><td>2861</td><td>956</td></tr><tr><td>2446</td><td>381877</td></tr><tr><td>5534</td><td>231711</td></tr><tr><td>5639</td><td>7454</td></tr><tr><td>3142</td><td>102</td></tr><tr><td>3178</td><td>1860</td></tr><tr><td>4446</td><td>26798</td></tr><tr><td>5086</td><td>263616</td></tr><tr><td>2271</td><td>2491</td></tr><tr><td>4254</td><td>366</td></tr><tr><td>3273</td><td>372</td></tr><tr><td>1943</td><td>38323</td></tr><tr><td>4095</td><td>8680</td></tr><tr><td>3271</td><td>15015</td></tr><tr><td>4482</td><td>1353</td></tr><tr><td>3542</td><td>2590</td></tr><tr><td>2725</td><td>58</td></tr><tr><td>4063</td><td>510</td></tr><tr><td>2888</td><td>1780</td></tr><tr><td>1191</td><td>105527</td></tr><tr><td>2103</td><td>146574</td></tr><tr><td>5522</td><td>20350</td></tr><tr><td>2434</td><td>872</td></tr><tr><td>1016</td><td>2624</td></tr><tr><td>5847</td><td>2815</td></tr><tr><td>5026</td><td>67</td></tr><tr><td>2920</td><td>615</td></tr><tr><td>4717</td><td>276</td></tr><tr><td>5090</td><td>2207751</td></tr><tr><td>4385</td><td>25512</td></tr><tr><td>3682</td><td>4452</td></tr><tr><td>5590</td><td>24064</td></tr><tr><td>3641</td><td>1113</td></tr><tr><td>2836</td><td>1515</td></tr><tr><td>1856</td><td>40675</td></tr><tr><td>2294</td><td>567315</td></tr><tr><td>5083</td><td>24118</td></tr><tr><td>2839</td><td>10788</td></tr><tr><td>3377</td><td>3574</td></tr><tr><td>3586</td><td>1048</td></tr><tr><td>2524</td><td>1648821</td></tr><tr><td>1166</td><td>8548</td></tr><tr><td>2743</td><td>4252</td></tr><tr><td>3536</td><td>4942</td></tr><tr><td>1379</td><td>61759</td></tr><tr><td>3407</td><td>4711</td></tr><tr><td>2911</td><td>19595</td></tr><tr><td>2059</td><td>74637</td></tr><tr><td>3673</td><td>12665</td></tr><tr><td>4663</td><td>284</td></tr><tr><td>4422</td><td>91436</td></tr><tr><td>5549</td><td>12681</td></tr><tr><td>1903</td><td>14728</td></tr><tr><td>2972</td><td>26252</td></tr><tr><td>4186</td><td>1366</td></tr><tr><td>2620</td><td>3071</td></tr><tr><td>4491</td><td>758</td></tr><tr><td>1208</td><td>377564</td></tr><tr><td>2572</td><td>106567</td></tr><tr><td>4500</td><td>2676</td></tr><tr><td>5937</td><td>308</td></tr><tr><td>2994</td><td>1089</td></tr><tr><td>5976</td><td>378</td></tr><tr><td>5186</td><td>109</td></tr><tr><td>4325</td><td>420</td></tr><tr><td>3939</td><td>195</td></tr><tr><td>2768</td><td>416</td></tr><tr><td>4118</td><td>2080</td></tr><tr><td>4329</td><td>180</td></tr><tr><td>5778</td><td>79</td></tr><tr><td>3608</td><td>118</td></tr><tr><td>3452</td><td>249</td></tr><tr><td>5795</td><td>112</td></tr><tr><td>2088</td><td>83</td></tr><tr><td>3381</td><td>223</td></tr><tr><td>2078</td><td>87</td></tr><tr><td>5032</td><td>74</td></tr><tr><td>5898</td><td>189</td></tr><tr><td>1706</td><td>40</td></tr><tr><td>4337</td><td>73</td></tr><tr><td>3730</td><td>99</td></tr><tr><td>5345</td><td>27</td></tr><tr><td>2065</td><td>130</td></tr><tr><td>4136</td><td>329</td></tr><tr><td>2358</td><td>40</td></tr><tr><td>3036</td><td>4</td></tr><tr><td>3601</td><td>44</td></tr><tr><td>5687</td><td>152</td></tr><tr><td>2615</td><td>17</td></tr><tr><td>3329</td><td>10</td></tr><tr><td>4176</td><td>15</td></tr><tr><td>5324</td><td>13</td></tr><tr><td>3415</td><td>18</td></tr><tr><td>3246</td><td>3</td></tr><tr><td>3410</td><td>1</td></tr><tr><td>1081</td><td>302346</td></tr><tr><td>2090</td><td>28218</td></tr><tr><td>2775</td><td>1332</td></tr><tr><td>2709</td><td>44591</td></tr><tr><td>1068</td><td>984996</td></tr><tr><td>1033</td><td>345262</td></tr><tr><td>1627</td><td>19724</td></tr><tr><td>1923</td><td>21684</td></tr><tr><td>5775</td><td>1891</td></tr><tr><td>2141</td><td>7485</td></tr><tr><td>2562</td><td>126</td></tr><tr><td>4494</td><td>1432</td></tr><tr><td>1030</td><td>383995</td></tr><tr><td>2708</td><td>3050</td></tr><tr><td>1416</td><td>6783</td></tr><tr><td>3884</td><td>99</td></tr><tr><td>1658</td><td>34147</td></tr><tr><td>3427</td><td>1765</td></tr><tr><td>3618</td><td>1863</td></tr><tr><td>2835</td><td>188</td></tr><tr><td>5798</td><td>1226</td></tr><tr><td>3665</td><td>14523</td></tr><tr><td>2692</td><td>15091</td></tr><tr><td>1019</td><td>319466</td></tr><tr><td>3361</td><td>1908</td></tr><tr><td>5579</td><td>7268</td></tr><tr><td>2338</td><td>2136</td></tr><tr><td>4266</td><td>1135</td></tr><tr><td>3965</td><td>265</td></tr><tr><td>1570</td><td>91</td></tr><tr><td>2474</td><td>2923</td></tr><tr><td>5944</td><td>6281</td></tr><tr><td>1504</td><td>3425</td></tr><tr><td>4121</td><td>1071</td></tr><tr><td>1939</td><td>798</td></tr><tr><td>1846</td><td>969</td></tr><tr><td>1554</td><td>306</td></tr><tr><td>3708</td><td>554</td></tr><tr><td>2431</td><td>600</td></tr><tr><td>5621</td><td>1916</td></tr><tr><td>1130</td><td>8421</td></tr><tr><td>4184</td><td>23235</td></tr><tr><td>4255</td><td>310</td></tr><tr><td>5071</td><td>96595</td></tr><tr><td>5551</td><td>5330</td></tr><tr><td>1582</td><td>4113</td></tr><tr><td>2466</td><td>65730</td></tr><tr><td>3715</td><td>25204</td></tr><tr><td>1930</td><td>583</td></tr><tr><td>3978</td><td>7473</td></tr><tr><td>3337</td><td>151</td></tr><tr><td>4979</td><td>235654</td></tr><tr><td>2378</td><td>336642</td></tr><tr><td>3405</td><td>2387</td></tr><tr><td>2937</td><td>1199</td></tr><tr><td>5115</td><td>536</td></tr><tr><td>5589</td><td>631</td></tr><tr><td>2841</td><td>405</td></tr><tr><td>2115</td><td>572</td></tr><tr><td>5894</td><td>134525</td></tr><tr><td>5594</td><td>5085</td></tr><tr><td>1053</td><td>1423</td></tr><tr><td>5108</td><td>3494</td></tr><tr><td>3922</td><td>3260</td></tr><tr><td>3450</td><td>1748</td></tr><tr><td>2428</td><td>3416</td></tr><tr><td>2818</td><td>11230</td></tr><tr><td>5668</td><td>12860</td></tr><tr><td>2395</td><td>5901</td></tr><tr><td>4069</td><td>63217</td></tr><tr><td>1821</td><td>83441</td></tr><tr><td>2856</td><td>2440</td></tr><tr><td>4036</td><td>23166</td></tr><tr><td>1231</td><td>62322</td></tr><tr><td>3117</td><td>3650</td></tr><tr><td>4392</td><td>1425</td></tr><tr><td>5346</td><td>91</td></tr><tr><td>1089</td><td>1080</td></tr><tr><td>2891</td><td>658</td></tr><tr><td>2096</td><td>166109</td></tr><tr><td>2545</td><td>35987</td></tr><tr><td>3567</td><td>2135</td></tr><tr><td>3423</td><td>254</td></tr><tr><td>3127</td><td>534</td></tr><tr><td>2491</td><td>128559</td></tr><tr><td>3564</td><td>29253</td></tr><tr><td>5084</td><td>198721</td></tr><tr><td>2584</td><td>47876</td></tr><tr><td>2489</td><td>39386</td></tr><tr><td>3401</td><td>1482</td></tr><tr><td>3255</td><td>1748</td></tr><tr><td>4411</td><td>3546</td></tr><tr><td>3174</td><td>1007</td></tr><tr><td>4212</td><td>712</td></tr><tr><td>2659</td><td>814</td></tr><tr><td>2741</td><td>242</td></tr><tr><td>2232</td><td>761</td></tr><tr><td>4958</td><td>270</td></tr><tr><td>1426</td><td>60</td></tr><tr><td>3205</td><td>70</td></tr><tr><td>5979</td><td>597</td></tr><tr><td>4566</td><td>1021</td></tr><tr><td>4694</td><td>41</td></tr><tr><td>3852</td><td>64</td></tr><tr><td>3437</td><td>93</td></tr><tr><td>4353</td><td>234</td></tr><tr><td>3896</td><td>207</td></tr><tr><td>4976</td><td>88</td></tr><tr><td>1264</td><td>253</td></tr><tr><td>5016</td><td>23</td></tr><tr><td>3413</td><td>79</td></tr><tr><td>3949</td><td>26</td></tr><tr><td>2859</td><td>243</td></tr><tr><td>4592</td><td>34</td></tr><tr><td>5119</td><td>9</td></tr><tr><td>4585</td><td>93</td></tr><tr><td>3795</td><td>27</td></tr><tr><td>5030</td><td>33</td></tr><tr><td>2084</td><td>17</td></tr><tr><td>2876</td><td>10</td></tr><tr><td>3693</td><td>9</td></tr><tr><td>1742</td><td>3</td></tr><tr><td>5741</td><td>2</td></tr><tr><td>4225</td><td>5</td></tr><tr><td>3791</td><td>1</td></tr><tr><td>5916</td><td>95553</td></tr><tr><td>2365</td><td>119687</td></tr><tr><td>4977</td><td>5709</td></tr><tr><td>1085</td><td>89257</td></tr><tr><td>2738</td><td>6070</td></tr><tr><td>2823</td><td>1001</td></tr><tr><td>4346</td><td>2713</td></tr><tr><td>4199</td><td>42</td></tr><tr><td>2874</td><td>1063</td></tr><tr><td>1204</td><td>85114</td></tr><tr><td>4089</td><td>3507</td></tr><tr><td>3145</td><td>4173</td></tr><tr><td>4057</td><td>41589</td></tr><tr><td>2651</td><td>13500</td></tr><tr><td>3712</td><td>1144</td></tr><tr><td>1044</td><td>1934018</td></tr><tr><td>4166</td><td>2774</td></tr><tr><td>3447</td><td>2776</td></tr><tr><td>5678</td><td>10558</td></tr><tr><td>5889</td><td>191314</td></tr><tr><td>4407</td><td>3168</td></tr><tr><td>5935</td><td>1675</td></tr><tr><td>3525</td><td>897</td></tr><tr><td>2967</td><td>4002</td></tr><tr><td>2448</td><td>1720</td></tr><tr><td>1865</td><td>38815</td></tr><tr><td>3909</td><td>387</td></tr><tr><td>2463</td><td>237</td></tr><tr><td>3498</td><td>1245</td></tr><tr><td>2559</td><td>694</td></tr><tr><td>1395</td><td>1279</td></tr><tr><td>3021</td><td>100617</td></tr><tr><td>1920</td><td>26855</td></tr><tr><td>2707</td><td>3137</td></tr><tr><td>1801</td><td>29</td></tr><tr><td>2346</td><td>1621181</td></tr><tr><td>5521</td><td>79767</td></tr><tr><td>3438</td><td>16198</td></tr><tr><td>1317</td><td>16774</td></tr><tr><td>4996</td><td>1376</td></tr><tr><td>1007</td><td>6206378</td></tr><tr><td>2670</td><td>44068</td></tr><tr><td>1222</td><td>136497</td></tr><tr><td>3016</td><td>6600</td></tr><tr><td>1599</td><td>151876</td></tr><tr><td>2329</td><td>102435</td></tr><tr><td>2936</td><td>122614</td></tr><tr><td>4451</td><td>6622</td></tr><tr><td>4298</td><td>594</td></tr><tr><td>2701</td><td>13100</td></tr><tr><td>2727</td><td>33583</td></tr><tr><td>2062</td><td>30061</td></tr><tr><td>5901</td><td>39895</td></tr><tr><td>5774</td><td>1394</td></tr><tr><td>1069</td><td>942176</td></tr><tr><td>5930</td><td>16190</td></tr><tr><td>2488</td><td>3082</td></tr><tr><td>5700</td><td>18480</td></tr><tr><td>2416</td><td>601</td></tr><tr><td>5667</td><td>981</td></tr><tr><td>4339</td><td>116</td></tr><tr><td>4975</td><td>895</td></tr><tr><td>2930</td><td>262</td></tr><tr><td>5999</td><td>918673</td></tr><tr><td>1157</td><td>175741</td></tr><tr><td>1694</td><td>3737</td></tr><tr><td>5539</td><td>53612</td></tr><tr><td>3915</td><td>3806</td></tr><tr><td>5482</td><td>3270</td></tr><tr><td>1834</td><td>4546</td></tr><tr><td>3153</td><td>1972</td></tr><tr><td>4376</td><td>476</td></tr><tr><td>2704</td><td>31645</td></tr><tr><td>4090</td><td>2842</td></tr><tr><td>4425</td><td>2331</td></tr><tr><td>5651</td><td>2847</td></tr><tr><td>3369</td><td>630</td></tr><tr><td>4922</td><td>30</td></tr><tr><td>4375</td><td>4425</td></tr><tr><td>3011</td><td>49055</td></tr><tr><td>2929</td><td>4261</td></tr><tr><td>1020</td><td>8981301</td></tr><tr><td>5564</td><td>291497</td></tr><tr><td>2371</td><td>613</td></tr><tr><td>5148</td><td>289</td></tr><tr><td>4294</td><td>447</td></tr><tr><td>5904</td><td>197</td></tr><tr><td>4351</td><td>19</td></tr><tr><td>3688</td><td>220</td></tr><tr><td>5097</td><td>254</td></tr><tr><td>3464</td><td>410</td></tr><tr><td>4796</td><td>103</td></tr><tr><td>3426</td><td>63</td></tr><tr><td>3044</td><td>155</td></tr><tr><td>2667</td><td>56</td></tr><tr><td>3528</td><td>212</td></tr><tr><td>2968</td><td>43</td></tr><tr><td>3376</td><td>50</td></tr><tr><td>2565</td><td>657</td></tr><tr><td>3203</td><td>235</td></tr><tr><td>1578</td><td>40</td></tr><tr><td>4923</td><td>42</td></tr><tr><td>4381</td><td>39</td></tr><tr><td>3151</td><td>161</td></tr><tr><td>4767</td><td>8</td></tr><tr><td>2977</td><td>230</td></tr><tr><td>3883</td><td>77</td></tr><tr><td>3835</td><td>87</td></tr><tr><td>4577</td><td>128</td></tr><tr><td>3119</td><td>106</td></tr><tr><td>3521</td><td>63</td></tr><tr><td>4640</td><td>42</td></tr><tr><td>5907</td><td>58</td></tr><tr><td>2272</td><td>48</td></tr><tr><td>4910</td><td>39</td></tr><tr><td>3516</td><td>33</td></tr><tr><td>3957</td><td>17</td></tr><tr><td>3070</td><td>14</td></tr><tr><td>4702</td><td>5</td></tr><tr><td>4725</td><td>5</td></tr><tr><td>4740</td><td>6</td></tr><tr><td>5023</td><td>1</td></tr><tr><td>1790</td><td>3</td></tr><tr><td>5707</td><td>2</td></tr><tr><td>5475</td><td>187389</td></tr><tr><td>1377</td><td>42378</td></tr><tr><td>5932</td><td>13794</td></tr><tr><td>3240</td><td>1549</td></tr><tr><td>5496</td><td>847</td></tr><tr><td>3858</td><td>1673</td></tr><tr><td>3421</td><td>201</td></tr><tr><td>2361</td><td>89761</td></tr><tr><td>2879</td><td>7004</td></tr><tr><td>2949</td><td>59235</td></tr><tr><td>1650</td><td>22032</td></tr><tr><td>3266</td><td>3264</td></tr><tr><td>1156</td><td>176752</td></tr><tr><td>2234</td><td>221824</td></tr><tr><td>2948</td><td>83653</td></tr><tr><td>2155</td><td>7571</td></tr><tr><td>5151</td><td>4587</td></tr><tr><td>3061</td><td>3094</td></tr><tr><td>4806</td><td>1385</td></tr><tr><td>2862</td><td>699</td></tr><tr><td>2167</td><td>169048</td></tr><tr><td>4193</td><td>1763</td></tr><tr><td>3362</td><td>2184</td></tr><tr><td>1168</td><td>31031</td></tr><tr><td>3839</td><td>2556</td></tr><tr><td>3075</td><td>3902</td></tr><tr><td>4070</td><td>599</td></tr><tr><td>2351</td><td>1089</td></tr><tr><td>2154</td><td>484726</td></tr><tr><td>1872</td><td>34562</td></tr><tr><td>1874</td><td>169033</td></tr><tr><td>1826</td><td>51199</td></tr><tr><td>1598</td><td>8639</td></tr><tr><td>1726</td><td>1077</td></tr><tr><td>2396</td><td>216309</td></tr><tr><td>5515</td><td>7789</td></tr><tr><td>5699</td><td>2396</td></tr><tr><td>2940</td><td>4684</td></tr><tr><td>2703</td><td>1238</td></tr><tr><td>4400</td><td>213440</td></tr><tr><td>1187</td><td>247853</td></tr><tr><td>2803</td><td>33599</td></tr><tr><td>1223</td><td>10843</td></tr><tr><td>1175</td><td>141308</td></tr><tr><td>1866</td><td>133300</td></tr><tr><td>1153</td><td>575879</td></tr><tr><td>3718</td><td>1789</td></tr><tr><td>3678</td><td>593</td></tr><tr><td>5535</td><td>38195</td></tr><tr><td>2498</td><td>4197</td></tr><tr><td>2877</td><td>600</td></tr><tr><td>2092</td><td>47480</td></tr><tr><td>4054</td><td>21741</td></tr><tr><td>5592</td><td>31661</td></tr><tr><td>5602</td><td>169422</td></tr><tr><td>2583</td><td>936602</td></tr><tr><td>1210</td><td>54183</td></tr><tr><td>3204</td><td>4601</td></tr><tr><td>4524</td><td>1142</td></tr><tr><td>2767</td><td>223</td></tr><tr><td>3484</td><td>1081</td></tr><tr><td>2402</td><td>6746</td></tr><tr><td>2786</td><td>12834</td></tr><tr><td>1572</td><td>16005</td></tr><tr><td>2939</td><td>1919</td></tr><tr><td>2672</td><td>137847</td></tr><tr><td>3487</td><td>1022</td></tr><tr><td>4398</td><td>2948</td></tr><tr><td>5688</td><td>45926</td></tr><tr><td>2923</td><td>4030</td></tr><tr><td>5603</td><td>24126</td></tr><tr><td>1406</td><td>8507</td></tr><tr><td>2932</td><td>362</td></tr><tr><td>2895</td><td>2186</td></tr><tr><td>5616</td><td>156108</td></tr><tr><td>4423</td><td>596</td></tr><tr><td>1660</td><td>17186</td></tr><tr><td>2983</td><td>1500</td></tr><tr><td>1617</td><td>6825</td></tr><tr><td>3349</td><td>170</td></tr><tr><td>5769</td><td>1196</td></tr><tr><td>1207</td><td>1303138</td></tr><tr><td>5946</td><td>109996</td></tr><tr><td>1380</td><td>34344</td></tr><tr><td>1716</td><td>8003</td></tr><tr><td>2447</td><td>867</td></tr><tr><td>2942</td><td>87</td></tr><tr><td>2849</td><td>1687</td></tr><tr><td>4766</td><td>511</td></tr><tr><td>4167</td><td>344</td></tr><tr><td>5008</td><td>1179</td></tr><tr><td>4724</td><td>128</td></tr><tr><td>3723</td><td>623</td></tr><tr><td>1312</td><td>196</td></tr><tr><td>3163</td><td>59</td></tr><tr><td>4026</td><td>269</td></tr><tr><td>4467</td><td>918</td></tr><tr><td>3766</td><td>108</td></tr><tr><td>4301</td><td>283</td></tr><tr><td>3604</td><td>333</td></tr><tr><td>3661</td><td>18</td></tr><tr><td>3850</td><td>412</td></tr><tr><td>5797</td><td>91</td></tr><tr><td>3703</td><td>3</td></tr><tr><td>4833</td><td>20</td></tr><tr><td>5210</td><td>89</td></tr><tr><td>1673</td><td>32</td></tr><tr><td>1855</td><td>224</td></tr><tr><td>3482</td><td>58</td></tr><tr><td>4270</td><td>120</td></tr><tr><td>3804</td><td>95</td></tr><tr><td>4756</td><td>5</td></tr><tr><td>4946</td><td>17</td></tr><tr><td>1351</td><td>19</td></tr><tr><td>4794</td><td>26</td></tr><tr><td>1773</td><td>15</td></tr><tr><td>1279</td><td>12</td></tr><tr><td>5868</td><td>3</td></tr><tr><td>4331</td><td>14</td></tr><tr><td>3228</td><td>3</td></tr><tr><td>4205</td><td>16</td></tr><tr><td>3916</td><td>21</td></tr><tr><td>3897</td><td>32</td></tr><tr><td>5990</td><td>13</td></tr><tr><td>4701</td><td>12</td></tr><tr><td>4323</td><td>11</td></tr><tr><td>4901</td><td>5</td></tr><tr><td>3971</td><td>9</td></tr><tr><td>1306</td><td>10</td></tr><tr><td>1845</td><td>121841</td></tr><tr><td>5582</td><td>47785</td></tr><tr><td>3577</td><td>1472</td></tr><tr><td>1611</td><td>31000</td></tr><tr><td>5460</td><td>61063</td></tr><tr><td>2798</td><td>522</td></tr><tr><td>1141</td><td>6420566</td></tr><tr><td>1226</td><td>167354</td></tr><tr><td>3286</td><td>14791</td></tr><tr><td>1046</td><td>11413</td></tr><tr><td>3183</td><td>1213</td></tr><tr><td>4458</td><td>184</td></tr><tr><td>2599</td><td>1781</td></tr><tr><td>4391</td><td>149569</td></tr><tr><td>3133</td><td>954</td></tr><tr><td>4065</td><td>7829</td></tr><tr><td>3534</td><td>546</td></tr><tr><td>2505</td><td>131813</td></tr><tr><td>1420</td><td>414289</td></tr><tr><td>2904</td><td>174136</td></tr><tr><td>4651</td><td>943</td></tr><tr><td>4504</td><td>289</td></tr><tr><td>3837</td><td>3167</td></tr><tr><td>2897</td><td>3785</td></tr><tr><td>3502</td><td>7890</td></tr><tr><td>3364</td><td>2229</td></tr><tr><td>5846</td><td>1723</td></tr><tr><td>2809</td><td>183</td></tr><tr><td>5096</td><td>617051</td></tr><tr><td>2690</td><td>7513</td></tr><tr><td>5082</td><td>2001673</td></tr><tr><td>2997</td><td>3507</td></tr><tr><td>2640</td><td>104309</td></tr><tr><td>3284</td><td>3308</td></tr><tr><td>5575</td><td>20329</td></tr><tr><td>2571</td><td>3880</td></tr><tr><td>2492</td><td>107643</td></tr><tr><td>3093</td><td>5319</td></tr><tr><td>4209</td><td>774</td></tr><tr><td>5686</td><td>85047</td></tr><tr><td>1321</td><td>26030</td></tr><tr><td>1003</td><td>14313097</td></tr><tr><td>3172</td><td>42405</td></tr><tr><td>1468</td><td>61294</td></tr><tr><td>4476</td><td>6021</td></tr><tr><td>2341</td><td>915</td></tr><tr><td>1875</td><td>473</td></tr><tr><td>5808</td><td>799</td></tr><tr><td>3513</td><td>2124</td></tr><tr><td>3123</td><td>11913</td></tr><tr><td>5080</td><td>273548</td></tr><tr><td>3080</td><td>103628</td></tr><tr><td>2323</td><td>68167</td></tr><tr><td>2543</td><td>30281</td></tr><tr><td>2598</td><td>9880</td></tr><tr><td>5525</td><td>338</td></tr><tr><td>1398</td><td>1251</td></tr><tr><td>1049</td><td>263956</td></tr><tr><td>5899</td><td>24777</td></tr><tr><td>5655</td><td>10192</td></tr><tr><td>3449</td><td>2664</td></tr><tr><td>2834</td><td>17113</td></tr><tr><td>2822</td><td>7686</td></tr><tr><td>2746</td><td>13864</td></tr><tr><td>2791</td><td>704</td></tr><tr><td>2444</td><td>1079</td></tr><tr><td>1113</td><td>98825</td></tr><tr><td>1907</td><td>378</td></tr><tr><td>4905</td><td>699</td></tr><tr><td>2347</td><td>1836</td></tr><tr><td>1751</td><td>553</td></tr><tr><td>2152</td><td>1107243</td></tr><tr><td>2526</td><td>235593</td></tr><tr><td>4029</td><td>43536</td></tr><tr><td>2890</td><td>4859</td></tr><tr><td>4030</td><td>82113</td></tr><tr><td>5620</td><td>3254</td></tr><tr><td>5500</td><td>53705</td></tr><tr><td>3928</td><td>10024</td></tr><tr><td>1031</td><td>97119</td></tr><tr><td>3589</td><td>15218</td></tr><tr><td>3786</td><td>1942</td></tr><tr><td>4909</td><td>404</td></tr><tr><td>3094</td><td>1441</td></tr><tr><td>2335</td><td>347</td></tr><tr><td>2299</td><td>1310</td></tr><tr><td>5007</td><td>145</td></tr><tr><td>4126</td><td>278</td></tr><tr><td>4105</td><td>1100</td></tr><tr><td>3779</td><td>106</td></tr><tr><td>3669</td><td>447</td></tr><tr><td>3892</td><td>553</td></tr><tr><td>3332</td><td>77</td></tr><tr><td>2675</td><td>85</td></tr><tr><td>5879</td><td>170</td></tr><tr><td>4988</td><td>312</td></tr><tr><td>3773</td><td>66</td></tr><tr><td>3086</td><td>180</td></tr><tr><td>5548</td><td>607</td></tr><tr><td>5135</td><td>173</td></tr><tr><td>5142</td><td>204</td></tr><tr><td>3815</td><td>152</td></tr><tr><td>2887</td><td>390</td></tr><tr><td>5456</td><td>100</td></tr><tr><td>1781</td><td>320</td></tr><tr><td>3503</td><td>236</td></tr><tr><td>4356</td><td>211</td></tr><tr><td>1288</td><td>42</td></tr><tr><td>5447</td><td>100</td></tr><tr><td>3680</td><td>136</td></tr><tr><td>4722</td><td>42</td></tr><tr><td>1386</td><td>95</td></tr><tr><td>4735</td><td>34</td></tr><tr><td>3417</td><td>54</td></tr><tr><td>4312</td><td>92</td></tr><tr><td>5709</td><td>83</td></tr><tr><td>5130</td><td>44</td></tr><tr><td>4162</td><td>36</td></tr><tr><td>1575</td><td>11</td></tr><tr><td>3785</td><td>3</td></tr><tr><td>4198</td><td>10</td></tr><tr><td>3684</td><td>4</td></tr><tr><td>2311</td><td>10</td></tr><tr><td>4291</td><td>1</td></tr><tr><td>4319</td><td>1</td></tr><tr><td>2138</td><td>477109</td></tr><tr><td>2649</td><td>25915</td></tr><tr><td>4169</td><td>13178</td></tr><tr><td>3256</td><td>10462</td></tr><tr><td>2880</td><td>8857</td></tr><tr><td>2370</td><td>67838</td></tr><tr><td>4322</td><td>4221</td></tr><tr><td>1704</td><td>4222</td></tr><tr><td>5683</td><td>670</td></tr><tr><td>1185</td><td>258211</td></tr><tr><td>5608</td><td>196500</td></tr><tr><td>3087</td><td>7426</td></tr><tr><td>4285</td><td>499</td></tr><tr><td>3206</td><td>183</td></tr><tr><td>2678</td><td>11255</td></tr><tr><td>3826</td><td>150</td></tr><tr><td>2249</td><td>376</td></tr><tr><td>4817</td><td>225</td></tr><tr><td>3003</td><td>90502</td></tr><tr><td>2869</td><td>1411</td></tr><tr><td>4039</td><td>740</td></tr><tr><td>3937</td><td>982</td></tr><tr><td>4148</td><td>2888</td></tr><tr><td>4464</td><td>1666</td></tr><tr><td>3648</td><td>2126</td></tr><tr><td>2163</td><td>437130</td></tr><tr><td>2935</td><td>25778</td></tr><tr><td>4480</td><td>14763</td></tr><tr><td>1861</td><td>337</td></tr><tr><td>2792</td><td>608</td></tr><tr><td>5554</td><td>83591</td></tr><tr><td>1037</td><td>72805</td></tr><tr><td>2527</td><td>10805</td></tr><tr><td>1290</td><td>3012903</td></tr><tr><td>2560</td><td>23318</td></tr><tr><td>1633</td><td>1866</td></tr><tr><td>4511</td><td>7859</td></tr><tr><td>4421</td><td>768</td></tr><tr><td>1594</td><td>58</td></tr><tr><td>4436</td><td>83667</td></tr><tr><td>5478</td><td>122282</td></tr><tr><td>3566</td><td>2994</td></tr><tr><td>3134</td><td>4599</td></tr><tr><td>5093</td><td>16266</td></tr><tr><td>2921</td><td>3661</td></tr><tr><td>2821</td><td>1169</td></tr><tr><td>3860</td><td>309</td></tr><tr><td>5610</td><td>40043</td></tr><tr><td>1021</td><td>2727601</td></tr><tr><td>4618</td><td>45617</td></tr><tr><td>2721</td><td>779</td></tr><tr><td>2134</td><td>6643</td></tr><tr><td>2600</td><td>2116</td></tr><tr><td>1232</td><td>5349</td></tr><tr><td>1172</td><td>136988</td></tr><tr><td>5648</td><td>27685</td></tr><tr><td>5072</td><td>276337</td></tr><tr><td>2927</td><td>20991</td></tr><tr><td>2143</td><td>94354</td></tr><tr><td>2177</td><td>3535</td></tr><tr><td>2374</td><td>3997</td></tr><tr><td>2650</td><td>11961</td></tr><tr><td>3674</td><td>38654</td></tr><tr><td>5627</td><td>46807</td></tr><tr><td>1326</td><td>1299465</td></tr><tr><td>2722</td><td>27811</td></tr><tr><td>1899</td><td>29432</td></tr><tr><td>2126</td><td>110398</td></tr><tr><td>2586</td><td>58918</td></tr><tr><td>2074</td><td>40518</td></tr><tr><td>3964</td><td>3772</td></tr><tr><td>4990</td><td>3031</td></tr><tr><td>3987</td><td>1299</td></tr><tr><td>2575</td><td>7060</td></tr><tr><td>4020</td><td>6869</td></tr><tr><td>4112</td><td>347</td></tr><tr><td>3761</td><td>924</td></tr><tr><td>2369</td><td>172926</td></tr><tr><td>4601</td><td>9261</td></tr><tr><td>5081</td><td>617875</td></tr><tr><td>3568</td><td>1911</td></tr><tr><td>1337</td><td>10301</td></tr><tr><td>1165</td><td>30492</td></tr><tr><td>1605</td><td>16103</td></tr><tr><td>1404</td><td>9862</td></tr><tr><td>2854</td><td>731</td></tr><tr><td>4168</td><td>64</td></tr><tr><td>4394</td><td>682</td></tr><tr><td>1225</td><td>109</td></tr><tr><td>3177</td><td>888</td></tr><tr><td>5013</td><td>270</td></tr><tr><td>2881</td><td>78</td></tr><tr><td>2207</td><td>171</td></tr><tr><td>4113</td><td>575</td></tr><tr><td>3912</td><td>228</td></tr><tr><td>3171</td><td>740</td></tr><tr><td>2973</td><td>213</td></tr><tr><td>5462</td><td>494</td></tr><tr><td>3998</td><td>156</td></tr><tr><td>3717</td><td>35</td></tr><tr><td>5828</td><td>121</td></tr><tr><td>2632</td><td>167</td></tr><tr><td>5166</td><td>191</td></tr><tr><td>2857</td><td>120</td></tr><tr><td>5003</td><td>32</td></tr><tr><td>4328</td><td>304</td></tr><tr><td>3687</td><td>4</td></tr><tr><td>4808</td><td>69</td></tr><tr><td>5820</td><td>38</td></tr><tr><td>5980</td><td>17</td></tr><tr><td>3976</td><td>37</td></tr><tr><td>3724</td><td>10</td></tr><tr><td>4956</td><td>15</td></tr><tr><td>5836</td><td>8</td></tr><tr><td>1284</td><td>22</td></tr><tr><td>1680</td><td>4</td></tr><tr><td>3478</td><td>7</td></tr><tr><td>3032</td><td>9825</td></tr><tr><td>2320</td><td>50125</td></tr><tr><td>1648</td><td>129093</td></tr><tr><td>1759</td><td>14245</td></tr><tr><td>5518</td><td>175689</td></tr><tr><td>5910</td><td>34</td></tr><tr><td>4046</td><td>5312</td></tr><tr><td>2954</td><td>123</td></tr><tr><td>2364</td><td>154428</td></tr><tr><td>4343</td><td>205</td></tr><tr><td>2732</td><td>9521</td></tr><tr><td>1905</td><td>930</td></tr><tr><td>2385</td><td>16534</td></tr><tr><td>5573</td><td>74168</td></tr><tr><td>2459</td><td>8275</td></tr><tr><td>4396</td><td>5442</td></tr><tr><td>3466</td><td>702</td></tr><tr><td>2883</td><td>82</td></tr><tr><td>3505</td><td>2069</td></tr><tr><td>1756</td><td>5572</td></tr><tr><td>3581</td><td>1050</td></tr><tr><td>2131</td><td>1236</td></tr><tr><td>4226</td><td>864</td></tr><tr><td>5598</td><td>341630</td></tr><tr><td>2532</td><td>50829</td></tr><tr><td>5562</td><td>25112</td></tr><tr><td>4825</td><td>15926</td></tr><tr><td>3185</td><td>11233</td></tr><tr><td>4100</td><td>470</td></tr><tr><td>2124</td><td>16521</td></tr><tr><td>4416</td><td>2990</td></tr><tr><td>3344</td><td>394</td></tr><tr><td>5961</td><td>484</td></tr><tr><td>4084</td><td>6467</td></tr><tr><td>3645</td><td>114</td></tr><tr><td>5152</td><td>124</td></tr><tr><td>5100</td><td>370</td></tr><tr><td>1422</td><td>96220</td></tr><tr><td>2506</td><td>1731257</td></tr><tr><td>1483</td><td>43185</td></tr><tr><td>1831</td><td>28087</td></tr><tr><td>5517</td><td>46243</td></tr><tr><td>4807</td><td>2205</td></tr><tr><td>5541</td><td>19860</td></tr><tr><td>2958</td><td>6142</td></tr><tr><td>3252</td><td>4630</td></tr><tr><td>4243</td><td>296</td></tr><tr><td>1938</td><td>6995</td></tr><tr><td>4502</td><td>7401</td></tr><tr><td>3519</td><td>1689</td></tr><tr><td>1230</td><td>36044</td></tr><tr><td>1469</td><td>14531</td></tr><tr><td>2653</td><td>74059</td></tr><tr><td>4348</td><td>5245</td></tr><tr><td>3529</td><td>1981</td></tr><tr><td>2702</td><td>27904</td></tr><tr><td>3654</td><td>7011</td></tr><tr><td>2755</td><td>5985</td></tr><tr><td>1629</td><td>4110</td></tr><tr><td>4215</td><td>1260</td></tr><tr><td>2409</td><td>335746</td></tr><tr><td>1490</td><td>6538</td></tr><tr><td>2907</td><td>66848</td></tr><tr><td>1912</td><td>51092</td></tr><tr><td>2838</td><td>3885</td></tr><tr><td>4522</td><td>3480</td></tr><tr><td>4125</td><td>1493</td></tr><tr><td>3880</td><td>249</td></tr><tr><td>5078</td><td>73387</td></tr><tr><td>1008</td><td>53475</td></tr><tr><td>3638</td><td>5771</td></tr><tr><td>5124</td><td>4916</td></tr><tr><td>1479</td><td>2758</td></tr><tr><td>5890</td><td>107441</td></tr><tr><td>5942</td><td>122576</td></tr><tr><td>3977</td><td>1229</td></tr><tr><td>5957</td><td>1275</td></tr><tr><td>2536</td><td>363308</td></tr><tr><td>5641</td><td>38586</td></tr><tr><td>2959</td><td>4749</td></tr><tr><td>3675</td><td>3606</td></tr><tr><td>1403</td><td>44081</td></tr><tr><td>5766</td><td>2051</td></tr><tr><td>4600</td><td>2141</td></tr><tr><td>2452</td><td>943</td></tr><tr><td>1873</td><td>13891</td></tr><tr><td>4177</td><td>3225</td></tr><tr><td>2697</td><td>5746</td></tr><tr><td>1523</td><td>7732</td></tr><tr><td>3474</td><td>1409</td></tr><tr><td>1510</td><td>56979</td></tr><tr><td>3103</td><td>57340</td></tr><tr><td>4015</td><td>32989</td></tr><tr><td>3425</td><td>256</td></tr><tr><td>2833</td><td>2982</td></tr><tr><td>3071</td><td>3472</td></tr><tr><td>4884</td><td>512</td></tr><tr><td>1227</td><td>31354</td></tr><tr><td>1693</td><td>83</td></tr><tr><td>5671</td><td>147857</td></tr><tr><td>4959</td><td>877</td></tr><tr><td>4790</td><td>2045</td></tr><tr><td>3603</td><td>339</td></tr><tr><td>2684</td><td>126011</td></tr><tr><td>2596</td><td>51461</td></tr><tr><td>1602</td><td>9138</td></tr><tr><td>1908</td><td>7904</td></tr><tr><td>1057</td><td>92443</td></tr><tr><td>1732</td><td>103112</td></tr><tr><td>3634</td><td>5611</td></tr><tr><td>2404</td><td>22814</td></tr><tr><td>3575</td><td>1096</td></tr><tr><td>1149</td><td>419126</td></tr><tr><td>2350</td><td>12439</td></tr><tr><td>2180</td><td>15629</td></tr><tr><td>5956</td><td>2098</td></tr><tr><td>3748</td><td>564</td></tr><tr><td>1041</td><td>3113834</td></tr><tr><td>4110</td><td>23835</td></tr><tr><td>1601</td><td>60383</td></tr><tr><td>3220</td><td>2236</td></tr><tr><td>4261</td><td>976</td></tr><tr><td>1409</td><td>818481</td></tr><tr><td>5622</td><td>65308</td></tr><tr><td>3226</td><td>1271</td></tr><tr><td>3129</td><td>1065</td></tr><tr><td>5834</td><td>1693</td></tr><tr><td>2765</td><td>580</td></tr><tr><td>1324</td><td>20115</td></tr><tr><td>2825</td><td>3986</td></tr><tr><td>3711</td><td>35504</td></tr><tr><td>5017</td><td>16127</td></tr><tr><td>1632</td><td>727</td></tr><tr><td>2603</td><td>26195</td></tr><tr><td>2971</td><td>34177</td></tr><tr><td>2938</td><td>2837</td></tr><tr><td>1319</td><td>3501</td></tr><tr><td>2956</td><td>107</td></tr><tr><td>2535</td><td>57092</td></tr><tr><td>2331</td><td>239021</td></tr><tr><td>4501</td><td>2129</td></tr><tr><td>3562</td><td>66</td></tr><tr><td>2309</td><td>137833</td></tr><tr><td>2736</td><td>24951</td></tr><tr><td>1824</td><td>57300</td></tr><tr><td>4149</td><td>309</td></tr><tr><td>4141</td><td>175</td></tr><tr><td>3299</td><td>608</td></tr><tr><td>2975</td><td>998</td></tr><tr><td>1439</td><td>1830</td></tr><tr><td>2764</td><td>985</td></tr><tr><td>2817</td><td>575</td></tr><tr><td>5951</td><td>229</td></tr><tr><td>3500</td><td>304</td></tr><tr><td>2071</td><td>632</td></tr><tr><td>4133</td><td>76</td></tr><tr><td>4989</td><td>167</td></tr><tr><td>3844</td><td>967</td></tr><tr><td>5085</td><td>242</td></tr><tr><td>3520</td><td>19</td></tr><tr><td>5854</td><td>103</td></tr><tr><td>3901</td><td>246</td></tr><tr><td>3828</td><td>75</td></tr><tr><td>5153</td><td>369</td></tr><tr><td>4028</td><td>433</td></tr><tr><td>1767</td><td>9</td></tr><tr><td>2145</td><td>234</td></tr><tr><td>4715</td><td>569</td></tr><tr><td>3739</td><td>49</td></tr><tr><td>1478</td><td>91</td></tr><tr><td>5171</td><td>73</td></tr><tr><td>1257</td><td>155</td></tr><tr><td>4017</td><td>134</td></tr><tr><td>2332</td><td>203</td></tr><tr><td>3642</td><td>16</td></tr><tr><td>5184</td><td>41</td></tr><tr><td>2947</td><td>158</td></tr><tr><td>1741</td><td>129</td></tr><tr><td>3745</td><td>66</td></tr><tr><td>1281</td><td>49</td></tr><tr><td>2867</td><td>83</td></tr><tr><td>1576</td><td>560</td></tr><tr><td>4992</td><td>220</td></tr><tr><td>4371</td><td>14</td></tr><tr><td>1913</td><td>431</td></tr><tr><td>4332</td><td>144</td></tr><tr><td>3663</td><td>311</td></tr><tr><td>3868</td><td>107</td></tr><tr><td>2624</td><td>54</td></tr><tr><td>2855</td><td>175</td></tr><tr><td>3777</td><td>68</td></tr><tr><td>3150</td><td>21</td></tr><tr><td>4219</td><td>71</td></tr><tr><td>1703</td><td>12</td></tr><tr><td>4314</td><td>44</td></tr><tr><td>4926</td><td>77</td></tr><tr><td>3479</td><td>2</td></tr><tr><td>4160</td><td>155</td></tr><tr><td>1577</td><td>24</td></tr><tr><td>1796</td><td>21</td></tr><tr><td>3148</td><td>13</td></tr><tr><td>2222</td><td>45</td></tr><tr><td>3677</td><td>32</td></tr><tr><td>4676</td><td>17</td></tr><tr><td>1765</td><td>39</td></tr><tr><td>4682</td><td>51</td></tr><tr><td>1495</td><td>7</td></tr><tr><td>3764</td><td>122</td></tr><tr><td>4787</td><td>8</td></tr><tr><td>2756</td><td>36</td></tr><tr><td>2469</td><td>24</td></tr><tr><td>4333</td><td>27</td></tr><tr><td>4755</td><td>10</td></tr><tr><td>3787</td><td>19</td></tr><tr><td>1718</td><td>2</td></tr><tr><td>1727</td><td>5</td></tr><tr><td>3834</td><td>2</td></tr><tr><td>5005</td><td>2</td></tr><tr><td>5833</td><td>8</td></tr><tr><td>4058</td><td>2</td></tr><tr><td>3993</td><td>1</td></tr><tr><td>4931</td><td>2</td></tr><tr><td>3161</td><td>2</td></tr><tr><td>1285</td><td>1</td></tr><tr><td>4352</td><td>1</td></tr></tbody></table></div>"
      ]
     },
     "metadata": {
      "application/vnd.databricks.v1+output": {
       "addedWidgets": {},
       "aggData": [],
       "aggError": "",
       "aggOverflow": false,
       "aggSchema": [],
       "aggSeriesLimitReached": false,
       "aggType": "",
       "arguments": {},
       "columnCustomDisplayInfos": {},
       "data": [
        [
         1886,
         28235
        ],
        [
         5919,
         60846
        ],
        [
         4455,
         3800
        ],
        [
         1047,
         253576
        ],
        [
         5906,
         187482
        ],
        [
         1181,
         489520
        ],
        [
         1622,
         5301
        ],
        [
         3431,
         5470
        ],
        [
         3635,
         717
        ],
        [
         3576,
         1407
        ],
        [
         3398,
         807
        ],
        [
         2941,
         24624
        ],
        [
         5829,
         15339
        ],
        [
         2804,
         3741
        ],
        [
         2693,
         312816
        ],
        [
         1603,
         9787
        ],
        [
         1402,
         147985
        ],
        [
         5439,
         4440
        ],
        [
         2343,
         1390
        ],
        [
         4949,
         1322
        ],
        [
         4035,
         5154
        ],
        [
         4377,
         99
        ],
        [
         3879,
         1663
        ],
        [
         2700,
         5185
        ],
        [
         3838,
         602
        ],
        [
         5845,
         302188
        ],
        [
         1556,
         1279
        ],
        [
         4440,
         1038
        ],
        [
         2223,
         31241
        ],
        [
         3490,
         43461
        ],
        [
         5468,
         2210
        ],
        [
         2060,
         5729
        ],
        [
         3742,
         6487
        ],
        [
         1618,
         3386
        ],
        [
         3149,
         875
        ],
        [
         3420,
         101
        ],
        [
         4406,
         12198
        ],
        [
         2995,
         9777
        ],
        [
         1055,
         457773
        ],
        [
         2747,
         18031
        ],
        [
         5634,
         12749
        ],
        [
         4373,
         82
        ],
        [
         4119,
         1028
        ],
        [
         2976,
         120768
        ],
        [
         2525,
         398168
        ],
        [
         4429,
         2299
        ],
        [
         5501,
         47966
        ],
        [
         1318,
         99047
        ],
        [
         1381,
         65296
        ],
        [
         4165,
         870
        ],
        [
         1840,
         1870
        ],
        [
         2724,
         1139
        ],
        [
         2500,
         92499
        ],
        [
         1509,
         16010
        ],
        [
         5029,
         8311
        ],
        [
         4388,
         3308
        ],
        [
         1161,
         762374
        ],
        [
         3210,
         1984
        ],
        [
         5094,
         12082
        ],
        [
         2604,
         30129
        ],
        [
         5446,
         101
        ],
        [
         5091,
         25293
        ],
        [
         2406,
         560301
        ],
        [
         2367,
         316453
        ],
        [
         1924,
         73427
        ],
        [
         5821,
         9643
        ],
        [
         4535,
         58294
        ],
        [
         5568,
         34255
        ],
        [
         5499,
         472219
        ],
        [
         2471,
         23351
        ],
        [
         1486,
         77703
        ],
        [
         3297,
         5922
        ],
        [
         4338,
         2781
        ],
        [
         4925,
         247
        ],
        [
         1524,
         7159
        ],
        [
         2517,
         186875
        ],
        [
         2355,
         109850
        ],
        [
         5532,
         69706
        ],
        [
         3968,
         16394
        ],
        [
         2735,
         3677
        ],
        [
         2089,
         1348
        ],
        [
         4450,
         333
        ],
        [
         4281,
         364
        ],
        [
         4789,
         302
        ],
        [
         3613,
         167
        ],
        [
         4395,
         613
        ],
        [
         3522,
         517
        ],
        [
         3002,
         70
        ],
        [
         4540,
         57
        ],
        [
         3881,
         67
        ],
        [
         3248,
         17
        ],
        [
         5755,
         186
        ],
        [
         4273,
         151
        ],
        [
         4180,
         146
        ],
        [
         2781,
         69
        ],
        [
         2752,
         123
        ],
        [
         5106,
         260
        ],
        [
         4086,
         59
        ],
        [
         4378,
         7
        ],
        [
         3146,
         83
        ],
        [
         3946,
         43
        ],
        [
         3569,
         97
        ],
        [
         4334,
         46
        ],
        [
         3816,
         3
        ],
        [
         3135,
         111
        ],
        [
         2902,
         108
        ],
        [
         1547,
         58
        ],
        [
         4347,
         11
        ],
        [
         2969,
         15
        ],
        [
         4853,
         11
        ],
        [
         1537,
         1
        ],
        [
         3263,
         3
        ],
        [
         4403,
         1
        ],
        [
         2169,
         122979
        ],
        [
         5507,
         9620
        ],
        [
         3034,
         8840
        ],
        [
         2231,
         25872
        ],
        [
         2550,
         123578
        ],
        [
         3434,
         1343
        ],
        [
         2460,
         4358
        ],
        [
         5764,
         905
        ],
        [
         2357,
         34684
        ],
        [
         2166,
         2924
        ],
        [
         2193,
         849
        ],
        [
         2742,
         2386
        ],
        [
         5009,
         3346
        ],
        [
         3404,
         444
        ],
        [
         4938,
         10993
        ],
        [
         2908,
         2152
        ],
        [
         2382,
         20734
        ],
        [
         2656,
         734572
        ],
        [
         5675,
         523
        ],
        [
         1871,
         24095
        ],
        [
         3125,
         1306
        ],
        [
         5917,
         7480
        ],
        [
         2292,
         61149
        ],
        [
         5966,
         569
        ],
        [
         1124,
         910
        ],
        [
         2773,
         1814
        ],
        [
         2723,
         362
        ],
        [
         1173,
         1062372
        ],
        [
         2129,
         24681
        ],
        [
         5607,
         69942
        ],
        [
         4995,
         4979
        ],
        [
         1656,
         525344
        ],
        [
         2183,
         70804
        ],
        [
         5569,
         31248
        ],
        [
         5684,
         228
        ],
        [
         3485,
         20434
        ],
        [
         2288,
         7446
        ],
        [
         5480,
         37364
        ],
        [
         1032,
         3230289
        ],
        [
         3270,
         1530
        ],
        [
         1216,
         177906
        ],
        [
         4111,
         49444
        ],
        [
         2988,
         1743
        ],
        [
         5689,
         72824
        ],
        [
         2737,
         142889
        ],
        [
         3622,
         4624
        ],
        [
         3758,
         174
        ],
        [
         1580,
         65943
        ],
        [
         1823,
         30751
        ],
        [
         1218,
         31387
        ],
        [
         4463,
         1424
        ],
        [
         5074,
         1157
        ],
        [
         2664,
         29556
        ],
        [
         1012,
         5437
        ],
        [
         2718,
         9187
        ],
        [
         1392,
         229
        ],
        [
         4490,
         3899
        ],
        [
         1170,
         729668
        ],
        [
         1084,
         297058
        ],
        [
         4279,
         8854
        ],
        [
         3348,
         4116
        ],
        [
         1091,
         5960123
        ],
        [
         1937,
         26338
        ],
        [
         1447,
         2550
        ],
        [
         5036,
         224
        ],
        [
         1137,
         1200884
        ],
        [
         2691,
         74505
        ],
        [
         2799,
         4636
        ],
        [
         3342,
         4234
        ],
        [
         1488,
         1490
        ],
        [
         2456,
         7392
        ],
        [
         2330,
         642846
        ],
        [
         2665,
         1504
        ],
        [
         4239,
         113
        ],
        [
         1190,
         78883
        ],
        [
         5586,
         63232
        ],
        [
         1315,
         32636
        ],
        [
         5776,
         20870
        ],
        [
         4470,
         6752
        ],
        [
         4505,
         2384
        ],
        [
         4316,
         101
        ],
        [
         1889,
         394
        ],
        [
         3681,
         215
        ],
        [
         3335,
         319
        ],
        [
         4002,
         566
        ],
        [
         3517,
         1273
        ],
        [
         2933,
         654
        ],
        [
         4286,
         88
        ],
        [
         2086,
         93
        ],
        [
         5753,
         88
        ],
        [
         4658,
         540
        ],
        [
         1862,
         81
        ],
        [
         2850,
         225
        ],
        [
         4042,
         39
        ],
        [
         4011,
         109
        ],
        [
         5160,
         32
        ],
        [
         2957,
         296
        ],
        [
         4914,
         27
        ],
        [
         4963,
         410
        ],
        [
         4445,
         56
        ],
        [
         3843,
         38
        ],
        [
         3830,
         80
        ],
        [
         3394,
         30
        ],
        [
         4943,
         2
        ],
        [
         3781,
         8
        ],
        [
         4012,
         25
        ],
        [
         5955,
         55
        ],
        [
         5725,
         14
        ],
        [
         3820,
         17
        ],
        [
         3313,
         55
        ],
        [
         4190,
         29
        ],
        [
         5818,
         7
        ],
        [
         4974,
         4
        ],
        [
         5706,
         4
        ],
        [
         2080,
         39424
        ],
        [
         1867,
         6419
        ],
        [
         1625,
         67095
        ],
        [
         1139,
         52493
        ],
        [
         3218,
         219
        ],
        [
         1853,
         15316292
        ],
        [
         3038,
         68400
        ],
        [
         4027,
         5718
        ],
        [
         5530,
         4651
        ],
        [
         5653,
         15137
        ],
        [
         1143,
         419805
        ],
        [
         1142,
         624381
        ],
        [
         3193,
         960
        ],
        [
         3798,
         143
        ],
        [
         4083,
         1961
        ],
        [
         4454,
         1240
        ],
        [
         3092,
         2546
        ],
        [
         3314,
         1052
        ],
        [
         2811,
         2902
        ],
        [
         1209,
         1092852
        ],
        [
         5929,
         48313
        ],
        [
         2654,
         8244
        ],
        [
         5144,
         83681
        ],
        [
         2548,
         98780
        ],
        [
         5012,
         18041
        ],
        [
         3631,
         1134
        ],
        [
         1214,
         688930
        ],
        [
         1105,
         44588
        ],
        [
         2761,
         9361
        ],
        [
         4139,
         487
        ],
        [
         3232,
         3800
        ],
        [
         5663,
         31665
        ],
        [
         3754,
         105
        ],
        [
         3414,
         1553
        ],
        [
         2289,
         24162
        ],
        [
         3863,
         6643
        ],
        [
         2542,
         49200
        ],
        [
         1025,
         8139298
        ],
        [
         5559,
         59958
        ],
        [
         4277,
         355
        ],
        [
         1747,
         583
        ],
        [
         2077,
         47412
        ],
        [
         3281,
         2225
        ],
        [
         4486,
         10957
        ],
        [
         3445,
         1520
        ],
        [
         4025,
         18715
        ],
        [
         4497,
         1390
        ],
        [
         4163,
         2290
        ],
        [
         2064,
         376590
        ],
        [
         2730,
         30808
        ],
        [
         5670,
         8610
        ],
        [
         1909,
         7991
        ],
        [
         2757,
         13196
        ],
        [
         3623,
         9568
        ],
        [
         2388,
         32282
        ],
        [
         5848,
         2906
        ],
        [
         5561,
         13083
        ],
        [
         1616,
         31721
        ],
        [
         4390,
         20870
        ],
        [
         4845,
         111
        ],
        [
         1219,
         54880
        ],
        [
         1056,
         217024
        ],
        [
         5037,
         7977
        ],
        [
         3685,
         2592
        ],
        [
         2328,
         7995
        ],
        [
         4684,
         2150
        ],
        [
         2436,
         29068
        ],
        [
         4156,
         484
        ],
        [
         1917,
         21848
        ],
        [
         5552,
         79979
        ],
        [
         3121,
         1663
        ],
        [
         1449,
         873741
        ],
        [
         5483,
         117266
        ],
        [
         1904,
         41790
        ],
        [
         1600,
         15952
        ],
        [
         3213,
         1719
        ],
        [
         5819,
         1997
        ],
        [
         2318,
         460665
        ],
        [
         1822,
         13227
        ],
        [
         5780,
         335
        ],
        [
         1608,
         260
        ],
        [
         2477,
         583
        ],
        [
         4439,
         636
        ],
        [
         3090,
         340
        ],
        [
         5000,
         9
        ],
        [
         3762,
         263
        ],
        [
         4888,
         51
        ],
        [
         2602,
         104
        ],
        [
         5737,
         495
        ],
        [
         3448,
         443
        ],
        [
         4109,
         46
        ],
        [
         3836,
         151
        ],
        [
         3614,
         294
        ],
        [
         4305,
         66
        ],
        [
         5787,
         217
        ],
        [
         5155,
         77
        ],
        [
         3587,
         122
        ],
        [
         3853,
         9
        ],
        [
         5792,
         17
        ],
        [
         4509,
         40
        ],
        [
         4858,
         17
        ],
        [
         4917,
         156
        ],
        [
         1854,
         17
        ],
        [
         4942,
         78
        ],
        [
         3926,
         3
        ],
        [
         4855,
         15
        ],
        [
         3990,
         16
        ],
        [
         4920,
         1
        ],
        [
         5838,
         25
        ],
        [
         3960,
         57
        ],
        [
         4982,
         18
        ],
        [
         5734,
         3
        ],
        [
         3141,
         6
        ],
        [
         1964,
         18
        ],
        [
         3950,
         4
        ],
        [
         5132,
         6
        ],
        [
         4866,
         3
        ],
        [
         5869,
         1
        ],
        [
         2952,
         1525
        ],
        [
         1474,
         1305
        ],
        [
         3476,
         877
        ],
        [
         4531,
         6476
        ],
        [
         1710,
         579
        ],
        [
         3264,
         176
        ],
        [
         1640,
         779426
        ],
        [
         2308,
         140411
        ],
        [
         5849,
         53244
        ],
        [
         5034,
         43674
        ],
        [
         2301,
         314
        ],
        [
         1679,
         3270
        ],
        [
         1883,
         3393
        ],
        [
         2699,
         2109
        ],
        [
         5079,
         156565
        ],
        [
         2262,
         70148
        ],
        [
         4081,
         31514
        ],
        [
         5581,
         9396
        ],
        [
         2494,
         1796
        ],
        [
         2928,
         9521
        ],
        [
         2758,
         4217
        ],
        [
         3595,
         1477
        ],
        [
         3570,
         7106
        ],
        [
         2744,
         6817
        ],
        [
         3060,
         1063
        ],
        [
         3207,
         1561
        ],
        [
         3670,
         1667
        ],
        [
         1038,
         302785
        ],
        [
         4533,
         2563
        ],
        [
         5545,
         323678
        ],
        [
         5896,
         10568
        ],
        [
         4031,
         9333
        ],
        [
         2368,
         26362
        ],
        [
         2852,
         1855
        ],
        [
         3371,
         6463
        ],
        [
         3019,
         28248
        ],
        [
         3004,
         18312
        ],
        [
         2844,
         2922
        ],
        [
         2966,
         43506
        ],
        [
         2676,
         106505
        ],
        [
         5527,
         35240
        ],
        [
         5831,
         14296
        ],
        [
         3307,
         2422
        ],
        [
         1672,
         7313
        ],
        [
         2552,
         3354
        ],
        [
         2533,
         64185
        ],
        [
         1719,
         22352
        ],
        [
         5465,
         9273
        ],
        [
         5656,
         20971
        ],
        [
         5624,
         2030
        ],
        [
         4103,
         42046
        ],
        [
         2321,
         176774
        ],
        [
         3611,
         5606
        ],
        [
         2580,
         4891
        ],
        [
         2070,
         8373
        ],
        [
         2497,
         1256
        ],
        [
         3265,
         1624
        ],
        [
         2733,
         9475
        ],
        [
         3590,
         39299
        ],
        [
         4355,
         1420
        ],
        [
         3179,
         26849
        ],
        [
         2408,
         21804
        ],
        [
         5649,
         11649
        ],
        [
         2922,
         2242
        ],
        [
         5672,
         2676
        ],
        [
         5605,
         1486644
        ],
        [
         4386,
         9426
        ],
        [
         2992,
         284
        ],
        [
         5970,
         659
        ],
        [
         1644,
         789594
        ],
        [
         1002,
         4476656
        ],
        [
         1589,
         36590
        ],
        [
         5585,
         18826
        ],
        [
         4340,
         670
        ],
        [
         2568,
         12982
        ],
        [
         3396,
         863
        ],
        [
         1557,
         24
        ],
        [
         1724,
         599
        ],
        [
         4218,
         305
        ],
        [
         5965,
         749
        ],
        [
         1722,
         516
        ],
        [
         4413,
         2394
        ],
        [
         3658,
         1099
        ],
        [
         2805,
         783
        ],
        [
         3615,
         361
        ],
        [
         4207,
         136
        ],
        [
         4359,
         870
        ],
        [
         3056,
         475
        ],
        [
         1592,
         467
        ],
        [
         2445,
         408
        ],
        [
         3470,
         429
        ],
        [
         5131,
         69
        ],
        [
         3582,
         86
        ],
        [
         4729,
         158
        ],
        [
         2273,
         58
        ],
        [
         4830,
         49
        ],
        [
         3242,
         74
        ],
        [
         3996,
         5
        ],
        [
         3167,
         23
        ],
        [
         4145,
         108
        ],
        [
         5813,
         32
        ],
        [
         3388,
         9
        ],
        [
         3105,
         83
        ],
        [
         3461,
         31
        ],
        [
         3746,
         44
        ],
        [
         3243,
         41
        ],
        [
         2563,
         2
        ],
        [
         4709,
         16
        ],
        [
         5840,
         36
        ],
        [
         3931,
         17
        ],
        [
         2978,
         14
        ],
        [
         4006,
         4
        ],
        [
         4299,
         2
        ],
        [
         3959,
         7
        ],
        [
         4841,
         4
        ],
        [
         3647,
         5
        ],
        [
         3245,
         16662
        ],
        [
         3930,
         2830
        ],
        [
         2303,
         696
        ],
        [
         5174,
         2425
        ],
        [
         1155,
         2040
        ],
        [
         2853,
         396
        ],
        [
         1134,
         70
        ],
        [
         2241,
         213
        ],
        [
         1045,
         2195327
        ],
        [
         2726,
         9557
        ],
        [
         3551,
         379
        ],
        [
         3023,
         96554
        ],
        [
         1615,
         5947
        ],
        [
         3605,
         189
        ],
        [
         3535,
         1032
        ],
        [
         1295,
         5359
        ],
        [
         3168,
         6400
        ],
        [
         2984,
         4435
        ],
        [
         1942,
         3134
        ],
        [
         2432,
         11778
        ],
        [
         1098,
         882068
        ],
        [
         5040,
         122329
        ],
        [
         2657,
         60759
        ],
        [
         5630,
         9488
        ],
        [
         1419,
         84172
        ],
        [
         3969,
         2233
        ],
        [
         1506,
         6256
        ],
        [
         5810,
         209
        ],
        [
         4196,
         315
        ],
        [
         4164,
         1038
        ],
        [
         5842,
         121273
        ],
        [
         1581,
         48566
        ],
        [
         5572,
         29762
        ],
        [
         2546,
         413714
        ],
        [
         1931,
         9264
        ],
        [
         4489,
         7826
        ],
        [
         3083,
         592
        ],
        [
         5647,
         6925
        ],
        [
         2082,
         400
        ],
        [
         5511,
         150411
        ],
        [
         2087,
         5790
        ],
        [
         4061,
         82316
        ],
        [
         3771,
         102
        ],
        [
         2520,
         24364
        ],
        [
         5035,
         5485
        ],
        [
         4656,
         605
        ],
        [
         3612,
         1545
        ],
        [
         4037,
         8665
        ],
        [
         1828,
         5693
        ],
        [
         3419,
         738
        ],
        [
         3580,
         830
        ],
        [
         3157,
         269
        ],
        [
         1619,
         13240
        ],
        [
         3594,
         1466
        ],
        [
         3878,
         2588
        ],
        [
         4124,
         259
        ],
        [
         1858,
         625
        ],
        [
         2073,
         27874
        ],
        [
         2264,
         175871
        ],
        [
         1109,
         563
        ],
        [
         3392,
         72
        ],
        [
         1638,
         1809
        ],
        [
         5943,
         742
        ],
        [
         2179,
         641
        ],
        [
         2531,
         1068805
        ],
        [
         3609,
         1106
        ],
        [
         1029,
         357810
        ],
        [
         4016,
         32399
        ],
        [
         1195,
         303058
        ],
        [
         1631,
         343
        ],
        [
         3155,
         12483
        ],
        [
         2174,
         448354
        ],
        [
         2345,
         207155
        ],
        [
         3005,
         72866
        ],
        [
         3706,
         15353
        ],
        [
         1595,
         227578
        ],
        [
         5948,
         5163
        ],
        [
         3013,
         6846
        ],
        [
         1670,
         2939
        ],
        [
         5310,
         270
        ],
        [
         1579,
         96196
        ],
        [
         1910,
         7618
        ],
        [
         1583,
         9796
        ],
        [
         5800,
         2089
        ],
        [
         2820,
         417
        ],
        [
         5804,
         1145
        ],
        [
         4192,
         88
        ],
        [
         1630,
         175
        ],
        [
         3524,
         3
        ],
        [
         5987,
         270
        ],
        [
         1786,
         140
        ],
        [
         4368,
         206
        ],
        [
         4428,
         428
        ],
        [
         3851,
         425
        ],
        [
         4434,
         699
        ],
        [
         5498,
         286
        ],
        [
         1518,
         15
        ],
        [
         4714,
         396
        ],
        [
         3917,
         31
        ],
        [
         1755,
         7
        ],
        [
         4947,
         3
        ],
        [
         5887,
         215
        ],
        [
         4248,
         220
        ],
        [
         4147,
         166
        ],
        [
         4667,
         49
        ],
        [
         4892,
         197
        ],
        [
         4360,
         75
        ],
        [
         3488,
         70
        ],
        [
         3741,
         33
        ],
        [
         3422,
         192
        ],
        [
         4456,
         73
        ],
        [
         5989,
         42
        ],
        [
         2322,
         12
        ],
        [
         3924,
         61
        ],
        [
         4229,
         53
        ],
        [
         4932,
         15
        ],
        [
         4443,
         78
        ],
        [
         3947,
         22
        ],
        [
         3789,
         4
        ],
        [
         5098,
         5
        ],
        [
         1526,
         41
        ],
        [
         4175,
         9
        ],
        [
         4761,
         11
        ],
        [
         5127,
         1
        ],
        [
         3886,
         1
        ],
        [
         5704,
         4
        ],
        [
         5789,
         2
        ],
        [
         4763,
         2
        ],
        [
         4153,
         6
        ],
        [
         3338,
         1
        ],
        [
         2558,
         18386
        ],
        [
         5928,
         13013
        ],
        [
         3846,
         1356
        ],
        [
         5886,
         151656
        ],
        [
         2516,
         69105
        ],
        [
         1266,
         100386
        ],
        [
         2750,
         6376
        ],
        [
         5998,
         409314
        ],
        [
         2642,
         127391
        ],
        [
         5638,
         135201
        ],
        [
         5576,
         45849
        ],
        [
         5512,
         252960
        ],
        [
         1090,
         54869
        ],
        [
         1344,
         570
        ],
        [
         4387,
         10738
        ],
        [
         1176,
         2368
        ],
        [
         4053,
         14476
        ],
        [
         2706,
         831
        ],
        [
         4447,
         3115
        ],
        [
         4203,
         3123
        ],
        [
         1292,
         46025
        ],
        [
         2229,
         3658
        ],
        [
         4692,
         6745
        ],
        [
         1160,
         11800
        ],
        [
         5893,
         31919
        ],
        [
         1291,
         18671
        ],
        [
         1612,
         7417
        ],
        [
         1671,
         2971
        ],
        [
         5770,
         763
        ],
        [
         1464,
         1325
        ],
        [
         1613,
         89804
        ],
        [
         3458,
         70
        ],
        [
         3885,
         817
        ],
        [
         2091,
         3566
        ],
        [
         5147,
         369
        ],
        [
         2068,
         334452
        ],
        [
         2740,
         91644
        ],
        [
         1652,
         15592
        ],
        [
         5537,
         481
        ],
        [
         3544,
         1909
        ],
        [
         5134,
         2734
        ],
        [
         3533,
         2562
        ],
        [
         4300,
         7332
        ],
        [
         1022,
         1316818
        ],
        [
         1720,
         25387
        ],
        [
         4181,
         2036
        ],
        [
         3509,
         717
        ],
        [
         2581,
         31014
        ],
        [
         4071,
         6010
        ],
        [
         3523,
         1367
        ],
        [
         4282,
         16098
        ],
        [
         4049,
         10634
        ],
        [
         1529,
         4669
        ],
        [
         4258,
         2232
        ],
        [
         2669,
         597591
        ],
        [
         2729,
         258306
        ],
        [
         2601,
         25097
        ],
        [
         3378,
         308
        ],
        [
         3099,
         10109
        ],
        [
         5892,
         1765
        ],
        [
         3558,
         258
        ],
        [
         1864,
         62996
        ],
        [
         5959,
         83
        ],
        [
         1167,
         182167
        ],
        [
         5801,
         249497
        ],
        [
         5850,
         5323
        ],
        [
         4503,
         2254
        ],
        [
         2762,
         723
        ],
        [
         5595,
         2138
        ],
        [
         1857,
         500910
        ],
        [
         5618,
         1341
        ],
        [
         3063,
         5828
        ],
        [
         3749,
         5779
        ],
        [
         3547,
         2771
        ],
        [
         2694,
         2176
        ],
        [
         2168,
         37725
        ],
        [
         1902,
         8050
        ],
        [
         5014,
         3813
        ],
        [
         1702,
         2446
        ],
        [
         3397,
         294
        ],
        [
         5931,
         398
        ],
        [
         4364,
         207
        ],
        [
         2914,
         1425
        ],
        [
         2878,
         593
        ],
        [
         3182,
         115
        ],
        [
         2422,
         649
        ],
        [
         3865,
         412
        ],
        [
         3428,
         716
        ],
        [
         2397,
         711
        ],
        [
         1224,
         626
        ],
        [
         2695,
         284
        ],
        [
         1432,
         100
        ],
        [
         4726,
         16
        ],
        [
         4178,
         440
        ],
        [
         3239,
         1099
        ],
        [
         2453,
         831
        ],
        [
         4526,
         184
        ],
        [
         2440,
         604
        ],
        [
         2945,
         364
        ],
        [
         4940,
         68
        ],
        [
         2239,
         11
        ],
        [
         3888,
         60
        ],
        [
         4727,
         68
        ],
        [
         3379,
         26
        ],
        [
         4954,
         14
        ],
        [
         5853,
         12
        ],
        [
         3212,
         42
        ],
        [
         4080,
         66
        ],
        [
         4968,
         18
        ],
        [
         4210,
         17
        ],
        [
         2557,
         4
        ],
        [
         3733,
         1
        ],
        [
         2245,
         9
        ],
        [
         3956,
         7
        ],
        [
         2607,
         1
        ],
        [
         2894,
         112352
        ],
        [
         2206,
         18682
        ],
        [
         2868,
         1205
        ],
        [
         3511,
         1047
        ],
        [
         4107,
         26
        ],
        [
         5681,
         3864
        ],
        [
         5669,
         31099
        ],
        [
         3110,
         2495
        ],
        [
         4431,
         14978
        ],
        [
         5116,
         3668
        ],
        [
         3583,
         3325
        ],
        [
         1006,
         1689443
        ],
        [
         3967,
         25064
        ],
        [
         1396,
         41
        ],
        [
         3009,
         30334
        ],
        [
         1408,
         201504
        ],
        [
         4528,
         7857
        ],
        [
         3158,
         431
        ],
        [
         1171,
         28517
        ],
        [
         4227,
         882
        ],
        [
         4442,
         15092
        ],
        [
         3660,
         452
        ],
        [
         2399,
         1070
        ],
        [
         4438,
         723
        ],
        [
         2886,
         6169
        ],
        [
         2495,
         3836
        ],
        [
         3331,
         6866
        ],
        [
         2157,
         1870
        ],
        [
         5883,
         49559
        ],
        [
         2511,
         612758
        ],
        [
         2333,
         261947
        ],
        [
         2377,
         192674
        ],
        [
         3310,
         18893
        ],
        [
         2133,
         5400
        ],
        [
         3714,
         2956
        ],
        [
         3651,
         4460
        ],
        [
         1433,
         354
        ],
        [
         5824,
         1872
        ],
        [
         2384,
         114592
        ],
        [
         1178,
         819100
        ],
        [
         2386,
         54968
        ],
        [
         2698,
         255
        ],
        [
         1035,
         878961
        ],
        [
         1189,
         191514
        ],
        [
         5601,
         8998
        ],
        [
         5075,
         7899
        ],
        [
         2537,
         5060
        ],
        [
         1421,
         28536
        ],
        [
         1314,
         592
        ],
        [
         2481,
         7591
        ],
        [
         4405,
         8986
        ],
        [
         5658,
         165848
        ],
        [
         3333,
         10363
        ],
        [
         1757,
         2205
        ],
        [
         3187,
         339
        ],
        [
         4399,
         694
        ],
        [
         2788,
         15280
        ],
        [
         1323,
         25450
        ],
        [
         3111,
         157960
        ],
        [
         1054,
         279357
        ],
        [
         2424,
         220112
        ],
        [
         3109,
         10585
        ],
        [
         4182,
         1078
        ],
        [
         3081,
         724
        ],
        [
         4547,
         121
        ],
        [
         1100,
         527459
        ],
        [
         2423,
         16095
        ],
        [
         3442,
         11042
        ],
        [
         3020,
         663
        ],
        [
         3387,
         990
        ],
        [
         5785,
         2621
        ],
        [
         3024,
         3939
        ],
        [
         4420,
         1003
        ],
        [
         5553,
         145421
        ],
        [
         5643,
         996
        ],
        [
         4936,
         367
        ],
        [
         3910,
         185
        ],
        [
         2442,
         1215
        ],
        [
         1473,
         473
        ],
        [
         1844,
         35
        ],
        [
         1743,
         930
        ],
        [
         3966,
         146
        ],
        [
         3418,
         1054
        ],
        [
         4159,
         99
        ],
        [
         3908,
         290
        ],
        [
         4646,
         920
        ],
        [
         4419,
         337
        ],
        [
         5031,
         377
        ],
        [
         1571,
         250
        ],
        [
         4222,
         333
        ],
        [
         3530,
         324
        ],
        [
         4911,
         51
        ],
        [
         4055,
         273
        ],
        [
         4185,
         39
        ],
        [
         4173,
         153
        ],
        [
         2779,
         194
        ],
        [
         4223,
         43
        ],
        [
         3832,
         55
        ],
        [
         5137,
         578
        ],
        [
         3994,
         14
        ],
        [
         2987,
         101
        ],
        [
         3382,
         50
        ],
        [
         4851,
         36
        ],
        [
         1126,
         24
        ],
        [
         3970,
         34
        ],
        [
         4246,
         25
        ],
        [
         4928,
         22
        ],
        [
         5697,
         60
        ],
        [
         2461,
         36
        ],
        [
         3911,
         39
        ],
        [
         2208,
         8
        ],
        [
         4204,
         11
        ],
        [
         5442,
         11
        ],
        [
         4122,
         1
        ],
        [
         2865,
         2951
        ],
        [
         5464,
         4072
        ],
        [
         3560,
         777
        ],
        [
         2974,
         14626
        ],
        [
         4019,
         114
        ],
        [
         2135,
         100249
        ],
        [
         5927,
         7282
        ],
        [
         4045,
         705
        ],
        [
         5513,
         34817
        ],
        [
         2944,
         10573
        ],
        [
         2875,
         405
        ],
        [
         3139,
         195
        ],
        [
         2467,
         6437
        ],
        [
         3064,
         101324
        ],
        [
         4082,
         6018
        ],
        [
         4716,
         6932
        ],
        [
         5070,
         638631
        ],
        [
         2125,
         13471
        ],
        [
         3671,
         444
        ],
        [
         4048,
         2184
        ],
        [
         5445,
         1259
        ],
        [
         2392,
         802
        ],
        [
         3113,
         64564
        ],
        [
         2433,
         37657
        ],
        [
         3561,
         3656
        ],
        [
         2946,
         2202
        ],
        [
         5660,
         346673
        ],
        [
         3085,
         2205
        ],
        [
         3408,
         2388
        ],
        [
         2483,
         187206
        ],
        [
         2458,
         19789
        ],
        [
         5631,
         4726
        ],
        [
         4565,
         302423
        ],
        [
         4397,
         16712
        ],
        [
         3504,
         427
        ],
        [
         3753,
         96
        ],
        [
         2570,
         4150
        ],
        [
         1092,
         3108743
        ],
        [
         3176,
         5371
        ],
        [
         1750,
         3147
        ],
        [
         2588,
         13645
        ],
        [
         4200,
         949
        ],
        [
         5612,
         168607
        ],
        [
         1169,
         87512
        ],
        [
         2486,
         26121
        ],
        [
         1879,
         2410
        ],
        [
         4538,
         7917
        ],
        [
         3140,
         11544
        ],
        [
         4374,
         3354
        ],
        [
         4647,
         1804
        ],
        [
         4268,
         943
        ],
        [
         1487,
         40049
        ],
        [
         1466,
         91441
        ],
        [
         4465,
         27690
        ],
        [
         2464,
         1101
        ],
        [
         4469,
         38791
        ],
        [
         5784,
         1722
        ],
        [
         4074,
         8885
        ],
        [
         2523,
         84114
        ],
        [
         5912,
         24883
        ],
        [
         1481,
         7254
        ],
        [
         2411,
         722
        ],
        [
         5089,
         2924
        ],
        [
         1926,
         11845
        ],
        [
         4499,
         262
        ],
        [
         2468,
         29351
        ],
        [
         2549,
         49187
        ],
        [
         2393,
         2217
        ],
        [
         1927,
         1834
        ],
        [
         2753,
         88529
        ],
        [
         2828,
         18903
        ],
        [
         3842,
         12539
        ],
        [
         2771,
         2418
        ],
        [
         3045,
         586
        ],
        [
         3443,
         788
        ],
        [
         1239,
         597032
        ],
        [
         1026,
         3375435
        ],
        [
         2418,
         5020
        ],
        [
         2407,
         634
        ],
        [
         3913,
         571
        ],
        [
         3201,
         2605
        ],
        [
         2268,
         2752
        ],
        [
         4231,
         159
        ],
        [
         1585,
         6398
        ],
        [
         4233,
         2074
        ],
        [
         4361,
         93
        ],
        [
         3107,
         2100
        ],
        [
         3395,
         136
        ],
        [
         5978,
         405
        ],
        [
         3473,
         876
        ],
        [
         4699,
         22
        ],
        [
         5461,
         368
        ],
        [
         2094,
         989
        ],
        [
         4471,
         220
        ],
        [
         5110,
         253
        ],
        [
         3713,
         171
        ],
        [
         4994,
         180
        ],
        [
         2745,
         76
        ],
        [
         3697,
         673
        ],
        [
         1036,
         494
        ],
        [
         5695,
         446
        ],
        [
         3463,
         223
        ],
        [
         1776,
         76
        ],
        [
         3197,
         137
        ],
        [
         2415,
         107
        ],
        [
         3114,
         111
        ],
        [
         3876,
         130
        ],
        [
         3017,
         162
        ],
        [
         2297,
         64
        ],
        [
         1448,
         105
        ],
        [
         3164,
         41
        ],
        [
         2574,
         20
        ],
        [
         4272,
         9
        ],
        [
         3298,
         226
        ],
        [
         5814,
         36
        ],
        [
         3491,
         42
        ],
        [
         1286,
         50
        ],
        [
         5566,
         18
        ],
        [
         1798,
         9
        ],
        [
         3518,
         16
        ],
        [
         1788,
         9
        ],
        [
         5926,
         54
        ],
        [
         5455,
         103
        ],
        [
         4237,
         16
        ],
        [
         3372,
         28
        ],
        [
         4138,
         15
        ],
        [
         4972,
         13
        ],
        [
         4661,
         10
        ],
        [
         3632,
         11
        ],
        [
         4984,
         3
        ],
        [
         3975,
         2
        ],
        [
         2159,
         540196
        ],
        [
         3984,
         41087
        ],
        [
         3545,
         4850
        ],
        [
         1941,
         539
        ],
        [
         1830,
         34639
        ],
        [
         3007,
         16041
        ],
        [
         5503,
         1200
        ],
        [
         3579,
         26307
        ],
        [
         2128,
         283089
        ],
        [
         5807,
         13501
        ],
        [
         3841,
         353
        ],
        [
         5924,
         323577
        ],
        [
         4433,
         1403
        ],
        [
         4104,
         3578
        ],
        [
         1717,
         1111
        ],
        [
         5574,
         124774
        ],
        [
         3033,
         72400
        ],
        [
         2666,
         91485
        ],
        [
         5485,
         19042
        ],
        [
         4962,
         398
        ],
        [
         3320,
         1110
        ],
        [
         1040,
         885978
        ],
        [
         2140,
         164024
        ],
        [
         1596,
         203375
        ],
        [
         2668,
         73583
        ],
        [
         4144,
         18702
        ],
        [
         1150,
         16486
        ],
        [
         3871,
         193
        ],
        [
         3433,
         17223
        ],
        [
         3047,
         8812
        ],
        [
         4171,
         1416
        ],
        [
         3683,
         1497
        ],
        [
         5914,
         20612
        ],
        [
         4525,
         9623
        ],
        [
         1428,
         1889035
        ],
        [
         5531,
         154928
        ],
        [
         5560,
         27735
        ],
        [
         3278,
         2894
        ],
        [
         2561,
         4964
        ],
        [
         1393,
         156
        ],
        [
         1158,
         254177
        ],
        [
         1434,
         341238
        ],
        [
         2870,
         14328
        ],
        [
         3441,
         2328
        ],
        [
         4498,
         255
        ],
        [
         4114,
         923
        ],
        [
         1655,
         110165
        ],
        [
         5591,
         4357
        ],
        [
         5526,
         192394
        ],
        [
         2514,
         126010
        ],
        [
         1887,
         3250
        ],
        [
         1825,
         11307
        ],
        [
         5505,
         433
        ],
        [
         2286,
         70527
        ],
        [
         4427,
         6939
        ],
        [
         2687,
         20414
        ],
        [
         3366,
         899
        ],
        [
         3877,
         129
        ],
        [
         5479,
         21969
        ],
        [
         2161,
         4707
        ],
        [
         3462,
         1432
        ],
        [
         1731,
         296677
        ],
        [
         2639,
         185218
        ],
        [
         5982,
         494
        ],
        [
         4140,
         8710
        ],
        [
         5506,
         26273
        ],
        [
         5457,
         2295
        ],
        [
         5488,
         956
        ],
        [
         1489,
         4535
        ],
        [
         3192,
         159
        ],
        [
         3907,
         143
        ],
        [
         4529,
         71
        ],
        [
         2518,
         816592
        ],
        [
         5567,
         60760
        ],
        [
         1415,
         45597
        ],
        [
         4280,
         4634
        ],
        [
         1753,
         129
        ],
        [
         2165,
         110820
        ],
        [
         3031,
         106646
        ],
        [
         3028,
         27354
        ],
        [
         2577,
         2184
        ],
        [
         4038,
         3391
        ],
        [
         2766,
         1514
        ],
        [
         4468,
         476
        ],
        [
         1001,
         19864421
        ],
        [
         4040,
         20427
        ],
        [
         5799,
         311
        ],
        [
         5443,
         242
        ],
        [
         2780,
         34
        ],
        [
         3380,
         343
        ],
        [
         1417,
         515
        ],
        [
         4059,
         92
        ],
        [
         5587,
         447
        ],
        [
         4512,
         272
        ],
        [
         4523,
         323
        ],
        [
         3345,
         242
        ],
        [
         5440,
         646
        ],
        [
         3872,
         53
        ],
        [
         3700,
         788
        ],
        [
         3778,
         87
        ],
        [
         4728,
         49
        ],
        [
         3162,
         32
        ],
        [
         5940,
         78
        ],
        [
         4679,
         195
        ],
        [
         4073,
         190
        ],
        [
         4342,
         35
        ],
        [
         5939,
         153
        ],
        [
         2858,
         63
        ],
        [
         5101,
         33
        ],
        [
         3793,
         28
        ],
        [
         4659,
         9
        ],
        [
         5938,
         15
        ],
        [
         3935,
         21
        ],
        [
         1413,
         73
        ],
        [
         3906,
         8
        ],
        [
         5156,
         7
        ],
        [
         1341,
         12
        ],
        [
         4051,
         2
        ],
        [
         1253,
         5
        ],
        [
         3765,
         14
        ],
        [
         5802,
         6
        ],
        [
         3774,
         7
        ],
        [
         5369,
         3
        ],
        [
         2383,
         8
        ],
        [
         4677,
         4
        ],
        [
         1237,
         698023
        ],
        [
         5692,
         1554
        ],
        [
         2808,
         2693
        ],
        [
         5843,
         7526
        ],
        [
         4619,
         39613
        ],
        [
         2427,
         32984
        ],
        [
         2787,
         8663
        ],
        [
         4295,
         1185
        ],
        [
         2162,
         15680
        ],
        [
         1782,
         998
        ],
        [
         4680,
         988
        ],
        [
         2592,
         2986
        ],
        [
         3992,
         3412
        ],
        [
         5925,
         194
        ],
        [
         3866,
         180
        ],
        [
         3089,
         12174
        ],
        [
         2484,
         212654
        ],
        [
         1182,
         5601840
        ],
        [
         4024,
         69022
        ],
        [
         3451,
         4610
        ],
        [
         5981,
         727
        ],
        [
         2843,
         236
        ],
        [
         1833,
         873
        ],
        [
         1642,
         389463
        ],
        [
         2376,
         48938
        ],
        [
         2962,
         12931
        ],
        [
         1588,
         7427
        ],
        [
         3311,
         496
        ],
        [
         2403,
         88439
        ],
        [
         5640,
         18576
        ],
        [
         4056,
         6396
        ],
        [
         2555,
         78347
        ],
        [
         1199,
         41269
        ],
        [
         1405,
         2404
        ],
        [
         1200,
         695044
        ],
        [
         4514,
         571
        ],
        [
         2356,
         1569
        ],
        [
         5972,
         176
        ],
        [
         1221,
         369605
        ],
        [
         5619,
         140982
        ],
        [
         5073,
         39070
        ],
        [
         5913,
         37346
        ],
        [
         5546,
         17649
        ],
        [
         3936,
         1953
        ],
        [
         5198,
         2258
        ],
        [
         4283,
         1348
        ],
        [
         3277,
         425
        ],
        [
         1294,
         36978
        ],
        [
         2462,
         4539
        ],
        [
         1391,
         1167701
        ],
        [
         2248,
         17204
        ],
        [
         5623,
         65405
        ],
        [
         5652,
         18855
        ],
        [
         5851,
         1016
        ],
        [
         4050,
         1080
        ],
        [
         2340,
         71693
        ],
        [
         3027,
         13319
        ],
        [
         4214,
         1679
        ],
        [
         2439,
         811
        ],
        [
         4430,
         2278
        ],
        [
         2512,
         2133
        ],
        [
         1699,
         47966
        ],
        [
         1480,
         5618
        ],
        [
         4152,
         663
        ],
        [
         5508,
         4047
        ],
        [
         5872,
         821
        ],
        [
         4034,
         661
        ],
        [
         1039,
         1078336
        ],
        [
         1135,
         153057
        ],
        [
         1088,
         581298
        ],
        [
         2314,
         16872
        ],
        [
         2770,
         5208
        ],
        [
         5604,
         43152
        ],
        [
         3743,
         5426
        ],
        [
         4033,
         278
        ],
        [
         3208,
         293
        ],
        [
         2390,
         422
        ],
        [
         1013,
         337131
        ],
        [
         2482,
         23133
        ],
        [
         3790,
         164
        ],
        [
         1810,
         5558
        ],
        [
         1162,
         130199
        ],
        [
         4957,
         19056
        ],
        [
         2123,
         81498
        ],
        [
         5973,
         226
        ],
        [
         4183,
         229
        ],
        [
         4636,
         732
        ],
        [
         2711,
         1278
        ],
        [
         2476,
         797
        ],
        [
         3346,
         91
        ],
        [
         1553,
         190
        ],
        [
         5918,
         1259
        ],
        [
         2981,
         128
        ],
        [
         3385,
         138
        ],
        [
         2095,
         437
        ],
        [
         3734,
         150
        ],
        [
         1806,
         26
        ],
        [
         3738,
         389
        ],
        [
         4116,
         135
        ],
        [
         4170,
         162
        ],
        [
         3515,
         49
        ],
        [
         3188,
         178
        ],
        [
         4693,
         249
        ],
        [
         1534,
         17
        ],
        [
         2240,
         60
        ],
        [
         3873,
         4
        ],
        [
         3186,
         32
        ],
        [
         2280,
         10
        ],
        [
         1859,
         97
        ],
        [
         3728,
         62
        ],
        [
         3803,
         2
        ],
        [
         4813,
         7
        ],
        [
         5027,
         11
        ],
        [
         1508,
         5
        ],
        [
         1338,
         2
        ],
        [
         5852,
         11
        ],
        [
         4249,
         3
        ],
        [
         5477,
         1495
        ],
        [
         5779,
         1903
        ],
        [
         5510,
         2693
        ],
        [
         4401,
         7418
        ],
        [
         5149,
         3101
        ],
        [
         3459,
         1209
        ],
        [
         1482,
         3319
        ],
        [
         4415,
         380493
        ],
        [
         2373,
         6129
        ],
        [
         3446,
         9142
        ],
        [
         3563,
         467
        ],
        [
         5788,
         1536
        ],
        [
         3367,
         965
        ],
        [
         5606,
         315430
        ],
        [
         1087,
         9099
        ],
        [
         4527,
         34204
        ],
        [
         2217,
         19534
        ],
        [
         4515,
         6382
        ],
        [
         4014,
         163916
        ],
        [
         3370,
         2751
        ],
        [
         1758,
         55001
        ],
        [
         2362,
         13165
        ],
        [
         2072,
         4845
        ],
        [
         4345,
         1026
        ],
        [
         4060,
         804
        ],
        [
         4023,
         334
        ],
        [
         2202,
         371
        ],
        [
         5565,
         79103
        ],
        [
         1843,
         4191
        ],
        [
         3010,
         3627
        ],
        [
         1507,
         1335
        ],
        [
         2965,
         962
        ],
        [
         3824,
         3404
        ],
        [
         4047,
         30278
        ],
        [
         2215,
         54599
        ],
        [
         5141,
         5081
        ],
        [
         1646,
         149761
        ],
        [
         2302,
         56648
        ],
        [
         4076,
         12146
        ],
        [
         4389,
         3112
        ],
        [
         2425,
         48
        ],
        [
         1829,
         5309
        ],
        [
         2846,
         56290
        ],
        [
         2348,
         1343
        ],
        [
         3756,
         697
        ],
        [
         2717,
         1240
        ],
        [
         2800,
         26591
        ],
        [
         4108,
         8179
        ],
        [
         3272,
         8711
        ],
        [
         1876,
         95
        ],
        [
         4941,
         10682
        ],
        [
         5597,
         27978
        ],
        [
         2508,
         58400
        ],
        [
         5921,
         150388
        ],
        [
         3672,
         10874
        ],
        [
         5120,
         2131
        ],
        [
         5095,
         81293
        ],
        [
         1700,
         7467
        ],
        [
         4704,
         646
        ],
        [
         2158,
         171158
        ],
        [
         5555,
         54504
        ],
        [
         5693,
         9364
        ],
        [
         1104,
         37829
        ],
        [
         2413,
         200987
        ],
        [
         4085,
         18002
        ],
        [
         2372,
         883
        ],
        [
         3430,
         5112
        ],
        [
         4912,
         290
        ],
        [
         1869,
         420071
        ],
        [
         2777,
         21240
        ],
        [
         4948,
         1617
        ],
        [
         3334,
         1876
        ],
        [
         2430,
         2095
        ],
        [
         3029,
         29369
        ],
        [
         1198,
         77726
        ],
        [
         1647,
         51023
        ],
        [
         2540,
         36514
        ],
        [
         2719,
         2808
        ],
        [
         4384,
         790
        ],
        [
         5645,
         555
        ],
        [
         2093,
         349
        ],
        [
         3198,
         62
        ],
        [
         2479,
         492
        ],
        [
         4649,
         71
        ],
        [
         5138,
         510
        ],
        [
         4915,
         467
        ],
        [
         1705,
         122
        ],
        [
         4432,
         463
        ],
        [
         3689,
         472
        ],
        [
         3196,
         242
        ],
        [
         5988,
         168
        ],
        [
         3636,
         290
        ],
        [
         2760,
         203
        ],
        [
         3543,
         363
        ],
        [
         4275,
         120
        ],
        [
         5729,
         26
        ],
        [
         3209,
         173
        ],
        [
         3227,
         21
        ],
        [
         3247,
         198
        ],
        [
         3353,
         33
        ],
        [
         3138,
         159
        ],
        [
         4950,
         15
        ],
        [
         3941,
         26
        ],
        [
         1785,
         14
        ],
        [
         1438,
         19
        ],
        [
         3249,
         20
        ],
        [
         3043,
         8
        ],
        [
         3550,
         3
        ],
        [
         5865,
         20
        ],
        [
         5181,
         3
        ],
        [
         4881,
         4
        ],
        [
         4018,
         4
        ],
        [
         3184,
         1
        ],
        [
         3982,
         14162
        ],
        [
         5614,
         57357
        ],
        [
         3235,
         23450
        ],
        [
         1882,
         7515
        ],
        [
         5533,
         2254
        ],
        [
         2127,
         14594
        ],
        [
         5615,
         11003
        ],
        [
         2375,
         1512
        ],
        [
         4690,
         391
        ],
        [
         2674,
         482144
        ],
        [
         5516,
         16761
        ],
        [
         5441,
         9819
        ],
        [
         2749,
         15141
        ],
        [
         1144,
         42731
        ],
        [
         1593,
         1907
        ],
        [
         5563,
         11295
        ],
        [
         4096,
         953
        ],
        [
         4101,
         15883
        ],
        [
         2164,
         24368
        ],
        [
         1900,
         26518
        ],
        [
         2715,
         1430
        ],
        [
         2680,
         1383362
        ],
        [
         4495,
         83997
        ],
        [
         4479,
         2410
        ],
        [
         5900,
         10035
        ],
        [
         1842,
         1839
        ],
        [
         3607,
         1276
        ],
        [
         2317,
         223558
        ],
        [
         3750,
         1420
        ],
        [
         1256,
         222618
        ],
        [
         5538,
         27105
        ],
        [
         4402,
         16548
        ],
        [
         3825,
         3899
        ],
        [
         3190,
         3894
        ],
        [
         4043,
         18798
        ],
        [
         2337,
         190758
        ],
        [
         2324,
         47242
        ],
        [
         2493,
         319724
        ],
        [
         2578,
         67126
        ],
        [
         2837,
         1522
        ],
        [
         3347,
         9964
        ],
        [
         4488,
         11732
        ],
        [
         3494,
         6679
        ],
        [
         5189,
         50
        ],
        [
         2344,
         321102
        ],
        [
         3679,
         4726
        ],
        [
         2410,
         22631
        ],
        [
         3833,
         8094
        ],
        [
         3856,
         19
        ],
        [
         5968,
         419
        ],
        [
         5600,
         319735
        ],
        [
         5122,
         3862
        ],
        [
         5491,
         10491
        ],
        [
         3499,
         293
        ],
        [
         4602,
         1467
        ],
        [
         1206,
         3271083
        ],
        [
         5025,
         64369
        ],
        [
         3492,
         23340
        ],
        [
         4242,
         2427
        ],
        [
         4641,
         3015
        ],
        [
         2807,
         3878
        ],
        [
         2539,
         555479
        ],
        [
         2829,
         35712
        ],
        [
         3974,
         122887
        ],
        [
         3571,
         166
        ],
        [
         3112,
         1360
        ],
        [
         2487,
         555342
        ],
        [
         5514,
         9476
        ],
        [
         2616,
         2120
        ],
        [
         3659,
         346
        ],
        [
         2591,
         18055
        ],
        [
         1476,
         180949
        ],
        [
         1657,
         54090
        ],
        [
         2435,
         3331
        ],
        [
         5859,
         790
        ],
        [
         3383,
         2419
        ],
        [
         1820,
         12025
        ],
        [
         5633,
         475
        ],
        [
         2579,
         2158
        ],
        [
         3173,
         253
        ],
        [
         5666,
         14320
        ],
        [
         4485,
         113412
        ],
        [
         1094,
         6537071
        ],
        [
         1897,
         52366
        ],
        [
         5629,
         48470
        ],
        [
         4106,
         680
        ],
        [
         3374,
         755
        ],
        [
         5179,
         740
        ],
        [
         3022,
         155
        ],
        [
         3845,
         90
        ],
        [
         3701,
         215
        ],
        [
         4521,
         481
        ],
        [
         1614,
         683
        ],
        [
         4367,
         693
        ],
        [
         2242,
         231
        ],
        [
         4179,
         118
        ],
        [
         3554,
         299
        ],
        [
         4213,
         72
        ],
        [
         4987,
         200
        ],
        [
         3222,
         16
        ],
        [
         3954,
         15
        ],
        [
         3889,
         102
        ],
        [
         5125,
         127
        ],
        [
         3475,
         131
        ],
        [
         3455,
         192
        ],
        [
         4284,
         8
        ],
        [
         2233,
         70
        ],
        [
         3074,
         50
        ],
        [
         3144,
         22
        ],
        [
         3699,
         17
        ],
        [
         5673,
         24
        ],
        [
         2281,
         7
        ],
        [
         5129,
         23
        ],
        [
         2647,
         7
        ],
        [
         5133,
         10
        ],
        [
         3869,
         3
        ],
        [
         1766,
         3
        ],
        [
         3666,
         28675
        ],
        [
         2473,
         2681
        ],
        [
         2606,
         2309
        ],
        [
         4507,
         34649
        ],
        [
         2389,
         48991
        ],
        [
         4099,
         400270
        ],
        [
         3336,
         5512
        ],
        [
         3652,
         66570
        ],
        [
         2352,
         2278
        ],
        [
         1929,
         2763
        ],
        [
         3512,
         460
        ],
        [
         2553,
         2011
        ],
        [
         5583,
         87079
        ],
        [
         4067,
         12531
        ],
        [
         3945,
         348
        ],
        [
         1028,
         3808901
        ],
        [
         4318,
         1417
        ],
        [
         2872,
         1808
        ],
        [
         1228,
         159106
        ],
        [
         3435,
         259
        ],
        [
         3351,
         1897
        ],
        [
         5661,
         8708
        ],
        [
         2421,
         3715
        ],
        [
         2538,
         45370
        ],
        [
         2964,
         1357
        ],
        [
         1832,
         94656
        ],
        [
         1880,
         2147
        ],
        [
         2903,
         12495
        ],
        [
         5698,
         3030
        ],
        [
         2334,
         879
        ],
        [
         5674,
         881
        ],
        [
         2287,
         91477
        ],
        [
         1827,
         19843
        ],
        [
         1525,
         43153
        ],
        [
         2979,
         415
        ],
        [
         5180,
         758
        ],
        [
         4952,
         295
        ],
        [
         1067,
         1534721
        ],
        [
         2100,
         355509
        ],
        [
         1410,
         172888
        ],
        [
         2085,
         42356
        ],
        [
         3012,
         5767
        ],
        [
         3823,
         307
        ],
        [
         1096,
         902527
        ],
        [
         4022,
         587574
        ],
        [
         3238,
         313
        ],
        [
         3619,
         9416
        ],
        [
         3496,
         9018
        ],
        [
         2184,
         415
        ],
        [
         5964,
         768
        ],
        [
         1177,
         888566
        ],
        [
         2499,
         49509
        ],
        [
         5933,
         52851
        ],
        [
         3358,
         4135
        ],
        [
         3330,
         2429
        ],
        [
         3199,
         2590
        ],
        [
         2417,
         2397
        ],
        [
         1541,
         22291
        ],
        [
         2507,
         3122
        ],
        [
         3821,
         1315
        ],
        [
         5487,
         225
        ],
        [
         2296,
         599510
        ],
        [
         2450,
         836281
        ],
        [
         1894,
         34844
        ],
        [
         1721,
         5346
        ],
        [
         5812,
         1065
        ],
        [
         2225,
         181489
        ],
        [
         5897,
         52578
        ],
        [
         2917,
         1191
        ],
        [
         2401,
         49403
        ],
        [
         1604,
         17388
        ],
        [
         4513,
         3392
        ],
        [
         4510,
         7851
        ],
        [
         3610,
         10998
        ],
        [
         4707,
         542
        ],
        [
         1197,
         12428
        ],
        [
         2313,
         5251
        ],
        [
         4478,
         4792
        ],
        [
         4137,
         487
        ],
        [
         2441,
         235
        ],
        [
         3617,
         118
        ],
        [
         2593,
         1032
        ],
        [
         1358,
         18
        ],
        [
         4195,
         400
        ],
        [
         3904,
         936
        ],
        [
         5107,
         321
        ],
        [
         1501,
         11
        ],
        [
         4530,
         39
        ],
        [
         2696,
         479
        ],
        [
         4745,
         66
        ],
        [
         3202,
         464
        ],
        [
         4289,
         223
        ],
        [
         4271,
         124
        ],
        [
         3384,
         146
        ],
        [
         4358,
         472
        ],
        [
         1233,
         269
        ],
        [
         3465,
         122
        ],
        [
         3817,
         179
        ],
        [
         1870,
         87
        ],
        [
         5880,
         4
        ],
        [
         1336,
         15
        ],
        [
         1708,
         33
        ],
        [
         5703,
         7
        ],
        [
         3676,
         113
        ],
        [
         4079,
         193
        ],
        [
         3662,
         39
        ],
        [
         4799,
         88
        ],
        [
         1058,
         31
        ],
        [
         3848,
         28
        ],
        [
         2614,
         45
        ],
        [
         4326,
         10
        ],
        [
         5467,
         14
        ],
        [
         3948,
         2
        ],
        [
         3951,
         17
        ],
        [
         2455,
         106
        ],
        [
         5170,
         12
        ],
        [
         3847,
         34
        ],
        [
         1430,
         4
        ],
        [
         2913,
         12011
        ],
        [
         3710,
         18668
        ],
        [
         5805,
         12190
        ],
        [
         2387,
         7160
        ],
        [
         4519,
         213
        ],
        [
         2438,
         1033
        ],
        [
         5642,
         266339
        ],
        [
         3709,
         94066
        ],
        [
         2419,
         139267
        ],
        [
         3156,
         6623
        ],
        [
         4518,
         2139
        ],
        [
         2496,
         7513
        ],
        [
         5588,
         2025
        ],
        [
         1024,
         940575
        ],
        [
         1784,
         239303
        ],
        [
         1471,
         117980
        ],
        [
         5971,
         439
        ],
        [
         3526,
         4348
        ],
        [
         4688,
         1325
        ],
        [
         4746,
         919
        ],
        [
         4462,
         72628
        ],
        [
         2146,
         38598
        ],
        [
         1610,
         23071
        ],
        [
         4150,
         908
        ],
        [
         5102,
         145
        ],
        [
         5646,
         118662
        ],
        [
         1194,
         101059
        ],
        [
         2996,
         1538
        ],
        [
         3108,
         2469
        ],
        [
         1919,
         5972
        ],
        [
         4313,
         196
        ],
        [
         2728,
         661
        ],
        [
         1715,
         1119
        ],
        [
         1196,
         95557
        ],
        [
         5509,
         18089
        ],
        [
         4412,
         41599
        ],
        [
         3692,
         720
        ],
        [
         3548,
         6851
        ],
        [
         2454,
         3746
        ],
        [
         4921,
         8000
        ],
        [
         5806,
         1592
        ],
        [
         4075,
         4571
        ],
        [
         3602,
         26
        ],
        [
         3354,
         20915
        ],
        [
         1940,
         95415
        ],
        [
         4158,
         19080
        ],
        [
         3606,
         2928
        ],
        [
         2832,
         910
        ],
        [
         4441,
         1140
        ],
        [
         5088,
         241454
        ],
        [
         3740,
         103
        ],
        [
         2970,
         1790
        ],
        [
         1193,
         245779
        ],
        [
         3495,
         9726
        ],
        [
         2662,
         324164
        ],
        [
         1653,
         63357
        ],
        [
         3539,
         13642
        ],
        [
         3919,
         872
        ],
        [
         5087,
         11338
        ],
        [
         2661,
         25740
        ],
        [
         2961,
         8542
        ],
        [
         2360,
         21123
        ],
        [
         3616,
         1318
        ],
        [
         2681,
         82466
        ],
        [
         2778,
         40071
        ],
        [
         2845,
         13323
        ],
        [
         2295,
         8525
        ],
        [
         1494,
         2921
        ],
        [
         5494,
         75397
        ],
        [
         3973,
         2881
        ],
        [
         4187,
         996
        ],
        [
         2244,
         1092
        ],
        [
         4452,
         6145
        ],
        [
         4671,
         4727
        ],
        [
         2200,
         4557
        ],
        [
         3657,
         14373
        ],
        [
         5547,
         21591
        ],
        [
         1847,
         381
        ],
        [
         4021,
         143186
        ],
        [
         4573,
         9233
        ],
        [
         5762,
         17062
        ],
        [
         1440,
         33415
        ],
        [
         5536,
         41147
        ],
        [
         1621,
         5648
        ],
        [
         2643,
         21516
        ],
        [
         2739,
         7734
        ],
        [
         5825,
         94991
        ],
        [
         5934,
         60322
        ],
        [
         1868,
         2697
        ],
        [
         2716,
         7021
        ],
        [
         5826,
         884
        ],
        [
         3497,
         28942
        ],
        [
         1626,
         5823
        ],
        [
         2099,
         1066
        ],
        [
         5484,
         371
        ],
        [
         5178,
         199
        ],
        [
         3489,
         565
        ],
        [
         3983,
         74
        ],
        [
         5381,
         74
        ],
        [
         2116,
         381
        ],
        [
         4742,
         56
        ],
        [
         3514,
         197
        ],
        [
         2470,
         177
        ],
        [
         3363,
         465
        ],
        [
         1639,
         17
        ],
        [
         4129,
         120
        ],
        [
         4843,
         273
        ],
        [
         5018,
         104
        ],
        [
         2621,
         222
        ],
        [
         3160,
         105
        ],
        [
         3988,
         80
        ],
        [
         4132,
         33
        ],
        [
         4009,
         65
        ],
        [
         3792,
         196
        ],
        [
         1787,
         8
        ],
        [
         3532,
         8
        ],
        [
         4341,
         18
        ],
        [
         5197,
         4
        ],
        [
         3770,
         3
        ],
        [
         2251,
         1
        ],
        [
         4840,
         3
        ],
        [
         4092,
         1
        ],
        [
         5570,
         14508
        ],
        [
         3088,
         3659
        ],
        [
         1265,
         4894
        ],
        [
         5811,
         30779
        ],
        [
         3439,
         915
        ],
        [
         4174,
         857
        ],
        [
         4310,
         1174
        ],
        [
         1649,
         212668
        ],
        [
         1018,
         175989
        ],
        [
         2379,
         104483
        ],
        [
         2253,
         255386
        ],
        [
         3343,
         5257
        ],
        [
         3194,
         1111
        ],
        [
         4064,
         4817
        ],
        [
         4448,
         12113
        ],
        [
         2178,
         50427
        ],
        [
         1431,
         2234
        ],
        [
         5150,
         4507
        ],
        [
         3818,
         2565
        ],
        [
         1896,
         617
        ],
        [
         4380,
         104
        ],
        [
         4779,
         73
        ],
        [
         3115,
         217735
        ],
        [
         5662,
         337831
        ],
        [
         2325,
         132973
        ],
        [
         2985,
         14119
        ],
        [
         2230,
         9791
        ],
        [
         4097,
         182
        ],
        [
         1140,
         991329
        ],
        [
         2304,
         812
        ],
        [
         2363,
         205924
        ],
        [
         3653,
         3607
        ],
        [
         2510,
         21328
        ],
        [
         3106,
         89765
        ],
        [
         4308,
         1380
        ],
        [
         2250,
         471486
        ],
        [
         5019,
         183202
        ],
        [
         1086,
         1162664
        ],
        [
         1180,
         270906
        ],
        [
         5911,
         78888
        ],
        [
         2122,
         1713
        ],
        [
         5844,
         98092
        ],
        [
         5481,
         188694
        ],
        [
         4534,
         1763
        ],
        [
         5694,
         3440
        ],
        [
         4041,
         3582
        ],
        [
         4508,
         35563
        ],
        [
         1916,
         2541
        ],
        [
         3691,
         2189
        ],
        [
         2172,
         239220
        ],
        [
         1215,
         122567
        ],
        [
         2567,
         17547
        ],
        [
         3026,
         5192
        ],
        [
         4918,
         2396
        ],
        [
         5617,
         17028
        ],
        [
         1131,
         1325
        ],
        [
         5763,
         3305
        ],
        [
         2554,
         97321
        ],
        [
         3436,
         386
        ],
        [
         4327,
         1164
        ],
        [
         2782,
         1181
        ],
        [
         1005,
         3083525
        ],
        [
         5657,
         88716
        ],
        [
         2098,
         22737
        ],
        [
         1236,
         142507
        ],
        [
         5528,
         59950
        ],
        [
         2171,
         2623
        ],
        [
         3406,
         4475
        ],
        [
         3276,
         2383
        ],
        [
         2153,
         91909
        ],
        [
         2485,
         852421
        ],
        [
         4831,
         5051
        ],
        [
         3874,
         9257
        ],
        [
         3169,
         17
        ],
        [
         2076,
         93100
        ],
        [
         5609,
         58144
        ],
        [
         2816,
         14167
        ],
        [
         3244,
         4754
        ],
        [
         1522,
         530289
        ],
        [
         1723,
         61177
        ],
        [
         2391,
         77697
        ],
        [
         2776,
         57578
        ],
        [
         5164,
         9952
        ],
        [
         3955,
         1227
        ],
        [
         4066,
         2506
        ],
        [
         1065,
         475847
        ],
        [
         5580,
         156881
        ],
        [
         4449,
         8119
        ],
        [
         2353,
         34540
        ],
        [
         4087,
         182
        ],
        [
         4321,
         4
        ],
        [
         5177,
         66
        ],
        [
         1424,
         24
        ],
        [
         5221,
         59
        ],
        [
         4409,
         394
        ],
        [
         4311,
         13
        ],
        [
         1895,
         329
        ],
        [
         3556,
         35
        ],
        [
         3359,
         1163
        ],
        [
         2573,
         1141
        ],
        [
         5146,
         203
        ],
        [
         2688,
         132
        ],
        [
         3402,
         117
        ],
        [
         3268,
         25
        ],
        [
         5497,
         54
        ],
        [
         5103,
         77
        ],
        [
         4062,
         290
        ],
        [
         2236,
         36
        ],
        [
         3744,
         156
        ],
        [
         3759,
         6
        ],
        [
         3962,
         39
        ],
        [
         4366,
         45
        ],
        [
         3290,
         103
        ],
        [
         1346,
         11
        ],
        [
         4891,
         73
        ],
        [
         4991,
         57
        ],
        [
         4253,
         27
        ],
        [
         5783,
         16
        ],
        [
         1305,
         31
        ],
        [
         5748,
         14
        ],
        [
         4297,
         1
        ],
        [
         3807,
         12
        ],
        [
         3914,
         2
        ],
        [
         4706,
         9
        ],
        [
         5791,
         2
        ],
        [
         2066,
         636558
        ],
        [
         2638,
         83459
        ],
        [
         5923,
         47184
        ],
        [
         3541,
         2823
        ],
        [
         3938,
         2071
        ],
        [
         2931,
         6380
        ],
        [
         2801,
         7600
        ],
        [
         1293,
         277422
        ],
        [
         2919,
         75
        ],
        [
         3621,
         996
        ],
        [
         4784,
         940
        ],
        [
         2860,
         6463
        ],
        [
         4681,
         2144
        ],
        [
         5761,
         3480
        ],
        [
         1052,
         773
        ],
        [
         2282,
         213784
        ],
        [
         1918,
         31792
        ],
        [
         1163,
         110347
        ],
        [
         3241,
         287
        ],
        [
         2751,
         1739
        ],
        [
         4232,
         3543
        ],
        [
         3399,
         737
        ],
        [
         2951,
         239
        ],
        [
         5495,
         22036
        ],
        [
         1901,
         73294
        ],
        [
         3035,
         7490
        ],
        [
         4517,
         1974
        ],
        [
         3211,
         4095
        ],
        [
         5958,
         1075
        ],
        [
         2652,
         90588
        ],
        [
         5194,
         166
        ],
        [
         2490,
         595728
        ],
        [
         1192,
         878851
        ],
        [
         2564,
         150263
        ],
        [
         3593,
         93
        ],
        [
         2258,
         2291
        ],
        [
         2412,
         797369
        ],
        [
         2529,
         177333
        ],
        [
         3944,
         3706
        ],
        [
         4496,
         2457
        ],
        [
         2734,
         916
        ],
        [
         2175,
         14657
        ],
        [
         1764,
         3364
        ],
        [
         5438,
         1577
        ],
        [
         3625,
         2909
        ],
        [
         3091,
         2823
        ],
        [
         4520,
         1650
        ],
        [
         1933,
         4997
        ],
        [
         3829,
         611
        ],
        [
         5463,
         96070
        ],
        [
         3217,
         1935
        ],
        [
         2224,
         323
        ],
        [
         5773,
         2540
        ],
        [
         4980,
         1803
        ],
        [
         1472,
         2985
        ],
        [
         4424,
         2452
        ],
        [
         3819,
         169
        ],
        [
         5974,
         456
        ],
        [
         1407,
         107840
        ],
        [
         2789,
         15699
        ],
        [
         2069,
         88436
        ],
        [
         5895,
         204361
        ],
        [
         3352,
         582
        ],
        [
         4290,
         1564
        ],
        [
         2210,
         153
        ],
        [
         3483,
         7266
        ],
        [
         1928,
         8478
        ],
        [
         3357,
         3747
        ],
        [
         5644,
         232815
        ],
        [
         1735,
         115063
        ],
        [
         3624,
         26185
        ],
        [
         5544,
         36189
        ],
        [
         5885,
         33712
        ],
        [
         1668,
         2037
        ],
        [
         3643,
         3275
        ],
        [
         5523,
         8275
        ],
        [
         2394,
         142884
        ],
        [
         5881,
         53298
        ],
        [
         2342,
         5323
        ],
        [
         2307,
         200
        ],
        [
         5817,
         1611
        ],
        [
         1296,
         23354
        ],
        [
         5654,
         2739
        ],
        [
         5685,
         17126
        ],
        [
         1809,
         1020
        ],
        [
         1382,
         6139
        ],
        [
         5727,
         812
        ],
        [
         4759,
         1436
        ],
        [
         3862,
         270
        ],
        [
         3152,
         554
        ],
        [
         5444,
         131
        ],
        [
         3882,
         261
        ],
        [
         4292,
         14
        ],
        [
         1573,
         1
        ],
        [
         1462,
         5
        ],
        [
         4093,
         22
        ],
        [
         3596,
         22
        ],
        [
         4350,
         59
        ],
        [
         5857,
         30
        ],
        [
         3633,
         7
        ],
        [
         5118,
         8
        ],
        [
         2842,
         14
        ],
        [
         4005,
         2
        ],
        [
         4208,
         1
        ],
        [
         4955,
         1
        ],
        [
         5626,
         290380
        ],
        [
         2326,
         43584
        ],
        [
         1492,
         3206
        ],
        [
         3855,
         4749
        ],
        [
         2906,
         42058
        ],
        [
         2252,
         447469
        ],
        [
         5856,
         106
        ],
        [
         4437,
         304
        ],
        [
         2530,
         2987875
        ],
        [
         3302,
         26057
        ],
        [
         3118,
         27020
        ],
        [
         4945,
         2235
        ],
        [
         2437,
         701
        ],
        [
         1651,
         95480
        ],
        [
         5092,
         22327
        ],
        [
         4293,
         2090
        ],
        [
         2673,
         4558
        ],
        [
         2605,
         2403
        ],
        [
         2381,
         132
        ],
        [
         2139,
         51534
        ],
        [
         1921,
         47252
        ],
        [
         3215,
         28170
        ],
        [
         3588,
         537
        ],
        [
         1217,
         147783
        ],
        [
         1385,
         1048
        ],
        [
         3555,
         1563
        ],
        [
         2182,
         55912
        ],
        [
         2910,
         3555
        ],
        [
         4466,
         1680
        ],
        [
         1132,
         234
        ],
        [
         2195,
         742
        ],
        [
         2824,
         12823
        ],
        [
         3219,
         3146
        ],
        [
         2504,
         34402
        ],
        [
         3578,
         12891
        ],
        [
         4241,
         13954
        ],
        [
         1634,
         6624
        ],
        [
         4453,
         1699
        ],
        [
         4003,
         1481
        ],
        [
         1914,
         554
        ],
        [
         2797,
         2428
        ],
        [
         1891,
         5128
        ],
        [
         2848,
         311
        ],
        [
         4838,
         607
        ],
        [
         2151,
         225831
        ],
        [
         2582,
         18401
        ],
        [
         2587,
         9759
        ],
        [
         3809,
         1462
        ],
        [
         2682,
         52641
        ],
        [
         4404,
         10088
        ],
        [
         3716,
         3103
        ],
        [
         3154,
         30964
        ],
        [
         1188,
         443347
        ],
        [
         5190,
         171
        ],
        [
         3537,
         12044
        ],
        [
         2710,
         9380
        ],
        [
         5888,
         2678
        ],
        [
         3294,
         5422
        ],
        [
         3000,
         35534
        ],
        [
         4143,
         342
        ],
        [
         1893,
         72153
        ],
        [
         5830,
         155
        ],
        [
         1769,
         1518
        ],
        [
         1205,
         2259442
        ],
        [
         2426,
         162554
        ],
        [
         5677,
         28811
        ],
        [
         1641,
         49647
        ],
        [
         3799,
         5605
        ],
        [
         5540,
         38812
        ],
        [
         3175,
         3607
        ],
        [
         3565,
         228
        ],
        [
         1860,
         1073
        ],
        [
         1925,
         17793
        ],
        [
         3721,
         110
        ],
        [
         3097,
         5421
        ],
        [
         5691,
         1174
        ],
        [
         1147,
         5196955
        ],
        [
         2509,
         34169
        ],
        [
         1932,
         5176
        ],
        [
         3471,
         620
        ],
        [
         3350,
         1975
        ],
        [
         5493,
         189
        ],
        [
         4561,
         30753
        ],
        [
         4612,
         4230
        ],
        [
         2731,
         4611
        ],
        [
         2380,
         16456
        ],
        [
         4052,
         862
        ],
        [
         1213,
         154272
        ],
        [
         5696,
         64221
        ],
        [
         4998,
         6
        ],
        [
         4474,
         215
        ],
        [
         4864,
         272
        ],
        [
         4964,
         484
        ],
        [
         5028,
         182
        ],
        [
         2720,
         397
        ],
        [
         1609,
         342
        ],
        [
         3001,
         579
        ],
        [
         4705,
         39
        ],
        [
         2414,
         369
        ],
        [
         4146,
         185
        ],
        [
         2227,
         267
        ],
        [
         1587,
         373
        ],
        [
         2784,
         107
        ],
        [
         3124,
         408
        ],
        [
         5823,
         125
        ],
        [
         1675,
         5
        ],
        [
         3921,
         21
        ],
        [
         3929,
         40
        ],
        [
         3341,
         128
        ],
        [
         1852,
         47
        ],
        [
         5167,
         24
        ],
        [
         1307,
         23
        ],
        [
         2556,
         23935
        ],
        [
         2900,
         5597
        ],
        [
         4481,
         6833
        ],
        [
         3486,
         2142
        ],
        [
         2566,
         101482
        ],
        [
         3629,
         50576
        ],
        [
         3655,
         6104
        ],
        [
         1151,
         2373
        ],
        [
         3073,
         42036
        ],
        [
         1654,
         34085
        ],
        [
         4906,
         146
        ],
        [
         2851,
         773
        ],
        [
         3166,
         525
        ],
        [
         2521,
         221441
        ],
        [
         1034,
         3151081
        ],
        [
         2199,
         1163
        ],
        [
         5077,
         51446
        ],
        [
         2101,
         53821
        ],
        [
         2943,
         6042
        ],
        [
         5611,
         8274
        ],
        [
         1674,
         1154
        ],
        [
         5909,
         123
        ],
        [
         1127,
         1399
        ],
        [
         2882,
         691
        ],
        [
         5936,
         1212
        ],
        [
         3626,
         29977
        ],
        [
         3368,
         7700
        ],
        [
         4130,
         1583
        ],
        [
         3300,
         10693
        ],
        [
         4157,
         576
        ],
        [
         3696,
         1671
        ],
        [
         5593,
         298909
        ],
        [
         2405,
         18425
        ],
        [
         5550,
         34906
        ],
        [
         3540,
         1067
        ],
        [
         4335,
         246
        ],
        [
         5558,
         1001482
        ],
        [
         1099,
         499792
        ],
        [
         2176,
         38756
        ],
        [
         4487,
         4669
        ],
        [
         5625,
         1932
        ],
        [
         1260,
         439546
        ],
        [
         5690,
         53546
        ],
        [
         3131,
         992
        ],
        [
         5015,
         3493
        ],
        [
         1093,
         9992372
        ],
        [
         5529,
         186938
        ],
        [
         3025,
         19269
        ],
        [
         3772,
         11807
        ],
        [
         4418,
         13757
        ],
        [
         3991,
         45
        ],
        [
         1636,
         2569
        ],
        [
         2515,
         91509
        ],
        [
         3159,
         736
        ],
        [
         2950,
         28846
        ],
        [
         1620,
         46448
        ],
        [
         3432,
         1127
        ],
        [
         5543,
         79756
        ],
        [
         2772,
         3234
        ],
        [
         1004,
         29760875
        ],
        [
         5504,
         32522
        ],
        [
         1911,
         10792
        ],
        [
         1635,
         74888
        ],
        [
         1915,
         7725
        ],
        [
         5556,
         275155
        ],
        [
         2083,
         3161
        ],
        [
         4072,
         5712
        ],
        [
         5679,
         50756
        ],
        [
         1050,
         556224
        ],
        [
         5519,
         104489
        ],
        [
         5716,
         108960
        ],
        [
         4622,
         1476
        ],
        [
         5163,
         520
        ],
        [
         1154,
         407962
        ],
        [
         5650,
         108035
        ],
        [
         1017,
         29030
        ],
        [
         5922,
         118146
        ],
        [
         3048,
         33617
        ],
        [
         2349,
         9078
        ],
        [
         5832,
         7007
        ],
        [
         3933,
         12625
        ],
        [
         3472,
         2416
        ],
        [
         4939,
         426
        ],
        [
         3802,
         143
        ],
        [
         2990,
         130
        ],
        [
         4172,
         4
        ],
        [
         2918,
         914
        ],
        [
         1606,
         813
        ],
        [
         2864,
         214
        ],
        [
         4414,
         840
        ],
        [
         5793,
         676
        ],
        [
         1331,
         301
        ],
        [
         4460,
         80
        ],
        [
         2449,
         99
        ],
        [
         2866,
         621
        ],
        [
         5803,
         70
        ],
        [
         4652,
         26
        ],
        [
         2067,
         33
        ],
        [
         2219,
         215
        ],
        [
         4201,
         33
        ],
        [
         2480,
         94
        ],
        [
         5111,
         63
        ],
        [
         4771,
         168
        ],
        [
         5006,
         10
        ],
        [
         3493,
         110
        ],
        [
         4274,
         11
        ],
        [
         5680,
         101
        ],
        [
         1365,
         51
        ],
        [
         4835,
         48
        ],
        [
         4304,
         17
        ],
        [
         4287,
         25
        ],
        [
         3940,
         12
        ],
        [
         2212,
         14
        ],
        [
         4362,
         6
        ],
        [
         1485,
         3
        ],
        [
         3667,
         13
        ],
        [
         4861,
         1
        ],
        [
         3051,
         1
        ],
        [
         1877,
         6353
        ],
        [
         1399,
         46480
        ],
        [
         2785,
         4181
        ],
        [
         1888,
         7297
        ],
        [
         3585,
         1282
        ],
        [
         4475,
         18875
        ],
        [
         3510,
         99
        ],
        [
         5882,
         22703
        ],
        [
         3104,
         15859
        ],
        [
         1836,
         1177
        ],
        [
         2478,
         3242
        ],
        [
         3953,
         5057
        ],
        [
         2830,
         18031
        ],
        [
         2465,
         2006
        ],
        [
         1838,
         923
        ],
        [
         1051,
         2192
        ],
        [
         1184,
         151345
        ],
        [
         3393,
         6002
        ],
        [
         4077,
         2059
        ],
        [
         3224,
         323
        ],
        [
         2795,
         1601
        ],
        [
         2220,
         30360
        ],
        [
         2472,
         7734
        ],
        [
         5632,
         28714
        ],
        [
         4459,
         9058
        ],
        [
         4492,
         8939
        ],
        [
         1491,
         2259
        ],
        [
         2201,
         1457
        ],
        [
         3637,
         1980
        ],
        [
         1060,
         136
        ],
        [
         1043,
         431559
        ],
        [
         1637,
         4830
        ],
        [
         2137,
         4729
        ],
        [
         5947,
         5113
        ],
        [
         4221,
         1213
        ],
        [
         3467,
         1063
        ],
        [
         1138,
         174755
        ],
        [
         4102,
         123618
        ],
        [
         5599,
         10479
        ],
        [
         2597,
         18119
        ],
        [
         1628,
         53586
        ],
        [
         2576,
         19624
        ],
        [
         2336,
         38353
        ],
        [
         3096,
         1144
        ],
        [
         2915,
         276
        ],
        [
         4344,
         52
        ],
        [
         4008,
         27438
        ],
        [
         3694,
         8096
        ],
        [
         2885,
         3004
        ],
        [
         5986,
         473
        ],
        [
         1400,
         322411
        ],
        [
         1934,
         27103
        ],
        [
         2916,
         1943
        ],
        [
         5458,
         127
        ],
        [
         2748,
         22084
        ],
        [
         2400,
         4356
        ],
        [
         2117,
         2666
        ],
        [
         4417,
         1064
        ],
        [
         2810,
         1627
        ],
        [
         1125,
         405
        ],
        [
         1159,
         141212
        ],
        [
         5490,
         13717
        ],
        [
         4128,
         213
        ],
        [
         3639,
         18210
        ],
        [
         5975,
         444
        ],
        [
         2986,
         3748
        ],
        [
         2998,
         15787
        ],
        [
         3006,
         11951
        ],
        [
         2075,
         433
        ],
        [
         2429,
         592507
        ],
        [
         1203,
         19507
        ],
        [
         4933,
         250
        ],
        [
         5636,
         131329
        ],
        [
         1369,
         54806
        ],
        [
         3130,
         9820
        ],
        [
         5991,
         207172
        ],
        [
         2513,
         146558
        ],
        [
         1645,
         150988
        ],
        [
         2626,
         1790
        ],
        [
         5459,
         1472
        ],
        [
         2130,
         201412
        ],
        [
         2953,
         37125
        ],
        [
         2847,
         4907
        ],
        [
         3460,
         398
        ],
        [
         1890,
         1681
        ],
        [
         1569,
         698
        ],
        [
         3600,
         977
        ],
        [
         3527,
         443
        ],
        [
         4234,
         913
        ],
        [
         2831,
         824
        ],
        [
         3800,
         635
        ],
        [
         4444,
         950
        ],
        [
         3018,
         115
        ],
        [
         2826,
         1559
        ],
        [
         2585,
         374
        ],
        [
         5967,
         566
        ],
        [
         5169,
         195
        ],
        [
         5011,
         46
        ],
        [
         2759,
         1319
        ],
        [
         3356,
         455
        ],
        [
         4000,
         340
        ],
        [
         2884,
         209
        ],
        [
         3237,
         79
        ],
        [
         5173,
         67
        ],
        [
         3506,
         1
        ],
        [
         2204,
         7
        ],
        [
         4983,
         51
        ],
        [
         3440,
         70
        ],
        [
         4134,
         48
        ],
        [
         5747,
         6
        ],
        [
         4627,
         140
        ],
        [
         3985,
         57
        ],
        [
         2257,
         5
        ],
        [
         3644,
         44
        ],
        [
         4493,
         87
        ],
        [
         1259,
         26
        ],
        [
         1308,
         9
        ],
        [
         4142,
         7
        ],
        [
         4382,
         25
        ],
        [
         3736,
         9
        ],
        [
         4206,
         3
        ],
        [
         4712,
         2
        ],
        [
         1368,
         1
        ],
        [
         5613,
         652963
        ],
        [
         2528,
         98827
        ],
        [
         3098,
         3672
        ],
        [
         3102,
         412913
        ],
        [
         1097,
         1929118
        ],
        [
         2327,
         79916
        ],
        [
         2105,
         50063
        ],
        [
         5915,
         54004
        ],
        [
         2551,
         69470
        ],
        [
         3101,
         20343
        ],
        [
         4257,
         253
        ],
        [
         3340,
         967
        ],
        [
         3664,
         2490
        ],
        [
         2420,
         7934
        ],
        [
         2769,
         1946
        ],
        [
         5476,
         99306
        ],
        [
         3704,
         6051
        ],
        [
         2354,
         17833
        ],
        [
         1309,
         176
        ],
        [
         5960,
         1057
        ],
        [
         3592,
         1244
        ],
        [
         4516,
         694
        ],
        [
         1235,
         864899
        ],
        [
         1922,
         58045
        ],
        [
         2685,
         996
        ],
        [
         1238,
         220779
        ],
        [
         1268,
         84084
        ],
        [
         2863,
         5397
        ],
        [
         4161,
         88
        ],
        [
         4155,
         734
        ],
        [
         4088,
         5954
        ],
        [
         4554,
         5406
        ],
        [
         1148,
         192573
        ],
        [
         1164,
         244856
        ],
        [
         3100,
         3090
        ],
        [
         2802,
         230
        ],
        [
         4131,
         8460
        ],
        [
         2263,
         8592
        ],
        [
         3391,
         12122
        ],
        [
         2705,
         10238
        ],
        [
         2812,
         1842
        ],
        [
         2677,
         28406
        ],
        [
         1095,
         384166
        ],
        [
         1106,
         25650
        ],
        [
         5076,
         90231
        ],
        [
         3389,
         10457
        ],
        [
         3143,
         7315
        ],
        [
         3686,
         856
        ],
        [
         2999,
         1930
        ],
        [
         3989,
         400
        ],
        [
         3079,
         42656
        ],
        [
         2243,
         4272
        ],
        [
         3705,
         48
        ],
        [
         1211,
         672440
        ],
        [
         1884,
         9991
        ],
        [
         2503,
         8426
        ],
        [
         2960,
         8375
        ],
        [
         1792,
         1374
        ],
        [
         3813,
         543
        ],
        [
         4276,
         2946
        ],
        [
         5542,
         1446
        ],
        [
         1062,
         1402191
        ],
        [
         2398,
         135562
        ],
        [
         3411,
         1296
        ],
        [
         4408,
         2240
        ],
        [
         1042,
         1409264
        ],
        [
         5676,
         21975
        ],
        [
         3015,
         8839
        ],
        [
         4648,
         33
        ],
        [
         2893,
         379721
        ],
        [
         5158,
         498
        ],
        [
         1082,
         1341
        ],
        [
         5524,
         60318
        ],
        [
         2645,
         144819
        ],
        [
         2989,
         21401
        ],
        [
         2783,
         12709
        ],
        [
         1892,
         23361
        ],
        [
         2641,
         159120
        ],
        [
         4267,
         296
        ],
        [
         2982,
         3571
        ],
        [
         4127,
         1065
        ],
        [
         2934,
         5795
        ],
        [
         3668,
         1241
        ],
        [
         5884,
         1951
        ],
        [
         4013,
         126
        ],
        [
         5682,
         211
        ],
        [
         4094,
         912
        ],
        [
         3905,
         617
        ],
        [
         2909,
         334
        ],
        [
         4532,
         229
        ],
        [
         3258,
         49
        ],
        [
         1669,
         753
        ],
        [
         5822,
         221
        ],
        [
         3943,
         276
        ],
        [
         2265,
         281
        ],
        [
         4244,
         259
        ],
        [
         1536,
         57
        ],
        [
         3986,
         271
        ],
        [
         1752,
         300
        ],
        [
         3328,
         309
        ],
        [
         3221,
         132
        ],
        [
         5953,
         239
        ],
        [
         5659,
         752
        ],
        [
         3429,
         45
        ],
        [
         5713,
         57
        ],
        [
         3776,
         32
        ],
        [
         4117,
         68
        ],
        [
         5004,
         49
        ],
        [
         3923,
         99
        ],
        [
         1287,
         29
        ],
        [
         3698,
         126
        ],
        [
         4506,
         113
        ],
        [
         1425,
         3
        ],
        [
         3822,
         6
        ],
        [
         2873,
         50
        ],
        [
         4120,
         74
        ],
        [
         5721,
         3
        ],
        [
         3867,
         52
        ],
        [
         5370,
         28
        ],
        [
         1682,
         27
        ],
        [
         2905,
         2
        ],
        [
         5827,
         2
        ],
        [
         5175,
         111
        ],
        [
         1701,
         236
        ],
        [
         1805,
         44
        ],
        [
         1240,
         247089
        ],
        [
         5920,
         169077
        ],
        [
         1152,
         148186
        ],
        [
         1414,
         27497
        ],
        [
         2714,
         157
        ],
        [
         1591,
         28608
        ],
        [
         4410,
         2355
        ],
        [
         1322,
         29036
        ],
        [
         2790,
         6842
        ],
        [
         5664,
         185
        ],
        [
         1289,
         3365665
        ],
        [
         2519,
         1062951
        ],
        [
         2912,
         38245
        ],
        [
         2541,
         89328
        ],
        [
         5635,
         1178
        ],
        [
         2315,
         313945
        ],
        [
         1009,
         30742
        ],
        [
         2796,
         1273
        ],
        [
         3584,
         63981
        ],
        [
         4477,
         2305
        ],
        [
         1878,
         30627
        ],
        [
         3253,
         107
        ],
        [
         2813,
         145
        ],
        [
         1083,
         19093
        ],
        [
         2980,
         17198
        ],
        [
         3646,
         9430
        ],
        [
         4091,
         130
        ],
        [
         5520,
         141493
        ],
        [
         1661,
         12334
        ],
        [
         3122,
         5628
        ],
        [
         5486,
         339794
        ],
        [
         4473,
         17885
        ],
        [
         2522,
         75762
        ],
        [
         3319,
         6997
        ],
        [
         4288,
         3886
        ],
        [
         4189,
         286
        ],
        [
         5492,
         27054
        ],
        [
         5596,
         424973
        ],
        [
         1436,
         1068
        ],
        [
         5557,
         217643
        ],
        [
         2794,
         6555
        ],
        [
         1316,
         12201
        ],
        [
         1881,
         1862
        ],
        [
         4457,
         901
        ],
        [
         1070,
         2921709
        ],
        [
         5637,
         343736
        ],
        [
         2079,
         37484
        ],
        [
         1146,
         147081
        ],
        [
         2646,
         50991
        ],
        [
         2924,
         1544
        ],
        [
         2451,
         867
        ],
        [
         3444,
         1235
        ],
        [
         3720,
         488
        ],
        [
         3553,
         1530
        ],
        [
         2144,
         11299
        ],
        [
         2991,
         4040
        ],
        [
         5816,
         22992
        ],
        [
         2901,
         1182
        ],
        [
         3008,
         174017
        ],
        [
         3195,
         8115
        ],
        [
         3861,
         493
        ],
        [
         2475,
         5703
        ],
        [
         5628,
         301227
        ],
        [
         1898,
         30818
        ],
        [
         1470,
         141029
        ],
        [
         3200,
         522
        ],
        [
         4484,
         5950
        ],
        [
         4269,
         8997
        ],
        [
         4472,
         741
        ],
        [
         3573,
         550
        ],
        [
         5113,
         134
        ],
        [
         2926,
         637
        ],
        [
         3223,
         873
        ],
        [
         3859,
         1091
        ],
        [
         2136,
         61183
        ],
        [
         2339,
         339
        ],
        [
         2892,
         463
        ],
        [
         5891,
         418
        ],
        [
         3794,
         576
        ],
        [
         2899,
         486
        ],
        [
         1511,
         216
        ],
        [
         2793,
         253
        ],
        [
         1791,
         29
        ],
        [
         3390,
         183
        ],
        [
         5714,
         128
        ],
        [
         3893,
         530
        ],
        [
         3082,
         415
        ],
        [
         5188,
         31
        ],
        [
         4944,
         265
        ],
        [
         3375,
         378
        ],
        [
         3147,
         250
        ],
        [
         4302,
         61
        ],
        [
         1678,
         96
        ],
        [
         4731,
         48
        ],
        [
         3887,
         102
        ],
        [
         4202,
         60
        ],
        [
         3735,
         741
        ],
        [
         3531,
         44
        ],
        [
         4278,
         107
        ],
        [
         1885,
         121
        ],
        [
         3961,
         64
        ],
        [
         3980,
         132
        ],
        [
         4262,
         38
        ],
        [
         3552,
         14
        ],
        [
         2569,
         89
        ],
        [
         4804,
         133
        ],
        [
         4777,
         85
        ],
        [
         4483,
         52
        ],
        [
         1574,
         3
        ],
        [
         2963,
         71
        ],
        [
         5139,
         65
        ],
        [
         3918,
         27
        ],
        [
         3894,
         76
        ],
        [
         3981,
         10
        ],
        [
         4217,
         32
        ],
        [
         2608,
         17
        ],
        [
         1528,
         11
        ],
        [
         4001,
         1
        ],
        [
         1643,
         4
        ],
        [
         5874,
         1
        ],
        [
         3454,
         10
        ],
        [
         3751,
         10
        ],
        [
         4642,
         4
        ],
        [
         4317,
         4
        ],
        [
         5161,
         7
        ],
        [
         3864,
         3
        ],
        [
         4154,
         1
        ],
        [
         4907,
         2
        ],
        [
         2173,
         2017748
        ],
        [
         3958,
         4871
        ],
        [
         3650,
         3090
        ],
        [
         2712,
         395
        ],
        [
         1071,
         1692294
        ],
        [
         5577,
         4254
        ],
        [
         1325,
         55671
        ],
        [
         2617,
         1696
        ],
        [
         2925,
         8239
        ],
        [
         4032,
         3149
        ],
        [
         5571,
         1331
        ],
        [
         2501,
         99472
        ],
        [
         2660,
         112548
        ],
        [
         1186,
         440992
        ],
        [
         2544,
         2594
        ],
        [
         3890,
         1293
        ],
        [
         3456,
         5868
        ],
        [
         2534,
         206679
        ],
        [
         2061,
         10589
        ],
        [
         5765,
         3871
        ],
        [
         4296,
         1706
        ],
        [
         2896,
         213
        ],
        [
         2170,
         190096
        ],
        [
         2502,
         38620
        ],
        [
         2827,
         23160
        ],
        [
         2300,
         243016
        ],
        [
         2993,
         3052
        ],
        [
         2955,
         2274
        ],
        [
         4426,
         74
        ],
        [
         4044,
         61872
        ],
        [
         5665,
         17666
        ],
        [
         3630,
         10975
        ],
        [
         3775,
         2257
        ],
        [
         1201,
         227827
        ],
        [
         1145,
         40841
        ],
        [
         3030,
         13191
        ],
        [
         1212,
         593005
        ],
        [
         3084,
         50526
        ],
        [
         2443,
         21644
        ],
        [
         1906,
         3132
        ],
        [
         3572,
         1734
        ],
        [
         1183,
         395874
        ],
        [
         1401,
         1612
        ],
        [
         3597,
         17164
        ],
        [
         1936,
         613
        ],
        [
         1174,
         458306
        ],
        [
         2359,
         37321
        ],
        [
         5502,
         464
        ],
        [
         3469,
         3070
        ],
        [
         5489,
         281839
        ],
        [
         1179,
         202950
        ],
        [
         5469,
         36504
        ],
        [
         4435,
         4055
        ],
        [
         3559,
         721
        ],
        [
         4747,
         8020
        ],
        [
         1267,
         81816
        ],
        [
         2203,
         7650
        ],
        [
         2260,
         166
        ],
        [
         3972,
         1134
        ],
        [
         3291,
         218568
        ],
        [
         2290,
         23573
        ],
        [
         3480,
         1626
        ],
        [
         4191,
         343
        ],
        [
         2189,
         1637
        ],
        [
         5949,
         724
        ],
        [
         2547,
         419669
        ],
        [
         1220,
         132378
        ],
        [
         3416,
         519
        ],
        [
         5963,
         2466
        ],
        [
         1202,
         104757
        ],
        [
         1624,
         32030
        ],
        [
         2713,
         1277
        ],
        [
         4461,
         1939
        ],
        [
         1780,
         1084
        ],
        [
         4586,
         5879
        ],
        [
         3508,
         2910
        ],
        [
         4309,
         363
        ],
        [
         5584,
         1728
        ],
        [
         4683,
         84
        ],
        [
         3191,
         331
        ],
        [
         3752,
         434
        ],
        [
         3546,
         384
        ],
        [
         2763,
         839
        ],
        [
         5279,
         255
        ],
        [
         3549,
         953
        ],
        [
         2228,
         627
        ],
        [
         5578,
         353
        ],
        [
         2815,
         264
        ],
        [
         2754,
         80
        ],
        [
         4687,
         447
        ],
        [
         2310,
         88
        ],
        [
         4123,
         207
        ],
        [
         3898,
         18
        ],
        [
         1725,
         55
        ],
        [
         5905,
         152
        ],
        [
         3849,
         77
        ],
        [
         4919,
         21
        ],
        [
         4303,
         18
        ],
        [
         4260,
         151
        ],
        [
         5022,
         4
        ],
        [
         3308,
         21
        ],
        [
         1739,
         100
        ],
        [
         3267,
         17
        ],
        [
         1282,
         14
        ],
        [
         4357,
         49
        ],
        [
         4668,
         21
        ],
        [
         1659,
         1
        ],
        [
         3870,
         13
        ],
        [
         1560,
         14
        ],
        [
         3120,
         6
        ],
        [
         3295,
         6
        ],
        [
         3979,
         8
        ],
        [
         3230,
         962
        ],
        [
         2366,
         138197
        ],
        [
         2102,
         22863
        ],
        [
         1011,
         509395
        ],
        [
         2898,
         12762
        ],
        [
         5117,
         226
        ],
        [
         2181,
         621
        ],
        [
         3181,
         481
        ],
        [
         1010,
         2365465
        ],
        [
         1229,
         87170
        ],
        [
         3477,
         324
        ],
        [
         5010,
         1347151
        ],
        [
         1023,
         3423010
        ],
        [
         1623,
         125923
        ],
        [
         4115,
         676
        ],
        [
         3170,
         529
        ],
        [
         3386,
         334
        ],
        [
         3014,
         9199
        ],
        [
         2663,
         6693
        ],
        [
         3598,
         4546
        ],
        [
         3216,
         1083
        ],
        [
         2595,
         40233
        ],
        [
         2063,
         72041
        ],
        [
         2871,
         585
        ],
        [
         4307,
         5255
        ],
        [
         3355,
         89
        ],
        [
         2861,
         956
        ],
        [
         2446,
         381877
        ],
        [
         5534,
         231711
        ],
        [
         5639,
         7454
        ],
        [
         3142,
         102
        ],
        [
         3178,
         1860
        ],
        [
         4446,
         26798
        ],
        [
         5086,
         263616
        ],
        [
         2271,
         2491
        ],
        [
         4254,
         366
        ],
        [
         3273,
         372
        ],
        [
         1943,
         38323
        ],
        [
         4095,
         8680
        ],
        [
         3271,
         15015
        ],
        [
         4482,
         1353
        ],
        [
         3542,
         2590
        ],
        [
         2725,
         58
        ],
        [
         4063,
         510
        ],
        [
         2888,
         1780
        ],
        [
         1191,
         105527
        ],
        [
         2103,
         146574
        ],
        [
         5522,
         20350
        ],
        [
         2434,
         872
        ],
        [
         1016,
         2624
        ],
        [
         5847,
         2815
        ],
        [
         5026,
         67
        ],
        [
         2920,
         615
        ],
        [
         4717,
         276
        ],
        [
         5090,
         2207751
        ],
        [
         4385,
         25512
        ],
        [
         3682,
         4452
        ],
        [
         5590,
         24064
        ],
        [
         3641,
         1113
        ],
        [
         2836,
         1515
        ],
        [
         1856,
         40675
        ],
        [
         2294,
         567315
        ],
        [
         5083,
         24118
        ],
        [
         2839,
         10788
        ],
        [
         3377,
         3574
        ],
        [
         3586,
         1048
        ],
        [
         2524,
         1648821
        ],
        [
         1166,
         8548
        ],
        [
         2743,
         4252
        ],
        [
         3536,
         4942
        ],
        [
         1379,
         61759
        ],
        [
         3407,
         4711
        ],
        [
         2911,
         19595
        ],
        [
         2059,
         74637
        ],
        [
         3673,
         12665
        ],
        [
         4663,
         284
        ],
        [
         4422,
         91436
        ],
        [
         5549,
         12681
        ],
        [
         1903,
         14728
        ],
        [
         2972,
         26252
        ],
        [
         4186,
         1366
        ],
        [
         2620,
         3071
        ],
        [
         4491,
         758
        ],
        [
         1208,
         377564
        ],
        [
         2572,
         106567
        ],
        [
         4500,
         2676
        ],
        [
         5937,
         308
        ],
        [
         2994,
         1089
        ],
        [
         5976,
         378
        ],
        [
         5186,
         109
        ],
        [
         4325,
         420
        ],
        [
         3939,
         195
        ],
        [
         2768,
         416
        ],
        [
         4118,
         2080
        ],
        [
         4329,
         180
        ],
        [
         5778,
         79
        ],
        [
         3608,
         118
        ],
        [
         3452,
         249
        ],
        [
         5795,
         112
        ],
        [
         2088,
         83
        ],
        [
         3381,
         223
        ],
        [
         2078,
         87
        ],
        [
         5032,
         74
        ],
        [
         5898,
         189
        ],
        [
         1706,
         40
        ],
        [
         4337,
         73
        ],
        [
         3730,
         99
        ],
        [
         5345,
         27
        ],
        [
         2065,
         130
        ],
        [
         4136,
         329
        ],
        [
         2358,
         40
        ],
        [
         3036,
         4
        ],
        [
         3601,
         44
        ],
        [
         5687,
         152
        ],
        [
         2615,
         17
        ],
        [
         3329,
         10
        ],
        [
         4176,
         15
        ],
        [
         5324,
         13
        ],
        [
         3415,
         18
        ],
        [
         3246,
         3
        ],
        [
         3410,
         1
        ],
        [
         1081,
         302346
        ],
        [
         2090,
         28218
        ],
        [
         2775,
         1332
        ],
        [
         2709,
         44591
        ],
        [
         1068,
         984996
        ],
        [
         1033,
         345262
        ],
        [
         1627,
         19724
        ],
        [
         1923,
         21684
        ],
        [
         5775,
         1891
        ],
        [
         2141,
         7485
        ],
        [
         2562,
         126
        ],
        [
         4494,
         1432
        ],
        [
         1030,
         383995
        ],
        [
         2708,
         3050
        ],
        [
         1416,
         6783
        ],
        [
         3884,
         99
        ],
        [
         1658,
         34147
        ],
        [
         3427,
         1765
        ],
        [
         3618,
         1863
        ],
        [
         2835,
         188
        ],
        [
         5798,
         1226
        ],
        [
         3665,
         14523
        ],
        [
         2692,
         15091
        ],
        [
         1019,
         319466
        ],
        [
         3361,
         1908
        ],
        [
         5579,
         7268
        ],
        [
         2338,
         2136
        ],
        [
         4266,
         1135
        ],
        [
         3965,
         265
        ],
        [
         1570,
         91
        ],
        [
         2474,
         2923
        ],
        [
         5944,
         6281
        ],
        [
         1504,
         3425
        ],
        [
         4121,
         1071
        ],
        [
         1939,
         798
        ],
        [
         1846,
         969
        ],
        [
         1554,
         306
        ],
        [
         3708,
         554
        ],
        [
         2431,
         600
        ],
        [
         5621,
         1916
        ],
        [
         1130,
         8421
        ],
        [
         4184,
         23235
        ],
        [
         4255,
         310
        ],
        [
         5071,
         96595
        ],
        [
         5551,
         5330
        ],
        [
         1582,
         4113
        ],
        [
         2466,
         65730
        ],
        [
         3715,
         25204
        ],
        [
         1930,
         583
        ],
        [
         3978,
         7473
        ],
        [
         3337,
         151
        ],
        [
         4979,
         235654
        ],
        [
         2378,
         336642
        ],
        [
         3405,
         2387
        ],
        [
         2937,
         1199
        ],
        [
         5115,
         536
        ],
        [
         5589,
         631
        ],
        [
         2841,
         405
        ],
        [
         2115,
         572
        ],
        [
         5894,
         134525
        ],
        [
         5594,
         5085
        ],
        [
         1053,
         1423
        ],
        [
         5108,
         3494
        ],
        [
         3922,
         3260
        ],
        [
         3450,
         1748
        ],
        [
         2428,
         3416
        ],
        [
         2818,
         11230
        ],
        [
         5668,
         12860
        ],
        [
         2395,
         5901
        ],
        [
         4069,
         63217
        ],
        [
         1821,
         83441
        ],
        [
         2856,
         2440
        ],
        [
         4036,
         23166
        ],
        [
         1231,
         62322
        ],
        [
         3117,
         3650
        ],
        [
         4392,
         1425
        ],
        [
         5346,
         91
        ],
        [
         1089,
         1080
        ],
        [
         2891,
         658
        ],
        [
         2096,
         166109
        ],
        [
         2545,
         35987
        ],
        [
         3567,
         2135
        ],
        [
         3423,
         254
        ],
        [
         3127,
         534
        ],
        [
         2491,
         128559
        ],
        [
         3564,
         29253
        ],
        [
         5084,
         198721
        ],
        [
         2584,
         47876
        ],
        [
         2489,
         39386
        ],
        [
         3401,
         1482
        ],
        [
         3255,
         1748
        ],
        [
         4411,
         3546
        ],
        [
         3174,
         1007
        ],
        [
         4212,
         712
        ],
        [
         2659,
         814
        ],
        [
         2741,
         242
        ],
        [
         2232,
         761
        ],
        [
         4958,
         270
        ],
        [
         1426,
         60
        ],
        [
         3205,
         70
        ],
        [
         5979,
         597
        ],
        [
         4566,
         1021
        ],
        [
         4694,
         41
        ],
        [
         3852,
         64
        ],
        [
         3437,
         93
        ],
        [
         4353,
         234
        ],
        [
         3896,
         207
        ],
        [
         4976,
         88
        ],
        [
         1264,
         253
        ],
        [
         5016,
         23
        ],
        [
         3413,
         79
        ],
        [
         3949,
         26
        ],
        [
         2859,
         243
        ],
        [
         4592,
         34
        ],
        [
         5119,
         9
        ],
        [
         4585,
         93
        ],
        [
         3795,
         27
        ],
        [
         5030,
         33
        ],
        [
         2084,
         17
        ],
        [
         2876,
         10
        ],
        [
         3693,
         9
        ],
        [
         1742,
         3
        ],
        [
         5741,
         2
        ],
        [
         4225,
         5
        ],
        [
         3791,
         1
        ],
        [
         5916,
         95553
        ],
        [
         2365,
         119687
        ],
        [
         4977,
         5709
        ],
        [
         1085,
         89257
        ],
        [
         2738,
         6070
        ],
        [
         2823,
         1001
        ],
        [
         4346,
         2713
        ],
        [
         4199,
         42
        ],
        [
         2874,
         1063
        ],
        [
         1204,
         85114
        ],
        [
         4089,
         3507
        ],
        [
         3145,
         4173
        ],
        [
         4057,
         41589
        ],
        [
         2651,
         13500
        ],
        [
         3712,
         1144
        ],
        [
         1044,
         1934018
        ],
        [
         4166,
         2774
        ],
        [
         3447,
         2776
        ],
        [
         5678,
         10558
        ],
        [
         5889,
         191314
        ],
        [
         4407,
         3168
        ],
        [
         5935,
         1675
        ],
        [
         3525,
         897
        ],
        [
         2967,
         4002
        ],
        [
         2448,
         1720
        ],
        [
         1865,
         38815
        ],
        [
         3909,
         387
        ],
        [
         2463,
         237
        ],
        [
         3498,
         1245
        ],
        [
         2559,
         694
        ],
        [
         1395,
         1279
        ],
        [
         3021,
         100617
        ],
        [
         1920,
         26855
        ],
        [
         2707,
         3137
        ],
        [
         1801,
         29
        ],
        [
         2346,
         1621181
        ],
        [
         5521,
         79767
        ],
        [
         3438,
         16198
        ],
        [
         1317,
         16774
        ],
        [
         4996,
         1376
        ],
        [
         1007,
         6206378
        ],
        [
         2670,
         44068
        ],
        [
         1222,
         136497
        ],
        [
         3016,
         6600
        ],
        [
         1599,
         151876
        ],
        [
         2329,
         102435
        ],
        [
         2936,
         122614
        ],
        [
         4451,
         6622
        ],
        [
         4298,
         594
        ],
        [
         2701,
         13100
        ],
        [
         2727,
         33583
        ],
        [
         2062,
         30061
        ],
        [
         5901,
         39895
        ],
        [
         5774,
         1394
        ],
        [
         1069,
         942176
        ],
        [
         5930,
         16190
        ],
        [
         2488,
         3082
        ],
        [
         5700,
         18480
        ],
        [
         2416,
         601
        ],
        [
         5667,
         981
        ],
        [
         4339,
         116
        ],
        [
         4975,
         895
        ],
        [
         2930,
         262
        ],
        [
         5999,
         918673
        ],
        [
         1157,
         175741
        ],
        [
         1694,
         3737
        ],
        [
         5539,
         53612
        ],
        [
         3915,
         3806
        ],
        [
         5482,
         3270
        ],
        [
         1834,
         4546
        ],
        [
         3153,
         1972
        ],
        [
         4376,
         476
        ],
        [
         2704,
         31645
        ],
        [
         4090,
         2842
        ],
        [
         4425,
         2331
        ],
        [
         5651,
         2847
        ],
        [
         3369,
         630
        ],
        [
         4922,
         30
        ],
        [
         4375,
         4425
        ],
        [
         3011,
         49055
        ],
        [
         2929,
         4261
        ],
        [
         1020,
         8981301
        ],
        [
         5564,
         291497
        ],
        [
         2371,
         613
        ],
        [
         5148,
         289
        ],
        [
         4294,
         447
        ],
        [
         5904,
         197
        ],
        [
         4351,
         19
        ],
        [
         3688,
         220
        ],
        [
         5097,
         254
        ],
        [
         3464,
         410
        ],
        [
         4796,
         103
        ],
        [
         3426,
         63
        ],
        [
         3044,
         155
        ],
        [
         2667,
         56
        ],
        [
         3528,
         212
        ],
        [
         2968,
         43
        ],
        [
         3376,
         50
        ],
        [
         2565,
         657
        ],
        [
         3203,
         235
        ],
        [
         1578,
         40
        ],
        [
         4923,
         42
        ],
        [
         4381,
         39
        ],
        [
         3151,
         161
        ],
        [
         4767,
         8
        ],
        [
         2977,
         230
        ],
        [
         3883,
         77
        ],
        [
         3835,
         87
        ],
        [
         4577,
         128
        ],
        [
         3119,
         106
        ],
        [
         3521,
         63
        ],
        [
         4640,
         42
        ],
        [
         5907,
         58
        ],
        [
         2272,
         48
        ],
        [
         4910,
         39
        ],
        [
         3516,
         33
        ],
        [
         3957,
         17
        ],
        [
         3070,
         14
        ],
        [
         4702,
         5
        ],
        [
         4725,
         5
        ],
        [
         4740,
         6
        ],
        [
         5023,
         1
        ],
        [
         1790,
         3
        ],
        [
         5707,
         2
        ],
        [
         5475,
         187389
        ],
        [
         1377,
         42378
        ],
        [
         5932,
         13794
        ],
        [
         3240,
         1549
        ],
        [
         5496,
         847
        ],
        [
         3858,
         1673
        ],
        [
         3421,
         201
        ],
        [
         2361,
         89761
        ],
        [
         2879,
         7004
        ],
        [
         2949,
         59235
        ],
        [
         1650,
         22032
        ],
        [
         3266,
         3264
        ],
        [
         1156,
         176752
        ],
        [
         2234,
         221824
        ],
        [
         2948,
         83653
        ],
        [
         2155,
         7571
        ],
        [
         5151,
         4587
        ],
        [
         3061,
         3094
        ],
        [
         4806,
         1385
        ],
        [
         2862,
         699
        ],
        [
         2167,
         169048
        ],
        [
         4193,
         1763
        ],
        [
         3362,
         2184
        ],
        [
         1168,
         31031
        ],
        [
         3839,
         2556
        ],
        [
         3075,
         3902
        ],
        [
         4070,
         599
        ],
        [
         2351,
         1089
        ],
        [
         2154,
         484726
        ],
        [
         1872,
         34562
        ],
        [
         1874,
         169033
        ],
        [
         1826,
         51199
        ],
        [
         1598,
         8639
        ],
        [
         1726,
         1077
        ],
        [
         2396,
         216309
        ],
        [
         5515,
         7789
        ],
        [
         5699,
         2396
        ],
        [
         2940,
         4684
        ],
        [
         2703,
         1238
        ],
        [
         4400,
         213440
        ],
        [
         1187,
         247853
        ],
        [
         2803,
         33599
        ],
        [
         1223,
         10843
        ],
        [
         1175,
         141308
        ],
        [
         1866,
         133300
        ],
        [
         1153,
         575879
        ],
        [
         3718,
         1789
        ],
        [
         3678,
         593
        ],
        [
         5535,
         38195
        ],
        [
         2498,
         4197
        ],
        [
         2877,
         600
        ],
        [
         2092,
         47480
        ],
        [
         4054,
         21741
        ],
        [
         5592,
         31661
        ],
        [
         5602,
         169422
        ],
        [
         2583,
         936602
        ],
        [
         1210,
         54183
        ],
        [
         3204,
         4601
        ],
        [
         4524,
         1142
        ],
        [
         2767,
         223
        ],
        [
         3484,
         1081
        ],
        [
         2402,
         6746
        ],
        [
         2786,
         12834
        ],
        [
         1572,
         16005
        ],
        [
         2939,
         1919
        ],
        [
         2672,
         137847
        ],
        [
         3487,
         1022
        ],
        [
         4398,
         2948
        ],
        [
         5688,
         45926
        ],
        [
         2923,
         4030
        ],
        [
         5603,
         24126
        ],
        [
         1406,
         8507
        ],
        [
         2932,
         362
        ],
        [
         2895,
         2186
        ],
        [
         5616,
         156108
        ],
        [
         4423,
         596
        ],
        [
         1660,
         17186
        ],
        [
         2983,
         1500
        ],
        [
         1617,
         6825
        ],
        [
         3349,
         170
        ],
        [
         5769,
         1196
        ],
        [
         1207,
         1303138
        ],
        [
         5946,
         109996
        ],
        [
         1380,
         34344
        ],
        [
         1716,
         8003
        ],
        [
         2447,
         867
        ],
        [
         2942,
         87
        ],
        [
         2849,
         1687
        ],
        [
         4766,
         511
        ],
        [
         4167,
         344
        ],
        [
         5008,
         1179
        ],
        [
         4724,
         128
        ],
        [
         3723,
         623
        ],
        [
         1312,
         196
        ],
        [
         3163,
         59
        ],
        [
         4026,
         269
        ],
        [
         4467,
         918
        ],
        [
         3766,
         108
        ],
        [
         4301,
         283
        ],
        [
         3604,
         333
        ],
        [
         3661,
         18
        ],
        [
         3850,
         412
        ],
        [
         5797,
         91
        ],
        [
         3703,
         3
        ],
        [
         4833,
         20
        ],
        [
         5210,
         89
        ],
        [
         1673,
         32
        ],
        [
         1855,
         224
        ],
        [
         3482,
         58
        ],
        [
         4270,
         120
        ],
        [
         3804,
         95
        ],
        [
         4756,
         5
        ],
        [
         4946,
         17
        ],
        [
         1351,
         19
        ],
        [
         4794,
         26
        ],
        [
         1773,
         15
        ],
        [
         1279,
         12
        ],
        [
         5868,
         3
        ],
        [
         4331,
         14
        ],
        [
         3228,
         3
        ],
        [
         4205,
         16
        ],
        [
         3916,
         21
        ],
        [
         3897,
         32
        ],
        [
         5990,
         13
        ],
        [
         4701,
         12
        ],
        [
         4323,
         11
        ],
        [
         4901,
         5
        ],
        [
         3971,
         9
        ],
        [
         1306,
         10
        ],
        [
         1845,
         121841
        ],
        [
         5582,
         47785
        ],
        [
         3577,
         1472
        ],
        [
         1611,
         31000
        ],
        [
         5460,
         61063
        ],
        [
         2798,
         522
        ],
        [
         1141,
         6420566
        ],
        [
         1226,
         167354
        ],
        [
         3286,
         14791
        ],
        [
         1046,
         11413
        ],
        [
         3183,
         1213
        ],
        [
         4458,
         184
        ],
        [
         2599,
         1781
        ],
        [
         4391,
         149569
        ],
        [
         3133,
         954
        ],
        [
         4065,
         7829
        ],
        [
         3534,
         546
        ],
        [
         2505,
         131813
        ],
        [
         1420,
         414289
        ],
        [
         2904,
         174136
        ],
        [
         4651,
         943
        ],
        [
         4504,
         289
        ],
        [
         3837,
         3167
        ],
        [
         2897,
         3785
        ],
        [
         3502,
         7890
        ],
        [
         3364,
         2229
        ],
        [
         5846,
         1723
        ],
        [
         2809,
         183
        ],
        [
         5096,
         617051
        ],
        [
         2690,
         7513
        ],
        [
         5082,
         2001673
        ],
        [
         2997,
         3507
        ],
        [
         2640,
         104309
        ],
        [
         3284,
         3308
        ],
        [
         5575,
         20329
        ],
        [
         2571,
         3880
        ],
        [
         2492,
         107643
        ],
        [
         3093,
         5319
        ],
        [
         4209,
         774
        ],
        [
         5686,
         85047
        ],
        [
         1321,
         26030
        ],
        [
         1003,
         14313097
        ],
        [
         3172,
         42405
        ],
        [
         1468,
         61294
        ],
        [
         4476,
         6021
        ],
        [
         2341,
         915
        ],
        [
         1875,
         473
        ],
        [
         5808,
         799
        ],
        [
         3513,
         2124
        ],
        [
         3123,
         11913
        ],
        [
         5080,
         273548
        ],
        [
         3080,
         103628
        ],
        [
         2323,
         68167
        ],
        [
         2543,
         30281
        ],
        [
         2598,
         9880
        ],
        [
         5525,
         338
        ],
        [
         1398,
         1251
        ],
        [
         1049,
         263956
        ],
        [
         5899,
         24777
        ],
        [
         5655,
         10192
        ],
        [
         3449,
         2664
        ],
        [
         2834,
         17113
        ],
        [
         2822,
         7686
        ],
        [
         2746,
         13864
        ],
        [
         2791,
         704
        ],
        [
         2444,
         1079
        ],
        [
         1113,
         98825
        ],
        [
         1907,
         378
        ],
        [
         4905,
         699
        ],
        [
         2347,
         1836
        ],
        [
         1751,
         553
        ],
        [
         2152,
         1107243
        ],
        [
         2526,
         235593
        ],
        [
         4029,
         43536
        ],
        [
         2890,
         4859
        ],
        [
         4030,
         82113
        ],
        [
         5620,
         3254
        ],
        [
         5500,
         53705
        ],
        [
         3928,
         10024
        ],
        [
         1031,
         97119
        ],
        [
         3589,
         15218
        ],
        [
         3786,
         1942
        ],
        [
         4909,
         404
        ],
        [
         3094,
         1441
        ],
        [
         2335,
         347
        ],
        [
         2299,
         1310
        ],
        [
         5007,
         145
        ],
        [
         4126,
         278
        ],
        [
         4105,
         1100
        ],
        [
         3779,
         106
        ],
        [
         3669,
         447
        ],
        [
         3892,
         553
        ],
        [
         3332,
         77
        ],
        [
         2675,
         85
        ],
        [
         5879,
         170
        ],
        [
         4988,
         312
        ],
        [
         3773,
         66
        ],
        [
         3086,
         180
        ],
        [
         5548,
         607
        ],
        [
         5135,
         173
        ],
        [
         5142,
         204
        ],
        [
         3815,
         152
        ],
        [
         2887,
         390
        ],
        [
         5456,
         100
        ],
        [
         1781,
         320
        ],
        [
         3503,
         236
        ],
        [
         4356,
         211
        ],
        [
         1288,
         42
        ],
        [
         5447,
         100
        ],
        [
         3680,
         136
        ],
        [
         4722,
         42
        ],
        [
         1386,
         95
        ],
        [
         4735,
         34
        ],
        [
         3417,
         54
        ],
        [
         4312,
         92
        ],
        [
         5709,
         83
        ],
        [
         5130,
         44
        ],
        [
         4162,
         36
        ],
        [
         1575,
         11
        ],
        [
         3785,
         3
        ],
        [
         4198,
         10
        ],
        [
         3684,
         4
        ],
        [
         2311,
         10
        ],
        [
         4291,
         1
        ],
        [
         4319,
         1
        ],
        [
         2138,
         477109
        ],
        [
         2649,
         25915
        ],
        [
         4169,
         13178
        ],
        [
         3256,
         10462
        ],
        [
         2880,
         8857
        ],
        [
         2370,
         67838
        ],
        [
         4322,
         4221
        ],
        [
         1704,
         4222
        ],
        [
         5683,
         670
        ],
        [
         1185,
         258211
        ],
        [
         5608,
         196500
        ],
        [
         3087,
         7426
        ],
        [
         4285,
         499
        ],
        [
         3206,
         183
        ],
        [
         2678,
         11255
        ],
        [
         3826,
         150
        ],
        [
         2249,
         376
        ],
        [
         4817,
         225
        ],
        [
         3003,
         90502
        ],
        [
         2869,
         1411
        ],
        [
         4039,
         740
        ],
        [
         3937,
         982
        ],
        [
         4148,
         2888
        ],
        [
         4464,
         1666
        ],
        [
         3648,
         2126
        ],
        [
         2163,
         437130
        ],
        [
         2935,
         25778
        ],
        [
         4480,
         14763
        ],
        [
         1861,
         337
        ],
        [
         2792,
         608
        ],
        [
         5554,
         83591
        ],
        [
         1037,
         72805
        ],
        [
         2527,
         10805
        ],
        [
         1290,
         3012903
        ],
        [
         2560,
         23318
        ],
        [
         1633,
         1866
        ],
        [
         4511,
         7859
        ],
        [
         4421,
         768
        ],
        [
         1594,
         58
        ],
        [
         4436,
         83667
        ],
        [
         5478,
         122282
        ],
        [
         3566,
         2994
        ],
        [
         3134,
         4599
        ],
        [
         5093,
         16266
        ],
        [
         2921,
         3661
        ],
        [
         2821,
         1169
        ],
        [
         3860,
         309
        ],
        [
         5610,
         40043
        ],
        [
         1021,
         2727601
        ],
        [
         4618,
         45617
        ],
        [
         2721,
         779
        ],
        [
         2134,
         6643
        ],
        [
         2600,
         2116
        ],
        [
         1232,
         5349
        ],
        [
         1172,
         136988
        ],
        [
         5648,
         27685
        ],
        [
         5072,
         276337
        ],
        [
         2927,
         20991
        ],
        [
         2143,
         94354
        ],
        [
         2177,
         3535
        ],
        [
         2374,
         3997
        ],
        [
         2650,
         11961
        ],
        [
         3674,
         38654
        ],
        [
         5627,
         46807
        ],
        [
         1326,
         1299465
        ],
        [
         2722,
         27811
        ],
        [
         1899,
         29432
        ],
        [
         2126,
         110398
        ],
        [
         2586,
         58918
        ],
        [
         2074,
         40518
        ],
        [
         3964,
         3772
        ],
        [
         4990,
         3031
        ],
        [
         3987,
         1299
        ],
        [
         2575,
         7060
        ],
        [
         4020,
         6869
        ],
        [
         4112,
         347
        ],
        [
         3761,
         924
        ],
        [
         2369,
         172926
        ],
        [
         4601,
         9261
        ],
        [
         5081,
         617875
        ],
        [
         3568,
         1911
        ],
        [
         1337,
         10301
        ],
        [
         1165,
         30492
        ],
        [
         1605,
         16103
        ],
        [
         1404,
         9862
        ],
        [
         2854,
         731
        ],
        [
         4168,
         64
        ],
        [
         4394,
         682
        ],
        [
         1225,
         109
        ],
        [
         3177,
         888
        ],
        [
         5013,
         270
        ],
        [
         2881,
         78
        ],
        [
         2207,
         171
        ],
        [
         4113,
         575
        ],
        [
         3912,
         228
        ],
        [
         3171,
         740
        ],
        [
         2973,
         213
        ],
        [
         5462,
         494
        ],
        [
         3998,
         156
        ],
        [
         3717,
         35
        ],
        [
         5828,
         121
        ],
        [
         2632,
         167
        ],
        [
         5166,
         191
        ],
        [
         2857,
         120
        ],
        [
         5003,
         32
        ],
        [
         4328,
         304
        ],
        [
         3687,
         4
        ],
        [
         4808,
         69
        ],
        [
         5820,
         38
        ],
        [
         5980,
         17
        ],
        [
         3976,
         37
        ],
        [
         3724,
         10
        ],
        [
         4956,
         15
        ],
        [
         5836,
         8
        ],
        [
         1284,
         22
        ],
        [
         1680,
         4
        ],
        [
         3478,
         7
        ],
        [
         3032,
         9825
        ],
        [
         2320,
         50125
        ],
        [
         1648,
         129093
        ],
        [
         1759,
         14245
        ],
        [
         5518,
         175689
        ],
        [
         5910,
         34
        ],
        [
         4046,
         5312
        ],
        [
         2954,
         123
        ],
        [
         2364,
         154428
        ],
        [
         4343,
         205
        ],
        [
         2732,
         9521
        ],
        [
         1905,
         930
        ],
        [
         2385,
         16534
        ],
        [
         5573,
         74168
        ],
        [
         2459,
         8275
        ],
        [
         4396,
         5442
        ],
        [
         3466,
         702
        ],
        [
         2883,
         82
        ],
        [
         3505,
         2069
        ],
        [
         1756,
         5572
        ],
        [
         3581,
         1050
        ],
        [
         2131,
         1236
        ],
        [
         4226,
         864
        ],
        [
         5598,
         341630
        ],
        [
         2532,
         50829
        ],
        [
         5562,
         25112
        ],
        [
         4825,
         15926
        ],
        [
         3185,
         11233
        ],
        [
         4100,
         470
        ],
        [
         2124,
         16521
        ],
        [
         4416,
         2990
        ],
        [
         3344,
         394
        ],
        [
         5961,
         484
        ],
        [
         4084,
         6467
        ],
        [
         3645,
         114
        ],
        [
         5152,
         124
        ],
        [
         5100,
         370
        ],
        [
         1422,
         96220
        ],
        [
         2506,
         1731257
        ],
        [
         1483,
         43185
        ],
        [
         1831,
         28087
        ],
        [
         5517,
         46243
        ],
        [
         4807,
         2205
        ],
        [
         5541,
         19860
        ],
        [
         2958,
         6142
        ],
        [
         3252,
         4630
        ],
        [
         4243,
         296
        ],
        [
         1938,
         6995
        ],
        [
         4502,
         7401
        ],
        [
         3519,
         1689
        ],
        [
         1230,
         36044
        ],
        [
         1469,
         14531
        ],
        [
         2653,
         74059
        ],
        [
         4348,
         5245
        ],
        [
         3529,
         1981
        ],
        [
         2702,
         27904
        ],
        [
         3654,
         7011
        ],
        [
         2755,
         5985
        ],
        [
         1629,
         4110
        ],
        [
         4215,
         1260
        ],
        [
         2409,
         335746
        ],
        [
         1490,
         6538
        ],
        [
         2907,
         66848
        ],
        [
         1912,
         51092
        ],
        [
         2838,
         3885
        ],
        [
         4522,
         3480
        ],
        [
         4125,
         1493
        ],
        [
         3880,
         249
        ],
        [
         5078,
         73387
        ],
        [
         1008,
         53475
        ],
        [
         3638,
         5771
        ],
        [
         5124,
         4916
        ],
        [
         1479,
         2758
        ],
        [
         5890,
         107441
        ],
        [
         5942,
         122576
        ],
        [
         3977,
         1229
        ],
        [
         5957,
         1275
        ],
        [
         2536,
         363308
        ],
        [
         5641,
         38586
        ],
        [
         2959,
         4749
        ],
        [
         3675,
         3606
        ],
        [
         1403,
         44081
        ],
        [
         5766,
         2051
        ],
        [
         4600,
         2141
        ],
        [
         2452,
         943
        ],
        [
         1873,
         13891
        ],
        [
         4177,
         3225
        ],
        [
         2697,
         5746
        ],
        [
         1523,
         7732
        ],
        [
         3474,
         1409
        ],
        [
         1510,
         56979
        ],
        [
         3103,
         57340
        ],
        [
         4015,
         32989
        ],
        [
         3425,
         256
        ],
        [
         2833,
         2982
        ],
        [
         3071,
         3472
        ],
        [
         4884,
         512
        ],
        [
         1227,
         31354
        ],
        [
         1693,
         83
        ],
        [
         5671,
         147857
        ],
        [
         4959,
         877
        ],
        [
         4790,
         2045
        ],
        [
         3603,
         339
        ],
        [
         2684,
         126011
        ],
        [
         2596,
         51461
        ],
        [
         1602,
         9138
        ],
        [
         1908,
         7904
        ],
        [
         1057,
         92443
        ],
        [
         1732,
         103112
        ],
        [
         3634,
         5611
        ],
        [
         2404,
         22814
        ],
        [
         3575,
         1096
        ],
        [
         1149,
         419126
        ],
        [
         2350,
         12439
        ],
        [
         2180,
         15629
        ],
        [
         5956,
         2098
        ],
        [
         3748,
         564
        ],
        [
         1041,
         3113834
        ],
        [
         4110,
         23835
        ],
        [
         1601,
         60383
        ],
        [
         3220,
         2236
        ],
        [
         4261,
         976
        ],
        [
         1409,
         818481
        ],
        [
         5622,
         65308
        ],
        [
         3226,
         1271
        ],
        [
         3129,
         1065
        ],
        [
         5834,
         1693
        ],
        [
         2765,
         580
        ],
        [
         1324,
         20115
        ],
        [
         2825,
         3986
        ],
        [
         3711,
         35504
        ],
        [
         5017,
         16127
        ],
        [
         1632,
         727
        ],
        [
         2603,
         26195
        ],
        [
         2971,
         34177
        ],
        [
         2938,
         2837
        ],
        [
         1319,
         3501
        ],
        [
         2956,
         107
        ],
        [
         2535,
         57092
        ],
        [
         2331,
         239021
        ],
        [
         4501,
         2129
        ],
        [
         3562,
         66
        ],
        [
         2309,
         137833
        ],
        [
         2736,
         24951
        ],
        [
         1824,
         57300
        ],
        [
         4149,
         309
        ],
        [
         4141,
         175
        ],
        [
         3299,
         608
        ],
        [
         2975,
         998
        ],
        [
         1439,
         1830
        ],
        [
         2764,
         985
        ],
        [
         2817,
         575
        ],
        [
         5951,
         229
        ],
        [
         3500,
         304
        ],
        [
         2071,
         632
        ],
        [
         4133,
         76
        ],
        [
         4989,
         167
        ],
        [
         3844,
         967
        ],
        [
         5085,
         242
        ],
        [
         3520,
         19
        ],
        [
         5854,
         103
        ],
        [
         3901,
         246
        ],
        [
         3828,
         75
        ],
        [
         5153,
         369
        ],
        [
         4028,
         433
        ],
        [
         1767,
         9
        ],
        [
         2145,
         234
        ],
        [
         4715,
         569
        ],
        [
         3739,
         49
        ],
        [
         1478,
         91
        ],
        [
         5171,
         73
        ],
        [
         1257,
         155
        ],
        [
         4017,
         134
        ],
        [
         2332,
         203
        ],
        [
         3642,
         16
        ],
        [
         5184,
         41
        ],
        [
         2947,
         158
        ],
        [
         1741,
         129
        ],
        [
         3745,
         66
        ],
        [
         1281,
         49
        ],
        [
         2867,
         83
        ],
        [
         1576,
         560
        ],
        [
         4992,
         220
        ],
        [
         4371,
         14
        ],
        [
         1913,
         431
        ],
        [
         4332,
         144
        ],
        [
         3663,
         311
        ],
        [
         3868,
         107
        ],
        [
         2624,
         54
        ],
        [
         2855,
         175
        ],
        [
         3777,
         68
        ],
        [
         3150,
         21
        ],
        [
         4219,
         71
        ],
        [
         1703,
         12
        ],
        [
         4314,
         44
        ],
        [
         4926,
         77
        ],
        [
         3479,
         2
        ],
        [
         4160,
         155
        ],
        [
         1577,
         24
        ],
        [
         1796,
         21
        ],
        [
         3148,
         13
        ],
        [
         2222,
         45
        ],
        [
         3677,
         32
        ],
        [
         4676,
         17
        ],
        [
         1765,
         39
        ],
        [
         4682,
         51
        ],
        [
         1495,
         7
        ],
        [
         3764,
         122
        ],
        [
         4787,
         8
        ],
        [
         2756,
         36
        ],
        [
         2469,
         24
        ],
        [
         4333,
         27
        ],
        [
         4755,
         10
        ],
        [
         3787,
         19
        ],
        [
         1718,
         2
        ],
        [
         1727,
         5
        ],
        [
         3834,
         2
        ],
        [
         5005,
         2
        ],
        [
         5833,
         8
        ],
        [
         4058,
         2
        ],
        [
         3993,
         1
        ],
        [
         4931,
         2
        ],
        [
         3161,
         2
        ],
        [
         1285,
         1
        ],
        [
         4352,
         1
        ]
       ],
       "datasetInfos": [],
       "dbfsResultPath": null,
       "isJsonSchema": true,
       "metadata": {},
       "overflow": false,
       "plotOptions": {
        "customPlotOptions": {},
        "displayType": "table",
        "pivotAggregation": null,
        "pivotColumns": null,
        "xColumns": null,
        "yColumns": null
       },
       "removedWidgets": [],
       "schema": [
        {
         "metadata": "{}",
         "name": "sscat_id",
         "type": "\"integer\""
        },
        {
         "metadata": "{}",
         "name": "count(1)",
         "type": "\"long\""
        }
       ],
       "type": "table"
      }
     },
     "output_type": "display_data"
    }
   ],
   "source": [
    "from pyspark.sql.functions import col, count, lit, max as spark_max\n",
    "from datetime import timedelta\n",
    "\n",
    "\n",
    "def get_sscat_futures_udf(row):\n",
    "    end_time = row[-1]['event_time']\n",
    "    start_time = end_time - timedelta(days=14)\n",
    "    positive_seq = [event['sscat_id'] for event in row if event['event_time'] >= start_time]\n",
    "    # positive_sscat_set = set(positive_seq)\n",
    "    return positive_seq\n",
    "\n",
    "get_sscat_futures = udf(get_sscat_futures_udf, ArrayType(IntegerType()))\n",
    "\n",
    "sscat_futures = data.withColumn(\"future_sscats\", get_sscat_futures(col(\"interaction_list\")))\n",
    "\n",
    "sscat_futures = sscat_futures.selectExpr(\"explode(future_sscats) as sscat_id\").groupBy(\"sscat_id\").agg(count(lit(1)))\n",
    "\n",
    "sscat_futures.display()"
   ]
  },
  {
   "cell_type": "code",
   "execution_count": 0,
   "metadata": {
    "application/vnd.databricks.v1+cell": {
     "cellMetadata": {
      "byteLimit": 2048000,
      "rowLimit": 10000
     },
     "inputWidgets": {},
     "nuid": "112405bf-e04d-4877-9f9d-dc546a93b621",
     "showTitle": false,
     "tableResultSettingsMap": {},
     "title": ""
    }
   },
   "outputs": [
    {
     "output_type": "execute_result",
     "data": {
      "text/plain": [
       "[0.25,\n",
       " 0.47058823704719543,\n",
       " 0.5,\n",
       " 0.6666666865348816,\n",
       " 0.7142857313156128,\n",
       " 0.800000011920929,\n",
       " 1.0,\n",
       " 1.0,\n",
       " 1.0,\n",
       " 1.0]"
      ]
     },
     "execution_count": 186,
     "metadata": {},
     "output_type": "execute_result"
    }
   ],
   "source": [
    "from pyspark.sql.functions import col, udf, expr\n",
    "from pyspark.sql.types import FloatType\n",
    "from datetime import timedelta\n",
    "\n",
    "def get_overlap_scat_udf(row):\n",
    "    end_time = row[-1]['event_time']\n",
    "    start_time = end_time - timedelta(days=14)\n",
    "    input_seq = [event['scat_id'] for event in row if event['event_time'] < start_time]\n",
    "    positive_seq = [event['scat_id'] for event in row if event['event_time'] >= start_time]\n",
    "    # display(input_seq, positive_seq)\n",
    "    input_scat_set = set(input_seq)\n",
    "    positive_scat_set = set(positive_seq)\n",
    "    overlap_scat = input_scat_set.intersection(positive_scat_set)\n",
    "    overlap_ratio = len(overlap_scat) / len(positive_scat_set) if positive_seq else 0\n",
    "    return overlap_ratio\n",
    "\n",
    "get_overlap_scat = udf(get_overlap_scat_udf, FloatType())\n",
    "\n",
    "sdf_with_overlap = data.withColumn(\"overlap_ratio\", get_overlap_scat(col(\"interaction_list\")))\n",
    "# sdf_with_overlap.display()\n",
    "\n",
    "percentiles = sdf_with_overlap.approxQuantile(\"overlap_ratio\", [0.1, 0.2, 0.3, 0.4, 0.5, 0.6, 0.7, 0.8, 0.9, 1.0], 0.01)\n",
    "percentiles"
   ]
  },
  {
   "cell_type": "code",
   "execution_count": 0,
   "metadata": {
    "application/vnd.databricks.v1+cell": {
     "cellMetadata": {},
     "inputWidgets": {},
     "nuid": "dabafebf-e771-4c7f-84a7-118e90810246",
     "showTitle": false,
     "tableResultSettingsMap": {},
     "title": ""
    }
   },
   "outputs": [],
   "source": []
  },
  {
   "cell_type": "markdown",
   "metadata": {
    "application/vnd.databricks.v1+cell": {
     "cellMetadata": {},
     "inputWidgets": {},
     "nuid": "acb298a8-73a4-4ca3-b8d5-34c1f470e757",
     "showTitle": false,
     "tableResultSettingsMap": {},
     "title": ""
    }
   },
   "source": [
    "# Insights\n",
    "- positive sscat seq length - 5\n",
    "- input seq length med - 190\n",
    "- median sscat overlap - 0.5\n",
    "- top 5 sscats - 30% of positive\n",
    "- overlap of input and future ~ 71%\n"
   ]
  },
  {
   "cell_type": "markdown",
   "metadata": {
    "application/vnd.databricks.v1+cell": {
     "cellMetadata": {
      "byteLimit": 2048000,
      "rowLimit": 10000
     },
     "inputWidgets": {},
     "nuid": "e2b587c7-d7ee-43a9-80b0-a977f5332996",
     "showTitle": false,
     "tableResultSettingsMap": {},
     "title": ""
    }
   },
   "source": [
    "# Extra"
   ]
  },
  {
   "cell_type": "code",
   "execution_count": 0,
   "metadata": {
    "application/vnd.databricks.v1+cell": {
     "cellMetadata": {
      "byteLimit": 2048000,
      "rowLimit": 10000
     },
     "inputWidgets": {},
     "nuid": "615d4fc6-9666-47e1-ab9f-a29cf3ee4b49",
     "showTitle": false,
     "tableResultSettingsMap": {},
     "title": ""
    }
   },
   "outputs": [
    {
     "output_type": "display_data",
     "data": {
      "text/plain": [
       "com.databricks.backend.common.rpc.CommandSkippedException\n",
       "\tat com.databricks.spark.chauffeur.SequenceExecutionState.$anonfun$cancel$3(SequenceExecutionState.scala:138)\n",
       "\tat com.databricks.spark.chauffeur.SequenceExecutionState.$anonfun$cancel$3$adapted(SequenceExecutionState.scala:133)\n",
       "\tat scala.collection.immutable.Range.foreach(Range.scala:158)\n",
       "\tat com.databricks.spark.chauffeur.SequenceExecutionState.cancel(SequenceExecutionState.scala:133)\n",
       "\tat com.databricks.spark.chauffeur.ExecContextState.cancelRunningSequence(ExecContextState.scala:730)\n",
       "\tat com.databricks.spark.chauffeur.ExecContextState.$anonfun$cancel$1(ExecContextState.scala:448)\n",
       "\tat scala.Option.getOrElse(Option.scala:189)\n",
       "\tat com.databricks.spark.chauffeur.ExecContextState.cancel(ExecContextState.scala:448)\n",
       "\tat com.databricks.spark.chauffeur.ChauffeurState.cancelExecution(ChauffeurState.scala:1315)\n",
       "\tat com.databricks.spark.chauffeur.ChauffeurState.$anonfun$process$1(ChauffeurState.scala:1032)\n",
       "\tat com.databricks.logging.UsageLogging.$anonfun$recordOperation$1(UsageLogging.scala:573)\n",
       "\tat com.databricks.logging.UsageLogging.executeThunkAndCaptureResultTags$1(UsageLogging.scala:669)\n",
       "\tat com.databricks.logging.UsageLogging.$anonfun$recordOperationWithResultTags$4(UsageLogging.scala:687)\n",
       "\tat com.databricks.logging.UsageLogging.$anonfun$withAttributionContext$1(UsageLogging.scala:426)\n",
       "\tat scala.util.DynamicVariable.withValue(DynamicVariable.scala:62)\n",
       "\tat com.databricks.logging.AttributionContext$.withValue(AttributionContext.scala:216)\n",
       "\tat com.databricks.logging.UsageLogging.withAttributionContext(UsageLogging.scala:424)\n",
       "\tat com.databricks.logging.UsageLogging.withAttributionContext$(UsageLogging.scala:418)\n",
       "\tat com.databricks.spark.chauffeur.ChauffeurState.withAttributionContext(ChauffeurState.scala:74)\n",
       "\tat com.databricks.logging.UsageLogging.withAttributionTags(UsageLogging.scala:472)\n",
       "\tat com.databricks.logging.UsageLogging.withAttributionTags$(UsageLogging.scala:455)\n",
       "\tat com.databricks.spark.chauffeur.ChauffeurState.withAttributionTags(ChauffeurState.scala:74)\n",
       "\tat com.databricks.logging.UsageLogging.recordOperationWithResultTags(UsageLogging.scala:664)\n",
       "\tat com.databricks.logging.UsageLogging.recordOperationWithResultTags$(UsageLogging.scala:582)\n",
       "\tat com.databricks.spark.chauffeur.ChauffeurState.recordOperationWithResultTags(ChauffeurState.scala:74)\n",
       "\tat com.databricks.logging.UsageLogging.recordOperation(UsageLogging.scala:573)\n",
       "\tat com.databricks.logging.UsageLogging.recordOperation$(UsageLogging.scala:542)\n",
       "\tat com.databricks.spark.chauffeur.ChauffeurState.recordOperation(ChauffeurState.scala:74)\n",
       "\tat com.databricks.spark.chauffeur.ChauffeurState.process(ChauffeurState.scala:993)\n",
       "\tat com.databricks.spark.chauffeur.Chauffeur$$anon$1$$anonfun$receive$1.handleDriverRequest$1(Chauffeur.scala:815)\n",
       "\tat com.databricks.spark.chauffeur.Chauffeur$$anon$1$$anonfun$receive$1.$anonfun$applyOrElse$5(Chauffeur.scala:841)\n",
       "\tat com.databricks.logging.UsageLogging.executeThunkAndCaptureResultTags$1(UsageLogging.scala:669)\n",
       "\tat com.databricks.logging.UsageLogging.$anonfun$recordOperationWithResultTags$4(UsageLogging.scala:687)\n",
       "\tat com.databricks.logging.UsageLogging.$anonfun$withAttributionContext$1(UsageLogging.scala:426)\n",
       "\tat scala.util.DynamicVariable.withValue(DynamicVariable.scala:62)\n",
       "\tat com.databricks.logging.AttributionContext$.withValue(AttributionContext.scala:216)\n",
       "\tat com.databricks.logging.UsageLogging.withAttributionContext(UsageLogging.scala:424)\n",
       "\tat com.databricks.logging.UsageLogging.withAttributionContext$(UsageLogging.scala:418)\n",
       "\tat com.databricks.rpc.ServerBackend.withAttributionContext(ServerBackend.scala:22)\n",
       "\tat com.databricks.logging.UsageLogging.withAttributionTags(UsageLogging.scala:472)\n",
       "\tat com.databricks.logging.UsageLogging.withAttributionTags$(UsageLogging.scala:455)\n",
       "\tat com.databricks.rpc.ServerBackend.withAttributionTags(ServerBackend.scala:22)\n",
       "\tat com.databricks.logging.UsageLogging.recordOperationWithResultTags(UsageLogging.scala:664)\n",
       "\tat com.databricks.logging.UsageLogging.recordOperationWithResultTags$(UsageLogging.scala:582)\n",
       "\tat com.databricks.rpc.ServerBackend.recordOperationWithResultTags(ServerBackend.scala:22)\n",
       "\tat com.databricks.spark.chauffeur.Chauffeur$$anon$1$$anonfun$receive$1.handleDriverRequestWithUsageLogging$1(Chauffeur.scala:840)\n",
       "\tat com.databricks.spark.chauffeur.Chauffeur$$anon$1$$anonfun$receive$1.applyOrElse(Chauffeur.scala:895)\n",
       "\tat com.databricks.spark.chauffeur.Chauffeur$$anon$1$$anonfun$receive$1.applyOrElse(Chauffeur.scala:688)\n",
       "\tat com.databricks.rpc.ServerBackend.$anonfun$internalReceive0$2(ServerBackend.scala:174)\n",
       "\tat com.databricks.rpc.ServerBackend$$anonfun$commonReceive$1.applyOrElse(ServerBackend.scala:200)\n",
       "\tat com.databricks.rpc.ServerBackend$$anonfun$commonReceive$1.applyOrElse(ServerBackend.scala:200)\n",
       "\tat com.databricks.rpc.ServerBackend.internalReceive0(ServerBackend.scala:171)\n",
       "\tat com.databricks.rpc.ServerBackend.$anonfun$internalReceive$1(ServerBackend.scala:147)\n",
       "\tat com.databricks.logging.UsageLogging.$anonfun$recordOperation$1(UsageLogging.scala:573)\n",
       "\tat com.databricks.logging.UsageLogging.executeThunkAndCaptureResultTags$1(UsageLogging.scala:669)\n",
       "\tat com.databricks.logging.UsageLogging.$anonfun$recordOperationWithResultTags$4(UsageLogging.scala:687)\n",
       "\tat com.databricks.logging.UsageLogging.$anonfun$withAttributionContext$1(UsageLogging.scala:426)\n",
       "\tat scala.util.DynamicVariable.withValue(DynamicVariable.scala:62)\n",
       "\tat com.databricks.logging.AttributionContext$.withValue(AttributionContext.scala:216)\n",
       "\tat com.databricks.logging.UsageLogging.withAttributionContext(UsageLogging.scala:424)\n",
       "\tat com.databricks.logging.UsageLogging.withAttributionContext$(UsageLogging.scala:418)\n",
       "\tat com.databricks.rpc.ServerBackend.withAttributionContext(ServerBackend.scala:22)\n",
       "\tat com.databricks.logging.UsageLogging.withAttributionTags(UsageLogging.scala:472)\n",
       "\tat com.databricks.logging.UsageLogging.withAttributionTags$(UsageLogging.scala:455)\n",
       "\tat com.databricks.rpc.ServerBackend.withAttributionTags(ServerBackend.scala:22)\n",
       "\tat com.databricks.logging.UsageLogging.recordOperationWithResultTags(UsageLogging.scala:664)\n",
       "\tat com.databricks.logging.UsageLogging.recordOperationWithResultTags$(UsageLogging.scala:582)\n",
       "\tat com.databricks.rpc.ServerBackend.recordOperationWithResultTags(ServerBackend.scala:22)\n",
       "\tat com.databricks.logging.UsageLogging.recordOperation(UsageLogging.scala:573)\n",
       "\tat com.databricks.logging.UsageLogging.recordOperation$(UsageLogging.scala:542)\n",
       "\tat com.databricks.rpc.ServerBackend.recordOperation(ServerBackend.scala:22)\n",
       "\tat com.databricks.rpc.ServerBackend.internalReceive(ServerBackend.scala:147)\n",
       "\tat com.databricks.rpc.JettyServer$RequestManager.handleRPC(JettyServer.scala:1020)\n",
       "\tat com.databricks.rpc.JettyServer$RequestManager.handleRequestAndRespond(JettyServer.scala:941)\n",
       "\tat com.databricks.rpc.JettyServer$RequestManager.$anonfun$handleHttp$6(JettyServer.scala:545)\n",
       "\tat com.databricks.rpc.JettyServer$RequestManager.$anonfun$handleHttp$6$adapted(JettyServer.scala:514)\n",
       "\tat com.databricks.logging.activity.ActivityContextFactory$.$anonfun$withActivityInternal$4(ActivityContextFactory.scala:405)\n",
       "\tat com.databricks.logging.UsageLogging.$anonfun$withAttributionContext$1(UsageLogging.scala:426)\n",
       "\tat scala.util.DynamicVariable.withValue(DynamicVariable.scala:62)\n",
       "\tat com.databricks.logging.AttributionContext$.withValue(AttributionContext.scala:216)\n",
       "\tat com.databricks.logging.UsageLogging.withAttributionContext(UsageLogging.scala:424)\n",
       "\tat com.databricks.logging.UsageLogging.withAttributionContext$(UsageLogging.scala:418)\n",
       "\tat com.databricks.logging.activity.ActivityContextFactory$.withAttributionContext(ActivityContextFactory.scala:58)\n",
       "\tat com.databricks.logging.activity.ActivityContextFactory$.$anonfun$withActivityInternal$1(ActivityContextFactory.scala:405)\n",
       "\tat com.databricks.context.integrity.IntegrityCheckContext$ThreadLocalStorage$.withValue(IntegrityCheckContext.scala:44)\n",
       "\tat com.databricks.logging.activity.ActivityContextFactory$.withActivityInternal(ActivityContextFactory.scala:380)\n",
       "\tat com.databricks.logging.activity.ActivityContextFactory$.withServiceRequestActivity(ActivityContextFactory.scala:159)\n",
       "\tat com.databricks.rpc.JettyServer$RequestManager.handleHttp(JettyServer.scala:514)\n",
       "\tat com.databricks.rpc.JettyServer$RequestManager.doPost(JettyServer.scala:404)\n",
       "\tat javax.servlet.http.HttpServlet.service(HttpServlet.java:665)\n",
       "\tat com.databricks.rpc.HttpServletWithPatch.service(HttpServletWithPatch.scala:33)\n",
       "\tat javax.servlet.http.HttpServlet.service(HttpServlet.java:750)\n",
       "\tat org.eclipse.jetty.servlet.ServletHolder.handle(ServletHolder.java:799)\n",
       "\tat org.eclipse.jetty.servlet.ServletHandler.doHandle(ServletHandler.java:554)\n",
       "\tat org.eclipse.jetty.server.handler.ScopedHandler.nextScope(ScopedHandler.java:190)\n",
       "\tat org.eclipse.jetty.servlet.ServletHandler.doScope(ServletHandler.java:505)\n",
       "\tat org.eclipse.jetty.server.handler.ScopedHandler.handle(ScopedHandler.java:141)\n",
       "\tat org.eclipse.jetty.server.handler.HandlerWrapper.handle(HandlerWrapper.java:127)\n",
       "\tat org.eclipse.jetty.server.Server.handle(Server.java:516)\n",
       "\tat org.eclipse.jetty.server.HttpChannel.lambda$handle$1(HttpChannel.java:487)\n",
       "\tat org.eclipse.jetty.server.HttpChannel.dispatch(HttpChannel.java:732)\n",
       "\tat org.eclipse.jetty.server.HttpChannel.handle(HttpChannel.java:479)\n",
       "\tat org.eclipse.jetty.server.HttpConnection.onFillable(HttpConnection.java:277)\n",
       "\tat org.eclipse.jetty.io.AbstractConnection$ReadCallback.succeeded(AbstractConnection.java:311)\n",
       "\tat org.eclipse.jetty.io.FillInterest.fillable(FillInterest.java:105)\n",
       "\tat org.eclipse.jetty.io.ssl.SslConnection$DecryptedEndPoint.onFillable(SslConnection.java:555)\n",
       "\tat org.eclipse.jetty.io.ssl.SslConnection.onFillable(SslConnection.java:410)\n",
       "\tat org.eclipse.jetty.io.ssl.SslConnection$2.succeeded(SslConnection.java:164)\n",
       "\tat org.eclipse.jetty.io.FillInterest.fillable(FillInterest.java:105)\n",
       "\tat org.eclipse.jetty.io.ChannelEndPoint$1.run(ChannelEndPoint.java:104)\n",
       "\tat org.eclipse.jetty.util.thread.strategy.EatWhatYouKill.runTask(EatWhatYouKill.java:338)\n",
       "\tat org.eclipse.jetty.util.thread.strategy.EatWhatYouKill.doProduce(EatWhatYouKill.java:315)\n",
       "\tat org.eclipse.jetty.util.thread.strategy.EatWhatYouKill.tryProduce(EatWhatYouKill.java:173)\n",
       "\tat org.eclipse.jetty.util.thread.strategy.EatWhatYouKill.run(EatWhatYouKill.java:131)\n",
       "\tat org.eclipse.jetty.util.thread.ReservedThreadExecutor$ReservedThread.run(ReservedThreadExecutor.java:409)\n",
       "\tat com.databricks.rpc.InstrumentedQueuedThreadPool$$anon$1.$anonfun$run$4(InstrumentedQueuedThreadPool.scala:104)\n",
       "\tat scala.runtime.java8.JFunction0$mcV$sp.apply(JFunction0$mcV$sp.java:23)\n",
       "\tat com.databricks.logging.UsageLogging.withAttributionContext(UsageLogging.scala:420)\n",
       "\tat com.databricks.logging.UsageLogging.withAttributionContext$(UsageLogging.scala:418)\n",
       "\tat com.databricks.rpc.InstrumentedQueuedThreadPool.withAttributionContext(InstrumentedQueuedThreadPool.scala:47)\n",
       "\tat com.databricks.rpc.InstrumentedQueuedThreadPool$$anon$1.$anonfun$run$1(InstrumentedQueuedThreadPool.scala:104)\n",
       "\tat scala.runtime.java8.JFunction0$mcV$sp.apply(JFunction0$mcV$sp.java:23)\n",
       "\tat com.databricks.instrumentation.QueuedThreadPoolInstrumenter.trackActiveThreads(QueuedThreadPoolInstrumenter.scala:66)\n",
       "\tat com.databricks.instrumentation.QueuedThreadPoolInstrumenter.trackActiveThreads$(QueuedThreadPoolInstrumenter.scala:63)\n",
       "\tat com.databricks.rpc.InstrumentedQueuedThreadPool.trackActiveThreads(InstrumentedQueuedThreadPool.scala:47)\n",
       "\tat com.databricks.rpc.InstrumentedQueuedThreadPool$$anon$1.run(InstrumentedQueuedThreadPool.scala:86)\n",
       "\tat org.eclipse.jetty.util.thread.QueuedThreadPool.runJob(QueuedThreadPool.java:883)\n",
       "\tat org.eclipse.jetty.util.thread.QueuedThreadPool$Runner.run(QueuedThreadPool.java:1034)\n",
       "\tat java.lang.Thread.run(Thread.java:750)"
      ]
     },
     "metadata": {
      "application/vnd.databricks.v1+output": {
       "addedWidgets": {},
       "arguments": {},
       "datasetInfos": [],
       "jupyterProps": null,
       "metadata": {
        "errorSummary": "Command skipped"
       },
       "removedWidgets": [],
       "sqlProps": null,
       "stackFrames": [
        "com.databricks.backend.common.rpc.CommandSkippedException",
        "\tat com.databricks.spark.chauffeur.SequenceExecutionState.$anonfun$cancel$3(SequenceExecutionState.scala:138)",
        "\tat com.databricks.spark.chauffeur.SequenceExecutionState.$anonfun$cancel$3$adapted(SequenceExecutionState.scala:133)",
        "\tat scala.collection.immutable.Range.foreach(Range.scala:158)",
        "\tat com.databricks.spark.chauffeur.SequenceExecutionState.cancel(SequenceExecutionState.scala:133)",
        "\tat com.databricks.spark.chauffeur.ExecContextState.cancelRunningSequence(ExecContextState.scala:730)",
        "\tat com.databricks.spark.chauffeur.ExecContextState.$anonfun$cancel$1(ExecContextState.scala:448)",
        "\tat scala.Option.getOrElse(Option.scala:189)",
        "\tat com.databricks.spark.chauffeur.ExecContextState.cancel(ExecContextState.scala:448)",
        "\tat com.databricks.spark.chauffeur.ChauffeurState.cancelExecution(ChauffeurState.scala:1315)",
        "\tat com.databricks.spark.chauffeur.ChauffeurState.$anonfun$process$1(ChauffeurState.scala:1032)",
        "\tat com.databricks.logging.UsageLogging.$anonfun$recordOperation$1(UsageLogging.scala:573)",
        "\tat com.databricks.logging.UsageLogging.executeThunkAndCaptureResultTags$1(UsageLogging.scala:669)",
        "\tat com.databricks.logging.UsageLogging.$anonfun$recordOperationWithResultTags$4(UsageLogging.scala:687)",
        "\tat com.databricks.logging.UsageLogging.$anonfun$withAttributionContext$1(UsageLogging.scala:426)",
        "\tat scala.util.DynamicVariable.withValue(DynamicVariable.scala:62)",
        "\tat com.databricks.logging.AttributionContext$.withValue(AttributionContext.scala:216)",
        "\tat com.databricks.logging.UsageLogging.withAttributionContext(UsageLogging.scala:424)",
        "\tat com.databricks.logging.UsageLogging.withAttributionContext$(UsageLogging.scala:418)",
        "\tat com.databricks.spark.chauffeur.ChauffeurState.withAttributionContext(ChauffeurState.scala:74)",
        "\tat com.databricks.logging.UsageLogging.withAttributionTags(UsageLogging.scala:472)",
        "\tat com.databricks.logging.UsageLogging.withAttributionTags$(UsageLogging.scala:455)",
        "\tat com.databricks.spark.chauffeur.ChauffeurState.withAttributionTags(ChauffeurState.scala:74)",
        "\tat com.databricks.logging.UsageLogging.recordOperationWithResultTags(UsageLogging.scala:664)",
        "\tat com.databricks.logging.UsageLogging.recordOperationWithResultTags$(UsageLogging.scala:582)",
        "\tat com.databricks.spark.chauffeur.ChauffeurState.recordOperationWithResultTags(ChauffeurState.scala:74)",
        "\tat com.databricks.logging.UsageLogging.recordOperation(UsageLogging.scala:573)",
        "\tat com.databricks.logging.UsageLogging.recordOperation$(UsageLogging.scala:542)",
        "\tat com.databricks.spark.chauffeur.ChauffeurState.recordOperation(ChauffeurState.scala:74)",
        "\tat com.databricks.spark.chauffeur.ChauffeurState.process(ChauffeurState.scala:993)",
        "\tat com.databricks.spark.chauffeur.Chauffeur$$anon$1$$anonfun$receive$1.handleDriverRequest$1(Chauffeur.scala:815)",
        "\tat com.databricks.spark.chauffeur.Chauffeur$$anon$1$$anonfun$receive$1.$anonfun$applyOrElse$5(Chauffeur.scala:841)",
        "\tat com.databricks.logging.UsageLogging.executeThunkAndCaptureResultTags$1(UsageLogging.scala:669)",
        "\tat com.databricks.logging.UsageLogging.$anonfun$recordOperationWithResultTags$4(UsageLogging.scala:687)",
        "\tat com.databricks.logging.UsageLogging.$anonfun$withAttributionContext$1(UsageLogging.scala:426)",
        "\tat scala.util.DynamicVariable.withValue(DynamicVariable.scala:62)",
        "\tat com.databricks.logging.AttributionContext$.withValue(AttributionContext.scala:216)",
        "\tat com.databricks.logging.UsageLogging.withAttributionContext(UsageLogging.scala:424)",
        "\tat com.databricks.logging.UsageLogging.withAttributionContext$(UsageLogging.scala:418)",
        "\tat com.databricks.rpc.ServerBackend.withAttributionContext(ServerBackend.scala:22)",
        "\tat com.databricks.logging.UsageLogging.withAttributionTags(UsageLogging.scala:472)",
        "\tat com.databricks.logging.UsageLogging.withAttributionTags$(UsageLogging.scala:455)",
        "\tat com.databricks.rpc.ServerBackend.withAttributionTags(ServerBackend.scala:22)",
        "\tat com.databricks.logging.UsageLogging.recordOperationWithResultTags(UsageLogging.scala:664)",
        "\tat com.databricks.logging.UsageLogging.recordOperationWithResultTags$(UsageLogging.scala:582)",
        "\tat com.databricks.rpc.ServerBackend.recordOperationWithResultTags(ServerBackend.scala:22)",
        "\tat com.databricks.spark.chauffeur.Chauffeur$$anon$1$$anonfun$receive$1.handleDriverRequestWithUsageLogging$1(Chauffeur.scala:840)",
        "\tat com.databricks.spark.chauffeur.Chauffeur$$anon$1$$anonfun$receive$1.applyOrElse(Chauffeur.scala:895)",
        "\tat com.databricks.spark.chauffeur.Chauffeur$$anon$1$$anonfun$receive$1.applyOrElse(Chauffeur.scala:688)",
        "\tat com.databricks.rpc.ServerBackend.$anonfun$internalReceive0$2(ServerBackend.scala:174)",
        "\tat com.databricks.rpc.ServerBackend$$anonfun$commonReceive$1.applyOrElse(ServerBackend.scala:200)",
        "\tat com.databricks.rpc.ServerBackend$$anonfun$commonReceive$1.applyOrElse(ServerBackend.scala:200)",
        "\tat com.databricks.rpc.ServerBackend.internalReceive0(ServerBackend.scala:171)",
        "\tat com.databricks.rpc.ServerBackend.$anonfun$internalReceive$1(ServerBackend.scala:147)",
        "\tat com.databricks.logging.UsageLogging.$anonfun$recordOperation$1(UsageLogging.scala:573)",
        "\tat com.databricks.logging.UsageLogging.executeThunkAndCaptureResultTags$1(UsageLogging.scala:669)",
        "\tat com.databricks.logging.UsageLogging.$anonfun$recordOperationWithResultTags$4(UsageLogging.scala:687)",
        "\tat com.databricks.logging.UsageLogging.$anonfun$withAttributionContext$1(UsageLogging.scala:426)",
        "\tat scala.util.DynamicVariable.withValue(DynamicVariable.scala:62)",
        "\tat com.databricks.logging.AttributionContext$.withValue(AttributionContext.scala:216)",
        "\tat com.databricks.logging.UsageLogging.withAttributionContext(UsageLogging.scala:424)",
        "\tat com.databricks.logging.UsageLogging.withAttributionContext$(UsageLogging.scala:418)",
        "\tat com.databricks.rpc.ServerBackend.withAttributionContext(ServerBackend.scala:22)",
        "\tat com.databricks.logging.UsageLogging.withAttributionTags(UsageLogging.scala:472)",
        "\tat com.databricks.logging.UsageLogging.withAttributionTags$(UsageLogging.scala:455)",
        "\tat com.databricks.rpc.ServerBackend.withAttributionTags(ServerBackend.scala:22)",
        "\tat com.databricks.logging.UsageLogging.recordOperationWithResultTags(UsageLogging.scala:664)",
        "\tat com.databricks.logging.UsageLogging.recordOperationWithResultTags$(UsageLogging.scala:582)",
        "\tat com.databricks.rpc.ServerBackend.recordOperationWithResultTags(ServerBackend.scala:22)",
        "\tat com.databricks.logging.UsageLogging.recordOperation(UsageLogging.scala:573)",
        "\tat com.databricks.logging.UsageLogging.recordOperation$(UsageLogging.scala:542)",
        "\tat com.databricks.rpc.ServerBackend.recordOperation(ServerBackend.scala:22)",
        "\tat com.databricks.rpc.ServerBackend.internalReceive(ServerBackend.scala:147)",
        "\tat com.databricks.rpc.JettyServer$RequestManager.handleRPC(JettyServer.scala:1020)",
        "\tat com.databricks.rpc.JettyServer$RequestManager.handleRequestAndRespond(JettyServer.scala:941)",
        "\tat com.databricks.rpc.JettyServer$RequestManager.$anonfun$handleHttp$6(JettyServer.scala:545)",
        "\tat com.databricks.rpc.JettyServer$RequestManager.$anonfun$handleHttp$6$adapted(JettyServer.scala:514)",
        "\tat com.databricks.logging.activity.ActivityContextFactory$.$anonfun$withActivityInternal$4(ActivityContextFactory.scala:405)",
        "\tat com.databricks.logging.UsageLogging.$anonfun$withAttributionContext$1(UsageLogging.scala:426)",
        "\tat scala.util.DynamicVariable.withValue(DynamicVariable.scala:62)",
        "\tat com.databricks.logging.AttributionContext$.withValue(AttributionContext.scala:216)",
        "\tat com.databricks.logging.UsageLogging.withAttributionContext(UsageLogging.scala:424)",
        "\tat com.databricks.logging.UsageLogging.withAttributionContext$(UsageLogging.scala:418)",
        "\tat com.databricks.logging.activity.ActivityContextFactory$.withAttributionContext(ActivityContextFactory.scala:58)",
        "\tat com.databricks.logging.activity.ActivityContextFactory$.$anonfun$withActivityInternal$1(ActivityContextFactory.scala:405)",
        "\tat com.databricks.context.integrity.IntegrityCheckContext$ThreadLocalStorage$.withValue(IntegrityCheckContext.scala:44)",
        "\tat com.databricks.logging.activity.ActivityContextFactory$.withActivityInternal(ActivityContextFactory.scala:380)",
        "\tat com.databricks.logging.activity.ActivityContextFactory$.withServiceRequestActivity(ActivityContextFactory.scala:159)",
        "\tat com.databricks.rpc.JettyServer$RequestManager.handleHttp(JettyServer.scala:514)",
        "\tat com.databricks.rpc.JettyServer$RequestManager.doPost(JettyServer.scala:404)",
        "\tat javax.servlet.http.HttpServlet.service(HttpServlet.java:665)",
        "\tat com.databricks.rpc.HttpServletWithPatch.service(HttpServletWithPatch.scala:33)",
        "\tat javax.servlet.http.HttpServlet.service(HttpServlet.java:750)",
        "\tat org.eclipse.jetty.servlet.ServletHolder.handle(ServletHolder.java:799)",
        "\tat org.eclipse.jetty.servlet.ServletHandler.doHandle(ServletHandler.java:554)",
        "\tat org.eclipse.jetty.server.handler.ScopedHandler.nextScope(ScopedHandler.java:190)",
        "\tat org.eclipse.jetty.servlet.ServletHandler.doScope(ServletHandler.java:505)",
        "\tat org.eclipse.jetty.server.handler.ScopedHandler.handle(ScopedHandler.java:141)",
        "\tat org.eclipse.jetty.server.handler.HandlerWrapper.handle(HandlerWrapper.java:127)",
        "\tat org.eclipse.jetty.server.Server.handle(Server.java:516)",
        "\tat org.eclipse.jetty.server.HttpChannel.lambda$handle$1(HttpChannel.java:487)",
        "\tat org.eclipse.jetty.server.HttpChannel.dispatch(HttpChannel.java:732)",
        "\tat org.eclipse.jetty.server.HttpChannel.handle(HttpChannel.java:479)",
        "\tat org.eclipse.jetty.server.HttpConnection.onFillable(HttpConnection.java:277)",
        "\tat org.eclipse.jetty.io.AbstractConnection$ReadCallback.succeeded(AbstractConnection.java:311)",
        "\tat org.eclipse.jetty.io.FillInterest.fillable(FillInterest.java:105)",
        "\tat org.eclipse.jetty.io.ssl.SslConnection$DecryptedEndPoint.onFillable(SslConnection.java:555)",
        "\tat org.eclipse.jetty.io.ssl.SslConnection.onFillable(SslConnection.java:410)",
        "\tat org.eclipse.jetty.io.ssl.SslConnection$2.succeeded(SslConnection.java:164)",
        "\tat org.eclipse.jetty.io.FillInterest.fillable(FillInterest.java:105)",
        "\tat org.eclipse.jetty.io.ChannelEndPoint$1.run(ChannelEndPoint.java:104)",
        "\tat org.eclipse.jetty.util.thread.strategy.EatWhatYouKill.runTask(EatWhatYouKill.java:338)",
        "\tat org.eclipse.jetty.util.thread.strategy.EatWhatYouKill.doProduce(EatWhatYouKill.java:315)",
        "\tat org.eclipse.jetty.util.thread.strategy.EatWhatYouKill.tryProduce(EatWhatYouKill.java:173)",
        "\tat org.eclipse.jetty.util.thread.strategy.EatWhatYouKill.run(EatWhatYouKill.java:131)",
        "\tat org.eclipse.jetty.util.thread.ReservedThreadExecutor$ReservedThread.run(ReservedThreadExecutor.java:409)",
        "\tat com.databricks.rpc.InstrumentedQueuedThreadPool$$anon$1.$anonfun$run$4(InstrumentedQueuedThreadPool.scala:104)",
        "\tat scala.runtime.java8.JFunction0$mcV$sp.apply(JFunction0$mcV$sp.java:23)",
        "\tat com.databricks.logging.UsageLogging.withAttributionContext(UsageLogging.scala:420)",
        "\tat com.databricks.logging.UsageLogging.withAttributionContext$(UsageLogging.scala:418)",
        "\tat com.databricks.rpc.InstrumentedQueuedThreadPool.withAttributionContext(InstrumentedQueuedThreadPool.scala:47)",
        "\tat com.databricks.rpc.InstrumentedQueuedThreadPool$$anon$1.$anonfun$run$1(InstrumentedQueuedThreadPool.scala:104)",
        "\tat scala.runtime.java8.JFunction0$mcV$sp.apply(JFunction0$mcV$sp.java:23)",
        "\tat com.databricks.instrumentation.QueuedThreadPoolInstrumenter.trackActiveThreads(QueuedThreadPoolInstrumenter.scala:66)",
        "\tat com.databricks.instrumentation.QueuedThreadPoolInstrumenter.trackActiveThreads$(QueuedThreadPoolInstrumenter.scala:63)",
        "\tat com.databricks.rpc.InstrumentedQueuedThreadPool.trackActiveThreads(InstrumentedQueuedThreadPool.scala:47)",
        "\tat com.databricks.rpc.InstrumentedQueuedThreadPool$$anon$1.run(InstrumentedQueuedThreadPool.scala:86)",
        "\tat org.eclipse.jetty.util.thread.QueuedThreadPool.runJob(QueuedThreadPool.java:883)",
        "\tat org.eclipse.jetty.util.thread.QueuedThreadPool$Runner.run(QueuedThreadPool.java:1034)",
        "\tat java.lang.Thread.run(Thread.java:750)"
       ],
       "type": "baseError"
      }
     },
     "output_type": "display_data"
    }
   ],
   "source": [
    "pdf_taxonomy[pdf_taxonomy.sscat_id.isin(actual_sscat)][['sscat_id', \"sscat\"]]"
   ]
  },
  {
   "cell_type": "code",
   "execution_count": 0,
   "metadata": {
    "application/vnd.databricks.v1+cell": {
     "cellMetadata": {
      "byteLimit": 2048000,
      "rowLimit": 10000
     },
     "inputWidgets": {},
     "nuid": "229574c9-8bed-467d-91c4-2c1590ab7d8e",
     "showTitle": false,
     "tableResultSettingsMap": {},
     "title": ""
    }
   },
   "outputs": [
    {
     "output_type": "display_data",
     "data": {
      "text/plain": [
       "com.databricks.backend.common.rpc.CommandSkippedException\n",
       "\tat com.databricks.spark.chauffeur.SequenceExecutionState.$anonfun$cancel$3(SequenceExecutionState.scala:138)\n",
       "\tat com.databricks.spark.chauffeur.SequenceExecutionState.$anonfun$cancel$3$adapted(SequenceExecutionState.scala:133)\n",
       "\tat scala.collection.immutable.Range.foreach(Range.scala:158)\n",
       "\tat com.databricks.spark.chauffeur.SequenceExecutionState.cancel(SequenceExecutionState.scala:133)\n",
       "\tat com.databricks.spark.chauffeur.ExecContextState.cancelRunningSequence(ExecContextState.scala:730)\n",
       "\tat com.databricks.spark.chauffeur.ExecContextState.$anonfun$cancel$1(ExecContextState.scala:448)\n",
       "\tat scala.Option.getOrElse(Option.scala:189)\n",
       "\tat com.databricks.spark.chauffeur.ExecContextState.cancel(ExecContextState.scala:448)\n",
       "\tat com.databricks.spark.chauffeur.ChauffeurState.cancelExecution(ChauffeurState.scala:1315)\n",
       "\tat com.databricks.spark.chauffeur.ChauffeurState.$anonfun$process$1(ChauffeurState.scala:1032)\n",
       "\tat com.databricks.logging.UsageLogging.$anonfun$recordOperation$1(UsageLogging.scala:573)\n",
       "\tat com.databricks.logging.UsageLogging.executeThunkAndCaptureResultTags$1(UsageLogging.scala:669)\n",
       "\tat com.databricks.logging.UsageLogging.$anonfun$recordOperationWithResultTags$4(UsageLogging.scala:687)\n",
       "\tat com.databricks.logging.UsageLogging.$anonfun$withAttributionContext$1(UsageLogging.scala:426)\n",
       "\tat scala.util.DynamicVariable.withValue(DynamicVariable.scala:62)\n",
       "\tat com.databricks.logging.AttributionContext$.withValue(AttributionContext.scala:216)\n",
       "\tat com.databricks.logging.UsageLogging.withAttributionContext(UsageLogging.scala:424)\n",
       "\tat com.databricks.logging.UsageLogging.withAttributionContext$(UsageLogging.scala:418)\n",
       "\tat com.databricks.spark.chauffeur.ChauffeurState.withAttributionContext(ChauffeurState.scala:74)\n",
       "\tat com.databricks.logging.UsageLogging.withAttributionTags(UsageLogging.scala:472)\n",
       "\tat com.databricks.logging.UsageLogging.withAttributionTags$(UsageLogging.scala:455)\n",
       "\tat com.databricks.spark.chauffeur.ChauffeurState.withAttributionTags(ChauffeurState.scala:74)\n",
       "\tat com.databricks.logging.UsageLogging.recordOperationWithResultTags(UsageLogging.scala:664)\n",
       "\tat com.databricks.logging.UsageLogging.recordOperationWithResultTags$(UsageLogging.scala:582)\n",
       "\tat com.databricks.spark.chauffeur.ChauffeurState.recordOperationWithResultTags(ChauffeurState.scala:74)\n",
       "\tat com.databricks.logging.UsageLogging.recordOperation(UsageLogging.scala:573)\n",
       "\tat com.databricks.logging.UsageLogging.recordOperation$(UsageLogging.scala:542)\n",
       "\tat com.databricks.spark.chauffeur.ChauffeurState.recordOperation(ChauffeurState.scala:74)\n",
       "\tat com.databricks.spark.chauffeur.ChauffeurState.process(ChauffeurState.scala:993)\n",
       "\tat com.databricks.spark.chauffeur.Chauffeur$$anon$1$$anonfun$receive$1.handleDriverRequest$1(Chauffeur.scala:815)\n",
       "\tat com.databricks.spark.chauffeur.Chauffeur$$anon$1$$anonfun$receive$1.$anonfun$applyOrElse$5(Chauffeur.scala:841)\n",
       "\tat com.databricks.logging.UsageLogging.executeThunkAndCaptureResultTags$1(UsageLogging.scala:669)\n",
       "\tat com.databricks.logging.UsageLogging.$anonfun$recordOperationWithResultTags$4(UsageLogging.scala:687)\n",
       "\tat com.databricks.logging.UsageLogging.$anonfun$withAttributionContext$1(UsageLogging.scala:426)\n",
       "\tat scala.util.DynamicVariable.withValue(DynamicVariable.scala:62)\n",
       "\tat com.databricks.logging.AttributionContext$.withValue(AttributionContext.scala:216)\n",
       "\tat com.databricks.logging.UsageLogging.withAttributionContext(UsageLogging.scala:424)\n",
       "\tat com.databricks.logging.UsageLogging.withAttributionContext$(UsageLogging.scala:418)\n",
       "\tat com.databricks.rpc.ServerBackend.withAttributionContext(ServerBackend.scala:22)\n",
       "\tat com.databricks.logging.UsageLogging.withAttributionTags(UsageLogging.scala:472)\n",
       "\tat com.databricks.logging.UsageLogging.withAttributionTags$(UsageLogging.scala:455)\n",
       "\tat com.databricks.rpc.ServerBackend.withAttributionTags(ServerBackend.scala:22)\n",
       "\tat com.databricks.logging.UsageLogging.recordOperationWithResultTags(UsageLogging.scala:664)\n",
       "\tat com.databricks.logging.UsageLogging.recordOperationWithResultTags$(UsageLogging.scala:582)\n",
       "\tat com.databricks.rpc.ServerBackend.recordOperationWithResultTags(ServerBackend.scala:22)\n",
       "\tat com.databricks.spark.chauffeur.Chauffeur$$anon$1$$anonfun$receive$1.handleDriverRequestWithUsageLogging$1(Chauffeur.scala:840)\n",
       "\tat com.databricks.spark.chauffeur.Chauffeur$$anon$1$$anonfun$receive$1.applyOrElse(Chauffeur.scala:895)\n",
       "\tat com.databricks.spark.chauffeur.Chauffeur$$anon$1$$anonfun$receive$1.applyOrElse(Chauffeur.scala:688)\n",
       "\tat com.databricks.rpc.ServerBackend.$anonfun$internalReceive0$2(ServerBackend.scala:174)\n",
       "\tat com.databricks.rpc.ServerBackend$$anonfun$commonReceive$1.applyOrElse(ServerBackend.scala:200)\n",
       "\tat com.databricks.rpc.ServerBackend$$anonfun$commonReceive$1.applyOrElse(ServerBackend.scala:200)\n",
       "\tat com.databricks.rpc.ServerBackend.internalReceive0(ServerBackend.scala:171)\n",
       "\tat com.databricks.rpc.ServerBackend.$anonfun$internalReceive$1(ServerBackend.scala:147)\n",
       "\tat com.databricks.logging.UsageLogging.$anonfun$recordOperation$1(UsageLogging.scala:573)\n",
       "\tat com.databricks.logging.UsageLogging.executeThunkAndCaptureResultTags$1(UsageLogging.scala:669)\n",
       "\tat com.databricks.logging.UsageLogging.$anonfun$recordOperationWithResultTags$4(UsageLogging.scala:687)\n",
       "\tat com.databricks.logging.UsageLogging.$anonfun$withAttributionContext$1(UsageLogging.scala:426)\n",
       "\tat scala.util.DynamicVariable.withValue(DynamicVariable.scala:62)\n",
       "\tat com.databricks.logging.AttributionContext$.withValue(AttributionContext.scala:216)\n",
       "\tat com.databricks.logging.UsageLogging.withAttributionContext(UsageLogging.scala:424)\n",
       "\tat com.databricks.logging.UsageLogging.withAttributionContext$(UsageLogging.scala:418)\n",
       "\tat com.databricks.rpc.ServerBackend.withAttributionContext(ServerBackend.scala:22)\n",
       "\tat com.databricks.logging.UsageLogging.withAttributionTags(UsageLogging.scala:472)\n",
       "\tat com.databricks.logging.UsageLogging.withAttributionTags$(UsageLogging.scala:455)\n",
       "\tat com.databricks.rpc.ServerBackend.withAttributionTags(ServerBackend.scala:22)\n",
       "\tat com.databricks.logging.UsageLogging.recordOperationWithResultTags(UsageLogging.scala:664)\n",
       "\tat com.databricks.logging.UsageLogging.recordOperationWithResultTags$(UsageLogging.scala:582)\n",
       "\tat com.databricks.rpc.ServerBackend.recordOperationWithResultTags(ServerBackend.scala:22)\n",
       "\tat com.databricks.logging.UsageLogging.recordOperation(UsageLogging.scala:573)\n",
       "\tat com.databricks.logging.UsageLogging.recordOperation$(UsageLogging.scala:542)\n",
       "\tat com.databricks.rpc.ServerBackend.recordOperation(ServerBackend.scala:22)\n",
       "\tat com.databricks.rpc.ServerBackend.internalReceive(ServerBackend.scala:147)\n",
       "\tat com.databricks.rpc.JettyServer$RequestManager.handleRPC(JettyServer.scala:1020)\n",
       "\tat com.databricks.rpc.JettyServer$RequestManager.handleRequestAndRespond(JettyServer.scala:941)\n",
       "\tat com.databricks.rpc.JettyServer$RequestManager.$anonfun$handleHttp$6(JettyServer.scala:545)\n",
       "\tat com.databricks.rpc.JettyServer$RequestManager.$anonfun$handleHttp$6$adapted(JettyServer.scala:514)\n",
       "\tat com.databricks.logging.activity.ActivityContextFactory$.$anonfun$withActivityInternal$4(ActivityContextFactory.scala:405)\n",
       "\tat com.databricks.logging.UsageLogging.$anonfun$withAttributionContext$1(UsageLogging.scala:426)\n",
       "\tat scala.util.DynamicVariable.withValue(DynamicVariable.scala:62)\n",
       "\tat com.databricks.logging.AttributionContext$.withValue(AttributionContext.scala:216)\n",
       "\tat com.databricks.logging.UsageLogging.withAttributionContext(UsageLogging.scala:424)\n",
       "\tat com.databricks.logging.UsageLogging.withAttributionContext$(UsageLogging.scala:418)\n",
       "\tat com.databricks.logging.activity.ActivityContextFactory$.withAttributionContext(ActivityContextFactory.scala:58)\n",
       "\tat com.databricks.logging.activity.ActivityContextFactory$.$anonfun$withActivityInternal$1(ActivityContextFactory.scala:405)\n",
       "\tat com.databricks.context.integrity.IntegrityCheckContext$ThreadLocalStorage$.withValue(IntegrityCheckContext.scala:44)\n",
       "\tat com.databricks.logging.activity.ActivityContextFactory$.withActivityInternal(ActivityContextFactory.scala:380)\n",
       "\tat com.databricks.logging.activity.ActivityContextFactory$.withServiceRequestActivity(ActivityContextFactory.scala:159)\n",
       "\tat com.databricks.rpc.JettyServer$RequestManager.handleHttp(JettyServer.scala:514)\n",
       "\tat com.databricks.rpc.JettyServer$RequestManager.doPost(JettyServer.scala:404)\n",
       "\tat javax.servlet.http.HttpServlet.service(HttpServlet.java:665)\n",
       "\tat com.databricks.rpc.HttpServletWithPatch.service(HttpServletWithPatch.scala:33)\n",
       "\tat javax.servlet.http.HttpServlet.service(HttpServlet.java:750)\n",
       "\tat org.eclipse.jetty.servlet.ServletHolder.handle(ServletHolder.java:799)\n",
       "\tat org.eclipse.jetty.servlet.ServletHandler.doHandle(ServletHandler.java:554)\n",
       "\tat org.eclipse.jetty.server.handler.ScopedHandler.nextScope(ScopedHandler.java:190)\n",
       "\tat org.eclipse.jetty.servlet.ServletHandler.doScope(ServletHandler.java:505)\n",
       "\tat org.eclipse.jetty.server.handler.ScopedHandler.handle(ScopedHandler.java:141)\n",
       "\tat org.eclipse.jetty.server.handler.HandlerWrapper.handle(HandlerWrapper.java:127)\n",
       "\tat org.eclipse.jetty.server.Server.handle(Server.java:516)\n",
       "\tat org.eclipse.jetty.server.HttpChannel.lambda$handle$1(HttpChannel.java:487)\n",
       "\tat org.eclipse.jetty.server.HttpChannel.dispatch(HttpChannel.java:732)\n",
       "\tat org.eclipse.jetty.server.HttpChannel.handle(HttpChannel.java:479)\n",
       "\tat org.eclipse.jetty.server.HttpConnection.onFillable(HttpConnection.java:277)\n",
       "\tat org.eclipse.jetty.io.AbstractConnection$ReadCallback.succeeded(AbstractConnection.java:311)\n",
       "\tat org.eclipse.jetty.io.FillInterest.fillable(FillInterest.java:105)\n",
       "\tat org.eclipse.jetty.io.ssl.SslConnection$DecryptedEndPoint.onFillable(SslConnection.java:555)\n",
       "\tat org.eclipse.jetty.io.ssl.SslConnection.onFillable(SslConnection.java:410)\n",
       "\tat org.eclipse.jetty.io.ssl.SslConnection$2.succeeded(SslConnection.java:164)\n",
       "\tat org.eclipse.jetty.io.FillInterest.fillable(FillInterest.java:105)\n",
       "\tat org.eclipse.jetty.io.ChannelEndPoint$1.run(ChannelEndPoint.java:104)\n",
       "\tat org.eclipse.jetty.util.thread.strategy.EatWhatYouKill.runTask(EatWhatYouKill.java:338)\n",
       "\tat org.eclipse.jetty.util.thread.strategy.EatWhatYouKill.doProduce(EatWhatYouKill.java:315)\n",
       "\tat org.eclipse.jetty.util.thread.strategy.EatWhatYouKill.tryProduce(EatWhatYouKill.java:173)\n",
       "\tat org.eclipse.jetty.util.thread.strategy.EatWhatYouKill.run(EatWhatYouKill.java:131)\n",
       "\tat org.eclipse.jetty.util.thread.ReservedThreadExecutor$ReservedThread.run(ReservedThreadExecutor.java:409)\n",
       "\tat com.databricks.rpc.InstrumentedQueuedThreadPool$$anon$1.$anonfun$run$4(InstrumentedQueuedThreadPool.scala:104)\n",
       "\tat scala.runtime.java8.JFunction0$mcV$sp.apply(JFunction0$mcV$sp.java:23)\n",
       "\tat com.databricks.logging.UsageLogging.withAttributionContext(UsageLogging.scala:420)\n",
       "\tat com.databricks.logging.UsageLogging.withAttributionContext$(UsageLogging.scala:418)\n",
       "\tat com.databricks.rpc.InstrumentedQueuedThreadPool.withAttributionContext(InstrumentedQueuedThreadPool.scala:47)\n",
       "\tat com.databricks.rpc.InstrumentedQueuedThreadPool$$anon$1.$anonfun$run$1(InstrumentedQueuedThreadPool.scala:104)\n",
       "\tat scala.runtime.java8.JFunction0$mcV$sp.apply(JFunction0$mcV$sp.java:23)\n",
       "\tat com.databricks.instrumentation.QueuedThreadPoolInstrumenter.trackActiveThreads(QueuedThreadPoolInstrumenter.scala:66)\n",
       "\tat com.databricks.instrumentation.QueuedThreadPoolInstrumenter.trackActiveThreads$(QueuedThreadPoolInstrumenter.scala:63)\n",
       "\tat com.databricks.rpc.InstrumentedQueuedThreadPool.trackActiveThreads(InstrumentedQueuedThreadPool.scala:47)\n",
       "\tat com.databricks.rpc.InstrumentedQueuedThreadPool$$anon$1.run(InstrumentedQueuedThreadPool.scala:86)\n",
       "\tat org.eclipse.jetty.util.thread.QueuedThreadPool.runJob(QueuedThreadPool.java:883)\n",
       "\tat org.eclipse.jetty.util.thread.QueuedThreadPool$Runner.run(QueuedThreadPool.java:1034)\n",
       "\tat java.lang.Thread.run(Thread.java:750)"
      ]
     },
     "metadata": {
      "application/vnd.databricks.v1+output": {
       "addedWidgets": {},
       "arguments": {},
       "datasetInfos": [],
       "jupyterProps": null,
       "metadata": {
        "errorSummary": "Command skipped"
       },
       "removedWidgets": [],
       "sqlProps": null,
       "stackFrames": [
        "com.databricks.backend.common.rpc.CommandSkippedException",
        "\tat com.databricks.spark.chauffeur.SequenceExecutionState.$anonfun$cancel$3(SequenceExecutionState.scala:138)",
        "\tat com.databricks.spark.chauffeur.SequenceExecutionState.$anonfun$cancel$3$adapted(SequenceExecutionState.scala:133)",
        "\tat scala.collection.immutable.Range.foreach(Range.scala:158)",
        "\tat com.databricks.spark.chauffeur.SequenceExecutionState.cancel(SequenceExecutionState.scala:133)",
        "\tat com.databricks.spark.chauffeur.ExecContextState.cancelRunningSequence(ExecContextState.scala:730)",
        "\tat com.databricks.spark.chauffeur.ExecContextState.$anonfun$cancel$1(ExecContextState.scala:448)",
        "\tat scala.Option.getOrElse(Option.scala:189)",
        "\tat com.databricks.spark.chauffeur.ExecContextState.cancel(ExecContextState.scala:448)",
        "\tat com.databricks.spark.chauffeur.ChauffeurState.cancelExecution(ChauffeurState.scala:1315)",
        "\tat com.databricks.spark.chauffeur.ChauffeurState.$anonfun$process$1(ChauffeurState.scala:1032)",
        "\tat com.databricks.logging.UsageLogging.$anonfun$recordOperation$1(UsageLogging.scala:573)",
        "\tat com.databricks.logging.UsageLogging.executeThunkAndCaptureResultTags$1(UsageLogging.scala:669)",
        "\tat com.databricks.logging.UsageLogging.$anonfun$recordOperationWithResultTags$4(UsageLogging.scala:687)",
        "\tat com.databricks.logging.UsageLogging.$anonfun$withAttributionContext$1(UsageLogging.scala:426)",
        "\tat scala.util.DynamicVariable.withValue(DynamicVariable.scala:62)",
        "\tat com.databricks.logging.AttributionContext$.withValue(AttributionContext.scala:216)",
        "\tat com.databricks.logging.UsageLogging.withAttributionContext(UsageLogging.scala:424)",
        "\tat com.databricks.logging.UsageLogging.withAttributionContext$(UsageLogging.scala:418)",
        "\tat com.databricks.spark.chauffeur.ChauffeurState.withAttributionContext(ChauffeurState.scala:74)",
        "\tat com.databricks.logging.UsageLogging.withAttributionTags(UsageLogging.scala:472)",
        "\tat com.databricks.logging.UsageLogging.withAttributionTags$(UsageLogging.scala:455)",
        "\tat com.databricks.spark.chauffeur.ChauffeurState.withAttributionTags(ChauffeurState.scala:74)",
        "\tat com.databricks.logging.UsageLogging.recordOperationWithResultTags(UsageLogging.scala:664)",
        "\tat com.databricks.logging.UsageLogging.recordOperationWithResultTags$(UsageLogging.scala:582)",
        "\tat com.databricks.spark.chauffeur.ChauffeurState.recordOperationWithResultTags(ChauffeurState.scala:74)",
        "\tat com.databricks.logging.UsageLogging.recordOperation(UsageLogging.scala:573)",
        "\tat com.databricks.logging.UsageLogging.recordOperation$(UsageLogging.scala:542)",
        "\tat com.databricks.spark.chauffeur.ChauffeurState.recordOperation(ChauffeurState.scala:74)",
        "\tat com.databricks.spark.chauffeur.ChauffeurState.process(ChauffeurState.scala:993)",
        "\tat com.databricks.spark.chauffeur.Chauffeur$$anon$1$$anonfun$receive$1.handleDriverRequest$1(Chauffeur.scala:815)",
        "\tat com.databricks.spark.chauffeur.Chauffeur$$anon$1$$anonfun$receive$1.$anonfun$applyOrElse$5(Chauffeur.scala:841)",
        "\tat com.databricks.logging.UsageLogging.executeThunkAndCaptureResultTags$1(UsageLogging.scala:669)",
        "\tat com.databricks.logging.UsageLogging.$anonfun$recordOperationWithResultTags$4(UsageLogging.scala:687)",
        "\tat com.databricks.logging.UsageLogging.$anonfun$withAttributionContext$1(UsageLogging.scala:426)",
        "\tat scala.util.DynamicVariable.withValue(DynamicVariable.scala:62)",
        "\tat com.databricks.logging.AttributionContext$.withValue(AttributionContext.scala:216)",
        "\tat com.databricks.logging.UsageLogging.withAttributionContext(UsageLogging.scala:424)",
        "\tat com.databricks.logging.UsageLogging.withAttributionContext$(UsageLogging.scala:418)",
        "\tat com.databricks.rpc.ServerBackend.withAttributionContext(ServerBackend.scala:22)",
        "\tat com.databricks.logging.UsageLogging.withAttributionTags(UsageLogging.scala:472)",
        "\tat com.databricks.logging.UsageLogging.withAttributionTags$(UsageLogging.scala:455)",
        "\tat com.databricks.rpc.ServerBackend.withAttributionTags(ServerBackend.scala:22)",
        "\tat com.databricks.logging.UsageLogging.recordOperationWithResultTags(UsageLogging.scala:664)",
        "\tat com.databricks.logging.UsageLogging.recordOperationWithResultTags$(UsageLogging.scala:582)",
        "\tat com.databricks.rpc.ServerBackend.recordOperationWithResultTags(ServerBackend.scala:22)",
        "\tat com.databricks.spark.chauffeur.Chauffeur$$anon$1$$anonfun$receive$1.handleDriverRequestWithUsageLogging$1(Chauffeur.scala:840)",
        "\tat com.databricks.spark.chauffeur.Chauffeur$$anon$1$$anonfun$receive$1.applyOrElse(Chauffeur.scala:895)",
        "\tat com.databricks.spark.chauffeur.Chauffeur$$anon$1$$anonfun$receive$1.applyOrElse(Chauffeur.scala:688)",
        "\tat com.databricks.rpc.ServerBackend.$anonfun$internalReceive0$2(ServerBackend.scala:174)",
        "\tat com.databricks.rpc.ServerBackend$$anonfun$commonReceive$1.applyOrElse(ServerBackend.scala:200)",
        "\tat com.databricks.rpc.ServerBackend$$anonfun$commonReceive$1.applyOrElse(ServerBackend.scala:200)",
        "\tat com.databricks.rpc.ServerBackend.internalReceive0(ServerBackend.scala:171)",
        "\tat com.databricks.rpc.ServerBackend.$anonfun$internalReceive$1(ServerBackend.scala:147)",
        "\tat com.databricks.logging.UsageLogging.$anonfun$recordOperation$1(UsageLogging.scala:573)",
        "\tat com.databricks.logging.UsageLogging.executeThunkAndCaptureResultTags$1(UsageLogging.scala:669)",
        "\tat com.databricks.logging.UsageLogging.$anonfun$recordOperationWithResultTags$4(UsageLogging.scala:687)",
        "\tat com.databricks.logging.UsageLogging.$anonfun$withAttributionContext$1(UsageLogging.scala:426)",
        "\tat scala.util.DynamicVariable.withValue(DynamicVariable.scala:62)",
        "\tat com.databricks.logging.AttributionContext$.withValue(AttributionContext.scala:216)",
        "\tat com.databricks.logging.UsageLogging.withAttributionContext(UsageLogging.scala:424)",
        "\tat com.databricks.logging.UsageLogging.withAttributionContext$(UsageLogging.scala:418)",
        "\tat com.databricks.rpc.ServerBackend.withAttributionContext(ServerBackend.scala:22)",
        "\tat com.databricks.logging.UsageLogging.withAttributionTags(UsageLogging.scala:472)",
        "\tat com.databricks.logging.UsageLogging.withAttributionTags$(UsageLogging.scala:455)",
        "\tat com.databricks.rpc.ServerBackend.withAttributionTags(ServerBackend.scala:22)",
        "\tat com.databricks.logging.UsageLogging.recordOperationWithResultTags(UsageLogging.scala:664)",
        "\tat com.databricks.logging.UsageLogging.recordOperationWithResultTags$(UsageLogging.scala:582)",
        "\tat com.databricks.rpc.ServerBackend.recordOperationWithResultTags(ServerBackend.scala:22)",
        "\tat com.databricks.logging.UsageLogging.recordOperation(UsageLogging.scala:573)",
        "\tat com.databricks.logging.UsageLogging.recordOperation$(UsageLogging.scala:542)",
        "\tat com.databricks.rpc.ServerBackend.recordOperation(ServerBackend.scala:22)",
        "\tat com.databricks.rpc.ServerBackend.internalReceive(ServerBackend.scala:147)",
        "\tat com.databricks.rpc.JettyServer$RequestManager.handleRPC(JettyServer.scala:1020)",
        "\tat com.databricks.rpc.JettyServer$RequestManager.handleRequestAndRespond(JettyServer.scala:941)",
        "\tat com.databricks.rpc.JettyServer$RequestManager.$anonfun$handleHttp$6(JettyServer.scala:545)",
        "\tat com.databricks.rpc.JettyServer$RequestManager.$anonfun$handleHttp$6$adapted(JettyServer.scala:514)",
        "\tat com.databricks.logging.activity.ActivityContextFactory$.$anonfun$withActivityInternal$4(ActivityContextFactory.scala:405)",
        "\tat com.databricks.logging.UsageLogging.$anonfun$withAttributionContext$1(UsageLogging.scala:426)",
        "\tat scala.util.DynamicVariable.withValue(DynamicVariable.scala:62)",
        "\tat com.databricks.logging.AttributionContext$.withValue(AttributionContext.scala:216)",
        "\tat com.databricks.logging.UsageLogging.withAttributionContext(UsageLogging.scala:424)",
        "\tat com.databricks.logging.UsageLogging.withAttributionContext$(UsageLogging.scala:418)",
        "\tat com.databricks.logging.activity.ActivityContextFactory$.withAttributionContext(ActivityContextFactory.scala:58)",
        "\tat com.databricks.logging.activity.ActivityContextFactory$.$anonfun$withActivityInternal$1(ActivityContextFactory.scala:405)",
        "\tat com.databricks.context.integrity.IntegrityCheckContext$ThreadLocalStorage$.withValue(IntegrityCheckContext.scala:44)",
        "\tat com.databricks.logging.activity.ActivityContextFactory$.withActivityInternal(ActivityContextFactory.scala:380)",
        "\tat com.databricks.logging.activity.ActivityContextFactory$.withServiceRequestActivity(ActivityContextFactory.scala:159)",
        "\tat com.databricks.rpc.JettyServer$RequestManager.handleHttp(JettyServer.scala:514)",
        "\tat com.databricks.rpc.JettyServer$RequestManager.doPost(JettyServer.scala:404)",
        "\tat javax.servlet.http.HttpServlet.service(HttpServlet.java:665)",
        "\tat com.databricks.rpc.HttpServletWithPatch.service(HttpServletWithPatch.scala:33)",
        "\tat javax.servlet.http.HttpServlet.service(HttpServlet.java:750)",
        "\tat org.eclipse.jetty.servlet.ServletHolder.handle(ServletHolder.java:799)",
        "\tat org.eclipse.jetty.servlet.ServletHandler.doHandle(ServletHandler.java:554)",
        "\tat org.eclipse.jetty.server.handler.ScopedHandler.nextScope(ScopedHandler.java:190)",
        "\tat org.eclipse.jetty.servlet.ServletHandler.doScope(ServletHandler.java:505)",
        "\tat org.eclipse.jetty.server.handler.ScopedHandler.handle(ScopedHandler.java:141)",
        "\tat org.eclipse.jetty.server.handler.HandlerWrapper.handle(HandlerWrapper.java:127)",
        "\tat org.eclipse.jetty.server.Server.handle(Server.java:516)",
        "\tat org.eclipse.jetty.server.HttpChannel.lambda$handle$1(HttpChannel.java:487)",
        "\tat org.eclipse.jetty.server.HttpChannel.dispatch(HttpChannel.java:732)",
        "\tat org.eclipse.jetty.server.HttpChannel.handle(HttpChannel.java:479)",
        "\tat org.eclipse.jetty.server.HttpConnection.onFillable(HttpConnection.java:277)",
        "\tat org.eclipse.jetty.io.AbstractConnection$ReadCallback.succeeded(AbstractConnection.java:311)",
        "\tat org.eclipse.jetty.io.FillInterest.fillable(FillInterest.java:105)",
        "\tat org.eclipse.jetty.io.ssl.SslConnection$DecryptedEndPoint.onFillable(SslConnection.java:555)",
        "\tat org.eclipse.jetty.io.ssl.SslConnection.onFillable(SslConnection.java:410)",
        "\tat org.eclipse.jetty.io.ssl.SslConnection$2.succeeded(SslConnection.java:164)",
        "\tat org.eclipse.jetty.io.FillInterest.fillable(FillInterest.java:105)",
        "\tat org.eclipse.jetty.io.ChannelEndPoint$1.run(ChannelEndPoint.java:104)",
        "\tat org.eclipse.jetty.util.thread.strategy.EatWhatYouKill.runTask(EatWhatYouKill.java:338)",
        "\tat org.eclipse.jetty.util.thread.strategy.EatWhatYouKill.doProduce(EatWhatYouKill.java:315)",
        "\tat org.eclipse.jetty.util.thread.strategy.EatWhatYouKill.tryProduce(EatWhatYouKill.java:173)",
        "\tat org.eclipse.jetty.util.thread.strategy.EatWhatYouKill.run(EatWhatYouKill.java:131)",
        "\tat org.eclipse.jetty.util.thread.ReservedThreadExecutor$ReservedThread.run(ReservedThreadExecutor.java:409)",
        "\tat com.databricks.rpc.InstrumentedQueuedThreadPool$$anon$1.$anonfun$run$4(InstrumentedQueuedThreadPool.scala:104)",
        "\tat scala.runtime.java8.JFunction0$mcV$sp.apply(JFunction0$mcV$sp.java:23)",
        "\tat com.databricks.logging.UsageLogging.withAttributionContext(UsageLogging.scala:420)",
        "\tat com.databricks.logging.UsageLogging.withAttributionContext$(UsageLogging.scala:418)",
        "\tat com.databricks.rpc.InstrumentedQueuedThreadPool.withAttributionContext(InstrumentedQueuedThreadPool.scala:47)",
        "\tat com.databricks.rpc.InstrumentedQueuedThreadPool$$anon$1.$anonfun$run$1(InstrumentedQueuedThreadPool.scala:104)",
        "\tat scala.runtime.java8.JFunction0$mcV$sp.apply(JFunction0$mcV$sp.java:23)",
        "\tat com.databricks.instrumentation.QueuedThreadPoolInstrumenter.trackActiveThreads(QueuedThreadPoolInstrumenter.scala:66)",
        "\tat com.databricks.instrumentation.QueuedThreadPoolInstrumenter.trackActiveThreads$(QueuedThreadPoolInstrumenter.scala:63)",
        "\tat com.databricks.rpc.InstrumentedQueuedThreadPool.trackActiveThreads(InstrumentedQueuedThreadPool.scala:47)",
        "\tat com.databricks.rpc.InstrumentedQueuedThreadPool$$anon$1.run(InstrumentedQueuedThreadPool.scala:86)",
        "\tat org.eclipse.jetty.util.thread.QueuedThreadPool.runJob(QueuedThreadPool.java:883)",
        "\tat org.eclipse.jetty.util.thread.QueuedThreadPool$Runner.run(QueuedThreadPool.java:1034)",
        "\tat java.lang.Thread.run(Thread.java:750)"
       ],
       "type": "baseError"
      }
     },
     "output_type": "display_data"
    }
   ],
   "source": [
    "pdf_taxonomy[pdf_taxonomy.sscat_id.isin(predicted_sscat)]"
   ]
  },
  {
   "cell_type": "code",
   "execution_count": 0,
   "metadata": {
    "application/vnd.databricks.v1+cell": {
     "cellMetadata": {
      "byteLimit": 2048000,
      "rowLimit": 10000
     },
     "inputWidgets": {},
     "nuid": "6f117fac-3fe0-413b-81e6-68a74e400d0e",
     "showTitle": false,
     "tableResultSettingsMap": {},
     "title": ""
    }
   },
   "outputs": [
    {
     "output_type": "display_data",
     "data": {
      "text/plain": [
       "com.databricks.backend.common.rpc.CommandSkippedException\n",
       "\tat com.databricks.spark.chauffeur.SequenceExecutionState.$anonfun$cancel$3(SequenceExecutionState.scala:138)\n",
       "\tat com.databricks.spark.chauffeur.SequenceExecutionState.$anonfun$cancel$3$adapted(SequenceExecutionState.scala:133)\n",
       "\tat scala.collection.immutable.Range.foreach(Range.scala:158)\n",
       "\tat com.databricks.spark.chauffeur.SequenceExecutionState.cancel(SequenceExecutionState.scala:133)\n",
       "\tat com.databricks.spark.chauffeur.ExecContextState.cancelRunningSequence(ExecContextState.scala:730)\n",
       "\tat com.databricks.spark.chauffeur.ExecContextState.$anonfun$cancel$1(ExecContextState.scala:448)\n",
       "\tat scala.Option.getOrElse(Option.scala:189)\n",
       "\tat com.databricks.spark.chauffeur.ExecContextState.cancel(ExecContextState.scala:448)\n",
       "\tat com.databricks.spark.chauffeur.ChauffeurState.cancelExecution(ChauffeurState.scala:1315)\n",
       "\tat com.databricks.spark.chauffeur.ChauffeurState.$anonfun$process$1(ChauffeurState.scala:1032)\n",
       "\tat com.databricks.logging.UsageLogging.$anonfun$recordOperation$1(UsageLogging.scala:573)\n",
       "\tat com.databricks.logging.UsageLogging.executeThunkAndCaptureResultTags$1(UsageLogging.scala:669)\n",
       "\tat com.databricks.logging.UsageLogging.$anonfun$recordOperationWithResultTags$4(UsageLogging.scala:687)\n",
       "\tat com.databricks.logging.UsageLogging.$anonfun$withAttributionContext$1(UsageLogging.scala:426)\n",
       "\tat scala.util.DynamicVariable.withValue(DynamicVariable.scala:62)\n",
       "\tat com.databricks.logging.AttributionContext$.withValue(AttributionContext.scala:216)\n",
       "\tat com.databricks.logging.UsageLogging.withAttributionContext(UsageLogging.scala:424)\n",
       "\tat com.databricks.logging.UsageLogging.withAttributionContext$(UsageLogging.scala:418)\n",
       "\tat com.databricks.spark.chauffeur.ChauffeurState.withAttributionContext(ChauffeurState.scala:74)\n",
       "\tat com.databricks.logging.UsageLogging.withAttributionTags(UsageLogging.scala:472)\n",
       "\tat com.databricks.logging.UsageLogging.withAttributionTags$(UsageLogging.scala:455)\n",
       "\tat com.databricks.spark.chauffeur.ChauffeurState.withAttributionTags(ChauffeurState.scala:74)\n",
       "\tat com.databricks.logging.UsageLogging.recordOperationWithResultTags(UsageLogging.scala:664)\n",
       "\tat com.databricks.logging.UsageLogging.recordOperationWithResultTags$(UsageLogging.scala:582)\n",
       "\tat com.databricks.spark.chauffeur.ChauffeurState.recordOperationWithResultTags(ChauffeurState.scala:74)\n",
       "\tat com.databricks.logging.UsageLogging.recordOperation(UsageLogging.scala:573)\n",
       "\tat com.databricks.logging.UsageLogging.recordOperation$(UsageLogging.scala:542)\n",
       "\tat com.databricks.spark.chauffeur.ChauffeurState.recordOperation(ChauffeurState.scala:74)\n",
       "\tat com.databricks.spark.chauffeur.ChauffeurState.process(ChauffeurState.scala:993)\n",
       "\tat com.databricks.spark.chauffeur.Chauffeur$$anon$1$$anonfun$receive$1.handleDriverRequest$1(Chauffeur.scala:815)\n",
       "\tat com.databricks.spark.chauffeur.Chauffeur$$anon$1$$anonfun$receive$1.$anonfun$applyOrElse$5(Chauffeur.scala:841)\n",
       "\tat com.databricks.logging.UsageLogging.executeThunkAndCaptureResultTags$1(UsageLogging.scala:669)\n",
       "\tat com.databricks.logging.UsageLogging.$anonfun$recordOperationWithResultTags$4(UsageLogging.scala:687)\n",
       "\tat com.databricks.logging.UsageLogging.$anonfun$withAttributionContext$1(UsageLogging.scala:426)\n",
       "\tat scala.util.DynamicVariable.withValue(DynamicVariable.scala:62)\n",
       "\tat com.databricks.logging.AttributionContext$.withValue(AttributionContext.scala:216)\n",
       "\tat com.databricks.logging.UsageLogging.withAttributionContext(UsageLogging.scala:424)\n",
       "\tat com.databricks.logging.UsageLogging.withAttributionContext$(UsageLogging.scala:418)\n",
       "\tat com.databricks.rpc.ServerBackend.withAttributionContext(ServerBackend.scala:22)\n",
       "\tat com.databricks.logging.UsageLogging.withAttributionTags(UsageLogging.scala:472)\n",
       "\tat com.databricks.logging.UsageLogging.withAttributionTags$(UsageLogging.scala:455)\n",
       "\tat com.databricks.rpc.ServerBackend.withAttributionTags(ServerBackend.scala:22)\n",
       "\tat com.databricks.logging.UsageLogging.recordOperationWithResultTags(UsageLogging.scala:664)\n",
       "\tat com.databricks.logging.UsageLogging.recordOperationWithResultTags$(UsageLogging.scala:582)\n",
       "\tat com.databricks.rpc.ServerBackend.recordOperationWithResultTags(ServerBackend.scala:22)\n",
       "\tat com.databricks.spark.chauffeur.Chauffeur$$anon$1$$anonfun$receive$1.handleDriverRequestWithUsageLogging$1(Chauffeur.scala:840)\n",
       "\tat com.databricks.spark.chauffeur.Chauffeur$$anon$1$$anonfun$receive$1.applyOrElse(Chauffeur.scala:895)\n",
       "\tat com.databricks.spark.chauffeur.Chauffeur$$anon$1$$anonfun$receive$1.applyOrElse(Chauffeur.scala:688)\n",
       "\tat com.databricks.rpc.ServerBackend.$anonfun$internalReceive0$2(ServerBackend.scala:174)\n",
       "\tat com.databricks.rpc.ServerBackend$$anonfun$commonReceive$1.applyOrElse(ServerBackend.scala:200)\n",
       "\tat com.databricks.rpc.ServerBackend$$anonfun$commonReceive$1.applyOrElse(ServerBackend.scala:200)\n",
       "\tat com.databricks.rpc.ServerBackend.internalReceive0(ServerBackend.scala:171)\n",
       "\tat com.databricks.rpc.ServerBackend.$anonfun$internalReceive$1(ServerBackend.scala:147)\n",
       "\tat com.databricks.logging.UsageLogging.$anonfun$recordOperation$1(UsageLogging.scala:573)\n",
       "\tat com.databricks.logging.UsageLogging.executeThunkAndCaptureResultTags$1(UsageLogging.scala:669)\n",
       "\tat com.databricks.logging.UsageLogging.$anonfun$recordOperationWithResultTags$4(UsageLogging.scala:687)\n",
       "\tat com.databricks.logging.UsageLogging.$anonfun$withAttributionContext$1(UsageLogging.scala:426)\n",
       "\tat scala.util.DynamicVariable.withValue(DynamicVariable.scala:62)\n",
       "\tat com.databricks.logging.AttributionContext$.withValue(AttributionContext.scala:216)\n",
       "\tat com.databricks.logging.UsageLogging.withAttributionContext(UsageLogging.scala:424)\n",
       "\tat com.databricks.logging.UsageLogging.withAttributionContext$(UsageLogging.scala:418)\n",
       "\tat com.databricks.rpc.ServerBackend.withAttributionContext(ServerBackend.scala:22)\n",
       "\tat com.databricks.logging.UsageLogging.withAttributionTags(UsageLogging.scala:472)\n",
       "\tat com.databricks.logging.UsageLogging.withAttributionTags$(UsageLogging.scala:455)\n",
       "\tat com.databricks.rpc.ServerBackend.withAttributionTags(ServerBackend.scala:22)\n",
       "\tat com.databricks.logging.UsageLogging.recordOperationWithResultTags(UsageLogging.scala:664)\n",
       "\tat com.databricks.logging.UsageLogging.recordOperationWithResultTags$(UsageLogging.scala:582)\n",
       "\tat com.databricks.rpc.ServerBackend.recordOperationWithResultTags(ServerBackend.scala:22)\n",
       "\tat com.databricks.logging.UsageLogging.recordOperation(UsageLogging.scala:573)\n",
       "\tat com.databricks.logging.UsageLogging.recordOperation$(UsageLogging.scala:542)\n",
       "\tat com.databricks.rpc.ServerBackend.recordOperation(ServerBackend.scala:22)\n",
       "\tat com.databricks.rpc.ServerBackend.internalReceive(ServerBackend.scala:147)\n",
       "\tat com.databricks.rpc.JettyServer$RequestManager.handleRPC(JettyServer.scala:1020)\n",
       "\tat com.databricks.rpc.JettyServer$RequestManager.handleRequestAndRespond(JettyServer.scala:941)\n",
       "\tat com.databricks.rpc.JettyServer$RequestManager.$anonfun$handleHttp$6(JettyServer.scala:545)\n",
       "\tat com.databricks.rpc.JettyServer$RequestManager.$anonfun$handleHttp$6$adapted(JettyServer.scala:514)\n",
       "\tat com.databricks.logging.activity.ActivityContextFactory$.$anonfun$withActivityInternal$4(ActivityContextFactory.scala:405)\n",
       "\tat com.databricks.logging.UsageLogging.$anonfun$withAttributionContext$1(UsageLogging.scala:426)\n",
       "\tat scala.util.DynamicVariable.withValue(DynamicVariable.scala:62)\n",
       "\tat com.databricks.logging.AttributionContext$.withValue(AttributionContext.scala:216)\n",
       "\tat com.databricks.logging.UsageLogging.withAttributionContext(UsageLogging.scala:424)\n",
       "\tat com.databricks.logging.UsageLogging.withAttributionContext$(UsageLogging.scala:418)\n",
       "\tat com.databricks.logging.activity.ActivityContextFactory$.withAttributionContext(ActivityContextFactory.scala:58)\n",
       "\tat com.databricks.logging.activity.ActivityContextFactory$.$anonfun$withActivityInternal$1(ActivityContextFactory.scala:405)\n",
       "\tat com.databricks.context.integrity.IntegrityCheckContext$ThreadLocalStorage$.withValue(IntegrityCheckContext.scala:44)\n",
       "\tat com.databricks.logging.activity.ActivityContextFactory$.withActivityInternal(ActivityContextFactory.scala:380)\n",
       "\tat com.databricks.logging.activity.ActivityContextFactory$.withServiceRequestActivity(ActivityContextFactory.scala:159)\n",
       "\tat com.databricks.rpc.JettyServer$RequestManager.handleHttp(JettyServer.scala:514)\n",
       "\tat com.databricks.rpc.JettyServer$RequestManager.doPost(JettyServer.scala:404)\n",
       "\tat javax.servlet.http.HttpServlet.service(HttpServlet.java:665)\n",
       "\tat com.databricks.rpc.HttpServletWithPatch.service(HttpServletWithPatch.scala:33)\n",
       "\tat javax.servlet.http.HttpServlet.service(HttpServlet.java:750)\n",
       "\tat org.eclipse.jetty.servlet.ServletHolder.handle(ServletHolder.java:799)\n",
       "\tat org.eclipse.jetty.servlet.ServletHandler.doHandle(ServletHandler.java:554)\n",
       "\tat org.eclipse.jetty.server.handler.ScopedHandler.nextScope(ScopedHandler.java:190)\n",
       "\tat org.eclipse.jetty.servlet.ServletHandler.doScope(ServletHandler.java:505)\n",
       "\tat org.eclipse.jetty.server.handler.ScopedHandler.handle(ScopedHandler.java:141)\n",
       "\tat org.eclipse.jetty.server.handler.HandlerWrapper.handle(HandlerWrapper.java:127)\n",
       "\tat org.eclipse.jetty.server.Server.handle(Server.java:516)\n",
       "\tat org.eclipse.jetty.server.HttpChannel.lambda$handle$1(HttpChannel.java:487)\n",
       "\tat org.eclipse.jetty.server.HttpChannel.dispatch(HttpChannel.java:732)\n",
       "\tat org.eclipse.jetty.server.HttpChannel.handle(HttpChannel.java:479)\n",
       "\tat org.eclipse.jetty.server.HttpConnection.onFillable(HttpConnection.java:277)\n",
       "\tat org.eclipse.jetty.io.AbstractConnection$ReadCallback.succeeded(AbstractConnection.java:311)\n",
       "\tat org.eclipse.jetty.io.FillInterest.fillable(FillInterest.java:105)\n",
       "\tat org.eclipse.jetty.io.ssl.SslConnection$DecryptedEndPoint.onFillable(SslConnection.java:555)\n",
       "\tat org.eclipse.jetty.io.ssl.SslConnection.onFillable(SslConnection.java:410)\n",
       "\tat org.eclipse.jetty.io.ssl.SslConnection$2.succeeded(SslConnection.java:164)\n",
       "\tat org.eclipse.jetty.io.FillInterest.fillable(FillInterest.java:105)\n",
       "\tat org.eclipse.jetty.io.ChannelEndPoint$1.run(ChannelEndPoint.java:104)\n",
       "\tat org.eclipse.jetty.util.thread.strategy.EatWhatYouKill.runTask(EatWhatYouKill.java:338)\n",
       "\tat org.eclipse.jetty.util.thread.strategy.EatWhatYouKill.doProduce(EatWhatYouKill.java:315)\n",
       "\tat org.eclipse.jetty.util.thread.strategy.EatWhatYouKill.tryProduce(EatWhatYouKill.java:173)\n",
       "\tat org.eclipse.jetty.util.thread.strategy.EatWhatYouKill.run(EatWhatYouKill.java:131)\n",
       "\tat org.eclipse.jetty.util.thread.ReservedThreadExecutor$ReservedThread.run(ReservedThreadExecutor.java:409)\n",
       "\tat com.databricks.rpc.InstrumentedQueuedThreadPool$$anon$1.$anonfun$run$4(InstrumentedQueuedThreadPool.scala:104)\n",
       "\tat scala.runtime.java8.JFunction0$mcV$sp.apply(JFunction0$mcV$sp.java:23)\n",
       "\tat com.databricks.logging.UsageLogging.withAttributionContext(UsageLogging.scala:420)\n",
       "\tat com.databricks.logging.UsageLogging.withAttributionContext$(UsageLogging.scala:418)\n",
       "\tat com.databricks.rpc.InstrumentedQueuedThreadPool.withAttributionContext(InstrumentedQueuedThreadPool.scala:47)\n",
       "\tat com.databricks.rpc.InstrumentedQueuedThreadPool$$anon$1.$anonfun$run$1(InstrumentedQueuedThreadPool.scala:104)\n",
       "\tat scala.runtime.java8.JFunction0$mcV$sp.apply(JFunction0$mcV$sp.java:23)\n",
       "\tat com.databricks.instrumentation.QueuedThreadPoolInstrumenter.trackActiveThreads(QueuedThreadPoolInstrumenter.scala:66)\n",
       "\tat com.databricks.instrumentation.QueuedThreadPoolInstrumenter.trackActiveThreads$(QueuedThreadPoolInstrumenter.scala:63)\n",
       "\tat com.databricks.rpc.InstrumentedQueuedThreadPool.trackActiveThreads(InstrumentedQueuedThreadPool.scala:47)\n",
       "\tat com.databricks.rpc.InstrumentedQueuedThreadPool$$anon$1.run(InstrumentedQueuedThreadPool.scala:86)\n",
       "\tat org.eclipse.jetty.util.thread.QueuedThreadPool.runJob(QueuedThreadPool.java:883)\n",
       "\tat org.eclipse.jetty.util.thread.QueuedThreadPool$Runner.run(QueuedThreadPool.java:1034)\n",
       "\tat java.lang.Thread.run(Thread.java:750)"
      ]
     },
     "metadata": {
      "application/vnd.databricks.v1+output": {
       "addedWidgets": {},
       "arguments": {},
       "datasetInfos": [],
       "jupyterProps": null,
       "metadata": {
        "errorSummary": "Command skipped"
       },
       "removedWidgets": [],
       "sqlProps": null,
       "stackFrames": [
        "com.databricks.backend.common.rpc.CommandSkippedException",
        "\tat com.databricks.spark.chauffeur.SequenceExecutionState.$anonfun$cancel$3(SequenceExecutionState.scala:138)",
        "\tat com.databricks.spark.chauffeur.SequenceExecutionState.$anonfun$cancel$3$adapted(SequenceExecutionState.scala:133)",
        "\tat scala.collection.immutable.Range.foreach(Range.scala:158)",
        "\tat com.databricks.spark.chauffeur.SequenceExecutionState.cancel(SequenceExecutionState.scala:133)",
        "\tat com.databricks.spark.chauffeur.ExecContextState.cancelRunningSequence(ExecContextState.scala:730)",
        "\tat com.databricks.spark.chauffeur.ExecContextState.$anonfun$cancel$1(ExecContextState.scala:448)",
        "\tat scala.Option.getOrElse(Option.scala:189)",
        "\tat com.databricks.spark.chauffeur.ExecContextState.cancel(ExecContextState.scala:448)",
        "\tat com.databricks.spark.chauffeur.ChauffeurState.cancelExecution(ChauffeurState.scala:1315)",
        "\tat com.databricks.spark.chauffeur.ChauffeurState.$anonfun$process$1(ChauffeurState.scala:1032)",
        "\tat com.databricks.logging.UsageLogging.$anonfun$recordOperation$1(UsageLogging.scala:573)",
        "\tat com.databricks.logging.UsageLogging.executeThunkAndCaptureResultTags$1(UsageLogging.scala:669)",
        "\tat com.databricks.logging.UsageLogging.$anonfun$recordOperationWithResultTags$4(UsageLogging.scala:687)",
        "\tat com.databricks.logging.UsageLogging.$anonfun$withAttributionContext$1(UsageLogging.scala:426)",
        "\tat scala.util.DynamicVariable.withValue(DynamicVariable.scala:62)",
        "\tat com.databricks.logging.AttributionContext$.withValue(AttributionContext.scala:216)",
        "\tat com.databricks.logging.UsageLogging.withAttributionContext(UsageLogging.scala:424)",
        "\tat com.databricks.logging.UsageLogging.withAttributionContext$(UsageLogging.scala:418)",
        "\tat com.databricks.spark.chauffeur.ChauffeurState.withAttributionContext(ChauffeurState.scala:74)",
        "\tat com.databricks.logging.UsageLogging.withAttributionTags(UsageLogging.scala:472)",
        "\tat com.databricks.logging.UsageLogging.withAttributionTags$(UsageLogging.scala:455)",
        "\tat com.databricks.spark.chauffeur.ChauffeurState.withAttributionTags(ChauffeurState.scala:74)",
        "\tat com.databricks.logging.UsageLogging.recordOperationWithResultTags(UsageLogging.scala:664)",
        "\tat com.databricks.logging.UsageLogging.recordOperationWithResultTags$(UsageLogging.scala:582)",
        "\tat com.databricks.spark.chauffeur.ChauffeurState.recordOperationWithResultTags(ChauffeurState.scala:74)",
        "\tat com.databricks.logging.UsageLogging.recordOperation(UsageLogging.scala:573)",
        "\tat com.databricks.logging.UsageLogging.recordOperation$(UsageLogging.scala:542)",
        "\tat com.databricks.spark.chauffeur.ChauffeurState.recordOperation(ChauffeurState.scala:74)",
        "\tat com.databricks.spark.chauffeur.ChauffeurState.process(ChauffeurState.scala:993)",
        "\tat com.databricks.spark.chauffeur.Chauffeur$$anon$1$$anonfun$receive$1.handleDriverRequest$1(Chauffeur.scala:815)",
        "\tat com.databricks.spark.chauffeur.Chauffeur$$anon$1$$anonfun$receive$1.$anonfun$applyOrElse$5(Chauffeur.scala:841)",
        "\tat com.databricks.logging.UsageLogging.executeThunkAndCaptureResultTags$1(UsageLogging.scala:669)",
        "\tat com.databricks.logging.UsageLogging.$anonfun$recordOperationWithResultTags$4(UsageLogging.scala:687)",
        "\tat com.databricks.logging.UsageLogging.$anonfun$withAttributionContext$1(UsageLogging.scala:426)",
        "\tat scala.util.DynamicVariable.withValue(DynamicVariable.scala:62)",
        "\tat com.databricks.logging.AttributionContext$.withValue(AttributionContext.scala:216)",
        "\tat com.databricks.logging.UsageLogging.withAttributionContext(UsageLogging.scala:424)",
        "\tat com.databricks.logging.UsageLogging.withAttributionContext$(UsageLogging.scala:418)",
        "\tat com.databricks.rpc.ServerBackend.withAttributionContext(ServerBackend.scala:22)",
        "\tat com.databricks.logging.UsageLogging.withAttributionTags(UsageLogging.scala:472)",
        "\tat com.databricks.logging.UsageLogging.withAttributionTags$(UsageLogging.scala:455)",
        "\tat com.databricks.rpc.ServerBackend.withAttributionTags(ServerBackend.scala:22)",
        "\tat com.databricks.logging.UsageLogging.recordOperationWithResultTags(UsageLogging.scala:664)",
        "\tat com.databricks.logging.UsageLogging.recordOperationWithResultTags$(UsageLogging.scala:582)",
        "\tat com.databricks.rpc.ServerBackend.recordOperationWithResultTags(ServerBackend.scala:22)",
        "\tat com.databricks.spark.chauffeur.Chauffeur$$anon$1$$anonfun$receive$1.handleDriverRequestWithUsageLogging$1(Chauffeur.scala:840)",
        "\tat com.databricks.spark.chauffeur.Chauffeur$$anon$1$$anonfun$receive$1.applyOrElse(Chauffeur.scala:895)",
        "\tat com.databricks.spark.chauffeur.Chauffeur$$anon$1$$anonfun$receive$1.applyOrElse(Chauffeur.scala:688)",
        "\tat com.databricks.rpc.ServerBackend.$anonfun$internalReceive0$2(ServerBackend.scala:174)",
        "\tat com.databricks.rpc.ServerBackend$$anonfun$commonReceive$1.applyOrElse(ServerBackend.scala:200)",
        "\tat com.databricks.rpc.ServerBackend$$anonfun$commonReceive$1.applyOrElse(ServerBackend.scala:200)",
        "\tat com.databricks.rpc.ServerBackend.internalReceive0(ServerBackend.scala:171)",
        "\tat com.databricks.rpc.ServerBackend.$anonfun$internalReceive$1(ServerBackend.scala:147)",
        "\tat com.databricks.logging.UsageLogging.$anonfun$recordOperation$1(UsageLogging.scala:573)",
        "\tat com.databricks.logging.UsageLogging.executeThunkAndCaptureResultTags$1(UsageLogging.scala:669)",
        "\tat com.databricks.logging.UsageLogging.$anonfun$recordOperationWithResultTags$4(UsageLogging.scala:687)",
        "\tat com.databricks.logging.UsageLogging.$anonfun$withAttributionContext$1(UsageLogging.scala:426)",
        "\tat scala.util.DynamicVariable.withValue(DynamicVariable.scala:62)",
        "\tat com.databricks.logging.AttributionContext$.withValue(AttributionContext.scala:216)",
        "\tat com.databricks.logging.UsageLogging.withAttributionContext(UsageLogging.scala:424)",
        "\tat com.databricks.logging.UsageLogging.withAttributionContext$(UsageLogging.scala:418)",
        "\tat com.databricks.rpc.ServerBackend.withAttributionContext(ServerBackend.scala:22)",
        "\tat com.databricks.logging.UsageLogging.withAttributionTags(UsageLogging.scala:472)",
        "\tat com.databricks.logging.UsageLogging.withAttributionTags$(UsageLogging.scala:455)",
        "\tat com.databricks.rpc.ServerBackend.withAttributionTags(ServerBackend.scala:22)",
        "\tat com.databricks.logging.UsageLogging.recordOperationWithResultTags(UsageLogging.scala:664)",
        "\tat com.databricks.logging.UsageLogging.recordOperationWithResultTags$(UsageLogging.scala:582)",
        "\tat com.databricks.rpc.ServerBackend.recordOperationWithResultTags(ServerBackend.scala:22)",
        "\tat com.databricks.logging.UsageLogging.recordOperation(UsageLogging.scala:573)",
        "\tat com.databricks.logging.UsageLogging.recordOperation$(UsageLogging.scala:542)",
        "\tat com.databricks.rpc.ServerBackend.recordOperation(ServerBackend.scala:22)",
        "\tat com.databricks.rpc.ServerBackend.internalReceive(ServerBackend.scala:147)",
        "\tat com.databricks.rpc.JettyServer$RequestManager.handleRPC(JettyServer.scala:1020)",
        "\tat com.databricks.rpc.JettyServer$RequestManager.handleRequestAndRespond(JettyServer.scala:941)",
        "\tat com.databricks.rpc.JettyServer$RequestManager.$anonfun$handleHttp$6(JettyServer.scala:545)",
        "\tat com.databricks.rpc.JettyServer$RequestManager.$anonfun$handleHttp$6$adapted(JettyServer.scala:514)",
        "\tat com.databricks.logging.activity.ActivityContextFactory$.$anonfun$withActivityInternal$4(ActivityContextFactory.scala:405)",
        "\tat com.databricks.logging.UsageLogging.$anonfun$withAttributionContext$1(UsageLogging.scala:426)",
        "\tat scala.util.DynamicVariable.withValue(DynamicVariable.scala:62)",
        "\tat com.databricks.logging.AttributionContext$.withValue(AttributionContext.scala:216)",
        "\tat com.databricks.logging.UsageLogging.withAttributionContext(UsageLogging.scala:424)",
        "\tat com.databricks.logging.UsageLogging.withAttributionContext$(UsageLogging.scala:418)",
        "\tat com.databricks.logging.activity.ActivityContextFactory$.withAttributionContext(ActivityContextFactory.scala:58)",
        "\tat com.databricks.logging.activity.ActivityContextFactory$.$anonfun$withActivityInternal$1(ActivityContextFactory.scala:405)",
        "\tat com.databricks.context.integrity.IntegrityCheckContext$ThreadLocalStorage$.withValue(IntegrityCheckContext.scala:44)",
        "\tat com.databricks.logging.activity.ActivityContextFactory$.withActivityInternal(ActivityContextFactory.scala:380)",
        "\tat com.databricks.logging.activity.ActivityContextFactory$.withServiceRequestActivity(ActivityContextFactory.scala:159)",
        "\tat com.databricks.rpc.JettyServer$RequestManager.handleHttp(JettyServer.scala:514)",
        "\tat com.databricks.rpc.JettyServer$RequestManager.doPost(JettyServer.scala:404)",
        "\tat javax.servlet.http.HttpServlet.service(HttpServlet.java:665)",
        "\tat com.databricks.rpc.HttpServletWithPatch.service(HttpServletWithPatch.scala:33)",
        "\tat javax.servlet.http.HttpServlet.service(HttpServlet.java:750)",
        "\tat org.eclipse.jetty.servlet.ServletHolder.handle(ServletHolder.java:799)",
        "\tat org.eclipse.jetty.servlet.ServletHandler.doHandle(ServletHandler.java:554)",
        "\tat org.eclipse.jetty.server.handler.ScopedHandler.nextScope(ScopedHandler.java:190)",
        "\tat org.eclipse.jetty.servlet.ServletHandler.doScope(ServletHandler.java:505)",
        "\tat org.eclipse.jetty.server.handler.ScopedHandler.handle(ScopedHandler.java:141)",
        "\tat org.eclipse.jetty.server.handler.HandlerWrapper.handle(HandlerWrapper.java:127)",
        "\tat org.eclipse.jetty.server.Server.handle(Server.java:516)",
        "\tat org.eclipse.jetty.server.HttpChannel.lambda$handle$1(HttpChannel.java:487)",
        "\tat org.eclipse.jetty.server.HttpChannel.dispatch(HttpChannel.java:732)",
        "\tat org.eclipse.jetty.server.HttpChannel.handle(HttpChannel.java:479)",
        "\tat org.eclipse.jetty.server.HttpConnection.onFillable(HttpConnection.java:277)",
        "\tat org.eclipse.jetty.io.AbstractConnection$ReadCallback.succeeded(AbstractConnection.java:311)",
        "\tat org.eclipse.jetty.io.FillInterest.fillable(FillInterest.java:105)",
        "\tat org.eclipse.jetty.io.ssl.SslConnection$DecryptedEndPoint.onFillable(SslConnection.java:555)",
        "\tat org.eclipse.jetty.io.ssl.SslConnection.onFillable(SslConnection.java:410)",
        "\tat org.eclipse.jetty.io.ssl.SslConnection$2.succeeded(SslConnection.java:164)",
        "\tat org.eclipse.jetty.io.FillInterest.fillable(FillInterest.java:105)",
        "\tat org.eclipse.jetty.io.ChannelEndPoint$1.run(ChannelEndPoint.java:104)",
        "\tat org.eclipse.jetty.util.thread.strategy.EatWhatYouKill.runTask(EatWhatYouKill.java:338)",
        "\tat org.eclipse.jetty.util.thread.strategy.EatWhatYouKill.doProduce(EatWhatYouKill.java:315)",
        "\tat org.eclipse.jetty.util.thread.strategy.EatWhatYouKill.tryProduce(EatWhatYouKill.java:173)",
        "\tat org.eclipse.jetty.util.thread.strategy.EatWhatYouKill.run(EatWhatYouKill.java:131)",
        "\tat org.eclipse.jetty.util.thread.ReservedThreadExecutor$ReservedThread.run(ReservedThreadExecutor.java:409)",
        "\tat com.databricks.rpc.InstrumentedQueuedThreadPool$$anon$1.$anonfun$run$4(InstrumentedQueuedThreadPool.scala:104)",
        "\tat scala.runtime.java8.JFunction0$mcV$sp.apply(JFunction0$mcV$sp.java:23)",
        "\tat com.databricks.logging.UsageLogging.withAttributionContext(UsageLogging.scala:420)",
        "\tat com.databricks.logging.UsageLogging.withAttributionContext$(UsageLogging.scala:418)",
        "\tat com.databricks.rpc.InstrumentedQueuedThreadPool.withAttributionContext(InstrumentedQueuedThreadPool.scala:47)",
        "\tat com.databricks.rpc.InstrumentedQueuedThreadPool$$anon$1.$anonfun$run$1(InstrumentedQueuedThreadPool.scala:104)",
        "\tat scala.runtime.java8.JFunction0$mcV$sp.apply(JFunction0$mcV$sp.java:23)",
        "\tat com.databricks.instrumentation.QueuedThreadPoolInstrumenter.trackActiveThreads(QueuedThreadPoolInstrumenter.scala:66)",
        "\tat com.databricks.instrumentation.QueuedThreadPoolInstrumenter.trackActiveThreads$(QueuedThreadPoolInstrumenter.scala:63)",
        "\tat com.databricks.rpc.InstrumentedQueuedThreadPool.trackActiveThreads(InstrumentedQueuedThreadPool.scala:47)",
        "\tat com.databricks.rpc.InstrumentedQueuedThreadPool$$anon$1.run(InstrumentedQueuedThreadPool.scala:86)",
        "\tat org.eclipse.jetty.util.thread.QueuedThreadPool.runJob(QueuedThreadPool.java:883)",
        "\tat org.eclipse.jetty.util.thread.QueuedThreadPool$Runner.run(QueuedThreadPool.java:1034)",
        "\tat java.lang.Thread.run(Thread.java:750)"
       ],
       "type": "baseError"
      }
     },
     "output_type": "display_data"
    }
   ],
   "source": [
    "a = np.random.random_sample(10)"
   ]
  },
  {
   "cell_type": "code",
   "execution_count": 0,
   "metadata": {
    "application/vnd.databricks.v1+cell": {
     "cellMetadata": {
      "byteLimit": 2048000,
      "rowLimit": 10000
     },
     "inputWidgets": {},
     "nuid": "a5c75e03-e541-474f-8ea8-e409d1e15f5c",
     "showTitle": false,
     "tableResultSettingsMap": {},
     "title": ""
    }
   },
   "outputs": [
    {
     "output_type": "display_data",
     "data": {
      "text/plain": [
       "com.databricks.backend.common.rpc.CommandSkippedException\n",
       "\tat com.databricks.spark.chauffeur.SequenceExecutionState.$anonfun$cancel$3(SequenceExecutionState.scala:138)\n",
       "\tat com.databricks.spark.chauffeur.SequenceExecutionState.$anonfun$cancel$3$adapted(SequenceExecutionState.scala:133)\n",
       "\tat scala.collection.immutable.Range.foreach(Range.scala:158)\n",
       "\tat com.databricks.spark.chauffeur.SequenceExecutionState.cancel(SequenceExecutionState.scala:133)\n",
       "\tat com.databricks.spark.chauffeur.ExecContextState.cancelRunningSequence(ExecContextState.scala:730)\n",
       "\tat com.databricks.spark.chauffeur.ExecContextState.$anonfun$cancel$1(ExecContextState.scala:448)\n",
       "\tat scala.Option.getOrElse(Option.scala:189)\n",
       "\tat com.databricks.spark.chauffeur.ExecContextState.cancel(ExecContextState.scala:448)\n",
       "\tat com.databricks.spark.chauffeur.ChauffeurState.cancelExecution(ChauffeurState.scala:1315)\n",
       "\tat com.databricks.spark.chauffeur.ChauffeurState.$anonfun$process$1(ChauffeurState.scala:1032)\n",
       "\tat com.databricks.logging.UsageLogging.$anonfun$recordOperation$1(UsageLogging.scala:573)\n",
       "\tat com.databricks.logging.UsageLogging.executeThunkAndCaptureResultTags$1(UsageLogging.scala:669)\n",
       "\tat com.databricks.logging.UsageLogging.$anonfun$recordOperationWithResultTags$4(UsageLogging.scala:687)\n",
       "\tat com.databricks.logging.UsageLogging.$anonfun$withAttributionContext$1(UsageLogging.scala:426)\n",
       "\tat scala.util.DynamicVariable.withValue(DynamicVariable.scala:62)\n",
       "\tat com.databricks.logging.AttributionContext$.withValue(AttributionContext.scala:216)\n",
       "\tat com.databricks.logging.UsageLogging.withAttributionContext(UsageLogging.scala:424)\n",
       "\tat com.databricks.logging.UsageLogging.withAttributionContext$(UsageLogging.scala:418)\n",
       "\tat com.databricks.spark.chauffeur.ChauffeurState.withAttributionContext(ChauffeurState.scala:74)\n",
       "\tat com.databricks.logging.UsageLogging.withAttributionTags(UsageLogging.scala:472)\n",
       "\tat com.databricks.logging.UsageLogging.withAttributionTags$(UsageLogging.scala:455)\n",
       "\tat com.databricks.spark.chauffeur.ChauffeurState.withAttributionTags(ChauffeurState.scala:74)\n",
       "\tat com.databricks.logging.UsageLogging.recordOperationWithResultTags(UsageLogging.scala:664)\n",
       "\tat com.databricks.logging.UsageLogging.recordOperationWithResultTags$(UsageLogging.scala:582)\n",
       "\tat com.databricks.spark.chauffeur.ChauffeurState.recordOperationWithResultTags(ChauffeurState.scala:74)\n",
       "\tat com.databricks.logging.UsageLogging.recordOperation(UsageLogging.scala:573)\n",
       "\tat com.databricks.logging.UsageLogging.recordOperation$(UsageLogging.scala:542)\n",
       "\tat com.databricks.spark.chauffeur.ChauffeurState.recordOperation(ChauffeurState.scala:74)\n",
       "\tat com.databricks.spark.chauffeur.ChauffeurState.process(ChauffeurState.scala:993)\n",
       "\tat com.databricks.spark.chauffeur.Chauffeur$$anon$1$$anonfun$receive$1.handleDriverRequest$1(Chauffeur.scala:815)\n",
       "\tat com.databricks.spark.chauffeur.Chauffeur$$anon$1$$anonfun$receive$1.$anonfun$applyOrElse$5(Chauffeur.scala:841)\n",
       "\tat com.databricks.logging.UsageLogging.executeThunkAndCaptureResultTags$1(UsageLogging.scala:669)\n",
       "\tat com.databricks.logging.UsageLogging.$anonfun$recordOperationWithResultTags$4(UsageLogging.scala:687)\n",
       "\tat com.databricks.logging.UsageLogging.$anonfun$withAttributionContext$1(UsageLogging.scala:426)\n",
       "\tat scala.util.DynamicVariable.withValue(DynamicVariable.scala:62)\n",
       "\tat com.databricks.logging.AttributionContext$.withValue(AttributionContext.scala:216)\n",
       "\tat com.databricks.logging.UsageLogging.withAttributionContext(UsageLogging.scala:424)\n",
       "\tat com.databricks.logging.UsageLogging.withAttributionContext$(UsageLogging.scala:418)\n",
       "\tat com.databricks.rpc.ServerBackend.withAttributionContext(ServerBackend.scala:22)\n",
       "\tat com.databricks.logging.UsageLogging.withAttributionTags(UsageLogging.scala:472)\n",
       "\tat com.databricks.logging.UsageLogging.withAttributionTags$(UsageLogging.scala:455)\n",
       "\tat com.databricks.rpc.ServerBackend.withAttributionTags(ServerBackend.scala:22)\n",
       "\tat com.databricks.logging.UsageLogging.recordOperationWithResultTags(UsageLogging.scala:664)\n",
       "\tat com.databricks.logging.UsageLogging.recordOperationWithResultTags$(UsageLogging.scala:582)\n",
       "\tat com.databricks.rpc.ServerBackend.recordOperationWithResultTags(ServerBackend.scala:22)\n",
       "\tat com.databricks.spark.chauffeur.Chauffeur$$anon$1$$anonfun$receive$1.handleDriverRequestWithUsageLogging$1(Chauffeur.scala:840)\n",
       "\tat com.databricks.spark.chauffeur.Chauffeur$$anon$1$$anonfun$receive$1.applyOrElse(Chauffeur.scala:895)\n",
       "\tat com.databricks.spark.chauffeur.Chauffeur$$anon$1$$anonfun$receive$1.applyOrElse(Chauffeur.scala:688)\n",
       "\tat com.databricks.rpc.ServerBackend.$anonfun$internalReceive0$2(ServerBackend.scala:174)\n",
       "\tat com.databricks.rpc.ServerBackend$$anonfun$commonReceive$1.applyOrElse(ServerBackend.scala:200)\n",
       "\tat com.databricks.rpc.ServerBackend$$anonfun$commonReceive$1.applyOrElse(ServerBackend.scala:200)\n",
       "\tat com.databricks.rpc.ServerBackend.internalReceive0(ServerBackend.scala:171)\n",
       "\tat com.databricks.rpc.ServerBackend.$anonfun$internalReceive$1(ServerBackend.scala:147)\n",
       "\tat com.databricks.logging.UsageLogging.$anonfun$recordOperation$1(UsageLogging.scala:573)\n",
       "\tat com.databricks.logging.UsageLogging.executeThunkAndCaptureResultTags$1(UsageLogging.scala:669)\n",
       "\tat com.databricks.logging.UsageLogging.$anonfun$recordOperationWithResultTags$4(UsageLogging.scala:687)\n",
       "\tat com.databricks.logging.UsageLogging.$anonfun$withAttributionContext$1(UsageLogging.scala:426)\n",
       "\tat scala.util.DynamicVariable.withValue(DynamicVariable.scala:62)\n",
       "\tat com.databricks.logging.AttributionContext$.withValue(AttributionContext.scala:216)\n",
       "\tat com.databricks.logging.UsageLogging.withAttributionContext(UsageLogging.scala:424)\n",
       "\tat com.databricks.logging.UsageLogging.withAttributionContext$(UsageLogging.scala:418)\n",
       "\tat com.databricks.rpc.ServerBackend.withAttributionContext(ServerBackend.scala:22)\n",
       "\tat com.databricks.logging.UsageLogging.withAttributionTags(UsageLogging.scala:472)\n",
       "\tat com.databricks.logging.UsageLogging.withAttributionTags$(UsageLogging.scala:455)\n",
       "\tat com.databricks.rpc.ServerBackend.withAttributionTags(ServerBackend.scala:22)\n",
       "\tat com.databricks.logging.UsageLogging.recordOperationWithResultTags(UsageLogging.scala:664)\n",
       "\tat com.databricks.logging.UsageLogging.recordOperationWithResultTags$(UsageLogging.scala:582)\n",
       "\tat com.databricks.rpc.ServerBackend.recordOperationWithResultTags(ServerBackend.scala:22)\n",
       "\tat com.databricks.logging.UsageLogging.recordOperation(UsageLogging.scala:573)\n",
       "\tat com.databricks.logging.UsageLogging.recordOperation$(UsageLogging.scala:542)\n",
       "\tat com.databricks.rpc.ServerBackend.recordOperation(ServerBackend.scala:22)\n",
       "\tat com.databricks.rpc.ServerBackend.internalReceive(ServerBackend.scala:147)\n",
       "\tat com.databricks.rpc.JettyServer$RequestManager.handleRPC(JettyServer.scala:1020)\n",
       "\tat com.databricks.rpc.JettyServer$RequestManager.handleRequestAndRespond(JettyServer.scala:941)\n",
       "\tat com.databricks.rpc.JettyServer$RequestManager.$anonfun$handleHttp$6(JettyServer.scala:545)\n",
       "\tat com.databricks.rpc.JettyServer$RequestManager.$anonfun$handleHttp$6$adapted(JettyServer.scala:514)\n",
       "\tat com.databricks.logging.activity.ActivityContextFactory$.$anonfun$withActivityInternal$4(ActivityContextFactory.scala:405)\n",
       "\tat com.databricks.logging.UsageLogging.$anonfun$withAttributionContext$1(UsageLogging.scala:426)\n",
       "\tat scala.util.DynamicVariable.withValue(DynamicVariable.scala:62)\n",
       "\tat com.databricks.logging.AttributionContext$.withValue(AttributionContext.scala:216)\n",
       "\tat com.databricks.logging.UsageLogging.withAttributionContext(UsageLogging.scala:424)\n",
       "\tat com.databricks.logging.UsageLogging.withAttributionContext$(UsageLogging.scala:418)\n",
       "\tat com.databricks.logging.activity.ActivityContextFactory$.withAttributionContext(ActivityContextFactory.scala:58)\n",
       "\tat com.databricks.logging.activity.ActivityContextFactory$.$anonfun$withActivityInternal$1(ActivityContextFactory.scala:405)\n",
       "\tat com.databricks.context.integrity.IntegrityCheckContext$ThreadLocalStorage$.withValue(IntegrityCheckContext.scala:44)\n",
       "\tat com.databricks.logging.activity.ActivityContextFactory$.withActivityInternal(ActivityContextFactory.scala:380)\n",
       "\tat com.databricks.logging.activity.ActivityContextFactory$.withServiceRequestActivity(ActivityContextFactory.scala:159)\n",
       "\tat com.databricks.rpc.JettyServer$RequestManager.handleHttp(JettyServer.scala:514)\n",
       "\tat com.databricks.rpc.JettyServer$RequestManager.doPost(JettyServer.scala:404)\n",
       "\tat javax.servlet.http.HttpServlet.service(HttpServlet.java:665)\n",
       "\tat com.databricks.rpc.HttpServletWithPatch.service(HttpServletWithPatch.scala:33)\n",
       "\tat javax.servlet.http.HttpServlet.service(HttpServlet.java:750)\n",
       "\tat org.eclipse.jetty.servlet.ServletHolder.handle(ServletHolder.java:799)\n",
       "\tat org.eclipse.jetty.servlet.ServletHandler.doHandle(ServletHandler.java:554)\n",
       "\tat org.eclipse.jetty.server.handler.ScopedHandler.nextScope(ScopedHandler.java:190)\n",
       "\tat org.eclipse.jetty.servlet.ServletHandler.doScope(ServletHandler.java:505)\n",
       "\tat org.eclipse.jetty.server.handler.ScopedHandler.handle(ScopedHandler.java:141)\n",
       "\tat org.eclipse.jetty.server.handler.HandlerWrapper.handle(HandlerWrapper.java:127)\n",
       "\tat org.eclipse.jetty.server.Server.handle(Server.java:516)\n",
       "\tat org.eclipse.jetty.server.HttpChannel.lambda$handle$1(HttpChannel.java:487)\n",
       "\tat org.eclipse.jetty.server.HttpChannel.dispatch(HttpChannel.java:732)\n",
       "\tat org.eclipse.jetty.server.HttpChannel.handle(HttpChannel.java:479)\n",
       "\tat org.eclipse.jetty.server.HttpConnection.onFillable(HttpConnection.java:277)\n",
       "\tat org.eclipse.jetty.io.AbstractConnection$ReadCallback.succeeded(AbstractConnection.java:311)\n",
       "\tat org.eclipse.jetty.io.FillInterest.fillable(FillInterest.java:105)\n",
       "\tat org.eclipse.jetty.io.ssl.SslConnection$DecryptedEndPoint.onFillable(SslConnection.java:555)\n",
       "\tat org.eclipse.jetty.io.ssl.SslConnection.onFillable(SslConnection.java:410)\n",
       "\tat org.eclipse.jetty.io.ssl.SslConnection$2.succeeded(SslConnection.java:164)\n",
       "\tat org.eclipse.jetty.io.FillInterest.fillable(FillInterest.java:105)\n",
       "\tat org.eclipse.jetty.io.ChannelEndPoint$1.run(ChannelEndPoint.java:104)\n",
       "\tat org.eclipse.jetty.util.thread.strategy.EatWhatYouKill.runTask(EatWhatYouKill.java:338)\n",
       "\tat org.eclipse.jetty.util.thread.strategy.EatWhatYouKill.doProduce(EatWhatYouKill.java:315)\n",
       "\tat org.eclipse.jetty.util.thread.strategy.EatWhatYouKill.tryProduce(EatWhatYouKill.java:173)\n",
       "\tat org.eclipse.jetty.util.thread.strategy.EatWhatYouKill.run(EatWhatYouKill.java:131)\n",
       "\tat org.eclipse.jetty.util.thread.ReservedThreadExecutor$ReservedThread.run(ReservedThreadExecutor.java:409)\n",
       "\tat com.databricks.rpc.InstrumentedQueuedThreadPool$$anon$1.$anonfun$run$4(InstrumentedQueuedThreadPool.scala:104)\n",
       "\tat scala.runtime.java8.JFunction0$mcV$sp.apply(JFunction0$mcV$sp.java:23)\n",
       "\tat com.databricks.logging.UsageLogging.withAttributionContext(UsageLogging.scala:420)\n",
       "\tat com.databricks.logging.UsageLogging.withAttributionContext$(UsageLogging.scala:418)\n",
       "\tat com.databricks.rpc.InstrumentedQueuedThreadPool.withAttributionContext(InstrumentedQueuedThreadPool.scala:47)\n",
       "\tat com.databricks.rpc.InstrumentedQueuedThreadPool$$anon$1.$anonfun$run$1(InstrumentedQueuedThreadPool.scala:104)\n",
       "\tat scala.runtime.java8.JFunction0$mcV$sp.apply(JFunction0$mcV$sp.java:23)\n",
       "\tat com.databricks.instrumentation.QueuedThreadPoolInstrumenter.trackActiveThreads(QueuedThreadPoolInstrumenter.scala:66)\n",
       "\tat com.databricks.instrumentation.QueuedThreadPoolInstrumenter.trackActiveThreads$(QueuedThreadPoolInstrumenter.scala:63)\n",
       "\tat com.databricks.rpc.InstrumentedQueuedThreadPool.trackActiveThreads(InstrumentedQueuedThreadPool.scala:47)\n",
       "\tat com.databricks.rpc.InstrumentedQueuedThreadPool$$anon$1.run(InstrumentedQueuedThreadPool.scala:86)\n",
       "\tat org.eclipse.jetty.util.thread.QueuedThreadPool.runJob(QueuedThreadPool.java:883)\n",
       "\tat org.eclipse.jetty.util.thread.QueuedThreadPool$Runner.run(QueuedThreadPool.java:1034)\n",
       "\tat java.lang.Thread.run(Thread.java:750)"
      ]
     },
     "metadata": {
      "application/vnd.databricks.v1+output": {
       "addedWidgets": {},
       "arguments": {},
       "datasetInfos": [],
       "jupyterProps": null,
       "metadata": {
        "errorSummary": "Command skipped"
       },
       "removedWidgets": [],
       "sqlProps": null,
       "stackFrames": [
        "com.databricks.backend.common.rpc.CommandSkippedException",
        "\tat com.databricks.spark.chauffeur.SequenceExecutionState.$anonfun$cancel$3(SequenceExecutionState.scala:138)",
        "\tat com.databricks.spark.chauffeur.SequenceExecutionState.$anonfun$cancel$3$adapted(SequenceExecutionState.scala:133)",
        "\tat scala.collection.immutable.Range.foreach(Range.scala:158)",
        "\tat com.databricks.spark.chauffeur.SequenceExecutionState.cancel(SequenceExecutionState.scala:133)",
        "\tat com.databricks.spark.chauffeur.ExecContextState.cancelRunningSequence(ExecContextState.scala:730)",
        "\tat com.databricks.spark.chauffeur.ExecContextState.$anonfun$cancel$1(ExecContextState.scala:448)",
        "\tat scala.Option.getOrElse(Option.scala:189)",
        "\tat com.databricks.spark.chauffeur.ExecContextState.cancel(ExecContextState.scala:448)",
        "\tat com.databricks.spark.chauffeur.ChauffeurState.cancelExecution(ChauffeurState.scala:1315)",
        "\tat com.databricks.spark.chauffeur.ChauffeurState.$anonfun$process$1(ChauffeurState.scala:1032)",
        "\tat com.databricks.logging.UsageLogging.$anonfun$recordOperation$1(UsageLogging.scala:573)",
        "\tat com.databricks.logging.UsageLogging.executeThunkAndCaptureResultTags$1(UsageLogging.scala:669)",
        "\tat com.databricks.logging.UsageLogging.$anonfun$recordOperationWithResultTags$4(UsageLogging.scala:687)",
        "\tat com.databricks.logging.UsageLogging.$anonfun$withAttributionContext$1(UsageLogging.scala:426)",
        "\tat scala.util.DynamicVariable.withValue(DynamicVariable.scala:62)",
        "\tat com.databricks.logging.AttributionContext$.withValue(AttributionContext.scala:216)",
        "\tat com.databricks.logging.UsageLogging.withAttributionContext(UsageLogging.scala:424)",
        "\tat com.databricks.logging.UsageLogging.withAttributionContext$(UsageLogging.scala:418)",
        "\tat com.databricks.spark.chauffeur.ChauffeurState.withAttributionContext(ChauffeurState.scala:74)",
        "\tat com.databricks.logging.UsageLogging.withAttributionTags(UsageLogging.scala:472)",
        "\tat com.databricks.logging.UsageLogging.withAttributionTags$(UsageLogging.scala:455)",
        "\tat com.databricks.spark.chauffeur.ChauffeurState.withAttributionTags(ChauffeurState.scala:74)",
        "\tat com.databricks.logging.UsageLogging.recordOperationWithResultTags(UsageLogging.scala:664)",
        "\tat com.databricks.logging.UsageLogging.recordOperationWithResultTags$(UsageLogging.scala:582)",
        "\tat com.databricks.spark.chauffeur.ChauffeurState.recordOperationWithResultTags(ChauffeurState.scala:74)",
        "\tat com.databricks.logging.UsageLogging.recordOperation(UsageLogging.scala:573)",
        "\tat com.databricks.logging.UsageLogging.recordOperation$(UsageLogging.scala:542)",
        "\tat com.databricks.spark.chauffeur.ChauffeurState.recordOperation(ChauffeurState.scala:74)",
        "\tat com.databricks.spark.chauffeur.ChauffeurState.process(ChauffeurState.scala:993)",
        "\tat com.databricks.spark.chauffeur.Chauffeur$$anon$1$$anonfun$receive$1.handleDriverRequest$1(Chauffeur.scala:815)",
        "\tat com.databricks.spark.chauffeur.Chauffeur$$anon$1$$anonfun$receive$1.$anonfun$applyOrElse$5(Chauffeur.scala:841)",
        "\tat com.databricks.logging.UsageLogging.executeThunkAndCaptureResultTags$1(UsageLogging.scala:669)",
        "\tat com.databricks.logging.UsageLogging.$anonfun$recordOperationWithResultTags$4(UsageLogging.scala:687)",
        "\tat com.databricks.logging.UsageLogging.$anonfun$withAttributionContext$1(UsageLogging.scala:426)",
        "\tat scala.util.DynamicVariable.withValue(DynamicVariable.scala:62)",
        "\tat com.databricks.logging.AttributionContext$.withValue(AttributionContext.scala:216)",
        "\tat com.databricks.logging.UsageLogging.withAttributionContext(UsageLogging.scala:424)",
        "\tat com.databricks.logging.UsageLogging.withAttributionContext$(UsageLogging.scala:418)",
        "\tat com.databricks.rpc.ServerBackend.withAttributionContext(ServerBackend.scala:22)",
        "\tat com.databricks.logging.UsageLogging.withAttributionTags(UsageLogging.scala:472)",
        "\tat com.databricks.logging.UsageLogging.withAttributionTags$(UsageLogging.scala:455)",
        "\tat com.databricks.rpc.ServerBackend.withAttributionTags(ServerBackend.scala:22)",
        "\tat com.databricks.logging.UsageLogging.recordOperationWithResultTags(UsageLogging.scala:664)",
        "\tat com.databricks.logging.UsageLogging.recordOperationWithResultTags$(UsageLogging.scala:582)",
        "\tat com.databricks.rpc.ServerBackend.recordOperationWithResultTags(ServerBackend.scala:22)",
        "\tat com.databricks.spark.chauffeur.Chauffeur$$anon$1$$anonfun$receive$1.handleDriverRequestWithUsageLogging$1(Chauffeur.scala:840)",
        "\tat com.databricks.spark.chauffeur.Chauffeur$$anon$1$$anonfun$receive$1.applyOrElse(Chauffeur.scala:895)",
        "\tat com.databricks.spark.chauffeur.Chauffeur$$anon$1$$anonfun$receive$1.applyOrElse(Chauffeur.scala:688)",
        "\tat com.databricks.rpc.ServerBackend.$anonfun$internalReceive0$2(ServerBackend.scala:174)",
        "\tat com.databricks.rpc.ServerBackend$$anonfun$commonReceive$1.applyOrElse(ServerBackend.scala:200)",
        "\tat com.databricks.rpc.ServerBackend$$anonfun$commonReceive$1.applyOrElse(ServerBackend.scala:200)",
        "\tat com.databricks.rpc.ServerBackend.internalReceive0(ServerBackend.scala:171)",
        "\tat com.databricks.rpc.ServerBackend.$anonfun$internalReceive$1(ServerBackend.scala:147)",
        "\tat com.databricks.logging.UsageLogging.$anonfun$recordOperation$1(UsageLogging.scala:573)",
        "\tat com.databricks.logging.UsageLogging.executeThunkAndCaptureResultTags$1(UsageLogging.scala:669)",
        "\tat com.databricks.logging.UsageLogging.$anonfun$recordOperationWithResultTags$4(UsageLogging.scala:687)",
        "\tat com.databricks.logging.UsageLogging.$anonfun$withAttributionContext$1(UsageLogging.scala:426)",
        "\tat scala.util.DynamicVariable.withValue(DynamicVariable.scala:62)",
        "\tat com.databricks.logging.AttributionContext$.withValue(AttributionContext.scala:216)",
        "\tat com.databricks.logging.UsageLogging.withAttributionContext(UsageLogging.scala:424)",
        "\tat com.databricks.logging.UsageLogging.withAttributionContext$(UsageLogging.scala:418)",
        "\tat com.databricks.rpc.ServerBackend.withAttributionContext(ServerBackend.scala:22)",
        "\tat com.databricks.logging.UsageLogging.withAttributionTags(UsageLogging.scala:472)",
        "\tat com.databricks.logging.UsageLogging.withAttributionTags$(UsageLogging.scala:455)",
        "\tat com.databricks.rpc.ServerBackend.withAttributionTags(ServerBackend.scala:22)",
        "\tat com.databricks.logging.UsageLogging.recordOperationWithResultTags(UsageLogging.scala:664)",
        "\tat com.databricks.logging.UsageLogging.recordOperationWithResultTags$(UsageLogging.scala:582)",
        "\tat com.databricks.rpc.ServerBackend.recordOperationWithResultTags(ServerBackend.scala:22)",
        "\tat com.databricks.logging.UsageLogging.recordOperation(UsageLogging.scala:573)",
        "\tat com.databricks.logging.UsageLogging.recordOperation$(UsageLogging.scala:542)",
        "\tat com.databricks.rpc.ServerBackend.recordOperation(ServerBackend.scala:22)",
        "\tat com.databricks.rpc.ServerBackend.internalReceive(ServerBackend.scala:147)",
        "\tat com.databricks.rpc.JettyServer$RequestManager.handleRPC(JettyServer.scala:1020)",
        "\tat com.databricks.rpc.JettyServer$RequestManager.handleRequestAndRespond(JettyServer.scala:941)",
        "\tat com.databricks.rpc.JettyServer$RequestManager.$anonfun$handleHttp$6(JettyServer.scala:545)",
        "\tat com.databricks.rpc.JettyServer$RequestManager.$anonfun$handleHttp$6$adapted(JettyServer.scala:514)",
        "\tat com.databricks.logging.activity.ActivityContextFactory$.$anonfun$withActivityInternal$4(ActivityContextFactory.scala:405)",
        "\tat com.databricks.logging.UsageLogging.$anonfun$withAttributionContext$1(UsageLogging.scala:426)",
        "\tat scala.util.DynamicVariable.withValue(DynamicVariable.scala:62)",
        "\tat com.databricks.logging.AttributionContext$.withValue(AttributionContext.scala:216)",
        "\tat com.databricks.logging.UsageLogging.withAttributionContext(UsageLogging.scala:424)",
        "\tat com.databricks.logging.UsageLogging.withAttributionContext$(UsageLogging.scala:418)",
        "\tat com.databricks.logging.activity.ActivityContextFactory$.withAttributionContext(ActivityContextFactory.scala:58)",
        "\tat com.databricks.logging.activity.ActivityContextFactory$.$anonfun$withActivityInternal$1(ActivityContextFactory.scala:405)",
        "\tat com.databricks.context.integrity.IntegrityCheckContext$ThreadLocalStorage$.withValue(IntegrityCheckContext.scala:44)",
        "\tat com.databricks.logging.activity.ActivityContextFactory$.withActivityInternal(ActivityContextFactory.scala:380)",
        "\tat com.databricks.logging.activity.ActivityContextFactory$.withServiceRequestActivity(ActivityContextFactory.scala:159)",
        "\tat com.databricks.rpc.JettyServer$RequestManager.handleHttp(JettyServer.scala:514)",
        "\tat com.databricks.rpc.JettyServer$RequestManager.doPost(JettyServer.scala:404)",
        "\tat javax.servlet.http.HttpServlet.service(HttpServlet.java:665)",
        "\tat com.databricks.rpc.HttpServletWithPatch.service(HttpServletWithPatch.scala:33)",
        "\tat javax.servlet.http.HttpServlet.service(HttpServlet.java:750)",
        "\tat org.eclipse.jetty.servlet.ServletHolder.handle(ServletHolder.java:799)",
        "\tat org.eclipse.jetty.servlet.ServletHandler.doHandle(ServletHandler.java:554)",
        "\tat org.eclipse.jetty.server.handler.ScopedHandler.nextScope(ScopedHandler.java:190)",
        "\tat org.eclipse.jetty.servlet.ServletHandler.doScope(ServletHandler.java:505)",
        "\tat org.eclipse.jetty.server.handler.ScopedHandler.handle(ScopedHandler.java:141)",
        "\tat org.eclipse.jetty.server.handler.HandlerWrapper.handle(HandlerWrapper.java:127)",
        "\tat org.eclipse.jetty.server.Server.handle(Server.java:516)",
        "\tat org.eclipse.jetty.server.HttpChannel.lambda$handle$1(HttpChannel.java:487)",
        "\tat org.eclipse.jetty.server.HttpChannel.dispatch(HttpChannel.java:732)",
        "\tat org.eclipse.jetty.server.HttpChannel.handle(HttpChannel.java:479)",
        "\tat org.eclipse.jetty.server.HttpConnection.onFillable(HttpConnection.java:277)",
        "\tat org.eclipse.jetty.io.AbstractConnection$ReadCallback.succeeded(AbstractConnection.java:311)",
        "\tat org.eclipse.jetty.io.FillInterest.fillable(FillInterest.java:105)",
        "\tat org.eclipse.jetty.io.ssl.SslConnection$DecryptedEndPoint.onFillable(SslConnection.java:555)",
        "\tat org.eclipse.jetty.io.ssl.SslConnection.onFillable(SslConnection.java:410)",
        "\tat org.eclipse.jetty.io.ssl.SslConnection$2.succeeded(SslConnection.java:164)",
        "\tat org.eclipse.jetty.io.FillInterest.fillable(FillInterest.java:105)",
        "\tat org.eclipse.jetty.io.ChannelEndPoint$1.run(ChannelEndPoint.java:104)",
        "\tat org.eclipse.jetty.util.thread.strategy.EatWhatYouKill.runTask(EatWhatYouKill.java:338)",
        "\tat org.eclipse.jetty.util.thread.strategy.EatWhatYouKill.doProduce(EatWhatYouKill.java:315)",
        "\tat org.eclipse.jetty.util.thread.strategy.EatWhatYouKill.tryProduce(EatWhatYouKill.java:173)",
        "\tat org.eclipse.jetty.util.thread.strategy.EatWhatYouKill.run(EatWhatYouKill.java:131)",
        "\tat org.eclipse.jetty.util.thread.ReservedThreadExecutor$ReservedThread.run(ReservedThreadExecutor.java:409)",
        "\tat com.databricks.rpc.InstrumentedQueuedThreadPool$$anon$1.$anonfun$run$4(InstrumentedQueuedThreadPool.scala:104)",
        "\tat scala.runtime.java8.JFunction0$mcV$sp.apply(JFunction0$mcV$sp.java:23)",
        "\tat com.databricks.logging.UsageLogging.withAttributionContext(UsageLogging.scala:420)",
        "\tat com.databricks.logging.UsageLogging.withAttributionContext$(UsageLogging.scala:418)",
        "\tat com.databricks.rpc.InstrumentedQueuedThreadPool.withAttributionContext(InstrumentedQueuedThreadPool.scala:47)",
        "\tat com.databricks.rpc.InstrumentedQueuedThreadPool$$anon$1.$anonfun$run$1(InstrumentedQueuedThreadPool.scala:104)",
        "\tat scala.runtime.java8.JFunction0$mcV$sp.apply(JFunction0$mcV$sp.java:23)",
        "\tat com.databricks.instrumentation.QueuedThreadPoolInstrumenter.trackActiveThreads(QueuedThreadPoolInstrumenter.scala:66)",
        "\tat com.databricks.instrumentation.QueuedThreadPoolInstrumenter.trackActiveThreads$(QueuedThreadPoolInstrumenter.scala:63)",
        "\tat com.databricks.rpc.InstrumentedQueuedThreadPool.trackActiveThreads(InstrumentedQueuedThreadPool.scala:47)",
        "\tat com.databricks.rpc.InstrumentedQueuedThreadPool$$anon$1.run(InstrumentedQueuedThreadPool.scala:86)",
        "\tat org.eclipse.jetty.util.thread.QueuedThreadPool.runJob(QueuedThreadPool.java:883)",
        "\tat org.eclipse.jetty.util.thread.QueuedThreadPool$Runner.run(QueuedThreadPool.java:1034)",
        "\tat java.lang.Thread.run(Thread.java:750)"
       ],
       "type": "baseError"
      }
     },
     "output_type": "display_data"
    }
   ],
   "source": [
    "a[::-1]*0.01"
   ]
  },
  {
   "cell_type": "code",
   "execution_count": 0,
   "metadata": {
    "application/vnd.databricks.v1+cell": {
     "cellMetadata": {
      "byteLimit": 2048000,
      "rowLimit": 10000
     },
     "inputWidgets": {},
     "nuid": "ac1b10d8-8fab-469e-81a1-5343be72e2e5",
     "showTitle": false,
     "tableResultSettingsMap": {},
     "title": ""
    }
   },
   "outputs": [
    {
     "output_type": "display_data",
     "data": {
      "text/plain": [
       "com.databricks.backend.common.rpc.CommandSkippedException\n",
       "\tat com.databricks.spark.chauffeur.SequenceExecutionState.$anonfun$cancel$3(SequenceExecutionState.scala:138)\n",
       "\tat com.databricks.spark.chauffeur.SequenceExecutionState.$anonfun$cancel$3$adapted(SequenceExecutionState.scala:133)\n",
       "\tat scala.collection.immutable.Range.foreach(Range.scala:158)\n",
       "\tat com.databricks.spark.chauffeur.SequenceExecutionState.cancel(SequenceExecutionState.scala:133)\n",
       "\tat com.databricks.spark.chauffeur.ExecContextState.cancelRunningSequence(ExecContextState.scala:730)\n",
       "\tat com.databricks.spark.chauffeur.ExecContextState.$anonfun$cancel$1(ExecContextState.scala:448)\n",
       "\tat scala.Option.getOrElse(Option.scala:189)\n",
       "\tat com.databricks.spark.chauffeur.ExecContextState.cancel(ExecContextState.scala:448)\n",
       "\tat com.databricks.spark.chauffeur.ChauffeurState.cancelExecution(ChauffeurState.scala:1315)\n",
       "\tat com.databricks.spark.chauffeur.ChauffeurState.$anonfun$process$1(ChauffeurState.scala:1032)\n",
       "\tat com.databricks.logging.UsageLogging.$anonfun$recordOperation$1(UsageLogging.scala:573)\n",
       "\tat com.databricks.logging.UsageLogging.executeThunkAndCaptureResultTags$1(UsageLogging.scala:669)\n",
       "\tat com.databricks.logging.UsageLogging.$anonfun$recordOperationWithResultTags$4(UsageLogging.scala:687)\n",
       "\tat com.databricks.logging.UsageLogging.$anonfun$withAttributionContext$1(UsageLogging.scala:426)\n",
       "\tat scala.util.DynamicVariable.withValue(DynamicVariable.scala:62)\n",
       "\tat com.databricks.logging.AttributionContext$.withValue(AttributionContext.scala:216)\n",
       "\tat com.databricks.logging.UsageLogging.withAttributionContext(UsageLogging.scala:424)\n",
       "\tat com.databricks.logging.UsageLogging.withAttributionContext$(UsageLogging.scala:418)\n",
       "\tat com.databricks.spark.chauffeur.ChauffeurState.withAttributionContext(ChauffeurState.scala:74)\n",
       "\tat com.databricks.logging.UsageLogging.withAttributionTags(UsageLogging.scala:472)\n",
       "\tat com.databricks.logging.UsageLogging.withAttributionTags$(UsageLogging.scala:455)\n",
       "\tat com.databricks.spark.chauffeur.ChauffeurState.withAttributionTags(ChauffeurState.scala:74)\n",
       "\tat com.databricks.logging.UsageLogging.recordOperationWithResultTags(UsageLogging.scala:664)\n",
       "\tat com.databricks.logging.UsageLogging.recordOperationWithResultTags$(UsageLogging.scala:582)\n",
       "\tat com.databricks.spark.chauffeur.ChauffeurState.recordOperationWithResultTags(ChauffeurState.scala:74)\n",
       "\tat com.databricks.logging.UsageLogging.recordOperation(UsageLogging.scala:573)\n",
       "\tat com.databricks.logging.UsageLogging.recordOperation$(UsageLogging.scala:542)\n",
       "\tat com.databricks.spark.chauffeur.ChauffeurState.recordOperation(ChauffeurState.scala:74)\n",
       "\tat com.databricks.spark.chauffeur.ChauffeurState.process(ChauffeurState.scala:993)\n",
       "\tat com.databricks.spark.chauffeur.Chauffeur$$anon$1$$anonfun$receive$1.handleDriverRequest$1(Chauffeur.scala:815)\n",
       "\tat com.databricks.spark.chauffeur.Chauffeur$$anon$1$$anonfun$receive$1.$anonfun$applyOrElse$5(Chauffeur.scala:841)\n",
       "\tat com.databricks.logging.UsageLogging.executeThunkAndCaptureResultTags$1(UsageLogging.scala:669)\n",
       "\tat com.databricks.logging.UsageLogging.$anonfun$recordOperationWithResultTags$4(UsageLogging.scala:687)\n",
       "\tat com.databricks.logging.UsageLogging.$anonfun$withAttributionContext$1(UsageLogging.scala:426)\n",
       "\tat scala.util.DynamicVariable.withValue(DynamicVariable.scala:62)\n",
       "\tat com.databricks.logging.AttributionContext$.withValue(AttributionContext.scala:216)\n",
       "\tat com.databricks.logging.UsageLogging.withAttributionContext(UsageLogging.scala:424)\n",
       "\tat com.databricks.logging.UsageLogging.withAttributionContext$(UsageLogging.scala:418)\n",
       "\tat com.databricks.rpc.ServerBackend.withAttributionContext(ServerBackend.scala:22)\n",
       "\tat com.databricks.logging.UsageLogging.withAttributionTags(UsageLogging.scala:472)\n",
       "\tat com.databricks.logging.UsageLogging.withAttributionTags$(UsageLogging.scala:455)\n",
       "\tat com.databricks.rpc.ServerBackend.withAttributionTags(ServerBackend.scala:22)\n",
       "\tat com.databricks.logging.UsageLogging.recordOperationWithResultTags(UsageLogging.scala:664)\n",
       "\tat com.databricks.logging.UsageLogging.recordOperationWithResultTags$(UsageLogging.scala:582)\n",
       "\tat com.databricks.rpc.ServerBackend.recordOperationWithResultTags(ServerBackend.scala:22)\n",
       "\tat com.databricks.spark.chauffeur.Chauffeur$$anon$1$$anonfun$receive$1.handleDriverRequestWithUsageLogging$1(Chauffeur.scala:840)\n",
       "\tat com.databricks.spark.chauffeur.Chauffeur$$anon$1$$anonfun$receive$1.applyOrElse(Chauffeur.scala:895)\n",
       "\tat com.databricks.spark.chauffeur.Chauffeur$$anon$1$$anonfun$receive$1.applyOrElse(Chauffeur.scala:688)\n",
       "\tat com.databricks.rpc.ServerBackend.$anonfun$internalReceive0$2(ServerBackend.scala:174)\n",
       "\tat com.databricks.rpc.ServerBackend$$anonfun$commonReceive$1.applyOrElse(ServerBackend.scala:200)\n",
       "\tat com.databricks.rpc.ServerBackend$$anonfun$commonReceive$1.applyOrElse(ServerBackend.scala:200)\n",
       "\tat com.databricks.rpc.ServerBackend.internalReceive0(ServerBackend.scala:171)\n",
       "\tat com.databricks.rpc.ServerBackend.$anonfun$internalReceive$1(ServerBackend.scala:147)\n",
       "\tat com.databricks.logging.UsageLogging.$anonfun$recordOperation$1(UsageLogging.scala:573)\n",
       "\tat com.databricks.logging.UsageLogging.executeThunkAndCaptureResultTags$1(UsageLogging.scala:669)\n",
       "\tat com.databricks.logging.UsageLogging.$anonfun$recordOperationWithResultTags$4(UsageLogging.scala:687)\n",
       "\tat com.databricks.logging.UsageLogging.$anonfun$withAttributionContext$1(UsageLogging.scala:426)\n",
       "\tat scala.util.DynamicVariable.withValue(DynamicVariable.scala:62)\n",
       "\tat com.databricks.logging.AttributionContext$.withValue(AttributionContext.scala:216)\n",
       "\tat com.databricks.logging.UsageLogging.withAttributionContext(UsageLogging.scala:424)\n",
       "\tat com.databricks.logging.UsageLogging.withAttributionContext$(UsageLogging.scala:418)\n",
       "\tat com.databricks.rpc.ServerBackend.withAttributionContext(ServerBackend.scala:22)\n",
       "\tat com.databricks.logging.UsageLogging.withAttributionTags(UsageLogging.scala:472)\n",
       "\tat com.databricks.logging.UsageLogging.withAttributionTags$(UsageLogging.scala:455)\n",
       "\tat com.databricks.rpc.ServerBackend.withAttributionTags(ServerBackend.scala:22)\n",
       "\tat com.databricks.logging.UsageLogging.recordOperationWithResultTags(UsageLogging.scala:664)\n",
       "\tat com.databricks.logging.UsageLogging.recordOperationWithResultTags$(UsageLogging.scala:582)\n",
       "\tat com.databricks.rpc.ServerBackend.recordOperationWithResultTags(ServerBackend.scala:22)\n",
       "\tat com.databricks.logging.UsageLogging.recordOperation(UsageLogging.scala:573)\n",
       "\tat com.databricks.logging.UsageLogging.recordOperation$(UsageLogging.scala:542)\n",
       "\tat com.databricks.rpc.ServerBackend.recordOperation(ServerBackend.scala:22)\n",
       "\tat com.databricks.rpc.ServerBackend.internalReceive(ServerBackend.scala:147)\n",
       "\tat com.databricks.rpc.JettyServer$RequestManager.handleRPC(JettyServer.scala:1020)\n",
       "\tat com.databricks.rpc.JettyServer$RequestManager.handleRequestAndRespond(JettyServer.scala:941)\n",
       "\tat com.databricks.rpc.JettyServer$RequestManager.$anonfun$handleHttp$6(JettyServer.scala:545)\n",
       "\tat com.databricks.rpc.JettyServer$RequestManager.$anonfun$handleHttp$6$adapted(JettyServer.scala:514)\n",
       "\tat com.databricks.logging.activity.ActivityContextFactory$.$anonfun$withActivityInternal$4(ActivityContextFactory.scala:405)\n",
       "\tat com.databricks.logging.UsageLogging.$anonfun$withAttributionContext$1(UsageLogging.scala:426)\n",
       "\tat scala.util.DynamicVariable.withValue(DynamicVariable.scala:62)\n",
       "\tat com.databricks.logging.AttributionContext$.withValue(AttributionContext.scala:216)\n",
       "\tat com.databricks.logging.UsageLogging.withAttributionContext(UsageLogging.scala:424)\n",
       "\tat com.databricks.logging.UsageLogging.withAttributionContext$(UsageLogging.scala:418)\n",
       "\tat com.databricks.logging.activity.ActivityContextFactory$.withAttributionContext(ActivityContextFactory.scala:58)\n",
       "\tat com.databricks.logging.activity.ActivityContextFactory$.$anonfun$withActivityInternal$1(ActivityContextFactory.scala:405)\n",
       "\tat com.databricks.context.integrity.IntegrityCheckContext$ThreadLocalStorage$.withValue(IntegrityCheckContext.scala:44)\n",
       "\tat com.databricks.logging.activity.ActivityContextFactory$.withActivityInternal(ActivityContextFactory.scala:380)\n",
       "\tat com.databricks.logging.activity.ActivityContextFactory$.withServiceRequestActivity(ActivityContextFactory.scala:159)\n",
       "\tat com.databricks.rpc.JettyServer$RequestManager.handleHttp(JettyServer.scala:514)\n",
       "\tat com.databricks.rpc.JettyServer$RequestManager.doPost(JettyServer.scala:404)\n",
       "\tat javax.servlet.http.HttpServlet.service(HttpServlet.java:665)\n",
       "\tat com.databricks.rpc.HttpServletWithPatch.service(HttpServletWithPatch.scala:33)\n",
       "\tat javax.servlet.http.HttpServlet.service(HttpServlet.java:750)\n",
       "\tat org.eclipse.jetty.servlet.ServletHolder.handle(ServletHolder.java:799)\n",
       "\tat org.eclipse.jetty.servlet.ServletHandler.doHandle(ServletHandler.java:554)\n",
       "\tat org.eclipse.jetty.server.handler.ScopedHandler.nextScope(ScopedHandler.java:190)\n",
       "\tat org.eclipse.jetty.servlet.ServletHandler.doScope(ServletHandler.java:505)\n",
       "\tat org.eclipse.jetty.server.handler.ScopedHandler.handle(ScopedHandler.java:141)\n",
       "\tat org.eclipse.jetty.server.handler.HandlerWrapper.handle(HandlerWrapper.java:127)\n",
       "\tat org.eclipse.jetty.server.Server.handle(Server.java:516)\n",
       "\tat org.eclipse.jetty.server.HttpChannel.lambda$handle$1(HttpChannel.java:487)\n",
       "\tat org.eclipse.jetty.server.HttpChannel.dispatch(HttpChannel.java:732)\n",
       "\tat org.eclipse.jetty.server.HttpChannel.handle(HttpChannel.java:479)\n",
       "\tat org.eclipse.jetty.server.HttpConnection.onFillable(HttpConnection.java:277)\n",
       "\tat org.eclipse.jetty.io.AbstractConnection$ReadCallback.succeeded(AbstractConnection.java:311)\n",
       "\tat org.eclipse.jetty.io.FillInterest.fillable(FillInterest.java:105)\n",
       "\tat org.eclipse.jetty.io.ssl.SslConnection$DecryptedEndPoint.onFillable(SslConnection.java:555)\n",
       "\tat org.eclipse.jetty.io.ssl.SslConnection.onFillable(SslConnection.java:410)\n",
       "\tat org.eclipse.jetty.io.ssl.SslConnection$2.succeeded(SslConnection.java:164)\n",
       "\tat org.eclipse.jetty.io.FillInterest.fillable(FillInterest.java:105)\n",
       "\tat org.eclipse.jetty.io.ChannelEndPoint$1.run(ChannelEndPoint.java:104)\n",
       "\tat org.eclipse.jetty.util.thread.strategy.EatWhatYouKill.runTask(EatWhatYouKill.java:338)\n",
       "\tat org.eclipse.jetty.util.thread.strategy.EatWhatYouKill.doProduce(EatWhatYouKill.java:315)\n",
       "\tat org.eclipse.jetty.util.thread.strategy.EatWhatYouKill.tryProduce(EatWhatYouKill.java:173)\n",
       "\tat org.eclipse.jetty.util.thread.strategy.EatWhatYouKill.run(EatWhatYouKill.java:131)\n",
       "\tat org.eclipse.jetty.util.thread.ReservedThreadExecutor$ReservedThread.run(ReservedThreadExecutor.java:409)\n",
       "\tat com.databricks.rpc.InstrumentedQueuedThreadPool$$anon$1.$anonfun$run$4(InstrumentedQueuedThreadPool.scala:104)\n",
       "\tat scala.runtime.java8.JFunction0$mcV$sp.apply(JFunction0$mcV$sp.java:23)\n",
       "\tat com.databricks.logging.UsageLogging.withAttributionContext(UsageLogging.scala:420)\n",
       "\tat com.databricks.logging.UsageLogging.withAttributionContext$(UsageLogging.scala:418)\n",
       "\tat com.databricks.rpc.InstrumentedQueuedThreadPool.withAttributionContext(InstrumentedQueuedThreadPool.scala:47)\n",
       "\tat com.databricks.rpc.InstrumentedQueuedThreadPool$$anon$1.$anonfun$run$1(InstrumentedQueuedThreadPool.scala:104)\n",
       "\tat scala.runtime.java8.JFunction0$mcV$sp.apply(JFunction0$mcV$sp.java:23)\n",
       "\tat com.databricks.instrumentation.QueuedThreadPoolInstrumenter.trackActiveThreads(QueuedThreadPoolInstrumenter.scala:66)\n",
       "\tat com.databricks.instrumentation.QueuedThreadPoolInstrumenter.trackActiveThreads$(QueuedThreadPoolInstrumenter.scala:63)\n",
       "\tat com.databricks.rpc.InstrumentedQueuedThreadPool.trackActiveThreads(InstrumentedQueuedThreadPool.scala:47)\n",
       "\tat com.databricks.rpc.InstrumentedQueuedThreadPool$$anon$1.run(InstrumentedQueuedThreadPool.scala:86)\n",
       "\tat org.eclipse.jetty.util.thread.QueuedThreadPool.runJob(QueuedThreadPool.java:883)\n",
       "\tat org.eclipse.jetty.util.thread.QueuedThreadPool$Runner.run(QueuedThreadPool.java:1034)\n",
       "\tat java.lang.Thread.run(Thread.java:750)"
      ]
     },
     "metadata": {
      "application/vnd.databricks.v1+output": {
       "addedWidgets": {},
       "arguments": {},
       "datasetInfos": [],
       "jupyterProps": null,
       "metadata": {
        "errorSummary": "Command skipped"
       },
       "removedWidgets": [],
       "sqlProps": null,
       "stackFrames": [
        "com.databricks.backend.common.rpc.CommandSkippedException",
        "\tat com.databricks.spark.chauffeur.SequenceExecutionState.$anonfun$cancel$3(SequenceExecutionState.scala:138)",
        "\tat com.databricks.spark.chauffeur.SequenceExecutionState.$anonfun$cancel$3$adapted(SequenceExecutionState.scala:133)",
        "\tat scala.collection.immutable.Range.foreach(Range.scala:158)",
        "\tat com.databricks.spark.chauffeur.SequenceExecutionState.cancel(SequenceExecutionState.scala:133)",
        "\tat com.databricks.spark.chauffeur.ExecContextState.cancelRunningSequence(ExecContextState.scala:730)",
        "\tat com.databricks.spark.chauffeur.ExecContextState.$anonfun$cancel$1(ExecContextState.scala:448)",
        "\tat scala.Option.getOrElse(Option.scala:189)",
        "\tat com.databricks.spark.chauffeur.ExecContextState.cancel(ExecContextState.scala:448)",
        "\tat com.databricks.spark.chauffeur.ChauffeurState.cancelExecution(ChauffeurState.scala:1315)",
        "\tat com.databricks.spark.chauffeur.ChauffeurState.$anonfun$process$1(ChauffeurState.scala:1032)",
        "\tat com.databricks.logging.UsageLogging.$anonfun$recordOperation$1(UsageLogging.scala:573)",
        "\tat com.databricks.logging.UsageLogging.executeThunkAndCaptureResultTags$1(UsageLogging.scala:669)",
        "\tat com.databricks.logging.UsageLogging.$anonfun$recordOperationWithResultTags$4(UsageLogging.scala:687)",
        "\tat com.databricks.logging.UsageLogging.$anonfun$withAttributionContext$1(UsageLogging.scala:426)",
        "\tat scala.util.DynamicVariable.withValue(DynamicVariable.scala:62)",
        "\tat com.databricks.logging.AttributionContext$.withValue(AttributionContext.scala:216)",
        "\tat com.databricks.logging.UsageLogging.withAttributionContext(UsageLogging.scala:424)",
        "\tat com.databricks.logging.UsageLogging.withAttributionContext$(UsageLogging.scala:418)",
        "\tat com.databricks.spark.chauffeur.ChauffeurState.withAttributionContext(ChauffeurState.scala:74)",
        "\tat com.databricks.logging.UsageLogging.withAttributionTags(UsageLogging.scala:472)",
        "\tat com.databricks.logging.UsageLogging.withAttributionTags$(UsageLogging.scala:455)",
        "\tat com.databricks.spark.chauffeur.ChauffeurState.withAttributionTags(ChauffeurState.scala:74)",
        "\tat com.databricks.logging.UsageLogging.recordOperationWithResultTags(UsageLogging.scala:664)",
        "\tat com.databricks.logging.UsageLogging.recordOperationWithResultTags$(UsageLogging.scala:582)",
        "\tat com.databricks.spark.chauffeur.ChauffeurState.recordOperationWithResultTags(ChauffeurState.scala:74)",
        "\tat com.databricks.logging.UsageLogging.recordOperation(UsageLogging.scala:573)",
        "\tat com.databricks.logging.UsageLogging.recordOperation$(UsageLogging.scala:542)",
        "\tat com.databricks.spark.chauffeur.ChauffeurState.recordOperation(ChauffeurState.scala:74)",
        "\tat com.databricks.spark.chauffeur.ChauffeurState.process(ChauffeurState.scala:993)",
        "\tat com.databricks.spark.chauffeur.Chauffeur$$anon$1$$anonfun$receive$1.handleDriverRequest$1(Chauffeur.scala:815)",
        "\tat com.databricks.spark.chauffeur.Chauffeur$$anon$1$$anonfun$receive$1.$anonfun$applyOrElse$5(Chauffeur.scala:841)",
        "\tat com.databricks.logging.UsageLogging.executeThunkAndCaptureResultTags$1(UsageLogging.scala:669)",
        "\tat com.databricks.logging.UsageLogging.$anonfun$recordOperationWithResultTags$4(UsageLogging.scala:687)",
        "\tat com.databricks.logging.UsageLogging.$anonfun$withAttributionContext$1(UsageLogging.scala:426)",
        "\tat scala.util.DynamicVariable.withValue(DynamicVariable.scala:62)",
        "\tat com.databricks.logging.AttributionContext$.withValue(AttributionContext.scala:216)",
        "\tat com.databricks.logging.UsageLogging.withAttributionContext(UsageLogging.scala:424)",
        "\tat com.databricks.logging.UsageLogging.withAttributionContext$(UsageLogging.scala:418)",
        "\tat com.databricks.rpc.ServerBackend.withAttributionContext(ServerBackend.scala:22)",
        "\tat com.databricks.logging.UsageLogging.withAttributionTags(UsageLogging.scala:472)",
        "\tat com.databricks.logging.UsageLogging.withAttributionTags$(UsageLogging.scala:455)",
        "\tat com.databricks.rpc.ServerBackend.withAttributionTags(ServerBackend.scala:22)",
        "\tat com.databricks.logging.UsageLogging.recordOperationWithResultTags(UsageLogging.scala:664)",
        "\tat com.databricks.logging.UsageLogging.recordOperationWithResultTags$(UsageLogging.scala:582)",
        "\tat com.databricks.rpc.ServerBackend.recordOperationWithResultTags(ServerBackend.scala:22)",
        "\tat com.databricks.spark.chauffeur.Chauffeur$$anon$1$$anonfun$receive$1.handleDriverRequestWithUsageLogging$1(Chauffeur.scala:840)",
        "\tat com.databricks.spark.chauffeur.Chauffeur$$anon$1$$anonfun$receive$1.applyOrElse(Chauffeur.scala:895)",
        "\tat com.databricks.spark.chauffeur.Chauffeur$$anon$1$$anonfun$receive$1.applyOrElse(Chauffeur.scala:688)",
        "\tat com.databricks.rpc.ServerBackend.$anonfun$internalReceive0$2(ServerBackend.scala:174)",
        "\tat com.databricks.rpc.ServerBackend$$anonfun$commonReceive$1.applyOrElse(ServerBackend.scala:200)",
        "\tat com.databricks.rpc.ServerBackend$$anonfun$commonReceive$1.applyOrElse(ServerBackend.scala:200)",
        "\tat com.databricks.rpc.ServerBackend.internalReceive0(ServerBackend.scala:171)",
        "\tat com.databricks.rpc.ServerBackend.$anonfun$internalReceive$1(ServerBackend.scala:147)",
        "\tat com.databricks.logging.UsageLogging.$anonfun$recordOperation$1(UsageLogging.scala:573)",
        "\tat com.databricks.logging.UsageLogging.executeThunkAndCaptureResultTags$1(UsageLogging.scala:669)",
        "\tat com.databricks.logging.UsageLogging.$anonfun$recordOperationWithResultTags$4(UsageLogging.scala:687)",
        "\tat com.databricks.logging.UsageLogging.$anonfun$withAttributionContext$1(UsageLogging.scala:426)",
        "\tat scala.util.DynamicVariable.withValue(DynamicVariable.scala:62)",
        "\tat com.databricks.logging.AttributionContext$.withValue(AttributionContext.scala:216)",
        "\tat com.databricks.logging.UsageLogging.withAttributionContext(UsageLogging.scala:424)",
        "\tat com.databricks.logging.UsageLogging.withAttributionContext$(UsageLogging.scala:418)",
        "\tat com.databricks.rpc.ServerBackend.withAttributionContext(ServerBackend.scala:22)",
        "\tat com.databricks.logging.UsageLogging.withAttributionTags(UsageLogging.scala:472)",
        "\tat com.databricks.logging.UsageLogging.withAttributionTags$(UsageLogging.scala:455)",
        "\tat com.databricks.rpc.ServerBackend.withAttributionTags(ServerBackend.scala:22)",
        "\tat com.databricks.logging.UsageLogging.recordOperationWithResultTags(UsageLogging.scala:664)",
        "\tat com.databricks.logging.UsageLogging.recordOperationWithResultTags$(UsageLogging.scala:582)",
        "\tat com.databricks.rpc.ServerBackend.recordOperationWithResultTags(ServerBackend.scala:22)",
        "\tat com.databricks.logging.UsageLogging.recordOperation(UsageLogging.scala:573)",
        "\tat com.databricks.logging.UsageLogging.recordOperation$(UsageLogging.scala:542)",
        "\tat com.databricks.rpc.ServerBackend.recordOperation(ServerBackend.scala:22)",
        "\tat com.databricks.rpc.ServerBackend.internalReceive(ServerBackend.scala:147)",
        "\tat com.databricks.rpc.JettyServer$RequestManager.handleRPC(JettyServer.scala:1020)",
        "\tat com.databricks.rpc.JettyServer$RequestManager.handleRequestAndRespond(JettyServer.scala:941)",
        "\tat com.databricks.rpc.JettyServer$RequestManager.$anonfun$handleHttp$6(JettyServer.scala:545)",
        "\tat com.databricks.rpc.JettyServer$RequestManager.$anonfun$handleHttp$6$adapted(JettyServer.scala:514)",
        "\tat com.databricks.logging.activity.ActivityContextFactory$.$anonfun$withActivityInternal$4(ActivityContextFactory.scala:405)",
        "\tat com.databricks.logging.UsageLogging.$anonfun$withAttributionContext$1(UsageLogging.scala:426)",
        "\tat scala.util.DynamicVariable.withValue(DynamicVariable.scala:62)",
        "\tat com.databricks.logging.AttributionContext$.withValue(AttributionContext.scala:216)",
        "\tat com.databricks.logging.UsageLogging.withAttributionContext(UsageLogging.scala:424)",
        "\tat com.databricks.logging.UsageLogging.withAttributionContext$(UsageLogging.scala:418)",
        "\tat com.databricks.logging.activity.ActivityContextFactory$.withAttributionContext(ActivityContextFactory.scala:58)",
        "\tat com.databricks.logging.activity.ActivityContextFactory$.$anonfun$withActivityInternal$1(ActivityContextFactory.scala:405)",
        "\tat com.databricks.context.integrity.IntegrityCheckContext$ThreadLocalStorage$.withValue(IntegrityCheckContext.scala:44)",
        "\tat com.databricks.logging.activity.ActivityContextFactory$.withActivityInternal(ActivityContextFactory.scala:380)",
        "\tat com.databricks.logging.activity.ActivityContextFactory$.withServiceRequestActivity(ActivityContextFactory.scala:159)",
        "\tat com.databricks.rpc.JettyServer$RequestManager.handleHttp(JettyServer.scala:514)",
        "\tat com.databricks.rpc.JettyServer$RequestManager.doPost(JettyServer.scala:404)",
        "\tat javax.servlet.http.HttpServlet.service(HttpServlet.java:665)",
        "\tat com.databricks.rpc.HttpServletWithPatch.service(HttpServletWithPatch.scala:33)",
        "\tat javax.servlet.http.HttpServlet.service(HttpServlet.java:750)",
        "\tat org.eclipse.jetty.servlet.ServletHolder.handle(ServletHolder.java:799)",
        "\tat org.eclipse.jetty.servlet.ServletHandler.doHandle(ServletHandler.java:554)",
        "\tat org.eclipse.jetty.server.handler.ScopedHandler.nextScope(ScopedHandler.java:190)",
        "\tat org.eclipse.jetty.servlet.ServletHandler.doScope(ServletHandler.java:505)",
        "\tat org.eclipse.jetty.server.handler.ScopedHandler.handle(ScopedHandler.java:141)",
        "\tat org.eclipse.jetty.server.handler.HandlerWrapper.handle(HandlerWrapper.java:127)",
        "\tat org.eclipse.jetty.server.Server.handle(Server.java:516)",
        "\tat org.eclipse.jetty.server.HttpChannel.lambda$handle$1(HttpChannel.java:487)",
        "\tat org.eclipse.jetty.server.HttpChannel.dispatch(HttpChannel.java:732)",
        "\tat org.eclipse.jetty.server.HttpChannel.handle(HttpChannel.java:479)",
        "\tat org.eclipse.jetty.server.HttpConnection.onFillable(HttpConnection.java:277)",
        "\tat org.eclipse.jetty.io.AbstractConnection$ReadCallback.succeeded(AbstractConnection.java:311)",
        "\tat org.eclipse.jetty.io.FillInterest.fillable(FillInterest.java:105)",
        "\tat org.eclipse.jetty.io.ssl.SslConnection$DecryptedEndPoint.onFillable(SslConnection.java:555)",
        "\tat org.eclipse.jetty.io.ssl.SslConnection.onFillable(SslConnection.java:410)",
        "\tat org.eclipse.jetty.io.ssl.SslConnection$2.succeeded(SslConnection.java:164)",
        "\tat org.eclipse.jetty.io.FillInterest.fillable(FillInterest.java:105)",
        "\tat org.eclipse.jetty.io.ChannelEndPoint$1.run(ChannelEndPoint.java:104)",
        "\tat org.eclipse.jetty.util.thread.strategy.EatWhatYouKill.runTask(EatWhatYouKill.java:338)",
        "\tat org.eclipse.jetty.util.thread.strategy.EatWhatYouKill.doProduce(EatWhatYouKill.java:315)",
        "\tat org.eclipse.jetty.util.thread.strategy.EatWhatYouKill.tryProduce(EatWhatYouKill.java:173)",
        "\tat org.eclipse.jetty.util.thread.strategy.EatWhatYouKill.run(EatWhatYouKill.java:131)",
        "\tat org.eclipse.jetty.util.thread.ReservedThreadExecutor$ReservedThread.run(ReservedThreadExecutor.java:409)",
        "\tat com.databricks.rpc.InstrumentedQueuedThreadPool$$anon$1.$anonfun$run$4(InstrumentedQueuedThreadPool.scala:104)",
        "\tat scala.runtime.java8.JFunction0$mcV$sp.apply(JFunction0$mcV$sp.java:23)",
        "\tat com.databricks.logging.UsageLogging.withAttributionContext(UsageLogging.scala:420)",
        "\tat com.databricks.logging.UsageLogging.withAttributionContext$(UsageLogging.scala:418)",
        "\tat com.databricks.rpc.InstrumentedQueuedThreadPool.withAttributionContext(InstrumentedQueuedThreadPool.scala:47)",
        "\tat com.databricks.rpc.InstrumentedQueuedThreadPool$$anon$1.$anonfun$run$1(InstrumentedQueuedThreadPool.scala:104)",
        "\tat scala.runtime.java8.JFunction0$mcV$sp.apply(JFunction0$mcV$sp.java:23)",
        "\tat com.databricks.instrumentation.QueuedThreadPoolInstrumenter.trackActiveThreads(QueuedThreadPoolInstrumenter.scala:66)",
        "\tat com.databricks.instrumentation.QueuedThreadPoolInstrumenter.trackActiveThreads$(QueuedThreadPoolInstrumenter.scala:63)",
        "\tat com.databricks.rpc.InstrumentedQueuedThreadPool.trackActiveThreads(InstrumentedQueuedThreadPool.scala:47)",
        "\tat com.databricks.rpc.InstrumentedQueuedThreadPool$$anon$1.run(InstrumentedQueuedThreadPool.scala:86)",
        "\tat org.eclipse.jetty.util.thread.QueuedThreadPool.runJob(QueuedThreadPool.java:883)",
        "\tat org.eclipse.jetty.util.thread.QueuedThreadPool$Runner.run(QueuedThreadPool.java:1034)",
        "\tat java.lang.Thread.run(Thread.java:750)"
       ],
       "type": "baseError"
      }
     },
     "output_type": "display_data"
    }
   ],
   "source": [
    "import torch.nn as nn"
   ]
  },
  {
   "cell_type": "code",
   "execution_count": 0,
   "metadata": {
    "application/vnd.databricks.v1+cell": {
     "cellMetadata": {
      "byteLimit": 2048000,
      "rowLimit": 10000
     },
     "inputWidgets": {},
     "nuid": "d2622f84-42bc-4ca2-b031-44703fa1cc3d",
     "showTitle": false,
     "tableResultSettingsMap": {},
     "title": ""
    }
   },
   "outputs": [
    {
     "output_type": "display_data",
     "data": {
      "text/plain": [
       "com.databricks.backend.common.rpc.CommandSkippedException\n",
       "\tat com.databricks.spark.chauffeur.SequenceExecutionState.$anonfun$cancel$3(SequenceExecutionState.scala:138)\n",
       "\tat com.databricks.spark.chauffeur.SequenceExecutionState.$anonfun$cancel$3$adapted(SequenceExecutionState.scala:133)\n",
       "\tat scala.collection.immutable.Range.foreach(Range.scala:158)\n",
       "\tat com.databricks.spark.chauffeur.SequenceExecutionState.cancel(SequenceExecutionState.scala:133)\n",
       "\tat com.databricks.spark.chauffeur.ExecContextState.cancelRunningSequence(ExecContextState.scala:730)\n",
       "\tat com.databricks.spark.chauffeur.ExecContextState.$anonfun$cancel$1(ExecContextState.scala:448)\n",
       "\tat scala.Option.getOrElse(Option.scala:189)\n",
       "\tat com.databricks.spark.chauffeur.ExecContextState.cancel(ExecContextState.scala:448)\n",
       "\tat com.databricks.spark.chauffeur.ChauffeurState.cancelExecution(ChauffeurState.scala:1315)\n",
       "\tat com.databricks.spark.chauffeur.ChauffeurState.$anonfun$process$1(ChauffeurState.scala:1032)\n",
       "\tat com.databricks.logging.UsageLogging.$anonfun$recordOperation$1(UsageLogging.scala:573)\n",
       "\tat com.databricks.logging.UsageLogging.executeThunkAndCaptureResultTags$1(UsageLogging.scala:669)\n",
       "\tat com.databricks.logging.UsageLogging.$anonfun$recordOperationWithResultTags$4(UsageLogging.scala:687)\n",
       "\tat com.databricks.logging.UsageLogging.$anonfun$withAttributionContext$1(UsageLogging.scala:426)\n",
       "\tat scala.util.DynamicVariable.withValue(DynamicVariable.scala:62)\n",
       "\tat com.databricks.logging.AttributionContext$.withValue(AttributionContext.scala:216)\n",
       "\tat com.databricks.logging.UsageLogging.withAttributionContext(UsageLogging.scala:424)\n",
       "\tat com.databricks.logging.UsageLogging.withAttributionContext$(UsageLogging.scala:418)\n",
       "\tat com.databricks.spark.chauffeur.ChauffeurState.withAttributionContext(ChauffeurState.scala:74)\n",
       "\tat com.databricks.logging.UsageLogging.withAttributionTags(UsageLogging.scala:472)\n",
       "\tat com.databricks.logging.UsageLogging.withAttributionTags$(UsageLogging.scala:455)\n",
       "\tat com.databricks.spark.chauffeur.ChauffeurState.withAttributionTags(ChauffeurState.scala:74)\n",
       "\tat com.databricks.logging.UsageLogging.recordOperationWithResultTags(UsageLogging.scala:664)\n",
       "\tat com.databricks.logging.UsageLogging.recordOperationWithResultTags$(UsageLogging.scala:582)\n",
       "\tat com.databricks.spark.chauffeur.ChauffeurState.recordOperationWithResultTags(ChauffeurState.scala:74)\n",
       "\tat com.databricks.logging.UsageLogging.recordOperation(UsageLogging.scala:573)\n",
       "\tat com.databricks.logging.UsageLogging.recordOperation$(UsageLogging.scala:542)\n",
       "\tat com.databricks.spark.chauffeur.ChauffeurState.recordOperation(ChauffeurState.scala:74)\n",
       "\tat com.databricks.spark.chauffeur.ChauffeurState.process(ChauffeurState.scala:993)\n",
       "\tat com.databricks.spark.chauffeur.Chauffeur$$anon$1$$anonfun$receive$1.handleDriverRequest$1(Chauffeur.scala:815)\n",
       "\tat com.databricks.spark.chauffeur.Chauffeur$$anon$1$$anonfun$receive$1.$anonfun$applyOrElse$5(Chauffeur.scala:841)\n",
       "\tat com.databricks.logging.UsageLogging.executeThunkAndCaptureResultTags$1(UsageLogging.scala:669)\n",
       "\tat com.databricks.logging.UsageLogging.$anonfun$recordOperationWithResultTags$4(UsageLogging.scala:687)\n",
       "\tat com.databricks.logging.UsageLogging.$anonfun$withAttributionContext$1(UsageLogging.scala:426)\n",
       "\tat scala.util.DynamicVariable.withValue(DynamicVariable.scala:62)\n",
       "\tat com.databricks.logging.AttributionContext$.withValue(AttributionContext.scala:216)\n",
       "\tat com.databricks.logging.UsageLogging.withAttributionContext(UsageLogging.scala:424)\n",
       "\tat com.databricks.logging.UsageLogging.withAttributionContext$(UsageLogging.scala:418)\n",
       "\tat com.databricks.rpc.ServerBackend.withAttributionContext(ServerBackend.scala:22)\n",
       "\tat com.databricks.logging.UsageLogging.withAttributionTags(UsageLogging.scala:472)\n",
       "\tat com.databricks.logging.UsageLogging.withAttributionTags$(UsageLogging.scala:455)\n",
       "\tat com.databricks.rpc.ServerBackend.withAttributionTags(ServerBackend.scala:22)\n",
       "\tat com.databricks.logging.UsageLogging.recordOperationWithResultTags(UsageLogging.scala:664)\n",
       "\tat com.databricks.logging.UsageLogging.recordOperationWithResultTags$(UsageLogging.scala:582)\n",
       "\tat com.databricks.rpc.ServerBackend.recordOperationWithResultTags(ServerBackend.scala:22)\n",
       "\tat com.databricks.spark.chauffeur.Chauffeur$$anon$1$$anonfun$receive$1.handleDriverRequestWithUsageLogging$1(Chauffeur.scala:840)\n",
       "\tat com.databricks.spark.chauffeur.Chauffeur$$anon$1$$anonfun$receive$1.applyOrElse(Chauffeur.scala:895)\n",
       "\tat com.databricks.spark.chauffeur.Chauffeur$$anon$1$$anonfun$receive$1.applyOrElse(Chauffeur.scala:688)\n",
       "\tat com.databricks.rpc.ServerBackend.$anonfun$internalReceive0$2(ServerBackend.scala:174)\n",
       "\tat com.databricks.rpc.ServerBackend$$anonfun$commonReceive$1.applyOrElse(ServerBackend.scala:200)\n",
       "\tat com.databricks.rpc.ServerBackend$$anonfun$commonReceive$1.applyOrElse(ServerBackend.scala:200)\n",
       "\tat com.databricks.rpc.ServerBackend.internalReceive0(ServerBackend.scala:171)\n",
       "\tat com.databricks.rpc.ServerBackend.$anonfun$internalReceive$1(ServerBackend.scala:147)\n",
       "\tat com.databricks.logging.UsageLogging.$anonfun$recordOperation$1(UsageLogging.scala:573)\n",
       "\tat com.databricks.logging.UsageLogging.executeThunkAndCaptureResultTags$1(UsageLogging.scala:669)\n",
       "\tat com.databricks.logging.UsageLogging.$anonfun$recordOperationWithResultTags$4(UsageLogging.scala:687)\n",
       "\tat com.databricks.logging.UsageLogging.$anonfun$withAttributionContext$1(UsageLogging.scala:426)\n",
       "\tat scala.util.DynamicVariable.withValue(DynamicVariable.scala:62)\n",
       "\tat com.databricks.logging.AttributionContext$.withValue(AttributionContext.scala:216)\n",
       "\tat com.databricks.logging.UsageLogging.withAttributionContext(UsageLogging.scala:424)\n",
       "\tat com.databricks.logging.UsageLogging.withAttributionContext$(UsageLogging.scala:418)\n",
       "\tat com.databricks.rpc.ServerBackend.withAttributionContext(ServerBackend.scala:22)\n",
       "\tat com.databricks.logging.UsageLogging.withAttributionTags(UsageLogging.scala:472)\n",
       "\tat com.databricks.logging.UsageLogging.withAttributionTags$(UsageLogging.scala:455)\n",
       "\tat com.databricks.rpc.ServerBackend.withAttributionTags(ServerBackend.scala:22)\n",
       "\tat com.databricks.logging.UsageLogging.recordOperationWithResultTags(UsageLogging.scala:664)\n",
       "\tat com.databricks.logging.UsageLogging.recordOperationWithResultTags$(UsageLogging.scala:582)\n",
       "\tat com.databricks.rpc.ServerBackend.recordOperationWithResultTags(ServerBackend.scala:22)\n",
       "\tat com.databricks.logging.UsageLogging.recordOperation(UsageLogging.scala:573)\n",
       "\tat com.databricks.logging.UsageLogging.recordOperation$(UsageLogging.scala:542)\n",
       "\tat com.databricks.rpc.ServerBackend.recordOperation(ServerBackend.scala:22)\n",
       "\tat com.databricks.rpc.ServerBackend.internalReceive(ServerBackend.scala:147)\n",
       "\tat com.databricks.rpc.JettyServer$RequestManager.handleRPC(JettyServer.scala:1020)\n",
       "\tat com.databricks.rpc.JettyServer$RequestManager.handleRequestAndRespond(JettyServer.scala:941)\n",
       "\tat com.databricks.rpc.JettyServer$RequestManager.$anonfun$handleHttp$6(JettyServer.scala:545)\n",
       "\tat com.databricks.rpc.JettyServer$RequestManager.$anonfun$handleHttp$6$adapted(JettyServer.scala:514)\n",
       "\tat com.databricks.logging.activity.ActivityContextFactory$.$anonfun$withActivityInternal$4(ActivityContextFactory.scala:405)\n",
       "\tat com.databricks.logging.UsageLogging.$anonfun$withAttributionContext$1(UsageLogging.scala:426)\n",
       "\tat scala.util.DynamicVariable.withValue(DynamicVariable.scala:62)\n",
       "\tat com.databricks.logging.AttributionContext$.withValue(AttributionContext.scala:216)\n",
       "\tat com.databricks.logging.UsageLogging.withAttributionContext(UsageLogging.scala:424)\n",
       "\tat com.databricks.logging.UsageLogging.withAttributionContext$(UsageLogging.scala:418)\n",
       "\tat com.databricks.logging.activity.ActivityContextFactory$.withAttributionContext(ActivityContextFactory.scala:58)\n",
       "\tat com.databricks.logging.activity.ActivityContextFactory$.$anonfun$withActivityInternal$1(ActivityContextFactory.scala:405)\n",
       "\tat com.databricks.context.integrity.IntegrityCheckContext$ThreadLocalStorage$.withValue(IntegrityCheckContext.scala:44)\n",
       "\tat com.databricks.logging.activity.ActivityContextFactory$.withActivityInternal(ActivityContextFactory.scala:380)\n",
       "\tat com.databricks.logging.activity.ActivityContextFactory$.withServiceRequestActivity(ActivityContextFactory.scala:159)\n",
       "\tat com.databricks.rpc.JettyServer$RequestManager.handleHttp(JettyServer.scala:514)\n",
       "\tat com.databricks.rpc.JettyServer$RequestManager.doPost(JettyServer.scala:404)\n",
       "\tat javax.servlet.http.HttpServlet.service(HttpServlet.java:665)\n",
       "\tat com.databricks.rpc.HttpServletWithPatch.service(HttpServletWithPatch.scala:33)\n",
       "\tat javax.servlet.http.HttpServlet.service(HttpServlet.java:750)\n",
       "\tat org.eclipse.jetty.servlet.ServletHolder.handle(ServletHolder.java:799)\n",
       "\tat org.eclipse.jetty.servlet.ServletHandler.doHandle(ServletHandler.java:554)\n",
       "\tat org.eclipse.jetty.server.handler.ScopedHandler.nextScope(ScopedHandler.java:190)\n",
       "\tat org.eclipse.jetty.servlet.ServletHandler.doScope(ServletHandler.java:505)\n",
       "\tat org.eclipse.jetty.server.handler.ScopedHandler.handle(ScopedHandler.java:141)\n",
       "\tat org.eclipse.jetty.server.handler.HandlerWrapper.handle(HandlerWrapper.java:127)\n",
       "\tat org.eclipse.jetty.server.Server.handle(Server.java:516)\n",
       "\tat org.eclipse.jetty.server.HttpChannel.lambda$handle$1(HttpChannel.java:487)\n",
       "\tat org.eclipse.jetty.server.HttpChannel.dispatch(HttpChannel.java:732)\n",
       "\tat org.eclipse.jetty.server.HttpChannel.handle(HttpChannel.java:479)\n",
       "\tat org.eclipse.jetty.server.HttpConnection.onFillable(HttpConnection.java:277)\n",
       "\tat org.eclipse.jetty.io.AbstractConnection$ReadCallback.succeeded(AbstractConnection.java:311)\n",
       "\tat org.eclipse.jetty.io.FillInterest.fillable(FillInterest.java:105)\n",
       "\tat org.eclipse.jetty.io.ssl.SslConnection$DecryptedEndPoint.onFillable(SslConnection.java:555)\n",
       "\tat org.eclipse.jetty.io.ssl.SslConnection.onFillable(SslConnection.java:410)\n",
       "\tat org.eclipse.jetty.io.ssl.SslConnection$2.succeeded(SslConnection.java:164)\n",
       "\tat org.eclipse.jetty.io.FillInterest.fillable(FillInterest.java:105)\n",
       "\tat org.eclipse.jetty.io.ChannelEndPoint$1.run(ChannelEndPoint.java:104)\n",
       "\tat org.eclipse.jetty.util.thread.strategy.EatWhatYouKill.runTask(EatWhatYouKill.java:338)\n",
       "\tat org.eclipse.jetty.util.thread.strategy.EatWhatYouKill.doProduce(EatWhatYouKill.java:315)\n",
       "\tat org.eclipse.jetty.util.thread.strategy.EatWhatYouKill.tryProduce(EatWhatYouKill.java:173)\n",
       "\tat org.eclipse.jetty.util.thread.strategy.EatWhatYouKill.run(EatWhatYouKill.java:131)\n",
       "\tat org.eclipse.jetty.util.thread.ReservedThreadExecutor$ReservedThread.run(ReservedThreadExecutor.java:409)\n",
       "\tat com.databricks.rpc.InstrumentedQueuedThreadPool$$anon$1.$anonfun$run$4(InstrumentedQueuedThreadPool.scala:104)\n",
       "\tat scala.runtime.java8.JFunction0$mcV$sp.apply(JFunction0$mcV$sp.java:23)\n",
       "\tat com.databricks.logging.UsageLogging.withAttributionContext(UsageLogging.scala:420)\n",
       "\tat com.databricks.logging.UsageLogging.withAttributionContext$(UsageLogging.scala:418)\n",
       "\tat com.databricks.rpc.InstrumentedQueuedThreadPool.withAttributionContext(InstrumentedQueuedThreadPool.scala:47)\n",
       "\tat com.databricks.rpc.InstrumentedQueuedThreadPool$$anon$1.$anonfun$run$1(InstrumentedQueuedThreadPool.scala:104)\n",
       "\tat scala.runtime.java8.JFunction0$mcV$sp.apply(JFunction0$mcV$sp.java:23)\n",
       "\tat com.databricks.instrumentation.QueuedThreadPoolInstrumenter.trackActiveThreads(QueuedThreadPoolInstrumenter.scala:66)\n",
       "\tat com.databricks.instrumentation.QueuedThreadPoolInstrumenter.trackActiveThreads$(QueuedThreadPoolInstrumenter.scala:63)\n",
       "\tat com.databricks.rpc.InstrumentedQueuedThreadPool.trackActiveThreads(InstrumentedQueuedThreadPool.scala:47)\n",
       "\tat com.databricks.rpc.InstrumentedQueuedThreadPool$$anon$1.run(InstrumentedQueuedThreadPool.scala:86)\n",
       "\tat org.eclipse.jetty.util.thread.QueuedThreadPool.runJob(QueuedThreadPool.java:883)\n",
       "\tat org.eclipse.jetty.util.thread.QueuedThreadPool$Runner.run(QueuedThreadPool.java:1034)\n",
       "\tat java.lang.Thread.run(Thread.java:750)"
      ]
     },
     "metadata": {
      "application/vnd.databricks.v1+output": {
       "addedWidgets": {},
       "arguments": {},
       "datasetInfos": [],
       "jupyterProps": null,
       "metadata": {
        "errorSummary": "Command skipped"
       },
       "removedWidgets": [],
       "sqlProps": null,
       "stackFrames": [
        "com.databricks.backend.common.rpc.CommandSkippedException",
        "\tat com.databricks.spark.chauffeur.SequenceExecutionState.$anonfun$cancel$3(SequenceExecutionState.scala:138)",
        "\tat com.databricks.spark.chauffeur.SequenceExecutionState.$anonfun$cancel$3$adapted(SequenceExecutionState.scala:133)",
        "\tat scala.collection.immutable.Range.foreach(Range.scala:158)",
        "\tat com.databricks.spark.chauffeur.SequenceExecutionState.cancel(SequenceExecutionState.scala:133)",
        "\tat com.databricks.spark.chauffeur.ExecContextState.cancelRunningSequence(ExecContextState.scala:730)",
        "\tat com.databricks.spark.chauffeur.ExecContextState.$anonfun$cancel$1(ExecContextState.scala:448)",
        "\tat scala.Option.getOrElse(Option.scala:189)",
        "\tat com.databricks.spark.chauffeur.ExecContextState.cancel(ExecContextState.scala:448)",
        "\tat com.databricks.spark.chauffeur.ChauffeurState.cancelExecution(ChauffeurState.scala:1315)",
        "\tat com.databricks.spark.chauffeur.ChauffeurState.$anonfun$process$1(ChauffeurState.scala:1032)",
        "\tat com.databricks.logging.UsageLogging.$anonfun$recordOperation$1(UsageLogging.scala:573)",
        "\tat com.databricks.logging.UsageLogging.executeThunkAndCaptureResultTags$1(UsageLogging.scala:669)",
        "\tat com.databricks.logging.UsageLogging.$anonfun$recordOperationWithResultTags$4(UsageLogging.scala:687)",
        "\tat com.databricks.logging.UsageLogging.$anonfun$withAttributionContext$1(UsageLogging.scala:426)",
        "\tat scala.util.DynamicVariable.withValue(DynamicVariable.scala:62)",
        "\tat com.databricks.logging.AttributionContext$.withValue(AttributionContext.scala:216)",
        "\tat com.databricks.logging.UsageLogging.withAttributionContext(UsageLogging.scala:424)",
        "\tat com.databricks.logging.UsageLogging.withAttributionContext$(UsageLogging.scala:418)",
        "\tat com.databricks.spark.chauffeur.ChauffeurState.withAttributionContext(ChauffeurState.scala:74)",
        "\tat com.databricks.logging.UsageLogging.withAttributionTags(UsageLogging.scala:472)",
        "\tat com.databricks.logging.UsageLogging.withAttributionTags$(UsageLogging.scala:455)",
        "\tat com.databricks.spark.chauffeur.ChauffeurState.withAttributionTags(ChauffeurState.scala:74)",
        "\tat com.databricks.logging.UsageLogging.recordOperationWithResultTags(UsageLogging.scala:664)",
        "\tat com.databricks.logging.UsageLogging.recordOperationWithResultTags$(UsageLogging.scala:582)",
        "\tat com.databricks.spark.chauffeur.ChauffeurState.recordOperationWithResultTags(ChauffeurState.scala:74)",
        "\tat com.databricks.logging.UsageLogging.recordOperation(UsageLogging.scala:573)",
        "\tat com.databricks.logging.UsageLogging.recordOperation$(UsageLogging.scala:542)",
        "\tat com.databricks.spark.chauffeur.ChauffeurState.recordOperation(ChauffeurState.scala:74)",
        "\tat com.databricks.spark.chauffeur.ChauffeurState.process(ChauffeurState.scala:993)",
        "\tat com.databricks.spark.chauffeur.Chauffeur$$anon$1$$anonfun$receive$1.handleDriverRequest$1(Chauffeur.scala:815)",
        "\tat com.databricks.spark.chauffeur.Chauffeur$$anon$1$$anonfun$receive$1.$anonfun$applyOrElse$5(Chauffeur.scala:841)",
        "\tat com.databricks.logging.UsageLogging.executeThunkAndCaptureResultTags$1(UsageLogging.scala:669)",
        "\tat com.databricks.logging.UsageLogging.$anonfun$recordOperationWithResultTags$4(UsageLogging.scala:687)",
        "\tat com.databricks.logging.UsageLogging.$anonfun$withAttributionContext$1(UsageLogging.scala:426)",
        "\tat scala.util.DynamicVariable.withValue(DynamicVariable.scala:62)",
        "\tat com.databricks.logging.AttributionContext$.withValue(AttributionContext.scala:216)",
        "\tat com.databricks.logging.UsageLogging.withAttributionContext(UsageLogging.scala:424)",
        "\tat com.databricks.logging.UsageLogging.withAttributionContext$(UsageLogging.scala:418)",
        "\tat com.databricks.rpc.ServerBackend.withAttributionContext(ServerBackend.scala:22)",
        "\tat com.databricks.logging.UsageLogging.withAttributionTags(UsageLogging.scala:472)",
        "\tat com.databricks.logging.UsageLogging.withAttributionTags$(UsageLogging.scala:455)",
        "\tat com.databricks.rpc.ServerBackend.withAttributionTags(ServerBackend.scala:22)",
        "\tat com.databricks.logging.UsageLogging.recordOperationWithResultTags(UsageLogging.scala:664)",
        "\tat com.databricks.logging.UsageLogging.recordOperationWithResultTags$(UsageLogging.scala:582)",
        "\tat com.databricks.rpc.ServerBackend.recordOperationWithResultTags(ServerBackend.scala:22)",
        "\tat com.databricks.spark.chauffeur.Chauffeur$$anon$1$$anonfun$receive$1.handleDriverRequestWithUsageLogging$1(Chauffeur.scala:840)",
        "\tat com.databricks.spark.chauffeur.Chauffeur$$anon$1$$anonfun$receive$1.applyOrElse(Chauffeur.scala:895)",
        "\tat com.databricks.spark.chauffeur.Chauffeur$$anon$1$$anonfun$receive$1.applyOrElse(Chauffeur.scala:688)",
        "\tat com.databricks.rpc.ServerBackend.$anonfun$internalReceive0$2(ServerBackend.scala:174)",
        "\tat com.databricks.rpc.ServerBackend$$anonfun$commonReceive$1.applyOrElse(ServerBackend.scala:200)",
        "\tat com.databricks.rpc.ServerBackend$$anonfun$commonReceive$1.applyOrElse(ServerBackend.scala:200)",
        "\tat com.databricks.rpc.ServerBackend.internalReceive0(ServerBackend.scala:171)",
        "\tat com.databricks.rpc.ServerBackend.$anonfun$internalReceive$1(ServerBackend.scala:147)",
        "\tat com.databricks.logging.UsageLogging.$anonfun$recordOperation$1(UsageLogging.scala:573)",
        "\tat com.databricks.logging.UsageLogging.executeThunkAndCaptureResultTags$1(UsageLogging.scala:669)",
        "\tat com.databricks.logging.UsageLogging.$anonfun$recordOperationWithResultTags$4(UsageLogging.scala:687)",
        "\tat com.databricks.logging.UsageLogging.$anonfun$withAttributionContext$1(UsageLogging.scala:426)",
        "\tat scala.util.DynamicVariable.withValue(DynamicVariable.scala:62)",
        "\tat com.databricks.logging.AttributionContext$.withValue(AttributionContext.scala:216)",
        "\tat com.databricks.logging.UsageLogging.withAttributionContext(UsageLogging.scala:424)",
        "\tat com.databricks.logging.UsageLogging.withAttributionContext$(UsageLogging.scala:418)",
        "\tat com.databricks.rpc.ServerBackend.withAttributionContext(ServerBackend.scala:22)",
        "\tat com.databricks.logging.UsageLogging.withAttributionTags(UsageLogging.scala:472)",
        "\tat com.databricks.logging.UsageLogging.withAttributionTags$(UsageLogging.scala:455)",
        "\tat com.databricks.rpc.ServerBackend.withAttributionTags(ServerBackend.scala:22)",
        "\tat com.databricks.logging.UsageLogging.recordOperationWithResultTags(UsageLogging.scala:664)",
        "\tat com.databricks.logging.UsageLogging.recordOperationWithResultTags$(UsageLogging.scala:582)",
        "\tat com.databricks.rpc.ServerBackend.recordOperationWithResultTags(ServerBackend.scala:22)",
        "\tat com.databricks.logging.UsageLogging.recordOperation(UsageLogging.scala:573)",
        "\tat com.databricks.logging.UsageLogging.recordOperation$(UsageLogging.scala:542)",
        "\tat com.databricks.rpc.ServerBackend.recordOperation(ServerBackend.scala:22)",
        "\tat com.databricks.rpc.ServerBackend.internalReceive(ServerBackend.scala:147)",
        "\tat com.databricks.rpc.JettyServer$RequestManager.handleRPC(JettyServer.scala:1020)",
        "\tat com.databricks.rpc.JettyServer$RequestManager.handleRequestAndRespond(JettyServer.scala:941)",
        "\tat com.databricks.rpc.JettyServer$RequestManager.$anonfun$handleHttp$6(JettyServer.scala:545)",
        "\tat com.databricks.rpc.JettyServer$RequestManager.$anonfun$handleHttp$6$adapted(JettyServer.scala:514)",
        "\tat com.databricks.logging.activity.ActivityContextFactory$.$anonfun$withActivityInternal$4(ActivityContextFactory.scala:405)",
        "\tat com.databricks.logging.UsageLogging.$anonfun$withAttributionContext$1(UsageLogging.scala:426)",
        "\tat scala.util.DynamicVariable.withValue(DynamicVariable.scala:62)",
        "\tat com.databricks.logging.AttributionContext$.withValue(AttributionContext.scala:216)",
        "\tat com.databricks.logging.UsageLogging.withAttributionContext(UsageLogging.scala:424)",
        "\tat com.databricks.logging.UsageLogging.withAttributionContext$(UsageLogging.scala:418)",
        "\tat com.databricks.logging.activity.ActivityContextFactory$.withAttributionContext(ActivityContextFactory.scala:58)",
        "\tat com.databricks.logging.activity.ActivityContextFactory$.$anonfun$withActivityInternal$1(ActivityContextFactory.scala:405)",
        "\tat com.databricks.context.integrity.IntegrityCheckContext$ThreadLocalStorage$.withValue(IntegrityCheckContext.scala:44)",
        "\tat com.databricks.logging.activity.ActivityContextFactory$.withActivityInternal(ActivityContextFactory.scala:380)",
        "\tat com.databricks.logging.activity.ActivityContextFactory$.withServiceRequestActivity(ActivityContextFactory.scala:159)",
        "\tat com.databricks.rpc.JettyServer$RequestManager.handleHttp(JettyServer.scala:514)",
        "\tat com.databricks.rpc.JettyServer$RequestManager.doPost(JettyServer.scala:404)",
        "\tat javax.servlet.http.HttpServlet.service(HttpServlet.java:665)",
        "\tat com.databricks.rpc.HttpServletWithPatch.service(HttpServletWithPatch.scala:33)",
        "\tat javax.servlet.http.HttpServlet.service(HttpServlet.java:750)",
        "\tat org.eclipse.jetty.servlet.ServletHolder.handle(ServletHolder.java:799)",
        "\tat org.eclipse.jetty.servlet.ServletHandler.doHandle(ServletHandler.java:554)",
        "\tat org.eclipse.jetty.server.handler.ScopedHandler.nextScope(ScopedHandler.java:190)",
        "\tat org.eclipse.jetty.servlet.ServletHandler.doScope(ServletHandler.java:505)",
        "\tat org.eclipse.jetty.server.handler.ScopedHandler.handle(ScopedHandler.java:141)",
        "\tat org.eclipse.jetty.server.handler.HandlerWrapper.handle(HandlerWrapper.java:127)",
        "\tat org.eclipse.jetty.server.Server.handle(Server.java:516)",
        "\tat org.eclipse.jetty.server.HttpChannel.lambda$handle$1(HttpChannel.java:487)",
        "\tat org.eclipse.jetty.server.HttpChannel.dispatch(HttpChannel.java:732)",
        "\tat org.eclipse.jetty.server.HttpChannel.handle(HttpChannel.java:479)",
        "\tat org.eclipse.jetty.server.HttpConnection.onFillable(HttpConnection.java:277)",
        "\tat org.eclipse.jetty.io.AbstractConnection$ReadCallback.succeeded(AbstractConnection.java:311)",
        "\tat org.eclipse.jetty.io.FillInterest.fillable(FillInterest.java:105)",
        "\tat org.eclipse.jetty.io.ssl.SslConnection$DecryptedEndPoint.onFillable(SslConnection.java:555)",
        "\tat org.eclipse.jetty.io.ssl.SslConnection.onFillable(SslConnection.java:410)",
        "\tat org.eclipse.jetty.io.ssl.SslConnection$2.succeeded(SslConnection.java:164)",
        "\tat org.eclipse.jetty.io.FillInterest.fillable(FillInterest.java:105)",
        "\tat org.eclipse.jetty.io.ChannelEndPoint$1.run(ChannelEndPoint.java:104)",
        "\tat org.eclipse.jetty.util.thread.strategy.EatWhatYouKill.runTask(EatWhatYouKill.java:338)",
        "\tat org.eclipse.jetty.util.thread.strategy.EatWhatYouKill.doProduce(EatWhatYouKill.java:315)",
        "\tat org.eclipse.jetty.util.thread.strategy.EatWhatYouKill.tryProduce(EatWhatYouKill.java:173)",
        "\tat org.eclipse.jetty.util.thread.strategy.EatWhatYouKill.run(EatWhatYouKill.java:131)",
        "\tat org.eclipse.jetty.util.thread.ReservedThreadExecutor$ReservedThread.run(ReservedThreadExecutor.java:409)",
        "\tat com.databricks.rpc.InstrumentedQueuedThreadPool$$anon$1.$anonfun$run$4(InstrumentedQueuedThreadPool.scala:104)",
        "\tat scala.runtime.java8.JFunction0$mcV$sp.apply(JFunction0$mcV$sp.java:23)",
        "\tat com.databricks.logging.UsageLogging.withAttributionContext(UsageLogging.scala:420)",
        "\tat com.databricks.logging.UsageLogging.withAttributionContext$(UsageLogging.scala:418)",
        "\tat com.databricks.rpc.InstrumentedQueuedThreadPool.withAttributionContext(InstrumentedQueuedThreadPool.scala:47)",
        "\tat com.databricks.rpc.InstrumentedQueuedThreadPool$$anon$1.$anonfun$run$1(InstrumentedQueuedThreadPool.scala:104)",
        "\tat scala.runtime.java8.JFunction0$mcV$sp.apply(JFunction0$mcV$sp.java:23)",
        "\tat com.databricks.instrumentation.QueuedThreadPoolInstrumenter.trackActiveThreads(QueuedThreadPoolInstrumenter.scala:66)",
        "\tat com.databricks.instrumentation.QueuedThreadPoolInstrumenter.trackActiveThreads$(QueuedThreadPoolInstrumenter.scala:63)",
        "\tat com.databricks.rpc.InstrumentedQueuedThreadPool.trackActiveThreads(InstrumentedQueuedThreadPool.scala:47)",
        "\tat com.databricks.rpc.InstrumentedQueuedThreadPool$$anon$1.run(InstrumentedQueuedThreadPool.scala:86)",
        "\tat org.eclipse.jetty.util.thread.QueuedThreadPool.runJob(QueuedThreadPool.java:883)",
        "\tat org.eclipse.jetty.util.thread.QueuedThreadPool$Runner.run(QueuedThreadPool.java:1034)",
        "\tat java.lang.Thread.run(Thread.java:750)"
       ],
       "type": "baseError"
      }
     },
     "output_type": "display_data"
    }
   ],
   "source": [
    "nn.functional.softmax(torch.tensor(a*0.01), dim=0).sort(descending=True)[0]"
   ]
  },
  {
   "cell_type": "code",
   "execution_count": 0,
   "metadata": {
    "application/vnd.databricks.v1+cell": {
     "cellMetadata": {
      "byteLimit": 2048000,
      "rowLimit": 10000
     },
     "inputWidgets": {},
     "nuid": "e0dfc7d2-2966-4870-b2b5-25ccde7aa852",
     "showTitle": false,
     "tableResultSettingsMap": {},
     "title": ""
    }
   },
   "outputs": [
    {
     "output_type": "display_data",
     "data": {
      "text/plain": [
       "com.databricks.backend.common.rpc.CommandSkippedException\n",
       "\tat com.databricks.spark.chauffeur.SequenceExecutionState.$anonfun$cancel$3(SequenceExecutionState.scala:138)\n",
       "\tat com.databricks.spark.chauffeur.SequenceExecutionState.$anonfun$cancel$3$adapted(SequenceExecutionState.scala:133)\n",
       "\tat scala.collection.immutable.Range.foreach(Range.scala:158)\n",
       "\tat com.databricks.spark.chauffeur.SequenceExecutionState.cancel(SequenceExecutionState.scala:133)\n",
       "\tat com.databricks.spark.chauffeur.ExecContextState.cancelRunningSequence(ExecContextState.scala:730)\n",
       "\tat com.databricks.spark.chauffeur.ExecContextState.$anonfun$cancel$1(ExecContextState.scala:448)\n",
       "\tat scala.Option.getOrElse(Option.scala:189)\n",
       "\tat com.databricks.spark.chauffeur.ExecContextState.cancel(ExecContextState.scala:448)\n",
       "\tat com.databricks.spark.chauffeur.ChauffeurState.cancelExecution(ChauffeurState.scala:1315)\n",
       "\tat com.databricks.spark.chauffeur.ChauffeurState.$anonfun$process$1(ChauffeurState.scala:1032)\n",
       "\tat com.databricks.logging.UsageLogging.$anonfun$recordOperation$1(UsageLogging.scala:573)\n",
       "\tat com.databricks.logging.UsageLogging.executeThunkAndCaptureResultTags$1(UsageLogging.scala:669)\n",
       "\tat com.databricks.logging.UsageLogging.$anonfun$recordOperationWithResultTags$4(UsageLogging.scala:687)\n",
       "\tat com.databricks.logging.UsageLogging.$anonfun$withAttributionContext$1(UsageLogging.scala:426)\n",
       "\tat scala.util.DynamicVariable.withValue(DynamicVariable.scala:62)\n",
       "\tat com.databricks.logging.AttributionContext$.withValue(AttributionContext.scala:216)\n",
       "\tat com.databricks.logging.UsageLogging.withAttributionContext(UsageLogging.scala:424)\n",
       "\tat com.databricks.logging.UsageLogging.withAttributionContext$(UsageLogging.scala:418)\n",
       "\tat com.databricks.spark.chauffeur.ChauffeurState.withAttributionContext(ChauffeurState.scala:74)\n",
       "\tat com.databricks.logging.UsageLogging.withAttributionTags(UsageLogging.scala:472)\n",
       "\tat com.databricks.logging.UsageLogging.withAttributionTags$(UsageLogging.scala:455)\n",
       "\tat com.databricks.spark.chauffeur.ChauffeurState.withAttributionTags(ChauffeurState.scala:74)\n",
       "\tat com.databricks.logging.UsageLogging.recordOperationWithResultTags(UsageLogging.scala:664)\n",
       "\tat com.databricks.logging.UsageLogging.recordOperationWithResultTags$(UsageLogging.scala:582)\n",
       "\tat com.databricks.spark.chauffeur.ChauffeurState.recordOperationWithResultTags(ChauffeurState.scala:74)\n",
       "\tat com.databricks.logging.UsageLogging.recordOperation(UsageLogging.scala:573)\n",
       "\tat com.databricks.logging.UsageLogging.recordOperation$(UsageLogging.scala:542)\n",
       "\tat com.databricks.spark.chauffeur.ChauffeurState.recordOperation(ChauffeurState.scala:74)\n",
       "\tat com.databricks.spark.chauffeur.ChauffeurState.process(ChauffeurState.scala:993)\n",
       "\tat com.databricks.spark.chauffeur.Chauffeur$$anon$1$$anonfun$receive$1.handleDriverRequest$1(Chauffeur.scala:815)\n",
       "\tat com.databricks.spark.chauffeur.Chauffeur$$anon$1$$anonfun$receive$1.$anonfun$applyOrElse$5(Chauffeur.scala:841)\n",
       "\tat com.databricks.logging.UsageLogging.executeThunkAndCaptureResultTags$1(UsageLogging.scala:669)\n",
       "\tat com.databricks.logging.UsageLogging.$anonfun$recordOperationWithResultTags$4(UsageLogging.scala:687)\n",
       "\tat com.databricks.logging.UsageLogging.$anonfun$withAttributionContext$1(UsageLogging.scala:426)\n",
       "\tat scala.util.DynamicVariable.withValue(DynamicVariable.scala:62)\n",
       "\tat com.databricks.logging.AttributionContext$.withValue(AttributionContext.scala:216)\n",
       "\tat com.databricks.logging.UsageLogging.withAttributionContext(UsageLogging.scala:424)\n",
       "\tat com.databricks.logging.UsageLogging.withAttributionContext$(UsageLogging.scala:418)\n",
       "\tat com.databricks.rpc.ServerBackend.withAttributionContext(ServerBackend.scala:22)\n",
       "\tat com.databricks.logging.UsageLogging.withAttributionTags(UsageLogging.scala:472)\n",
       "\tat com.databricks.logging.UsageLogging.withAttributionTags$(UsageLogging.scala:455)\n",
       "\tat com.databricks.rpc.ServerBackend.withAttributionTags(ServerBackend.scala:22)\n",
       "\tat com.databricks.logging.UsageLogging.recordOperationWithResultTags(UsageLogging.scala:664)\n",
       "\tat com.databricks.logging.UsageLogging.recordOperationWithResultTags$(UsageLogging.scala:582)\n",
       "\tat com.databricks.rpc.ServerBackend.recordOperationWithResultTags(ServerBackend.scala:22)\n",
       "\tat com.databricks.spark.chauffeur.Chauffeur$$anon$1$$anonfun$receive$1.handleDriverRequestWithUsageLogging$1(Chauffeur.scala:840)\n",
       "\tat com.databricks.spark.chauffeur.Chauffeur$$anon$1$$anonfun$receive$1.applyOrElse(Chauffeur.scala:895)\n",
       "\tat com.databricks.spark.chauffeur.Chauffeur$$anon$1$$anonfun$receive$1.applyOrElse(Chauffeur.scala:688)\n",
       "\tat com.databricks.rpc.ServerBackend.$anonfun$internalReceive0$2(ServerBackend.scala:174)\n",
       "\tat com.databricks.rpc.ServerBackend$$anonfun$commonReceive$1.applyOrElse(ServerBackend.scala:200)\n",
       "\tat com.databricks.rpc.ServerBackend$$anonfun$commonReceive$1.applyOrElse(ServerBackend.scala:200)\n",
       "\tat com.databricks.rpc.ServerBackend.internalReceive0(ServerBackend.scala:171)\n",
       "\tat com.databricks.rpc.ServerBackend.$anonfun$internalReceive$1(ServerBackend.scala:147)\n",
       "\tat com.databricks.logging.UsageLogging.$anonfun$recordOperation$1(UsageLogging.scala:573)\n",
       "\tat com.databricks.logging.UsageLogging.executeThunkAndCaptureResultTags$1(UsageLogging.scala:669)\n",
       "\tat com.databricks.logging.UsageLogging.$anonfun$recordOperationWithResultTags$4(UsageLogging.scala:687)\n",
       "\tat com.databricks.logging.UsageLogging.$anonfun$withAttributionContext$1(UsageLogging.scala:426)\n",
       "\tat scala.util.DynamicVariable.withValue(DynamicVariable.scala:62)\n",
       "\tat com.databricks.logging.AttributionContext$.withValue(AttributionContext.scala:216)\n",
       "\tat com.databricks.logging.UsageLogging.withAttributionContext(UsageLogging.scala:424)\n",
       "\tat com.databricks.logging.UsageLogging.withAttributionContext$(UsageLogging.scala:418)\n",
       "\tat com.databricks.rpc.ServerBackend.withAttributionContext(ServerBackend.scala:22)\n",
       "\tat com.databricks.logging.UsageLogging.withAttributionTags(UsageLogging.scala:472)\n",
       "\tat com.databricks.logging.UsageLogging.withAttributionTags$(UsageLogging.scala:455)\n",
       "\tat com.databricks.rpc.ServerBackend.withAttributionTags(ServerBackend.scala:22)\n",
       "\tat com.databricks.logging.UsageLogging.recordOperationWithResultTags(UsageLogging.scala:664)\n",
       "\tat com.databricks.logging.UsageLogging.recordOperationWithResultTags$(UsageLogging.scala:582)\n",
       "\tat com.databricks.rpc.ServerBackend.recordOperationWithResultTags(ServerBackend.scala:22)\n",
       "\tat com.databricks.logging.UsageLogging.recordOperation(UsageLogging.scala:573)\n",
       "\tat com.databricks.logging.UsageLogging.recordOperation$(UsageLogging.scala:542)\n",
       "\tat com.databricks.rpc.ServerBackend.recordOperation(ServerBackend.scala:22)\n",
       "\tat com.databricks.rpc.ServerBackend.internalReceive(ServerBackend.scala:147)\n",
       "\tat com.databricks.rpc.JettyServer$RequestManager.handleRPC(JettyServer.scala:1020)\n",
       "\tat com.databricks.rpc.JettyServer$RequestManager.handleRequestAndRespond(JettyServer.scala:941)\n",
       "\tat com.databricks.rpc.JettyServer$RequestManager.$anonfun$handleHttp$6(JettyServer.scala:545)\n",
       "\tat com.databricks.rpc.JettyServer$RequestManager.$anonfun$handleHttp$6$adapted(JettyServer.scala:514)\n",
       "\tat com.databricks.logging.activity.ActivityContextFactory$.$anonfun$withActivityInternal$4(ActivityContextFactory.scala:405)\n",
       "\tat com.databricks.logging.UsageLogging.$anonfun$withAttributionContext$1(UsageLogging.scala:426)\n",
       "\tat scala.util.DynamicVariable.withValue(DynamicVariable.scala:62)\n",
       "\tat com.databricks.logging.AttributionContext$.withValue(AttributionContext.scala:216)\n",
       "\tat com.databricks.logging.UsageLogging.withAttributionContext(UsageLogging.scala:424)\n",
       "\tat com.databricks.logging.UsageLogging.withAttributionContext$(UsageLogging.scala:418)\n",
       "\tat com.databricks.logging.activity.ActivityContextFactory$.withAttributionContext(ActivityContextFactory.scala:58)\n",
       "\tat com.databricks.logging.activity.ActivityContextFactory$.$anonfun$withActivityInternal$1(ActivityContextFactory.scala:405)\n",
       "\tat com.databricks.context.integrity.IntegrityCheckContext$ThreadLocalStorage$.withValue(IntegrityCheckContext.scala:44)\n",
       "\tat com.databricks.logging.activity.ActivityContextFactory$.withActivityInternal(ActivityContextFactory.scala:380)\n",
       "\tat com.databricks.logging.activity.ActivityContextFactory$.withServiceRequestActivity(ActivityContextFactory.scala:159)\n",
       "\tat com.databricks.rpc.JettyServer$RequestManager.handleHttp(JettyServer.scala:514)\n",
       "\tat com.databricks.rpc.JettyServer$RequestManager.doPost(JettyServer.scala:404)\n",
       "\tat javax.servlet.http.HttpServlet.service(HttpServlet.java:665)\n",
       "\tat com.databricks.rpc.HttpServletWithPatch.service(HttpServletWithPatch.scala:33)\n",
       "\tat javax.servlet.http.HttpServlet.service(HttpServlet.java:750)\n",
       "\tat org.eclipse.jetty.servlet.ServletHolder.handle(ServletHolder.java:799)\n",
       "\tat org.eclipse.jetty.servlet.ServletHandler.doHandle(ServletHandler.java:554)\n",
       "\tat org.eclipse.jetty.server.handler.ScopedHandler.nextScope(ScopedHandler.java:190)\n",
       "\tat org.eclipse.jetty.servlet.ServletHandler.doScope(ServletHandler.java:505)\n",
       "\tat org.eclipse.jetty.server.handler.ScopedHandler.handle(ScopedHandler.java:141)\n",
       "\tat org.eclipse.jetty.server.handler.HandlerWrapper.handle(HandlerWrapper.java:127)\n",
       "\tat org.eclipse.jetty.server.Server.handle(Server.java:516)\n",
       "\tat org.eclipse.jetty.server.HttpChannel.lambda$handle$1(HttpChannel.java:487)\n",
       "\tat org.eclipse.jetty.server.HttpChannel.dispatch(HttpChannel.java:732)\n",
       "\tat org.eclipse.jetty.server.HttpChannel.handle(HttpChannel.java:479)\n",
       "\tat org.eclipse.jetty.server.HttpConnection.onFillable(HttpConnection.java:277)\n",
       "\tat org.eclipse.jetty.io.AbstractConnection$ReadCallback.succeeded(AbstractConnection.java:311)\n",
       "\tat org.eclipse.jetty.io.FillInterest.fillable(FillInterest.java:105)\n",
       "\tat org.eclipse.jetty.io.ssl.SslConnection$DecryptedEndPoint.onFillable(SslConnection.java:555)\n",
       "\tat org.eclipse.jetty.io.ssl.SslConnection.onFillable(SslConnection.java:410)\n",
       "\tat org.eclipse.jetty.io.ssl.SslConnection$2.succeeded(SslConnection.java:164)\n",
       "\tat org.eclipse.jetty.io.FillInterest.fillable(FillInterest.java:105)\n",
       "\tat org.eclipse.jetty.io.ChannelEndPoint$1.run(ChannelEndPoint.java:104)\n",
       "\tat org.eclipse.jetty.util.thread.strategy.EatWhatYouKill.runTask(EatWhatYouKill.java:338)\n",
       "\tat org.eclipse.jetty.util.thread.strategy.EatWhatYouKill.doProduce(EatWhatYouKill.java:315)\n",
       "\tat org.eclipse.jetty.util.thread.strategy.EatWhatYouKill.tryProduce(EatWhatYouKill.java:173)\n",
       "\tat org.eclipse.jetty.util.thread.strategy.EatWhatYouKill.run(EatWhatYouKill.java:131)\n",
       "\tat org.eclipse.jetty.util.thread.ReservedThreadExecutor$ReservedThread.run(ReservedThreadExecutor.java:409)\n",
       "\tat com.databricks.rpc.InstrumentedQueuedThreadPool$$anon$1.$anonfun$run$4(InstrumentedQueuedThreadPool.scala:104)\n",
       "\tat scala.runtime.java8.JFunction0$mcV$sp.apply(JFunction0$mcV$sp.java:23)\n",
       "\tat com.databricks.logging.UsageLogging.withAttributionContext(UsageLogging.scala:420)\n",
       "\tat com.databricks.logging.UsageLogging.withAttributionContext$(UsageLogging.scala:418)\n",
       "\tat com.databricks.rpc.InstrumentedQueuedThreadPool.withAttributionContext(InstrumentedQueuedThreadPool.scala:47)\n",
       "\tat com.databricks.rpc.InstrumentedQueuedThreadPool$$anon$1.$anonfun$run$1(InstrumentedQueuedThreadPool.scala:104)\n",
       "\tat scala.runtime.java8.JFunction0$mcV$sp.apply(JFunction0$mcV$sp.java:23)\n",
       "\tat com.databricks.instrumentation.QueuedThreadPoolInstrumenter.trackActiveThreads(QueuedThreadPoolInstrumenter.scala:66)\n",
       "\tat com.databricks.instrumentation.QueuedThreadPoolInstrumenter.trackActiveThreads$(QueuedThreadPoolInstrumenter.scala:63)\n",
       "\tat com.databricks.rpc.InstrumentedQueuedThreadPool.trackActiveThreads(InstrumentedQueuedThreadPool.scala:47)\n",
       "\tat com.databricks.rpc.InstrumentedQueuedThreadPool$$anon$1.run(InstrumentedQueuedThreadPool.scala:86)\n",
       "\tat org.eclipse.jetty.util.thread.QueuedThreadPool.runJob(QueuedThreadPool.java:883)\n",
       "\tat org.eclipse.jetty.util.thread.QueuedThreadPool$Runner.run(QueuedThreadPool.java:1034)\n",
       "\tat java.lang.Thread.run(Thread.java:750)"
      ]
     },
     "metadata": {
      "application/vnd.databricks.v1+output": {
       "addedWidgets": {},
       "arguments": {},
       "datasetInfos": [],
       "jupyterProps": null,
       "metadata": {
        "errorSummary": "Command skipped"
       },
       "removedWidgets": [],
       "sqlProps": null,
       "stackFrames": [
        "com.databricks.backend.common.rpc.CommandSkippedException",
        "\tat com.databricks.spark.chauffeur.SequenceExecutionState.$anonfun$cancel$3(SequenceExecutionState.scala:138)",
        "\tat com.databricks.spark.chauffeur.SequenceExecutionState.$anonfun$cancel$3$adapted(SequenceExecutionState.scala:133)",
        "\tat scala.collection.immutable.Range.foreach(Range.scala:158)",
        "\tat com.databricks.spark.chauffeur.SequenceExecutionState.cancel(SequenceExecutionState.scala:133)",
        "\tat com.databricks.spark.chauffeur.ExecContextState.cancelRunningSequence(ExecContextState.scala:730)",
        "\tat com.databricks.spark.chauffeur.ExecContextState.$anonfun$cancel$1(ExecContextState.scala:448)",
        "\tat scala.Option.getOrElse(Option.scala:189)",
        "\tat com.databricks.spark.chauffeur.ExecContextState.cancel(ExecContextState.scala:448)",
        "\tat com.databricks.spark.chauffeur.ChauffeurState.cancelExecution(ChauffeurState.scala:1315)",
        "\tat com.databricks.spark.chauffeur.ChauffeurState.$anonfun$process$1(ChauffeurState.scala:1032)",
        "\tat com.databricks.logging.UsageLogging.$anonfun$recordOperation$1(UsageLogging.scala:573)",
        "\tat com.databricks.logging.UsageLogging.executeThunkAndCaptureResultTags$1(UsageLogging.scala:669)",
        "\tat com.databricks.logging.UsageLogging.$anonfun$recordOperationWithResultTags$4(UsageLogging.scala:687)",
        "\tat com.databricks.logging.UsageLogging.$anonfun$withAttributionContext$1(UsageLogging.scala:426)",
        "\tat scala.util.DynamicVariable.withValue(DynamicVariable.scala:62)",
        "\tat com.databricks.logging.AttributionContext$.withValue(AttributionContext.scala:216)",
        "\tat com.databricks.logging.UsageLogging.withAttributionContext(UsageLogging.scala:424)",
        "\tat com.databricks.logging.UsageLogging.withAttributionContext$(UsageLogging.scala:418)",
        "\tat com.databricks.spark.chauffeur.ChauffeurState.withAttributionContext(ChauffeurState.scala:74)",
        "\tat com.databricks.logging.UsageLogging.withAttributionTags(UsageLogging.scala:472)",
        "\tat com.databricks.logging.UsageLogging.withAttributionTags$(UsageLogging.scala:455)",
        "\tat com.databricks.spark.chauffeur.ChauffeurState.withAttributionTags(ChauffeurState.scala:74)",
        "\tat com.databricks.logging.UsageLogging.recordOperationWithResultTags(UsageLogging.scala:664)",
        "\tat com.databricks.logging.UsageLogging.recordOperationWithResultTags$(UsageLogging.scala:582)",
        "\tat com.databricks.spark.chauffeur.ChauffeurState.recordOperationWithResultTags(ChauffeurState.scala:74)",
        "\tat com.databricks.logging.UsageLogging.recordOperation(UsageLogging.scala:573)",
        "\tat com.databricks.logging.UsageLogging.recordOperation$(UsageLogging.scala:542)",
        "\tat com.databricks.spark.chauffeur.ChauffeurState.recordOperation(ChauffeurState.scala:74)",
        "\tat com.databricks.spark.chauffeur.ChauffeurState.process(ChauffeurState.scala:993)",
        "\tat com.databricks.spark.chauffeur.Chauffeur$$anon$1$$anonfun$receive$1.handleDriverRequest$1(Chauffeur.scala:815)",
        "\tat com.databricks.spark.chauffeur.Chauffeur$$anon$1$$anonfun$receive$1.$anonfun$applyOrElse$5(Chauffeur.scala:841)",
        "\tat com.databricks.logging.UsageLogging.executeThunkAndCaptureResultTags$1(UsageLogging.scala:669)",
        "\tat com.databricks.logging.UsageLogging.$anonfun$recordOperationWithResultTags$4(UsageLogging.scala:687)",
        "\tat com.databricks.logging.UsageLogging.$anonfun$withAttributionContext$1(UsageLogging.scala:426)",
        "\tat scala.util.DynamicVariable.withValue(DynamicVariable.scala:62)",
        "\tat com.databricks.logging.AttributionContext$.withValue(AttributionContext.scala:216)",
        "\tat com.databricks.logging.UsageLogging.withAttributionContext(UsageLogging.scala:424)",
        "\tat com.databricks.logging.UsageLogging.withAttributionContext$(UsageLogging.scala:418)",
        "\tat com.databricks.rpc.ServerBackend.withAttributionContext(ServerBackend.scala:22)",
        "\tat com.databricks.logging.UsageLogging.withAttributionTags(UsageLogging.scala:472)",
        "\tat com.databricks.logging.UsageLogging.withAttributionTags$(UsageLogging.scala:455)",
        "\tat com.databricks.rpc.ServerBackend.withAttributionTags(ServerBackend.scala:22)",
        "\tat com.databricks.logging.UsageLogging.recordOperationWithResultTags(UsageLogging.scala:664)",
        "\tat com.databricks.logging.UsageLogging.recordOperationWithResultTags$(UsageLogging.scala:582)",
        "\tat com.databricks.rpc.ServerBackend.recordOperationWithResultTags(ServerBackend.scala:22)",
        "\tat com.databricks.spark.chauffeur.Chauffeur$$anon$1$$anonfun$receive$1.handleDriverRequestWithUsageLogging$1(Chauffeur.scala:840)",
        "\tat com.databricks.spark.chauffeur.Chauffeur$$anon$1$$anonfun$receive$1.applyOrElse(Chauffeur.scala:895)",
        "\tat com.databricks.spark.chauffeur.Chauffeur$$anon$1$$anonfun$receive$1.applyOrElse(Chauffeur.scala:688)",
        "\tat com.databricks.rpc.ServerBackend.$anonfun$internalReceive0$2(ServerBackend.scala:174)",
        "\tat com.databricks.rpc.ServerBackend$$anonfun$commonReceive$1.applyOrElse(ServerBackend.scala:200)",
        "\tat com.databricks.rpc.ServerBackend$$anonfun$commonReceive$1.applyOrElse(ServerBackend.scala:200)",
        "\tat com.databricks.rpc.ServerBackend.internalReceive0(ServerBackend.scala:171)",
        "\tat com.databricks.rpc.ServerBackend.$anonfun$internalReceive$1(ServerBackend.scala:147)",
        "\tat com.databricks.logging.UsageLogging.$anonfun$recordOperation$1(UsageLogging.scala:573)",
        "\tat com.databricks.logging.UsageLogging.executeThunkAndCaptureResultTags$1(UsageLogging.scala:669)",
        "\tat com.databricks.logging.UsageLogging.$anonfun$recordOperationWithResultTags$4(UsageLogging.scala:687)",
        "\tat com.databricks.logging.UsageLogging.$anonfun$withAttributionContext$1(UsageLogging.scala:426)",
        "\tat scala.util.DynamicVariable.withValue(DynamicVariable.scala:62)",
        "\tat com.databricks.logging.AttributionContext$.withValue(AttributionContext.scala:216)",
        "\tat com.databricks.logging.UsageLogging.withAttributionContext(UsageLogging.scala:424)",
        "\tat com.databricks.logging.UsageLogging.withAttributionContext$(UsageLogging.scala:418)",
        "\tat com.databricks.rpc.ServerBackend.withAttributionContext(ServerBackend.scala:22)",
        "\tat com.databricks.logging.UsageLogging.withAttributionTags(UsageLogging.scala:472)",
        "\tat com.databricks.logging.UsageLogging.withAttributionTags$(UsageLogging.scala:455)",
        "\tat com.databricks.rpc.ServerBackend.withAttributionTags(ServerBackend.scala:22)",
        "\tat com.databricks.logging.UsageLogging.recordOperationWithResultTags(UsageLogging.scala:664)",
        "\tat com.databricks.logging.UsageLogging.recordOperationWithResultTags$(UsageLogging.scala:582)",
        "\tat com.databricks.rpc.ServerBackend.recordOperationWithResultTags(ServerBackend.scala:22)",
        "\tat com.databricks.logging.UsageLogging.recordOperation(UsageLogging.scala:573)",
        "\tat com.databricks.logging.UsageLogging.recordOperation$(UsageLogging.scala:542)",
        "\tat com.databricks.rpc.ServerBackend.recordOperation(ServerBackend.scala:22)",
        "\tat com.databricks.rpc.ServerBackend.internalReceive(ServerBackend.scala:147)",
        "\tat com.databricks.rpc.JettyServer$RequestManager.handleRPC(JettyServer.scala:1020)",
        "\tat com.databricks.rpc.JettyServer$RequestManager.handleRequestAndRespond(JettyServer.scala:941)",
        "\tat com.databricks.rpc.JettyServer$RequestManager.$anonfun$handleHttp$6(JettyServer.scala:545)",
        "\tat com.databricks.rpc.JettyServer$RequestManager.$anonfun$handleHttp$6$adapted(JettyServer.scala:514)",
        "\tat com.databricks.logging.activity.ActivityContextFactory$.$anonfun$withActivityInternal$4(ActivityContextFactory.scala:405)",
        "\tat com.databricks.logging.UsageLogging.$anonfun$withAttributionContext$1(UsageLogging.scala:426)",
        "\tat scala.util.DynamicVariable.withValue(DynamicVariable.scala:62)",
        "\tat com.databricks.logging.AttributionContext$.withValue(AttributionContext.scala:216)",
        "\tat com.databricks.logging.UsageLogging.withAttributionContext(UsageLogging.scala:424)",
        "\tat com.databricks.logging.UsageLogging.withAttributionContext$(UsageLogging.scala:418)",
        "\tat com.databricks.logging.activity.ActivityContextFactory$.withAttributionContext(ActivityContextFactory.scala:58)",
        "\tat com.databricks.logging.activity.ActivityContextFactory$.$anonfun$withActivityInternal$1(ActivityContextFactory.scala:405)",
        "\tat com.databricks.context.integrity.IntegrityCheckContext$ThreadLocalStorage$.withValue(IntegrityCheckContext.scala:44)",
        "\tat com.databricks.logging.activity.ActivityContextFactory$.withActivityInternal(ActivityContextFactory.scala:380)",
        "\tat com.databricks.logging.activity.ActivityContextFactory$.withServiceRequestActivity(ActivityContextFactory.scala:159)",
        "\tat com.databricks.rpc.JettyServer$RequestManager.handleHttp(JettyServer.scala:514)",
        "\tat com.databricks.rpc.JettyServer$RequestManager.doPost(JettyServer.scala:404)",
        "\tat javax.servlet.http.HttpServlet.service(HttpServlet.java:665)",
        "\tat com.databricks.rpc.HttpServletWithPatch.service(HttpServletWithPatch.scala:33)",
        "\tat javax.servlet.http.HttpServlet.service(HttpServlet.java:750)",
        "\tat org.eclipse.jetty.servlet.ServletHolder.handle(ServletHolder.java:799)",
        "\tat org.eclipse.jetty.servlet.ServletHandler.doHandle(ServletHandler.java:554)",
        "\tat org.eclipse.jetty.server.handler.ScopedHandler.nextScope(ScopedHandler.java:190)",
        "\tat org.eclipse.jetty.servlet.ServletHandler.doScope(ServletHandler.java:505)",
        "\tat org.eclipse.jetty.server.handler.ScopedHandler.handle(ScopedHandler.java:141)",
        "\tat org.eclipse.jetty.server.handler.HandlerWrapper.handle(HandlerWrapper.java:127)",
        "\tat org.eclipse.jetty.server.Server.handle(Server.java:516)",
        "\tat org.eclipse.jetty.server.HttpChannel.lambda$handle$1(HttpChannel.java:487)",
        "\tat org.eclipse.jetty.server.HttpChannel.dispatch(HttpChannel.java:732)",
        "\tat org.eclipse.jetty.server.HttpChannel.handle(HttpChannel.java:479)",
        "\tat org.eclipse.jetty.server.HttpConnection.onFillable(HttpConnection.java:277)",
        "\tat org.eclipse.jetty.io.AbstractConnection$ReadCallback.succeeded(AbstractConnection.java:311)",
        "\tat org.eclipse.jetty.io.FillInterest.fillable(FillInterest.java:105)",
        "\tat org.eclipse.jetty.io.ssl.SslConnection$DecryptedEndPoint.onFillable(SslConnection.java:555)",
        "\tat org.eclipse.jetty.io.ssl.SslConnection.onFillable(SslConnection.java:410)",
        "\tat org.eclipse.jetty.io.ssl.SslConnection$2.succeeded(SslConnection.java:164)",
        "\tat org.eclipse.jetty.io.FillInterest.fillable(FillInterest.java:105)",
        "\tat org.eclipse.jetty.io.ChannelEndPoint$1.run(ChannelEndPoint.java:104)",
        "\tat org.eclipse.jetty.util.thread.strategy.EatWhatYouKill.runTask(EatWhatYouKill.java:338)",
        "\tat org.eclipse.jetty.util.thread.strategy.EatWhatYouKill.doProduce(EatWhatYouKill.java:315)",
        "\tat org.eclipse.jetty.util.thread.strategy.EatWhatYouKill.tryProduce(EatWhatYouKill.java:173)",
        "\tat org.eclipse.jetty.util.thread.strategy.EatWhatYouKill.run(EatWhatYouKill.java:131)",
        "\tat org.eclipse.jetty.util.thread.ReservedThreadExecutor$ReservedThread.run(ReservedThreadExecutor.java:409)",
        "\tat com.databricks.rpc.InstrumentedQueuedThreadPool$$anon$1.$anonfun$run$4(InstrumentedQueuedThreadPool.scala:104)",
        "\tat scala.runtime.java8.JFunction0$mcV$sp.apply(JFunction0$mcV$sp.java:23)",
        "\tat com.databricks.logging.UsageLogging.withAttributionContext(UsageLogging.scala:420)",
        "\tat com.databricks.logging.UsageLogging.withAttributionContext$(UsageLogging.scala:418)",
        "\tat com.databricks.rpc.InstrumentedQueuedThreadPool.withAttributionContext(InstrumentedQueuedThreadPool.scala:47)",
        "\tat com.databricks.rpc.InstrumentedQueuedThreadPool$$anon$1.$anonfun$run$1(InstrumentedQueuedThreadPool.scala:104)",
        "\tat scala.runtime.java8.JFunction0$mcV$sp.apply(JFunction0$mcV$sp.java:23)",
        "\tat com.databricks.instrumentation.QueuedThreadPoolInstrumenter.trackActiveThreads(QueuedThreadPoolInstrumenter.scala:66)",
        "\tat com.databricks.instrumentation.QueuedThreadPoolInstrumenter.trackActiveThreads$(QueuedThreadPoolInstrumenter.scala:63)",
        "\tat com.databricks.rpc.InstrumentedQueuedThreadPool.trackActiveThreads(InstrumentedQueuedThreadPool.scala:47)",
        "\tat com.databricks.rpc.InstrumentedQueuedThreadPool$$anon$1.run(InstrumentedQueuedThreadPool.scala:86)",
        "\tat org.eclipse.jetty.util.thread.QueuedThreadPool.runJob(QueuedThreadPool.java:883)",
        "\tat org.eclipse.jetty.util.thread.QueuedThreadPool$Runner.run(QueuedThreadPool.java:1034)",
        "\tat java.lang.Thread.run(Thread.java:750)"
       ],
       "type": "baseError"
      }
     },
     "output_type": "display_data"
    }
   ],
   "source": [
    "nn.functional.softmax(torch.tensor(a), dim=0).sort(descending=True)[0]"
   ]
  },
  {
   "cell_type": "code",
   "execution_count": 0,
   "metadata": {
    "application/vnd.databricks.v1+cell": {
     "cellMetadata": {
      "byteLimit": 2048000,
      "rowLimit": 10000
     },
     "inputWidgets": {},
     "nuid": "367d06ef-6a96-41d3-bea5-0f266ffd6c5c",
     "showTitle": false,
     "tableResultSettingsMap": {},
     "title": ""
    }
   },
   "outputs": [],
   "source": []
  }
 ],
 "metadata": {
  "application/vnd.databricks.v1+notebook": {
   "computePreferences": null,
   "dashboards": [],
   "environmentMetadata": {
    "base_environment": "",
    "environment_version": "1"
   },
   "inputWidgetPreferences": null,
   "language": "python",
   "notebookMetadata": {
    "mostRecentlyExecutedCommandWithImplicitDF": {
     "commandId": 2552751544604823,
     "dataframes": [
      "_sqldf"
     ]
    },
    "pythonIndentUnit": 4
   },
   "notebookName": "model_analysis(Pinnerformer)",
   "widgets": {}
  },
  "language_info": {
   "name": "python"
  }
 },
 "nbformat": 4,
 "nbformat_minor": 0
}